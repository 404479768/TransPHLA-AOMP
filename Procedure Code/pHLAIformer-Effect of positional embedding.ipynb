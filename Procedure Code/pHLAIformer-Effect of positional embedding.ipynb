{
 "cells": [
  {
   "cell_type": "code",
   "execution_count": 1,
   "metadata": {
    "collapsed": true,
    "scrolled": true
   },
   "outputs": [],
   "source": [
    "import math\n",
    "from sklearn import metrics\n",
    "from sklearn import preprocessing\n",
    "import matplotlib.pyplot as plt\n",
    "import numpy as np\n",
    "import pandas as pd\n",
    "import re\n",
    "import time\n",
    "import datetime\n",
    "import random\n",
    "random.seed(1234)\n",
    "\n",
    "from scipy import interp\n",
    "import warnings\n",
    "warnings.filterwarnings(\"ignore\")\n",
    "\n",
    "from collections import Counter\n",
    "from functools import reduce\n",
    "from tqdm import tqdm, trange\n",
    "from copy import deepcopy\n",
    "\n",
    "from sklearn.metrics import confusion_matrix\n",
    "from sklearn.metrics import roc_auc_score, auc\n",
    "from sklearn.metrics import precision_recall_fscore_support\n",
    "from sklearn.metrics import precision_recall_curve\n",
    "from sklearn.metrics import classification_report\n",
    "from sklearn.utils import class_weight\n",
    "\n",
    "import os\n",
    "import torch\n",
    "import torch.nn as nn\n",
    "import torch.optim as optim\n",
    "import torch.utils.data as Data\n",
    "os.environ['CUDA_VISIBLE_DEVICES'] = '0'"
   ]
  },
  {
   "cell_type": "code",
   "execution_count": 2,
   "metadata": {
    "scrolled": true
   },
   "outputs": [],
   "source": [
    "seed = 19961231\n",
    "random.seed(seed)\n",
    "np.random.seed(seed)\n",
    "torch.manual_seed(seed)\n",
    "torch.cuda.manual_seed(seed)\n",
    "torch.cuda.manual_seed_all(seed)\n",
    "torch.backends.cudnn.benchmark = False\n",
    "torch.backends.cudnn.deterministic = True"
   ]
  },
  {
   "cell_type": "code",
   "execution_count": 3,
   "metadata": {
    "collapsed": true
   },
   "outputs": [],
   "source": [
    "hla_sequence = pd.read_csv('/home/chujunyi/5_ZY_MHC/data/common_hla_sequence.csv')"
   ]
  },
  {
   "cell_type": "code",
   "execution_count": 4,
   "metadata": {
    "collapsed": true
   },
   "outputs": [],
   "source": [
    "def make_data(data):\n",
    "    pep_inputs, hla_inputs, labels = [], [], []\n",
    "    for pep, hla, label in zip(data.peptide, data.HLA_sequence, data.label):\n",
    "        pep, hla = pep.ljust(pep_max_len, '-'), hla.ljust(hla_max_len, '-')\n",
    "        pep_input = [[vocab[n] for n in pep]] # [[1, 2, 3, 4, 0], [1, 2, 3, 5, 0]]\n",
    "        hla_input = [[vocab[n] for n in hla]]\n",
    "        pep_inputs.extend(pep_input)\n",
    "        hla_inputs.extend(hla_input)\n",
    "        labels.append(label)\n",
    "    return torch.LongTensor(pep_inputs), torch.LongTensor(hla_inputs), torch.LongTensor(labels)\n",
    "\n",
    "class MyDataSet(Data.Dataset):\n",
    "    def __init__(self, pep_inputs, hla_inputs, labels):\n",
    "        super(MyDataSet, self).__init__()\n",
    "        self.pep_inputs = pep_inputs\n",
    "        self.hla_inputs = hla_inputs\n",
    "        self.labels = labels\n",
    "\n",
    "    def __len__(self): # 样本数\n",
    "        return self.pep_inputs.shape[0] # 改成hla_inputs也可以哦！\n",
    "\n",
    "    def __getitem__(self, idx):\n",
    "        return self.pep_inputs[idx], self.hla_inputs[idx], self.labels[idx]"
   ]
  },
  {
   "cell_type": "markdown",
   "metadata": {},
   "source": [
    "## 模型"
   ]
  },
  {
   "cell_type": "code",
   "execution_count": 5,
   "metadata": {
    "collapsed": true
   },
   "outputs": [],
   "source": [
    "class PositionalEncoding(nn.Module):\n",
    "    def __init__(self, d_model, dropout=0.1, max_len=5000):\n",
    "        super(PositionalEncoding, self).__init__()\n",
    "        self.dropout = nn.Dropout(p=dropout)\n",
    "\n",
    "        pe = torch.zeros(max_len, d_model)\n",
    "        position = torch.arange(0, max_len, dtype=torch.float).unsqueeze(1)\n",
    "        div_term = torch.exp(torch.arange(0, d_model, 2).float() * (-math.log(10000.0) / d_model))\n",
    "        pe[:, 0::2] = torch.sin(position * div_term)\n",
    "        pe[:, 1::2] = torch.cos(position * div_term)\n",
    "        pe = pe.unsqueeze(0).transpose(0, 1)\n",
    "        self.register_buffer('pe', pe)\n",
    "\n",
    "    def forward(self, x):\n",
    "        '''\n",
    "        x: [seq_len, batch_size, d_model]\n",
    "        '''\n",
    "        x = x + self.pe[:x.size(0), :]\n",
    "        return self.dropout(x)\n",
    "\n",
    "def get_attn_pad_mask(seq_q, seq_k):\n",
    "    '''\n",
    "    seq_q: [batch_size, seq_len]\n",
    "    seq_k: [batch_size, seq_len]\n",
    "    seq_len could be src_len or it could be tgt_len\n",
    "    seq_len in seq_q and seq_len in seq_k maybe not equal\n",
    "    '''\n",
    "    batch_size, len_q = seq_q.size()\n",
    "    batch_size, len_k = seq_k.size()\n",
    "    # eq(zero) is PAD token\n",
    "    pad_attn_mask = seq_k.data.eq(0).unsqueeze(1)  # [batch_size, 1, len_k], False is masked\n",
    "    return pad_attn_mask.expand(batch_size, len_q, len_k)  # [batch_size, len_q, len_k]\n",
    "\n",
    "class ScaledDotProductAttention(nn.Module):\n",
    "    def __init__(self):\n",
    "        super(ScaledDotProductAttention, self).__init__()\n",
    "\n",
    "    def forward(self, Q, K, V, attn_mask):\n",
    "        '''\n",
    "        Q: [batch_size, n_heads, len_q, d_k]\n",
    "        K: [batch_size, n_heads, len_k, d_k]\n",
    "        V: [batch_size, n_heads, len_v(=len_k), d_v]\n",
    "        attn_mask: [batch_size, n_heads, seq_len, seq_len]\n",
    "        '''\n",
    "        scores = torch.matmul(Q, K.transpose(-1, -2)) / np.sqrt(d_k) # scores : [batch_size, n_heads, len_q, len_k]\n",
    "        scores.masked_fill_(attn_mask, -1e9) # Fills elements of self tensor with value where mask is True.\n",
    "        \n",
    "        attn = nn.Softmax(dim=-1)(scores)\n",
    "        context = torch.matmul(attn, V) # [batch_size, n_heads, len_q, d_v]\n",
    "        return context, attn\n",
    "\n",
    "\n",
    "# In[17]:\n",
    "\n",
    "\n",
    "class MultiHeadAttention(nn.Module):\n",
    "    def __init__(self):\n",
    "        super(MultiHeadAttention, self).__init__()\n",
    "        self.use_cuda = use_cuda\n",
    "        device = torch.device(\"cuda\" if self.use_cuda else \"cpu\")\n",
    "        self.W_Q = nn.Linear(d_model, d_k * n_heads, bias=False)\n",
    "        self.W_K = nn.Linear(d_model, d_k * n_heads, bias=False)\n",
    "        self.W_V = nn.Linear(d_model, d_v * n_heads, bias=False)\n",
    "        self.fc = nn.Linear(n_heads * d_v, d_model, bias=False)\n",
    "    def forward(self, input_Q, input_K, input_V, attn_mask):\n",
    "        '''\n",
    "        input_Q: [batch_size, len_q, d_model]\n",
    "        input_K: [batch_size, len_k, d_model]\n",
    "        input_V: [batch_size, len_v(=len_k), d_model]\n",
    "        attn_mask: [batch_size, seq_len, seq_len]\n",
    "        '''\n",
    "        residual, batch_size = input_Q, input_Q.size(0)\n",
    "        # (B, S, D) -proj-> (B, S, D_new) -split-> (B, S, H, W) -trans-> (B, H, S, W)\n",
    "        Q = self.W_Q(input_Q).view(batch_size, -1, n_heads, d_k).transpose(1,2)  # Q: [batch_size, n_heads, len_q, d_k]\n",
    "        K = self.W_K(input_K).view(batch_size, -1, n_heads, d_k).transpose(1,2)  # K: [batch_size, n_heads, len_k, d_k]\n",
    "        V = self.W_V(input_V).view(batch_size, -1, n_heads, d_v).transpose(1,2)  # V: [batch_size, n_heads, len_v(=len_k), d_v]\n",
    "\n",
    "        attn_mask = attn_mask.unsqueeze(1).repeat(1, n_heads, 1, 1) # attn_mask : [batch_size, n_heads, seq_len, seq_len]\n",
    "\n",
    "        # context: [batch_size, n_heads, len_q, d_v], attn: [batch_size, n_heads, len_q, len_k]\n",
    "        context, attn = ScaledDotProductAttention()(Q, K, V, attn_mask)\n",
    "        context = context.transpose(1, 2).reshape(batch_size, -1, n_heads * d_v) # context: [batch_size, len_q, n_heads * d_v]\n",
    "        output = self.fc(context) # [batch_size, len_q, d_model]\n",
    "        return nn.LayerNorm(d_model).to(device)(output + residual), attn\n",
    "\n",
    "\n",
    "# In[18]:\n",
    "\n",
    "\n",
    "class PoswiseFeedForwardNet(nn.Module):\n",
    "    def __init__(self):\n",
    "        super(PoswiseFeedForwardNet, self).__init__()\n",
    "        self.use_cuda = use_cuda\n",
    "        device = torch.device(\"cuda\" if self.use_cuda else \"cpu\")\n",
    "        self.fc = nn.Sequential(\n",
    "            nn.Linear(d_model, d_ff, bias=False),\n",
    "            nn.ReLU(),\n",
    "            nn.Linear(d_ff, d_model, bias=False)\n",
    "        )\n",
    "    def forward(self, inputs):\n",
    "        '''\n",
    "        inputs: [batch_size, seq_len, d_model]\n",
    "        '''\n",
    "        residual = inputs\n",
    "        output = self.fc(inputs)\n",
    "        return nn.LayerNorm(d_model).to(device)(output + residual) # [batch_size, seq_len, d_model]\n",
    "\n",
    "\n",
    "# In[19]:\n",
    "\n",
    "\n",
    "class EncoderLayer(nn.Module):\n",
    "    def __init__(self):\n",
    "        super(EncoderLayer, self).__init__()\n",
    "        self.enc_self_attn = MultiHeadAttention()\n",
    "        self.pos_ffn = PoswiseFeedForwardNet()\n",
    "\n",
    "    def forward(self, enc_inputs, enc_self_attn_mask):\n",
    "        '''\n",
    "        enc_inputs: [batch_size, src_len, d_model]\n",
    "        enc_self_attn_mask: [batch_size, src_len, src_len]\n",
    "        '''\n",
    "        # enc_outputs: [batch_size, src_len, d_model], attn: [batch_size, n_heads, src_len, src_len]\n",
    "        enc_outputs, attn = self.enc_self_attn(enc_inputs, enc_inputs, enc_inputs, enc_self_attn_mask) # enc_inputs to same Q,K,V\n",
    "        enc_outputs = self.pos_ffn(enc_outputs) # enc_outputs: [batch_size, src_len, d_model]\n",
    "        return enc_outputs, attn\n",
    "\n",
    "\n",
    "# In[20]:\n",
    "\n",
    "\n",
    "class Encoder(nn.Module):\n",
    "    def __init__(self, dropout = 0.1):\n",
    "        super(Encoder, self).__init__()\n",
    "        self.src_emb = nn.Embedding(vocab_size, d_model)\n",
    "        #self.pos_emb = PositionalEncoding(d_model)\n",
    "        self.dropout = nn.Dropout(p = dropout)\n",
    "        self.layers = nn.ModuleList([EncoderLayer() for _ in range(n_layers)])\n",
    "\n",
    "    def forward(self, enc_inputs):\n",
    "        '''\n",
    "        enc_inputs: [batch_size, src_len]\n",
    "        '''\n",
    "        enc_outputs = self.src_emb(enc_inputs) # [batch_size, src_len, d_model]\n",
    "        enc_outputs = self.dropout(enc_outputs)\n",
    "#         enc_outputs = self.pos_emb(enc_outputs.transpose(0, 1)).transpose(0, 1) # [batch_size, src_len, d_model]\n",
    "        enc_self_attn_mask = get_attn_pad_mask(enc_inputs, enc_inputs) # [batch_size, src_len, src_len]\n",
    "        enc_self_attns = []\n",
    "        for layer in self.layers:\n",
    "            # enc_outputs: [batch_size, src_len, d_model], enc_self_attn: [batch_size, n_heads, src_len, src_len]\n",
    "            enc_outputs, enc_self_attn = layer(enc_outputs, enc_self_attn_mask)\n",
    "            enc_self_attns.append(enc_self_attn)\n",
    "        return enc_outputs, enc_self_attns\n",
    "\n",
    "\n",
    "# ### Decoder\n",
    "\n",
    "# In[21]:\n",
    "\n",
    "\n",
    "class DecoderLayer(nn.Module):\n",
    "    def __init__(self):\n",
    "        super(DecoderLayer, self).__init__()\n",
    "        self.dec_self_attn = MultiHeadAttention()\n",
    "        self.pos_ffn = PoswiseFeedForwardNet()\n",
    "\n",
    "    def forward(self, dec_inputs, dec_self_attn_mask): # dec_inputs = enc_outputs\n",
    "        '''\n",
    "        dec_inputs: [batch_size, tgt_len, d_model]\n",
    "        enc_outputs: [batch_size, src_len, d_model]\n",
    "        dec_self_attn_mask: [batch_size, tgt_len, tgt_len]\n",
    "        '''\n",
    "        # dec_outputs: [batch_size, tgt_len, d_model], dec_self_attn: [batch_size, n_heads, tgt_len, tgt_len]\n",
    "        dec_outputs, dec_self_attn = self.dec_self_attn(dec_inputs, dec_inputs, dec_inputs, dec_self_attn_mask)\n",
    "        dec_outputs = self.pos_ffn(dec_outputs) # [batch_size, tgt_len, d_model]\n",
    "        return dec_outputs, dec_self_attn\n",
    "\n",
    "\n",
    "# In[22]:\n",
    "\n",
    "\n",
    "class Decoder(nn.Module):\n",
    "    def __init__(self, dropout = 0.1):\n",
    "        super(Decoder, self).__init__()\n",
    "#         self.tgt_emb = nn.Embedding(d_model * 2, d_model)\n",
    "        self.use_cuda = use_cuda\n",
    "        device = torch.device(\"cuda\" if self.use_cuda else \"cpu\")\n",
    "        \n",
    "        self.dropout = nn.Dropout(p = dropout)\n",
    "#         self.pos_emb = PositionalEncoding(d_model)\n",
    "        self.layers = nn.ModuleList([DecoderLayer() for _ in range(n_layers)])\n",
    "        self.tgt_len = tgt_len\n",
    "        \n",
    "    def forward(self, dec_inputs): # dec_inputs = enc_outputs (batch_size, peptide_hla_maxlen_sum, d_model)\n",
    "        '''\n",
    "        dec_inputs: [batch_size, tgt_len]\n",
    "        enc_intpus: [batch_size, src_len]\n",
    "        enc_outputs: [batsh_size, src_len, d_model]\n",
    "        '''\n",
    "        dec_outputs = self.dropout(dec_inputs)\n",
    "#         dec_outputs = self.tgt_emb(dec_inputs) # [batch_size, tgt_len, d_model]\n",
    "#         dec_outputs = self.pos_emb(dec_inputs.transpose(0, 1)).transpose(0, 1).to(device) # [batch_size, tgt_len, d_model]\n",
    "#         dec_self_attn_pad_mask = get_attn_pad_mask(dec_inputs, dec_inputs).cuda() # [batch_size, tgt_len, tgt_len]\n",
    "        dec_self_attn_pad_mask = torch.LongTensor(np.zeros((dec_inputs.shape[0], tgt_len, tgt_len))).bool().to(device)\n",
    "\n",
    "        dec_self_attns = []\n",
    "        for layer in self.layers:\n",
    "            # dec_outputs: [batch_size, tgt_len, d_model], dec_self_attn: [batch_size, n_heads, tgt_len, tgt_len], dec_enc_attn: [batch_size, h_heads, tgt_len, src_len]\n",
    "            dec_outputs, dec_self_attn = layer(dec_outputs, dec_self_attn_pad_mask)\n",
    "            dec_self_attns.append(dec_self_attn)\n",
    "            \n",
    "        return dec_outputs, dec_self_attns\n",
    "\n",
    "\n",
    "# ### Transformer\n",
    "\n",
    "# In[23]:\n",
    "\n",
    "\n",
    "class Transformer(nn.Module):\n",
    "    def __init__(self):\n",
    "        super(Transformer, self).__init__()\n",
    "        self.use_cuda = use_cuda\n",
    "        device = torch.device(\"cuda\" if use_cuda else \"cpu\")\n",
    "        self.pep_encoder = Encoder().to(device)\n",
    "        self.hla_encoder = Encoder().to(device)\n",
    "        self.decoder = Decoder().to(device)\n",
    "        self.tgt_len = tgt_len\n",
    "        self.projection = nn.Sequential(\n",
    "                                        nn.Linear(tgt_len * d_model, 256),\n",
    "                                        nn.ReLU(True),\n",
    "\n",
    "                                        nn.BatchNorm1d(256),\n",
    "                                        nn.Linear(256, 64),\n",
    "                                        nn.ReLU(True),\n",
    "\n",
    "                                        #output layer\n",
    "                                        nn.Linear(64, 2)\n",
    "                                        ).to(device)\n",
    "        \n",
    "    def forward(self, pep_inputs, hla_inputs):\n",
    "        '''\n",
    "        pep_inputs: [batch_size, pep_len]\n",
    "        hla_inputs: [batch_size, hla_len]\n",
    "        '''\n",
    "        # tensor to store decoder outputs\n",
    "        # outputs = torch.zeros(batch_size, tgt_len, tgt_vocab_size).to(self.device)\n",
    "        \n",
    "        # enc_outputs: [batch_size, src_len, d_model], enc_self_attns: [n_layers, batch_size, n_heads, src_len, src_len]\n",
    "        pep_enc_outputs, pep_enc_self_attns = self.pep_encoder(pep_inputs)\n",
    "        hla_enc_outputs, hla_enc_self_attns = self.hla_encoder(hla_inputs)\n",
    "        enc_outputs = torch.cat((pep_enc_outputs, hla_enc_outputs), 1) # concat pep & hla embedding\n",
    "        \n",
    "        # dec_outpus: [batch_size, tgt_len, d_model], dec_self_attns: [n_layers, batch_size, n_heads, tgt_len, tgt_len], dec_enc_attn: [n_layers, batch_size, tgt_len, src_len]\n",
    "        dec_outputs, dec_self_attns = self.decoder(enc_outputs)\n",
    "        dec_outputs = dec_outputs.view(dec_outputs.shape[0], -1) # Flatten [batch_size, tgt_len * d_model]\n",
    "        dec_logits = self.projection(dec_outputs) # dec_logits: [batch_size, tgt_len, tgt_vocab_size]\n",
    "\n",
    "        return dec_logits.view(-1, dec_logits.size(-1)), pep_enc_self_attns, hla_enc_self_attns, dec_self_attns\n"
   ]
  },
  {
   "cell_type": "code",
   "execution_count": 6,
   "metadata": {
    "collapsed": true
   },
   "outputs": [],
   "source": [
    "def performances(y_true, y_pred, y_prob, print_ = True):\n",
    "    \n",
    "    tn, fp, fn, tp = confusion_matrix(y_true, y_pred, labels = [0, 1]).ravel().tolist()\n",
    "    accuracy = (tp+tn)/(tn+fp+fn+tp)\n",
    "    try:\n",
    "        mcc = ((tp*tn) - (fn*fp)) / np.sqrt(np.float((tp+fn)*(tn+fp)*(tp+fp)*(tn+fn)))\n",
    "    except:\n",
    "        print('MCC Error: ', (tp+fn)*(tn+fp)*(tp+fp)*(tn+fn))\n",
    "        mcc = np.nan\n",
    "    sensitivity = tp/(tp+fn)\n",
    "    specificity = tn/(tn+fp)\n",
    "    \n",
    "    try:\n",
    "        recall = tp / (tp+fn)\n",
    "    except:\n",
    "        recall = np.nan\n",
    "        \n",
    "    try:\n",
    "        precision = tp / (tp+fp)\n",
    "    except:\n",
    "        precision = np.nan\n",
    "        \n",
    "    try: \n",
    "        f1 = 2*precision*recall / (precision+recall)\n",
    "    except:\n",
    "        f1 = np.nan\n",
    "        \n",
    "    roc_auc = roc_auc_score(y_true, y_prob)\n",
    "    prec, reca, _ = precision_recall_curve(y_true, y_prob)\n",
    "    aupr = auc(reca, prec)\n",
    "    \n",
    "    if print_:\n",
    "        print('tn = {}, fp = {}, fn = {}, tp = {}'.format(tn, fp, fn, tp))\n",
    "        print('y_pred: 0 = {} | 1 = {}'.format(Counter(y_pred)[0], Counter(y_pred)[1]))\n",
    "        print('y_true: 0 = {} | 1 = {}'.format(Counter(y_true)[0], Counter(y_true)[1]))\n",
    "        print('auc={:.4f}|sensitivity={:.4f}|specificity={:.4f}|acc={:.4f}|mcc={:.4f}'.format(roc_auc, sensitivity, specificity, accuracy, mcc))\n",
    "        print('precision={:.4f}|recall={:.4f}|f1={:.4f}|aupr={:.4f}'.format(precision, recall, f1, aupr))\n",
    "    \n",
    "    return (roc_auc, accuracy, mcc, f1, sensitivity, specificity, precision, recall, aupr)\n",
    "\n",
    "\n",
    "# In[25]:\n",
    "\n",
    "\n",
    "def transfer(y_prob, threshold = 0.5):\n",
    "    return np.array([[0, 1][x > threshold] for x in y_prob])\n",
    "\n",
    "\n",
    "# In[26]:\n",
    "\n",
    "\n",
    "f_mean = lambda l: sum(l)/len(l)\n",
    "\n",
    "\n",
    "# In[28]:\n",
    "\n",
    "\n",
    "def performances_to_pd(performances_list):\n",
    "    metrics_name = ['roc_auc', 'accuracy', 'mcc', 'f1', 'sensitivity', 'specificity', 'precision', 'recall', 'aupr']\n",
    "\n",
    "    performances_pd = pd.DataFrame(performances_list, columns = metrics_name)\n",
    "    performances_pd.loc['mean'] = performances_pd.mean(axis = 0)\n",
    "    performances_pd.loc['std'] = performances_pd.std(axis = 0)\n",
    "    \n",
    "    return performances_pd"
   ]
  },
  {
   "cell_type": "code",
   "execution_count": 7,
   "metadata": {
    "collapsed": true
   },
   "outputs": [],
   "source": [
    "def train_step(model, train_loader, fold, epoch, epochs, use_cuda = True):\n",
    "    device = torch.device(\"cuda\" if use_cuda else \"cpu\")\n",
    "    \n",
    "    time_train_ep = 0\n",
    "    model.train()\n",
    "    y_true_train_list, y_prob_train_list = [], []\n",
    "    loss_train_list, dec_attns_train_list = [], []\n",
    "    for train_pep_inputs, train_hla_inputs, train_labels in tqdm(train_loader):\n",
    "        '''\n",
    "        pep_inputs: [batch_size, pep_len]\n",
    "        hla_inputs: [batch_size, hla_len]\n",
    "        train_outputs: [batch_size, 2]\n",
    "        '''\n",
    "        train_pep_inputs, train_hla_inputs, train_labels = train_pep_inputs.to(device), train_hla_inputs.to(device), train_labels.to(device)\n",
    "\n",
    "        t1 = time.time()\n",
    "        train_outputs, _, _, train_dec_self_attns = model(train_pep_inputs, \n",
    "                                                                                                        train_hla_inputs)\n",
    "        train_loss = criterion(train_outputs, train_labels)\n",
    "        time_train_ep += time.time() - t1\n",
    "\n",
    "        optimizer.zero_grad()\n",
    "        train_loss.backward()\n",
    "        optimizer.step()\n",
    "\n",
    "        y_true_train = train_labels.cpu().numpy()\n",
    "        y_prob_train = nn.Softmax(dim = 1)(train_outputs)[:, 1].cpu().detach().numpy()\n",
    "        \n",
    "        y_true_train_list.extend(y_true_train)\n",
    "        y_prob_train_list.extend(y_prob_train)\n",
    "        loss_train_list.append(train_loss)\n",
    "#         dec_attns_train_list.append(train_dec_self_attns)\n",
    "        \n",
    "    y_pred_train_list = transfer(y_prob_train_list, threshold)\n",
    "    ys_train = (y_true_train_list, y_pred_train_list, y_prob_train_list)\n",
    "    \n",
    "    print('Fold-{}****Train (Ep avg): Epoch-{}/{} | Loss = {:.4f} | Time = {:.4f} sec'.format(fold, epoch, epochs, f_mean(loss_train_list), time_train_ep))\n",
    "    metrics_train = performances(y_true_train_list, y_pred_train_list, y_prob_train_list, print_ = True)\n",
    "    \n",
    "    return ys_train, loss_train_list, metrics_train, time_train_ep#, dec_attns_train_list\n",
    "\n",
    "\n",
    "# In[30]:\n",
    "\n",
    "\n",
    "def eval_step(model, val_loader, fold, epoch, epochs, use_cuda = True):\n",
    "    device = torch.device(\"cuda\" if use_cuda else \"cpu\")\n",
    "    \n",
    "    model.eval()\n",
    "    torch.manual_seed(19961231)\n",
    "    torch.cuda.manual_seed(19961231)\n",
    "    with torch.no_grad():\n",
    "        loss_val_list, dec_attns_val_list = [], []\n",
    "        y_true_val_list, y_prob_val_list = [], []\n",
    "        for val_pep_inputs, val_hla_inputs, val_labels in tqdm(val_loader):\n",
    "            val_pep_inputs, val_hla_inputs, val_labels = val_pep_inputs.to(device), val_hla_inputs.to(device), val_labels.to(device)\n",
    "            val_outputs, _, _, val_dec_self_attns = model(val_pep_inputs, val_hla_inputs)\n",
    "            val_loss = criterion(val_outputs, val_labels)\n",
    "\n",
    "            y_true_val = val_labels.cpu().numpy()\n",
    "            y_prob_val = nn.Softmax(dim = 1)(val_outputs)[:, 1].cpu().detach().numpy()\n",
    "\n",
    "            y_true_val_list.extend(y_true_val)\n",
    "            y_prob_val_list.extend(y_prob_val)\n",
    "            loss_val_list.append(val_loss)\n",
    "#             dec_attns_val_list.append(val_dec_self_attns)\n",
    "            \n",
    "        y_pred_val_list = transfer(y_prob_val_list, threshold)\n",
    "        ys_val = (y_true_val_list, y_pred_val_list, y_prob_val_list)\n",
    "        \n",
    "        print('Fold-{} ****Test  Epoch-{}/{}: Loss = {:.6f}'.format(fold, epoch, epochs, f_mean(loss_val_list)))\n",
    "        metrics_val = performances(y_true_val_list, y_pred_val_list, y_prob_val_list, print_ = True)\n",
    "    return ys_val, loss_val_list, metrics_val#, dec_attns_val_list\n"
   ]
  },
  {
   "cell_type": "code",
   "execution_count": 8,
   "metadata": {
    "collapsed": true
   },
   "outputs": [],
   "source": [
    "pep_max_len = 15 # peptide; enc_input max sequence length\n",
    "hla_max_len = 34 # hla; dec_input(=dec_output) max sequence length\n",
    "tgt_len = pep_max_len + hla_max_len\n",
    "pep_max_len, hla_max_len\n",
    "\n",
    "vocab = np.load('Transformer_vocab_dict.npy', allow_pickle = True).item()\n",
    "vocab_size = len(vocab)\n",
    "\n",
    "\n",
    "# In[36]:\n",
    "\n",
    "\n",
    "# Transformer Parameters\n",
    "d_model = 64  # Embedding Size\n",
    "d_ff = 512 # FeedForward dimension\n",
    "d_k = d_v = 64  # dimension of K(=Q), V\n",
    "n_layers = 1  # number of Encoder of Decoder Layer\n",
    "n_heads = 9\n",
    "\n",
    "batch_size = 1024\n",
    "epochs = 50\n",
    "threshold = 0.5\n",
    "\n",
    "use_cuda = torch.cuda.is_available()\n",
    "device = torch.device(\"cuda\" if use_cuda else \"cpu\")"
   ]
  },
  {
   "cell_type": "code",
   "execution_count": 9,
   "metadata": {
    "collapsed": true
   },
   "outputs": [],
   "source": [
    "def data_with_loader(type_ = 'train',fold = None,  batch_size = 1024):\n",
    "    if type_ != 'train' and type_ != 'val':\n",
    "        data = pd.read_csv('/home/chujunyi/5_ZY_MHC/Anthem/Dataset/{}_set.csv'.format(type_), index_col = 0)\n",
    "    elif type_ == 'train':\n",
    "        data = pd.read_csv('/home/chujunyi/5_ZY_MHC/Anthem/Dataset/train_data_fold{}.csv'.format(fold), index_col = 0)\n",
    "    elif type_ == 'val':\n",
    "        data = pd.read_csv('/home/chujunyi/5_ZY_MHC/Anthem/Dataset/val_data_fold{}.csv'.format(fold), index_col = 0)\n",
    "        \n",
    "    pep_inputs, hla_inputs, labels = make_data(data)\n",
    "    loader = Data.DataLoader(MyDataSet(pep_inputs, hla_inputs, labels), batch_size, shuffle = False, num_workers = 0)\n",
    "    \n",
    "    return data, pep_inputs, hla_inputs, labels, loader"
   ]
  },
  {
   "cell_type": "code",
   "execution_count": 10,
   "metadata": {
    "collapsed": true
   },
   "outputs": [],
   "source": [
    "independent_data, independent_pep_inputs, independent_hla_inputs, independent_labels, independent_loader = data_with_loader(type_ = 'independent',fold = None,  batch_size = batch_size)\n",
    "external_data, external_pep_inputs, external_hla_inputs, external_labels, external_loader = data_with_loader(type_ = 'external',fold = None,  batch_size = batch_size)"
   ]
  },
  {
   "cell_type": "code",
   "execution_count": 11,
   "metadata": {},
   "outputs": [
    {
     "name": "stdout",
     "output_type": "stream",
     "text": [
      "=====Fold-0=====\n",
      "-----Generate data loader-----\n",
      "Fold-0 Label info: Train = Counter({0: 287329, 1: 287329}) | Val = Counter({0: 71837, 1: 71837})\n",
      "-----Compile model-----\n"
     ]
    },
    {
     "name": "stderr",
     "output_type": "stream",
     "text": [
      "\r",
      "  0%|          | 0/562 [00:00<?, ?it/s]"
     ]
    },
    {
     "name": "stdout",
     "output_type": "stream",
     "text": [
      "-----Train-----\n",
      "dir_saver:  ./model/pHLAIformer/\n",
      "path_saver:  ./model/pHLAIformer/no_positional_embedding__model_layer1_multihead9_fold0.pkl\n"
     ]
    },
    {
     "name": "stderr",
     "output_type": "stream",
     "text": [
      "100%|██████████| 562/562 [00:47<00:00, 11.74it/s]\n"
     ]
    },
    {
     "name": "stdout",
     "output_type": "stream",
     "text": [
      "Fold-0****Train (Ep avg): Epoch-1/50 | Loss = 0.2694 | Time = 12.6217 sec\n"
     ]
    },
    {
     "name": "stderr",
     "output_type": "stream",
     "text": [
      "\r",
      "  0%|          | 0/141 [00:00<?, ?it/s]"
     ]
    },
    {
     "name": "stdout",
     "output_type": "stream",
     "text": [
      "tn = 252994, fp = 34335, fn = 29804, tp = 257525\n",
      "y_pred: 0 = 282798 | 1 = 291860\n",
      "y_true: 0 = 287329 | 1 = 287329\n",
      "auc=0.9559|sensitivity=0.8963|specificity=0.8805|acc=0.8884|mcc=0.7769\n",
      "precision=0.8824|recall=0.8963|f1=0.8893|aupr=0.9541\n"
     ]
    },
    {
     "name": "stderr",
     "output_type": "stream",
     "text": [
      "100%|██████████| 141/141 [00:04<00:00, 34.31it/s]\n"
     ]
    },
    {
     "name": "stdout",
     "output_type": "stream",
     "text": [
      "Fold-0 ****Test  Epoch-1/50: Loss = 0.227555\n"
     ]
    },
    {
     "name": "stderr",
     "output_type": "stream",
     "text": [
      "\r",
      "  0%|          | 0/562 [00:00<?, ?it/s]"
     ]
    },
    {
     "name": "stdout",
     "output_type": "stream",
     "text": [
      "tn = 65339, fp = 6498, fn = 6458, tp = 65379\n",
      "y_pred: 0 = 71797 | 1 = 71877\n",
      "y_true: 0 = 71837 | 1 = 71837\n",
      "auc=0.9689|sensitivity=0.9101|specificity=0.9095|acc=0.9098|mcc=0.8196\n",
      "precision=0.9096|recall=0.9101|f1=0.9098|aupr=0.9677\n",
      "****Saving model: Best epoch = 1 | 5metrics_Best_avg = 0.9020\n",
      "*****Path saver:  ./model/pHLAIformer/no_positional_embedding__model_layer1_multihead9_fold0.pkl\n"
     ]
    },
    {
     "name": "stderr",
     "output_type": "stream",
     "text": [
      "100%|██████████| 562/562 [00:45<00:00, 12.37it/s]\n"
     ]
    },
    {
     "name": "stdout",
     "output_type": "stream",
     "text": [
      "Fold-0****Train (Ep avg): Epoch-2/50 | Loss = 0.2109 | Time = 10.1336 sec\n"
     ]
    },
    {
     "name": "stderr",
     "output_type": "stream",
     "text": [
      "\r",
      "  0%|          | 0/141 [00:00<?, ?it/s]"
     ]
    },
    {
     "name": "stdout",
     "output_type": "stream",
     "text": [
      "tn = 262866, fp = 24463, fn = 22957, tp = 264372\n",
      "y_pred: 0 = 285823 | 1 = 288835\n",
      "y_true: 0 = 287329 | 1 = 287329\n",
      "auc=0.9726|sensitivity=0.9201|specificity=0.9149|acc=0.9175|mcc=0.8350\n",
      "precision=0.9153|recall=0.9201|f1=0.9177|aupr=0.9716\n"
     ]
    },
    {
     "name": "stderr",
     "output_type": "stream",
     "text": [
      "100%|██████████| 141/141 [00:04<00:00, 34.00it/s]\n"
     ]
    },
    {
     "name": "stdout",
     "output_type": "stream",
     "text": [
      "Fold-0 ****Test  Epoch-2/50: Loss = 0.207647\n"
     ]
    },
    {
     "name": "stderr",
     "output_type": "stream",
     "text": [
      "\r",
      "  0%|          | 0/562 [00:00<?, ?it/s]"
     ]
    },
    {
     "name": "stdout",
     "output_type": "stream",
     "text": [
      "tn = 65619, fp = 6218, fn = 5496, tp = 66341\n",
      "y_pred: 0 = 71115 | 1 = 72559\n",
      "y_true: 0 = 71837 | 1 = 71837\n",
      "auc=0.9739|sensitivity=0.9235|specificity=0.9134|acc=0.9185|mcc=0.8370\n",
      "precision=0.9143|recall=0.9235|f1=0.9189|aupr=0.9733\n",
      "****Saving model: Best epoch = 2 | 5metrics_Best_avg = 0.9121\n",
      "*****Path saver:  ./model/pHLAIformer/no_positional_embedding__model_layer1_multihead9_fold0.pkl\n"
     ]
    },
    {
     "name": "stderr",
     "output_type": "stream",
     "text": [
      "100%|██████████| 562/562 [00:45<00:00, 12.35it/s]\n"
     ]
    },
    {
     "name": "stdout",
     "output_type": "stream",
     "text": [
      "Fold-0****Train (Ep avg): Epoch-3/50 | Loss = 0.1937 | Time = 10.0750 sec\n"
     ]
    },
    {
     "name": "stderr",
     "output_type": "stream",
     "text": [
      "\r",
      "  0%|          | 0/141 [00:00<?, ?it/s]"
     ]
    },
    {
     "name": "stdout",
     "output_type": "stream",
     "text": [
      "tn = 265116, fp = 22213, fn = 21200, tp = 266129\n",
      "y_pred: 0 = 286316 | 1 = 288342\n",
      "y_true: 0 = 287329 | 1 = 287329\n",
      "auc=0.9768|sensitivity=0.9262|specificity=0.9227|acc=0.9245|mcc=0.8489\n",
      "precision=0.9230|recall=0.9262|f1=0.9246|aupr=0.9761\n"
     ]
    },
    {
     "name": "stderr",
     "output_type": "stream",
     "text": [
      "100%|██████████| 141/141 [00:04<00:00, 34.02it/s]\n"
     ]
    },
    {
     "name": "stdout",
     "output_type": "stream",
     "text": [
      "Fold-0 ****Test  Epoch-3/50: Loss = 0.205618\n"
     ]
    },
    {
     "name": "stderr",
     "output_type": "stream",
     "text": [
      "\r",
      "  0%|          | 0/562 [00:00<?, ?it/s]"
     ]
    },
    {
     "name": "stdout",
     "output_type": "stream",
     "text": [
      "tn = 65857, fp = 5980, fn = 5419, tp = 66418\n",
      "y_pred: 0 = 71276 | 1 = 72398\n",
      "y_true: 0 = 71837 | 1 = 71837\n",
      "auc=0.9748|sensitivity=0.9246|specificity=0.9168|acc=0.9207|mcc=0.8413\n",
      "precision=0.9174|recall=0.9246|f1=0.9210|aupr=0.9740\n",
      "****Saving model: Best epoch = 3 | 5metrics_Best_avg = 0.9144\n",
      "*****Path saver:  ./model/pHLAIformer/no_positional_embedding__model_layer1_multihead9_fold0.pkl\n"
     ]
    },
    {
     "name": "stderr",
     "output_type": "stream",
     "text": [
      "100%|██████████| 562/562 [00:46<00:00, 12.20it/s]\n"
     ]
    },
    {
     "name": "stdout",
     "output_type": "stream",
     "text": [
      "Fold-0****Train (Ep avg): Epoch-4/50 | Loss = 0.1813 | Time = 10.1266 sec\n"
     ]
    },
    {
     "name": "stderr",
     "output_type": "stream",
     "text": [
      "\r",
      "  0%|          | 0/141 [00:00<?, ?it/s]"
     ]
    },
    {
     "name": "stdout",
     "output_type": "stream",
     "text": [
      "tn = 266810, fp = 20519, fn = 19796, tp = 267533\n",
      "y_pred: 0 = 286606 | 1 = 288052\n",
      "y_true: 0 = 287329 | 1 = 287329\n",
      "auc=0.9796|sensitivity=0.9311|specificity=0.9286|acc=0.9298|mcc=0.8597\n",
      "precision=0.9288|recall=0.9311|f1=0.9299|aupr=0.9792\n"
     ]
    },
    {
     "name": "stderr",
     "output_type": "stream",
     "text": [
      "100%|██████████| 141/141 [00:04<00:00, 34.87it/s]\n"
     ]
    },
    {
     "name": "stdout",
     "output_type": "stream",
     "text": [
      "Fold-0 ****Test  Epoch-4/50: Loss = 0.214296\n"
     ]
    },
    {
     "name": "stderr",
     "output_type": "stream",
     "text": [
      "  0%|          | 1/562 [00:00<01:17,  7.22it/s]"
     ]
    },
    {
     "name": "stdout",
     "output_type": "stream",
     "text": [
      "tn = 65424, fp = 6413, fn = 5119, tp = 66718\n",
      "y_pred: 0 = 70543 | 1 = 73131\n",
      "y_true: 0 = 71837 | 1 = 71837\n",
      "auc=0.9741|sensitivity=0.9287|specificity=0.9107|acc=0.9197|mcc=0.8396\n",
      "precision=0.9123|recall=0.9287|f1=0.9205|aupr=0.9732\n"
     ]
    },
    {
     "name": "stderr",
     "output_type": "stream",
     "text": [
      "100%|██████████| 562/562 [00:45<00:00, 12.32it/s]\n"
     ]
    },
    {
     "name": "stdout",
     "output_type": "stream",
     "text": [
      "Fold-0****Train (Ep avg): Epoch-5/50 | Loss = 0.1700 | Time = 10.0934 sec\n",
      "tn = 268330, fp = 18999, fn = 18524, tp = 268805\n",
      "y_pred: 0 = 286854 | 1 = 287804\n",
      "y_true: 0 = 287329 | 1 = 287329\n",
      "auc=0.9821|sensitivity=0.9355|specificity=0.9339|acc=0.9347|mcc=0.8694\n",
      "precision=0.9340|recall=0.9355|f1=0.9348|aupr=0.9818\n"
     ]
    },
    {
     "name": "stderr",
     "output_type": "stream",
     "text": [
      "100%|██████████| 141/141 [00:04<00:00, 34.67it/s]\n"
     ]
    },
    {
     "name": "stdout",
     "output_type": "stream",
     "text": [
      "Fold-0 ****Test  Epoch-5/50: Loss = 0.215685\n"
     ]
    },
    {
     "name": "stderr",
     "output_type": "stream",
     "text": [
      "\r",
      "  0%|          | 0/562 [00:00<?, ?it/s]"
     ]
    },
    {
     "name": "stdout",
     "output_type": "stream",
     "text": [
      "tn = 65993, fp = 5844, fn = 5616, tp = 66221\n",
      "y_pred: 0 = 71609 | 1 = 72065\n",
      "y_true: 0 = 71837 | 1 = 71837\n",
      "auc=0.9745|sensitivity=0.9218|specificity=0.9186|acc=0.9202|mcc=0.8405\n",
      "precision=0.9189|recall=0.9218|f1=0.9204|aupr=0.9738\n"
     ]
    },
    {
     "name": "stderr",
     "output_type": "stream",
     "text": [
      "100%|██████████| 562/562 [00:45<00:00, 12.43it/s]\n"
     ]
    },
    {
     "name": "stdout",
     "output_type": "stream",
     "text": [
      "Fold-0****Train (Ep avg): Epoch-6/50 | Loss = 0.1596 | Time = 10.0647 sec\n"
     ]
    },
    {
     "name": "stderr",
     "output_type": "stream",
     "text": [
      "\r",
      "  0%|          | 0/141 [00:00<?, ?it/s]"
     ]
    },
    {
     "name": "stdout",
     "output_type": "stream",
     "text": [
      "tn = 269580, fp = 17749, fn = 17527, tp = 269802\n",
      "y_pred: 0 = 287107 | 1 = 287551\n",
      "y_true: 0 = 287329 | 1 = 287329\n",
      "auc=0.9842|sensitivity=0.9390|specificity=0.9382|acc=0.9386|mcc=0.8772\n",
      "precision=0.9383|recall=0.9390|f1=0.9386|aupr=0.9840\n"
     ]
    },
    {
     "name": "stderr",
     "output_type": "stream",
     "text": [
      "100%|██████████| 141/141 [00:03<00:00, 35.26it/s]\n"
     ]
    },
    {
     "name": "stdout",
     "output_type": "stream",
     "text": [
      "Fold-0 ****Test  Epoch-6/50: Loss = 0.220539\n"
     ]
    },
    {
     "name": "stderr",
     "output_type": "stream",
     "text": [
      "\r",
      "  0%|          | 0/562 [00:00<?, ?it/s]"
     ]
    },
    {
     "name": "stdout",
     "output_type": "stream",
     "text": [
      "tn = 66134, fp = 5703, fn = 5859, tp = 65978\n",
      "y_pred: 0 = 71993 | 1 = 71681\n",
      "y_true: 0 = 71837 | 1 = 71837\n",
      "auc=0.9743|sensitivity=0.9184|specificity=0.9206|acc=0.9195|mcc=0.8391\n",
      "precision=0.9204|recall=0.9184|f1=0.9194|aupr=0.9737\n"
     ]
    },
    {
     "name": "stderr",
     "output_type": "stream",
     "text": [
      "100%|██████████| 562/562 [00:45<00:00, 12.49it/s]\n"
     ]
    },
    {
     "name": "stdout",
     "output_type": "stream",
     "text": [
      "Fold-0****Train (Ep avg): Epoch-7/50 | Loss = 0.1495 | Time = 10.0323 sec\n"
     ]
    },
    {
     "name": "stderr",
     "output_type": "stream",
     "text": [
      "\r",
      "  0%|          | 0/141 [00:00<?, ?it/s]"
     ]
    },
    {
     "name": "stdout",
     "output_type": "stream",
     "text": [
      "tn = 270673, fp = 16656, fn = 16435, tp = 270894\n",
      "y_pred: 0 = 287108 | 1 = 287550\n",
      "y_true: 0 = 287329 | 1 = 287329\n",
      "auc=0.9861|sensitivity=0.9428|specificity=0.9420|acc=0.9424|mcc=0.8848\n",
      "precision=0.9421|recall=0.9428|f1=0.9424|aupr=0.9861\n"
     ]
    },
    {
     "name": "stderr",
     "output_type": "stream",
     "text": [
      "100%|██████████| 141/141 [00:04<00:00, 34.21it/s]\n"
     ]
    },
    {
     "name": "stdout",
     "output_type": "stream",
     "text": [
      "Fold-0 ****Test  Epoch-7/50: Loss = 0.230242\n"
     ]
    },
    {
     "name": "stderr",
     "output_type": "stream",
     "text": [
      "\r",
      "  0%|          | 0/562 [00:00<?, ?it/s]"
     ]
    },
    {
     "name": "stdout",
     "output_type": "stream",
     "text": [
      "tn = 65964, fp = 5873, fn = 5976, tp = 65861\n",
      "y_pred: 0 = 71940 | 1 = 71734\n",
      "y_true: 0 = 71837 | 1 = 71837\n",
      "auc=0.9734|sensitivity=0.9168|specificity=0.9182|acc=0.9175|mcc=0.8351\n",
      "precision=0.9181|recall=0.9168|f1=0.9175|aupr=0.9728\n"
     ]
    },
    {
     "name": "stderr",
     "output_type": "stream",
     "text": [
      "100%|██████████| 562/562 [00:45<00:00, 12.35it/s]\n"
     ]
    },
    {
     "name": "stdout",
     "output_type": "stream",
     "text": [
      "Fold-0****Train (Ep avg): Epoch-8/50 | Loss = 0.1398 | Time = 10.0906 sec\n"
     ]
    },
    {
     "name": "stderr",
     "output_type": "stream",
     "text": [
      "\r",
      "  0%|          | 0/141 [00:00<?, ?it/s]"
     ]
    },
    {
     "name": "stdout",
     "output_type": "stream",
     "text": [
      "tn = 271859, fp = 15470, fn = 15496, tp = 271833\n",
      "y_pred: 0 = 287355 | 1 = 287303\n",
      "y_true: 0 = 287329 | 1 = 287329\n",
      "auc=0.9879|sensitivity=0.9461|specificity=0.9462|acc=0.9461|mcc=0.8922\n",
      "precision=0.9462|recall=0.9461|f1=0.9461|aupr=0.9879\n"
     ]
    },
    {
     "name": "stderr",
     "output_type": "stream",
     "text": [
      "100%|██████████| 141/141 [00:04<00:00, 34.21it/s]\n"
     ]
    },
    {
     "name": "stdout",
     "output_type": "stream",
     "text": [
      "Fold-0 ****Test  Epoch-8/50: Loss = 0.233416\n"
     ]
    },
    {
     "name": "stderr",
     "output_type": "stream",
     "text": [
      "  0%|          | 2/562 [00:00<00:45, 12.29it/s]"
     ]
    },
    {
     "name": "stdout",
     "output_type": "stream",
     "text": [
      "tn = 65518, fp = 6319, fn = 5558, tp = 66279\n",
      "y_pred: 0 = 71076 | 1 = 72598\n",
      "y_true: 0 = 71837 | 1 = 71837\n",
      "auc=0.9733|sensitivity=0.9226|specificity=0.9120|acc=0.9173|mcc=0.8347\n",
      "precision=0.9130|recall=0.9226|f1=0.9178|aupr=0.9728\n"
     ]
    },
    {
     "name": "stderr",
     "output_type": "stream",
     "text": [
      "100%|██████████| 562/562 [00:44<00:00, 12.59it/s]\n"
     ]
    },
    {
     "name": "stdout",
     "output_type": "stream",
     "text": [
      "Fold-0****Train (Ep avg): Epoch-9/50 | Loss = 0.1312 | Time = 10.0194 sec\n"
     ]
    },
    {
     "name": "stderr",
     "output_type": "stream",
     "text": [
      "\r",
      "  0%|          | 0/141 [00:00<?, ?it/s]"
     ]
    },
    {
     "name": "stdout",
     "output_type": "stream",
     "text": [
      "tn = 272616, fp = 14713, fn = 14529, tp = 272800\n",
      "y_pred: 0 = 287145 | 1 = 287513\n",
      "y_true: 0 = 287329 | 1 = 287329\n",
      "auc=0.9893|sensitivity=0.9494|specificity=0.9488|acc=0.9491|mcc=0.8982\n",
      "precision=0.9488|recall=0.9494|f1=0.9491|aupr=0.9894\n"
     ]
    },
    {
     "name": "stderr",
     "output_type": "stream",
     "text": [
      "100%|██████████| 141/141 [00:04<00:00, 35.11it/s]\n"
     ]
    },
    {
     "name": "stdout",
     "output_type": "stream",
     "text": [
      "Fold-0 ****Test  Epoch-9/50: Loss = 0.243882\n"
     ]
    },
    {
     "name": "stderr",
     "output_type": "stream",
     "text": [
      "  0%|          | 2/562 [00:00<00:44, 12.63it/s]"
     ]
    },
    {
     "name": "stdout",
     "output_type": "stream",
     "text": [
      "tn = 64852, fp = 6985, fn = 4970, tp = 66867\n",
      "y_pred: 0 = 69822 | 1 = 73852\n",
      "y_true: 0 = 71837 | 1 = 71837\n",
      "auc=0.9733|sensitivity=0.9308|specificity=0.9028|acc=0.9168|mcc=0.8339\n",
      "precision=0.9054|recall=0.9308|f1=0.9179|aupr=0.9725\n"
     ]
    },
    {
     "name": "stderr",
     "output_type": "stream",
     "text": [
      "100%|██████████| 562/562 [00:45<00:00, 12.36it/s]\n"
     ]
    },
    {
     "name": "stdout",
     "output_type": "stream",
     "text": [
      "Fold-0****Train (Ep avg): Epoch-10/50 | Loss = 0.1220 | Time = 10.1080 sec\n"
     ]
    },
    {
     "name": "stderr",
     "output_type": "stream",
     "text": [
      "\r",
      "  0%|          | 0/141 [00:00<?, ?it/s]"
     ]
    },
    {
     "name": "stdout",
     "output_type": "stream",
     "text": [
      "tn = 273677, fp = 13652, fn = 13601, tp = 273728\n",
      "y_pred: 0 = 287278 | 1 = 287380\n",
      "y_true: 0 = 287329 | 1 = 287329\n",
      "auc=0.9908|sensitivity=0.9527|specificity=0.9525|acc=0.9526|mcc=0.9052\n",
      "precision=0.9525|recall=0.9527|f1=0.9526|aupr=0.9909\n"
     ]
    },
    {
     "name": "stderr",
     "output_type": "stream",
     "text": [
      "100%|██████████| 141/141 [00:04<00:00, 34.20it/s]\n"
     ]
    },
    {
     "name": "stdout",
     "output_type": "stream",
     "text": [
      "Fold-0 ****Test  Epoch-10/50: Loss = 0.249145\n"
     ]
    },
    {
     "name": "stderr",
     "output_type": "stream",
     "text": [
      "\r",
      "  0%|          | 0/562 [00:00<?, ?it/s]"
     ]
    },
    {
     "name": "stdout",
     "output_type": "stream",
     "text": [
      "tn = 66338, fp = 5499, fn = 6126, tp = 65711\n",
      "y_pred: 0 = 72464 | 1 = 71210\n",
      "y_true: 0 = 71837 | 1 = 71837\n",
      "auc=0.9740|sensitivity=0.9147|specificity=0.9235|acc=0.9191|mcc=0.8382\n",
      "precision=0.9228|recall=0.9147|f1=0.9187|aupr=0.9733\n"
     ]
    },
    {
     "name": "stderr",
     "output_type": "stream",
     "text": [
      "100%|██████████| 562/562 [00:45<00:00, 12.34it/s]\n"
     ]
    },
    {
     "name": "stdout",
     "output_type": "stream",
     "text": [
      "Fold-0****Train (Ep avg): Epoch-11/50 | Loss = 0.1152 | Time = 10.1120 sec\n",
      "tn = 274368, fp = 12961, fn = 12999, tp = 274330\n",
      "y_pred: 0 = 287367 | 1 = 287291\n",
      "y_true: 0 = 287329 | 1 = 287329\n",
      "auc=0.9918|sensitivity=0.9548|specificity=0.9549|acc=0.9548|mcc=0.9097\n",
      "precision=0.9549|recall=0.9548|f1=0.9548|aupr=0.9919\n"
     ]
    },
    {
     "name": "stderr",
     "output_type": "stream",
     "text": [
      "100%|██████████| 141/141 [00:04<00:00, 34.16it/s]\n"
     ]
    },
    {
     "name": "stdout",
     "output_type": "stream",
     "text": [
      "Fold-0 ****Test  Epoch-11/50: Loss = 0.256150\n"
     ]
    },
    {
     "name": "stderr",
     "output_type": "stream",
     "text": [
      "  0%|          | 2/562 [00:00<00:45, 12.26it/s]"
     ]
    },
    {
     "name": "stdout",
     "output_type": "stream",
     "text": [
      "tn = 65548, fp = 6289, fn = 5336, tp = 66501\n",
      "y_pred: 0 = 70884 | 1 = 72790\n",
      "y_true: 0 = 71837 | 1 = 71837\n",
      "auc=0.9739|sensitivity=0.9257|specificity=0.9125|acc=0.9191|mcc=0.8382\n",
      "precision=0.9136|recall=0.9257|f1=0.9196|aupr=0.9731\n"
     ]
    },
    {
     "name": "stderr",
     "output_type": "stream",
     "text": [
      "100%|██████████| 562/562 [00:45<00:00, 12.33it/s]\n"
     ]
    },
    {
     "name": "stdout",
     "output_type": "stream",
     "text": [
      "Fold-0****Train (Ep avg): Epoch-12/50 | Loss = 0.1091 | Time = 10.1097 sec\n",
      "tn = 275055, fp = 12274, fn = 12366, tp = 274963\n",
      "y_pred: 0 = 287421 | 1 = 287237\n",
      "y_true: 0 = 287329 | 1 = 287329\n",
      "auc=0.9926|sensitivity=0.9570|specificity=0.9573|acc=0.9571|mcc=0.9142\n",
      "precision=0.9573|recall=0.9570|f1=0.9571|aupr=0.9927\n"
     ]
    },
    {
     "name": "stderr",
     "output_type": "stream",
     "text": [
      "100%|██████████| 141/141 [00:04<00:00, 34.64it/s]\n"
     ]
    },
    {
     "name": "stdout",
     "output_type": "stream",
     "text": [
      "Fold-0 ****Test  Epoch-12/50: Loss = 0.277294\n"
     ]
    },
    {
     "name": "stderr",
     "output_type": "stream",
     "text": [
      "\r",
      "  0%|          | 0/562 [00:00<?, ?it/s]"
     ]
    },
    {
     "name": "stdout",
     "output_type": "stream",
     "text": [
      "tn = 65014, fp = 6823, fn = 5173, tp = 66664\n",
      "y_pred: 0 = 70187 | 1 = 73487\n",
      "y_true: 0 = 71837 | 1 = 71837\n",
      "auc=0.9729|sensitivity=0.9280|specificity=0.9050|acc=0.9165|mcc=0.8332\n",
      "precision=0.9072|recall=0.9280|f1=0.9175|aupr=0.9721\n"
     ]
    },
    {
     "name": "stderr",
     "output_type": "stream",
     "text": [
      "100%|██████████| 562/562 [00:45<00:00, 12.29it/s]\n"
     ]
    },
    {
     "name": "stdout",
     "output_type": "stream",
     "text": [
      "Fold-0****Train (Ep avg): Epoch-13/50 | Loss = 0.1024 | Time = 10.0664 sec\n"
     ]
    },
    {
     "name": "stderr",
     "output_type": "stream",
     "text": [
      "\r",
      "  0%|          | 0/141 [00:00<?, ?it/s]"
     ]
    },
    {
     "name": "stdout",
     "output_type": "stream",
     "text": [
      "tn = 275694, fp = 11635, fn = 11638, tp = 275691\n",
      "y_pred: 0 = 287332 | 1 = 287326\n",
      "y_true: 0 = 287329 | 1 = 287329\n",
      "auc=0.9935|sensitivity=0.9595|specificity=0.9595|acc=0.9595|mcc=0.9190\n",
      "precision=0.9595|recall=0.9595|f1=0.9595|aupr=0.9937\n"
     ]
    },
    {
     "name": "stderr",
     "output_type": "stream",
     "text": [
      "100%|██████████| 141/141 [00:04<00:00, 34.31it/s]\n"
     ]
    },
    {
     "name": "stdout",
     "output_type": "stream",
     "text": [
      "Fold-0 ****Test  Epoch-13/50: Loss = 0.274794\n"
     ]
    },
    {
     "name": "stderr",
     "output_type": "stream",
     "text": [
      "\r",
      "  0%|          | 0/562 [00:00<?, ?it/s]"
     ]
    },
    {
     "name": "stdout",
     "output_type": "stream",
     "text": [
      "tn = 64788, fp = 7049, fn = 4797, tp = 67040\n",
      "y_pred: 0 = 69585 | 1 = 74089\n",
      "y_true: 0 = 71837 | 1 = 71837\n",
      "auc=0.9736|sensitivity=0.9332|specificity=0.9019|acc=0.9175|mcc=0.8355\n",
      "precision=0.9049|recall=0.9332|f1=0.9188|aupr=0.9729\n"
     ]
    },
    {
     "name": "stderr",
     "output_type": "stream",
     "text": [
      "100%|██████████| 562/562 [00:45<00:00, 12.35it/s]\n"
     ]
    },
    {
     "name": "stdout",
     "output_type": "stream",
     "text": [
      "Fold-0****Train (Ep avg): Epoch-14/50 | Loss = 0.0962 | Time = 10.0741 sec\n"
     ]
    },
    {
     "name": "stderr",
     "output_type": "stream",
     "text": [
      "\r",
      "  0%|          | 0/141 [00:00<?, ?it/s]"
     ]
    },
    {
     "name": "stdout",
     "output_type": "stream",
     "text": [
      "tn = 276426, fp = 10903, fn = 11046, tp = 276283\n",
      "y_pred: 0 = 287472 | 1 = 287186\n",
      "y_true: 0 = 287329 | 1 = 287329\n",
      "auc=0.9943|sensitivity=0.9616|specificity=0.9621|acc=0.9618|mcc=0.9236\n",
      "precision=0.9620|recall=0.9616|f1=0.9618|aupr=0.9944\n"
     ]
    },
    {
     "name": "stderr",
     "output_type": "stream",
     "text": [
      "100%|██████████| 141/141 [00:04<00:00, 32.58it/s]\n"
     ]
    },
    {
     "name": "stdout",
     "output_type": "stream",
     "text": [
      "Fold-0 ****Test  Epoch-14/50: Loss = 0.287064\n"
     ]
    },
    {
     "name": "stderr",
     "output_type": "stream",
     "text": [
      "\r",
      "  0%|          | 0/562 [00:00<?, ?it/s]"
     ]
    },
    {
     "name": "stdout",
     "output_type": "stream",
     "text": [
      "tn = 64678, fp = 7159, fn = 4894, tp = 66943\n",
      "y_pred: 0 = 69572 | 1 = 74102\n",
      "y_true: 0 = 71837 | 1 = 71837\n",
      "auc=0.9735|sensitivity=0.9319|specificity=0.9003|acc=0.9161|mcc=0.8326\n",
      "precision=0.9034|recall=0.9319|f1=0.9174|aupr=0.9728\n"
     ]
    },
    {
     "name": "stderr",
     "output_type": "stream",
     "text": [
      "100%|██████████| 562/562 [00:45<00:00, 12.33it/s]\n"
     ]
    },
    {
     "name": "stdout",
     "output_type": "stream",
     "text": [
      "Fold-0****Train (Ep avg): Epoch-15/50 | Loss = 0.0904 | Time = 10.0774 sec\n",
      "tn = 277099, fp = 10230, fn = 10370, tp = 276959\n",
      "y_pred: 0 = 287469 | 1 = 287189\n",
      "y_true: 0 = 287329 | 1 = 287329\n",
      "auc=0.9950|sensitivity=0.9639|specificity=0.9644|acc=0.9642|mcc=0.9283\n",
      "precision=0.9644|recall=0.9639|f1=0.9641|aupr=0.9951\n"
     ]
    },
    {
     "name": "stderr",
     "output_type": "stream",
     "text": [
      "100%|██████████| 141/141 [00:04<00:00, 34.25it/s]\n"
     ]
    },
    {
     "name": "stdout",
     "output_type": "stream",
     "text": [
      "Fold-0 ****Test  Epoch-15/50: Loss = 0.281237\n"
     ]
    },
    {
     "name": "stderr",
     "output_type": "stream",
     "text": [
      "\r",
      "  0%|          | 0/562 [00:00<?, ?it/s]"
     ]
    },
    {
     "name": "stdout",
     "output_type": "stream",
     "text": [
      "tn = 65776, fp = 6061, fn = 5587, tp = 66250\n",
      "y_pred: 0 = 71363 | 1 = 72311\n",
      "y_true: 0 = 71837 | 1 = 71837\n",
      "auc=0.9736|sensitivity=0.9222|specificity=0.9156|acc=0.9189|mcc=0.8379\n",
      "precision=0.9162|recall=0.9222|f1=0.9192|aupr=0.9725\n"
     ]
    },
    {
     "name": "stderr",
     "output_type": "stream",
     "text": [
      "100%|██████████| 562/562 [00:45<00:00, 12.41it/s]\n"
     ]
    },
    {
     "name": "stdout",
     "output_type": "stream",
     "text": [
      "Fold-0****Train (Ep avg): Epoch-16/50 | Loss = 0.0853 | Time = 10.0681 sec\n"
     ]
    },
    {
     "name": "stderr",
     "output_type": "stream",
     "text": [
      "\r",
      "  0%|          | 0/141 [00:00<?, ?it/s]"
     ]
    },
    {
     "name": "stdout",
     "output_type": "stream",
     "text": [
      "tn = 277625, fp = 9704, fn = 9855, tp = 277474\n",
      "y_pred: 0 = 287480 | 1 = 287178\n",
      "y_true: 0 = 287329 | 1 = 287329\n",
      "auc=0.9955|sensitivity=0.9657|specificity=0.9662|acc=0.9660|mcc=0.9319\n",
      "precision=0.9662|recall=0.9657|f1=0.9660|aupr=0.9956\n"
     ]
    },
    {
     "name": "stderr",
     "output_type": "stream",
     "text": [
      "100%|██████████| 141/141 [00:04<00:00, 34.14it/s]\n"
     ]
    },
    {
     "name": "stdout",
     "output_type": "stream",
     "text": [
      "Fold-0 ****Test  Epoch-16/50: Loss = 0.287927\n"
     ]
    },
    {
     "name": "stderr",
     "output_type": "stream",
     "text": [
      "\r",
      "  0%|          | 0/562 [00:00<?, ?it/s]"
     ]
    },
    {
     "name": "stdout",
     "output_type": "stream",
     "text": [
      "tn = 64993, fp = 6844, fn = 4884, tp = 66953\n",
      "y_pred: 0 = 69877 | 1 = 73797\n",
      "y_true: 0 = 71837 | 1 = 71837\n",
      "auc=0.9740|sensitivity=0.9320|specificity=0.9047|acc=0.9184|mcc=0.8371\n",
      "precision=0.9073|recall=0.9320|f1=0.9195|aupr=0.9731\n"
     ]
    },
    {
     "name": "stderr",
     "output_type": "stream",
     "text": [
      "100%|██████████| 562/562 [00:45<00:00, 12.34it/s]\n"
     ]
    },
    {
     "name": "stdout",
     "output_type": "stream",
     "text": [
      "Fold-0****Train (Ep avg): Epoch-17/50 | Loss = 0.0818 | Time = 10.1004 sec\n"
     ]
    },
    {
     "name": "stderr",
     "output_type": "stream",
     "text": [
      "\r",
      "  0%|          | 0/141 [00:00<?, ?it/s]"
     ]
    },
    {
     "name": "stdout",
     "output_type": "stream",
     "text": [
      "tn = 278043, fp = 9286, fn = 9429, tp = 277900\n",
      "y_pred: 0 = 287472 | 1 = 287186\n",
      "y_true: 0 = 287329 | 1 = 287329\n",
      "auc=0.9959|sensitivity=0.9672|specificity=0.9677|acc=0.9674|mcc=0.9349\n",
      "precision=0.9677|recall=0.9672|f1=0.9674|aupr=0.9960\n"
     ]
    },
    {
     "name": "stderr",
     "output_type": "stream",
     "text": [
      "100%|██████████| 141/141 [00:04<00:00, 34.13it/s]\n"
     ]
    },
    {
     "name": "stdout",
     "output_type": "stream",
     "text": [
      "Fold-0 ****Test  Epoch-17/50: Loss = 0.300270\n"
     ]
    },
    {
     "name": "stderr",
     "output_type": "stream",
     "text": [
      "\r",
      "  0%|          | 0/562 [00:00<?, ?it/s]"
     ]
    },
    {
     "name": "stdout",
     "output_type": "stream",
     "text": [
      "tn = 64806, fp = 7031, fn = 5242, tp = 66595\n",
      "y_pred: 0 = 70048 | 1 = 73626\n",
      "y_true: 0 = 71837 | 1 = 71837\n",
      "auc=0.9729|sensitivity=0.9270|specificity=0.9021|acc=0.9146|mcc=0.8294\n",
      "precision=0.9045|recall=0.9270|f1=0.9156|aupr=0.9720\n"
     ]
    },
    {
     "name": "stderr",
     "output_type": "stream",
     "text": [
      "100%|██████████| 562/562 [00:45<00:00, 12.35it/s]\n"
     ]
    },
    {
     "name": "stdout",
     "output_type": "stream",
     "text": [
      "Fold-0****Train (Ep avg): Epoch-18/50 | Loss = 0.0764 | Time = 10.0698 sec\n"
     ]
    },
    {
     "name": "stderr",
     "output_type": "stream",
     "text": [
      "\r",
      "  0%|          | 0/141 [00:00<?, ?it/s]"
     ]
    },
    {
     "name": "stdout",
     "output_type": "stream",
     "text": [
      "tn = 278561, fp = 8768, fn = 8842, tp = 278487\n",
      "y_pred: 0 = 287403 | 1 = 287255\n",
      "y_true: 0 = 287329 | 1 = 287329\n",
      "auc=0.9964|sensitivity=0.9692|specificity=0.9695|acc=0.9694|mcc=0.9387\n",
      "precision=0.9695|recall=0.9692|f1=0.9694|aupr=0.9965\n"
     ]
    },
    {
     "name": "stderr",
     "output_type": "stream",
     "text": [
      "100%|██████████| 141/141 [00:04<00:00, 34.52it/s]\n"
     ]
    },
    {
     "name": "stdout",
     "output_type": "stream",
     "text": [
      "Fold-0 ****Test  Epoch-18/50: Loss = 0.312669\n"
     ]
    },
    {
     "name": "stderr",
     "output_type": "stream",
     "text": [
      "\r",
      "  0%|          | 0/562 [00:00<?, ?it/s]"
     ]
    },
    {
     "name": "stdout",
     "output_type": "stream",
     "text": [
      "tn = 65039, fp = 6798, fn = 5085, tp = 66752\n",
      "y_pred: 0 = 70124 | 1 = 73550\n",
      "y_true: 0 = 71837 | 1 = 71837\n",
      "auc=0.9731|sensitivity=0.9292|specificity=0.9054|acc=0.9173|mcc=0.8348\n",
      "precision=0.9076|recall=0.9292|f1=0.9183|aupr=0.9723\n"
     ]
    },
    {
     "name": "stderr",
     "output_type": "stream",
     "text": [
      "100%|██████████| 562/562 [00:45<00:00, 12.26it/s]\n"
     ]
    },
    {
     "name": "stdout",
     "output_type": "stream",
     "text": [
      "Fold-0****Train (Ep avg): Epoch-19/50 | Loss = 0.0749 | Time = 10.1201 sec\n"
     ]
    },
    {
     "name": "stderr",
     "output_type": "stream",
     "text": [
      "\r",
      "  0%|          | 0/141 [00:00<?, ?it/s]"
     ]
    },
    {
     "name": "stdout",
     "output_type": "stream",
     "text": [
      "tn = 278742, fp = 8587, fn = 8714, tp = 278615\n",
      "y_pred: 0 = 287456 | 1 = 287202\n",
      "y_true: 0 = 287329 | 1 = 287329\n",
      "auc=0.9965|sensitivity=0.9697|specificity=0.9701|acc=0.9699|mcc=0.9398\n",
      "precision=0.9701|recall=0.9697|f1=0.9699|aupr=0.9966\n"
     ]
    },
    {
     "name": "stderr",
     "output_type": "stream",
     "text": [
      "100%|██████████| 141/141 [00:04<00:00, 34.20it/s]\n"
     ]
    },
    {
     "name": "stdout",
     "output_type": "stream",
     "text": [
      "Fold-0 ****Test  Epoch-19/50: Loss = 0.329522\n"
     ]
    },
    {
     "name": "stderr",
     "output_type": "stream",
     "text": [
      "\r",
      "  0%|          | 0/562 [00:00<?, ?it/s]"
     ]
    },
    {
     "name": "stdout",
     "output_type": "stream",
     "text": [
      "tn = 64798, fp = 7039, fn = 4914, tp = 66923\n",
      "y_pred: 0 = 69712 | 1 = 73962\n",
      "y_true: 0 = 71837 | 1 = 71837\n",
      "auc=0.9732|sensitivity=0.9316|specificity=0.9020|acc=0.9168|mcc=0.8340\n",
      "precision=0.9048|recall=0.9316|f1=0.9180|aupr=0.9723\n"
     ]
    },
    {
     "name": "stderr",
     "output_type": "stream",
     "text": [
      "100%|██████████| 562/562 [00:45<00:00, 12.37it/s]\n"
     ]
    },
    {
     "name": "stdout",
     "output_type": "stream",
     "text": [
      "Fold-0****Train (Ep avg): Epoch-20/50 | Loss = 0.0708 | Time = 10.0494 sec\n",
      "tn = 279165, fp = 8164, fn = 8241, tp = 279088\n",
      "y_pred: 0 = 287406 | 1 = 287252\n",
      "y_true: 0 = 287329 | 1 = 287329\n",
      "auc=0.9969|sensitivity=0.9713|specificity=0.9716|acc=0.9715|mcc=0.9429\n",
      "precision=0.9716|recall=0.9713|f1=0.9714|aupr=0.9970\n"
     ]
    },
    {
     "name": "stderr",
     "output_type": "stream",
     "text": [
      "100%|██████████| 141/141 [00:04<00:00, 34.70it/s]\n"
     ]
    },
    {
     "name": "stdout",
     "output_type": "stream",
     "text": [
      "Fold-0 ****Test  Epoch-20/50: Loss = 0.347746\n"
     ]
    },
    {
     "name": "stderr",
     "output_type": "stream",
     "text": [
      "\r",
      "  0%|          | 0/562 [00:00<?, ?it/s]"
     ]
    },
    {
     "name": "stdout",
     "output_type": "stream",
     "text": [
      "tn = 64104, fp = 7733, fn = 4562, tp = 67275\n",
      "y_pred: 0 = 68666 | 1 = 75008\n",
      "y_true: 0 = 71837 | 1 = 71837\n",
      "auc=0.9729|sensitivity=0.9365|specificity=0.8924|acc=0.9144|mcc=0.8297\n",
      "precision=0.8969|recall=0.9365|f1=0.9163|aupr=0.9720\n"
     ]
    },
    {
     "name": "stderr",
     "output_type": "stream",
     "text": [
      "100%|██████████| 562/562 [00:45<00:00, 12.47it/s]\n"
     ]
    },
    {
     "name": "stdout",
     "output_type": "stream",
     "text": [
      "Fold-0****Train (Ep avg): Epoch-21/50 | Loss = 0.0675 | Time = 10.0794 sec\n"
     ]
    },
    {
     "name": "stderr",
     "output_type": "stream",
     "text": [
      "\r",
      "  0%|          | 0/141 [00:00<?, ?it/s]"
     ]
    },
    {
     "name": "stdout",
     "output_type": "stream",
     "text": [
      "tn = 279622, fp = 7707, fn = 7756, tp = 279573\n",
      "y_pred: 0 = 287378 | 1 = 287280\n",
      "y_true: 0 = 287329 | 1 = 287329\n",
      "auc=0.9972|sensitivity=0.9730|specificity=0.9732|acc=0.9731|mcc=0.9462\n",
      "precision=0.9732|recall=0.9730|f1=0.9731|aupr=0.9973\n"
     ]
    },
    {
     "name": "stderr",
     "output_type": "stream",
     "text": [
      "100%|██████████| 141/141 [00:04<00:00, 34.91it/s]\n"
     ]
    },
    {
     "name": "stdout",
     "output_type": "stream",
     "text": [
      "Fold-0 ****Test  Epoch-21/50: Loss = 0.352070\n"
     ]
    },
    {
     "name": "stderr",
     "output_type": "stream",
     "text": [
      "\r",
      "  0%|          | 0/562 [00:00<?, ?it/s]"
     ]
    },
    {
     "name": "stdout",
     "output_type": "stream",
     "text": [
      "tn = 64736, fp = 7101, fn = 5312, tp = 66525\n",
      "y_pred: 0 = 70048 | 1 = 73626\n",
      "y_true: 0 = 71837 | 1 = 71837\n",
      "auc=0.9721|sensitivity=0.9261|specificity=0.9012|acc=0.9136|mcc=0.8275\n",
      "precision=0.9036|recall=0.9261|f1=0.9147|aupr=0.9714\n"
     ]
    },
    {
     "name": "stderr",
     "output_type": "stream",
     "text": [
      "100%|██████████| 562/562 [00:45<00:00, 12.30it/s]\n"
     ]
    },
    {
     "name": "stdout",
     "output_type": "stream",
     "text": [
      "Fold-0****Train (Ep avg): Epoch-22/50 | Loss = 0.0650 | Time = 10.0905 sec\n",
      "tn = 279904, fp = 7425, fn = 7540, tp = 279789\n",
      "y_pred: 0 = 287444 | 1 = 287214\n",
      "y_true: 0 = 287329 | 1 = 287329\n",
      "auc=0.9974|sensitivity=0.9738|specificity=0.9742|acc=0.9740|mcc=0.9479\n",
      "precision=0.9741|recall=0.9738|f1=0.9740|aupr=0.9974\n"
     ]
    },
    {
     "name": "stderr",
     "output_type": "stream",
     "text": [
      "100%|██████████| 141/141 [00:04<00:00, 35.02it/s]\n"
     ]
    },
    {
     "name": "stdout",
     "output_type": "stream",
     "text": [
      "Fold-0 ****Test  Epoch-22/50: Loss = 0.345849\n"
     ]
    },
    {
     "name": "stderr",
     "output_type": "stream",
     "text": [
      "\r",
      "  0%|          | 0/562 [00:00<?, ?it/s]"
     ]
    },
    {
     "name": "stdout",
     "output_type": "stream",
     "text": [
      "tn = 65488, fp = 6349, fn = 5525, tp = 66312\n",
      "y_pred: 0 = 71013 | 1 = 72661\n",
      "y_true: 0 = 71837 | 1 = 71837\n",
      "auc=0.9730|sensitivity=0.9231|specificity=0.9116|acc=0.9174|mcc=0.8348\n",
      "precision=0.9126|recall=0.9231|f1=0.9178|aupr=0.9722\n"
     ]
    },
    {
     "name": "stderr",
     "output_type": "stream",
     "text": [
      "100%|██████████| 562/562 [00:45<00:00, 12.30it/s]\n"
     ]
    },
    {
     "name": "stdout",
     "output_type": "stream",
     "text": [
      "Fold-0****Train (Ep avg): Epoch-23/50 | Loss = 0.0618 | Time = 10.0901 sec\n",
      "tn = 280302, fp = 7027, fn = 7098, tp = 280231\n",
      "y_pred: 0 = 287400 | 1 = 287258\n",
      "y_true: 0 = 287329 | 1 = 287329\n",
      "auc=0.9976|sensitivity=0.9753|specificity=0.9755|acc=0.9754|mcc=0.9508\n",
      "precision=0.9755|recall=0.9753|f1=0.9754|aupr=0.9977\n"
     ]
    },
    {
     "name": "stderr",
     "output_type": "stream",
     "text": [
      "100%|██████████| 141/141 [00:04<00:00, 34.56it/s]\n"
     ]
    },
    {
     "name": "stdout",
     "output_type": "stream",
     "text": [
      "Fold-0 ****Test  Epoch-23/50: Loss = 0.363385\n"
     ]
    },
    {
     "name": "stderr",
     "output_type": "stream",
     "text": [
      "\r",
      "  0%|          | 0/562 [00:00<?, ?it/s]"
     ]
    },
    {
     "name": "stdout",
     "output_type": "stream",
     "text": [
      "tn = 64849, fp = 6988, fn = 5085, tp = 66752\n",
      "y_pred: 0 = 69934 | 1 = 73740\n",
      "y_true: 0 = 71837 | 1 = 71837\n",
      "auc=0.9737|sensitivity=0.9292|specificity=0.9027|acc=0.9160|mcc=0.8322\n",
      "precision=0.9052|recall=0.9292|f1=0.9171|aupr=0.9732\n"
     ]
    },
    {
     "name": "stderr",
     "output_type": "stream",
     "text": [
      "100%|██████████| 562/562 [00:45<00:00, 12.34it/s]\n"
     ]
    },
    {
     "name": "stdout",
     "output_type": "stream",
     "text": [
      "Fold-0****Train (Ep avg): Epoch-24/50 | Loss = 0.0592 | Time = 10.0721 sec\n",
      "tn = 280648, fp = 6681, fn = 6897, tp = 280432\n",
      "y_pred: 0 = 287545 | 1 = 287113\n",
      "y_true: 0 = 287329 | 1 = 287329\n",
      "auc=0.9978|sensitivity=0.9760|specificity=0.9767|acc=0.9764|mcc=0.9527\n",
      "precision=0.9767|recall=0.9760|f1=0.9764|aupr=0.9979\n"
     ]
    },
    {
     "name": "stderr",
     "output_type": "stream",
     "text": [
      "100%|██████████| 141/141 [00:04<00:00, 34.10it/s]\n"
     ]
    },
    {
     "name": "stdout",
     "output_type": "stream",
     "text": [
      "Fold-0 ****Test  Epoch-24/50: Loss = 0.706804\n"
     ]
    },
    {
     "name": "stderr",
     "output_type": "stream",
     "text": [
      "\r",
      "  0%|          | 0/562 [00:00<?, ?it/s]"
     ]
    },
    {
     "name": "stdout",
     "output_type": "stream",
     "text": [
      "tn = 64440, fp = 7397, fn = 5441, tp = 66396\n",
      "y_pred: 0 = 69881 | 1 = 73793\n",
      "y_true: 0 = 71837 | 1 = 71837\n",
      "auc=0.9637|sensitivity=0.9243|specificity=0.8970|acc=0.9106|mcc=0.8216\n",
      "precision=0.8998|recall=0.9243|f1=0.9118|aupr=0.9544\n"
     ]
    },
    {
     "name": "stderr",
     "output_type": "stream",
     "text": [
      "100%|██████████| 562/562 [00:45<00:00, 12.29it/s]\n"
     ]
    },
    {
     "name": "stdout",
     "output_type": "stream",
     "text": [
      "Fold-0****Train (Ep avg): Epoch-25/50 | Loss = 0.0567 | Time = 10.0728 sec\n",
      "tn = 280847, fp = 6482, fn = 6552, tp = 280777\n",
      "y_pred: 0 = 287399 | 1 = 287259\n",
      "y_true: 0 = 287329 | 1 = 287329\n",
      "auc=0.9980|sensitivity=0.9772|specificity=0.9774|acc=0.9773|mcc=0.9546\n",
      "precision=0.9774|recall=0.9772|f1=0.9773|aupr=0.9981\n"
     ]
    },
    {
     "name": "stderr",
     "output_type": "stream",
     "text": [
      "100%|██████████| 141/141 [00:04<00:00, 33.56it/s]\n"
     ]
    },
    {
     "name": "stdout",
     "output_type": "stream",
     "text": [
      "Fold-0 ****Test  Epoch-25/50: Loss = 0.370434\n"
     ]
    },
    {
     "name": "stderr",
     "output_type": "stream",
     "text": [
      "\r",
      "  0%|          | 0/562 [00:00<?, ?it/s]"
     ]
    },
    {
     "name": "stdout",
     "output_type": "stream",
     "text": [
      "tn = 66022, fp = 5815, fn = 6179, tp = 65658\n",
      "y_pred: 0 = 72201 | 1 = 71473\n",
      "y_true: 0 = 71837 | 1 = 71837\n",
      "auc=0.9733|sensitivity=0.9140|specificity=0.9191|acc=0.9165|mcc=0.8330\n",
      "precision=0.9186|recall=0.9140|f1=0.9163|aupr=0.9724\n"
     ]
    },
    {
     "name": "stderr",
     "output_type": "stream",
     "text": [
      "100%|██████████| 562/562 [00:46<00:00, 12.22it/s]\n"
     ]
    },
    {
     "name": "stdout",
     "output_type": "stream",
     "text": [
      "Fold-0****Train (Ep avg): Epoch-26/50 | Loss = 0.0560 | Time = 10.0839 sec\n"
     ]
    },
    {
     "name": "stderr",
     "output_type": "stream",
     "text": [
      "\r",
      "  0%|          | 0/141 [00:00<?, ?it/s]"
     ]
    },
    {
     "name": "stdout",
     "output_type": "stream",
     "text": [
      "tn = 280988, fp = 6341, fn = 6431, tp = 280898\n",
      "y_pred: 0 = 287419 | 1 = 287239\n",
      "y_true: 0 = 287329 | 1 = 287329\n",
      "auc=0.9981|sensitivity=0.9776|specificity=0.9779|acc=0.9778|mcc=0.9555\n",
      "precision=0.9779|recall=0.9776|f1=0.9778|aupr=0.9981\n"
     ]
    },
    {
     "name": "stderr",
     "output_type": "stream",
     "text": [
      "100%|██████████| 141/141 [00:03<00:00, 35.25it/s]\n"
     ]
    },
    {
     "name": "stdout",
     "output_type": "stream",
     "text": [
      "Fold-0 ****Test  Epoch-26/50: Loss = 0.356269\n"
     ]
    },
    {
     "name": "stderr",
     "output_type": "stream",
     "text": [
      "\r",
      "  0%|          | 0/562 [00:00<?, ?it/s]"
     ]
    },
    {
     "name": "stdout",
     "output_type": "stream",
     "text": [
      "tn = 66049, fp = 5788, fn = 5246, tp = 66591\n",
      "y_pred: 0 = 71295 | 1 = 72379\n",
      "y_true: 0 = 71837 | 1 = 71837\n",
      "auc=0.9758|sensitivity=0.9270|specificity=0.9194|acc=0.9232|mcc=0.8464\n",
      "precision=0.9200|recall=0.9270|f1=0.9235|aupr=0.9752\n",
      "****Saving model: Best epoch = 26 | 5metrics_Best_avg = 0.9172\n",
      "*****Path saver:  ./model/pHLAIformer/no_positional_embedding__model_layer1_multihead9_fold0.pkl\n"
     ]
    },
    {
     "name": "stderr",
     "output_type": "stream",
     "text": [
      "100%|██████████| 562/562 [00:44<00:00, 12.67it/s]\n"
     ]
    },
    {
     "name": "stdout",
     "output_type": "stream",
     "text": [
      "Fold-0****Train (Ep avg): Epoch-27/50 | Loss = 0.0528 | Time = 9.9667 sec\n",
      "tn = 281388, fp = 5941, fn = 5901, tp = 281428\n",
      "y_pred: 0 = 287289 | 1 = 287369\n",
      "y_true: 0 = 287329 | 1 = 287329\n",
      "auc=0.9983|sensitivity=0.9795|specificity=0.9793|acc=0.9794|mcc=0.9588\n",
      "precision=0.9793|recall=0.9795|f1=0.9794|aupr=0.9983\n"
     ]
    },
    {
     "name": "stderr",
     "output_type": "stream",
     "text": [
      "100%|██████████| 141/141 [00:03<00:00, 35.51it/s]\n"
     ]
    },
    {
     "name": "stdout",
     "output_type": "stream",
     "text": [
      "Fold-0 ****Test  Epoch-27/50: Loss = 0.365398\n"
     ]
    },
    {
     "name": "stderr",
     "output_type": "stream",
     "text": [
      "  0%|          | 2/562 [00:00<00:45, 12.30it/s]"
     ]
    },
    {
     "name": "stdout",
     "output_type": "stream",
     "text": [
      "tn = 66853, fp = 4984, fn = 6287, tp = 65550\n",
      "y_pred: 0 = 73140 | 1 = 70534\n",
      "y_true: 0 = 71837 | 1 = 71837\n",
      "auc=0.9757|sensitivity=0.9125|specificity=0.9306|acc=0.9216|mcc=0.8432\n",
      "precision=0.9293|recall=0.9125|f1=0.9208|aupr=0.9750\n"
     ]
    },
    {
     "name": "stderr",
     "output_type": "stream",
     "text": [
      "100%|██████████| 562/562 [00:44<00:00, 12.60it/s]\n"
     ]
    },
    {
     "name": "stdout",
     "output_type": "stream",
     "text": [
      "Fold-0****Train (Ep avg): Epoch-28/50 | Loss = 0.0525 | Time = 9.9932 sec\n",
      "tn = 281381, fp = 5948, fn = 5990, tp = 281339\n",
      "y_pred: 0 = 287371 | 1 = 287287\n",
      "y_true: 0 = 287329 | 1 = 287329\n",
      "auc=0.9983|sensitivity=0.9792|specificity=0.9793|acc=0.9792|mcc=0.9585\n",
      "precision=0.9793|recall=0.9792|f1=0.9792|aupr=0.9983\n"
     ]
    },
    {
     "name": "stderr",
     "output_type": "stream",
     "text": [
      "100%|██████████| 141/141 [00:04<00:00, 34.29it/s]\n"
     ]
    },
    {
     "name": "stdout",
     "output_type": "stream",
     "text": [
      "Fold-0 ****Test  Epoch-28/50: Loss = 0.369712\n"
     ]
    },
    {
     "name": "stderr",
     "output_type": "stream",
     "text": [
      "\r",
      "  0%|          | 0/562 [00:00<?, ?it/s]"
     ]
    },
    {
     "name": "stdout",
     "output_type": "stream",
     "text": [
      "tn = 66539, fp = 5298, fn = 5869, tp = 65968\n",
      "y_pred: 0 = 72408 | 1 = 71266\n",
      "y_true: 0 = 71837 | 1 = 71837\n",
      "auc=0.9758|sensitivity=0.9183|specificity=0.9262|acc=0.9223|mcc=0.8446\n",
      "precision=0.9257|recall=0.9183|f1=0.9220|aupr=0.9752\n"
     ]
    },
    {
     "name": "stderr",
     "output_type": "stream",
     "text": [
      "100%|██████████| 562/562 [00:45<00:00, 12.33it/s]\n"
     ]
    },
    {
     "name": "stdout",
     "output_type": "stream",
     "text": [
      "Fold-0****Train (Ep avg): Epoch-29/50 | Loss = 0.0489 | Time = 10.0938 sec\n"
     ]
    },
    {
     "name": "stderr",
     "output_type": "stream",
     "text": [
      "\r",
      "  0%|          | 0/141 [00:00<?, ?it/s]"
     ]
    },
    {
     "name": "stdout",
     "output_type": "stream",
     "text": [
      "tn = 281945, fp = 5384, fn = 5527, tp = 281802\n",
      "y_pred: 0 = 287472 | 1 = 287186\n",
      "y_true: 0 = 287329 | 1 = 287329\n",
      "auc=0.9985|sensitivity=0.9808|specificity=0.9813|acc=0.9810|mcc=0.9620\n",
      "precision=0.9813|recall=0.9808|f1=0.9810|aupr=0.9985\n"
     ]
    },
    {
     "name": "stderr",
     "output_type": "stream",
     "text": [
      "100%|██████████| 141/141 [00:04<00:00, 34.03it/s]\n"
     ]
    },
    {
     "name": "stdout",
     "output_type": "stream",
     "text": [
      "Fold-0 ****Test  Epoch-29/50: Loss = 0.383223\n"
     ]
    },
    {
     "name": "stderr",
     "output_type": "stream",
     "text": [
      "\r",
      "  0%|          | 0/562 [00:00<?, ?it/s]"
     ]
    },
    {
     "name": "stdout",
     "output_type": "stream",
     "text": [
      "tn = 66710, fp = 5127, fn = 5956, tp = 65881\n",
      "y_pred: 0 = 72666 | 1 = 71008\n",
      "y_true: 0 = 71837 | 1 = 71837\n",
      "auc=0.9756|sensitivity=0.9171|specificity=0.9286|acc=0.9229|mcc=0.8458\n",
      "precision=0.9278|recall=0.9171|f1=0.9224|aupr=0.9749\n"
     ]
    },
    {
     "name": "stderr",
     "output_type": "stream",
     "text": [
      "100%|██████████| 562/562 [00:46<00:00, 12.02it/s]\n"
     ]
    },
    {
     "name": "stdout",
     "output_type": "stream",
     "text": [
      "Fold-0****Train (Ep avg): Epoch-30/50 | Loss = 0.0472 | Time = 10.1947 sec\n",
      "tn = 282054, fp = 5275, fn = 5313, tp = 282016\n",
      "y_pred: 0 = 287367 | 1 = 287291\n",
      "y_true: 0 = 287329 | 1 = 287329\n",
      "auc=0.9986|sensitivity=0.9815|specificity=0.9816|acc=0.9816|mcc=0.9632\n",
      "precision=0.9816|recall=0.9815|f1=0.9816|aupr=0.9986\n"
     ]
    },
    {
     "name": "stderr",
     "output_type": "stream",
     "text": [
      "100%|██████████| 141/141 [00:04<00:00, 32.88it/s]\n"
     ]
    },
    {
     "name": "stdout",
     "output_type": "stream",
     "text": [
      "Fold-0 ****Test  Epoch-30/50: Loss = 0.391289\n"
     ]
    },
    {
     "name": "stderr",
     "output_type": "stream",
     "text": [
      "\r",
      "  0%|          | 0/562 [00:00<?, ?it/s]"
     ]
    },
    {
     "name": "stdout",
     "output_type": "stream",
     "text": [
      "tn = 66489, fp = 5348, fn = 5692, tp = 66145\n",
      "y_pred: 0 = 72181 | 1 = 71493\n",
      "y_true: 0 = 71837 | 1 = 71837\n",
      "auc=0.9758|sensitivity=0.9208|specificity=0.9256|acc=0.9232|mcc=0.8463\n",
      "precision=0.9252|recall=0.9208|f1=0.9230|aupr=0.9750\n"
     ]
    },
    {
     "name": "stderr",
     "output_type": "stream",
     "text": [
      "100%|██████████| 562/562 [00:46<00:00, 12.15it/s]\n"
     ]
    },
    {
     "name": "stdout",
     "output_type": "stream",
     "text": [
      "Fold-0****Train (Ep avg): Epoch-31/50 | Loss = 0.0468 | Time = 10.1538 sec\n",
      "tn = 282057, fp = 5272, fn = 5299, tp = 282030\n",
      "y_pred: 0 = 287356 | 1 = 287302\n",
      "y_true: 0 = 287329 | 1 = 287329\n",
      "auc=0.9986|sensitivity=0.9816|specificity=0.9817|acc=0.9816|mcc=0.9632\n",
      "precision=0.9816|recall=0.9816|f1=0.9816|aupr=0.9987\n"
     ]
    },
    {
     "name": "stderr",
     "output_type": "stream",
     "text": [
      "100%|██████████| 141/141 [00:04<00:00, 33.79it/s]\n"
     ]
    },
    {
     "name": "stdout",
     "output_type": "stream",
     "text": [
      "Fold-0 ****Test  Epoch-31/50: Loss = 0.389040\n"
     ]
    },
    {
     "name": "stderr",
     "output_type": "stream",
     "text": [
      "\r",
      "  0%|          | 0/562 [00:00<?, ?it/s]"
     ]
    },
    {
     "name": "stdout",
     "output_type": "stream",
     "text": [
      "tn = 66454, fp = 5383, fn = 5559, tp = 66278\n",
      "y_pred: 0 = 72013 | 1 = 71661\n",
      "y_true: 0 = 71837 | 1 = 71837\n",
      "auc=0.9759|sensitivity=0.9226|specificity=0.9251|acc=0.9238|mcc=0.8477\n",
      "precision=0.9249|recall=0.9226|f1=0.9237|aupr=0.9752\n",
      "****Saving model: Best epoch = 31 | 5metrics_Best_avg = 0.9178\n",
      "*****Path saver:  ./model/pHLAIformer/no_positional_embedding__model_layer1_multihead9_fold0.pkl\n"
     ]
    },
    {
     "name": "stderr",
     "output_type": "stream",
     "text": [
      "100%|██████████| 562/562 [00:45<00:00, 12.27it/s]\n"
     ]
    },
    {
     "name": "stdout",
     "output_type": "stream",
     "text": [
      "Fold-0****Train (Ep avg): Epoch-32/50 | Loss = 0.0461 | Time = 10.0995 sec\n"
     ]
    },
    {
     "name": "stderr",
     "output_type": "stream",
     "text": [
      "\r",
      "  0%|          | 0/141 [00:00<?, ?it/s]"
     ]
    },
    {
     "name": "stdout",
     "output_type": "stream",
     "text": [
      "tn = 282149, fp = 5180, fn = 5161, tp = 282168\n",
      "y_pred: 0 = 287310 | 1 = 287348\n",
      "y_true: 0 = 287329 | 1 = 287329\n",
      "auc=0.9987|sensitivity=0.9820|specificity=0.9820|acc=0.9820|mcc=0.9640\n",
      "precision=0.9820|recall=0.9820|f1=0.9820|aupr=0.9987\n"
     ]
    },
    {
     "name": "stderr",
     "output_type": "stream",
     "text": [
      "100%|██████████| 141/141 [00:04<00:00, 33.95it/s]\n"
     ]
    },
    {
     "name": "stdout",
     "output_type": "stream",
     "text": [
      "Fold-0 ****Test  Epoch-32/50: Loss = 0.406599\n"
     ]
    },
    {
     "name": "stderr",
     "output_type": "stream",
     "text": [
      "\r",
      "  0%|          | 0/562 [00:00<?, ?it/s]"
     ]
    },
    {
     "name": "stdout",
     "output_type": "stream",
     "text": [
      "tn = 65958, fp = 5879, fn = 5384, tp = 66453\n",
      "y_pred: 0 = 71342 | 1 = 72332\n",
      "y_true: 0 = 71837 | 1 = 71837\n",
      "auc=0.9750|sensitivity=0.9251|specificity=0.9182|acc=0.9216|mcc=0.8432\n",
      "precision=0.9187|recall=0.9251|f1=0.9219|aupr=0.9742\n"
     ]
    },
    {
     "name": "stderr",
     "output_type": "stream",
     "text": [
      "100%|██████████| 562/562 [00:45<00:00, 12.33it/s]\n"
     ]
    },
    {
     "name": "stdout",
     "output_type": "stream",
     "text": [
      "Fold-0****Train (Ep avg): Epoch-33/50 | Loss = 0.0431 | Time = 10.0913 sec\n",
      "tn = 282507, fp = 4822, fn = 4832, tp = 282497\n",
      "y_pred: 0 = 287339 | 1 = 287319\n",
      "y_true: 0 = 287329 | 1 = 287329\n",
      "auc=0.9988|sensitivity=0.9832|specificity=0.9832|acc=0.9832|mcc=0.9664\n",
      "precision=0.9832|recall=0.9832|f1=0.9832|aupr=0.9989\n"
     ]
    },
    {
     "name": "stderr",
     "output_type": "stream",
     "text": [
      "100%|██████████| 141/141 [00:04<00:00, 34.30it/s]\n"
     ]
    },
    {
     "name": "stdout",
     "output_type": "stream",
     "text": [
      "Fold-0 ****Test  Epoch-33/50: Loss = 0.432456\n"
     ]
    },
    {
     "name": "stderr",
     "output_type": "stream",
     "text": [
      "  0%|          | 2/562 [00:00<00:45, 12.29it/s]"
     ]
    },
    {
     "name": "stdout",
     "output_type": "stream",
     "text": [
      "tn = 64331, fp = 7506, fn = 4129, tp = 67708\n",
      "y_pred: 0 = 68460 | 1 = 75214\n",
      "y_true: 0 = 71837 | 1 = 71837\n",
      "auc=0.9755|sensitivity=0.9425|specificity=0.8955|acc=0.9190|mcc=0.8390\n",
      "precision=0.9002|recall=0.9425|f1=0.9209|aupr=0.9751\n"
     ]
    },
    {
     "name": "stderr",
     "output_type": "stream",
     "text": [
      "100%|██████████| 562/562 [00:44<00:00, 12.61it/s]\n"
     ]
    },
    {
     "name": "stdout",
     "output_type": "stream",
     "text": [
      "Fold-0****Train (Ep avg): Epoch-34/50 | Loss = 0.0440 | Time = 10.0101 sec\n"
     ]
    },
    {
     "name": "stderr",
     "output_type": "stream",
     "text": [
      "\r",
      "  0%|          | 0/141 [00:00<?, ?it/s]"
     ]
    },
    {
     "name": "stdout",
     "output_type": "stream",
     "text": [
      "tn = 282455, fp = 4874, fn = 4924, tp = 282405\n",
      "y_pred: 0 = 287379 | 1 = 287279\n",
      "y_true: 0 = 287329 | 1 = 287329\n",
      "auc=0.9988|sensitivity=0.9829|specificity=0.9830|acc=0.9829|mcc=0.9659\n",
      "precision=0.9830|recall=0.9829|f1=0.9829|aupr=0.9988\n"
     ]
    },
    {
     "name": "stderr",
     "output_type": "stream",
     "text": [
      "100%|██████████| 141/141 [00:04<00:00, 35.14it/s]\n"
     ]
    },
    {
     "name": "stdout",
     "output_type": "stream",
     "text": [
      "Fold-0 ****Test  Epoch-34/50: Loss = 0.400527\n"
     ]
    },
    {
     "name": "stderr",
     "output_type": "stream",
     "text": [
      "\r",
      "  0%|          | 0/562 [00:00<?, ?it/s]"
     ]
    },
    {
     "name": "stdout",
     "output_type": "stream",
     "text": [
      "tn = 66210, fp = 5627, fn = 5603, tp = 66234\n",
      "y_pred: 0 = 71813 | 1 = 71861\n",
      "y_true: 0 = 71837 | 1 = 71837\n",
      "auc=0.9755|sensitivity=0.9220|specificity=0.9217|acc=0.9218|mcc=0.8437\n",
      "precision=0.9217|recall=0.9220|f1=0.9218|aupr=0.9749\n"
     ]
    },
    {
     "name": "stderr",
     "output_type": "stream",
     "text": [
      "100%|██████████| 562/562 [00:44<00:00, 12.64it/s]\n"
     ]
    },
    {
     "name": "stdout",
     "output_type": "stream",
     "text": [
      "Fold-0****Train (Ep avg): Epoch-35/50 | Loss = 0.0421 | Time = 10.0047 sec\n",
      "tn = 282649, fp = 4680, fn = 4719, tp = 282610\n",
      "y_pred: 0 = 287368 | 1 = 287290\n",
      "y_true: 0 = 287329 | 1 = 287329\n",
      "auc=0.9989|sensitivity=0.9836|specificity=0.9837|acc=0.9836|mcc=0.9673\n",
      "precision=0.9837|recall=0.9836|f1=0.9836|aupr=0.9989\n"
     ]
    },
    {
     "name": "stderr",
     "output_type": "stream",
     "text": [
      "100%|██████████| 141/141 [00:04<00:00, 34.76it/s]\n"
     ]
    },
    {
     "name": "stdout",
     "output_type": "stream",
     "text": [
      "Fold-0 ****Test  Epoch-35/50: Loss = 0.405776\n"
     ]
    },
    {
     "name": "stderr",
     "output_type": "stream",
     "text": [
      "\r",
      "  0%|          | 0/562 [00:00<?, ?it/s]"
     ]
    },
    {
     "name": "stdout",
     "output_type": "stream",
     "text": [
      "tn = 66272, fp = 5565, fn = 5608, tp = 66229\n",
      "y_pred: 0 = 71880 | 1 = 71794\n",
      "y_true: 0 = 71837 | 1 = 71837\n",
      "auc=0.9752|sensitivity=0.9219|specificity=0.9225|acc=0.9222|mcc=0.8445\n",
      "precision=0.9225|recall=0.9219|f1=0.9222|aupr=0.9747\n"
     ]
    },
    {
     "name": "stderr",
     "output_type": "stream",
     "text": [
      "100%|██████████| 562/562 [00:44<00:00, 12.60it/s]\n"
     ]
    },
    {
     "name": "stdout",
     "output_type": "stream",
     "text": [
      "Fold-0****Train (Ep avg): Epoch-36/50 | Loss = 0.0407 | Time = 10.0170 sec\n"
     ]
    },
    {
     "name": "stderr",
     "output_type": "stream",
     "text": [
      "\r",
      "  0%|          | 0/141 [00:00<?, ?it/s]"
     ]
    },
    {
     "name": "stdout",
     "output_type": "stream",
     "text": [
      "tn = 282863, fp = 4466, fn = 4530, tp = 282799\n",
      "y_pred: 0 = 287393 | 1 = 287265\n",
      "y_true: 0 = 287329 | 1 = 287329\n",
      "auc=0.9990|sensitivity=0.9842|specificity=0.9845|acc=0.9843|mcc=0.9687\n",
      "precision=0.9845|recall=0.9842|f1=0.9843|aupr=0.9990\n"
     ]
    },
    {
     "name": "stderr",
     "output_type": "stream",
     "text": [
      "100%|██████████| 141/141 [00:04<00:00, 34.79it/s]\n"
     ]
    },
    {
     "name": "stdout",
     "output_type": "stream",
     "text": [
      "Fold-0 ****Test  Epoch-36/50: Loss = 0.421548\n"
     ]
    },
    {
     "name": "stderr",
     "output_type": "stream",
     "text": [
      "\r",
      "  0%|          | 0/562 [00:00<?, ?it/s]"
     ]
    },
    {
     "name": "stdout",
     "output_type": "stream",
     "text": [
      "tn = 65797, fp = 6040, fn = 4997, tp = 66840\n",
      "y_pred: 0 = 70794 | 1 = 72880\n",
      "y_true: 0 = 71837 | 1 = 71837\n",
      "auc=0.9757|sensitivity=0.9304|specificity=0.9159|acc=0.9232|mcc=0.8464\n",
      "precision=0.9171|recall=0.9304|f1=0.9237|aupr=0.9750\n"
     ]
    },
    {
     "name": "stderr",
     "output_type": "stream",
     "text": [
      "100%|██████████| 562/562 [00:45<00:00, 12.36it/s]\n"
     ]
    },
    {
     "name": "stdout",
     "output_type": "stream",
     "text": [
      "Fold-0****Train (Ep avg): Epoch-37/50 | Loss = 0.0397 | Time = 10.0798 sec\n",
      "tn = 282939, fp = 4390, fn = 4404, tp = 282925\n",
      "y_pred: 0 = 287343 | 1 = 287315\n",
      "y_true: 0 = 287329 | 1 = 287329\n",
      "auc=0.9990|sensitivity=0.9847|specificity=0.9847|acc=0.9847|mcc=0.9694\n",
      "precision=0.9847|recall=0.9847|f1=0.9847|aupr=0.9990\n"
     ]
    },
    {
     "name": "stderr",
     "output_type": "stream",
     "text": [
      "100%|██████████| 141/141 [00:04<00:00, 35.13it/s]\n"
     ]
    },
    {
     "name": "stdout",
     "output_type": "stream",
     "text": [
      "Fold-0 ****Test  Epoch-37/50: Loss = 0.426151\n",
      "tn = 65434, fp = 6403, fn = 5007, tp = 66830\n"
     ]
    },
    {
     "name": "stderr",
     "output_type": "stream",
     "text": [
      "  0%|          | 2/562 [00:00<00:44, 12.57it/s]"
     ]
    },
    {
     "name": "stdout",
     "output_type": "stream",
     "text": [
      "y_pred: 0 = 70441 | 1 = 73233\n",
      "y_true: 0 = 71837 | 1 = 71837\n",
      "auc=0.9747|sensitivity=0.9303|specificity=0.9109|acc=0.9206|mcc=0.8413\n",
      "precision=0.9126|recall=0.9303|f1=0.9213|aupr=0.9742\n"
     ]
    },
    {
     "name": "stderr",
     "output_type": "stream",
     "text": [
      "100%|██████████| 562/562 [00:44<00:00, 12.61it/s]\n"
     ]
    },
    {
     "name": "stdout",
     "output_type": "stream",
     "text": [
      "Fold-0****Train (Ep avg): Epoch-38/50 | Loss = 0.0389 | Time = 10.0040 sec\n"
     ]
    },
    {
     "name": "stderr",
     "output_type": "stream",
     "text": [
      "\r",
      "  0%|          | 0/141 [00:00<?, ?it/s]"
     ]
    },
    {
     "name": "stdout",
     "output_type": "stream",
     "text": [
      "tn = 283079, fp = 4250, fn = 4285, tp = 283044\n",
      "y_pred: 0 = 287364 | 1 = 287294\n",
      "y_true: 0 = 287329 | 1 = 287329\n",
      "auc=0.9990|sensitivity=0.9851|specificity=0.9852|acc=0.9851|mcc=0.9703\n",
      "precision=0.9852|recall=0.9851|f1=0.9851|aupr=0.9991\n"
     ]
    },
    {
     "name": "stderr",
     "output_type": "stream",
     "text": [
      "100%|██████████| 141/141 [00:04<00:00, 34.21it/s]\n"
     ]
    },
    {
     "name": "stdout",
     "output_type": "stream",
     "text": [
      "Fold-0 ****Test  Epoch-38/50: Loss = 0.415457\n",
      "tn = 65523, fp = 6314, fn = 5057, tp = 66780\n"
     ]
    },
    {
     "name": "stderr",
     "output_type": "stream",
     "text": [
      "  0%|          | 2/562 [00:00<00:45, 12.20it/s]"
     ]
    },
    {
     "name": "stdout",
     "output_type": "stream",
     "text": [
      "y_pred: 0 = 70580 | 1 = 73094\n",
      "y_true: 0 = 71837 | 1 = 71837\n",
      "auc=0.9752|sensitivity=0.9296|specificity=0.9121|acc=0.9209|mcc=0.8418\n",
      "precision=0.9136|recall=0.9296|f1=0.9215|aupr=0.9746\n"
     ]
    },
    {
     "name": "stderr",
     "output_type": "stream",
     "text": [
      "100%|██████████| 562/562 [00:45<00:00, 12.31it/s]\n"
     ]
    },
    {
     "name": "stdout",
     "output_type": "stream",
     "text": [
      "Fold-0****Train (Ep avg): Epoch-39/50 | Loss = 0.0371 | Time = 10.0748 sec\n",
      "tn = 283172, fp = 4157, fn = 4126, tp = 283203\n",
      "y_pred: 0 = 287298 | 1 = 287360\n",
      "y_true: 0 = 287329 | 1 = 287329\n",
      "auc=0.9991|sensitivity=0.9856|specificity=0.9855|acc=0.9856|mcc=0.9712\n",
      "precision=0.9855|recall=0.9856|f1=0.9856|aupr=0.9991\n"
     ]
    },
    {
     "name": "stderr",
     "output_type": "stream",
     "text": [
      "100%|██████████| 141/141 [00:04<00:00, 33.88it/s]\n"
     ]
    },
    {
     "name": "stdout",
     "output_type": "stream",
     "text": [
      "Fold-0 ****Test  Epoch-39/50: Loss = 0.426154\n"
     ]
    },
    {
     "name": "stderr",
     "output_type": "stream",
     "text": [
      "\r",
      "  0%|          | 0/562 [00:00<?, ?it/s]"
     ]
    },
    {
     "name": "stdout",
     "output_type": "stream",
     "text": [
      "tn = 66663, fp = 5174, fn = 5858, tp = 65979\n",
      "y_pred: 0 = 72521 | 1 = 71153\n",
      "y_true: 0 = 71837 | 1 = 71837\n",
      "auc=0.9755|sensitivity=0.9185|specificity=0.9280|acc=0.9232|mcc=0.8465\n",
      "precision=0.9273|recall=0.9185|f1=0.9228|aupr=0.9747\n"
     ]
    },
    {
     "name": "stderr",
     "output_type": "stream",
     "text": [
      "100%|██████████| 562/562 [00:45<00:00, 12.28it/s]\n"
     ]
    },
    {
     "name": "stdout",
     "output_type": "stream",
     "text": [
      "Fold-0****Train (Ep avg): Epoch-40/50 | Loss = 0.0379 | Time = 10.1096 sec\n",
      "tn = 283055, fp = 4274, fn = 4205, tp = 283124\n",
      "y_pred: 0 = 287260 | 1 = 287398\n",
      "y_true: 0 = 287329 | 1 = 287329\n",
      "auc=0.9991|sensitivity=0.9854|specificity=0.9851|acc=0.9852|mcc=0.9705\n",
      "precision=0.9851|recall=0.9854|f1=0.9852|aupr=0.9991\n"
     ]
    },
    {
     "name": "stderr",
     "output_type": "stream",
     "text": [
      "100%|██████████| 141/141 [00:04<00:00, 34.03it/s]\n"
     ]
    },
    {
     "name": "stdout",
     "output_type": "stream",
     "text": [
      "Fold-0 ****Test  Epoch-40/50: Loss = 0.426699\n",
      "tn = 65625, fp = 6212, fn = 4926, tp = 66911\n"
     ]
    },
    {
     "name": "stderr",
     "output_type": "stream",
     "text": [
      "  0%|          | 2/562 [00:00<00:45, 12.26it/s]"
     ]
    },
    {
     "name": "stdout",
     "output_type": "stream",
     "text": [
      "y_pred: 0 = 70551 | 1 = 73123\n",
      "y_true: 0 = 71837 | 1 = 71837\n",
      "auc=0.9757|sensitivity=0.9314|specificity=0.9135|acc=0.9225|mcc=0.8451\n",
      "precision=0.9150|recall=0.9314|f1=0.9232|aupr=0.9753\n"
     ]
    },
    {
     "name": "stderr",
     "output_type": "stream",
     "text": [
      "100%|██████████| 562/562 [00:45<00:00, 12.24it/s]\n"
     ]
    },
    {
     "name": "stdout",
     "output_type": "stream",
     "text": [
      "Fold-0****Train (Ep avg): Epoch-41/50 | Loss = 0.0362 | Time = 10.1060 sec\n"
     ]
    },
    {
     "name": "stderr",
     "output_type": "stream",
     "text": [
      "\r",
      "  0%|          | 0/141 [00:00<?, ?it/s]"
     ]
    },
    {
     "name": "stdout",
     "output_type": "stream",
     "text": [
      "tn = 283363, fp = 3966, fn = 4018, tp = 283311\n",
      "y_pred: 0 = 287381 | 1 = 287277\n",
      "y_true: 0 = 287329 | 1 = 287329\n",
      "auc=0.9992|sensitivity=0.9860|specificity=0.9862|acc=0.9861|mcc=0.9722\n",
      "precision=0.9862|recall=0.9860|f1=0.9861|aupr=0.9992\n"
     ]
    },
    {
     "name": "stderr",
     "output_type": "stream",
     "text": [
      "100%|██████████| 141/141 [00:04<00:00, 33.85it/s]\n"
     ]
    },
    {
     "name": "stdout",
     "output_type": "stream",
     "text": [
      "Fold-0 ****Test  Epoch-41/50: Loss = 0.434782\n"
     ]
    },
    {
     "name": "stderr",
     "output_type": "stream",
     "text": [
      "\r",
      "  0%|          | 0/562 [00:00<?, ?it/s]"
     ]
    },
    {
     "name": "stdout",
     "output_type": "stream",
     "text": [
      "tn = 66060, fp = 5777, fn = 5201, tp = 66636\n",
      "y_pred: 0 = 71261 | 1 = 72413\n",
      "y_true: 0 = 71837 | 1 = 71837\n",
      "auc=0.9757|sensitivity=0.9276|specificity=0.9196|acc=0.9236|mcc=0.8472\n",
      "precision=0.9202|recall=0.9276|f1=0.9239|aupr=0.9752\n"
     ]
    },
    {
     "name": "stderr",
     "output_type": "stream",
     "text": [
      "100%|██████████| 562/562 [00:45<00:00, 12.23it/s]\n"
     ]
    },
    {
     "name": "stdout",
     "output_type": "stream",
     "text": [
      "Fold-0****Train (Ep avg): Epoch-42/50 | Loss = 0.0361 | Time = 10.1396 sec\n"
     ]
    },
    {
     "name": "stderr",
     "output_type": "stream",
     "text": [
      "\r",
      "  0%|          | 0/141 [00:00<?, ?it/s]"
     ]
    },
    {
     "name": "stdout",
     "output_type": "stream",
     "text": [
      "tn = 283357, fp = 3972, fn = 3980, tp = 283349\n",
      "y_pred: 0 = 287337 | 1 = 287321\n",
      "y_true: 0 = 287329 | 1 = 287329\n",
      "auc=0.9992|sensitivity=0.9861|specificity=0.9862|acc=0.9862|mcc=0.9723\n",
      "precision=0.9862|recall=0.9861|f1=0.9862|aupr=0.9992\n"
     ]
    },
    {
     "name": "stderr",
     "output_type": "stream",
     "text": [
      "100%|██████████| 141/141 [00:04<00:00, 33.81it/s]\n"
     ]
    },
    {
     "name": "stdout",
     "output_type": "stream",
     "text": [
      "Fold-0 ****Test  Epoch-42/50: Loss = 0.433740\n"
     ]
    },
    {
     "name": "stderr",
     "output_type": "stream",
     "text": [
      "\r",
      "  0%|          | 0/562 [00:00<?, ?it/s]"
     ]
    },
    {
     "name": "stdout",
     "output_type": "stream",
     "text": [
      "tn = 65393, fp = 6444, fn = 4941, tp = 66896\n",
      "y_pred: 0 = 70334 | 1 = 73340\n",
      "y_true: 0 = 71837 | 1 = 71837\n",
      "auc=0.9750|sensitivity=0.9312|specificity=0.9103|acc=0.9208|mcc=0.8417\n",
      "precision=0.9121|recall=0.9312|f1=0.9216|aupr=0.9745\n"
     ]
    },
    {
     "name": "stderr",
     "output_type": "stream",
     "text": [
      "100%|██████████| 562/562 [00:46<00:00, 12.15it/s]\n"
     ]
    },
    {
     "name": "stdout",
     "output_type": "stream",
     "text": [
      "Fold-0****Train (Ep avg): Epoch-43/50 | Loss = 0.0349 | Time = 10.1591 sec\n"
     ]
    },
    {
     "name": "stderr",
     "output_type": "stream",
     "text": [
      "\r",
      "  0%|          | 0/141 [00:00<?, ?it/s]"
     ]
    },
    {
     "name": "stdout",
     "output_type": "stream",
     "text": [
      "tn = 283474, fp = 3855, fn = 3815, tp = 283514\n",
      "y_pred: 0 = 287289 | 1 = 287369\n",
      "y_true: 0 = 287329 | 1 = 287329\n",
      "auc=0.9992|sensitivity=0.9867|specificity=0.9866|acc=0.9867|mcc=0.9733\n",
      "precision=0.9866|recall=0.9867|f1=0.9867|aupr=0.9992\n"
     ]
    },
    {
     "name": "stderr",
     "output_type": "stream",
     "text": [
      "100%|██████████| 141/141 [00:04<00:00, 34.06it/s]\n"
     ]
    },
    {
     "name": "stdout",
     "output_type": "stream",
     "text": [
      "Fold-0 ****Test  Epoch-43/50: Loss = 0.438396\n"
     ]
    },
    {
     "name": "stderr",
     "output_type": "stream",
     "text": [
      "\r",
      "  0%|          | 0/562 [00:00<?, ?it/s]"
     ]
    },
    {
     "name": "stdout",
     "output_type": "stream",
     "text": [
      "tn = 65330, fp = 6507, fn = 4555, tp = 67282\n",
      "y_pred: 0 = 69885 | 1 = 73789\n",
      "y_true: 0 = 71837 | 1 = 71837\n",
      "auc=0.9756|sensitivity=0.9366|specificity=0.9094|acc=0.9230|mcc=0.8463\n",
      "precision=0.9118|recall=0.9366|f1=0.9240|aupr=0.9752\n"
     ]
    },
    {
     "name": "stderr",
     "output_type": "stream",
     "text": [
      "100%|██████████| 562/562 [00:45<00:00, 12.33it/s]\n"
     ]
    },
    {
     "name": "stdout",
     "output_type": "stream",
     "text": [
      "Fold-0****Train (Ep avg): Epoch-44/50 | Loss = 0.0329 | Time = 10.0983 sec\n"
     ]
    },
    {
     "name": "stderr",
     "output_type": "stream",
     "text": [
      "\r",
      "  0%|          | 0/141 [00:00<?, ?it/s]"
     ]
    },
    {
     "name": "stdout",
     "output_type": "stream",
     "text": [
      "tn = 283708, fp = 3621, fn = 3582, tp = 283747\n",
      "y_pred: 0 = 287290 | 1 = 287368\n",
      "y_true: 0 = 287329 | 1 = 287329\n",
      "auc=0.9993|sensitivity=0.9875|specificity=0.9874|acc=0.9875|mcc=0.9749\n",
      "precision=0.9874|recall=0.9875|f1=0.9875|aupr=0.9993\n"
     ]
    },
    {
     "name": "stderr",
     "output_type": "stream",
     "text": [
      "100%|██████████| 141/141 [00:04<00:00, 33.89it/s]\n"
     ]
    },
    {
     "name": "stdout",
     "output_type": "stream",
     "text": [
      "Fold-0 ****Test  Epoch-44/50: Loss = 0.460675\n"
     ]
    },
    {
     "name": "stderr",
     "output_type": "stream",
     "text": [
      "\r",
      "  0%|          | 0/562 [00:00<?, ?it/s]"
     ]
    },
    {
     "name": "stdout",
     "output_type": "stream",
     "text": [
      "tn = 65470, fp = 6367, fn = 4906, tp = 66931\n",
      "y_pred: 0 = 70376 | 1 = 73298\n",
      "y_true: 0 = 71837 | 1 = 71837\n",
      "auc=0.9748|sensitivity=0.9317|specificity=0.9114|acc=0.9215|mcc=0.8432\n",
      "precision=0.9131|recall=0.9317|f1=0.9223|aupr=0.9744\n"
     ]
    },
    {
     "name": "stderr",
     "output_type": "stream",
     "text": [
      "100%|██████████| 562/562 [00:45<00:00, 12.30it/s]\n"
     ]
    },
    {
     "name": "stdout",
     "output_type": "stream",
     "text": [
      "Fold-0****Train (Ep avg): Epoch-45/50 | Loss = 0.0337 | Time = 10.1125 sec\n"
     ]
    },
    {
     "name": "stderr",
     "output_type": "stream",
     "text": [
      "\r",
      "  0%|          | 0/141 [00:00<?, ?it/s]"
     ]
    },
    {
     "name": "stdout",
     "output_type": "stream",
     "text": [
      "tn = 283617, fp = 3712, fn = 3706, tp = 283623\n",
      "y_pred: 0 = 287323 | 1 = 287335\n",
      "y_true: 0 = 287329 | 1 = 287329\n",
      "auc=0.9993|sensitivity=0.9871|specificity=0.9871|acc=0.9871|mcc=0.9742\n",
      "precision=0.9871|recall=0.9871|f1=0.9871|aupr=0.9993\n"
     ]
    },
    {
     "name": "stderr",
     "output_type": "stream",
     "text": [
      "100%|██████████| 141/141 [00:04<00:00, 34.68it/s]\n"
     ]
    },
    {
     "name": "stdout",
     "output_type": "stream",
     "text": [
      "Fold-0 ****Test  Epoch-45/50: Loss = 0.438660\n"
     ]
    },
    {
     "name": "stderr",
     "output_type": "stream",
     "text": [
      "\r",
      "  0%|          | 0/562 [00:00<?, ?it/s]"
     ]
    },
    {
     "name": "stdout",
     "output_type": "stream",
     "text": [
      "tn = 66141, fp = 5696, fn = 5390, tp = 66447\n",
      "y_pred: 0 = 71531 | 1 = 72143\n",
      "y_true: 0 = 71837 | 1 = 71837\n",
      "auc=0.9755|sensitivity=0.9250|specificity=0.9207|acc=0.9228|mcc=0.8457\n",
      "precision=0.9210|recall=0.9250|f1=0.9230|aupr=0.9751\n"
     ]
    },
    {
     "name": "stderr",
     "output_type": "stream",
     "text": [
      "100%|██████████| 562/562 [00:44<00:00, 12.63it/s]\n"
     ]
    },
    {
     "name": "stdout",
     "output_type": "stream",
     "text": [
      "Fold-0****Train (Ep avg): Epoch-46/50 | Loss = 0.0323 | Time = 10.0142 sec\n",
      "tn = 283779, fp = 3550, fn = 3559, tp = 283770\n",
      "y_pred: 0 = 287338 | 1 = 287320\n",
      "y_true: 0 = 287329 | 1 = 287329\n",
      "auc=0.9993|sensitivity=0.9876|specificity=0.9876|acc=0.9876|mcc=0.9753\n",
      "precision=0.9876|recall=0.9876|f1=0.9876|aupr=0.9993\n"
     ]
    },
    {
     "name": "stderr",
     "output_type": "stream",
     "text": [
      "100%|██████████| 141/141 [00:04<00:00, 34.53it/s]\n"
     ]
    },
    {
     "name": "stdout",
     "output_type": "stream",
     "text": [
      "Fold-0 ****Test  Epoch-46/50: Loss = 0.446133\n"
     ]
    },
    {
     "name": "stderr",
     "output_type": "stream",
     "text": [
      "\r",
      "  0%|          | 0/562 [00:00<?, ?it/s]"
     ]
    },
    {
     "name": "stdout",
     "output_type": "stream",
     "text": [
      "tn = 66055, fp = 5782, fn = 5419, tp = 66418\n",
      "y_pred: 0 = 71474 | 1 = 72200\n",
      "y_true: 0 = 71837 | 1 = 71837\n",
      "auc=0.9748|sensitivity=0.9246|specificity=0.9195|acc=0.9220|mcc=0.8441\n",
      "precision=0.9199|recall=0.9246|f1=0.9222|aupr=0.9745\n"
     ]
    },
    {
     "name": "stderr",
     "output_type": "stream",
     "text": [
      "100%|██████████| 562/562 [00:44<00:00, 12.59it/s]\n"
     ]
    },
    {
     "name": "stdout",
     "output_type": "stream",
     "text": [
      "Fold-0****Train (Ep avg): Epoch-47/50 | Loss = 0.0318 | Time = 10.0592 sec\n"
     ]
    },
    {
     "name": "stderr",
     "output_type": "stream",
     "text": [
      "\r",
      "  0%|          | 0/141 [00:00<?, ?it/s]"
     ]
    },
    {
     "name": "stdout",
     "output_type": "stream",
     "text": [
      "tn = 283815, fp = 3514, fn = 3440, tp = 283889\n",
      "y_pred: 0 = 287255 | 1 = 287403\n",
      "y_true: 0 = 287329 | 1 = 287329\n",
      "auc=0.9994|sensitivity=0.9880|specificity=0.9878|acc=0.9879|mcc=0.9758\n",
      "precision=0.9878|recall=0.9880|f1=0.9879|aupr=0.9994\n"
     ]
    },
    {
     "name": "stderr",
     "output_type": "stream",
     "text": [
      "100%|██████████| 141/141 [00:04<00:00, 34.45it/s]\n"
     ]
    },
    {
     "name": "stdout",
     "output_type": "stream",
     "text": [
      "Fold-0 ****Test  Epoch-47/50: Loss = 0.440603\n"
     ]
    },
    {
     "name": "stderr",
     "output_type": "stream",
     "text": [
      "  0%|          | 2/562 [00:00<00:45, 12.27it/s]"
     ]
    },
    {
     "name": "stdout",
     "output_type": "stream",
     "text": [
      "tn = 65343, fp = 6494, fn = 4765, tp = 67072\n",
      "y_pred: 0 = 70108 | 1 = 73566\n",
      "y_true: 0 = 71837 | 1 = 71837\n",
      "auc=0.9751|sensitivity=0.9337|specificity=0.9096|acc=0.9216|mcc=0.8435\n",
      "precision=0.9117|recall=0.9337|f1=0.9226|aupr=0.9747\n"
     ]
    },
    {
     "name": "stderr",
     "output_type": "stream",
     "text": [
      "100%|██████████| 562/562 [00:44<00:00, 12.50it/s]\n"
     ]
    },
    {
     "name": "stdout",
     "output_type": "stream",
     "text": [
      "Fold-0****Train (Ep avg): Epoch-48/50 | Loss = 0.0310 | Time = 10.0752 sec\n",
      "tn = 283929, fp = 3400, fn = 3352, tp = 283977\n",
      "y_pred: 0 = 287281 | 1 = 287377\n",
      "y_true: 0 = 287329 | 1 = 287329\n",
      "auc=0.9994|sensitivity=0.9883|specificity=0.9882|acc=0.9883|mcc=0.9765\n",
      "precision=0.9882|recall=0.9883|f1=0.9883|aupr=0.9994\n"
     ]
    },
    {
     "name": "stderr",
     "output_type": "stream",
     "text": [
      "100%|██████████| 141/141 [00:04<00:00, 34.39it/s]\n"
     ]
    },
    {
     "name": "stdout",
     "output_type": "stream",
     "text": [
      "Fold-0 ****Test  Epoch-48/50: Loss = 0.461414\n"
     ]
    },
    {
     "name": "stderr",
     "output_type": "stream",
     "text": [
      "\r",
      "  0%|          | 0/562 [00:00<?, ?it/s]"
     ]
    },
    {
     "name": "stdout",
     "output_type": "stream",
     "text": [
      "tn = 65895, fp = 5942, fn = 4954, tp = 66883\n",
      "y_pred: 0 = 70849 | 1 = 72825\n",
      "y_true: 0 = 71837 | 1 = 71837\n",
      "auc=0.9762|sensitivity=0.9310|specificity=0.9173|acc=0.9242|mcc=0.8484\n",
      "precision=0.9184|recall=0.9310|f1=0.9247|aupr=0.9758\n",
      "****Saving model: Best epoch = 48 | 5metrics_Best_avg = 0.9184\n",
      "*****Path saver:  ./model/pHLAIformer/no_positional_embedding__model_layer1_multihead9_fold0.pkl\n"
     ]
    },
    {
     "name": "stderr",
     "output_type": "stream",
     "text": [
      "100%|██████████| 562/562 [00:44<00:00, 12.60it/s]\n"
     ]
    },
    {
     "name": "stdout",
     "output_type": "stream",
     "text": [
      "Fold-0****Train (Ep avg): Epoch-49/50 | Loss = 0.0306 | Time = 9.9976 sec\n",
      "tn = 284010, fp = 3319, fn = 3300, tp = 284029\n",
      "y_pred: 0 = 287310 | 1 = 287348\n",
      "y_true: 0 = 287329 | 1 = 287329\n",
      "auc=0.9994|sensitivity=0.9885|specificity=0.9884|acc=0.9885|mcc=0.9770\n",
      "precision=0.9884|recall=0.9885|f1=0.9885|aupr=0.9994\n"
     ]
    },
    {
     "name": "stderr",
     "output_type": "stream",
     "text": [
      "100%|██████████| 141/141 [00:04<00:00, 34.22it/s]\n"
     ]
    },
    {
     "name": "stdout",
     "output_type": "stream",
     "text": [
      "Fold-0 ****Test  Epoch-49/50: Loss = 0.475707\n"
     ]
    },
    {
     "name": "stderr",
     "output_type": "stream",
     "text": [
      "  0%|          | 2/562 [00:00<00:45, 12.20it/s]"
     ]
    },
    {
     "name": "stdout",
     "output_type": "stream",
     "text": [
      "tn = 65935, fp = 5902, fn = 5070, tp = 66767\n",
      "y_pred: 0 = 71005 | 1 = 72669\n",
      "y_true: 0 = 71837 | 1 = 71837\n",
      "auc=0.9755|sensitivity=0.9294|specificity=0.9178|acc=0.9236|mcc=0.8473\n",
      "precision=0.9188|recall=0.9294|f1=0.9241|aupr=0.9752\n"
     ]
    },
    {
     "name": "stderr",
     "output_type": "stream",
     "text": [
      "100%|██████████| 562/562 [00:45<00:00, 12.34it/s]\n"
     ]
    },
    {
     "name": "stdout",
     "output_type": "stream",
     "text": [
      "Fold-0****Train (Ep avg): Epoch-50/50 | Loss = 0.0296 | Time = 10.1001 sec\n"
     ]
    },
    {
     "name": "stderr",
     "output_type": "stream",
     "text": [
      "\r",
      "  0%|          | 0/141 [00:00<?, ?it/s]"
     ]
    },
    {
     "name": "stdout",
     "output_type": "stream",
     "text": [
      "tn = 284109, fp = 3220, fn = 3239, tp = 284090\n",
      "y_pred: 0 = 287348 | 1 = 287310\n",
      "y_true: 0 = 287329 | 1 = 287329\n",
      "auc=0.9994|sensitivity=0.9887|specificity=0.9888|acc=0.9888|mcc=0.9775\n",
      "precision=0.9888|recall=0.9887|f1=0.9888|aupr=0.9994\n"
     ]
    },
    {
     "name": "stderr",
     "output_type": "stream",
     "text": [
      "100%|██████████| 141/141 [00:04<00:00, 33.91it/s]\n"
     ]
    },
    {
     "name": "stdout",
     "output_type": "stream",
     "text": [
      "Fold-0 ****Test  Epoch-50/50: Loss = 0.454111\n",
      "tn = 65539, fp = 6298, fn = 4908, tp = 66929\n"
     ]
    },
    {
     "name": "stderr",
     "output_type": "stream",
     "text": [
      "  1%|          | 4/562 [00:00<00:16, 33.90it/s]"
     ]
    },
    {
     "name": "stdout",
     "output_type": "stream",
     "text": [
      "y_pred: 0 = 70447 | 1 = 73227\n",
      "y_true: 0 = 71837 | 1 = 71837\n",
      "auc=0.9754|sensitivity=0.9317|specificity=0.9123|acc=0.9220|mcc=0.8442\n",
      "precision=0.9140|recall=0.9317|f1=0.9228|aupr=0.9750\n",
      "-----Optimization Finished!-----\n",
      "-----Evaluate Results-----\n",
      "*****Path saver:  ./model/pHLAIformer/no_positional_embedding__model_layer1_multihead9_fold0.pkl\n"
     ]
    },
    {
     "name": "stderr",
     "output_type": "stream",
     "text": [
      "100%|██████████| 562/562 [00:16<00:00, 33.88it/s]\n"
     ]
    },
    {
     "name": "stdout",
     "output_type": "stream",
     "text": [
      "Fold-0 ****Test  Epoch-48/50: Loss = 0.318149\n"
     ]
    },
    {
     "name": "stderr",
     "output_type": "stream",
     "text": [
      "\r",
      "  0%|          | 0/141 [00:00<?, ?it/s]"
     ]
    },
    {
     "name": "stdout",
     "output_type": "stream",
     "text": [
      "tn = 268049, fp = 19280, fn = 15986, tp = 271343\n",
      "y_pred: 0 = 284035 | 1 = 290623\n",
      "y_true: 0 = 287329 | 1 = 287329\n",
      "auc=0.9846|sensitivity=0.9444|specificity=0.9329|acc=0.9386|mcc=0.8773\n",
      "precision=0.9337|recall=0.9444|f1=0.9390|aupr=0.9844\n"
     ]
    },
    {
     "name": "stderr",
     "output_type": "stream",
     "text": [
      "100%|██████████| 141/141 [00:04<00:00, 33.82it/s]\n"
     ]
    },
    {
     "name": "stdout",
     "output_type": "stream",
     "text": [
      "Fold-0 ****Test  Epoch-48/50: Loss = 0.461414\n"
     ]
    },
    {
     "name": "stderr",
     "output_type": "stream",
     "text": [
      "  2%|▏         | 4/168 [00:00<00:04, 33.81it/s]"
     ]
    },
    {
     "name": "stdout",
     "output_type": "stream",
     "text": [
      "tn = 65895, fp = 5942, fn = 4954, tp = 66883\n",
      "y_pred: 0 = 70849 | 1 = 72825\n",
      "y_true: 0 = 71837 | 1 = 71837\n",
      "auc=0.9762|sensitivity=0.9310|specificity=0.9173|acc=0.9242|mcc=0.8484\n",
      "precision=0.9184|recall=0.9310|f1=0.9247|aupr=0.9758\n"
     ]
    },
    {
     "name": "stderr",
     "output_type": "stream",
     "text": [
      "100%|██████████| 168/168 [00:04<00:00, 33.77it/s]\n"
     ]
    },
    {
     "name": "stdout",
     "output_type": "stream",
     "text": [
      "Fold-0 ****Test  Epoch-48/50: Loss = 0.448255\n"
     ]
    },
    {
     "name": "stderr",
     "output_type": "stream",
     "text": [
      "  4%|▍         | 4/102 [00:00<00:02, 33.80it/s]"
     ]
    },
    {
     "name": "stdout",
     "output_type": "stream",
     "text": [
      "tn = 78736, fp = 6826, fn = 5432, tp = 80444\n",
      "y_pred: 0 = 84168 | 1 = 87270\n",
      "y_true: 0 = 85562 | 1 = 85876\n",
      "auc=0.9776|sensitivity=0.9367|specificity=0.9202|acc=0.9285|mcc=0.8571\n",
      "precision=0.9218|recall=0.9367|f1=0.9292|aupr=0.9772\n"
     ]
    },
    {
     "name": "stderr",
     "output_type": "stream",
     "text": [
      "100%|██████████| 102/102 [00:03<00:00, 33.52it/s]\n"
     ]
    },
    {
     "name": "stdout",
     "output_type": "stream",
     "text": [
      "Fold-0 ****Test  Epoch-48/50: Loss = 0.962064\n",
      "tn = 48267, fp = 3614, fn = 9109, tp = 42875\n",
      "y_pred: 0 = 57376 | 1 = 46489\n",
      "y_true: 0 = 51881 | 1 = 51984\n",
      "auc=0.9462|sensitivity=0.8248|specificity=0.9303|acc=0.8775|mcc=0.7593\n",
      "precision=0.9223|recall=0.8248|f1=0.8708|aupr=0.9506\n",
      "Total training time: 506.46 sec\n",
      "=====Fold-1=====\n",
      "-----Generate data loader-----\n"
     ]
    },
    {
     "name": "stderr",
     "output_type": "stream",
     "text": [
      "  0%|          | 2/562 [00:00<00:49, 11.25it/s]"
     ]
    },
    {
     "name": "stdout",
     "output_type": "stream",
     "text": [
      "Fold-1 Label info: Train = Counter({0: 287329, 1: 287329}) | Val = Counter({1: 71837, 0: 71837})\n",
      "-----Compile model-----\n",
      "-----Train-----\n",
      "dir_saver:  ./model/pHLAIformer/\n",
      "path_saver:  ./model/pHLAIformer/no_positional_embedding__model_layer1_multihead9_fold1.pkl\n"
     ]
    },
    {
     "name": "stderr",
     "output_type": "stream",
     "text": [
      "100%|██████████| 562/562 [00:45<00:00, 12.24it/s]\n"
     ]
    },
    {
     "name": "stdout",
     "output_type": "stream",
     "text": [
      "Fold-1****Train (Ep avg): Epoch-1/50 | Loss = 0.2703 | Time = 10.0830 sec\n"
     ]
    },
    {
     "name": "stderr",
     "output_type": "stream",
     "text": [
      "\r",
      "  0%|          | 0/141 [00:00<?, ?it/s]"
     ]
    },
    {
     "name": "stdout",
     "output_type": "stream",
     "text": [
      "tn = 252910, fp = 34419, fn = 29968, tp = 257361\n",
      "y_pred: 0 = 282878 | 1 = 291780\n",
      "y_true: 0 = 287329 | 1 = 287329\n",
      "auc=0.9556|sensitivity=0.8957|specificity=0.8802|acc=0.8880|mcc=0.7760\n",
      "precision=0.8820|recall=0.8957|f1=0.8888|aupr=0.9534\n"
     ]
    },
    {
     "name": "stderr",
     "output_type": "stream",
     "text": [
      "100%|██████████| 141/141 [00:04<00:00, 33.48it/s]\n"
     ]
    },
    {
     "name": "stdout",
     "output_type": "stream",
     "text": [
      "Fold-1 ****Test  Epoch-1/50: Loss = 0.221776\n"
     ]
    },
    {
     "name": "stderr",
     "output_type": "stream",
     "text": [
      "\r",
      "  0%|          | 0/562 [00:00<?, ?it/s]"
     ]
    },
    {
     "name": "stdout",
     "output_type": "stream",
     "text": [
      "tn = 65654, fp = 6183, fn = 6412, tp = 65425\n",
      "y_pred: 0 = 72066 | 1 = 71608\n",
      "y_true: 0 = 71837 | 1 = 71837\n",
      "auc=0.9700|sensitivity=0.9107|specificity=0.9139|acc=0.9123|mcc=0.8247\n",
      "precision=0.9137|recall=0.9107|f1=0.9122|aupr=0.9689\n",
      "****Saving model: Best epoch = 1 | 5metrics_Best_avg = 0.9048\n",
      "*****Path saver:  ./model/pHLAIformer/no_positional_embedding__model_layer1_multihead9_fold1.pkl\n"
     ]
    },
    {
     "name": "stderr",
     "output_type": "stream",
     "text": [
      "100%|██████████| 562/562 [00:46<00:00, 12.20it/s]\n"
     ]
    },
    {
     "name": "stdout",
     "output_type": "stream",
     "text": [
      "Fold-1****Train (Ep avg): Epoch-2/50 | Loss = 0.2103 | Time = 10.1269 sec\n",
      "tn = 262827, fp = 24502, fn = 23158, tp = 264171\n",
      "y_pred: 0 = 285985 | 1 = 288673\n",
      "y_true: 0 = 287329 | 1 = 287329\n",
      "auc=0.9727|sensitivity=0.9194|specificity=0.9147|acc=0.9171|mcc=0.8341\n",
      "precision=0.9151|recall=0.9194|f1=0.9173|aupr=0.9716\n"
     ]
    },
    {
     "name": "stderr",
     "output_type": "stream",
     "text": [
      "100%|██████████| 141/141 [00:04<00:00, 34.20it/s]\n"
     ]
    },
    {
     "name": "stdout",
     "output_type": "stream",
     "text": [
      "Fold-1 ****Test  Epoch-2/50: Loss = 0.203071\n"
     ]
    },
    {
     "name": "stderr",
     "output_type": "stream",
     "text": [
      "\r",
      "  0%|          | 0/562 [00:00<?, ?it/s]"
     ]
    },
    {
     "name": "stdout",
     "output_type": "stream",
     "text": [
      "tn = 66339, fp = 5498, fn = 5935, tp = 65902\n",
      "y_pred: 0 = 72274 | 1 = 71400\n",
      "y_true: 0 = 71837 | 1 = 71837\n",
      "auc=0.9748|sensitivity=0.9174|specificity=0.9235|acc=0.9204|mcc=0.8409\n",
      "precision=0.9230|recall=0.9174|f1=0.9202|aupr=0.9739\n",
      "****Saving model: Best epoch = 2 | 5metrics_Best_avg = 0.9141\n",
      "*****Path saver:  ./model/pHLAIformer/no_positional_embedding__model_layer1_multihead9_fold1.pkl\n"
     ]
    },
    {
     "name": "stderr",
     "output_type": "stream",
     "text": [
      "100%|██████████| 562/562 [00:46<00:00, 12.18it/s]\n"
     ]
    },
    {
     "name": "stdout",
     "output_type": "stream",
     "text": [
      "Fold-1****Train (Ep avg): Epoch-3/50 | Loss = 0.1932 | Time = 10.0896 sec\n"
     ]
    },
    {
     "name": "stderr",
     "output_type": "stream",
     "text": [
      "\r",
      "  0%|          | 0/141 [00:00<?, ?it/s]"
     ]
    },
    {
     "name": "stdout",
     "output_type": "stream",
     "text": [
      "tn = 265174, fp = 22155, fn = 21263, tp = 266066\n",
      "y_pred: 0 = 286437 | 1 = 288221\n",
      "y_true: 0 = 287329 | 1 = 287329\n",
      "auc=0.9769|sensitivity=0.9260|specificity=0.9229|acc=0.9244|mcc=0.8489\n",
      "precision=0.9231|recall=0.9260|f1=0.9246|aupr=0.9761\n"
     ]
    },
    {
     "name": "stderr",
     "output_type": "stream",
     "text": [
      "100%|██████████| 141/141 [00:04<00:00, 34.08it/s]\n"
     ]
    },
    {
     "name": "stdout",
     "output_type": "stream",
     "text": [
      "Fold-1 ****Test  Epoch-3/50: Loss = 0.196810\n"
     ]
    },
    {
     "name": "stderr",
     "output_type": "stream",
     "text": [
      "\r",
      "  0%|          | 0/562 [00:00<?, ?it/s]"
     ]
    },
    {
     "name": "stdout",
     "output_type": "stream",
     "text": [
      "tn = 66250, fp = 5587, fn = 5323, tp = 66514\n",
      "y_pred: 0 = 71573 | 1 = 72101\n",
      "y_true: 0 = 71837 | 1 = 71837\n",
      "auc=0.9764|sensitivity=0.9259|specificity=0.9222|acc=0.9241|mcc=0.8481\n",
      "precision=0.9225|recall=0.9259|f1=0.9242|aupr=0.9754\n",
      "****Saving model: Best epoch = 3 | 5metrics_Best_avg = 0.9182\n",
      "*****Path saver:  ./model/pHLAIformer/no_positional_embedding__model_layer1_multihead9_fold1.pkl\n"
     ]
    },
    {
     "name": "stderr",
     "output_type": "stream",
     "text": [
      "100%|██████████| 562/562 [00:46<00:00, 12.20it/s]\n"
     ]
    },
    {
     "name": "stdout",
     "output_type": "stream",
     "text": [
      "Fold-1****Train (Ep avg): Epoch-4/50 | Loss = 0.1814 | Time = 10.0682 sec\n",
      "tn = 266843, fp = 20486, fn = 20007, tp = 267322\n",
      "y_pred: 0 = 286850 | 1 = 287808\n",
      "y_true: 0 = 287329 | 1 = 287329\n",
      "auc=0.9796|sensitivity=0.9304|specificity=0.9287|acc=0.9295|mcc=0.8591\n",
      "precision=0.9288|recall=0.9304|f1=0.9296|aupr=0.9791\n"
     ]
    },
    {
     "name": "stderr",
     "output_type": "stream",
     "text": [
      "100%|██████████| 141/141 [00:04<00:00, 33.56it/s]\n"
     ]
    },
    {
     "name": "stdout",
     "output_type": "stream",
     "text": [
      "Fold-1 ****Test  Epoch-4/50: Loss = 0.195044\n"
     ]
    },
    {
     "name": "stderr",
     "output_type": "stream",
     "text": [
      "\r",
      "  0%|          | 0/562 [00:00<?, ?it/s]"
     ]
    },
    {
     "name": "stdout",
     "output_type": "stream",
     "text": [
      "tn = 66303, fp = 5534, fn = 5286, tp = 66551\n",
      "y_pred: 0 = 71589 | 1 = 72085\n",
      "y_true: 0 = 71837 | 1 = 71837\n",
      "auc=0.9771|sensitivity=0.9264|specificity=0.9230|acc=0.9247|mcc=0.8494\n",
      "precision=0.9232|recall=0.9264|f1=0.9248|aupr=0.9762\n",
      "****Saving model: Best epoch = 4 | 5metrics_Best_avg = 0.9190\n",
      "*****Path saver:  ./model/pHLAIformer/no_positional_embedding__model_layer1_multihead9_fold1.pkl\n"
     ]
    },
    {
     "name": "stderr",
     "output_type": "stream",
     "text": [
      "100%|██████████| 562/562 [00:45<00:00, 12.26it/s]\n"
     ]
    },
    {
     "name": "stdout",
     "output_type": "stream",
     "text": [
      "Fold-1****Train (Ep avg): Epoch-5/50 | Loss = 0.1709 | Time = 10.0801 sec\n"
     ]
    },
    {
     "name": "stderr",
     "output_type": "stream",
     "text": [
      "\r",
      "  0%|          | 0/141 [00:00<?, ?it/s]"
     ]
    },
    {
     "name": "stdout",
     "output_type": "stream",
     "text": [
      "tn = 268186, fp = 19143, fn = 18836, tp = 268493\n",
      "y_pred: 0 = 287022 | 1 = 287636\n",
      "y_true: 0 = 287329 | 1 = 287329\n",
      "auc=0.9819|sensitivity=0.9344|specificity=0.9334|acc=0.9339|mcc=0.8678\n",
      "precision=0.9334|recall=0.9344|f1=0.9339|aupr=0.9815\n"
     ]
    },
    {
     "name": "stderr",
     "output_type": "stream",
     "text": [
      "100%|██████████| 141/141 [00:04<00:00, 33.89it/s]\n"
     ]
    },
    {
     "name": "stdout",
     "output_type": "stream",
     "text": [
      "Fold-1 ****Test  Epoch-5/50: Loss = 0.196938\n"
     ]
    },
    {
     "name": "stderr",
     "output_type": "stream",
     "text": [
      "\r",
      "  0%|          | 0/562 [00:00<?, ?it/s]"
     ]
    },
    {
     "name": "stdout",
     "output_type": "stream",
     "text": [
      "tn = 66406, fp = 5431, fn = 5387, tp = 66450\n",
      "y_pred: 0 = 71793 | 1 = 71881\n",
      "y_true: 0 = 71837 | 1 = 71837\n",
      "auc=0.9772|sensitivity=0.9250|specificity=0.9244|acc=0.9247|mcc=0.8494\n",
      "precision=0.9244|recall=0.9250|f1=0.9247|aupr=0.9762\n",
      "****Saving model: Best epoch = 5 | 5metrics_Best_avg = 0.9190\n",
      "*****Path saver:  ./model/pHLAIformer/no_positional_embedding__model_layer1_multihead9_fold1.pkl\n"
     ]
    },
    {
     "name": "stderr",
     "output_type": "stream",
     "text": [
      "100%|██████████| 562/562 [00:46<00:00, 12.19it/s]\n"
     ]
    },
    {
     "name": "stdout",
     "output_type": "stream",
     "text": [
      "Fold-1****Train (Ep avg): Epoch-6/50 | Loss = 0.1607 | Time = 10.1324 sec\n",
      "tn = 269335, fp = 17994, fn = 17775, tp = 269554\n",
      "y_pred: 0 = 287110 | 1 = 287548\n",
      "y_true: 0 = 287329 | 1 = 287329\n",
      "auc=0.9840|sensitivity=0.9381|specificity=0.9374|acc=0.9378|mcc=0.8755\n",
      "precision=0.9374|recall=0.9381|f1=0.9378|aupr=0.9838\n"
     ]
    },
    {
     "name": "stderr",
     "output_type": "stream",
     "text": [
      "100%|██████████| 141/141 [00:04<00:00, 33.64it/s]\n"
     ]
    },
    {
     "name": "stdout",
     "output_type": "stream",
     "text": [
      "Fold-1 ****Test  Epoch-6/50: Loss = 0.204919\n"
     ]
    },
    {
     "name": "stderr",
     "output_type": "stream",
     "text": [
      "\r",
      "  0%|          | 0/562 [00:00<?, ?it/s]"
     ]
    },
    {
     "name": "stdout",
     "output_type": "stream",
     "text": [
      "tn = 66022, fp = 5815, fn = 5243, tp = 66594\n",
      "y_pred: 0 = 71265 | 1 = 72409\n",
      "y_true: 0 = 71837 | 1 = 71837\n",
      "auc=0.9763|sensitivity=0.9270|specificity=0.9191|acc=0.9230|mcc=0.8461\n",
      "precision=0.9197|recall=0.9270|f1=0.9233|aupr=0.9752\n"
     ]
    },
    {
     "name": "stderr",
     "output_type": "stream",
     "text": [
      "100%|██████████| 562/562 [00:45<00:00, 12.23it/s]\n"
     ]
    },
    {
     "name": "stdout",
     "output_type": "stream",
     "text": [
      "Fold-1****Train (Ep avg): Epoch-7/50 | Loss = 0.1506 | Time = 10.0980 sec\n",
      "tn = 270648, fp = 16681, fn = 16691, tp = 270638\n",
      "y_pred: 0 = 287339 | 1 = 287319\n",
      "y_true: 0 = 287329 | 1 = 287329\n",
      "auc=0.9859|sensitivity=0.9419|specificity=0.9419|acc=0.9419|mcc=0.8839\n",
      "precision=0.9419|recall=0.9419|f1=0.9419|aupr=0.9859\n"
     ]
    },
    {
     "name": "stderr",
     "output_type": "stream",
     "text": [
      "100%|██████████| 141/141 [00:04<00:00, 33.64it/s]\n"
     ]
    },
    {
     "name": "stdout",
     "output_type": "stream",
     "text": [
      "Fold-1 ****Test  Epoch-7/50: Loss = 0.215365\n"
     ]
    },
    {
     "name": "stderr",
     "output_type": "stream",
     "text": [
      "\r",
      "  0%|          | 0/562 [00:00<?, ?it/s]"
     ]
    },
    {
     "name": "stdout",
     "output_type": "stream",
     "text": [
      "tn = 66053, fp = 5784, fn = 5712, tp = 66125\n",
      "y_pred: 0 = 71765 | 1 = 71909\n",
      "y_true: 0 = 71837 | 1 = 71837\n",
      "auc=0.9745|sensitivity=0.9205|specificity=0.9195|acc=0.9200|mcc=0.8400\n",
      "precision=0.9196|recall=0.9205|f1=0.9200|aupr=0.9732\n"
     ]
    },
    {
     "name": "stderr",
     "output_type": "stream",
     "text": [
      "100%|██████████| 562/562 [00:45<00:00, 12.22it/s]\n"
     ]
    },
    {
     "name": "stdout",
     "output_type": "stream",
     "text": [
      "Fold-1****Train (Ep avg): Epoch-8/50 | Loss = 0.1411 | Time = 10.0754 sec\n",
      "tn = 271616, fp = 15713, fn = 15692, tp = 271637\n",
      "y_pred: 0 = 287308 | 1 = 287350\n",
      "y_true: 0 = 287329 | 1 = 287329\n",
      "auc=0.9876|sensitivity=0.9454|specificity=0.9453|acc=0.9454|mcc=0.8907\n",
      "precision=0.9453|recall=0.9454|f1=0.9454|aupr=0.9877\n"
     ]
    },
    {
     "name": "stderr",
     "output_type": "stream",
     "text": [
      "100%|██████████| 141/141 [00:04<00:00, 34.24it/s]\n"
     ]
    },
    {
     "name": "stdout",
     "output_type": "stream",
     "text": [
      "Fold-1 ****Test  Epoch-8/50: Loss = 0.219506\n"
     ]
    },
    {
     "name": "stderr",
     "output_type": "stream",
     "text": [
      "\r",
      "  0%|          | 0/562 [00:00<?, ?it/s]"
     ]
    },
    {
     "name": "stdout",
     "output_type": "stream",
     "text": [
      "tn = 65810, fp = 6027, fn = 5513, tp = 66324\n",
      "y_pred: 0 = 71323 | 1 = 72351\n",
      "y_true: 0 = 71837 | 1 = 71837\n",
      "auc=0.9748|sensitivity=0.9233|specificity=0.9161|acc=0.9197|mcc=0.8394\n",
      "precision=0.9167|recall=0.9233|f1=0.9200|aupr=0.9735\n"
     ]
    },
    {
     "name": "stderr",
     "output_type": "stream",
     "text": [
      "100%|██████████| 562/562 [00:46<00:00, 12.17it/s]\n"
     ]
    },
    {
     "name": "stdout",
     "output_type": "stream",
     "text": [
      "Fold-1****Train (Ep avg): Epoch-9/50 | Loss = 0.1320 | Time = 10.1251 sec\n"
     ]
    },
    {
     "name": "stderr",
     "output_type": "stream",
     "text": [
      "\r",
      "  0%|          | 0/141 [00:00<?, ?it/s]"
     ]
    },
    {
     "name": "stdout",
     "output_type": "stream",
     "text": [
      "tn = 272581, fp = 14748, fn = 14727, tp = 272602\n",
      "y_pred: 0 = 287308 | 1 = 287350\n",
      "y_true: 0 = 287329 | 1 = 287329\n",
      "auc=0.9892|sensitivity=0.9487|specificity=0.9487|acc=0.9487|mcc=0.8974\n",
      "precision=0.9487|recall=0.9487|f1=0.9487|aupr=0.9893\n"
     ]
    },
    {
     "name": "stderr",
     "output_type": "stream",
     "text": [
      "100%|██████████| 141/141 [00:04<00:00, 33.56it/s]\n"
     ]
    },
    {
     "name": "stdout",
     "output_type": "stream",
     "text": [
      "Fold-1 ****Test  Epoch-9/50: Loss = 0.218628\n"
     ]
    },
    {
     "name": "stderr",
     "output_type": "stream",
     "text": [
      "\r",
      "  0%|          | 0/562 [00:00<?, ?it/s]"
     ]
    },
    {
     "name": "stdout",
     "output_type": "stream",
     "text": [
      "tn = 66182, fp = 5655, fn = 5525, tp = 66312\n",
      "y_pred: 0 = 71707 | 1 = 71967\n",
      "y_true: 0 = 71837 | 1 = 71837\n",
      "auc=0.9759|sensitivity=0.9231|specificity=0.9213|acc=0.9222|mcc=0.8444\n",
      "precision=0.9214|recall=0.9231|f1=0.9223|aupr=0.9748\n"
     ]
    },
    {
     "name": "stderr",
     "output_type": "stream",
     "text": [
      "100%|██████████| 562/562 [00:46<00:00, 12.20it/s]\n"
     ]
    },
    {
     "name": "stdout",
     "output_type": "stream",
     "text": [
      "Fold-1****Train (Ep avg): Epoch-10/50 | Loss = 0.1243 | Time = 10.0979 sec\n",
      "tn = 273483, fp = 13846, fn = 13923, tp = 273406\n",
      "y_pred: 0 = 287406 | 1 = 287252\n",
      "y_true: 0 = 287329 | 1 = 287329\n",
      "auc=0.9904|sensitivity=0.9515|specificity=0.9518|acc=0.9517|mcc=0.9034\n",
      "precision=0.9518|recall=0.9515|f1=0.9517|aupr=0.9905\n"
     ]
    },
    {
     "name": "stderr",
     "output_type": "stream",
     "text": [
      "100%|██████████| 141/141 [00:04<00:00, 34.13it/s]\n"
     ]
    },
    {
     "name": "stdout",
     "output_type": "stream",
     "text": [
      "Fold-1 ****Test  Epoch-10/50: Loss = 0.221166\n"
     ]
    },
    {
     "name": "stderr",
     "output_type": "stream",
     "text": [
      "\r",
      "  0%|          | 0/562 [00:00<?, ?it/s]"
     ]
    },
    {
     "name": "stdout",
     "output_type": "stream",
     "text": [
      "tn = 65449, fp = 6388, fn = 4814, tp = 67023\n",
      "y_pred: 0 = 70263 | 1 = 73411\n",
      "y_true: 0 = 71837 | 1 = 71837\n",
      "auc=0.9764|sensitivity=0.9330|specificity=0.9111|acc=0.9220|mcc=0.8443\n",
      "precision=0.9130|recall=0.9330|f1=0.9229|aupr=0.9753\n"
     ]
    },
    {
     "name": "stderr",
     "output_type": "stream",
     "text": [
      "100%|██████████| 562/562 [00:45<00:00, 12.24it/s]\n"
     ]
    },
    {
     "name": "stdout",
     "output_type": "stream",
     "text": [
      "Fold-1****Train (Ep avg): Epoch-11/50 | Loss = 0.1176 | Time = 10.0852 sec\n"
     ]
    },
    {
     "name": "stderr",
     "output_type": "stream",
     "text": [
      "\r",
      "  0%|          | 0/141 [00:00<?, ?it/s]"
     ]
    },
    {
     "name": "stdout",
     "output_type": "stream",
     "text": [
      "tn = 274141, fp = 13188, fn = 13173, tp = 274156\n",
      "y_pred: 0 = 287314 | 1 = 287344\n",
      "y_true: 0 = 287329 | 1 = 287329\n",
      "auc=0.9914|sensitivity=0.9542|specificity=0.9541|acc=0.9541|mcc=0.9083\n",
      "precision=0.9541|recall=0.9542|f1=0.9541|aupr=0.9916\n"
     ]
    },
    {
     "name": "stderr",
     "output_type": "stream",
     "text": [
      "100%|██████████| 141/141 [00:04<00:00, 34.08it/s]\n"
     ]
    },
    {
     "name": "stdout",
     "output_type": "stream",
     "text": [
      "Fold-1 ****Test  Epoch-11/50: Loss = 0.221856\n"
     ]
    },
    {
     "name": "stderr",
     "output_type": "stream",
     "text": [
      "\r",
      "  0%|          | 0/562 [00:00<?, ?it/s]"
     ]
    },
    {
     "name": "stdout",
     "output_type": "stream",
     "text": [
      "tn = 65407, fp = 6430, fn = 4602, tp = 67235\n",
      "y_pred: 0 = 70009 | 1 = 73665\n",
      "y_true: 0 = 71837 | 1 = 71837\n",
      "auc=0.9772|sensitivity=0.9359|specificity=0.9105|acc=0.9232|mcc=0.8467\n",
      "precision=0.9127|recall=0.9359|f1=0.9242|aupr=0.9760\n"
     ]
    },
    {
     "name": "stderr",
     "output_type": "stream",
     "text": [
      "100%|██████████| 562/562 [00:46<00:00, 12.03it/s]\n"
     ]
    },
    {
     "name": "stdout",
     "output_type": "stream",
     "text": [
      "Fold-1****Train (Ep avg): Epoch-12/50 | Loss = 0.1104 | Time = 10.1792 sec\n"
     ]
    },
    {
     "name": "stderr",
     "output_type": "stream",
     "text": [
      "\r",
      "  0%|          | 0/141 [00:00<?, ?it/s]"
     ]
    },
    {
     "name": "stdout",
     "output_type": "stream",
     "text": [
      "tn = 274962, fp = 12367, fn = 12517, tp = 274812\n",
      "y_pred: 0 = 287479 | 1 = 287179\n",
      "y_true: 0 = 287329 | 1 = 287329\n",
      "auc=0.9925|sensitivity=0.9564|specificity=0.9570|acc=0.9567|mcc=0.9134\n",
      "precision=0.9569|recall=0.9564|f1=0.9567|aupr=0.9926\n"
     ]
    },
    {
     "name": "stderr",
     "output_type": "stream",
     "text": [
      "100%|██████████| 141/141 [00:04<00:00, 33.22it/s]\n"
     ]
    },
    {
     "name": "stdout",
     "output_type": "stream",
     "text": [
      "Fold-1 ****Test  Epoch-12/50: Loss = 0.234404\n"
     ]
    },
    {
     "name": "stderr",
     "output_type": "stream",
     "text": [
      "\r",
      "  0%|          | 0/562 [00:00<?, ?it/s]"
     ]
    },
    {
     "name": "stdout",
     "output_type": "stream",
     "text": [
      "tn = 66145, fp = 5692, fn = 5475, tp = 66362\n",
      "y_pred: 0 = 71620 | 1 = 72054\n",
      "y_true: 0 = 71837 | 1 = 71837\n",
      "auc=0.9763|sensitivity=0.9238|specificity=0.9208|acc=0.9223|mcc=0.8446\n",
      "precision=0.9210|recall=0.9238|f1=0.9224|aupr=0.9747\n"
     ]
    },
    {
     "name": "stderr",
     "output_type": "stream",
     "text": [
      "100%|██████████| 562/562 [00:46<00:00, 12.15it/s]\n"
     ]
    },
    {
     "name": "stdout",
     "output_type": "stream",
     "text": [
      "Fold-1****Train (Ep avg): Epoch-13/50 | Loss = 0.1041 | Time = 10.1532 sec\n"
     ]
    },
    {
     "name": "stderr",
     "output_type": "stream",
     "text": [
      "\r",
      "  0%|          | 0/141 [00:00<?, ?it/s]"
     ]
    },
    {
     "name": "stdout",
     "output_type": "stream",
     "text": [
      "tn = 275580, fp = 11749, fn = 11946, tp = 275383\n",
      "y_pred: 0 = 287526 | 1 = 287132\n",
      "y_true: 0 = 287329 | 1 = 287329\n",
      "auc=0.9933|sensitivity=0.9584|specificity=0.9591|acc=0.9588|mcc=0.9175\n",
      "precision=0.9591|recall=0.9584|f1=0.9588|aupr=0.9934\n"
     ]
    },
    {
     "name": "stderr",
     "output_type": "stream",
     "text": [
      "100%|██████████| 141/141 [00:04<00:00, 33.56it/s]\n"
     ]
    },
    {
     "name": "stdout",
     "output_type": "stream",
     "text": [
      "Fold-1 ****Test  Epoch-13/50: Loss = 0.258176\n"
     ]
    },
    {
     "name": "stderr",
     "output_type": "stream",
     "text": [
      "\r",
      "  0%|          | 0/562 [00:00<?, ?it/s]"
     ]
    },
    {
     "name": "stdout",
     "output_type": "stream",
     "text": [
      "tn = 66801, fp = 5036, fn = 6397, tp = 65440\n",
      "y_pred: 0 = 73198 | 1 = 70476\n",
      "y_true: 0 = 71837 | 1 = 71837\n",
      "auc=0.9754|sensitivity=0.9110|specificity=0.9299|acc=0.9204|mcc=0.8410\n",
      "precision=0.9285|recall=0.9110|f1=0.9197|aupr=0.9735\n"
     ]
    },
    {
     "name": "stderr",
     "output_type": "stream",
     "text": [
      "100%|██████████| 562/562 [00:45<00:00, 12.24it/s]\n"
     ]
    },
    {
     "name": "stdout",
     "output_type": "stream",
     "text": [
      "Fold-1****Train (Ep avg): Epoch-14/50 | Loss = 0.0991 | Time = 10.0947 sec\n",
      "tn = 276097, fp = 11232, fn = 11391, tp = 275938\n",
      "y_pred: 0 = 287488 | 1 = 287170\n",
      "y_true: 0 = 287329 | 1 = 287329\n",
      "auc=0.9939|sensitivity=0.9604|specificity=0.9609|acc=0.9606|mcc=0.9213\n",
      "precision=0.9609|recall=0.9604|f1=0.9606|aupr=0.9941\n"
     ]
    },
    {
     "name": "stderr",
     "output_type": "stream",
     "text": [
      "100%|██████████| 141/141 [00:04<00:00, 33.63it/s]\n"
     ]
    },
    {
     "name": "stdout",
     "output_type": "stream",
     "text": [
      "Fold-1 ****Test  Epoch-14/50: Loss = 0.276501\n"
     ]
    },
    {
     "name": "stderr",
     "output_type": "stream",
     "text": [
      "\r",
      "  0%|          | 0/562 [00:00<?, ?it/s]"
     ]
    },
    {
     "name": "stdout",
     "output_type": "stream",
     "text": [
      "tn = 66402, fp = 5435, fn = 5884, tp = 65953\n",
      "y_pred: 0 = 72286 | 1 = 71388\n",
      "y_true: 0 = 71837 | 1 = 71837\n",
      "auc=0.9749|sensitivity=0.9181|specificity=0.9243|acc=0.9212|mcc=0.8425\n",
      "precision=0.9239|recall=0.9181|f1=0.9210|aupr=0.9729\n"
     ]
    },
    {
     "name": "stderr",
     "output_type": "stream",
     "text": [
      "100%|██████████| 562/562 [00:46<00:00, 12.21it/s]\n"
     ]
    },
    {
     "name": "stdout",
     "output_type": "stream",
     "text": [
      "Fold-1****Train (Ep avg): Epoch-15/50 | Loss = 0.0927 | Time = 10.0927 sec\n",
      "tn = 276870, fp = 10459, fn = 10726, tp = 276603\n",
      "y_pred: 0 = 287596 | 1 = 287062\n",
      "y_true: 0 = 287329 | 1 = 287329\n",
      "auc=0.9947|sensitivity=0.9627|specificity=0.9636|acc=0.9631|mcc=0.9263\n",
      "precision=0.9636|recall=0.9627|f1=0.9631|aupr=0.9948\n"
     ]
    },
    {
     "name": "stderr",
     "output_type": "stream",
     "text": [
      "100%|██████████| 141/141 [00:04<00:00, 33.52it/s]\n"
     ]
    },
    {
     "name": "stdout",
     "output_type": "stream",
     "text": [
      "Fold-1 ****Test  Epoch-15/50: Loss = 0.286685\n"
     ]
    },
    {
     "name": "stderr",
     "output_type": "stream",
     "text": [
      "\r",
      "  0%|          | 0/562 [00:00<?, ?it/s]"
     ]
    },
    {
     "name": "stdout",
     "output_type": "stream",
     "text": [
      "tn = 66057, fp = 5780, fn = 5442, tp = 66395\n",
      "y_pred: 0 = 71499 | 1 = 72175\n",
      "y_true: 0 = 71837 | 1 = 71837\n",
      "auc=0.9752|sensitivity=0.9242|specificity=0.9195|acc=0.9219|mcc=0.8438\n",
      "precision=0.9199|recall=0.9242|f1=0.9221|aupr=0.9730\n"
     ]
    },
    {
     "name": "stderr",
     "output_type": "stream",
     "text": [
      "100%|██████████| 562/562 [00:45<00:00, 12.25it/s]\n"
     ]
    },
    {
     "name": "stdout",
     "output_type": "stream",
     "text": [
      "Fold-1****Train (Ep avg): Epoch-16/50 | Loss = 0.0882 | Time = 10.0726 sec\n",
      "tn = 277312, fp = 10017, fn = 10211, tp = 277118\n",
      "y_pred: 0 = 287523 | 1 = 287135\n",
      "y_true: 0 = 287329 | 1 = 287329\n",
      "auc=0.9952|sensitivity=0.9645|specificity=0.9651|acc=0.9648|mcc=0.9296\n",
      "precision=0.9651|recall=0.9645|f1=0.9648|aupr=0.9953\n"
     ]
    },
    {
     "name": "stderr",
     "output_type": "stream",
     "text": [
      "100%|██████████| 141/141 [00:04<00:00, 33.83it/s]\n"
     ]
    },
    {
     "name": "stdout",
     "output_type": "stream",
     "text": [
      "Fold-1 ****Test  Epoch-16/50: Loss = 0.306380\n"
     ]
    },
    {
     "name": "stderr",
     "output_type": "stream",
     "text": [
      "\r",
      "  0%|          | 0/562 [00:00<?, ?it/s]"
     ]
    },
    {
     "name": "stdout",
     "output_type": "stream",
     "text": [
      "tn = 64992, fp = 6845, fn = 4853, tp = 66984\n",
      "y_pred: 0 = 69845 | 1 = 73829\n",
      "y_true: 0 = 71837 | 1 = 71837\n",
      "auc=0.9736|sensitivity=0.9324|specificity=0.9047|acc=0.9186|mcc=0.8375\n",
      "precision=0.9073|recall=0.9324|f1=0.9197|aupr=0.9709\n"
     ]
    },
    {
     "name": "stderr",
     "output_type": "stream",
     "text": [
      "100%|██████████| 562/562 [00:44<00:00, 12.56it/s]\n"
     ]
    },
    {
     "name": "stdout",
     "output_type": "stream",
     "text": [
      "Fold-1****Train (Ep avg): Epoch-17/50 | Loss = 0.0832 | Time = 9.9688 sec\n",
      "tn = 277887, fp = 9442, fn = 9606, tp = 277723\n",
      "y_pred: 0 = 287493 | 1 = 287165\n",
      "y_true: 0 = 287329 | 1 = 287329\n",
      "auc=0.9957|sensitivity=0.9666|specificity=0.9671|acc=0.9669|mcc=0.9337\n",
      "precision=0.9671|recall=0.9666|f1=0.9668|aupr=0.9958\n"
     ]
    },
    {
     "name": "stderr",
     "output_type": "stream",
     "text": [
      "100%|██████████| 141/141 [00:04<00:00, 34.34it/s]\n"
     ]
    },
    {
     "name": "stdout",
     "output_type": "stream",
     "text": [
      "Fold-1 ****Test  Epoch-17/50: Loss = 0.300771\n"
     ]
    },
    {
     "name": "stderr",
     "output_type": "stream",
     "text": [
      "\r",
      "  0%|          | 0/562 [00:00<?, ?it/s]"
     ]
    },
    {
     "name": "stdout",
     "output_type": "stream",
     "text": [
      "tn = 65744, fp = 6093, fn = 5113, tp = 66724\n",
      "y_pred: 0 = 70857 | 1 = 72817\n",
      "y_true: 0 = 71837 | 1 = 71837\n",
      "auc=0.9758|sensitivity=0.9288|specificity=0.9152|acc=0.9220|mcc=0.8441\n",
      "precision=0.9163|recall=0.9288|f1=0.9225|aupr=0.9738\n"
     ]
    },
    {
     "name": "stderr",
     "output_type": "stream",
     "text": [
      "100%|██████████| 562/562 [00:45<00:00, 12.22it/s]\n"
     ]
    },
    {
     "name": "stdout",
     "output_type": "stream",
     "text": [
      "Fold-1****Train (Ep avg): Epoch-18/50 | Loss = 0.0790 | Time = 10.1187 sec\n",
      "tn = 278255, fp = 9074, fn = 9089, tp = 278240\n",
      "y_pred: 0 = 287344 | 1 = 287314\n",
      "y_true: 0 = 287329 | 1 = 287329\n",
      "auc=0.9962|sensitivity=0.9684|specificity=0.9684|acc=0.9684|mcc=0.9368\n",
      "precision=0.9684|recall=0.9684|f1=0.9684|aupr=0.9962\n"
     ]
    },
    {
     "name": "stderr",
     "output_type": "stream",
     "text": [
      "100%|██████████| 141/141 [00:04<00:00, 33.31it/s]\n"
     ]
    },
    {
     "name": "stdout",
     "output_type": "stream",
     "text": [
      "Fold-1 ****Test  Epoch-18/50: Loss = 0.307130\n"
     ]
    },
    {
     "name": "stderr",
     "output_type": "stream",
     "text": [
      "\r",
      "  0%|          | 0/562 [00:00<?, ?it/s]"
     ]
    },
    {
     "name": "stdout",
     "output_type": "stream",
     "text": [
      "tn = 65387, fp = 6450, fn = 4957, tp = 66880\n",
      "y_pred: 0 = 70344 | 1 = 73330\n",
      "y_true: 0 = 71837 | 1 = 71837\n",
      "auc=0.9749|sensitivity=0.9310|specificity=0.9102|acc=0.9206|mcc=0.8414\n",
      "precision=0.9120|recall=0.9310|f1=0.9214|aupr=0.9724\n"
     ]
    },
    {
     "name": "stderr",
     "output_type": "stream",
     "text": [
      "100%|██████████| 562/562 [00:46<00:00, 12.20it/s]\n"
     ]
    },
    {
     "name": "stdout",
     "output_type": "stream",
     "text": [
      "Fold-1****Train (Ep avg): Epoch-19/50 | Loss = 0.0757 | Time = 10.1099 sec\n",
      "tn = 278747, fp = 8582, fn = 8864, tp = 278465\n",
      "y_pred: 0 = 287611 | 1 = 287047\n",
      "y_true: 0 = 287329 | 1 = 287329\n",
      "auc=0.9965|sensitivity=0.9692|specificity=0.9701|acc=0.9696|mcc=0.9393\n",
      "precision=0.9701|recall=0.9692|f1=0.9696|aupr=0.9965\n"
     ]
    },
    {
     "name": "stderr",
     "output_type": "stream",
     "text": [
      "100%|██████████| 141/141 [00:04<00:00, 34.10it/s]\n"
     ]
    },
    {
     "name": "stdout",
     "output_type": "stream",
     "text": [
      "Fold-1 ****Test  Epoch-19/50: Loss = 0.308189\n"
     ]
    },
    {
     "name": "stderr",
     "output_type": "stream",
     "text": [
      "\r",
      "  0%|          | 0/562 [00:00<?, ?it/s]"
     ]
    },
    {
     "name": "stdout",
     "output_type": "stream",
     "text": [
      "tn = 65657, fp = 6180, fn = 4657, tp = 67180\n",
      "y_pred: 0 = 70314 | 1 = 73360\n",
      "y_true: 0 = 71837 | 1 = 71837\n",
      "auc=0.9769|sensitivity=0.9352|specificity=0.9140|acc=0.9246|mcc=0.8493\n",
      "precision=0.9158|recall=0.9352|f1=0.9254|aupr=0.9749\n",
      "****Saving model: Best epoch = 19 | 5metrics_Best_avg = 0.9190\n",
      "*****Path saver:  ./model/pHLAIformer/no_positional_embedding__model_layer1_multihead9_fold1.pkl\n"
     ]
    },
    {
     "name": "stderr",
     "output_type": "stream",
     "text": [
      "100%|██████████| 562/562 [00:46<00:00, 12.17it/s]\n"
     ]
    },
    {
     "name": "stdout",
     "output_type": "stream",
     "text": [
      "Fold-1****Train (Ep avg): Epoch-20/50 | Loss = 0.0732 | Time = 10.0996 sec\n",
      "tn = 278906, fp = 8423, fn = 8495, tp = 278834\n",
      "y_pred: 0 = 287401 | 1 = 287257\n",
      "y_true: 0 = 287329 | 1 = 287329\n",
      "auc=0.9967|sensitivity=0.9704|specificity=0.9707|acc=0.9706|mcc=0.9411\n",
      "precision=0.9707|recall=0.9704|f1=0.9706|aupr=0.9968\n"
     ]
    },
    {
     "name": "stderr",
     "output_type": "stream",
     "text": [
      "100%|██████████| 141/141 [00:04<00:00, 33.53it/s]\n"
     ]
    },
    {
     "name": "stdout",
     "output_type": "stream",
     "text": [
      "Fold-1 ****Test  Epoch-20/50: Loss = 0.299154\n"
     ]
    },
    {
     "name": "stderr",
     "output_type": "stream",
     "text": [
      "\r",
      "  0%|          | 0/562 [00:00<?, ?it/s]"
     ]
    },
    {
     "name": "stdout",
     "output_type": "stream",
     "text": [
      "tn = 65827, fp = 6010, fn = 4541, tp = 67296\n",
      "y_pred: 0 = 70368 | 1 = 73306\n",
      "y_true: 0 = 71837 | 1 = 71837\n",
      "auc=0.9779|sensitivity=0.9368|specificity=0.9163|acc=0.9266|mcc=0.8533\n",
      "precision=0.9180|recall=0.9368|f1=0.9273|aupr=0.9758\n",
      "****Saving model: Best epoch = 20 | 5metrics_Best_avg = 0.9213\n",
      "*****Path saver:  ./model/pHLAIformer/no_positional_embedding__model_layer1_multihead9_fold1.pkl\n"
     ]
    },
    {
     "name": "stderr",
     "output_type": "stream",
     "text": [
      "100%|██████████| 562/562 [00:45<00:00, 12.22it/s]\n"
     ]
    },
    {
     "name": "stdout",
     "output_type": "stream",
     "text": [
      "Fold-1****Train (Ep avg): Epoch-21/50 | Loss = 0.0696 | Time = 10.0575 sec\n",
      "tn = 279387, fp = 7942, fn = 8064, tp = 279265\n",
      "y_pred: 0 = 287451 | 1 = 287207\n",
      "y_true: 0 = 287329 | 1 = 287329\n",
      "auc=0.9970|sensitivity=0.9719|specificity=0.9724|acc=0.9721|mcc=0.9443\n",
      "precision=0.9723|recall=0.9719|f1=0.9721|aupr=0.9971\n"
     ]
    },
    {
     "name": "stderr",
     "output_type": "stream",
     "text": [
      "100%|██████████| 141/141 [00:04<00:00, 32.80it/s]\n"
     ]
    },
    {
     "name": "stdout",
     "output_type": "stream",
     "text": [
      "Fold-1 ****Test  Epoch-21/50: Loss = 0.293413\n"
     ]
    },
    {
     "name": "stderr",
     "output_type": "stream",
     "text": [
      "\r",
      "  0%|          | 0/562 [00:00<?, ?it/s]"
     ]
    },
    {
     "name": "stdout",
     "output_type": "stream",
     "text": [
      "tn = 66610, fp = 5227, fn = 5360, tp = 66477\n",
      "y_pred: 0 = 71970 | 1 = 71704\n",
      "y_true: 0 = 71837 | 1 = 71837\n",
      "auc=0.9781|sensitivity=0.9254|specificity=0.9272|acc=0.9263|mcc=0.8526\n",
      "precision=0.9271|recall=0.9254|f1=0.9262|aupr=0.9763\n"
     ]
    },
    {
     "name": "stderr",
     "output_type": "stream",
     "text": [
      "100%|██████████| 562/562 [00:45<00:00, 12.27it/s]\n"
     ]
    },
    {
     "name": "stdout",
     "output_type": "stream",
     "text": [
      "Fold-1****Train (Ep avg): Epoch-22/50 | Loss = 0.0667 | Time = 10.0563 sec\n",
      "tn = 279772, fp = 7557, fn = 7634, tp = 279695\n",
      "y_pred: 0 = 287406 | 1 = 287252\n",
      "y_true: 0 = 287329 | 1 = 287329\n",
      "auc=0.9973|sensitivity=0.9734|specificity=0.9737|acc=0.9736|mcc=0.9471\n",
      "precision=0.9737|recall=0.9734|f1=0.9736|aupr=0.9973\n"
     ]
    },
    {
     "name": "stderr",
     "output_type": "stream",
     "text": [
      "100%|██████████| 141/141 [00:04<00:00, 33.93it/s]\n"
     ]
    },
    {
     "name": "stdout",
     "output_type": "stream",
     "text": [
      "Fold-1 ****Test  Epoch-22/50: Loss = 0.296701\n"
     ]
    },
    {
     "name": "stderr",
     "output_type": "stream",
     "text": [
      "\r",
      "  0%|          | 0/562 [00:00<?, ?it/s]"
     ]
    },
    {
     "name": "stdout",
     "output_type": "stream",
     "text": [
      "tn = 66777, fp = 5060, fn = 5337, tp = 66500\n",
      "y_pred: 0 = 72114 | 1 = 71560\n",
      "y_true: 0 = 71837 | 1 = 71837\n",
      "auc=0.9787|sensitivity=0.9257|specificity=0.9296|acc=0.9276|mcc=0.8553\n",
      "precision=0.9293|recall=0.9257|f1=0.9275|aupr=0.9770\n",
      "****Saving model: Best epoch = 22 | 5metrics_Best_avg = 0.9223\n",
      "*****Path saver:  ./model/pHLAIformer/no_positional_embedding__model_layer1_multihead9_fold1.pkl\n"
     ]
    },
    {
     "name": "stderr",
     "output_type": "stream",
     "text": [
      "100%|██████████| 562/562 [00:44<00:00, 12.54it/s]\n"
     ]
    },
    {
     "name": "stdout",
     "output_type": "stream",
     "text": [
      "Fold-1****Train (Ep avg): Epoch-23/50 | Loss = 0.0635 | Time = 10.0361 sec\n"
     ]
    },
    {
     "name": "stderr",
     "output_type": "stream",
     "text": [
      "\r",
      "  0%|          | 0/141 [00:00<?, ?it/s]"
     ]
    },
    {
     "name": "stdout",
     "output_type": "stream",
     "text": [
      "tn = 280196, fp = 7133, fn = 7339, tp = 279990\n",
      "y_pred: 0 = 287535 | 1 = 287123\n",
      "y_true: 0 = 287329 | 1 = 287329\n",
      "auc=0.9975|sensitivity=0.9745|specificity=0.9752|acc=0.9748|mcc=0.9496\n",
      "precision=0.9752|recall=0.9745|f1=0.9748|aupr=0.9976\n"
     ]
    },
    {
     "name": "stderr",
     "output_type": "stream",
     "text": [
      "100%|██████████| 141/141 [00:04<00:00, 34.19it/s]\n"
     ]
    },
    {
     "name": "stdout",
     "output_type": "stream",
     "text": [
      "Fold-1 ****Test  Epoch-23/50: Loss = 0.304981\n"
     ]
    },
    {
     "name": "stderr",
     "output_type": "stream",
     "text": [
      "\r",
      "  0%|          | 0/562 [00:00<?, ?it/s]"
     ]
    },
    {
     "name": "stdout",
     "output_type": "stream",
     "text": [
      "tn = 65435, fp = 6402, fn = 4049, tp = 67788\n",
      "y_pred: 0 = 69484 | 1 = 74190\n",
      "y_true: 0 = 71837 | 1 = 71837\n",
      "auc=0.9787|sensitivity=0.9436|specificity=0.9109|acc=0.9273|mcc=0.8550\n",
      "precision=0.9137|recall=0.9436|f1=0.9284|aupr=0.9770\n",
      "****Saving model: Best epoch = 23 | 5metrics_Best_avg = 0.9224\n",
      "*****Path saver:  ./model/pHLAIformer/no_positional_embedding__model_layer1_multihead9_fold1.pkl\n"
     ]
    },
    {
     "name": "stderr",
     "output_type": "stream",
     "text": [
      "100%|██████████| 562/562 [00:44<00:00, 12.53it/s]\n"
     ]
    },
    {
     "name": "stdout",
     "output_type": "stream",
     "text": [
      "Fold-1****Train (Ep avg): Epoch-24/50 | Loss = 0.0609 | Time = 10.0245 sec\n",
      "tn = 280460, fp = 6869, fn = 6943, tp = 280386\n",
      "y_pred: 0 = 287403 | 1 = 287255\n",
      "y_true: 0 = 287329 | 1 = 287329\n",
      "auc=0.9977|sensitivity=0.9758|specificity=0.9761|acc=0.9760|mcc=0.9519\n",
      "precision=0.9761|recall=0.9758|f1=0.9760|aupr=0.9978\n"
     ]
    },
    {
     "name": "stderr",
     "output_type": "stream",
     "text": [
      "100%|██████████| 141/141 [00:04<00:00, 34.04it/s]\n"
     ]
    },
    {
     "name": "stdout",
     "output_type": "stream",
     "text": [
      "Fold-1 ****Test  Epoch-24/50: Loss = 0.309536\n",
      "tn = 66413, fp = 5424, fn = 4919, tp = 66918\n"
     ]
    },
    {
     "name": "stderr",
     "output_type": "stream",
     "text": [
      "  0%|          | 2/562 [00:00<00:44, 12.47it/s]"
     ]
    },
    {
     "name": "stdout",
     "output_type": "stream",
     "text": [
      "y_pred: 0 = 71332 | 1 = 72342\n",
      "y_true: 0 = 71837 | 1 = 71837\n",
      "auc=0.9787|sensitivity=0.9315|specificity=0.9245|acc=0.9280|mcc=0.8560\n",
      "precision=0.9250|recall=0.9315|f1=0.9283|aupr=0.9769\n",
      "****Saving model: Best epoch = 24 | 5metrics_Best_avg = 0.9228\n",
      "*****Path saver:  ./model/pHLAIformer/no_positional_embedding__model_layer1_multihead9_fold1.pkl\n"
     ]
    },
    {
     "name": "stderr",
     "output_type": "stream",
     "text": [
      "100%|██████████| 562/562 [00:44<00:00, 12.55it/s]\n"
     ]
    },
    {
     "name": "stdout",
     "output_type": "stream",
     "text": [
      "Fold-1****Train (Ep avg): Epoch-25/50 | Loss = 0.0588 | Time = 10.0407 sec\n"
     ]
    },
    {
     "name": "stderr",
     "output_type": "stream",
     "text": [
      "\r",
      "  0%|          | 0/141 [00:00<?, ?it/s]"
     ]
    },
    {
     "name": "stdout",
     "output_type": "stream",
     "text": [
      "tn = 280745, fp = 6584, fn = 6731, tp = 280598\n",
      "y_pred: 0 = 287476 | 1 = 287182\n",
      "y_true: 0 = 287329 | 1 = 287329\n",
      "auc=0.9979|sensitivity=0.9766|specificity=0.9771|acc=0.9768|mcc=0.9537\n",
      "precision=0.9771|recall=0.9766|f1=0.9768|aupr=0.9979\n"
     ]
    },
    {
     "name": "stderr",
     "output_type": "stream",
     "text": [
      "100%|██████████| 141/141 [00:04<00:00, 33.80it/s]\n"
     ]
    },
    {
     "name": "stdout",
     "output_type": "stream",
     "text": [
      "Fold-1 ****Test  Epoch-25/50: Loss = 0.311891\n",
      "tn = 65775, fp = 6062, fn = 4365, tp = 67472\n"
     ]
    },
    {
     "name": "stderr",
     "output_type": "stream",
     "text": [
      "  0%|          | 2/562 [00:00<00:45, 12.26it/s]"
     ]
    },
    {
     "name": "stdout",
     "output_type": "stream",
     "text": [
      "y_pred: 0 = 70140 | 1 = 73534\n",
      "y_true: 0 = 71837 | 1 = 71837\n",
      "auc=0.9788|sensitivity=0.9392|specificity=0.9156|acc=0.9274|mcc=0.8551\n",
      "precision=0.9176|recall=0.9392|f1=0.9283|aupr=0.9773\n"
     ]
    },
    {
     "name": "stderr",
     "output_type": "stream",
     "text": [
      "100%|██████████| 562/562 [00:44<00:00, 12.51it/s]\n"
     ]
    },
    {
     "name": "stdout",
     "output_type": "stream",
     "text": [
      "Fold-1****Train (Ep avg): Epoch-26/50 | Loss = 0.0565 | Time = 10.0427 sec\n",
      "tn = 280893, fp = 6436, fn = 6412, tp = 280917\n",
      "y_pred: 0 = 287305 | 1 = 287353\n",
      "y_true: 0 = 287329 | 1 = 287329\n",
      "auc=0.9980|sensitivity=0.9777|specificity=0.9776|acc=0.9776|mcc=0.9553\n",
      "precision=0.9776|recall=0.9777|f1=0.9776|aupr=0.9981\n"
     ]
    },
    {
     "name": "stderr",
     "output_type": "stream",
     "text": [
      "100%|██████████| 141/141 [00:04<00:00, 33.75it/s]\n"
     ]
    },
    {
     "name": "stdout",
     "output_type": "stream",
     "text": [
      "Fold-1 ****Test  Epoch-26/50: Loss = 0.299806\n"
     ]
    },
    {
     "name": "stderr",
     "output_type": "stream",
     "text": [
      "\r",
      "  0%|          | 0/562 [00:00<?, ?it/s]"
     ]
    },
    {
     "name": "stdout",
     "output_type": "stream",
     "text": [
      "tn = 66787, fp = 5050, fn = 5245, tp = 66592\n",
      "y_pred: 0 = 72032 | 1 = 71642\n",
      "y_true: 0 = 71837 | 1 = 71837\n",
      "auc=0.9791|sensitivity=0.9270|specificity=0.9297|acc=0.9283|mcc=0.8567\n",
      "precision=0.9295|recall=0.9270|f1=0.9282|aupr=0.9772\n",
      "****Saving model: Best epoch = 26 | 5metrics_Best_avg = 0.9231\n",
      "*****Path saver:  ./model/pHLAIformer/no_positional_embedding__model_layer1_multihead9_fold1.pkl\n"
     ]
    },
    {
     "name": "stderr",
     "output_type": "stream",
     "text": [
      "100%|██████████| 562/562 [00:44<00:00, 12.50it/s]\n"
     ]
    },
    {
     "name": "stdout",
     "output_type": "stream",
     "text": [
      "Fold-1****Train (Ep avg): Epoch-27/50 | Loss = 0.0533 | Time = 10.0388 sec\n",
      "tn = 281348, fp = 5981, fn = 6111, tp = 281218\n",
      "y_pred: 0 = 287459 | 1 = 287199\n",
      "y_true: 0 = 287329 | 1 = 287329\n",
      "auc=0.9982|sensitivity=0.9787|specificity=0.9792|acc=0.9790|mcc=0.9579\n",
      "precision=0.9792|recall=0.9787|f1=0.9790|aupr=0.9983\n"
     ]
    },
    {
     "name": "stderr",
     "output_type": "stream",
     "text": [
      "100%|██████████| 141/141 [00:04<00:00, 33.53it/s]\n"
     ]
    },
    {
     "name": "stdout",
     "output_type": "stream",
     "text": [
      "Fold-1 ****Test  Epoch-27/50: Loss = 0.331019\n"
     ]
    },
    {
     "name": "stderr",
     "output_type": "stream",
     "text": [
      "\r",
      "  0%|          | 0/562 [00:00<?, ?it/s]"
     ]
    },
    {
     "name": "stdout",
     "output_type": "stream",
     "text": [
      "tn = 65740, fp = 6097, fn = 4221, tp = 67616\n",
      "y_pred: 0 = 69961 | 1 = 73713\n",
      "y_true: 0 = 71837 | 1 = 71837\n",
      "auc=0.9789|sensitivity=0.9412|specificity=0.9151|acc=0.9282|mcc=0.8567\n",
      "precision=0.9173|recall=0.9412|f1=0.9291|aupr=0.9772\n",
      "****Saving model: Best epoch = 27 | 5metrics_Best_avg = 0.9232\n",
      "*****Path saver:  ./model/pHLAIformer/no_positional_embedding__model_layer1_multihead9_fold1.pkl\n"
     ]
    },
    {
     "name": "stderr",
     "output_type": "stream",
     "text": [
      "100%|██████████| 562/562 [00:46<00:00, 12.19it/s]\n"
     ]
    },
    {
     "name": "stdout",
     "output_type": "stream",
     "text": [
      "Fold-1****Train (Ep avg): Epoch-28/50 | Loss = 0.0534 | Time = 10.1335 sec\n",
      "tn = 281272, fp = 6057, fn = 6103, tp = 281226\n",
      "y_pred: 0 = 287375 | 1 = 287283\n",
      "y_true: 0 = 287329 | 1 = 287329\n",
      "auc=0.9982|sensitivity=0.9788|specificity=0.9789|acc=0.9788|mcc=0.9577\n",
      "precision=0.9789|recall=0.9788|f1=0.9788|aupr=0.9983\n"
     ]
    },
    {
     "name": "stderr",
     "output_type": "stream",
     "text": [
      "100%|██████████| 141/141 [00:04<00:00, 33.24it/s]\n"
     ]
    },
    {
     "name": "stdout",
     "output_type": "stream",
     "text": [
      "Fold-1 ****Test  Epoch-28/50: Loss = 0.323640\n"
     ]
    },
    {
     "name": "stderr",
     "output_type": "stream",
     "text": [
      "\r",
      "  0%|          | 0/562 [00:00<?, ?it/s]"
     ]
    },
    {
     "name": "stdout",
     "output_type": "stream",
     "text": [
      "tn = 66672, fp = 5165, fn = 5394, tp = 66443\n",
      "y_pred: 0 = 72066 | 1 = 71608\n",
      "y_true: 0 = 71837 | 1 = 71837\n",
      "auc=0.9787|sensitivity=0.9249|specificity=0.9281|acc=0.9265|mcc=0.8530\n",
      "precision=0.9279|recall=0.9249|f1=0.9264|aupr=0.9771\n"
     ]
    },
    {
     "name": "stderr",
     "output_type": "stream",
     "text": [
      "100%|██████████| 562/562 [00:46<00:00, 12.22it/s]\n"
     ]
    },
    {
     "name": "stdout",
     "output_type": "stream",
     "text": [
      "Fold-1****Train (Ep avg): Epoch-29/50 | Loss = 0.0554 | Time = 10.0923 sec\n"
     ]
    },
    {
     "name": "stderr",
     "output_type": "stream",
     "text": [
      "\r",
      "  0%|          | 0/141 [00:00<?, ?it/s]"
     ]
    },
    {
     "name": "stdout",
     "output_type": "stream",
     "text": [
      "tn = 281141, fp = 6188, fn = 6362, tp = 280967\n",
      "y_pred: 0 = 287503 | 1 = 287155\n",
      "y_true: 0 = 287329 | 1 = 287329\n",
      "auc=0.9981|sensitivity=0.9779|specificity=0.9785|acc=0.9782|mcc=0.9563\n",
      "precision=0.9785|recall=0.9779|f1=0.9782|aupr=0.9981\n"
     ]
    },
    {
     "name": "stderr",
     "output_type": "stream",
     "text": [
      "100%|██████████| 141/141 [00:04<00:00, 34.17it/s]\n"
     ]
    },
    {
     "name": "stdout",
     "output_type": "stream",
     "text": [
      "Fold-1 ****Test  Epoch-29/50: Loss = 0.320806\n",
      "tn = 66454, fp = 5383, fn = 4806, tp = 67031\n"
     ]
    },
    {
     "name": "stderr",
     "output_type": "stream",
     "text": [
      "  0%|          | 2/562 [00:00<00:46, 12.02it/s]"
     ]
    },
    {
     "name": "stdout",
     "output_type": "stream",
     "text": [
      "y_pred: 0 = 71260 | 1 = 72414\n",
      "y_true: 0 = 71837 | 1 = 71837\n",
      "auc=0.9795|sensitivity=0.9331|specificity=0.9251|acc=0.9291|mcc=0.8582\n",
      "precision=0.9257|recall=0.9331|f1=0.9294|aupr=0.9779\n",
      "****Saving model: Best epoch = 29 | 5metrics_Best_avg = 0.9240\n",
      "*****Path saver:  ./model/pHLAIformer/no_positional_embedding__model_layer1_multihead9_fold1.pkl\n"
     ]
    },
    {
     "name": "stderr",
     "output_type": "stream",
     "text": [
      "100%|██████████| 562/562 [00:45<00:00, 12.23it/s]\n"
     ]
    },
    {
     "name": "stdout",
     "output_type": "stream",
     "text": [
      "Fold-1****Train (Ep avg): Epoch-30/50 | Loss = 0.0462 | Time = 10.0914 sec\n",
      "tn = 282152, fp = 5177, fn = 5262, tp = 282067\n",
      "y_pred: 0 = 287414 | 1 = 287244\n",
      "y_true: 0 = 287329 | 1 = 287329\n",
      "auc=0.9987|sensitivity=0.9817|specificity=0.9820|acc=0.9818|mcc=0.9637\n",
      "precision=0.9820|recall=0.9817|f1=0.9818|aupr=0.9987\n"
     ]
    },
    {
     "name": "stderr",
     "output_type": "stream",
     "text": [
      "100%|██████████| 141/141 [00:04<00:00, 33.62it/s]\n"
     ]
    },
    {
     "name": "stdout",
     "output_type": "stream",
     "text": [
      "Fold-1 ****Test  Epoch-30/50: Loss = 0.328561\n",
      "tn = 66810, fp = 5027, fn = 5088, tp = 66749\n"
     ]
    },
    {
     "name": "stderr",
     "output_type": "stream",
     "text": [
      "  0%|          | 2/562 [00:00<00:46, 12.16it/s]"
     ]
    },
    {
     "name": "stdout",
     "output_type": "stream",
     "text": [
      "y_pred: 0 = 71898 | 1 = 71776\n",
      "y_true: 0 = 71837 | 1 = 71837\n",
      "auc=0.9797|sensitivity=0.9292|specificity=0.9300|acc=0.9296|mcc=0.8592\n",
      "precision=0.9300|recall=0.9292|f1=0.9296|aupr=0.9782\n",
      "****Saving model: Best epoch = 30 | 5metrics_Best_avg = 0.9245\n",
      "*****Path saver:  ./model/pHLAIformer/no_positional_embedding__model_layer1_multihead9_fold1.pkl\n"
     ]
    },
    {
     "name": "stderr",
     "output_type": "stream",
     "text": [
      "100%|██████████| 562/562 [00:45<00:00, 12.26it/s]\n"
     ]
    },
    {
     "name": "stdout",
     "output_type": "stream",
     "text": [
      "Fold-1****Train (Ep avg): Epoch-31/50 | Loss = 0.0463 | Time = 10.0890 sec\n",
      "tn = 282140, fp = 5189, fn = 5206, tp = 282123\n",
      "y_pred: 0 = 287346 | 1 = 287312\n",
      "y_true: 0 = 287329 | 1 = 287329\n",
      "auc=0.9987|sensitivity=0.9819|specificity=0.9819|acc=0.9819|mcc=0.9638\n",
      "precision=0.9819|recall=0.9819|f1=0.9819|aupr=0.9987\n"
     ]
    },
    {
     "name": "stderr",
     "output_type": "stream",
     "text": [
      "100%|██████████| 141/141 [00:04<00:00, 33.77it/s]\n"
     ]
    },
    {
     "name": "stdout",
     "output_type": "stream",
     "text": [
      "Fold-1 ****Test  Epoch-31/50: Loss = 0.336959\n"
     ]
    },
    {
     "name": "stderr",
     "output_type": "stream",
     "text": [
      "\r",
      "  0%|          | 0/562 [00:00<?, ?it/s]"
     ]
    },
    {
     "name": "stdout",
     "output_type": "stream",
     "text": [
      "tn = 67243, fp = 4594, fn = 5513, tp = 66324\n",
      "y_pred: 0 = 72756 | 1 = 70918\n",
      "y_true: 0 = 71837 | 1 = 71837\n",
      "auc=0.9798|sensitivity=0.9233|specificity=0.9360|acc=0.9297|mcc=0.8594\n",
      "precision=0.9352|recall=0.9233|f1=0.9292|aupr=0.9782\n"
     ]
    },
    {
     "name": "stderr",
     "output_type": "stream",
     "text": [
      "100%|██████████| 562/562 [00:45<00:00, 12.27it/s]\n"
     ]
    },
    {
     "name": "stdout",
     "output_type": "stream",
     "text": [
      "Fold-1****Train (Ep avg): Epoch-32/50 | Loss = 0.0467 | Time = 10.0758 sec\n"
     ]
    },
    {
     "name": "stderr",
     "output_type": "stream",
     "text": [
      "\r",
      "  0%|          | 0/141 [00:00<?, ?it/s]"
     ]
    },
    {
     "name": "stdout",
     "output_type": "stream",
     "text": [
      "tn = 282145, fp = 5184, fn = 5296, tp = 282033\n",
      "y_pred: 0 = 287441 | 1 = 287217\n",
      "y_true: 0 = 287329 | 1 = 287329\n",
      "auc=0.9986|sensitivity=0.9816|specificity=0.9820|acc=0.9818|mcc=0.9635\n",
      "precision=0.9820|recall=0.9816|f1=0.9818|aupr=0.9987\n"
     ]
    },
    {
     "name": "stderr",
     "output_type": "stream",
     "text": [
      "100%|██████████| 141/141 [00:04<00:00, 34.25it/s]\n"
     ]
    },
    {
     "name": "stdout",
     "output_type": "stream",
     "text": [
      "Fold-1 ****Test  Epoch-32/50: Loss = 0.335346\n"
     ]
    },
    {
     "name": "stderr",
     "output_type": "stream",
     "text": [
      "\r",
      "  0%|          | 0/562 [00:00<?, ?it/s]"
     ]
    },
    {
     "name": "stdout",
     "output_type": "stream",
     "text": [
      "tn = 66830, fp = 5007, fn = 5163, tp = 66674\n",
      "y_pred: 0 = 71993 | 1 = 71681\n",
      "y_true: 0 = 71837 | 1 = 71837\n",
      "auc=0.9793|sensitivity=0.9281|specificity=0.9303|acc=0.9292|mcc=0.8584\n",
      "precision=0.9301|recall=0.9281|f1=0.9291|aupr=0.9775\n"
     ]
    },
    {
     "name": "stderr",
     "output_type": "stream",
     "text": [
      "100%|██████████| 562/562 [00:44<00:00, 12.59it/s]\n"
     ]
    },
    {
     "name": "stdout",
     "output_type": "stream",
     "text": [
      "Fold-1****Train (Ep avg): Epoch-33/50 | Loss = 0.0450 | Time = 9.9951 sec\n",
      "tn = 282277, fp = 5052, fn = 5026, tp = 282303\n",
      "y_pred: 0 = 287303 | 1 = 287355\n",
      "y_true: 0 = 287329 | 1 = 287329\n",
      "auc=0.9987|sensitivity=0.9825|specificity=0.9824|acc=0.9825|mcc=0.9649\n",
      "precision=0.9824|recall=0.9825|f1=0.9825|aupr=0.9988\n"
     ]
    },
    {
     "name": "stderr",
     "output_type": "stream",
     "text": [
      "100%|██████████| 141/141 [00:04<00:00, 34.43it/s]\n"
     ]
    },
    {
     "name": "stdout",
     "output_type": "stream",
     "text": [
      "Fold-1 ****Test  Epoch-33/50: Loss = 0.327484\n"
     ]
    },
    {
     "name": "stderr",
     "output_type": "stream",
     "text": [
      "\r",
      "  0%|          | 0/562 [00:00<?, ?it/s]"
     ]
    },
    {
     "name": "stdout",
     "output_type": "stream",
     "text": [
      "tn = 67101, fp = 4736, fn = 5295, tp = 66542\n",
      "y_pred: 0 = 72396 | 1 = 71278\n",
      "y_true: 0 = 71837 | 1 = 71837\n",
      "auc=0.9800|sensitivity=0.9263|specificity=0.9341|acc=0.9302|mcc=0.8604\n",
      "precision=0.9336|recall=0.9263|f1=0.9299|aupr=0.9782\n",
      "****Saving model: Best epoch = 33 | 5metrics_Best_avg = 0.9251\n",
      "*****Path saver:  ./model/pHLAIformer/no_positional_embedding__model_layer1_multihead9_fold1.pkl\n"
     ]
    },
    {
     "name": "stderr",
     "output_type": "stream",
     "text": [
      "100%|██████████| 562/562 [00:44<00:00, 12.54it/s]\n"
     ]
    },
    {
     "name": "stdout",
     "output_type": "stream",
     "text": [
      "Fold-1****Train (Ep avg): Epoch-34/50 | Loss = 0.0436 | Time = 10.0071 sec\n",
      "tn = 282382, fp = 4947, fn = 4882, tp = 282447\n",
      "y_pred: 0 = 287264 | 1 = 287394\n",
      "y_true: 0 = 287329 | 1 = 287329\n",
      "auc=0.9988|sensitivity=0.9830|specificity=0.9828|acc=0.9829|mcc=0.9658\n",
      "precision=0.9828|recall=0.9830|f1=0.9829|aupr=0.9988\n"
     ]
    },
    {
     "name": "stderr",
     "output_type": "stream",
     "text": [
      "100%|██████████| 141/141 [00:04<00:00, 33.64it/s]\n"
     ]
    },
    {
     "name": "stdout",
     "output_type": "stream",
     "text": [
      "Fold-1 ****Test  Epoch-34/50: Loss = 0.357016\n"
     ]
    },
    {
     "name": "stderr",
     "output_type": "stream",
     "text": [
      "\r",
      "  0%|          | 0/562 [00:00<?, ?it/s]"
     ]
    },
    {
     "name": "stdout",
     "output_type": "stream",
     "text": [
      "tn = 66933, fp = 4904, fn = 5317, tp = 66520\n",
      "y_pred: 0 = 72250 | 1 = 71424\n",
      "y_true: 0 = 71837 | 1 = 71837\n",
      "auc=0.9791|sensitivity=0.9260|specificity=0.9317|acc=0.9289|mcc=0.8577\n",
      "precision=0.9313|recall=0.9260|f1=0.9287|aupr=0.9775\n"
     ]
    },
    {
     "name": "stderr",
     "output_type": "stream",
     "text": [
      "100%|██████████| 562/562 [00:44<00:00, 12.56it/s]\n"
     ]
    },
    {
     "name": "stdout",
     "output_type": "stream",
     "text": [
      "Fold-1****Train (Ep avg): Epoch-35/50 | Loss = 0.0438 | Time = 9.9957 sec\n",
      "tn = 282464, fp = 4865, fn = 4865, tp = 282464\n",
      "y_pred: 0 = 287329 | 1 = 287329\n",
      "y_true: 0 = 287329 | 1 = 287329\n",
      "auc=0.9988|sensitivity=0.9831|specificity=0.9831|acc=0.9831|mcc=0.9661\n",
      "precision=0.9831|recall=0.9831|f1=0.9831|aupr=0.9988\n"
     ]
    },
    {
     "name": "stderr",
     "output_type": "stream",
     "text": [
      "100%|██████████| 141/141 [00:04<00:00, 34.24it/s]\n"
     ]
    },
    {
     "name": "stdout",
     "output_type": "stream",
     "text": [
      "Fold-1 ****Test  Epoch-35/50: Loss = 0.352296\n",
      "tn = 67307, fp = 4530, fn = 5752, tp = 66085\n"
     ]
    },
    {
     "name": "stderr",
     "output_type": "stream",
     "text": [
      "  0%|          | 2/562 [00:00<00:44, 12.53it/s]"
     ]
    },
    {
     "name": "stdout",
     "output_type": "stream",
     "text": [
      "y_pred: 0 = 73059 | 1 = 70615\n",
      "y_true: 0 = 71837 | 1 = 71837\n",
      "auc=0.9795|sensitivity=0.9199|specificity=0.9369|acc=0.9284|mcc=0.8570\n",
      "precision=0.9358|recall=0.9199|f1=0.9278|aupr=0.9778\n"
     ]
    },
    {
     "name": "stderr",
     "output_type": "stream",
     "text": [
      "100%|██████████| 562/562 [00:44<00:00, 12.55it/s]\n"
     ]
    },
    {
     "name": "stdout",
     "output_type": "stream",
     "text": [
      "Fold-1****Train (Ep avg): Epoch-36/50 | Loss = 0.0413 | Time = 9.9788 sec\n",
      "tn = 282809, fp = 4520, fn = 4622, tp = 282707\n",
      "y_pred: 0 = 287431 | 1 = 287227\n",
      "y_true: 0 = 287329 | 1 = 287329\n",
      "auc=0.9989|sensitivity=0.9839|specificity=0.9843|acc=0.9841|mcc=0.9682\n",
      "precision=0.9843|recall=0.9839|f1=0.9841|aupr=0.9989\n"
     ]
    },
    {
     "name": "stderr",
     "output_type": "stream",
     "text": [
      "100%|██████████| 141/141 [00:04<00:00, 34.58it/s]\n"
     ]
    },
    {
     "name": "stdout",
     "output_type": "stream",
     "text": [
      "Fold-1 ****Test  Epoch-36/50: Loss = 0.359564\n"
     ]
    },
    {
     "name": "stderr",
     "output_type": "stream",
     "text": [
      "\r",
      "  0%|          | 0/562 [00:00<?, ?it/s]"
     ]
    },
    {
     "name": "stdout",
     "output_type": "stream",
     "text": [
      "tn = 66716, fp = 5121, fn = 4672, tp = 67165\n",
      "y_pred: 0 = 71388 | 1 = 72286\n",
      "y_true: 0 = 71837 | 1 = 71837\n",
      "auc=0.9803|sensitivity=0.9350|specificity=0.9287|acc=0.9318|mcc=0.8637\n",
      "precision=0.9292|recall=0.9350|f1=0.9321|aupr=0.9786\n",
      "****Saving model: Best epoch = 36 | 5metrics_Best_avg = 0.9270\n",
      "*****Path saver:  ./model/pHLAIformer/no_positional_embedding__model_layer1_multihead9_fold1.pkl\n"
     ]
    },
    {
     "name": "stderr",
     "output_type": "stream",
     "text": [
      "100%|██████████| 562/562 [00:44<00:00, 12.52it/s]\n"
     ]
    },
    {
     "name": "stdout",
     "output_type": "stream",
     "text": [
      "Fold-1****Train (Ep avg): Epoch-37/50 | Loss = 0.0412 | Time = 10.0112 sec\n"
     ]
    },
    {
     "name": "stderr",
     "output_type": "stream",
     "text": [
      "\r",
      "  0%|          | 0/141 [00:00<?, ?it/s]"
     ]
    },
    {
     "name": "stdout",
     "output_type": "stream",
     "text": [
      "tn = 282745, fp = 4584, fn = 4587, tp = 282742\n",
      "y_pred: 0 = 287332 | 1 = 287326\n",
      "y_true: 0 = 287329 | 1 = 287329\n",
      "auc=0.9989|sensitivity=0.9840|specificity=0.9840|acc=0.9840|mcc=0.9681\n",
      "precision=0.9840|recall=0.9840|f1=0.9840|aupr=0.9990\n"
     ]
    },
    {
     "name": "stderr",
     "output_type": "stream",
     "text": [
      "100%|██████████| 141/141 [00:04<00:00, 33.46it/s]\n"
     ]
    },
    {
     "name": "stdout",
     "output_type": "stream",
     "text": [
      "Fold-1 ****Test  Epoch-37/50: Loss = 0.361587\n"
     ]
    },
    {
     "name": "stderr",
     "output_type": "stream",
     "text": [
      "\r",
      "  0%|          | 0/562 [00:00<?, ?it/s]"
     ]
    },
    {
     "name": "stdout",
     "output_type": "stream",
     "text": [
      "tn = 66591, fp = 5246, fn = 4778, tp = 67059\n",
      "y_pred: 0 = 71369 | 1 = 72305\n",
      "y_true: 0 = 71837 | 1 = 71837\n",
      "auc=0.9800|sensitivity=0.9335|specificity=0.9270|acc=0.9302|mcc=0.8605\n",
      "precision=0.9274|recall=0.9335|f1=0.9305|aupr=0.9786\n"
     ]
    },
    {
     "name": "stderr",
     "output_type": "stream",
     "text": [
      "100%|██████████| 562/562 [00:45<00:00, 12.45it/s]\n"
     ]
    },
    {
     "name": "stdout",
     "output_type": "stream",
     "text": [
      "Fold-1****Train (Ep avg): Epoch-38/50 | Loss = 0.0397 | Time = 10.0282 sec\n"
     ]
    },
    {
     "name": "stderr",
     "output_type": "stream",
     "text": [
      "\r",
      "  0%|          | 0/141 [00:00<?, ?it/s]"
     ]
    },
    {
     "name": "stdout",
     "output_type": "stream",
     "text": [
      "tn = 282958, fp = 4371, fn = 4462, tp = 282867\n",
      "y_pred: 0 = 287420 | 1 = 287238\n",
      "y_true: 0 = 287329 | 1 = 287329\n",
      "auc=0.9990|sensitivity=0.9845|specificity=0.9848|acc=0.9846|mcc=0.9693\n",
      "precision=0.9848|recall=0.9845|f1=0.9846|aupr=0.9990\n"
     ]
    },
    {
     "name": "stderr",
     "output_type": "stream",
     "text": [
      "100%|██████████| 141/141 [00:04<00:00, 35.05it/s]\n"
     ]
    },
    {
     "name": "stdout",
     "output_type": "stream",
     "text": [
      "Fold-1 ****Test  Epoch-38/50: Loss = 0.348840\n",
      "tn = 66043, fp = 5794, fn = 4258, tp = 67579\n"
     ]
    },
    {
     "name": "stderr",
     "output_type": "stream",
     "text": [
      "  0%|          | 2/562 [00:00<00:44, 12.55it/s]"
     ]
    },
    {
     "name": "stdout",
     "output_type": "stream",
     "text": [
      "y_pred: 0 = 70301 | 1 = 73373\n",
      "y_true: 0 = 71837 | 1 = 71837\n",
      "auc=0.9802|sensitivity=0.9407|specificity=0.9193|acc=0.9300|mcc=0.8603\n",
      "precision=0.9210|recall=0.9407|f1=0.9308|aupr=0.9788\n"
     ]
    },
    {
     "name": "stderr",
     "output_type": "stream",
     "text": [
      "100%|██████████| 562/562 [00:45<00:00, 12.24it/s]\n"
     ]
    },
    {
     "name": "stdout",
     "output_type": "stream",
     "text": [
      "Fold-1****Train (Ep avg): Epoch-39/50 | Loss = 0.0399 | Time = 10.0924 sec\n",
      "tn = 282877, fp = 4452, fn = 4466, tp = 282863\n",
      "y_pred: 0 = 287343 | 1 = 287315\n",
      "y_true: 0 = 287329 | 1 = 287329\n",
      "auc=0.9990|sensitivity=0.9845|specificity=0.9845|acc=0.9845|mcc=0.9690\n",
      "precision=0.9845|recall=0.9845|f1=0.9845|aupr=0.9990\n"
     ]
    },
    {
     "name": "stderr",
     "output_type": "stream",
     "text": [
      "100%|██████████| 141/141 [00:04<00:00, 33.93it/s]\n"
     ]
    },
    {
     "name": "stdout",
     "output_type": "stream",
     "text": [
      "Fold-1 ****Test  Epoch-39/50: Loss = 0.373917\n"
     ]
    },
    {
     "name": "stderr",
     "output_type": "stream",
     "text": [
      "\r",
      "  0%|          | 0/562 [00:00<?, ?it/s]"
     ]
    },
    {
     "name": "stdout",
     "output_type": "stream",
     "text": [
      "tn = 65995, fp = 5842, fn = 4281, tp = 67556\n",
      "y_pred: 0 = 70276 | 1 = 73398\n",
      "y_true: 0 = 71837 | 1 = 71837\n",
      "auc=0.9796|sensitivity=0.9404|specificity=0.9187|acc=0.9295|mcc=0.8593\n",
      "precision=0.9204|recall=0.9404|f1=0.9303|aupr=0.9780\n"
     ]
    },
    {
     "name": "stderr",
     "output_type": "stream",
     "text": [
      "100%|██████████| 562/562 [00:46<00:00, 12.18it/s]\n"
     ]
    },
    {
     "name": "stdout",
     "output_type": "stream",
     "text": [
      "Fold-1****Train (Ep avg): Epoch-40/50 | Loss = 0.0398 | Time = 10.1303 sec\n",
      "tn = 282941, fp = 4388, fn = 4409, tp = 282920\n",
      "y_pred: 0 = 287350 | 1 = 287308\n",
      "y_true: 0 = 287329 | 1 = 287329\n",
      "auc=0.9990|sensitivity=0.9847|specificity=0.9847|acc=0.9847|mcc=0.9694\n",
      "precision=0.9847|recall=0.9847|f1=0.9847|aupr=0.9990\n"
     ]
    },
    {
     "name": "stderr",
     "output_type": "stream",
     "text": [
      "100%|██████████| 141/141 [00:04<00:00, 33.22it/s]\n"
     ]
    },
    {
     "name": "stdout",
     "output_type": "stream",
     "text": [
      "Fold-1 ****Test  Epoch-40/50: Loss = 0.365872\n",
      "tn = 66117, fp = 5720, fn = 4423, tp = 67414\n"
     ]
    },
    {
     "name": "stderr",
     "output_type": "stream",
     "text": [
      "  0%|          | 2/562 [00:00<00:45, 12.18it/s]"
     ]
    },
    {
     "name": "stdout",
     "output_type": "stream",
     "text": [
      "y_pred: 0 = 70540 | 1 = 73134\n",
      "y_true: 0 = 71837 | 1 = 71837\n",
      "auc=0.9796|sensitivity=0.9384|specificity=0.9204|acc=0.9294|mcc=0.8589\n",
      "precision=0.9218|recall=0.9384|f1=0.9300|aupr=0.9782\n"
     ]
    },
    {
     "name": "stderr",
     "output_type": "stream",
     "text": [
      "100%|██████████| 562/562 [00:46<00:00, 12.21it/s]\n"
     ]
    },
    {
     "name": "stdout",
     "output_type": "stream",
     "text": [
      "Fold-1****Train (Ep avg): Epoch-41/50 | Loss = 0.0366 | Time = 10.0763 sec\n",
      "tn = 283315, fp = 4014, fn = 4110, tp = 283219\n",
      "y_pred: 0 = 287425 | 1 = 287233\n",
      "y_true: 0 = 287329 | 1 = 287329\n",
      "auc=0.9992|sensitivity=0.9857|specificity=0.9860|acc=0.9859|mcc=0.9717\n",
      "precision=0.9860|recall=0.9857|f1=0.9859|aupr=0.9992\n"
     ]
    },
    {
     "name": "stderr",
     "output_type": "stream",
     "text": [
      "100%|██████████| 141/141 [00:04<00:00, 33.41it/s]\n"
     ]
    },
    {
     "name": "stdout",
     "output_type": "stream",
     "text": [
      "Fold-1 ****Test  Epoch-41/50: Loss = 0.368487\n"
     ]
    },
    {
     "name": "stderr",
     "output_type": "stream",
     "text": [
      "\r",
      "  0%|          | 0/562 [00:00<?, ?it/s]"
     ]
    },
    {
     "name": "stdout",
     "output_type": "stream",
     "text": [
      "tn = 66498, fp = 5339, fn = 4743, tp = 67094\n",
      "y_pred: 0 = 71241 | 1 = 72433\n",
      "y_true: 0 = 71837 | 1 = 71837\n",
      "auc=0.9798|sensitivity=0.9340|specificity=0.9257|acc=0.9298|mcc=0.8597\n",
      "precision=0.9263|recall=0.9340|f1=0.9301|aupr=0.9784\n"
     ]
    },
    {
     "name": "stderr",
     "output_type": "stream",
     "text": [
      "100%|██████████| 562/562 [00:45<00:00, 12.24it/s]\n"
     ]
    },
    {
     "name": "stdout",
     "output_type": "stream",
     "text": [
      "Fold-1****Train (Ep avg): Epoch-42/50 | Loss = 0.0370 | Time = 10.0966 sec\n"
     ]
    },
    {
     "name": "stderr",
     "output_type": "stream",
     "text": [
      "\r",
      "  0%|          | 0/141 [00:00<?, ?it/s]"
     ]
    },
    {
     "name": "stdout",
     "output_type": "stream",
     "text": [
      "tn = 283274, fp = 4055, fn = 4124, tp = 283205\n",
      "y_pred: 0 = 287398 | 1 = 287260\n",
      "y_true: 0 = 287329 | 1 = 287329\n",
      "auc=0.9991|sensitivity=0.9856|specificity=0.9859|acc=0.9858|mcc=0.9715\n",
      "precision=0.9859|recall=0.9856|f1=0.9858|aupr=0.9991\n"
     ]
    },
    {
     "name": "stderr",
     "output_type": "stream",
     "text": [
      "100%|██████████| 141/141 [00:04<00:00, 33.55it/s]\n"
     ]
    },
    {
     "name": "stdout",
     "output_type": "stream",
     "text": [
      "Fold-1 ****Test  Epoch-42/50: Loss = 0.363534\n"
     ]
    },
    {
     "name": "stderr",
     "output_type": "stream",
     "text": [
      "\r",
      "  0%|          | 0/562 [00:00<?, ?it/s]"
     ]
    },
    {
     "name": "stdout",
     "output_type": "stream",
     "text": [
      "tn = 66790, fp = 5047, fn = 4956, tp = 66881\n",
      "y_pred: 0 = 71746 | 1 = 71928\n",
      "y_true: 0 = 71837 | 1 = 71837\n",
      "auc=0.9798|sensitivity=0.9310|specificity=0.9297|acc=0.9304|mcc=0.8608\n",
      "precision=0.9298|recall=0.9310|f1=0.9304|aupr=0.9783\n"
     ]
    },
    {
     "name": "stderr",
     "output_type": "stream",
     "text": [
      "100%|██████████| 562/562 [00:45<00:00, 12.27it/s]\n"
     ]
    },
    {
     "name": "stdout",
     "output_type": "stream",
     "text": [
      "Fold-1****Train (Ep avg): Epoch-43/50 | Loss = 0.0360 | Time = 10.0627 sec\n"
     ]
    },
    {
     "name": "stderr",
     "output_type": "stream",
     "text": [
      "\r",
      "  0%|          | 0/141 [00:00<?, ?it/s]"
     ]
    },
    {
     "name": "stdout",
     "output_type": "stream",
     "text": [
      "tn = 283347, fp = 3982, fn = 3954, tp = 283375\n",
      "y_pred: 0 = 287301 | 1 = 287357\n",
      "y_true: 0 = 287329 | 1 = 287329\n",
      "auc=0.9992|sensitivity=0.9862|specificity=0.9861|acc=0.9862|mcc=0.9724\n",
      "precision=0.9861|recall=0.9862|f1=0.9862|aupr=0.9992\n"
     ]
    },
    {
     "name": "stderr",
     "output_type": "stream",
     "text": [
      "100%|██████████| 141/141 [00:04<00:00, 33.45it/s]\n"
     ]
    },
    {
     "name": "stdout",
     "output_type": "stream",
     "text": [
      "Fold-1 ****Test  Epoch-43/50: Loss = 0.367933\n",
      "tn = 66059, fp = 5778, fn = 4373, tp = 67464\n"
     ]
    },
    {
     "name": "stderr",
     "output_type": "stream",
     "text": [
      "  0%|          | 2/562 [00:00<00:45, 12.30it/s]"
     ]
    },
    {
     "name": "stdout",
     "output_type": "stream",
     "text": [
      "y_pred: 0 = 70432 | 1 = 73242\n",
      "y_true: 0 = 71837 | 1 = 71837\n",
      "auc=0.9795|sensitivity=0.9391|specificity=0.9196|acc=0.9293|mcc=0.8589\n",
      "precision=0.9211|recall=0.9391|f1=0.9300|aupr=0.9781\n"
     ]
    },
    {
     "name": "stderr",
     "output_type": "stream",
     "text": [
      "100%|██████████| 562/562 [00:45<00:00, 12.31it/s]\n"
     ]
    },
    {
     "name": "stdout",
     "output_type": "stream",
     "text": [
      "Fold-1****Train (Ep avg): Epoch-44/50 | Loss = 0.0358 | Time = 10.0508 sec\n",
      "tn = 283425, fp = 3904, fn = 3979, tp = 283350\n",
      "y_pred: 0 = 287404 | 1 = 287254\n",
      "y_true: 0 = 287329 | 1 = 287329\n",
      "auc=0.9992|sensitivity=0.9862|specificity=0.9864|acc=0.9863|mcc=0.9726\n",
      "precision=0.9864|recall=0.9862|f1=0.9863|aupr=0.9992\n"
     ]
    },
    {
     "name": "stderr",
     "output_type": "stream",
     "text": [
      "100%|██████████| 141/141 [00:04<00:00, 33.57it/s]\n"
     ]
    },
    {
     "name": "stdout",
     "output_type": "stream",
     "text": [
      "Fold-1 ****Test  Epoch-44/50: Loss = 0.358155\n"
     ]
    },
    {
     "name": "stderr",
     "output_type": "stream",
     "text": [
      "\r",
      "  0%|          | 0/562 [00:00<?, ?it/s]"
     ]
    },
    {
     "name": "stdout",
     "output_type": "stream",
     "text": [
      "tn = 66624, fp = 5213, fn = 4692, tp = 67145\n",
      "y_pred: 0 = 71316 | 1 = 72358\n",
      "y_true: 0 = 71837 | 1 = 71837\n",
      "auc=0.9802|sensitivity=0.9347|specificity=0.9274|acc=0.9311|mcc=0.8621\n",
      "precision=0.9280|recall=0.9347|f1=0.9313|aupr=0.9787\n"
     ]
    },
    {
     "name": "stderr",
     "output_type": "stream",
     "text": [
      "100%|██████████| 562/562 [00:45<00:00, 12.24it/s]\n"
     ]
    },
    {
     "name": "stdout",
     "output_type": "stream",
     "text": [
      "Fold-1****Train (Ep avg): Epoch-45/50 | Loss = 0.0338 | Time = 10.0459 sec\n"
     ]
    },
    {
     "name": "stderr",
     "output_type": "stream",
     "text": [
      "\r",
      "  0%|          | 0/141 [00:00<?, ?it/s]"
     ]
    },
    {
     "name": "stdout",
     "output_type": "stream",
     "text": [
      "tn = 283638, fp = 3691, fn = 3683, tp = 283646\n",
      "y_pred: 0 = 287321 | 1 = 287337\n",
      "y_true: 0 = 287329 | 1 = 287329\n",
      "auc=0.9993|sensitivity=0.9872|specificity=0.9872|acc=0.9872|mcc=0.9743\n",
      "precision=0.9872|recall=0.9872|f1=0.9872|aupr=0.9993\n"
     ]
    },
    {
     "name": "stderr",
     "output_type": "stream",
     "text": [
      "100%|██████████| 141/141 [00:04<00:00, 33.93it/s]\n"
     ]
    },
    {
     "name": "stdout",
     "output_type": "stream",
     "text": [
      "Fold-1 ****Test  Epoch-45/50: Loss = 0.374130\n"
     ]
    },
    {
     "name": "stderr",
     "output_type": "stream",
     "text": [
      "\r",
      "  0%|          | 0/562 [00:00<?, ?it/s]"
     ]
    },
    {
     "name": "stdout",
     "output_type": "stream",
     "text": [
      "tn = 65808, fp = 6029, fn = 4002, tp = 67835\n",
      "y_pred: 0 = 69810 | 1 = 73864\n",
      "y_true: 0 = 71837 | 1 = 71837\n",
      "auc=0.9798|sensitivity=0.9443|specificity=0.9161|acc=0.9302|mcc=0.8607\n",
      "precision=0.9184|recall=0.9443|f1=0.9312|aupr=0.9782\n"
     ]
    },
    {
     "name": "stderr",
     "output_type": "stream",
     "text": [
      "100%|██████████| 562/562 [00:46<00:00, 12.18it/s]\n"
     ]
    },
    {
     "name": "stdout",
     "output_type": "stream",
     "text": [
      "Fold-1****Train (Ep avg): Epoch-46/50 | Loss = 0.0346 | Time = 10.0679 sec\n",
      "tn = 283554, fp = 3775, fn = 3787, tp = 283542\n",
      "y_pred: 0 = 287341 | 1 = 287317\n",
      "y_true: 0 = 287329 | 1 = 287329\n",
      "auc=0.9992|sensitivity=0.9868|specificity=0.9869|acc=0.9868|mcc=0.9737\n",
      "precision=0.9869|recall=0.9868|f1=0.9868|aupr=0.9993\n"
     ]
    },
    {
     "name": "stderr",
     "output_type": "stream",
     "text": [
      "100%|██████████| 141/141 [00:04<00:00, 33.55it/s]\n"
     ]
    },
    {
     "name": "stdout",
     "output_type": "stream",
     "text": [
      "Fold-1 ****Test  Epoch-46/50: Loss = 0.375267\n"
     ]
    },
    {
     "name": "stderr",
     "output_type": "stream",
     "text": [
      "\r",
      "  0%|          | 0/562 [00:00<?, ?it/s]"
     ]
    },
    {
     "name": "stdout",
     "output_type": "stream",
     "text": [
      "tn = 65528, fp = 6309, fn = 3790, tp = 68047\n",
      "y_pred: 0 = 69318 | 1 = 74356\n",
      "y_true: 0 = 71837 | 1 = 71837\n",
      "auc=0.9799|sensitivity=0.9472|specificity=0.9122|acc=0.9297|mcc=0.8599\n",
      "precision=0.9152|recall=0.9472|f1=0.9309|aupr=0.9785\n"
     ]
    },
    {
     "name": "stderr",
     "output_type": "stream",
     "text": [
      "100%|██████████| 562/562 [00:46<00:00, 12.15it/s]\n"
     ]
    },
    {
     "name": "stdout",
     "output_type": "stream",
     "text": [
      "Fold-1****Train (Ep avg): Epoch-47/50 | Loss = 0.0338 | Time = 10.1067 sec\n"
     ]
    },
    {
     "name": "stderr",
     "output_type": "stream",
     "text": [
      "\r",
      "  0%|          | 0/141 [00:00<?, ?it/s]"
     ]
    },
    {
     "name": "stdout",
     "output_type": "stream",
     "text": [
      "tn = 283665, fp = 3664, fn = 3683, tp = 283646\n",
      "y_pred: 0 = 287348 | 1 = 287310\n",
      "y_true: 0 = 287329 | 1 = 287329\n",
      "auc=0.9993|sensitivity=0.9872|specificity=0.9872|acc=0.9872|mcc=0.9744\n",
      "precision=0.9872|recall=0.9872|f1=0.9872|aupr=0.9993\n"
     ]
    },
    {
     "name": "stderr",
     "output_type": "stream",
     "text": [
      "100%|██████████| 141/141 [00:04<00:00, 34.23it/s]\n"
     ]
    },
    {
     "name": "stdout",
     "output_type": "stream",
     "text": [
      "Fold-1 ****Test  Epoch-47/50: Loss = 0.388470\n"
     ]
    },
    {
     "name": "stderr",
     "output_type": "stream",
     "text": [
      "\r",
      "  0%|          | 0/562 [00:00<?, ?it/s]"
     ]
    },
    {
     "name": "stdout",
     "output_type": "stream",
     "text": [
      "tn = 64944, fp = 6893, fn = 3285, tp = 68552\n",
      "y_pred: 0 = 68229 | 1 = 75445\n",
      "y_true: 0 = 71837 | 1 = 71837\n",
      "auc=0.9800|sensitivity=0.9543|specificity=0.9040|acc=0.9292|mcc=0.8594\n",
      "precision=0.9086|recall=0.9543|f1=0.9309|aupr=0.9785\n"
     ]
    },
    {
     "name": "stderr",
     "output_type": "stream",
     "text": [
      "100%|██████████| 562/562 [00:46<00:00, 12.20it/s]\n"
     ]
    },
    {
     "name": "stdout",
     "output_type": "stream",
     "text": [
      "Fold-1****Train (Ep avg): Epoch-48/50 | Loss = 0.0334 | Time = 10.1030 sec\n"
     ]
    },
    {
     "name": "stderr",
     "output_type": "stream",
     "text": [
      "\r",
      "  0%|          | 0/141 [00:00<?, ?it/s]"
     ]
    },
    {
     "name": "stdout",
     "output_type": "stream",
     "text": [
      "tn = 283697, fp = 3632, fn = 3636, tp = 283693\n",
      "y_pred: 0 = 287333 | 1 = 287325\n",
      "y_true: 0 = 287329 | 1 = 287329\n",
      "auc=0.9993|sensitivity=0.9873|specificity=0.9874|acc=0.9874|mcc=0.9747\n",
      "precision=0.9874|recall=0.9873|f1=0.9874|aupr=0.9993\n"
     ]
    },
    {
     "name": "stderr",
     "output_type": "stream",
     "text": [
      "100%|██████████| 141/141 [00:04<00:00, 33.27it/s]\n"
     ]
    },
    {
     "name": "stdout",
     "output_type": "stream",
     "text": [
      "Fold-1 ****Test  Epoch-48/50: Loss = 0.383163\n"
     ]
    },
    {
     "name": "stderr",
     "output_type": "stream",
     "text": [
      "\r",
      "  0%|          | 0/562 [00:00<?, ?it/s]"
     ]
    },
    {
     "name": "stdout",
     "output_type": "stream",
     "text": [
      "tn = 65733, fp = 6104, fn = 3892, tp = 67945\n",
      "y_pred: 0 = 69625 | 1 = 74049\n",
      "y_true: 0 = 71837 | 1 = 71837\n",
      "auc=0.9801|sensitivity=0.9458|specificity=0.9150|acc=0.9304|mcc=0.8613\n",
      "precision=0.9176|recall=0.9458|f1=0.9315|aupr=0.9786\n"
     ]
    },
    {
     "name": "stderr",
     "output_type": "stream",
     "text": [
      "100%|██████████| 562/562 [00:45<00:00, 12.29it/s]\n"
     ]
    },
    {
     "name": "stdout",
     "output_type": "stream",
     "text": [
      "Fold-1****Train (Ep avg): Epoch-49/50 | Loss = 0.0318 | Time = 10.0748 sec\n",
      "tn = 283861, fp = 3468, fn = 3494, tp = 283835\n",
      "y_pred: 0 = 287355 | 1 = 287303\n",
      "y_true: 0 = 287329 | 1 = 287329\n",
      "auc=0.9994|sensitivity=0.9878|specificity=0.9879|acc=0.9879|mcc=0.9758\n",
      "precision=0.9879|recall=0.9878|f1=0.9879|aupr=0.9994\n"
     ]
    },
    {
     "name": "stderr",
     "output_type": "stream",
     "text": [
      "100%|██████████| 141/141 [00:04<00:00, 33.63it/s]\n"
     ]
    },
    {
     "name": "stdout",
     "output_type": "stream",
     "text": [
      "Fold-1 ****Test  Epoch-49/50: Loss = 0.385147\n"
     ]
    },
    {
     "name": "stderr",
     "output_type": "stream",
     "text": [
      "  0%|          | 2/562 [00:00<00:45, 12.29it/s]"
     ]
    },
    {
     "name": "stdout",
     "output_type": "stream",
     "text": [
      "tn = 65783, fp = 6054, fn = 4185, tp = 67652\n",
      "y_pred: 0 = 69968 | 1 = 73706\n",
      "y_true: 0 = 71837 | 1 = 71837\n",
      "auc=0.9795|sensitivity=0.9417|specificity=0.9157|acc=0.9287|mcc=0.8578\n",
      "precision=0.9179|recall=0.9417|f1=0.9296|aupr=0.9782\n"
     ]
    },
    {
     "name": "stderr",
     "output_type": "stream",
     "text": [
      "100%|██████████| 562/562 [00:45<00:00, 12.27it/s]\n"
     ]
    },
    {
     "name": "stdout",
     "output_type": "stream",
     "text": [
      "Fold-1****Train (Ep avg): Epoch-50/50 | Loss = 0.0321 | Time = 10.0782 sec\n",
      "tn = 283854, fp = 3475, fn = 3488, tp = 283841\n",
      "y_pred: 0 = 287342 | 1 = 287316\n",
      "y_true: 0 = 287329 | 1 = 287329\n",
      "auc=0.9993|sensitivity=0.9879|specificity=0.9879|acc=0.9879|mcc=0.9758\n",
      "precision=0.9879|recall=0.9879|f1=0.9879|aupr=0.9994\n"
     ]
    },
    {
     "name": "stderr",
     "output_type": "stream",
     "text": [
      "100%|██████████| 141/141 [00:04<00:00, 34.21it/s]\n"
     ]
    },
    {
     "name": "stdout",
     "output_type": "stream",
     "text": [
      "Fold-1 ****Test  Epoch-50/50: Loss = 0.395656\n",
      "tn = 65233, fp = 6604, fn = 3520, tp = 68317\n"
     ]
    },
    {
     "name": "stderr",
     "output_type": "stream",
     "text": [
      "  0%|          | 1/562 [00:00<00:58,  9.51it/s]"
     ]
    },
    {
     "name": "stdout",
     "output_type": "stream",
     "text": [
      "y_pred: 0 = 68753 | 1 = 74921\n",
      "y_true: 0 = 71837 | 1 = 71837\n",
      "auc=0.9801|sensitivity=0.9510|specificity=0.9081|acc=0.9295|mcc=0.8599\n",
      "precision=0.9119|recall=0.9510|f1=0.9310|aupr=0.9789\n",
      "-----Optimization Finished!-----\n",
      "-----Evaluate Results-----\n",
      "*****Path saver:  ./model/pHLAIformer/no_positional_embedding__model_layer1_multihead9_fold1.pkl\n"
     ]
    },
    {
     "name": "stderr",
     "output_type": "stream",
     "text": [
      "100%|██████████| 562/562 [00:16<00:00, 33.50it/s]\n"
     ]
    },
    {
     "name": "stdout",
     "output_type": "stream",
     "text": [
      "Fold-1 ****Test  Epoch-36/50: Loss = 0.294635\n"
     ]
    },
    {
     "name": "stderr",
     "output_type": "stream",
     "text": [
      "\r",
      "  0%|          | 0/141 [00:00<?, ?it/s]"
     ]
    },
    {
     "name": "stdout",
     "output_type": "stream",
     "text": [
      "tn = 271030, fp = 16299, fn = 18907, tp = 268422\n",
      "y_pred: 0 = 289937 | 1 = 284721\n",
      "y_true: 0 = 287329 | 1 = 287329\n",
      "auc=0.9848|sensitivity=0.9342|specificity=0.9433|acc=0.9387|mcc=0.8775\n",
      "precision=0.9428|recall=0.9342|f1=0.9385|aupr=0.9846\n"
     ]
    },
    {
     "name": "stderr",
     "output_type": "stream",
     "text": [
      "100%|██████████| 141/141 [00:04<00:00, 33.18it/s]\n"
     ]
    },
    {
     "name": "stdout",
     "output_type": "stream",
     "text": [
      "Fold-1 ****Test  Epoch-36/50: Loss = 0.359564\n"
     ]
    },
    {
     "name": "stderr",
     "output_type": "stream",
     "text": [
      "  2%|▏         | 4/168 [00:00<00:04, 32.97it/s]"
     ]
    },
    {
     "name": "stdout",
     "output_type": "stream",
     "text": [
      "tn = 66716, fp = 5121, fn = 4672, tp = 67165\n",
      "y_pred: 0 = 71388 | 1 = 72286\n",
      "y_true: 0 = 71837 | 1 = 71837\n",
      "auc=0.9803|sensitivity=0.9350|specificity=0.9287|acc=0.9318|mcc=0.8637\n",
      "precision=0.9292|recall=0.9350|f1=0.9321|aupr=0.9786\n"
     ]
    },
    {
     "name": "stderr",
     "output_type": "stream",
     "text": [
      "100%|██████████| 168/168 [00:05<00:00, 32.64it/s]\n"
     ]
    },
    {
     "name": "stdout",
     "output_type": "stream",
     "text": [
      "Fold-1 ****Test  Epoch-36/50: Loss = 0.415621\n"
     ]
    },
    {
     "name": "stderr",
     "output_type": "stream",
     "text": [
      "  4%|▍         | 4/102 [00:00<00:02, 33.50it/s]"
     ]
    },
    {
     "name": "stdout",
     "output_type": "stream",
     "text": [
      "tn = 79670, fp = 5892, fn = 6330, tp = 79546\n",
      "y_pred: 0 = 86000 | 1 = 85438\n",
      "y_true: 0 = 85562 | 1 = 85876\n",
      "auc=0.9777|sensitivity=0.9263|specificity=0.9311|acc=0.9287|mcc=0.8574\n",
      "precision=0.9310|recall=0.9263|f1=0.9287|aupr=0.9769\n"
     ]
    },
    {
     "name": "stderr",
     "output_type": "stream",
     "text": [
      "100%|██████████| 102/102 [00:03<00:00, 33.66it/s]\n"
     ]
    },
    {
     "name": "stdout",
     "output_type": "stream",
     "text": [
      "Fold-1 ****Test  Epoch-36/50: Loss = 0.913766\n",
      "tn = 48932, fp = 2949, fn = 9810, tp = 42174\n",
      "y_pred: 0 = 58742 | 1 = 45123\n",
      "y_true: 0 = 51881 | 1 = 51984\n",
      "auc=0.9484|sensitivity=0.8113|specificity=0.9432|acc=0.8772|mcc=0.7610\n",
      "precision=0.9346|recall=0.8113|f1=0.8686|aupr=0.9518\n",
      "Total training time: 503.73 sec\n",
      "=====Fold-2=====\n",
      "-----Generate data loader-----\n"
     ]
    },
    {
     "name": "stderr",
     "output_type": "stream",
     "text": [
      "  0%|          | 2/562 [00:00<00:47, 11.69it/s]"
     ]
    },
    {
     "name": "stdout",
     "output_type": "stream",
     "text": [
      "Fold-2 Label info: Train = Counter({1: 287329, 0: 287329}) | Val = Counter({1: 71837, 0: 71837})\n",
      "-----Compile model-----\n",
      "-----Train-----\n",
      "dir_saver:  ./model/pHLAIformer/\n",
      "path_saver:  ./model/pHLAIformer/no_positional_embedding__model_layer1_multihead9_fold2.pkl\n"
     ]
    },
    {
     "name": "stderr",
     "output_type": "stream",
     "text": [
      "100%|██████████| 562/562 [00:44<00:00, 12.53it/s]\n"
     ]
    },
    {
     "name": "stdout",
     "output_type": "stream",
     "text": [
      "Fold-2****Train (Ep avg): Epoch-1/50 | Loss = 0.2697 | Time = 10.0332 sec\n",
      "tn = 253091, fp = 34238, fn = 29789, tp = 257540\n",
      "y_pred: 0 = 282880 | 1 = 291778\n",
      "y_true: 0 = 287329 | 1 = 287329\n",
      "auc=0.9558|sensitivity=0.8963|specificity=0.8808|acc=0.8886|mcc=0.7773\n",
      "precision=0.8827|recall=0.8963|f1=0.8894|aupr=0.9539\n"
     ]
    },
    {
     "name": "stderr",
     "output_type": "stream",
     "text": [
      "100%|██████████| 141/141 [00:04<00:00, 32.67it/s]\n"
     ]
    },
    {
     "name": "stdout",
     "output_type": "stream",
     "text": [
      "Fold-2 ****Test  Epoch-1/50: Loss = 0.238947\n"
     ]
    },
    {
     "name": "stderr",
     "output_type": "stream",
     "text": [
      "\r",
      "  0%|          | 0/562 [00:00<?, ?it/s]"
     ]
    },
    {
     "name": "stdout",
     "output_type": "stream",
     "text": [
      "tn = 62880, fp = 8957, fn = 4739, tp = 67098\n",
      "y_pred: 0 = 67619 | 1 = 76055\n",
      "y_true: 0 = 71837 | 1 = 71837\n",
      "auc=0.9682|sensitivity=0.9340|specificity=0.8753|acc=0.9047|mcc=0.8107\n",
      "precision=0.8822|recall=0.9340|f1=0.9074|aupr=0.9673\n",
      "****Saving model: Best epoch = 1 | 5metrics_Best_avg = 0.8977\n",
      "*****Path saver:  ./model/pHLAIformer/no_positional_embedding__model_layer1_multihead9_fold2.pkl\n"
     ]
    },
    {
     "name": "stderr",
     "output_type": "stream",
     "text": [
      "100%|██████████| 562/562 [00:46<00:00, 12.18it/s]\n"
     ]
    },
    {
     "name": "stdout",
     "output_type": "stream",
     "text": [
      "Fold-2****Train (Ep avg): Epoch-2/50 | Loss = 0.2130 | Time = 10.0633 sec\n"
     ]
    },
    {
     "name": "stderr",
     "output_type": "stream",
     "text": [
      "\r",
      "  0%|          | 0/141 [00:00<?, ?it/s]"
     ]
    },
    {
     "name": "stdout",
     "output_type": "stream",
     "text": [
      "tn = 262328, fp = 25001, fn = 23086, tp = 264243\n",
      "y_pred: 0 = 285414 | 1 = 289244\n",
      "y_true: 0 = 287329 | 1 = 287329\n",
      "auc=0.9721|sensitivity=0.9197|specificity=0.9130|acc=0.9163|mcc=0.8327\n",
      "precision=0.9136|recall=0.9197|f1=0.9166|aupr=0.9711\n"
     ]
    },
    {
     "name": "stderr",
     "output_type": "stream",
     "text": [
      "100%|██████████| 141/141 [00:04<00:00, 33.10it/s]\n"
     ]
    },
    {
     "name": "stdout",
     "output_type": "stream",
     "text": [
      "Fold-2 ****Test  Epoch-2/50: Loss = 0.220930\n"
     ]
    },
    {
     "name": "stderr",
     "output_type": "stream",
     "text": [
      "\r",
      "  0%|          | 0/562 [00:00<?, ?it/s]"
     ]
    },
    {
     "name": "stdout",
     "output_type": "stream",
     "text": [
      "tn = 63616, fp = 8221, fn = 4317, tp = 67520\n",
      "y_pred: 0 = 67933 | 1 = 75741\n",
      "y_true: 0 = 71837 | 1 = 71837\n",
      "auc=0.9728|sensitivity=0.9399|specificity=0.8856|acc=0.9127|mcc=0.8267\n",
      "precision=0.8915|recall=0.9399|f1=0.9150|aupr=0.9719\n",
      "****Saving model: Best epoch = 2 | 5metrics_Best_avg = 0.9068\n",
      "*****Path saver:  ./model/pHLAIformer/no_positional_embedding__model_layer1_multihead9_fold2.pkl\n"
     ]
    },
    {
     "name": "stderr",
     "output_type": "stream",
     "text": [
      "100%|██████████| 562/562 [00:46<00:00, 12.19it/s]\n"
     ]
    },
    {
     "name": "stdout",
     "output_type": "stream",
     "text": [
      "Fold-2****Train (Ep avg): Epoch-3/50 | Loss = 0.1953 | Time = 10.0661 sec\n"
     ]
    },
    {
     "name": "stderr",
     "output_type": "stream",
     "text": [
      "\r",
      "  0%|          | 0/141 [00:00<?, ?it/s]"
     ]
    },
    {
     "name": "stdout",
     "output_type": "stream",
     "text": [
      "tn = 264857, fp = 22472, fn = 21368, tp = 265961\n",
      "y_pred: 0 = 286225 | 1 = 288433\n",
      "y_true: 0 = 287329 | 1 = 287329\n",
      "auc=0.9764|sensitivity=0.9256|specificity=0.9218|acc=0.9237|mcc=0.8474\n",
      "precision=0.9221|recall=0.9256|f1=0.9239|aupr=0.9758\n"
     ]
    },
    {
     "name": "stderr",
     "output_type": "stream",
     "text": [
      "100%|██████████| 141/141 [00:04<00:00, 33.05it/s]\n"
     ]
    },
    {
     "name": "stdout",
     "output_type": "stream",
     "text": [
      "Fold-2 ****Test  Epoch-3/50: Loss = 0.217286\n"
     ]
    },
    {
     "name": "stderr",
     "output_type": "stream",
     "text": [
      "\r",
      "  0%|          | 0/562 [00:00<?, ?it/s]"
     ]
    },
    {
     "name": "stdout",
     "output_type": "stream",
     "text": [
      "tn = 63570, fp = 8267, fn = 3996, tp = 67841\n",
      "y_pred: 0 = 67566 | 1 = 76108\n",
      "y_true: 0 = 71837 | 1 = 71837\n",
      "auc=0.9745|sensitivity=0.9444|specificity=0.8849|acc=0.9146|mcc=0.8308\n",
      "precision=0.8914|recall=0.9444|f1=0.9171|aupr=0.9738\n",
      "****Saving model: Best epoch = 3 | 5metrics_Best_avg = 0.9093\n",
      "*****Path saver:  ./model/pHLAIformer/no_positional_embedding__model_layer1_multihead9_fold2.pkl\n"
     ]
    },
    {
     "name": "stderr",
     "output_type": "stream",
     "text": [
      "100%|██████████| 562/562 [00:46<00:00, 12.13it/s]\n"
     ]
    },
    {
     "name": "stdout",
     "output_type": "stream",
     "text": [
      "Fold-2****Train (Ep avg): Epoch-4/50 | Loss = 0.1829 | Time = 10.0914 sec\n",
      "tn = 266541, fp = 20788, fn = 20072, tp = 267257\n",
      "y_pred: 0 = 286613 | 1 = 288045\n",
      "y_true: 0 = 287329 | 1 = 287329\n",
      "auc=0.9793|sensitivity=0.9301|specificity=0.9277|acc=0.9289|mcc=0.8578\n",
      "precision=0.9278|recall=0.9301|f1=0.9290|aupr=0.9788\n"
     ]
    },
    {
     "name": "stderr",
     "output_type": "stream",
     "text": [
      "100%|██████████| 141/141 [00:04<00:00, 33.68it/s]\n"
     ]
    },
    {
     "name": "stdout",
     "output_type": "stream",
     "text": [
      "Fold-2 ****Test  Epoch-4/50: Loss = 0.206153\n"
     ]
    },
    {
     "name": "stderr",
     "output_type": "stream",
     "text": [
      "\r",
      "  0%|          | 0/562 [00:00<?, ?it/s]"
     ]
    },
    {
     "name": "stdout",
     "output_type": "stream",
     "text": [
      "tn = 64343, fp = 7494, fn = 4105, tp = 67732\n",
      "y_pred: 0 = 68448 | 1 = 75226\n",
      "y_true: 0 = 71837 | 1 = 71837\n",
      "auc=0.9758|sensitivity=0.9429|specificity=0.8957|acc=0.9193|mcc=0.8395\n",
      "precision=0.9004|recall=0.9429|f1=0.9211|aupr=0.9750\n",
      "****Saving model: Best epoch = 4 | 5metrics_Best_avg = 0.9139\n",
      "*****Path saver:  ./model/pHLAIformer/no_positional_embedding__model_layer1_multihead9_fold2.pkl\n"
     ]
    },
    {
     "name": "stderr",
     "output_type": "stream",
     "text": [
      "100%|██████████| 562/562 [00:46<00:00, 12.09it/s]\n"
     ]
    },
    {
     "name": "stdout",
     "output_type": "stream",
     "text": [
      "Fold-2****Train (Ep avg): Epoch-5/50 | Loss = 0.1715 | Time = 10.0955 sec\n"
     ]
    },
    {
     "name": "stderr",
     "output_type": "stream",
     "text": [
      "\r",
      "  0%|          | 0/141 [00:00<?, ?it/s]"
     ]
    },
    {
     "name": "stdout",
     "output_type": "stream",
     "text": [
      "tn = 267968, fp = 19361, fn = 18878, tp = 268451\n",
      "y_pred: 0 = 286846 | 1 = 287812\n",
      "y_true: 0 = 287329 | 1 = 287329\n",
      "auc=0.9818|sensitivity=0.9343|specificity=0.9326|acc=0.9335|mcc=0.8669\n",
      "precision=0.9327|recall=0.9343|f1=0.9335|aupr=0.9815\n"
     ]
    },
    {
     "name": "stderr",
     "output_type": "stream",
     "text": [
      "100%|██████████| 141/141 [00:04<00:00, 32.60it/s]\n"
     ]
    },
    {
     "name": "stdout",
     "output_type": "stream",
     "text": [
      "Fold-2 ****Test  Epoch-5/50: Loss = 0.199983\n"
     ]
    },
    {
     "name": "stderr",
     "output_type": "stream",
     "text": [
      "\r",
      "  0%|          | 0/562 [00:00<?, ?it/s]"
     ]
    },
    {
     "name": "stdout",
     "output_type": "stream",
     "text": [
      "tn = 65265, fp = 6572, fn = 4544, tp = 67293\n",
      "y_pred: 0 = 69809 | 1 = 73865\n",
      "y_true: 0 = 71837 | 1 = 71837\n",
      "auc=0.9766|sensitivity=0.9367|specificity=0.9085|acc=0.9226|mcc=0.8456\n",
      "precision=0.9110|recall=0.9367|f1=0.9237|aupr=0.9758\n",
      "****Saving model: Best epoch = 5 | 5metrics_Best_avg = 0.9171\n",
      "*****Path saver:  ./model/pHLAIformer/no_positional_embedding__model_layer1_multihead9_fold2.pkl\n"
     ]
    },
    {
     "name": "stderr",
     "output_type": "stream",
     "text": [
      "100%|██████████| 562/562 [00:46<00:00, 12.13it/s]\n"
     ]
    },
    {
     "name": "stdout",
     "output_type": "stream",
     "text": [
      "Fold-2****Train (Ep avg): Epoch-6/50 | Loss = 0.1606 | Time = 10.1033 sec\n"
     ]
    },
    {
     "name": "stderr",
     "output_type": "stream",
     "text": [
      "\r",
      "  0%|          | 0/141 [00:00<?, ?it/s]"
     ]
    },
    {
     "name": "stdout",
     "output_type": "stream",
     "text": [
      "tn = 269208, fp = 18121, fn = 17722, tp = 269607\n",
      "y_pred: 0 = 286930 | 1 = 287728\n",
      "y_true: 0 = 287329 | 1 = 287329\n",
      "auc=0.9840|sensitivity=0.9383|specificity=0.9369|acc=0.9376|mcc=0.8753\n",
      "precision=0.9370|recall=0.9383|f1=0.9377|aupr=0.9839\n"
     ]
    },
    {
     "name": "stderr",
     "output_type": "stream",
     "text": [
      "100%|██████████| 141/141 [00:04<00:00, 32.87it/s]\n"
     ]
    },
    {
     "name": "stdout",
     "output_type": "stream",
     "text": [
      "Fold-2 ****Test  Epoch-6/50: Loss = 0.207436\n"
     ]
    },
    {
     "name": "stderr",
     "output_type": "stream",
     "text": [
      "\r",
      "  0%|          | 0/562 [00:00<?, ?it/s]"
     ]
    },
    {
     "name": "stdout",
     "output_type": "stream",
     "text": [
      "tn = 64896, fp = 6941, fn = 4466, tp = 67371\n",
      "y_pred: 0 = 69362 | 1 = 74312\n",
      "y_true: 0 = 71837 | 1 = 71837\n",
      "auc=0.9759|sensitivity=0.9378|specificity=0.9034|acc=0.9206|mcc=0.8417\n",
      "precision=0.9066|recall=0.9378|f1=0.9219|aupr=0.9747\n"
     ]
    },
    {
     "name": "stderr",
     "output_type": "stream",
     "text": [
      "100%|██████████| 562/562 [00:46<00:00, 12.15it/s]\n"
     ]
    },
    {
     "name": "stdout",
     "output_type": "stream",
     "text": [
      "Fold-2****Train (Ep avg): Epoch-7/50 | Loss = 0.1500 | Time = 10.0919 sec\n"
     ]
    },
    {
     "name": "stderr",
     "output_type": "stream",
     "text": [
      "\r",
      "  0%|          | 0/141 [00:00<?, ?it/s]"
     ]
    },
    {
     "name": "stdout",
     "output_type": "stream",
     "text": [
      "tn = 270416, fp = 16913, fn = 16529, tp = 270800\n",
      "y_pred: 0 = 286945 | 1 = 287713\n",
      "y_true: 0 = 287329 | 1 = 287329\n",
      "auc=0.9861|sensitivity=0.9425|specificity=0.9411|acc=0.9418|mcc=0.8836\n",
      "precision=0.9412|recall=0.9425|f1=0.9418|aupr=0.9861\n"
     ]
    },
    {
     "name": "stderr",
     "output_type": "stream",
     "text": [
      "100%|██████████| 141/141 [00:04<00:00, 32.91it/s]\n"
     ]
    },
    {
     "name": "stdout",
     "output_type": "stream",
     "text": [
      "Fold-2 ****Test  Epoch-7/50: Loss = 0.207314\n"
     ]
    },
    {
     "name": "stderr",
     "output_type": "stream",
     "text": [
      "\r",
      "  0%|          | 0/562 [00:00<?, ?it/s]"
     ]
    },
    {
     "name": "stdout",
     "output_type": "stream",
     "text": [
      "tn = 65232, fp = 6605, fn = 4494, tp = 67343\n",
      "y_pred: 0 = 69726 | 1 = 73948\n",
      "y_true: 0 = 71837 | 1 = 71837\n",
      "auc=0.9767|sensitivity=0.9374|specificity=0.9081|acc=0.9227|mcc=0.8459\n",
      "precision=0.9107|recall=0.9374|f1=0.9239|aupr=0.9753\n",
      "****Saving model: Best epoch = 7 | 5metrics_Best_avg = 0.9173\n",
      "*****Path saver:  ./model/pHLAIformer/no_positional_embedding__model_layer1_multihead9_fold2.pkl\n"
     ]
    },
    {
     "name": "stderr",
     "output_type": "stream",
     "text": [
      "100%|██████████| 562/562 [00:46<00:00, 12.15it/s]\n"
     ]
    },
    {
     "name": "stdout",
     "output_type": "stream",
     "text": [
      "Fold-2****Train (Ep avg): Epoch-8/50 | Loss = 0.1403 | Time = 10.0786 sec\n"
     ]
    },
    {
     "name": "stderr",
     "output_type": "stream",
     "text": [
      "\r",
      "  0%|          | 0/141 [00:00<?, ?it/s]"
     ]
    },
    {
     "name": "stdout",
     "output_type": "stream",
     "text": [
      "tn = 271597, fp = 15732, fn = 15488, tp = 271841\n",
      "y_pred: 0 = 287085 | 1 = 287573\n",
      "y_true: 0 = 287329 | 1 = 287329\n",
      "auc=0.9878|sensitivity=0.9461|specificity=0.9452|acc=0.9457|mcc=0.8913\n",
      "precision=0.9453|recall=0.9461|f1=0.9457|aupr=0.9879\n"
     ]
    },
    {
     "name": "stderr",
     "output_type": "stream",
     "text": [
      "100%|██████████| 141/141 [00:04<00:00, 32.62it/s]\n"
     ]
    },
    {
     "name": "stdout",
     "output_type": "stream",
     "text": [
      "Fold-2 ****Test  Epoch-8/50: Loss = 0.222668\n"
     ]
    },
    {
     "name": "stderr",
     "output_type": "stream",
     "text": [
      "\r",
      "  0%|          | 0/562 [00:00<?, ?it/s]"
     ]
    },
    {
     "name": "stdout",
     "output_type": "stream",
     "text": [
      "tn = 64593, fp = 7244, fn = 4112, tp = 67725\n",
      "y_pred: 0 = 68705 | 1 = 74969\n",
      "y_true: 0 = 71837 | 1 = 71837\n",
      "auc=0.9761|sensitivity=0.9428|specificity=0.8992|acc=0.9210|mcc=0.8427\n",
      "precision=0.9034|recall=0.9428|f1=0.9226|aupr=0.9745\n"
     ]
    },
    {
     "name": "stderr",
     "output_type": "stream",
     "text": [
      "100%|██████████| 562/562 [00:46<00:00, 12.10it/s]\n"
     ]
    },
    {
     "name": "stdout",
     "output_type": "stream",
     "text": [
      "Fold-2****Train (Ep avg): Epoch-9/50 | Loss = 0.1313 | Time = 10.0879 sec\n"
     ]
    },
    {
     "name": "stderr",
     "output_type": "stream",
     "text": [
      "\r",
      "  0%|          | 0/141 [00:00<?, ?it/s]"
     ]
    },
    {
     "name": "stdout",
     "output_type": "stream",
     "text": [
      "tn = 272600, fp = 14729, fn = 14646, tp = 272683\n",
      "y_pred: 0 = 287246 | 1 = 287412\n",
      "y_true: 0 = 287329 | 1 = 287329\n",
      "auc=0.9893|sensitivity=0.9490|specificity=0.9487|acc=0.9489|mcc=0.8978\n",
      "precision=0.9488|recall=0.9490|f1=0.9489|aupr=0.9894\n"
     ]
    },
    {
     "name": "stderr",
     "output_type": "stream",
     "text": [
      "100%|██████████| 141/141 [00:04<00:00, 32.61it/s]\n"
     ]
    },
    {
     "name": "stdout",
     "output_type": "stream",
     "text": [
      "Fold-2 ****Test  Epoch-9/50: Loss = 0.233058\n"
     ]
    },
    {
     "name": "stderr",
     "output_type": "stream",
     "text": [
      "\r",
      "  0%|          | 0/562 [00:00<?, ?it/s]"
     ]
    },
    {
     "name": "stdout",
     "output_type": "stream",
     "text": [
      "tn = 64366, fp = 7471, fn = 3860, tp = 67977\n",
      "y_pred: 0 = 68226 | 1 = 75448\n",
      "y_true: 0 = 71837 | 1 = 71837\n",
      "auc=0.9764|sensitivity=0.9463|specificity=0.8960|acc=0.9211|mcc=0.8433\n",
      "precision=0.9010|recall=0.9463|f1=0.9231|aupr=0.9747\n"
     ]
    },
    {
     "name": "stderr",
     "output_type": "stream",
     "text": [
      "100%|██████████| 562/562 [00:46<00:00, 12.17it/s]\n"
     ]
    },
    {
     "name": "stdout",
     "output_type": "stream",
     "text": [
      "Fold-2****Train (Ep avg): Epoch-10/50 | Loss = 0.1230 | Time = 10.0695 sec\n",
      "tn = 273570, fp = 13759, fn = 13792, tp = 273537\n",
      "y_pred: 0 = 287362 | 1 = 287296\n",
      "y_true: 0 = 287329 | 1 = 287329\n",
      "auc=0.9906|sensitivity=0.9520|specificity=0.9521|acc=0.9521|mcc=0.9041\n",
      "precision=0.9521|recall=0.9520|f1=0.9521|aupr=0.9908\n"
     ]
    },
    {
     "name": "stderr",
     "output_type": "stream",
     "text": [
      "100%|██████████| 141/141 [00:04<00:00, 32.99it/s]\n"
     ]
    },
    {
     "name": "stdout",
     "output_type": "stream",
     "text": [
      "Fold-2 ****Test  Epoch-10/50: Loss = 0.236982\n"
     ]
    },
    {
     "name": "stderr",
     "output_type": "stream",
     "text": [
      "\r",
      "  0%|          | 0/562 [00:00<?, ?it/s]"
     ]
    },
    {
     "name": "stdout",
     "output_type": "stream",
     "text": [
      "tn = 64812, fp = 7025, fn = 4127, tp = 67710\n",
      "y_pred: 0 = 68939 | 1 = 74735\n",
      "y_true: 0 = 71837 | 1 = 71837\n",
      "auc=0.9765|sensitivity=0.9426|specificity=0.9022|acc=0.9224|mcc=0.8454\n",
      "precision=0.9060|recall=0.9426|f1=0.9239|aupr=0.9747\n"
     ]
    },
    {
     "name": "stderr",
     "output_type": "stream",
     "text": [
      "100%|██████████| 562/562 [00:46<00:00, 12.11it/s]\n"
     ]
    },
    {
     "name": "stdout",
     "output_type": "stream",
     "text": [
      "Fold-2****Train (Ep avg): Epoch-11/50 | Loss = 0.1153 | Time = 10.0885 sec\n"
     ]
    },
    {
     "name": "stderr",
     "output_type": "stream",
     "text": [
      "\r",
      "  0%|          | 0/141 [00:00<?, ?it/s]"
     ]
    },
    {
     "name": "stdout",
     "output_type": "stream",
     "text": [
      "tn = 274346, fp = 12983, fn = 12954, tp = 274375\n",
      "y_pred: 0 = 287300 | 1 = 287358\n",
      "y_true: 0 = 287329 | 1 = 287329\n",
      "auc=0.9918|sensitivity=0.9549|specificity=0.9548|acc=0.9549|mcc=0.9097\n",
      "precision=0.9548|recall=0.9549|f1=0.9549|aupr=0.9919\n"
     ]
    },
    {
     "name": "stderr",
     "output_type": "stream",
     "text": [
      "100%|██████████| 141/141 [00:04<00:00, 33.81it/s]\n"
     ]
    },
    {
     "name": "stdout",
     "output_type": "stream",
     "text": [
      "Fold-2 ****Test  Epoch-11/50: Loss = 0.247576\n"
     ]
    },
    {
     "name": "stderr",
     "output_type": "stream",
     "text": [
      "\r",
      "  0%|          | 0/562 [00:00<?, ?it/s]"
     ]
    },
    {
     "name": "stdout",
     "output_type": "stream",
     "text": [
      "tn = 64391, fp = 7446, fn = 3741, tp = 68096\n",
      "y_pred: 0 = 68132 | 1 = 75542\n",
      "y_true: 0 = 71837 | 1 = 71837\n",
      "auc=0.9770|sensitivity=0.9479|specificity=0.8963|acc=0.9221|mcc=0.8454\n",
      "precision=0.9014|recall=0.9479|f1=0.9241|aupr=0.9753\n"
     ]
    },
    {
     "name": "stderr",
     "output_type": "stream",
     "text": [
      "100%|██████████| 562/562 [00:46<00:00, 12.16it/s]\n"
     ]
    },
    {
     "name": "stdout",
     "output_type": "stream",
     "text": [
      "Fold-2****Train (Ep avg): Epoch-12/50 | Loss = 0.1081 | Time = 10.0933 sec\n"
     ]
    },
    {
     "name": "stderr",
     "output_type": "stream",
     "text": [
      "\r",
      "  0%|          | 0/141 [00:00<?, ?it/s]"
     ]
    },
    {
     "name": "stdout",
     "output_type": "stream",
     "text": [
      "tn = 275159, fp = 12170, fn = 12261, tp = 275068\n",
      "y_pred: 0 = 287420 | 1 = 287238\n",
      "y_true: 0 = 287329 | 1 = 287329\n",
      "auc=0.9928|sensitivity=0.9573|specificity=0.9576|acc=0.9575|mcc=0.9150\n",
      "precision=0.9576|recall=0.9573|f1=0.9575|aupr=0.9929\n"
     ]
    },
    {
     "name": "stderr",
     "output_type": "stream",
     "text": [
      "100%|██████████| 141/141 [00:04<00:00, 32.88it/s]\n"
     ]
    },
    {
     "name": "stdout",
     "output_type": "stream",
     "text": [
      "Fold-2 ****Test  Epoch-12/50: Loss = 0.273732\n"
     ]
    },
    {
     "name": "stderr",
     "output_type": "stream",
     "text": [
      "\r",
      "  0%|          | 0/562 [00:00<?, ?it/s]"
     ]
    },
    {
     "name": "stdout",
     "output_type": "stream",
     "text": [
      "tn = 64026, fp = 7811, fn = 3748, tp = 68089\n",
      "y_pred: 0 = 67774 | 1 = 75900\n",
      "y_true: 0 = 71837 | 1 = 71837\n",
      "auc=0.9762|sensitivity=0.9478|specificity=0.8913|acc=0.9195|mcc=0.8404\n",
      "precision=0.8971|recall=0.9478|f1=0.9218|aupr=0.9745\n"
     ]
    },
    {
     "name": "stderr",
     "output_type": "stream",
     "text": [
      "100%|██████████| 562/562 [00:46<00:00, 12.19it/s]\n"
     ]
    },
    {
     "name": "stdout",
     "output_type": "stream",
     "text": [
      "Fold-2****Train (Ep avg): Epoch-13/50 | Loss = 0.1015 | Time = 10.0661 sec\n",
      "tn = 275822, fp = 11507, fn = 11508, tp = 275821\n",
      "y_pred: 0 = 287330 | 1 = 287328\n",
      "y_true: 0 = 287329 | 1 = 287329\n",
      "auc=0.9936|sensitivity=0.9599|specificity=0.9600|acc=0.9600|mcc=0.9199\n",
      "precision=0.9600|recall=0.9599|f1=0.9600|aupr=0.9938\n"
     ]
    },
    {
     "name": "stderr",
     "output_type": "stream",
     "text": [
      "100%|██████████| 141/141 [00:04<00:00, 32.97it/s]\n"
     ]
    },
    {
     "name": "stdout",
     "output_type": "stream",
     "text": [
      "Fold-2 ****Test  Epoch-13/50: Loss = 0.259657\n"
     ]
    },
    {
     "name": "stderr",
     "output_type": "stream",
     "text": [
      "\r",
      "  0%|          | 0/562 [00:00<?, ?it/s]"
     ]
    },
    {
     "name": "stdout",
     "output_type": "stream",
     "text": [
      "tn = 64975, fp = 6862, fn = 4339, tp = 67498\n",
      "y_pred: 0 = 69314 | 1 = 74360\n",
      "y_true: 0 = 71837 | 1 = 71837\n",
      "auc=0.9763|sensitivity=0.9396|specificity=0.9045|acc=0.9220|mcc=0.8446\n",
      "precision=0.9077|recall=0.9396|f1=0.9234|aupr=0.9747\n"
     ]
    },
    {
     "name": "stderr",
     "output_type": "stream",
     "text": [
      "100%|██████████| 562/562 [00:46<00:00, 12.16it/s]\n"
     ]
    },
    {
     "name": "stdout",
     "output_type": "stream",
     "text": [
      "Fold-2****Train (Ep avg): Epoch-14/50 | Loss = 0.0964 | Time = 10.1147 sec\n"
     ]
    },
    {
     "name": "stderr",
     "output_type": "stream",
     "text": [
      "\r",
      "  0%|          | 0/141 [00:00<?, ?it/s]"
     ]
    },
    {
     "name": "stdout",
     "output_type": "stream",
     "text": [
      "tn = 276389, fp = 10940, fn = 11008, tp = 276321\n",
      "y_pred: 0 = 287397 | 1 = 287261\n",
      "y_true: 0 = 287329 | 1 = 287329\n",
      "auc=0.9943|sensitivity=0.9617|specificity=0.9619|acc=0.9618|mcc=0.9236\n",
      "precision=0.9619|recall=0.9617|f1=0.9618|aupr=0.9944\n"
     ]
    },
    {
     "name": "stderr",
     "output_type": "stream",
     "text": [
      "100%|██████████| 141/141 [00:04<00:00, 33.24it/s]\n"
     ]
    },
    {
     "name": "stdout",
     "output_type": "stream",
     "text": [
      "Fold-2 ****Test  Epoch-14/50: Loss = 0.274267\n"
     ]
    },
    {
     "name": "stderr",
     "output_type": "stream",
     "text": [
      "  0%|          | 2/562 [00:00<00:44, 12.47it/s]"
     ]
    },
    {
     "name": "stdout",
     "output_type": "stream",
     "text": [
      "tn = 64058, fp = 7779, fn = 3534, tp = 68303\n",
      "y_pred: 0 = 67592 | 1 = 76082\n",
      "y_true: 0 = 71837 | 1 = 71837\n",
      "auc=0.9772|sensitivity=0.9508|specificity=0.8917|acc=0.9213|mcc=0.8440\n",
      "precision=0.8978|recall=0.9508|f1=0.9235|aupr=0.9756\n"
     ]
    },
    {
     "name": "stderr",
     "output_type": "stream",
     "text": [
      "100%|██████████| 562/562 [00:46<00:00, 12.18it/s]\n"
     ]
    },
    {
     "name": "stdout",
     "output_type": "stream",
     "text": [
      "Fold-2****Train (Ep avg): Epoch-15/50 | Loss = 0.0917 | Time = 10.1196 sec\n"
     ]
    },
    {
     "name": "stderr",
     "output_type": "stream",
     "text": [
      "\r",
      "  0%|          | 0/141 [00:00<?, ?it/s]"
     ]
    },
    {
     "name": "stdout",
     "output_type": "stream",
     "text": [
      "tn = 276869, fp = 10460, fn = 10555, tp = 276774\n",
      "y_pred: 0 = 287424 | 1 = 287234\n",
      "y_true: 0 = 287329 | 1 = 287329\n",
      "auc=0.9948|sensitivity=0.9633|specificity=0.9636|acc=0.9634|mcc=0.9269\n",
      "precision=0.9636|recall=0.9633|f1=0.9634|aupr=0.9949\n"
     ]
    },
    {
     "name": "stderr",
     "output_type": "stream",
     "text": [
      "100%|██████████| 141/141 [00:04<00:00, 32.68it/s]\n"
     ]
    },
    {
     "name": "stdout",
     "output_type": "stream",
     "text": [
      "Fold-2 ****Test  Epoch-15/50: Loss = 0.265864\n"
     ]
    },
    {
     "name": "stderr",
     "output_type": "stream",
     "text": [
      "\r",
      "  0%|          | 0/562 [00:00<?, ?it/s]"
     ]
    },
    {
     "name": "stdout",
     "output_type": "stream",
     "text": [
      "tn = 64931, fp = 6906, fn = 4277, tp = 67560\n",
      "y_pred: 0 = 69208 | 1 = 74466\n",
      "y_true: 0 = 71837 | 1 = 71837\n",
      "auc=0.9764|sensitivity=0.9405|specificity=0.9039|acc=0.9222|mcc=0.8449\n",
      "precision=0.9073|recall=0.9405|f1=0.9236|aupr=0.9744\n"
     ]
    },
    {
     "name": "stderr",
     "output_type": "stream",
     "text": [
      "100%|██████████| 562/562 [00:46<00:00, 12.15it/s]\n"
     ]
    },
    {
     "name": "stdout",
     "output_type": "stream",
     "text": [
      "Fold-2****Train (Ep avg): Epoch-16/50 | Loss = 0.0870 | Time = 10.0953 sec\n",
      "tn = 277390, fp = 9939, fn = 10014, tp = 277315\n",
      "y_pred: 0 = 287404 | 1 = 287254\n",
      "y_true: 0 = 287329 | 1 = 287329\n",
      "auc=0.9953|sensitivity=0.9651|specificity=0.9654|acc=0.9653|mcc=0.9306\n",
      "precision=0.9654|recall=0.9651|f1=0.9653|aupr=0.9954\n"
     ]
    },
    {
     "name": "stderr",
     "output_type": "stream",
     "text": [
      "100%|██████████| 141/141 [00:04<00:00, 33.55it/s]\n"
     ]
    },
    {
     "name": "stdout",
     "output_type": "stream",
     "text": [
      "Fold-2 ****Test  Epoch-16/50: Loss = 0.274761\n"
     ]
    },
    {
     "name": "stderr",
     "output_type": "stream",
     "text": [
      "\r",
      "  0%|          | 0/562 [00:00<?, ?it/s]"
     ]
    },
    {
     "name": "stdout",
     "output_type": "stream",
     "text": [
      "tn = 64664, fp = 7173, fn = 3934, tp = 67903\n",
      "y_pred: 0 = 68598 | 1 = 75076\n",
      "y_true: 0 = 71837 | 1 = 71837\n",
      "auc=0.9777|sensitivity=0.9452|specificity=0.9001|acc=0.9227|mcc=0.8462\n",
      "precision=0.9045|recall=0.9452|f1=0.9244|aupr=0.9761\n",
      "****Saving model: Best epoch = 16 | 5metrics_Best_avg = 0.9178\n",
      "*****Path saver:  ./model/pHLAIformer/no_positional_embedding__model_layer1_multihead9_fold2.pkl\n"
     ]
    },
    {
     "name": "stderr",
     "output_type": "stream",
     "text": [
      "100%|██████████| 562/562 [00:45<00:00, 12.23it/s]\n"
     ]
    },
    {
     "name": "stdout",
     "output_type": "stream",
     "text": [
      "Fold-2****Train (Ep avg): Epoch-17/50 | Loss = 0.0823 | Time = 10.0491 sec\n"
     ]
    },
    {
     "name": "stderr",
     "output_type": "stream",
     "text": [
      "\r",
      "  0%|          | 0/141 [00:00<?, ?it/s]"
     ]
    },
    {
     "name": "stdout",
     "output_type": "stream",
     "text": [
      "tn = 277897, fp = 9432, fn = 9496, tp = 277833\n",
      "y_pred: 0 = 287393 | 1 = 287265\n",
      "y_true: 0 = 287329 | 1 = 287329\n",
      "auc=0.9958|sensitivity=0.9670|specificity=0.9672|acc=0.9671|mcc=0.9341\n",
      "precision=0.9672|recall=0.9670|f1=0.9671|aupr=0.9959\n"
     ]
    },
    {
     "name": "stderr",
     "output_type": "stream",
     "text": [
      "100%|██████████| 141/141 [00:04<00:00, 32.81it/s]\n"
     ]
    },
    {
     "name": "stdout",
     "output_type": "stream",
     "text": [
      "Fold-2 ****Test  Epoch-17/50: Loss = 0.272343\n",
      "tn = 64683, fp = 7154, fn = 3829, tp = 68008\n"
     ]
    },
    {
     "name": "stderr",
     "output_type": "stream",
     "text": [
      "  0%|          | 2/562 [00:00<00:45, 12.29it/s]"
     ]
    },
    {
     "name": "stdout",
     "output_type": "stream",
     "text": [
      "y_pred: 0 = 68512 | 1 = 75162\n",
      "y_true: 0 = 71837 | 1 = 71837\n",
      "auc=0.9778|sensitivity=0.9467|specificity=0.9004|acc=0.9236|mcc=0.8480\n",
      "precision=0.9048|recall=0.9467|f1=0.9253|aupr=0.9761\n",
      "****Saving model: Best epoch = 17 | 5metrics_Best_avg = 0.9187\n",
      "*****Path saver:  ./model/pHLAIformer/no_positional_embedding__model_layer1_multihead9_fold2.pkl\n"
     ]
    },
    {
     "name": "stderr",
     "output_type": "stream",
     "text": [
      "100%|██████████| 562/562 [00:46<00:00, 12.11it/s]\n"
     ]
    },
    {
     "name": "stdout",
     "output_type": "stream",
     "text": [
      "Fold-2****Train (Ep avg): Epoch-18/50 | Loss = 0.0779 | Time = 10.0698 sec\n"
     ]
    },
    {
     "name": "stderr",
     "output_type": "stream",
     "text": [
      "\r",
      "  0%|          | 0/141 [00:00<?, ?it/s]"
     ]
    },
    {
     "name": "stdout",
     "output_type": "stream",
     "text": [
      "tn = 278301, fp = 9028, fn = 8956, tp = 278373\n",
      "y_pred: 0 = 287257 | 1 = 287401\n",
      "y_true: 0 = 287329 | 1 = 287329\n",
      "auc=0.9963|sensitivity=0.9688|specificity=0.9686|acc=0.9687|mcc=0.9374\n",
      "precision=0.9686|recall=0.9688|f1=0.9687|aupr=0.9963\n"
     ]
    },
    {
     "name": "stderr",
     "output_type": "stream",
     "text": [
      "100%|██████████| 141/141 [00:04<00:00, 33.90it/s]\n"
     ]
    },
    {
     "name": "stdout",
     "output_type": "stream",
     "text": [
      "Fold-2 ****Test  Epoch-18/50: Loss = 0.281593\n"
     ]
    },
    {
     "name": "stderr",
     "output_type": "stream",
     "text": [
      "\r",
      "  0%|          | 0/562 [00:00<?, ?it/s]"
     ]
    },
    {
     "name": "stdout",
     "output_type": "stream",
     "text": [
      "tn = 64687, fp = 7150, fn = 3951, tp = 67886\n",
      "y_pred: 0 = 68638 | 1 = 75036\n",
      "y_true: 0 = 71837 | 1 = 71837\n",
      "auc=0.9776|sensitivity=0.9450|specificity=0.9005|acc=0.9227|mcc=0.8463\n",
      "precision=0.9047|recall=0.9450|f1=0.9244|aupr=0.9759\n"
     ]
    },
    {
     "name": "stderr",
     "output_type": "stream",
     "text": [
      "100%|██████████| 562/562 [00:46<00:00, 12.14it/s]\n"
     ]
    },
    {
     "name": "stdout",
     "output_type": "stream",
     "text": [
      "Fold-2****Train (Ep avg): Epoch-19/50 | Loss = 0.0745 | Time = 10.0450 sec\n",
      "tn = 278695, fp = 8634, fn = 8543, tp = 278786\n",
      "y_pred: 0 = 287238 | 1 = 287420\n",
      "y_true: 0 = 287329 | 1 = 287329\n",
      "auc=0.9966|sensitivity=0.9703|specificity=0.9700|acc=0.9701|mcc=0.9402\n",
      "precision=0.9700|recall=0.9703|f1=0.9701|aupr=0.9967\n"
     ]
    },
    {
     "name": "stderr",
     "output_type": "stream",
     "text": [
      "100%|██████████| 141/141 [00:04<00:00, 33.66it/s]\n"
     ]
    },
    {
     "name": "stdout",
     "output_type": "stream",
     "text": [
      "Fold-2 ****Test  Epoch-19/50: Loss = 0.293813\n"
     ]
    },
    {
     "name": "stderr",
     "output_type": "stream",
     "text": [
      "\r",
      "  0%|          | 0/562 [00:00<?, ?it/s]"
     ]
    },
    {
     "name": "stdout",
     "output_type": "stream",
     "text": [
      "tn = 65069, fp = 6768, fn = 4140, tp = 67697\n",
      "y_pred: 0 = 69209 | 1 = 74465\n",
      "y_true: 0 = 71837 | 1 = 71837\n",
      "auc=0.9776|sensitivity=0.9424|specificity=0.9058|acc=0.9241|mcc=0.8487\n",
      "precision=0.9091|recall=0.9424|f1=0.9254|aupr=0.9758\n",
      "****Saving model: Best epoch = 19 | 5metrics_Best_avg = 0.9190\n",
      "*****Path saver:  ./model/pHLAIformer/no_positional_embedding__model_layer1_multihead9_fold2.pkl\n"
     ]
    },
    {
     "name": "stderr",
     "output_type": "stream",
     "text": [
      "100%|██████████| 562/562 [00:45<00:00, 12.46it/s]\n"
     ]
    },
    {
     "name": "stdout",
     "output_type": "stream",
     "text": [
      "Fold-2****Train (Ep avg): Epoch-20/50 | Loss = 0.0712 | Time = 10.0045 sec\n",
      "tn = 279153, fp = 8176, fn = 8232, tp = 279097\n",
      "y_pred: 0 = 287385 | 1 = 287273\n",
      "y_true: 0 = 287329 | 1 = 287329\n",
      "auc=0.9969|sensitivity=0.9713|specificity=0.9715|acc=0.9714|mcc=0.9429\n",
      "precision=0.9715|recall=0.9713|f1=0.9714|aupr=0.9969\n"
     ]
    },
    {
     "name": "stderr",
     "output_type": "stream",
     "text": [
      "100%|██████████| 141/141 [00:04<00:00, 33.21it/s]\n"
     ]
    },
    {
     "name": "stdout",
     "output_type": "stream",
     "text": [
      "Fold-2 ****Test  Epoch-20/50: Loss = 0.302626\n",
      "tn = 64311, fp = 7526, fn = 3417, tp = 68420\n"
     ]
    },
    {
     "name": "stderr",
     "output_type": "stream",
     "text": [
      "  0%|          | 2/562 [00:00<00:46, 12.04it/s]"
     ]
    },
    {
     "name": "stdout",
     "output_type": "stream",
     "text": [
      "y_pred: 0 = 67728 | 1 = 75946\n",
      "y_true: 0 = 71837 | 1 = 71837\n",
      "auc=0.9784|sensitivity=0.9524|specificity=0.8952|acc=0.9238|mcc=0.8491\n",
      "precision=0.9009|recall=0.9524|f1=0.9260|aupr=0.9766\n",
      "****Saving model: Best epoch = 20 | 5metrics_Best_avg = 0.9193\n",
      "*****Path saver:  ./model/pHLAIformer/no_positional_embedding__model_layer1_multihead9_fold2.pkl\n"
     ]
    },
    {
     "name": "stderr",
     "output_type": "stream",
     "text": [
      "100%|██████████| 562/562 [00:46<00:00, 12.18it/s]\n"
     ]
    },
    {
     "name": "stdout",
     "output_type": "stream",
     "text": [
      "Fold-2****Train (Ep avg): Epoch-21/50 | Loss = 0.0673 | Time = 10.0804 sec\n"
     ]
    },
    {
     "name": "stderr",
     "output_type": "stream",
     "text": [
      "\r",
      "  0%|          | 0/141 [00:00<?, ?it/s]"
     ]
    },
    {
     "name": "stdout",
     "output_type": "stream",
     "text": [
      "tn = 279556, fp = 7773, fn = 7700, tp = 279629\n",
      "y_pred: 0 = 287256 | 1 = 287402\n",
      "y_true: 0 = 287329 | 1 = 287329\n",
      "auc=0.9972|sensitivity=0.9732|specificity=0.9729|acc=0.9731|mcc=0.9461\n",
      "precision=0.9730|recall=0.9732|f1=0.9731|aupr=0.9973\n"
     ]
    },
    {
     "name": "stderr",
     "output_type": "stream",
     "text": [
      "100%|██████████| 141/141 [00:04<00:00, 33.55it/s]\n"
     ]
    },
    {
     "name": "stdout",
     "output_type": "stream",
     "text": [
      "Fold-2 ****Test  Epoch-21/50: Loss = 0.305590\n"
     ]
    },
    {
     "name": "stderr",
     "output_type": "stream",
     "text": [
      "\r",
      "  0%|          | 0/562 [00:00<?, ?it/s]"
     ]
    },
    {
     "name": "stdout",
     "output_type": "stream",
     "text": [
      "tn = 64472, fp = 7365, fn = 3629, tp = 68208\n",
      "y_pred: 0 = 68101 | 1 = 75573\n",
      "y_true: 0 = 71837 | 1 = 71837\n",
      "auc=0.9783|sensitivity=0.9495|specificity=0.8975|acc=0.9235|mcc=0.8481\n",
      "precision=0.9025|recall=0.9495|f1=0.9254|aupr=0.9768\n"
     ]
    },
    {
     "name": "stderr",
     "output_type": "stream",
     "text": [
      "100%|██████████| 562/562 [00:46<00:00, 12.21it/s]\n"
     ]
    },
    {
     "name": "stdout",
     "output_type": "stream",
     "text": [
      "Fold-2****Train (Ep avg): Epoch-22/50 | Loss = 0.0653 | Time = 10.0793 sec\n",
      "tn = 279809, fp = 7520, fn = 7524, tp = 279805\n",
      "y_pred: 0 = 287333 | 1 = 287325\n",
      "y_true: 0 = 287329 | 1 = 287329\n",
      "auc=0.9974|sensitivity=0.9738|specificity=0.9738|acc=0.9738|mcc=0.9476\n",
      "precision=0.9738|recall=0.9738|f1=0.9738|aupr=0.9974\n"
     ]
    },
    {
     "name": "stderr",
     "output_type": "stream",
     "text": [
      "100%|██████████| 141/141 [00:04<00:00, 32.63it/s]\n"
     ]
    },
    {
     "name": "stdout",
     "output_type": "stream",
     "text": [
      "Fold-2 ****Test  Epoch-22/50: Loss = 0.295436\n"
     ]
    },
    {
     "name": "stderr",
     "output_type": "stream",
     "text": [
      "\r",
      "  0%|          | 0/562 [00:00<?, ?it/s]"
     ]
    },
    {
     "name": "stdout",
     "output_type": "stream",
     "text": [
      "tn = 64893, fp = 6944, fn = 3803, tp = 68034\n",
      "y_pred: 0 = 68696 | 1 = 74978\n",
      "y_true: 0 = 71837 | 1 = 71837\n",
      "auc=0.9786|sensitivity=0.9471|specificity=0.9033|acc=0.9252|mcc=0.8512\n",
      "precision=0.9074|recall=0.9471|f1=0.9268|aupr=0.9771\n",
      "****Saving model: Best epoch = 22 | 5metrics_Best_avg = 0.9205\n",
      "*****Path saver:  ./model/pHLAIformer/no_positional_embedding__model_layer1_multihead9_fold2.pkl\n"
     ]
    },
    {
     "name": "stderr",
     "output_type": "stream",
     "text": [
      "100%|██████████| 562/562 [00:45<00:00, 12.43it/s]\n"
     ]
    },
    {
     "name": "stdout",
     "output_type": "stream",
     "text": [
      "Fold-2****Train (Ep avg): Epoch-23/50 | Loss = 0.0605 | Time = 10.0201 sec\n"
     ]
    },
    {
     "name": "stderr",
     "output_type": "stream",
     "text": [
      "\r",
      "  0%|          | 0/141 [00:00<?, ?it/s]"
     ]
    },
    {
     "name": "stdout",
     "output_type": "stream",
     "text": [
      "tn = 280404, fp = 6925, fn = 6874, tp = 280455\n",
      "y_pred: 0 = 287278 | 1 = 287380\n",
      "y_true: 0 = 287329 | 1 = 287329\n",
      "auc=0.9977|sensitivity=0.9761|specificity=0.9759|acc=0.9760|mcc=0.9520\n",
      "precision=0.9759|recall=0.9761|f1=0.9760|aupr=0.9978\n"
     ]
    },
    {
     "name": "stderr",
     "output_type": "stream",
     "text": [
      "100%|██████████| 141/141 [00:04<00:00, 33.06it/s]\n"
     ]
    },
    {
     "name": "stdout",
     "output_type": "stream",
     "text": [
      "Fold-2 ****Test  Epoch-23/50: Loss = 0.324366\n"
     ]
    },
    {
     "name": "stderr",
     "output_type": "stream",
     "text": [
      "\r",
      "  0%|          | 0/562 [00:00<?, ?it/s]"
     ]
    },
    {
     "name": "stdout",
     "output_type": "stream",
     "text": [
      "tn = 64087, fp = 7750, fn = 3311, tp = 68526\n",
      "y_pred: 0 = 67398 | 1 = 76276\n",
      "y_true: 0 = 71837 | 1 = 71837\n",
      "auc=0.9787|sensitivity=0.9539|specificity=0.8921|acc=0.9230|mcc=0.8476\n",
      "precision=0.8984|recall=0.9539|f1=0.9253|aupr=0.9773\n"
     ]
    },
    {
     "name": "stderr",
     "output_type": "stream",
     "text": [
      "100%|██████████| 562/562 [00:45<00:00, 12.45it/s]\n"
     ]
    },
    {
     "name": "stdout",
     "output_type": "stream",
     "text": [
      "Fold-2****Train (Ep avg): Epoch-24/50 | Loss = 0.0593 | Time = 10.0614 sec\n",
      "tn = 280542, fp = 6787, fn = 6823, tp = 280506\n",
      "y_pred: 0 = 287365 | 1 = 287293\n",
      "y_true: 0 = 287329 | 1 = 287329\n",
      "auc=0.9978|sensitivity=0.9763|specificity=0.9764|acc=0.9763|mcc=0.9526\n",
      "precision=0.9764|recall=0.9763|f1=0.9763|aupr=0.9979\n"
     ]
    },
    {
     "name": "stderr",
     "output_type": "stream",
     "text": [
      "100%|██████████| 141/141 [00:04<00:00, 33.37it/s]\n"
     ]
    },
    {
     "name": "stdout",
     "output_type": "stream",
     "text": [
      "Fold-2 ****Test  Epoch-24/50: Loss = 0.310251\n",
      "tn = 64422, fp = 7415, fn = 3462, tp = 68375\n"
     ]
    },
    {
     "name": "stderr",
     "output_type": "stream",
     "text": [
      "  0%|          | 2/562 [00:00<00:44, 12.50it/s]"
     ]
    },
    {
     "name": "stdout",
     "output_type": "stream",
     "text": [
      "y_pred: 0 = 67884 | 1 = 75790\n",
      "y_true: 0 = 71837 | 1 = 71837\n",
      "auc=0.9786|sensitivity=0.9518|specificity=0.8968|acc=0.9243|mcc=0.8499\n",
      "precision=0.9022|recall=0.9518|f1=0.9263|aupr=0.9771\n"
     ]
    },
    {
     "name": "stderr",
     "output_type": "stream",
     "text": [
      "100%|██████████| 562/562 [00:45<00:00, 12.42it/s]\n"
     ]
    },
    {
     "name": "stdout",
     "output_type": "stream",
     "text": [
      "Fold-2****Train (Ep avg): Epoch-25/50 | Loss = 0.0564 | Time = 10.0430 sec\n"
     ]
    },
    {
     "name": "stderr",
     "output_type": "stream",
     "text": [
      "\r",
      "  0%|          | 0/141 [00:00<?, ?it/s]"
     ]
    },
    {
     "name": "stdout",
     "output_type": "stream",
     "text": [
      "tn = 280917, fp = 6412, fn = 6376, tp = 280953\n",
      "y_pred: 0 = 287293 | 1 = 287365\n",
      "y_true: 0 = 287329 | 1 = 287329\n",
      "auc=0.9980|sensitivity=0.9778|specificity=0.9777|acc=0.9777|mcc=0.9555\n",
      "precision=0.9777|recall=0.9778|f1=0.9777|aupr=0.9981\n"
     ]
    },
    {
     "name": "stderr",
     "output_type": "stream",
     "text": [
      "100%|██████████| 141/141 [00:04<00:00, 34.11it/s]\n"
     ]
    },
    {
     "name": "stdout",
     "output_type": "stream",
     "text": [
      "Fold-2 ****Test  Epoch-25/50: Loss = 0.322482\n"
     ]
    },
    {
     "name": "stderr",
     "output_type": "stream",
     "text": [
      "\r",
      "  0%|          | 0/562 [00:00<?, ?it/s]"
     ]
    },
    {
     "name": "stdout",
     "output_type": "stream",
     "text": [
      "tn = 64389, fp = 7448, fn = 3678, tp = 68159\n",
      "y_pred: 0 = 68067 | 1 = 75607\n",
      "y_true: 0 = 71837 | 1 = 71837\n",
      "auc=0.9780|sensitivity=0.9488|specificity=0.8963|acc=0.9226|mcc=0.8463\n",
      "precision=0.9015|recall=0.9488|f1=0.9245|aupr=0.9765\n"
     ]
    },
    {
     "name": "stderr",
     "output_type": "stream",
     "text": [
      "100%|██████████| 562/562 [00:45<00:00, 12.45it/s]\n"
     ]
    },
    {
     "name": "stdout",
     "output_type": "stream",
     "text": [
      "Fold-2****Train (Ep avg): Epoch-26/50 | Loss = 0.0557 | Time = 10.0385 sec\n"
     ]
    },
    {
     "name": "stderr",
     "output_type": "stream",
     "text": [
      "\r",
      "  0%|          | 0/141 [00:00<?, ?it/s]"
     ]
    },
    {
     "name": "stdout",
     "output_type": "stream",
     "text": [
      "tn = 280988, fp = 6341, fn = 6337, tp = 280992\n",
      "y_pred: 0 = 287325 | 1 = 287333\n",
      "y_true: 0 = 287329 | 1 = 287329\n",
      "auc=0.9981|sensitivity=0.9779|specificity=0.9779|acc=0.9779|mcc=0.9559\n",
      "precision=0.9779|recall=0.9779|f1=0.9779|aupr=0.9981\n"
     ]
    },
    {
     "name": "stderr",
     "output_type": "stream",
     "text": [
      "100%|██████████| 141/141 [00:04<00:00, 33.38it/s]\n"
     ]
    },
    {
     "name": "stdout",
     "output_type": "stream",
     "text": [
      "Fold-2 ****Test  Epoch-26/50: Loss = 0.342367\n"
     ]
    },
    {
     "name": "stderr",
     "output_type": "stream",
     "text": [
      "\r",
      "  0%|          | 0/562 [00:00<?, ?it/s]"
     ]
    },
    {
     "name": "stdout",
     "output_type": "stream",
     "text": [
      "tn = 63509, fp = 8328, fn = 3041, tp = 68796\n",
      "y_pred: 0 = 66550 | 1 = 77124\n",
      "y_true: 0 = 71837 | 1 = 71837\n",
      "auc=0.9785|sensitivity=0.9577|specificity=0.8841|acc=0.9209|mcc=0.8440\n",
      "precision=0.8920|recall=0.9577|f1=0.9237|aupr=0.9769\n"
     ]
    },
    {
     "name": "stderr",
     "output_type": "stream",
     "text": [
      "100%|██████████| 562/562 [00:45<00:00, 12.45it/s]\n"
     ]
    },
    {
     "name": "stdout",
     "output_type": "stream",
     "text": [
      "Fold-2****Train (Ep avg): Epoch-27/50 | Loss = 0.0539 | Time = 10.0385 sec\n",
      "tn = 281197, fp = 6132, fn = 6121, tp = 281208\n",
      "y_pred: 0 = 287318 | 1 = 287340\n",
      "y_true: 0 = 287329 | 1 = 287329\n",
      "auc=0.9982|sensitivity=0.9787|specificity=0.9787|acc=0.9787|mcc=0.9574\n",
      "precision=0.9787|recall=0.9787|f1=0.9787|aupr=0.9982\n"
     ]
    },
    {
     "name": "stderr",
     "output_type": "stream",
     "text": [
      "100%|██████████| 141/141 [00:04<00:00, 33.16it/s]\n"
     ]
    },
    {
     "name": "stdout",
     "output_type": "stream",
     "text": [
      "Fold-2 ****Test  Epoch-27/50: Loss = 0.300923\n"
     ]
    },
    {
     "name": "stderr",
     "output_type": "stream",
     "text": [
      "\r",
      "  0%|          | 0/562 [00:00<?, ?it/s]"
     ]
    },
    {
     "name": "stdout",
     "output_type": "stream",
     "text": [
      "tn = 65578, fp = 6259, fn = 4219, tp = 67618\n",
      "y_pred: 0 = 69797 | 1 = 73877\n",
      "y_true: 0 = 71837 | 1 = 71837\n",
      "auc=0.9792|sensitivity=0.9413|specificity=0.9129|acc=0.9271|mcc=0.8545\n",
      "precision=0.9153|recall=0.9413|f1=0.9281|aupr=0.9777\n",
      "****Saving model: Best epoch = 27 | 5metrics_Best_avg = 0.9222\n",
      "*****Path saver:  ./model/pHLAIformer/no_positional_embedding__model_layer1_multihead9_fold2.pkl\n"
     ]
    },
    {
     "name": "stderr",
     "output_type": "stream",
     "text": [
      "100%|██████████| 562/562 [00:46<00:00, 12.15it/s]\n"
     ]
    },
    {
     "name": "stdout",
     "output_type": "stream",
     "text": [
      "Fold-2****Train (Ep avg): Epoch-28/50 | Loss = 0.0509 | Time = 10.0859 sec\n"
     ]
    },
    {
     "name": "stderr",
     "output_type": "stream",
     "text": [
      "\r",
      "  0%|          | 0/141 [00:00<?, ?it/s]"
     ]
    },
    {
     "name": "stdout",
     "output_type": "stream",
     "text": [
      "tn = 281572, fp = 5757, fn = 5800, tp = 281529\n",
      "y_pred: 0 = 287372 | 1 = 287286\n",
      "y_true: 0 = 287329 | 1 = 287329\n",
      "auc=0.9984|sensitivity=0.9798|specificity=0.9800|acc=0.9799|mcc=0.9598\n",
      "precision=0.9800|recall=0.9798|f1=0.9799|aupr=0.9984\n"
     ]
    },
    {
     "name": "stderr",
     "output_type": "stream",
     "text": [
      "100%|██████████| 141/141 [00:04<00:00, 32.96it/s]\n"
     ]
    },
    {
     "name": "stdout",
     "output_type": "stream",
     "text": [
      "Fold-2 ****Test  Epoch-28/50: Loss = 0.349350\n",
      "tn = 64278, fp = 7559, fn = 3840, tp = 67997\n"
     ]
    },
    {
     "name": "stderr",
     "output_type": "stream",
     "text": [
      "  0%|          | 2/562 [00:00<00:44, 12.55it/s]"
     ]
    },
    {
     "name": "stdout",
     "output_type": "stream",
     "text": [
      "y_pred: 0 = 68118 | 1 = 75556\n",
      "y_true: 0 = 71837 | 1 = 71837\n",
      "auc=0.9771|sensitivity=0.9465|specificity=0.8948|acc=0.9207|mcc=0.8425\n",
      "precision=0.9000|recall=0.9465|f1=0.9227|aupr=0.9755\n"
     ]
    },
    {
     "name": "stderr",
     "output_type": "stream",
     "text": [
      "100%|██████████| 562/562 [00:46<00:00, 12.12it/s]\n"
     ]
    },
    {
     "name": "stdout",
     "output_type": "stream",
     "text": [
      "Fold-2****Train (Ep avg): Epoch-29/50 | Loss = 0.0497 | Time = 10.0908 sec\n",
      "tn = 281679, fp = 5650, fn = 5650, tp = 281679\n",
      "y_pred: 0 = 287329 | 1 = 287329\n",
      "y_true: 0 = 287329 | 1 = 287329\n",
      "auc=0.9985|sensitivity=0.9803|specificity=0.9803|acc=0.9803|mcc=0.9607\n",
      "precision=0.9803|recall=0.9803|f1=0.9803|aupr=0.9985\n"
     ]
    },
    {
     "name": "stderr",
     "output_type": "stream",
     "text": [
      "100%|██████████| 141/141 [00:04<00:00, 32.99it/s]\n"
     ]
    },
    {
     "name": "stdout",
     "output_type": "stream",
     "text": [
      "Fold-2 ****Test  Epoch-29/50: Loss = 0.349669\n"
     ]
    },
    {
     "name": "stderr",
     "output_type": "stream",
     "text": [
      "\r",
      "  0%|          | 0/562 [00:00<?, ?it/s]"
     ]
    },
    {
     "name": "stdout",
     "output_type": "stream",
     "text": [
      "tn = 63933, fp = 7904, fn = 3091, tp = 68746\n",
      "y_pred: 0 = 67024 | 1 = 76650\n",
      "y_true: 0 = 71837 | 1 = 71837\n",
      "auc=0.9788|sensitivity=0.9570|specificity=0.8900|acc=0.9235|mcc=0.8489\n",
      "precision=0.8969|recall=0.9570|f1=0.9260|aupr=0.9773\n"
     ]
    },
    {
     "name": "stderr",
     "output_type": "stream",
     "text": [
      "100%|██████████| 562/562 [00:46<00:00, 12.13it/s]\n"
     ]
    },
    {
     "name": "stdout",
     "output_type": "stream",
     "text": [
      "Fold-2****Train (Ep avg): Epoch-30/50 | Loss = 0.0495 | Time = 10.0776 sec\n"
     ]
    },
    {
     "name": "stderr",
     "output_type": "stream",
     "text": [
      "\r",
      "  0%|          | 0/141 [00:00<?, ?it/s]"
     ]
    },
    {
     "name": "stdout",
     "output_type": "stream",
     "text": [
      "tn = 281686, fp = 5643, fn = 5620, tp = 281709\n",
      "y_pred: 0 = 287306 | 1 = 287352\n",
      "y_true: 0 = 287329 | 1 = 287329\n",
      "auc=0.9985|sensitivity=0.9804|specificity=0.9804|acc=0.9804|mcc=0.9608\n",
      "precision=0.9804|recall=0.9804|f1=0.9804|aupr=0.9985\n"
     ]
    },
    {
     "name": "stderr",
     "output_type": "stream",
     "text": [
      "100%|██████████| 141/141 [00:04<00:00, 32.44it/s]\n"
     ]
    },
    {
     "name": "stdout",
     "output_type": "stream",
     "text": [
      "Fold-2 ****Test  Epoch-30/50: Loss = 0.346954\n"
     ]
    },
    {
     "name": "stderr",
     "output_type": "stream",
     "text": [
      "\r",
      "  0%|          | 0/562 [00:00<?, ?it/s]"
     ]
    },
    {
     "name": "stdout",
     "output_type": "stream",
     "text": [
      "tn = 65028, fp = 6809, fn = 3777, tp = 68060\n",
      "y_pred: 0 = 68805 | 1 = 74869\n",
      "y_true: 0 = 71837 | 1 = 71837\n",
      "auc=0.9791|sensitivity=0.9474|specificity=0.9052|acc=0.9263|mcc=0.8534\n",
      "precision=0.9091|recall=0.9474|f1=0.9278|aupr=0.9776\n"
     ]
    },
    {
     "name": "stderr",
     "output_type": "stream",
     "text": [
      "100%|██████████| 562/562 [00:46<00:00, 12.12it/s]\n"
     ]
    },
    {
     "name": "stdout",
     "output_type": "stream",
     "text": [
      "Fold-2****Train (Ep avg): Epoch-31/50 | Loss = 0.0476 | Time = 10.0893 sec\n",
      "tn = 281982, fp = 5347, fn = 5338, tp = 281991\n",
      "y_pred: 0 = 287320 | 1 = 287338\n",
      "y_true: 0 = 287329 | 1 = 287329\n",
      "auc=0.9986|sensitivity=0.9814|specificity=0.9814|acc=0.9814|mcc=0.9628\n",
      "precision=0.9814|recall=0.9814|f1=0.9814|aupr=0.9986\n"
     ]
    },
    {
     "name": "stderr",
     "output_type": "stream",
     "text": [
      "100%|██████████| 141/141 [00:04<00:00, 32.49it/s]\n"
     ]
    },
    {
     "name": "stdout",
     "output_type": "stream",
     "text": [
      "Fold-2 ****Test  Epoch-31/50: Loss = 0.348696\n"
     ]
    },
    {
     "name": "stderr",
     "output_type": "stream",
     "text": [
      "\r",
      "  0%|          | 0/562 [00:00<?, ?it/s]"
     ]
    },
    {
     "name": "stdout",
     "output_type": "stream",
     "text": [
      "tn = 64063, fp = 7774, fn = 3285, tp = 68552\n",
      "y_pred: 0 = 67348 | 1 = 76326\n",
      "y_true: 0 = 71837 | 1 = 71837\n",
      "auc=0.9783|sensitivity=0.9543|specificity=0.8918|acc=0.9230|mcc=0.8477\n",
      "precision=0.8981|recall=0.9543|f1=0.9254|aupr=0.9767\n"
     ]
    },
    {
     "name": "stderr",
     "output_type": "stream",
     "text": [
      "100%|██████████| 562/562 [00:46<00:00, 12.09it/s]\n"
     ]
    },
    {
     "name": "stdout",
     "output_type": "stream",
     "text": [
      "Fold-2****Train (Ep avg): Epoch-32/50 | Loss = 0.0455 | Time = 10.1182 sec\n",
      "tn = 282183, fp = 5146, fn = 5068, tp = 282261\n",
      "y_pred: 0 = 287251 | 1 = 287407\n",
      "y_true: 0 = 287329 | 1 = 287329\n",
      "auc=0.9987|sensitivity=0.9824|specificity=0.9821|acc=0.9822|mcc=0.9645\n",
      "precision=0.9821|recall=0.9824|f1=0.9822|aupr=0.9987\n"
     ]
    },
    {
     "name": "stderr",
     "output_type": "stream",
     "text": [
      "100%|██████████| 141/141 [00:04<00:00, 33.58it/s]\n"
     ]
    },
    {
     "name": "stdout",
     "output_type": "stream",
     "text": [
      "Fold-2 ****Test  Epoch-32/50: Loss = 0.354593\n"
     ]
    },
    {
     "name": "stderr",
     "output_type": "stream",
     "text": [
      "\r",
      "  0%|          | 0/562 [00:00<?, ?it/s]"
     ]
    },
    {
     "name": "stdout",
     "output_type": "stream",
     "text": [
      "tn = 65048, fp = 6789, fn = 3710, tp = 68127\n",
      "y_pred: 0 = 68758 | 1 = 74916\n",
      "y_true: 0 = 71837 | 1 = 71837\n",
      "auc=0.9791|sensitivity=0.9484|specificity=0.9055|acc=0.9269|mcc=0.8546\n",
      "precision=0.9094|recall=0.9484|f1=0.9285|aupr=0.9776\n",
      "****Saving model: Best epoch = 32 | 5metrics_Best_avg = 0.9223\n",
      "*****Path saver:  ./model/pHLAIformer/no_positional_embedding__model_layer1_multihead9_fold2.pkl\n"
     ]
    },
    {
     "name": "stderr",
     "output_type": "stream",
     "text": [
      "100%|██████████| 562/562 [00:46<00:00, 12.13it/s]\n"
     ]
    },
    {
     "name": "stdout",
     "output_type": "stream",
     "text": [
      "Fold-2****Train (Ep avg): Epoch-33/50 | Loss = 0.0447 | Time = 10.1025 sec\n"
     ]
    },
    {
     "name": "stderr",
     "output_type": "stream",
     "text": [
      "\r",
      "  0%|          | 0/141 [00:00<?, ?it/s]"
     ]
    },
    {
     "name": "stdout",
     "output_type": "stream",
     "text": [
      "tn = 282145, fp = 5184, fn = 4958, tp = 282371\n",
      "y_pred: 0 = 287103 | 1 = 287555\n",
      "y_true: 0 = 287329 | 1 = 287329\n",
      "auc=0.9988|sensitivity=0.9827|specificity=0.9820|acc=0.9824|mcc=0.9647\n",
      "precision=0.9820|recall=0.9827|f1=0.9824|aupr=0.9988\n"
     ]
    },
    {
     "name": "stderr",
     "output_type": "stream",
     "text": [
      "100%|██████████| 141/141 [00:04<00:00, 33.37it/s]\n"
     ]
    },
    {
     "name": "stdout",
     "output_type": "stream",
     "text": [
      "Fold-2 ****Test  Epoch-33/50: Loss = 0.342213\n"
     ]
    },
    {
     "name": "stderr",
     "output_type": "stream",
     "text": [
      "\r",
      "  0%|          | 0/562 [00:00<?, ?it/s]"
     ]
    },
    {
     "name": "stdout",
     "output_type": "stream",
     "text": [
      "tn = 66134, fp = 5703, fn = 4733, tp = 67104\n",
      "y_pred: 0 = 70867 | 1 = 72807\n",
      "y_true: 0 = 71837 | 1 = 71837\n",
      "auc=0.9789|sensitivity=0.9341|specificity=0.9206|acc=0.9274|mcc=0.8548\n",
      "precision=0.9217|recall=0.9341|f1=0.9279|aupr=0.9774\n"
     ]
    },
    {
     "name": "stderr",
     "output_type": "stream",
     "text": [
      "100%|██████████| 562/562 [00:46<00:00, 12.16it/s]\n"
     ]
    },
    {
     "name": "stdout",
     "output_type": "stream",
     "text": [
      "Fold-2****Train (Ep avg): Epoch-34/50 | Loss = 0.0433 | Time = 10.0979 sec\n"
     ]
    },
    {
     "name": "stderr",
     "output_type": "stream",
     "text": [
      "\r",
      "  0%|          | 0/141 [00:00<?, ?it/s]"
     ]
    },
    {
     "name": "stdout",
     "output_type": "stream",
     "text": [
      "tn = 282483, fp = 4846, fn = 4879, tp = 282450\n",
      "y_pred: 0 = 287362 | 1 = 287296\n",
      "y_true: 0 = 287329 | 1 = 287329\n",
      "auc=0.9988|sensitivity=0.9830|specificity=0.9831|acc=0.9831|mcc=0.9662\n",
      "precision=0.9831|recall=0.9830|f1=0.9831|aupr=0.9988\n"
     ]
    },
    {
     "name": "stderr",
     "output_type": "stream",
     "text": [
      "100%|██████████| 141/141 [00:04<00:00, 33.05it/s]\n"
     ]
    },
    {
     "name": "stdout",
     "output_type": "stream",
     "text": [
      "Fold-2 ****Test  Epoch-34/50: Loss = 0.348584\n"
     ]
    },
    {
     "name": "stderr",
     "output_type": "stream",
     "text": [
      "\r",
      "  0%|          | 0/562 [00:00<?, ?it/s]"
     ]
    },
    {
     "name": "stdout",
     "output_type": "stream",
     "text": [
      "tn = 65873, fp = 5964, fn = 4478, tp = 67359\n",
      "y_pred: 0 = 70351 | 1 = 73323\n",
      "y_true: 0 = 71837 | 1 = 71837\n",
      "auc=0.9789|sensitivity=0.9377|specificity=0.9170|acc=0.9273|mcc=0.8548\n",
      "precision=0.9187|recall=0.9377|f1=0.9281|aupr=0.9773\n"
     ]
    },
    {
     "name": "stderr",
     "output_type": "stream",
     "text": [
      "100%|██████████| 562/562 [00:46<00:00, 12.12it/s]\n"
     ]
    },
    {
     "name": "stdout",
     "output_type": "stream",
     "text": [
      "Fold-2****Train (Ep avg): Epoch-35/50 | Loss = 0.0436 | Time = 10.1017 sec\n",
      "tn = 282387, fp = 4942, fn = 4835, tp = 282494\n",
      "y_pred: 0 = 287222 | 1 = 287436\n",
      "y_true: 0 = 287329 | 1 = 287329\n",
      "auc=0.9988|sensitivity=0.9832|specificity=0.9828|acc=0.9830|mcc=0.9660\n",
      "precision=0.9828|recall=0.9832|f1=0.9830|aupr=0.9988\n"
     ]
    },
    {
     "name": "stderr",
     "output_type": "stream",
     "text": [
      "100%|██████████| 141/141 [00:04<00:00, 33.54it/s]\n"
     ]
    },
    {
     "name": "stdout",
     "output_type": "stream",
     "text": [
      "Fold-2 ****Test  Epoch-35/50: Loss = 0.336877\n"
     ]
    },
    {
     "name": "stderr",
     "output_type": "stream",
     "text": [
      "\r",
      "  0%|          | 0/562 [00:00<?, ?it/s]"
     ]
    },
    {
     "name": "stdout",
     "output_type": "stream",
     "text": [
      "tn = 66232, fp = 5605, fn = 4826, tp = 67011\n",
      "y_pred: 0 = 71058 | 1 = 72616\n",
      "y_true: 0 = 71837 | 1 = 71837\n",
      "auc=0.9791|sensitivity=0.9328|specificity=0.9220|acc=0.9274|mcc=0.8548\n",
      "precision=0.9228|recall=0.9328|f1=0.9278|aupr=0.9775\n",
      "****Saving model: Best epoch = 35 | 5metrics_Best_avg = 0.9223\n",
      "*****Path saver:  ./model/pHLAIformer/no_positional_embedding__model_layer1_multihead9_fold2.pkl\n"
     ]
    },
    {
     "name": "stderr",
     "output_type": "stream",
     "text": [
      "100%|██████████| 562/562 [00:46<00:00, 12.15it/s]\n"
     ]
    },
    {
     "name": "stdout",
     "output_type": "stream",
     "text": [
      "Fold-2****Train (Ep avg): Epoch-36/50 | Loss = 0.0421 | Time = 10.0517 sec\n"
     ]
    },
    {
     "name": "stderr",
     "output_type": "stream",
     "text": [
      "\r",
      "  0%|          | 0/141 [00:00<?, ?it/s]"
     ]
    },
    {
     "name": "stdout",
     "output_type": "stream",
     "text": [
      "tn = 282604, fp = 4725, fn = 4692, tp = 282637\n",
      "y_pred: 0 = 287296 | 1 = 287362\n",
      "y_true: 0 = 287329 | 1 = 287329\n",
      "auc=0.9989|sensitivity=0.9837|specificity=0.9836|acc=0.9836|mcc=0.9672\n",
      "precision=0.9836|recall=0.9837|f1=0.9836|aupr=0.9989\n"
     ]
    },
    {
     "name": "stderr",
     "output_type": "stream",
     "text": [
      "100%|██████████| 141/141 [00:04<00:00, 33.12it/s]\n"
     ]
    },
    {
     "name": "stdout",
     "output_type": "stream",
     "text": [
      "Fold-2 ****Test  Epoch-36/50: Loss = 0.368564\n"
     ]
    },
    {
     "name": "stderr",
     "output_type": "stream",
     "text": [
      "\r",
      "  0%|          | 0/562 [00:00<?, ?it/s]"
     ]
    },
    {
     "name": "stdout",
     "output_type": "stream",
     "text": [
      "tn = 65622, fp = 6215, fn = 4207, tp = 67630\n",
      "y_pred: 0 = 69829 | 1 = 73845\n",
      "y_true: 0 = 71837 | 1 = 71837\n",
      "auc=0.9787|sensitivity=0.9414|specificity=0.9135|acc=0.9275|mcc=0.8553\n",
      "precision=0.9158|recall=0.9414|f1=0.9285|aupr=0.9771\n",
      "****Saving model: Best epoch = 36 | 5metrics_Best_avg = 0.9225\n",
      "*****Path saver:  ./model/pHLAIformer/no_positional_embedding__model_layer1_multihead9_fold2.pkl\n"
     ]
    },
    {
     "name": "stderr",
     "output_type": "stream",
     "text": [
      "100%|██████████| 562/562 [00:46<00:00, 12.14it/s]\n"
     ]
    },
    {
     "name": "stdout",
     "output_type": "stream",
     "text": [
      "Fold-2****Train (Ep avg): Epoch-37/50 | Loss = 0.0405 | Time = 10.0634 sec\n"
     ]
    },
    {
     "name": "stderr",
     "output_type": "stream",
     "text": [
      "\r",
      "  0%|          | 0/141 [00:00<?, ?it/s]"
     ]
    },
    {
     "name": "stdout",
     "output_type": "stream",
     "text": [
      "tn = 282776, fp = 4553, fn = 4485, tp = 282844\n",
      "y_pred: 0 = 287261 | 1 = 287397\n",
      "y_true: 0 = 287329 | 1 = 287329\n",
      "auc=0.9990|sensitivity=0.9844|specificity=0.9842|acc=0.9843|mcc=0.9685\n",
      "precision=0.9842|recall=0.9844|f1=0.9843|aupr=0.9990\n"
     ]
    },
    {
     "name": "stderr",
     "output_type": "stream",
     "text": [
      "100%|██████████| 141/141 [00:04<00:00, 33.01it/s]\n"
     ]
    },
    {
     "name": "stdout",
     "output_type": "stream",
     "text": [
      "Fold-2 ****Test  Epoch-37/50: Loss = 0.345457\n",
      "tn = 65661, fp = 6176, fn = 4085, tp = 67752\n"
     ]
    },
    {
     "name": "stderr",
     "output_type": "stream",
     "text": [
      "  0%|          | 2/562 [00:00<00:44, 12.52it/s]"
     ]
    },
    {
     "name": "stdout",
     "output_type": "stream",
     "text": [
      "y_pred: 0 = 69746 | 1 = 73928\n",
      "y_true: 0 = 71837 | 1 = 71837\n",
      "auc=0.9795|sensitivity=0.9431|specificity=0.9140|acc=0.9286|mcc=0.8575\n",
      "precision=0.9165|recall=0.9431|f1=0.9296|aupr=0.9781\n",
      "****Saving model: Best epoch = 37 | 5metrics_Best_avg = 0.9238\n",
      "*****Path saver:  ./model/pHLAIformer/no_positional_embedding__model_layer1_multihead9_fold2.pkl\n"
     ]
    },
    {
     "name": "stderr",
     "output_type": "stream",
     "text": [
      "100%|██████████| 562/562 [00:46<00:00, 12.15it/s]\n"
     ]
    },
    {
     "name": "stdout",
     "output_type": "stream",
     "text": [
      "Fold-2****Train (Ep avg): Epoch-38/50 | Loss = 0.0399 | Time = 10.0428 sec\n",
      "tn = 282922, fp = 4407, fn = 4418, tp = 282911\n",
      "y_pred: 0 = 287340 | 1 = 287318\n",
      "y_true: 0 = 287329 | 1 = 287329\n",
      "auc=0.9990|sensitivity=0.9846|specificity=0.9847|acc=0.9846|mcc=0.9693\n",
      "precision=0.9847|recall=0.9846|f1=0.9846|aupr=0.9990\n"
     ]
    },
    {
     "name": "stderr",
     "output_type": "stream",
     "text": [
      "100%|██████████| 141/141 [00:04<00:00, 33.24it/s]\n"
     ]
    },
    {
     "name": "stdout",
     "output_type": "stream",
     "text": [
      "Fold-2 ****Test  Epoch-38/50: Loss = 0.342675\n"
     ]
    },
    {
     "name": "stderr",
     "output_type": "stream",
     "text": [
      "\r",
      "  0%|          | 0/562 [00:00<?, ?it/s]"
     ]
    },
    {
     "name": "stdout",
     "output_type": "stream",
     "text": [
      "tn = 65554, fp = 6283, fn = 4035, tp = 67802\n",
      "y_pred: 0 = 69589 | 1 = 74085\n",
      "y_true: 0 = 71837 | 1 = 71837\n",
      "auc=0.9797|sensitivity=0.9438|specificity=0.9125|acc=0.9282|mcc=0.8568\n",
      "precision=0.9152|recall=0.9438|f1=0.9293|aupr=0.9783\n"
     ]
    },
    {
     "name": "stderr",
     "output_type": "stream",
     "text": [
      "100%|██████████| 562/562 [00:46<00:00, 12.12it/s]\n"
     ]
    },
    {
     "name": "stdout",
     "output_type": "stream",
     "text": [
      "Fold-2****Train (Ep avg): Epoch-39/50 | Loss = 0.0391 | Time = 10.0748 sec\n"
     ]
    },
    {
     "name": "stderr",
     "output_type": "stream",
     "text": [
      "\r",
      "  0%|          | 0/141 [00:00<?, ?it/s]"
     ]
    },
    {
     "name": "stdout",
     "output_type": "stream",
     "text": [
      "tn = 282956, fp = 4373, fn = 4335, tp = 282994\n",
      "y_pred: 0 = 287291 | 1 = 287367\n",
      "y_true: 0 = 287329 | 1 = 287329\n",
      "auc=0.9990|sensitivity=0.9849|specificity=0.9848|acc=0.9848|mcc=0.9697\n",
      "precision=0.9848|recall=0.9849|f1=0.9848|aupr=0.9991\n"
     ]
    },
    {
     "name": "stderr",
     "output_type": "stream",
     "text": [
      "100%|██████████| 141/141 [00:04<00:00, 33.69it/s]\n"
     ]
    },
    {
     "name": "stdout",
     "output_type": "stream",
     "text": [
      "Fold-2 ****Test  Epoch-39/50: Loss = 0.367840\n"
     ]
    },
    {
     "name": "stderr",
     "output_type": "stream",
     "text": [
      "\r",
      "  0%|          | 0/562 [00:00<?, ?it/s]"
     ]
    },
    {
     "name": "stdout",
     "output_type": "stream",
     "text": [
      "tn = 64653, fp = 7184, fn = 3433, tp = 68404\n",
      "y_pred: 0 = 68086 | 1 = 75588\n",
      "y_true: 0 = 71837 | 1 = 71837\n",
      "auc=0.9794|sensitivity=0.9522|specificity=0.9000|acc=0.9261|mcc=0.8534\n",
      "precision=0.9050|recall=0.9522|f1=0.9280|aupr=0.9781\n"
     ]
    },
    {
     "name": "stderr",
     "output_type": "stream",
     "text": [
      "100%|██████████| 562/562 [00:46<00:00, 12.13it/s]\n"
     ]
    },
    {
     "name": "stdout",
     "output_type": "stream",
     "text": [
      "Fold-2****Train (Ep avg): Epoch-40/50 | Loss = 0.0383 | Time = 10.0513 sec\n"
     ]
    },
    {
     "name": "stderr",
     "output_type": "stream",
     "text": [
      "\r",
      "  0%|          | 0/141 [00:00<?, ?it/s]"
     ]
    },
    {
     "name": "stdout",
     "output_type": "stream",
     "text": [
      "tn = 282973, fp = 4356, fn = 4302, tp = 283027\n",
      "y_pred: 0 = 287275 | 1 = 287383\n",
      "y_true: 0 = 287329 | 1 = 287329\n",
      "auc=0.9991|sensitivity=0.9850|specificity=0.9848|acc=0.9849|mcc=0.9699\n",
      "precision=0.9848|recall=0.9850|f1=0.9849|aupr=0.9991\n"
     ]
    },
    {
     "name": "stderr",
     "output_type": "stream",
     "text": [
      "100%|██████████| 141/141 [00:04<00:00, 32.99it/s]\n"
     ]
    },
    {
     "name": "stdout",
     "output_type": "stream",
     "text": [
      "Fold-2 ****Test  Epoch-40/50: Loss = 0.367448\n"
     ]
    },
    {
     "name": "stderr",
     "output_type": "stream",
     "text": [
      "\r",
      "  0%|          | 0/562 [00:00<?, ?it/s]"
     ]
    },
    {
     "name": "stdout",
     "output_type": "stream",
     "text": [
      "tn = 64867, fp = 6970, fn = 3440, tp = 68397\n",
      "y_pred: 0 = 68307 | 1 = 75367\n",
      "y_true: 0 = 71837 | 1 = 71837\n",
      "auc=0.9793|sensitivity=0.9521|specificity=0.9030|acc=0.9275|mcc=0.8561\n",
      "precision=0.9075|recall=0.9521|f1=0.9293|aupr=0.9778\n"
     ]
    },
    {
     "name": "stderr",
     "output_type": "stream",
     "text": [
      "100%|██████████| 562/562 [00:46<00:00, 12.04it/s]\n"
     ]
    },
    {
     "name": "stdout",
     "output_type": "stream",
     "text": [
      "Fold-2****Train (Ep avg): Epoch-41/50 | Loss = 0.0371 | Time = 10.1375 sec\n"
     ]
    },
    {
     "name": "stderr",
     "output_type": "stream",
     "text": [
      "\r",
      "  0%|          | 0/141 [00:00<?, ?it/s]"
     ]
    },
    {
     "name": "stdout",
     "output_type": "stream",
     "text": [
      "tn = 283234, fp = 4095, fn = 4092, tp = 283237\n",
      "y_pred: 0 = 287326 | 1 = 287332\n",
      "y_true: 0 = 287329 | 1 = 287329\n",
      "auc=0.9991|sensitivity=0.9858|specificity=0.9857|acc=0.9858|mcc=0.9715\n",
      "precision=0.9857|recall=0.9858|f1=0.9858|aupr=0.9991\n"
     ]
    },
    {
     "name": "stderr",
     "output_type": "stream",
     "text": [
      "100%|██████████| 141/141 [00:04<00:00, 33.04it/s]\n"
     ]
    },
    {
     "name": "stdout",
     "output_type": "stream",
     "text": [
      "Fold-2 ****Test  Epoch-41/50: Loss = 0.366345\n",
      "tn = 64267, fp = 7570, fn = 3153, tp = 68684\n"
     ]
    },
    {
     "name": "stderr",
     "output_type": "stream",
     "text": [
      "  0%|          | 2/562 [00:00<00:45, 12.40it/s]"
     ]
    },
    {
     "name": "stdout",
     "output_type": "stream",
     "text": [
      "y_pred: 0 = 67420 | 1 = 76254\n",
      "y_true: 0 = 71837 | 1 = 71837\n",
      "auc=0.9793|sensitivity=0.9561|specificity=0.8946|acc=0.9254|mcc=0.8523\n",
      "precision=0.9007|recall=0.9561|f1=0.9276|aupr=0.9780\n"
     ]
    },
    {
     "name": "stderr",
     "output_type": "stream",
     "text": [
      "100%|██████████| 562/562 [00:46<00:00, 12.09it/s]\n"
     ]
    },
    {
     "name": "stdout",
     "output_type": "stream",
     "text": [
      "Fold-2****Train (Ep avg): Epoch-42/50 | Loss = 0.0362 | Time = 10.1347 sec\n"
     ]
    },
    {
     "name": "stderr",
     "output_type": "stream",
     "text": [
      "\r",
      "  0%|          | 0/141 [00:00<?, ?it/s]"
     ]
    },
    {
     "name": "stdout",
     "output_type": "stream",
     "text": [
      "tn = 283351, fp = 3978, fn = 3916, tp = 283413\n",
      "y_pred: 0 = 287267 | 1 = 287391\n",
      "y_true: 0 = 287329 | 1 = 287329\n",
      "auc=0.9992|sensitivity=0.9864|specificity=0.9862|acc=0.9863|mcc=0.9725\n",
      "precision=0.9862|recall=0.9864|f1=0.9863|aupr=0.9992\n"
     ]
    },
    {
     "name": "stderr",
     "output_type": "stream",
     "text": [
      "100%|██████████| 141/141 [00:04<00:00, 32.88it/s]\n"
     ]
    },
    {
     "name": "stdout",
     "output_type": "stream",
     "text": [
      "Fold-2 ****Test  Epoch-42/50: Loss = 0.353938\n"
     ]
    },
    {
     "name": "stderr",
     "output_type": "stream",
     "text": [
      "\r",
      "  0%|          | 0/562 [00:00<?, ?it/s]"
     ]
    },
    {
     "name": "stdout",
     "output_type": "stream",
     "text": [
      "tn = 65438, fp = 6399, fn = 4114, tp = 67723\n",
      "y_pred: 0 = 69552 | 1 = 74122\n",
      "y_true: 0 = 71837 | 1 = 71837\n",
      "auc=0.9790|sensitivity=0.9427|specificity=0.9109|acc=0.9268|mcc=0.8541\n",
      "precision=0.9137|recall=0.9427|f1=0.9280|aupr=0.9775\n"
     ]
    },
    {
     "name": "stderr",
     "output_type": "stream",
     "text": [
      "100%|██████████| 562/562 [00:46<00:00, 12.02it/s]\n"
     ]
    },
    {
     "name": "stdout",
     "output_type": "stream",
     "text": [
      "Fold-2****Train (Ep avg): Epoch-43/50 | Loss = 0.0352 | Time = 10.1627 sec\n",
      "tn = 283438, fp = 3891, fn = 3886, tp = 283443\n",
      "y_pred: 0 = 287324 | 1 = 287334\n",
      "y_true: 0 = 287329 | 1 = 287329\n",
      "auc=0.9992|sensitivity=0.9865|specificity=0.9865|acc=0.9865|mcc=0.9729\n",
      "precision=0.9865|recall=0.9865|f1=0.9865|aupr=0.9992\n"
     ]
    },
    {
     "name": "stderr",
     "output_type": "stream",
     "text": [
      "100%|██████████| 141/141 [00:04<00:00, 33.02it/s]\n"
     ]
    },
    {
     "name": "stdout",
     "output_type": "stream",
     "text": [
      "Fold-2 ****Test  Epoch-43/50: Loss = 0.359789\n",
      "tn = 64866, fp = 6971, fn = 3570, tp = 68267\n"
     ]
    },
    {
     "name": "stderr",
     "output_type": "stream",
     "text": [
      "  0%|          | 2/562 [00:00<00:46, 12.11it/s]"
     ]
    },
    {
     "name": "stdout",
     "output_type": "stream",
     "text": [
      "y_pred: 0 = 68436 | 1 = 75238\n",
      "y_true: 0 = 71837 | 1 = 71837\n",
      "auc=0.9794|sensitivity=0.9503|specificity=0.9030|acc=0.9266|mcc=0.8542\n",
      "precision=0.9073|recall=0.9503|f1=0.9283|aupr=0.9779\n"
     ]
    },
    {
     "name": "stderr",
     "output_type": "stream",
     "text": [
      "100%|██████████| 562/562 [00:46<00:00, 12.14it/s]\n"
     ]
    },
    {
     "name": "stdout",
     "output_type": "stream",
     "text": [
      "Fold-2****Train (Ep avg): Epoch-44/50 | Loss = 0.0345 | Time = 10.0783 sec\n"
     ]
    },
    {
     "name": "stderr",
     "output_type": "stream",
     "text": [
      "\r",
      "  0%|          | 0/141 [00:00<?, ?it/s]"
     ]
    },
    {
     "name": "stdout",
     "output_type": "stream",
     "text": [
      "tn = 283560, fp = 3769, fn = 3775, tp = 283554\n",
      "y_pred: 0 = 287335 | 1 = 287323\n",
      "y_true: 0 = 287329 | 1 = 287329\n",
      "auc=0.9992|sensitivity=0.9869|specificity=0.9869|acc=0.9869|mcc=0.9737\n",
      "precision=0.9869|recall=0.9869|f1=0.9869|aupr=0.9993\n"
     ]
    },
    {
     "name": "stderr",
     "output_type": "stream",
     "text": [
      "100%|██████████| 141/141 [00:04<00:00, 32.87it/s]\n"
     ]
    },
    {
     "name": "stdout",
     "output_type": "stream",
     "text": [
      "Fold-2 ****Test  Epoch-44/50: Loss = 0.355233\n"
     ]
    },
    {
     "name": "stderr",
     "output_type": "stream",
     "text": [
      "\r",
      "  0%|          | 0/562 [00:00<?, ?it/s]"
     ]
    },
    {
     "name": "stdout",
     "output_type": "stream",
     "text": [
      "tn = 65495, fp = 6342, fn = 4008, tp = 67829\n",
      "y_pred: 0 = 69503 | 1 = 74171\n",
      "y_true: 0 = 71837 | 1 = 71837\n",
      "auc=0.9792|sensitivity=0.9442|specificity=0.9117|acc=0.9280|mcc=0.8564\n",
      "precision=0.9145|recall=0.9442|f1=0.9291|aupr=0.9776\n"
     ]
    },
    {
     "name": "stderr",
     "output_type": "stream",
     "text": [
      "100%|██████████| 562/562 [00:46<00:00, 12.20it/s]\n"
     ]
    },
    {
     "name": "stdout",
     "output_type": "stream",
     "text": [
      "Fold-2****Train (Ep avg): Epoch-45/50 | Loss = 0.0343 | Time = 10.0721 sec\n",
      "tn = 283650, fp = 3679, fn = 3725, tp = 283604\n",
      "y_pred: 0 = 287375 | 1 = 287283\n",
      "y_true: 0 = 287329 | 1 = 287329\n",
      "auc=0.9993|sensitivity=0.9870|specificity=0.9872|acc=0.9871|mcc=0.9742\n",
      "precision=0.9872|recall=0.9870|f1=0.9871|aupr=0.9993\n"
     ]
    },
    {
     "name": "stderr",
     "output_type": "stream",
     "text": [
      "100%|██████████| 141/141 [00:04<00:00, 32.89it/s]\n"
     ]
    },
    {
     "name": "stdout",
     "output_type": "stream",
     "text": [
      "Fold-2 ****Test  Epoch-45/50: Loss = 0.376554\n",
      "tn = 65176, fp = 6661, fn = 3697, tp = 68140\n"
     ]
    },
    {
     "name": "stderr",
     "output_type": "stream",
     "text": [
      "  0%|          | 2/562 [00:00<00:45, 12.18it/s]"
     ]
    },
    {
     "name": "stdout",
     "output_type": "stream",
     "text": [
      "y_pred: 0 = 68873 | 1 = 74801\n",
      "y_true: 0 = 71837 | 1 = 71837\n",
      "auc=0.9795|sensitivity=0.9485|specificity=0.9073|acc=0.9279|mcc=0.8565\n",
      "precision=0.9110|recall=0.9485|f1=0.9294|aupr=0.9781\n"
     ]
    },
    {
     "name": "stderr",
     "output_type": "stream",
     "text": [
      "100%|██████████| 562/562 [00:46<00:00, 12.20it/s]\n"
     ]
    },
    {
     "name": "stdout",
     "output_type": "stream",
     "text": [
      "Fold-2****Train (Ep avg): Epoch-46/50 | Loss = 0.0339 | Time = 10.0677 sec\n"
     ]
    },
    {
     "name": "stderr",
     "output_type": "stream",
     "text": [
      "\r",
      "  0%|          | 0/141 [00:00<?, ?it/s]"
     ]
    },
    {
     "name": "stdout",
     "output_type": "stream",
     "text": [
      "tn = 283641, fp = 3688, fn = 3667, tp = 283662\n",
      "y_pred: 0 = 287308 | 1 = 287350\n",
      "y_true: 0 = 287329 | 1 = 287329\n",
      "auc=0.9993|sensitivity=0.9872|specificity=0.9872|acc=0.9872|mcc=0.9744\n",
      "precision=0.9872|recall=0.9872|f1=0.9872|aupr=0.9993\n"
     ]
    },
    {
     "name": "stderr",
     "output_type": "stream",
     "text": [
      "100%|██████████| 141/141 [00:04<00:00, 33.95it/s]\n"
     ]
    },
    {
     "name": "stdout",
     "output_type": "stream",
     "text": [
      "Fold-2 ****Test  Epoch-46/50: Loss = 0.355876\n",
      "tn = 65558, fp = 6279, fn = 4029, tp = 67808\n"
     ]
    },
    {
     "name": "stderr",
     "output_type": "stream",
     "text": [
      "\r",
      "  0%|          | 0/562 [00:00<?, ?it/s]"
     ]
    },
    {
     "name": "stdout",
     "output_type": "stream",
     "text": [
      "y_pred: 0 = 69587 | 1 = 74087\n",
      "y_true: 0 = 71837 | 1 = 71837\n",
      "auc=0.9798|sensitivity=0.9439|specificity=0.9126|acc=0.9283|mcc=0.8569\n",
      "precision=0.9152|recall=0.9439|f1=0.9294|aupr=0.9783\n"
     ]
    },
    {
     "name": "stderr",
     "output_type": "stream",
     "text": [
      "100%|██████████| 562/562 [00:46<00:00, 12.18it/s]\n"
     ]
    },
    {
     "name": "stdout",
     "output_type": "stream",
     "text": [
      "Fold-2****Train (Ep avg): Epoch-47/50 | Loss = 0.0321 | Time = 10.0590 sec\n",
      "tn = 283797, fp = 3532, fn = 3497, tp = 283832\n",
      "y_pred: 0 = 287294 | 1 = 287364\n",
      "y_true: 0 = 287329 | 1 = 287329\n",
      "auc=0.9993|sensitivity=0.9878|specificity=0.9877|acc=0.9878|mcc=0.9755\n",
      "precision=0.9877|recall=0.9878|f1=0.9878|aupr=0.9994\n"
     ]
    },
    {
     "name": "stderr",
     "output_type": "stream",
     "text": [
      "100%|██████████| 141/141 [00:04<00:00, 33.03it/s]\n"
     ]
    },
    {
     "name": "stdout",
     "output_type": "stream",
     "text": [
      "Fold-2 ****Test  Epoch-47/50: Loss = 0.374434\n"
     ]
    },
    {
     "name": "stderr",
     "output_type": "stream",
     "text": [
      "\r",
      "  0%|          | 0/562 [00:00<?, ?it/s]"
     ]
    },
    {
     "name": "stdout",
     "output_type": "stream",
     "text": [
      "tn = 65232, fp = 6605, fn = 3664, tp = 68173\n",
      "y_pred: 0 = 68896 | 1 = 74778\n",
      "y_true: 0 = 71837 | 1 = 71837\n",
      "auc=0.9795|sensitivity=0.9490|specificity=0.9081|acc=0.9285|mcc=0.8578\n",
      "precision=0.9117|recall=0.9490|f1=0.9300|aupr=0.9779\n",
      "****Saving model: Best epoch = 47 | 5metrics_Best_avg = 0.9239\n",
      "*****Path saver:  ./model/pHLAIformer/no_positional_embedding__model_layer1_multihead9_fold2.pkl\n"
     ]
    },
    {
     "name": "stderr",
     "output_type": "stream",
     "text": [
      "100%|██████████| 562/562 [00:46<00:00, 12.17it/s]\n"
     ]
    },
    {
     "name": "stdout",
     "output_type": "stream",
     "text": [
      "Fold-2****Train (Ep avg): Epoch-48/50 | Loss = 0.0320 | Time = 10.0543 sec\n"
     ]
    },
    {
     "name": "stderr",
     "output_type": "stream",
     "text": [
      "\r",
      "  0%|          | 0/141 [00:00<?, ?it/s]"
     ]
    },
    {
     "name": "stdout",
     "output_type": "stream",
     "text": [
      "tn = 283849, fp = 3480, fn = 3482, tp = 283847\n",
      "y_pred: 0 = 287331 | 1 = 287327\n",
      "y_true: 0 = 287329 | 1 = 287329\n",
      "auc=0.9993|sensitivity=0.9879|specificity=0.9879|acc=0.9879|mcc=0.9758\n",
      "precision=0.9879|recall=0.9879|f1=0.9879|aupr=0.9994\n"
     ]
    },
    {
     "name": "stderr",
     "output_type": "stream",
     "text": [
      "100%|██████████| 141/141 [00:04<00:00, 33.30it/s]\n"
     ]
    },
    {
     "name": "stdout",
     "output_type": "stream",
     "text": [
      "Fold-2 ****Test  Epoch-48/50: Loss = 0.354636\n"
     ]
    },
    {
     "name": "stderr",
     "output_type": "stream",
     "text": [
      "\r",
      "  0%|          | 0/562 [00:00<?, ?it/s]"
     ]
    },
    {
     "name": "stdout",
     "output_type": "stream",
     "text": [
      "tn = 65916, fp = 5921, fn = 4206, tp = 67631\n",
      "y_pred: 0 = 70122 | 1 = 73552\n",
      "y_true: 0 = 71837 | 1 = 71837\n",
      "auc=0.9800|sensitivity=0.9415|specificity=0.9176|acc=0.9295|mcc=0.8593\n",
      "precision=0.9195|recall=0.9415|f1=0.9303|aupr=0.9786\n",
      "****Saving model: Best epoch = 48 | 5metrics_Best_avg = 0.9248\n",
      "*****Path saver:  ./model/pHLAIformer/no_positional_embedding__model_layer1_multihead9_fold2.pkl\n"
     ]
    },
    {
     "name": "stderr",
     "output_type": "stream",
     "text": [
      "100%|██████████| 562/562 [00:46<00:00, 12.13it/s]\n"
     ]
    },
    {
     "name": "stdout",
     "output_type": "stream",
     "text": [
      "Fold-2****Train (Ep avg): Epoch-49/50 | Loss = 0.0325 | Time = 10.0649 sec\n"
     ]
    },
    {
     "name": "stderr",
     "output_type": "stream",
     "text": [
      "\r",
      "  0%|          | 0/141 [00:00<?, ?it/s]"
     ]
    },
    {
     "name": "stdout",
     "output_type": "stream",
     "text": [
      "tn = 283798, fp = 3531, fn = 3576, tp = 283753\n",
      "y_pred: 0 = 287374 | 1 = 287284\n",
      "y_true: 0 = 287329 | 1 = 287329\n",
      "auc=0.9993|sensitivity=0.9876|specificity=0.9877|acc=0.9876|mcc=0.9753\n",
      "precision=0.9877|recall=0.9876|f1=0.9876|aupr=0.9993\n"
     ]
    },
    {
     "name": "stderr",
     "output_type": "stream",
     "text": [
      "100%|██████████| 141/141 [00:04<00:00, 33.60it/s]\n"
     ]
    },
    {
     "name": "stdout",
     "output_type": "stream",
     "text": [
      "Fold-2 ****Test  Epoch-49/50: Loss = 0.355761\n",
      "tn = 65958, fp = 5879, fn = 4274, tp = 67563\n"
     ]
    },
    {
     "name": "stderr",
     "output_type": "stream",
     "text": [
      "  0%|          | 2/562 [00:00<00:44, 12.47it/s]"
     ]
    },
    {
     "name": "stdout",
     "output_type": "stream",
     "text": [
      "y_pred: 0 = 70232 | 1 = 73442\n",
      "y_true: 0 = 71837 | 1 = 71837\n",
      "auc=0.9801|sensitivity=0.9405|specificity=0.9182|acc=0.9293|mcc=0.8589\n",
      "precision=0.9200|recall=0.9405|f1=0.9301|aupr=0.9787\n"
     ]
    },
    {
     "name": "stderr",
     "output_type": "stream",
     "text": [
      "100%|██████████| 562/562 [00:46<00:00, 12.19it/s]\n"
     ]
    },
    {
     "name": "stdout",
     "output_type": "stream",
     "text": [
      "Fold-2****Train (Ep avg): Epoch-50/50 | Loss = 0.0314 | Time = 10.0817 sec\n",
      "tn = 283891, fp = 3438, fn = 3382, tp = 283947\n",
      "y_pred: 0 = 287273 | 1 = 287385\n",
      "y_true: 0 = 287329 | 1 = 287329\n",
      "auc=0.9994|sensitivity=0.9882|specificity=0.9880|acc=0.9881|mcc=0.9763\n",
      "precision=0.9880|recall=0.9882|f1=0.9881|aupr=0.9994\n"
     ]
    },
    {
     "name": "stderr",
     "output_type": "stream",
     "text": [
      "100%|██████████| 141/141 [00:04<00:00, 33.28it/s]\n"
     ]
    },
    {
     "name": "stdout",
     "output_type": "stream",
     "text": [
      "Fold-2 ****Test  Epoch-50/50: Loss = 0.368101\n",
      "tn = 65332, fp = 6505, fn = 3597, tp = 68240\n"
     ]
    },
    {
     "name": "stderr",
     "output_type": "stream",
     "text": [
      "  1%|          | 4/562 [00:00<00:16, 34.18it/s]"
     ]
    },
    {
     "name": "stdout",
     "output_type": "stream",
     "text": [
      "y_pred: 0 = 68929 | 1 = 74745\n",
      "y_true: 0 = 71837 | 1 = 71837\n",
      "auc=0.9806|sensitivity=0.9499|specificity=0.9094|acc=0.9297|mcc=0.8601\n",
      "precision=0.9130|recall=0.9499|f1=0.9311|aupr=0.9793\n",
      "****Saving model: Best epoch = 50 | 5metrics_Best_avg = 0.9254\n",
      "*****Path saver:  ./model/pHLAIformer/no_positional_embedding__model_layer1_multihead9_fold2.pkl\n",
      "-----Optimization Finished!-----\n",
      "-----Evaluate Results-----\n",
      "*****Path saver:  ./model/pHLAIformer/no_positional_embedding__model_layer1_multihead9_fold2.pkl\n"
     ]
    },
    {
     "name": "stderr",
     "output_type": "stream",
     "text": [
      "100%|██████████| 562/562 [00:16<00:00, 33.40it/s]\n"
     ]
    },
    {
     "name": "stdout",
     "output_type": "stream",
     "text": [
      "Fold-2 ****Test  Epoch-50/50: Loss = 0.294575\n"
     ]
    },
    {
     "name": "stderr",
     "output_type": "stream",
     "text": [
      "\r",
      "  0%|          | 0/141 [00:00<?, ?it/s]"
     ]
    },
    {
     "name": "stdout",
     "output_type": "stream",
     "text": [
      "tn = 265982, fp = 21347, fn = 14394, tp = 272935\n",
      "y_pred: 0 = 280376 | 1 = 294282\n",
      "y_true: 0 = 287329 | 1 = 287329\n",
      "auc=0.9849|sensitivity=0.9499|specificity=0.9257|acc=0.9378|mcc=0.8759\n",
      "precision=0.9275|recall=0.9499|f1=0.9385|aupr=0.9847\n"
     ]
    },
    {
     "name": "stderr",
     "output_type": "stream",
     "text": [
      "100%|██████████| 141/141 [00:04<00:00, 33.42it/s]\n"
     ]
    },
    {
     "name": "stdout",
     "output_type": "stream",
     "text": [
      "Fold-2 ****Test  Epoch-50/50: Loss = 0.368101\n"
     ]
    },
    {
     "name": "stderr",
     "output_type": "stream",
     "text": [
      "  2%|▏         | 4/168 [00:00<00:04, 33.97it/s]"
     ]
    },
    {
     "name": "stdout",
     "output_type": "stream",
     "text": [
      "tn = 65332, fp = 6505, fn = 3597, tp = 68240\n",
      "y_pred: 0 = 68929 | 1 = 74745\n",
      "y_true: 0 = 71837 | 1 = 71837\n",
      "auc=0.9806|sensitivity=0.9499|specificity=0.9094|acc=0.9297|mcc=0.8601\n",
      "precision=0.9130|recall=0.9499|f1=0.9311|aupr=0.9793\n"
     ]
    },
    {
     "name": "stderr",
     "output_type": "stream",
     "text": [
      "100%|██████████| 168/168 [00:05<00:00, 32.83it/s]\n"
     ]
    },
    {
     "name": "stdout",
     "output_type": "stream",
     "text": [
      "Fold-2 ****Test  Epoch-50/50: Loss = 0.416224\n"
     ]
    },
    {
     "name": "stderr",
     "output_type": "stream",
     "text": [
      "  4%|▍         | 4/102 [00:00<00:02, 35.20it/s]"
     ]
    },
    {
     "name": "stdout",
     "output_type": "stream",
     "text": [
      "tn = 78236, fp = 7326, fn = 5189, tp = 80687\n",
      "y_pred: 0 = 83425 | 1 = 88013\n",
      "y_true: 0 = 85562 | 1 = 85876\n",
      "auc=0.9780|sensitivity=0.9396|specificity=0.9144|acc=0.9270|mcc=0.8543\n",
      "precision=0.9168|recall=0.9396|f1=0.9280|aupr=0.9776\n"
     ]
    },
    {
     "name": "stderr",
     "output_type": "stream",
     "text": [
      "100%|██████████| 102/102 [00:03<00:00, 33.14it/s]\n"
     ]
    },
    {
     "name": "stdout",
     "output_type": "stream",
     "text": [
      "Fold-2 ****Test  Epoch-50/50: Loss = 0.879249\n",
      "tn = 48075, fp = 3806, fn = 8639, tp = 43345\n",
      "y_pred: 0 = 56714 | 1 = 47151\n",
      "y_true: 0 = 51881 | 1 = 51984\n",
      "auc=0.9490|sensitivity=0.8338|specificity=0.9266|acc=0.8802|mcc=0.7637\n",
      "precision=0.9193|recall=0.8338|f1=0.8745|aupr=0.9527\n",
      "Total training time: 503.85 sec\n",
      "=====Fold-3=====\n",
      "-----Generate data loader-----\n"
     ]
    },
    {
     "name": "stderr",
     "output_type": "stream",
     "text": [
      "  0%|          | 2/562 [00:00<00:47, 11.83it/s]"
     ]
    },
    {
     "name": "stdout",
     "output_type": "stream",
     "text": [
      "Fold-3 Label info: Train = Counter({0: 287329, 1: 287329}) | Val = Counter({0: 71837, 1: 71837})\n",
      "-----Compile model-----\n",
      "-----Train-----\n",
      "dir_saver:  ./model/pHLAIformer/\n",
      "path_saver:  ./model/pHLAIformer/no_positional_embedding__model_layer1_multihead9_fold3.pkl\n"
     ]
    },
    {
     "name": "stderr",
     "output_type": "stream",
     "text": [
      "100%|██████████| 562/562 [00:46<00:00, 12.03it/s]\n"
     ]
    },
    {
     "name": "stdout",
     "output_type": "stream",
     "text": [
      "Fold-3****Train (Ep avg): Epoch-1/50 | Loss = 0.2695 | Time = 10.0976 sec\n"
     ]
    },
    {
     "name": "stderr",
     "output_type": "stream",
     "text": [
      "\r",
      "  0%|          | 0/141 [00:00<?, ?it/s]"
     ]
    },
    {
     "name": "stdout",
     "output_type": "stream",
     "text": [
      "tn = 253082, fp = 34247, fn = 30330, tp = 256999\n",
      "y_pred: 0 = 283412 | 1 = 291246\n",
      "y_true: 0 = 287329 | 1 = 287329\n",
      "auc=0.9559|sensitivity=0.8944|specificity=0.8808|acc=0.8876|mcc=0.7753\n",
      "precision=0.8824|recall=0.8944|f1=0.8884|aupr=0.9541\n"
     ]
    },
    {
     "name": "stderr",
     "output_type": "stream",
     "text": [
      "100%|██████████| 141/141 [00:04<00:00, 33.37it/s]\n"
     ]
    },
    {
     "name": "stdout",
     "output_type": "stream",
     "text": [
      "Fold-3 ****Test  Epoch-1/50: Loss = 0.218344\n"
     ]
    },
    {
     "name": "stderr",
     "output_type": "stream",
     "text": [
      "\r",
      "  0%|          | 0/562 [00:00<?, ?it/s]"
     ]
    },
    {
     "name": "stdout",
     "output_type": "stream",
     "text": [
      "tn = 65171, fp = 6666, fn = 5887, tp = 65950\n",
      "y_pred: 0 = 71058 | 1 = 72616\n",
      "y_true: 0 = 71837 | 1 = 71837\n",
      "auc=0.9708|sensitivity=0.9181|specificity=0.9072|acc=0.9126|mcc=0.8253\n",
      "precision=0.9082|recall=0.9181|f1=0.9131|aupr=0.9698\n",
      "****Saving model: Best epoch = 1 | 5metrics_Best_avg = 0.9055\n",
      "*****Path saver:  ./model/pHLAIformer/no_positional_embedding__model_layer1_multihead9_fold3.pkl\n"
     ]
    },
    {
     "name": "stderr",
     "output_type": "stream",
     "text": [
      "100%|██████████| 562/562 [00:46<00:00, 11.99it/s]\n"
     ]
    },
    {
     "name": "stdout",
     "output_type": "stream",
     "text": [
      "Fold-3****Train (Ep avg): Epoch-2/50 | Loss = 0.2101 | Time = 10.1308 sec\n",
      "tn = 262854, fp = 24475, fn = 23305, tp = 264024\n",
      "y_pred: 0 = 286159 | 1 = 288499\n",
      "y_true: 0 = 287329 | 1 = 287329\n",
      "auc=0.9728|sensitivity=0.9189|specificity=0.9148|acc=0.9169|mcc=0.8337\n",
      "precision=0.9152|recall=0.9189|f1=0.9170|aupr=0.9720\n"
     ]
    },
    {
     "name": "stderr",
     "output_type": "stream",
     "text": [
      "100%|██████████| 141/141 [00:04<00:00, 32.39it/s]\n"
     ]
    },
    {
     "name": "stdout",
     "output_type": "stream",
     "text": [
      "Fold-3 ****Test  Epoch-2/50: Loss = 0.203628\n"
     ]
    },
    {
     "name": "stderr",
     "output_type": "stream",
     "text": [
      "\r",
      "  0%|          | 0/562 [00:00<?, ?it/s]"
     ]
    },
    {
     "name": "stdout",
     "output_type": "stream",
     "text": [
      "tn = 65420, fp = 6417, fn = 5105, tp = 66732\n",
      "y_pred: 0 = 70525 | 1 = 73149\n",
      "y_true: 0 = 71837 | 1 = 71837\n",
      "auc=0.9747|sensitivity=0.9289|specificity=0.9107|acc=0.9198|mcc=0.8397\n",
      "precision=0.9123|recall=0.9289|f1=0.9205|aupr=0.9739\n",
      "****Saving model: Best epoch = 2 | 5metrics_Best_avg = 0.9137\n",
      "*****Path saver:  ./model/pHLAIformer/no_positional_embedding__model_layer1_multihead9_fold3.pkl\n"
     ]
    },
    {
     "name": "stderr",
     "output_type": "stream",
     "text": [
      "100%|██████████| 562/562 [00:47<00:00, 11.93it/s]\n"
     ]
    },
    {
     "name": "stdout",
     "output_type": "stream",
     "text": [
      "Fold-3****Train (Ep avg): Epoch-3/50 | Loss = 0.1934 | Time = 10.1274 sec\n"
     ]
    },
    {
     "name": "stderr",
     "output_type": "stream",
     "text": [
      "\r",
      "  0%|          | 0/141 [00:00<?, ?it/s]"
     ]
    },
    {
     "name": "stdout",
     "output_type": "stream",
     "text": [
      "tn = 265159, fp = 22170, fn = 21386, tp = 265943\n",
      "y_pred: 0 = 286545 | 1 = 288113\n",
      "y_true: 0 = 287329 | 1 = 287329\n",
      "auc=0.9769|sensitivity=0.9256|specificity=0.9228|acc=0.9242|mcc=0.8484\n",
      "precision=0.9231|recall=0.9256|f1=0.9243|aupr=0.9764\n"
     ]
    },
    {
     "name": "stderr",
     "output_type": "stream",
     "text": [
      "100%|██████████| 141/141 [00:04<00:00, 32.74it/s]\n"
     ]
    },
    {
     "name": "stdout",
     "output_type": "stream",
     "text": [
      "Fold-3 ****Test  Epoch-3/50: Loss = 0.198385\n"
     ]
    },
    {
     "name": "stderr",
     "output_type": "stream",
     "text": [
      "\r",
      "  0%|          | 0/562 [00:00<?, ?it/s]"
     ]
    },
    {
     "name": "stdout",
     "output_type": "stream",
     "text": [
      "tn = 65689, fp = 6148, fn = 4918, tp = 66919\n",
      "y_pred: 0 = 70607 | 1 = 73067\n",
      "y_true: 0 = 71837 | 1 = 71837\n",
      "auc=0.9762|sensitivity=0.9315|specificity=0.9144|acc=0.9230|mcc=0.8461\n",
      "precision=0.9159|recall=0.9315|f1=0.9236|aupr=0.9753\n",
      "****Saving model: Best epoch = 3 | 5metrics_Best_avg = 0.9172\n",
      "*****Path saver:  ./model/pHLAIformer/no_positional_embedding__model_layer1_multihead9_fold3.pkl\n"
     ]
    },
    {
     "name": "stderr",
     "output_type": "stream",
     "text": [
      "100%|██████████| 562/562 [00:46<00:00, 12.07it/s]\n"
     ]
    },
    {
     "name": "stdout",
     "output_type": "stream",
     "text": [
      "Fold-3****Train (Ep avg): Epoch-4/50 | Loss = 0.1813 | Time = 10.0636 sec\n",
      "tn = 266739, fp = 20590, fn = 20042, tp = 267287\n",
      "y_pred: 0 = 286781 | 1 = 287877\n",
      "y_true: 0 = 287329 | 1 = 287329\n",
      "auc=0.9797|sensitivity=0.9302|specificity=0.9283|acc=0.9293|mcc=0.8586\n",
      "precision=0.9285|recall=0.9302|f1=0.9294|aupr=0.9793\n"
     ]
    },
    {
     "name": "stderr",
     "output_type": "stream",
     "text": [
      "100%|██████████| 141/141 [00:04<00:00, 33.17it/s]\n"
     ]
    },
    {
     "name": "stdout",
     "output_type": "stream",
     "text": [
      "Fold-3 ****Test  Epoch-4/50: Loss = 0.196916\n"
     ]
    },
    {
     "name": "stderr",
     "output_type": "stream",
     "text": [
      "\r",
      "  0%|          | 0/562 [00:00<?, ?it/s]"
     ]
    },
    {
     "name": "stdout",
     "output_type": "stream",
     "text": [
      "tn = 65381, fp = 6456, fn = 4559, tp = 67278\n",
      "y_pred: 0 = 69940 | 1 = 73734\n",
      "y_true: 0 = 71837 | 1 = 71837\n",
      "auc=0.9769|sensitivity=0.9365|specificity=0.9101|acc=0.9233|mcc=0.8470\n",
      "precision=0.9124|recall=0.9365|f1=0.9243|aupr=0.9761\n",
      "****Saving model: Best epoch = 4 | 5metrics_Best_avg = 0.9179\n",
      "*****Path saver:  ./model/pHLAIformer/no_positional_embedding__model_layer1_multihead9_fold3.pkl\n"
     ]
    },
    {
     "name": "stderr",
     "output_type": "stream",
     "text": [
      "100%|██████████| 562/562 [00:46<00:00, 12.14it/s]\n"
     ]
    },
    {
     "name": "stdout",
     "output_type": "stream",
     "text": [
      "Fold-3****Train (Ep avg): Epoch-5/50 | Loss = 0.1703 | Time = 10.0758 sec\n",
      "tn = 267981, fp = 19348, fn = 18858, tp = 268471\n",
      "y_pred: 0 = 286839 | 1 = 287819\n",
      "y_true: 0 = 287329 | 1 = 287329\n",
      "auc=0.9821|sensitivity=0.9344|specificity=0.9327|acc=0.9335|mcc=0.8670\n",
      "precision=0.9328|recall=0.9344|f1=0.9336|aupr=0.9818\n"
     ]
    },
    {
     "name": "stderr",
     "output_type": "stream",
     "text": [
      "100%|██████████| 141/141 [00:04<00:00, 32.49it/s]\n"
     ]
    },
    {
     "name": "stdout",
     "output_type": "stream",
     "text": [
      "Fold-3 ****Test  Epoch-5/50: Loss = 0.200031\n"
     ]
    },
    {
     "name": "stderr",
     "output_type": "stream",
     "text": [
      "\r",
      "  0%|          | 0/562 [00:00<?, ?it/s]"
     ]
    },
    {
     "name": "stdout",
     "output_type": "stream",
     "text": [
      "tn = 64968, fp = 6869, fn = 4144, tp = 67693\n",
      "y_pred: 0 = 69112 | 1 = 74562\n",
      "y_true: 0 = 71837 | 1 = 71837\n",
      "auc=0.9772|sensitivity=0.9423|specificity=0.9044|acc=0.9233|mcc=0.8473\n",
      "precision=0.9079|recall=0.9423|f1=0.9248|aupr=0.9763\n",
      "****Saving model: Best epoch = 5 | 5metrics_Best_avg = 0.9182\n",
      "*****Path saver:  ./model/pHLAIformer/no_positional_embedding__model_layer1_multihead9_fold3.pkl\n"
     ]
    },
    {
     "name": "stderr",
     "output_type": "stream",
     "text": [
      "100%|██████████| 562/562 [00:45<00:00, 12.22it/s]\n"
     ]
    },
    {
     "name": "stdout",
     "output_type": "stream",
     "text": [
      "Fold-3****Train (Ep avg): Epoch-6/50 | Loss = 0.1600 | Time = 10.0467 sec\n"
     ]
    },
    {
     "name": "stderr",
     "output_type": "stream",
     "text": [
      "\r",
      "  0%|          | 0/141 [00:00<?, ?it/s]"
     ]
    },
    {
     "name": "stdout",
     "output_type": "stream",
     "text": [
      "tn = 269297, fp = 18032, fn = 17852, tp = 269477\n",
      "y_pred: 0 = 287149 | 1 = 287509\n",
      "y_true: 0 = 287329 | 1 = 287329\n",
      "auc=0.9841|sensitivity=0.9379|specificity=0.9372|acc=0.9376|mcc=0.8751\n",
      "precision=0.9373|recall=0.9379|f1=0.9376|aupr=0.9841\n"
     ]
    },
    {
     "name": "stderr",
     "output_type": "stream",
     "text": [
      "100%|██████████| 141/141 [00:04<00:00, 33.75it/s]\n"
     ]
    },
    {
     "name": "stdout",
     "output_type": "stream",
     "text": [
      "Fold-3 ****Test  Epoch-6/50: Loss = 0.200534\n"
     ]
    },
    {
     "name": "stderr",
     "output_type": "stream",
     "text": [
      "\r",
      "  0%|          | 0/562 [00:00<?, ?it/s]"
     ]
    },
    {
     "name": "stdout",
     "output_type": "stream",
     "text": [
      "tn = 65839, fp = 5998, fn = 4825, tp = 67012\n",
      "y_pred: 0 = 70664 | 1 = 73010\n",
      "y_true: 0 = 71837 | 1 = 71837\n",
      "auc=0.9777|sensitivity=0.9328|specificity=0.9165|acc=0.9247|mcc=0.8495\n",
      "precision=0.9178|recall=0.9328|f1=0.9253|aupr=0.9766\n",
      "****Saving model: Best epoch = 6 | 5metrics_Best_avg = 0.9193\n",
      "*****Path saver:  ./model/pHLAIformer/no_positional_embedding__model_layer1_multihead9_fold3.pkl\n"
     ]
    },
    {
     "name": "stderr",
     "output_type": "stream",
     "text": [
      "100%|██████████| 562/562 [00:45<00:00, 12.36it/s]\n"
     ]
    },
    {
     "name": "stdout",
     "output_type": "stream",
     "text": [
      "Fold-3****Train (Ep avg): Epoch-7/50 | Loss = 0.1501 | Time = 10.0058 sec\n",
      "tn = 270502, fp = 16827, fn = 16769, tp = 270560\n",
      "y_pred: 0 = 287271 | 1 = 287387\n",
      "y_true: 0 = 287329 | 1 = 287329\n",
      "auc=0.9861|sensitivity=0.9416|specificity=0.9414|acc=0.9415|mcc=0.8831\n",
      "precision=0.9414|recall=0.9416|f1=0.9415|aupr=0.9861\n"
     ]
    },
    {
     "name": "stderr",
     "output_type": "stream",
     "text": [
      "100%|██████████| 141/141 [00:04<00:00, 32.53it/s]\n"
     ]
    },
    {
     "name": "stdout",
     "output_type": "stream",
     "text": [
      "Fold-3 ****Test  Epoch-7/50: Loss = 0.198747\n"
     ]
    },
    {
     "name": "stderr",
     "output_type": "stream",
     "text": [
      "\r",
      "  0%|          | 0/562 [00:00<?, ?it/s]"
     ]
    },
    {
     "name": "stdout",
     "output_type": "stream",
     "text": [
      "tn = 66177, fp = 5660, fn = 4932, tp = 66905\n",
      "y_pred: 0 = 71109 | 1 = 72565\n",
      "y_true: 0 = 71837 | 1 = 71837\n",
      "auc=0.9780|sensitivity=0.9313|specificity=0.9212|acc=0.9263|mcc=0.8526\n",
      "precision=0.9220|recall=0.9313|f1=0.9266|aupr=0.9768\n",
      "****Saving model: Best epoch = 7 | 5metrics_Best_avg = 0.9209\n",
      "*****Path saver:  ./model/pHLAIformer/no_positional_embedding__model_layer1_multihead9_fold3.pkl\n"
     ]
    },
    {
     "name": "stderr",
     "output_type": "stream",
     "text": [
      "100%|██████████| 562/562 [00:45<00:00, 12.38it/s]\n"
     ]
    },
    {
     "name": "stdout",
     "output_type": "stream",
     "text": [
      "Fold-3****Train (Ep avg): Epoch-8/50 | Loss = 0.1405 | Time = 10.0242 sec\n"
     ]
    },
    {
     "name": "stderr",
     "output_type": "stream",
     "text": [
      "\r",
      "  0%|          | 0/141 [00:00<?, ?it/s]"
     ]
    },
    {
     "name": "stdout",
     "output_type": "stream",
     "text": [
      "tn = 271631, fp = 15698, fn = 15549, tp = 271780\n",
      "y_pred: 0 = 287180 | 1 = 287478\n",
      "y_true: 0 = 287329 | 1 = 287329\n",
      "auc=0.9878|sensitivity=0.9459|specificity=0.9454|acc=0.9456|mcc=0.8913\n",
      "precision=0.9454|recall=0.9459|f1=0.9456|aupr=0.9878\n"
     ]
    },
    {
     "name": "stderr",
     "output_type": "stream",
     "text": [
      "100%|██████████| 141/141 [00:04<00:00, 32.09it/s]\n"
     ]
    },
    {
     "name": "stdout",
     "output_type": "stream",
     "text": [
      "Fold-3 ****Test  Epoch-8/50: Loss = 0.210987\n"
     ]
    },
    {
     "name": "stderr",
     "output_type": "stream",
     "text": [
      "\r",
      "  0%|          | 0/562 [00:00<?, ?it/s]"
     ]
    },
    {
     "name": "stdout",
     "output_type": "stream",
     "text": [
      "tn = 65793, fp = 6044, fn = 4744, tp = 67093\n",
      "y_pred: 0 = 70537 | 1 = 73137\n",
      "y_true: 0 = 71837 | 1 = 71837\n",
      "auc=0.9775|sensitivity=0.9340|specificity=0.9159|acc=0.9249|mcc=0.8500\n",
      "precision=0.9174|recall=0.9340|f1=0.9256|aupr=0.9760\n"
     ]
    },
    {
     "name": "stderr",
     "output_type": "stream",
     "text": [
      "100%|██████████| 562/562 [00:45<00:00, 12.37it/s]\n"
     ]
    },
    {
     "name": "stdout",
     "output_type": "stream",
     "text": [
      "Fold-3****Train (Ep avg): Epoch-9/50 | Loss = 0.1313 | Time = 10.0009 sec\n"
     ]
    },
    {
     "name": "stderr",
     "output_type": "stream",
     "text": [
      "\r",
      "  0%|          | 0/141 [00:00<?, ?it/s]"
     ]
    },
    {
     "name": "stdout",
     "output_type": "stream",
     "text": [
      "tn = 272756, fp = 14573, fn = 14747, tp = 272582\n",
      "y_pred: 0 = 287503 | 1 = 287155\n",
      "y_true: 0 = 287329 | 1 = 287329\n",
      "auc=0.9893|sensitivity=0.9487|specificity=0.9493|acc=0.9490|mcc=0.8980\n",
      "precision=0.9493|recall=0.9487|f1=0.9490|aupr=0.9894\n"
     ]
    },
    {
     "name": "stderr",
     "output_type": "stream",
     "text": [
      "100%|██████████| 141/141 [00:04<00:00, 32.96it/s]\n"
     ]
    },
    {
     "name": "stdout",
     "output_type": "stream",
     "text": [
      "Fold-3 ****Test  Epoch-9/50: Loss = 0.220968\n"
     ]
    },
    {
     "name": "stderr",
     "output_type": "stream",
     "text": [
      "\r",
      "  0%|          | 0/562 [00:00<?, ?it/s]"
     ]
    },
    {
     "name": "stdout",
     "output_type": "stream",
     "text": [
      "tn = 65102, fp = 6735, fn = 4322, tp = 67515\n",
      "y_pred: 0 = 69424 | 1 = 74250\n",
      "y_true: 0 = 71837 | 1 = 71837\n",
      "auc=0.9775|sensitivity=0.9398|specificity=0.9062|acc=0.9230|mcc=0.8466\n",
      "precision=0.9093|recall=0.9398|f1=0.9243|aupr=0.9761\n"
     ]
    },
    {
     "name": "stderr",
     "output_type": "stream",
     "text": [
      "100%|██████████| 562/562 [00:46<00:00, 12.16it/s]\n"
     ]
    },
    {
     "name": "stdout",
     "output_type": "stream",
     "text": [
      "Fold-3****Train (Ep avg): Epoch-10/50 | Loss = 0.1235 | Time = 10.0542 sec\n",
      "tn = 273500, fp = 13829, fn = 13981, tp = 273348\n",
      "y_pred: 0 = 287481 | 1 = 287177\n",
      "y_true: 0 = 287329 | 1 = 287329\n",
      "auc=0.9906|sensitivity=0.9513|specificity=0.9519|acc=0.9516|mcc=0.9032\n",
      "precision=0.9518|recall=0.9513|f1=0.9516|aupr=0.9907\n"
     ]
    },
    {
     "name": "stderr",
     "output_type": "stream",
     "text": [
      "100%|██████████| 141/141 [00:04<00:00, 32.54it/s]\n"
     ]
    },
    {
     "name": "stdout",
     "output_type": "stream",
     "text": [
      "Fold-3 ****Test  Epoch-10/50: Loss = 0.225604\n"
     ]
    },
    {
     "name": "stderr",
     "output_type": "stream",
     "text": [
      "  0%|          | 2/562 [00:00<00:45, 12.28it/s]"
     ]
    },
    {
     "name": "stdout",
     "output_type": "stream",
     "text": [
      "tn = 65168, fp = 6669, fn = 4282, tp = 67555\n",
      "y_pred: 0 = 69450 | 1 = 74224\n",
      "y_true: 0 = 71837 | 1 = 71837\n",
      "auc=0.9774|sensitivity=0.9404|specificity=0.9072|acc=0.9238|mcc=0.8480\n",
      "precision=0.9102|recall=0.9404|f1=0.9250|aupr=0.9757\n"
     ]
    },
    {
     "name": "stderr",
     "output_type": "stream",
     "text": [
      "100%|██████████| 562/562 [00:46<00:00, 12.04it/s]\n"
     ]
    },
    {
     "name": "stdout",
     "output_type": "stream",
     "text": [
      "Fold-3****Train (Ep avg): Epoch-11/50 | Loss = 0.1156 | Time = 10.0755 sec\n"
     ]
    },
    {
     "name": "stderr",
     "output_type": "stream",
     "text": [
      "\r",
      "  0%|          | 0/141 [00:00<?, ?it/s]"
     ]
    },
    {
     "name": "stdout",
     "output_type": "stream",
     "text": [
      "tn = 274352, fp = 12977, fn = 13165, tp = 274164\n",
      "y_pred: 0 = 287517 | 1 = 287141\n",
      "y_true: 0 = 287329 | 1 = 287329\n",
      "auc=0.9918|sensitivity=0.9542|specificity=0.9548|acc=0.9545|mcc=0.9090\n",
      "precision=0.9548|recall=0.9542|f1=0.9545|aupr=0.9919\n"
     ]
    },
    {
     "name": "stderr",
     "output_type": "stream",
     "text": [
      "100%|██████████| 141/141 [00:04<00:00, 33.48it/s]\n"
     ]
    },
    {
     "name": "stdout",
     "output_type": "stream",
     "text": [
      "Fold-3 ****Test  Epoch-11/50: Loss = 0.233991\n"
     ]
    },
    {
     "name": "stderr",
     "output_type": "stream",
     "text": [
      "\r",
      "  0%|          | 0/562 [00:00<?, ?it/s]"
     ]
    },
    {
     "name": "stdout",
     "output_type": "stream",
     "text": [
      "tn = 65020, fp = 6817, fn = 4205, tp = 67632\n",
      "y_pred: 0 = 69225 | 1 = 74449\n",
      "y_true: 0 = 71837 | 1 = 71837\n",
      "auc=0.9772|sensitivity=0.9415|specificity=0.9051|acc=0.9233|mcc=0.8471\n",
      "precision=0.9084|recall=0.9415|f1=0.9247|aupr=0.9756\n"
     ]
    },
    {
     "name": "stderr",
     "output_type": "stream",
     "text": [
      "100%|██████████| 562/562 [00:46<00:00, 12.06it/s]\n"
     ]
    },
    {
     "name": "stdout",
     "output_type": "stream",
     "text": [
      "Fold-3****Train (Ep avg): Epoch-12/50 | Loss = 0.1086 | Time = 10.0893 sec\n"
     ]
    },
    {
     "name": "stderr",
     "output_type": "stream",
     "text": [
      "\r",
      "  0%|          | 0/141 [00:00<?, ?it/s]"
     ]
    },
    {
     "name": "stdout",
     "output_type": "stream",
     "text": [
      "tn = 275146, fp = 12183, fn = 12400, tp = 274929\n",
      "y_pred: 0 = 287546 | 1 = 287112\n",
      "y_true: 0 = 287329 | 1 = 287329\n",
      "auc=0.9927|sensitivity=0.9568|specificity=0.9576|acc=0.9572|mcc=0.9144\n",
      "precision=0.9576|recall=0.9568|f1=0.9572|aupr=0.9929\n"
     ]
    },
    {
     "name": "stderr",
     "output_type": "stream",
     "text": [
      "100%|██████████| 141/141 [00:04<00:00, 32.65it/s]\n"
     ]
    },
    {
     "name": "stdout",
     "output_type": "stream",
     "text": [
      "Fold-3 ****Test  Epoch-12/50: Loss = 0.233654\n"
     ]
    },
    {
     "name": "stderr",
     "output_type": "stream",
     "text": [
      "\r",
      "  0%|          | 0/562 [00:00<?, ?it/s]"
     ]
    },
    {
     "name": "stdout",
     "output_type": "stream",
     "text": [
      "tn = 66202, fp = 5635, fn = 5332, tp = 66505\n",
      "y_pred: 0 = 71534 | 1 = 72140\n",
      "y_true: 0 = 71837 | 1 = 71837\n",
      "auc=0.9764|sensitivity=0.9258|specificity=0.9216|acc=0.9237|mcc=0.8473\n",
      "precision=0.9219|recall=0.9258|f1=0.9238|aupr=0.9748\n"
     ]
    },
    {
     "name": "stderr",
     "output_type": "stream",
     "text": [
      "100%|██████████| 562/562 [00:46<00:00, 12.16it/s]\n"
     ]
    },
    {
     "name": "stdout",
     "output_type": "stream",
     "text": [
      "Fold-3****Train (Ep avg): Epoch-13/50 | Loss = 0.1027 | Time = 10.0514 sec\n"
     ]
    },
    {
     "name": "stderr",
     "output_type": "stream",
     "text": [
      "\r",
      "  0%|          | 0/141 [00:00<?, ?it/s]"
     ]
    },
    {
     "name": "stdout",
     "output_type": "stream",
     "text": [
      "tn = 275678, fp = 11651, fn = 11809, tp = 275520\n",
      "y_pred: 0 = 287487 | 1 = 287171\n",
      "y_true: 0 = 287329 | 1 = 287329\n",
      "auc=0.9935|sensitivity=0.9589|specificity=0.9595|acc=0.9592|mcc=0.9184\n",
      "precision=0.9594|recall=0.9589|f1=0.9592|aupr=0.9936\n"
     ]
    },
    {
     "name": "stderr",
     "output_type": "stream",
     "text": [
      "100%|██████████| 141/141 [00:04<00:00, 32.62it/s]\n"
     ]
    },
    {
     "name": "stdout",
     "output_type": "stream",
     "text": [
      "Fold-3 ****Test  Epoch-13/50: Loss = 0.257169\n"
     ]
    },
    {
     "name": "stderr",
     "output_type": "stream",
     "text": [
      "\r",
      "  0%|          | 0/562 [00:00<?, ?it/s]"
     ]
    },
    {
     "name": "stdout",
     "output_type": "stream",
     "text": [
      "tn = 65221, fp = 6616, fn = 4330, tp = 67507\n",
      "y_pred: 0 = 69551 | 1 = 74123\n",
      "y_true: 0 = 71837 | 1 = 71837\n",
      "auc=0.9770|sensitivity=0.9397|specificity=0.9079|acc=0.9238|mcc=0.8481\n",
      "precision=0.9107|recall=0.9397|f1=0.9250|aupr=0.9756\n"
     ]
    },
    {
     "name": "stderr",
     "output_type": "stream",
     "text": [
      "100%|██████████| 562/562 [00:46<00:00, 12.08it/s]\n"
     ]
    },
    {
     "name": "stdout",
     "output_type": "stream",
     "text": [
      "Fold-3****Train (Ep avg): Epoch-14/50 | Loss = 0.0963 | Time = 10.0645 sec\n",
      "tn = 276424, fp = 10905, fn = 11060, tp = 276269\n",
      "y_pred: 0 = 287484 | 1 = 287174\n",
      "y_true: 0 = 287329 | 1 = 287329\n",
      "auc=0.9943|sensitivity=0.9615|specificity=0.9620|acc=0.9618|mcc=0.9236\n",
      "precision=0.9620|recall=0.9615|f1=0.9618|aupr=0.9944\n"
     ]
    },
    {
     "name": "stderr",
     "output_type": "stream",
     "text": [
      "100%|██████████| 141/141 [00:04<00:00, 32.72it/s]\n"
     ]
    },
    {
     "name": "stdout",
     "output_type": "stream",
     "text": [
      "Fold-3 ****Test  Epoch-14/50: Loss = 0.270590\n"
     ]
    },
    {
     "name": "stderr",
     "output_type": "stream",
     "text": [
      "\r",
      "  0%|          | 0/562 [00:00<?, ?it/s]"
     ]
    },
    {
     "name": "stdout",
     "output_type": "stream",
     "text": [
      "tn = 65508, fp = 6329, fn = 4887, tp = 66950\n",
      "y_pred: 0 = 70395 | 1 = 73279\n",
      "y_true: 0 = 71837 | 1 = 71837\n",
      "auc=0.9762|sensitivity=0.9320|specificity=0.9119|acc=0.9219|mcc=0.8440\n",
      "precision=0.9136|recall=0.9320|f1=0.9227|aupr=0.9745\n"
     ]
    },
    {
     "name": "stderr",
     "output_type": "stream",
     "text": [
      "100%|██████████| 562/562 [00:45<00:00, 12.27it/s]\n"
     ]
    },
    {
     "name": "stdout",
     "output_type": "stream",
     "text": [
      "Fold-3****Train (Ep avg): Epoch-15/50 | Loss = 0.0914 | Time = 10.0070 sec\n",
      "tn = 276959, fp = 10370, fn = 10566, tp = 276763\n",
      "y_pred: 0 = 287525 | 1 = 287133\n",
      "y_true: 0 = 287329 | 1 = 287329\n",
      "auc=0.9948|sensitivity=0.9632|specificity=0.9639|acc=0.9636|mcc=0.9271\n",
      "precision=0.9639|recall=0.9632|f1=0.9636|aupr=0.9950\n"
     ]
    },
    {
     "name": "stderr",
     "output_type": "stream",
     "text": [
      "100%|██████████| 141/141 [00:04<00:00, 33.03it/s]\n"
     ]
    },
    {
     "name": "stdout",
     "output_type": "stream",
     "text": [
      "Fold-3 ****Test  Epoch-15/50: Loss = 0.273994\n"
     ]
    },
    {
     "name": "stderr",
     "output_type": "stream",
     "text": [
      "  0%|          | 2/562 [00:00<00:44, 12.57it/s]"
     ]
    },
    {
     "name": "stdout",
     "output_type": "stream",
     "text": [
      "tn = 64531, fp = 7306, fn = 3857, tp = 67980\n",
      "y_pred: 0 = 68388 | 1 = 75286\n",
      "y_true: 0 = 71837 | 1 = 71837\n",
      "auc=0.9774|sensitivity=0.9463|specificity=0.8983|acc=0.9223|mcc=0.8456\n",
      "precision=0.9030|recall=0.9463|f1=0.9241|aupr=0.9759\n"
     ]
    },
    {
     "name": "stderr",
     "output_type": "stream",
     "text": [
      "100%|██████████| 562/562 [00:45<00:00, 12.37it/s]\n"
     ]
    },
    {
     "name": "stdout",
     "output_type": "stream",
     "text": [
      "Fold-3****Train (Ep avg): Epoch-16/50 | Loss = 0.0868 | Time = 9.9948 sec\n"
     ]
    },
    {
     "name": "stderr",
     "output_type": "stream",
     "text": [
      "\r",
      "  0%|          | 0/141 [00:00<?, ?it/s]"
     ]
    },
    {
     "name": "stdout",
     "output_type": "stream",
     "text": [
      "tn = 277369, fp = 9960, fn = 9979, tp = 277350\n",
      "y_pred: 0 = 287348 | 1 = 287310\n",
      "y_true: 0 = 287329 | 1 = 287329\n",
      "auc=0.9954|sensitivity=0.9653|specificity=0.9653|acc=0.9653|mcc=0.9306\n",
      "precision=0.9653|recall=0.9653|f1=0.9653|aupr=0.9955\n"
     ]
    },
    {
     "name": "stderr",
     "output_type": "stream",
     "text": [
      "100%|██████████| 141/141 [00:04<00:00, 33.16it/s]\n"
     ]
    },
    {
     "name": "stdout",
     "output_type": "stream",
     "text": [
      "Fold-3 ****Test  Epoch-16/50: Loss = 0.264451\n"
     ]
    },
    {
     "name": "stderr",
     "output_type": "stream",
     "text": [
      "\r",
      "  0%|          | 0/562 [00:00<?, ?it/s]"
     ]
    },
    {
     "name": "stdout",
     "output_type": "stream",
     "text": [
      "tn = 65573, fp = 6264, fn = 4661, tp = 67176\n",
      "y_pred: 0 = 70234 | 1 = 73440\n",
      "y_true: 0 = 71837 | 1 = 71837\n",
      "auc=0.9773|sensitivity=0.9351|specificity=0.9128|acc=0.9240|mcc=0.8481\n",
      "precision=0.9147|recall=0.9351|f1=0.9248|aupr=0.9757\n"
     ]
    },
    {
     "name": "stderr",
     "output_type": "stream",
     "text": [
      "100%|██████████| 562/562 [00:45<00:00, 12.43it/s]\n"
     ]
    },
    {
     "name": "stdout",
     "output_type": "stream",
     "text": [
      "Fold-3****Train (Ep avg): Epoch-17/50 | Loss = 0.0825 | Time = 9.9654 sec\n",
      "tn = 277919, fp = 9410, fn = 9676, tp = 277653\n",
      "y_pred: 0 = 287595 | 1 = 287063\n",
      "y_true: 0 = 287329 | 1 = 287329\n",
      "auc=0.9958|sensitivity=0.9663|specificity=0.9673|acc=0.9668|mcc=0.9336\n",
      "precision=0.9672|recall=0.9663|f1=0.9668|aupr=0.9959\n"
     ]
    },
    {
     "name": "stderr",
     "output_type": "stream",
     "text": [
      "100%|██████████| 141/141 [00:04<00:00, 32.55it/s]\n"
     ]
    },
    {
     "name": "stdout",
     "output_type": "stream",
     "text": [
      "Fold-3 ****Test  Epoch-17/50: Loss = 0.273724\n",
      "tn = 64889, fp = 6948, fn = 4053, tp = 67784\n"
     ]
    },
    {
     "name": "stderr",
     "output_type": "stream",
     "text": [
      "  0%|          | 2/562 [00:00<00:45, 12.22it/s]"
     ]
    },
    {
     "name": "stdout",
     "output_type": "stream",
     "text": [
      "y_pred: 0 = 68942 | 1 = 74732\n",
      "y_true: 0 = 71837 | 1 = 71837\n",
      "auc=0.9776|sensitivity=0.9436|specificity=0.9033|acc=0.9234|mcc=0.8476\n",
      "precision=0.9070|recall=0.9436|f1=0.9249|aupr=0.9762\n"
     ]
    },
    {
     "name": "stderr",
     "output_type": "stream",
     "text": [
      "100%|██████████| 562/562 [00:45<00:00, 12.44it/s]\n"
     ]
    },
    {
     "name": "stdout",
     "output_type": "stream",
     "text": [
      "Fold-3****Train (Ep avg): Epoch-18/50 | Loss = 0.0787 | Time = 9.9777 sec\n",
      "tn = 278232, fp = 9097, fn = 9211, tp = 278118\n",
      "y_pred: 0 = 287443 | 1 = 287215\n",
      "y_true: 0 = 287329 | 1 = 287329\n",
      "auc=0.9962|sensitivity=0.9679|specificity=0.9683|acc=0.9681|mcc=0.9363\n",
      "precision=0.9683|recall=0.9679|f1=0.9681|aupr=0.9963\n"
     ]
    },
    {
     "name": "stderr",
     "output_type": "stream",
     "text": [
      "100%|██████████| 141/141 [00:04<00:00, 32.89it/s]\n"
     ]
    },
    {
     "name": "stdout",
     "output_type": "stream",
     "text": [
      "Fold-3 ****Test  Epoch-18/50: Loss = 0.292355\n"
     ]
    },
    {
     "name": "stderr",
     "output_type": "stream",
     "text": [
      "\r",
      "  0%|          | 0/562 [00:00<?, ?it/s]"
     ]
    },
    {
     "name": "stdout",
     "output_type": "stream",
     "text": [
      "tn = 64078, fp = 7759, fn = 3812, tp = 68025\n",
      "y_pred: 0 = 67890 | 1 = 75784\n",
      "y_true: 0 = 71837 | 1 = 71837\n",
      "auc=0.9767|sensitivity=0.9469|specificity=0.8920|acc=0.9195|mcc=0.8402\n",
      "precision=0.8976|recall=0.9469|f1=0.9216|aupr=0.9754\n"
     ]
    },
    {
     "name": "stderr",
     "output_type": "stream",
     "text": [
      "100%|██████████| 562/562 [00:45<00:00, 12.40it/s]\n"
     ]
    },
    {
     "name": "stdout",
     "output_type": "stream",
     "text": [
      "Fold-3****Train (Ep avg): Epoch-19/50 | Loss = 0.0727 | Time = 9.9897 sec\n",
      "tn = 279028, fp = 8301, fn = 8335, tp = 278994\n",
      "y_pred: 0 = 287363 | 1 = 287295\n",
      "y_true: 0 = 287329 | 1 = 287329\n",
      "auc=0.9968|sensitivity=0.9710|specificity=0.9711|acc=0.9711|mcc=0.9421\n",
      "precision=0.9711|recall=0.9710|f1=0.9710|aupr=0.9968\n"
     ]
    },
    {
     "name": "stderr",
     "output_type": "stream",
     "text": [
      "100%|██████████| 141/141 [00:04<00:00, 32.35it/s]\n"
     ]
    },
    {
     "name": "stdout",
     "output_type": "stream",
     "text": [
      "Fold-3 ****Test  Epoch-19/50: Loss = 0.292361\n"
     ]
    },
    {
     "name": "stderr",
     "output_type": "stream",
     "text": [
      "\r",
      "  0%|          | 0/562 [00:00<?, ?it/s]"
     ]
    },
    {
     "name": "stdout",
     "output_type": "stream",
     "text": [
      "tn = 65100, fp = 6737, fn = 4155, tp = 67682\n",
      "y_pred: 0 = 69255 | 1 = 74419\n",
      "y_true: 0 = 71837 | 1 = 71837\n",
      "auc=0.9783|sensitivity=0.9422|specificity=0.9062|acc=0.9242|mcc=0.8489\n",
      "precision=0.9095|recall=0.9422|f1=0.9255|aupr=0.9771\n"
     ]
    },
    {
     "name": "stderr",
     "output_type": "stream",
     "text": [
      "100%|██████████| 562/562 [00:46<00:00, 12.19it/s]\n"
     ]
    },
    {
     "name": "stdout",
     "output_type": "stream",
     "text": [
      "Fold-3****Train (Ep avg): Epoch-20/50 | Loss = 0.0698 | Time = 10.0476 sec\n",
      "tn = 279375, fp = 7954, fn = 8154, tp = 279175\n",
      "y_pred: 0 = 287529 | 1 = 287129\n",
      "y_true: 0 = 287329 | 1 = 287329\n",
      "auc=0.9970|sensitivity=0.9716|specificity=0.9723|acc=0.9720|mcc=0.9439\n",
      "precision=0.9723|recall=0.9716|f1=0.9720|aupr=0.9971\n"
     ]
    },
    {
     "name": "stderr",
     "output_type": "stream",
     "text": [
      "100%|██████████| 141/141 [00:04<00:00, 33.21it/s]\n"
     ]
    },
    {
     "name": "stdout",
     "output_type": "stream",
     "text": [
      "Fold-3 ****Test  Epoch-20/50: Loss = 0.310085\n",
      "tn = 64132, fp = 7705, fn = 3691, tp = 68146\n"
     ]
    },
    {
     "name": "stderr",
     "output_type": "stream",
     "text": [
      "  0%|          | 2/562 [00:00<00:45, 12.42it/s]"
     ]
    },
    {
     "name": "stdout",
     "output_type": "stream",
     "text": [
      "y_pred: 0 = 67823 | 1 = 75851\n",
      "y_true: 0 = 71837 | 1 = 71837\n",
      "auc=0.9775|sensitivity=0.9486|specificity=0.8927|acc=0.9207|mcc=0.8427\n",
      "precision=0.8984|recall=0.9486|f1=0.9228|aupr=0.9763\n"
     ]
    },
    {
     "name": "stderr",
     "output_type": "stream",
     "text": [
      "100%|██████████| 562/562 [00:46<00:00, 12.09it/s]\n"
     ]
    },
    {
     "name": "stdout",
     "output_type": "stream",
     "text": [
      "Fold-3****Train (Ep avg): Epoch-21/50 | Loss = 0.0664 | Time = 10.0810 sec\n",
      "tn = 279723, fp = 7606, fn = 7636, tp = 279693\n",
      "y_pred: 0 = 287359 | 1 = 287299\n",
      "y_true: 0 = 287329 | 1 = 287329\n",
      "auc=0.9973|sensitivity=0.9734|specificity=0.9735|acc=0.9735|mcc=0.9470\n",
      "precision=0.9735|recall=0.9734|f1=0.9735|aupr=0.9974\n"
     ]
    },
    {
     "name": "stderr",
     "output_type": "stream",
     "text": [
      "100%|██████████| 141/141 [00:04<00:00, 32.87it/s]\n"
     ]
    },
    {
     "name": "stdout",
     "output_type": "stream",
     "text": [
      "Fold-3 ****Test  Epoch-21/50: Loss = 0.299892\n"
     ]
    },
    {
     "name": "stderr",
     "output_type": "stream",
     "text": [
      "  0%|          | 2/562 [00:00<00:45, 12.27it/s]"
     ]
    },
    {
     "name": "stdout",
     "output_type": "stream",
     "text": [
      "tn = 65037, fp = 6800, fn = 4117, tp = 67720\n",
      "y_pred: 0 = 69154 | 1 = 74520\n",
      "y_true: 0 = 71837 | 1 = 71837\n",
      "auc=0.9781|sensitivity=0.9427|specificity=0.9053|acc=0.9240|mcc=0.8486\n",
      "precision=0.9087|recall=0.9427|f1=0.9254|aupr=0.9769\n"
     ]
    },
    {
     "name": "stderr",
     "output_type": "stream",
     "text": [
      "100%|██████████| 562/562 [00:46<00:00, 12.07it/s]\n"
     ]
    },
    {
     "name": "stdout",
     "output_type": "stream",
     "text": [
      "Fold-3****Train (Ep avg): Epoch-22/50 | Loss = 0.0631 | Time = 10.0940 sec\n",
      "tn = 280106, fp = 7223, fn = 7283, tp = 280046\n",
      "y_pred: 0 = 287389 | 1 = 287269\n",
      "y_true: 0 = 287329 | 1 = 287329\n",
      "auc=0.9976|sensitivity=0.9747|specificity=0.9749|acc=0.9748|mcc=0.9495\n",
      "precision=0.9749|recall=0.9747|f1=0.9748|aupr=0.9976\n"
     ]
    },
    {
     "name": "stderr",
     "output_type": "stream",
     "text": [
      "100%|██████████| 141/141 [00:04<00:00, 32.39it/s]\n"
     ]
    },
    {
     "name": "stdout",
     "output_type": "stream",
     "text": [
      "Fold-3 ****Test  Epoch-22/50: Loss = 0.285844\n"
     ]
    },
    {
     "name": "stderr",
     "output_type": "stream",
     "text": [
      "  0%|          | 2/562 [00:00<00:45, 12.24it/s]"
     ]
    },
    {
     "name": "stdout",
     "output_type": "stream",
     "text": [
      "tn = 65770, fp = 6067, fn = 4795, tp = 67042\n",
      "y_pred: 0 = 70565 | 1 = 73109\n",
      "y_true: 0 = 71837 | 1 = 71837\n",
      "auc=0.9779|sensitivity=0.9333|specificity=0.9155|acc=0.9244|mcc=0.8489\n",
      "precision=0.9170|recall=0.9333|f1=0.9251|aupr=0.9766\n"
     ]
    },
    {
     "name": "stderr",
     "output_type": "stream",
     "text": [
      "100%|██████████| 562/562 [00:46<00:00, 12.08it/s]\n"
     ]
    },
    {
     "name": "stdout",
     "output_type": "stream",
     "text": [
      "Fold-3****Train (Ep avg): Epoch-23/50 | Loss = 0.0600 | Time = 10.0793 sec\n",
      "tn = 280565, fp = 6764, fn = 6983, tp = 280346\n",
      "y_pred: 0 = 287548 | 1 = 287110\n",
      "y_true: 0 = 287329 | 1 = 287329\n",
      "auc=0.9978|sensitivity=0.9757|specificity=0.9765|acc=0.9761|mcc=0.9522\n",
      "precision=0.9764|recall=0.9757|f1=0.9761|aupr=0.9978\n"
     ]
    },
    {
     "name": "stderr",
     "output_type": "stream",
     "text": [
      "100%|██████████| 141/141 [00:04<00:00, 32.15it/s]\n"
     ]
    },
    {
     "name": "stdout",
     "output_type": "stream",
     "text": [
      "Fold-3 ****Test  Epoch-23/50: Loss = 0.308011\n"
     ]
    },
    {
     "name": "stderr",
     "output_type": "stream",
     "text": [
      "  0%|          | 2/562 [00:00<00:45, 12.21it/s]"
     ]
    },
    {
     "name": "stdout",
     "output_type": "stream",
     "text": [
      "tn = 65624, fp = 6213, fn = 4606, tp = 67231\n",
      "y_pred: 0 = 70230 | 1 = 73444\n",
      "y_true: 0 = 71837 | 1 = 71837\n",
      "auc=0.9781|sensitivity=0.9359|specificity=0.9135|acc=0.9247|mcc=0.8496\n",
      "precision=0.9154|recall=0.9359|f1=0.9255|aupr=0.9770\n"
     ]
    },
    {
     "name": "stderr",
     "output_type": "stream",
     "text": [
      "100%|██████████| 562/562 [00:46<00:00, 11.97it/s]\n"
     ]
    },
    {
     "name": "stdout",
     "output_type": "stream",
     "text": [
      "Fold-3****Train (Ep avg): Epoch-24/50 | Loss = 0.0585 | Time = 10.1098 sec\n",
      "tn = 280674, fp = 6655, fn = 6719, tp = 280610\n",
      "y_pred: 0 = 287393 | 1 = 287265\n",
      "y_true: 0 = 287329 | 1 = 287329\n",
      "auc=0.9979|sensitivity=0.9766|specificity=0.9768|acc=0.9767|mcc=0.9535\n",
      "precision=0.9768|recall=0.9766|f1=0.9767|aupr=0.9979\n"
     ]
    },
    {
     "name": "stderr",
     "output_type": "stream",
     "text": [
      "100%|██████████| 141/141 [00:04<00:00, 32.77it/s]\n"
     ]
    },
    {
     "name": "stdout",
     "output_type": "stream",
     "text": [
      "Fold-3 ****Test  Epoch-24/50: Loss = 0.314798\n"
     ]
    },
    {
     "name": "stderr",
     "output_type": "stream",
     "text": [
      "  0%|          | 2/562 [00:00<00:46, 12.16it/s]"
     ]
    },
    {
     "name": "stdout",
     "output_type": "stream",
     "text": [
      "tn = 64887, fp = 6950, fn = 3812, tp = 68025\n",
      "y_pred: 0 = 68699 | 1 = 74975\n",
      "y_true: 0 = 71837 | 1 = 71837\n",
      "auc=0.9789|sensitivity=0.9469|specificity=0.9033|acc=0.9251|mcc=0.8510\n",
      "precision=0.9073|recall=0.9469|f1=0.9267|aupr=0.9777\n"
     ]
    },
    {
     "name": "stderr",
     "output_type": "stream",
     "text": [
      "100%|██████████| 562/562 [00:46<00:00, 12.09it/s]\n"
     ]
    },
    {
     "name": "stdout",
     "output_type": "stream",
     "text": [
      "Fold-3****Train (Ep avg): Epoch-25/50 | Loss = 0.0561 | Time = 10.0706 sec\n",
      "tn = 280938, fp = 6391, fn = 6501, tp = 280828\n",
      "y_pred: 0 = 287439 | 1 = 287219\n",
      "y_true: 0 = 287329 | 1 = 287329\n",
      "auc=0.9981|sensitivity=0.9774|specificity=0.9778|acc=0.9776|mcc=0.9551\n",
      "precision=0.9777|recall=0.9774|f1=0.9776|aupr=0.9981\n"
     ]
    },
    {
     "name": "stderr",
     "output_type": "stream",
     "text": [
      "100%|██████████| 141/141 [00:04<00:00, 32.05it/s]\n"
     ]
    },
    {
     "name": "stdout",
     "output_type": "stream",
     "text": [
      "Fold-3 ****Test  Epoch-25/50: Loss = 0.318487\n"
     ]
    },
    {
     "name": "stderr",
     "output_type": "stream",
     "text": [
      "\r",
      "  0%|          | 0/562 [00:00<?, ?it/s]"
     ]
    },
    {
     "name": "stdout",
     "output_type": "stream",
     "text": [
      "tn = 64729, fp = 7108, fn = 3838, tp = 67999\n",
      "y_pred: 0 = 68567 | 1 = 75107\n",
      "y_true: 0 = 71837 | 1 = 71837\n",
      "auc=0.9785|sensitivity=0.9466|specificity=0.9011|acc=0.9238|mcc=0.8485\n",
      "precision=0.9054|recall=0.9466|f1=0.9255|aupr=0.9771\n"
     ]
    },
    {
     "name": "stderr",
     "output_type": "stream",
     "text": [
      "100%|██████████| 562/562 [00:46<00:00, 12.11it/s]\n"
     ]
    },
    {
     "name": "stdout",
     "output_type": "stream",
     "text": [
      "Fold-3****Train (Ep avg): Epoch-26/50 | Loss = 0.0541 | Time = 10.0590 sec\n"
     ]
    },
    {
     "name": "stderr",
     "output_type": "stream",
     "text": [
      "\r",
      "  0%|          | 0/141 [00:00<?, ?it/s]"
     ]
    },
    {
     "name": "stdout",
     "output_type": "stream",
     "text": [
      "tn = 281167, fp = 6162, fn = 6178, tp = 281151\n",
      "y_pred: 0 = 287345 | 1 = 287313\n",
      "y_true: 0 = 287329 | 1 = 287329\n",
      "auc=0.9982|sensitivity=0.9785|specificity=0.9786|acc=0.9785|mcc=0.9571\n",
      "precision=0.9786|recall=0.9785|f1=0.9785|aupr=0.9982\n"
     ]
    },
    {
     "name": "stderr",
     "output_type": "stream",
     "text": [
      "100%|██████████| 141/141 [00:04<00:00, 32.67it/s]\n"
     ]
    },
    {
     "name": "stdout",
     "output_type": "stream",
     "text": [
      "Fold-3 ****Test  Epoch-26/50: Loss = 0.309455\n"
     ]
    },
    {
     "name": "stderr",
     "output_type": "stream",
     "text": [
      "\r",
      "  0%|          | 0/562 [00:00<?, ?it/s]"
     ]
    },
    {
     "name": "stdout",
     "output_type": "stream",
     "text": [
      "tn = 65331, fp = 6506, fn = 4014, tp = 67823\n",
      "y_pred: 0 = 69345 | 1 = 74329\n",
      "y_true: 0 = 71837 | 1 = 71837\n",
      "auc=0.9791|sensitivity=0.9441|specificity=0.9094|acc=0.9268|mcc=0.8541\n",
      "precision=0.9125|recall=0.9441|f1=0.9280|aupr=0.9778\n",
      "****Saving model: Best epoch = 26 | 5metrics_Best_avg = 0.9220\n",
      "*****Path saver:  ./model/pHLAIformer/no_positional_embedding__model_layer1_multihead9_fold3.pkl\n"
     ]
    },
    {
     "name": "stderr",
     "output_type": "stream",
     "text": [
      "100%|██████████| 562/562 [00:46<00:00, 12.13it/s]\n"
     ]
    },
    {
     "name": "stdout",
     "output_type": "stream",
     "text": [
      "Fold-3****Train (Ep avg): Epoch-27/50 | Loss = 0.0521 | Time = 10.0311 sec\n",
      "tn = 281374, fp = 5955, fn = 5964, tp = 281365\n",
      "y_pred: 0 = 287338 | 1 = 287320\n",
      "y_true: 0 = 287329 | 1 = 287329\n",
      "auc=0.9983|sensitivity=0.9792|specificity=0.9793|acc=0.9793|mcc=0.9585\n",
      "precision=0.9793|recall=0.9792|f1=0.9793|aupr=0.9984\n"
     ]
    },
    {
     "name": "stderr",
     "output_type": "stream",
     "text": [
      "100%|██████████| 141/141 [00:04<00:00, 32.66it/s]\n"
     ]
    },
    {
     "name": "stdout",
     "output_type": "stream",
     "text": [
      "Fold-3 ****Test  Epoch-27/50: Loss = 0.306995\n",
      "tn = 65725, fp = 6112, fn = 4320, tp = 67517\n"
     ]
    },
    {
     "name": "stderr",
     "output_type": "stream",
     "text": [
      "  0%|          | 2/562 [00:00<00:45, 12.29it/s]"
     ]
    },
    {
     "name": "stdout",
     "output_type": "stream",
     "text": [
      "y_pred: 0 = 70045 | 1 = 73629\n",
      "y_true: 0 = 71837 | 1 = 71837\n",
      "auc=0.9791|sensitivity=0.9399|specificity=0.9149|acc=0.9274|mcc=0.8550\n",
      "precision=0.9170|recall=0.9399|f1=0.9283|aupr=0.9775\n",
      "****Saving model: Best epoch = 27 | 5metrics_Best_avg = 0.9224\n",
      "*****Path saver:  ./model/pHLAIformer/no_positional_embedding__model_layer1_multihead9_fold3.pkl\n"
     ]
    },
    {
     "name": "stderr",
     "output_type": "stream",
     "text": [
      "100%|██████████| 562/562 [00:46<00:00, 12.09it/s]\n"
     ]
    },
    {
     "name": "stdout",
     "output_type": "stream",
     "text": [
      "Fold-3****Train (Ep avg): Epoch-28/50 | Loss = 0.0507 | Time = 10.0349 sec\n",
      "tn = 281584, fp = 5745, fn = 5810, tp = 281519\n",
      "y_pred: 0 = 287394 | 1 = 287264\n",
      "y_true: 0 = 287329 | 1 = 287329\n",
      "auc=0.9984|sensitivity=0.9798|specificity=0.9800|acc=0.9799|mcc=0.9598\n",
      "precision=0.9800|recall=0.9798|f1=0.9799|aupr=0.9984\n"
     ]
    },
    {
     "name": "stderr",
     "output_type": "stream",
     "text": [
      "100%|██████████| 141/141 [00:04<00:00, 33.49it/s]\n"
     ]
    },
    {
     "name": "stdout",
     "output_type": "stream",
     "text": [
      "Fold-3 ****Test  Epoch-28/50: Loss = 0.311431\n"
     ]
    },
    {
     "name": "stderr",
     "output_type": "stream",
     "text": [
      "\r",
      "  0%|          | 0/562 [00:00<?, ?it/s]"
     ]
    },
    {
     "name": "stdout",
     "output_type": "stream",
     "text": [
      "tn = 66006, fp = 5831, fn = 4637, tp = 67200\n",
      "y_pred: 0 = 70643 | 1 = 73031\n",
      "y_true: 0 = 71837 | 1 = 71837\n",
      "auc=0.9787|sensitivity=0.9355|specificity=0.9188|acc=0.9271|mcc=0.8544\n",
      "precision=0.9202|recall=0.9355|f1=0.9277|aupr=0.9773\n"
     ]
    },
    {
     "name": "stderr",
     "output_type": "stream",
     "text": [
      "100%|██████████| 562/562 [00:46<00:00, 12.08it/s]\n"
     ]
    },
    {
     "name": "stdout",
     "output_type": "stream",
     "text": [
      "Fold-3****Train (Ep avg): Epoch-29/50 | Loss = 0.0498 | Time = 10.0601 sec\n",
      "tn = 281685, fp = 5644, fn = 5584, tp = 281745\n",
      "y_pred: 0 = 287269 | 1 = 287389\n",
      "y_true: 0 = 287329 | 1 = 287329\n",
      "auc=0.9985|sensitivity=0.9806|specificity=0.9804|acc=0.9805|mcc=0.9609\n",
      "precision=0.9804|recall=0.9806|f1=0.9805|aupr=0.9985\n"
     ]
    },
    {
     "name": "stderr",
     "output_type": "stream",
     "text": [
      "100%|██████████| 141/141 [00:04<00:00, 32.30it/s]\n"
     ]
    },
    {
     "name": "stdout",
     "output_type": "stream",
     "text": [
      "Fold-3 ****Test  Epoch-29/50: Loss = 0.313848\n"
     ]
    },
    {
     "name": "stderr",
     "output_type": "stream",
     "text": [
      "\r",
      "  0%|          | 0/562 [00:00<?, ?it/s]"
     ]
    },
    {
     "name": "stdout",
     "output_type": "stream",
     "text": [
      "tn = 66791, fp = 5046, fn = 5367, tp = 66470\n",
      "y_pred: 0 = 72158 | 1 = 71516\n",
      "y_true: 0 = 71837 | 1 = 71837\n",
      "auc=0.9794|sensitivity=0.9253|specificity=0.9298|acc=0.9275|mcc=0.8551\n",
      "precision=0.9294|recall=0.9253|f1=0.9274|aupr=0.9781\n"
     ]
    },
    {
     "name": "stderr",
     "output_type": "stream",
     "text": [
      "100%|██████████| 562/562 [00:46<00:00, 12.09it/s]\n"
     ]
    },
    {
     "name": "stdout",
     "output_type": "stream",
     "text": [
      "Fold-3****Train (Ep avg): Epoch-30/50 | Loss = 0.0478 | Time = 10.0714 sec\n"
     ]
    },
    {
     "name": "stderr",
     "output_type": "stream",
     "text": [
      "\r",
      "  0%|          | 0/141 [00:00<?, ?it/s]"
     ]
    },
    {
     "name": "stdout",
     "output_type": "stream",
     "text": [
      "tn = 281931, fp = 5398, fn = 5376, tp = 281953\n",
      "y_pred: 0 = 287307 | 1 = 287351\n",
      "y_true: 0 = 287329 | 1 = 287329\n",
      "auc=0.9986|sensitivity=0.9813|specificity=0.9812|acc=0.9813|mcc=0.9625\n",
      "precision=0.9812|recall=0.9813|f1=0.9813|aupr=0.9986\n"
     ]
    },
    {
     "name": "stderr",
     "output_type": "stream",
     "text": [
      "100%|██████████| 141/141 [00:04<00:00, 32.60it/s]\n"
     ]
    },
    {
     "name": "stdout",
     "output_type": "stream",
     "text": [
      "Fold-3 ****Test  Epoch-30/50: Loss = 0.317335\n"
     ]
    },
    {
     "name": "stderr",
     "output_type": "stream",
     "text": [
      "\r",
      "  0%|          | 0/562 [00:00<?, ?it/s]"
     ]
    },
    {
     "name": "stdout",
     "output_type": "stream",
     "text": [
      "tn = 65830, fp = 6007, fn = 4251, tp = 67586\n",
      "y_pred: 0 = 70081 | 1 = 73593\n",
      "y_true: 0 = 71837 | 1 = 71837\n",
      "auc=0.9799|sensitivity=0.9408|specificity=0.9164|acc=0.9286|mcc=0.8575\n",
      "precision=0.9184|recall=0.9408|f1=0.9295|aupr=0.9784\n",
      "****Saving model: Best epoch = 30 | 5metrics_Best_avg = 0.9239\n",
      "*****Path saver:  ./model/pHLAIformer/no_positional_embedding__model_layer1_multihead9_fold3.pkl\n"
     ]
    },
    {
     "name": "stderr",
     "output_type": "stream",
     "text": [
      "100%|██████████| 562/562 [00:46<00:00, 12.09it/s]\n"
     ]
    },
    {
     "name": "stdout",
     "output_type": "stream",
     "text": [
      "Fold-3****Train (Ep avg): Epoch-31/50 | Loss = 0.0451 | Time = 10.0677 sec\n",
      "tn = 282295, fp = 5034, fn = 5150, tp = 282179\n",
      "y_pred: 0 = 287445 | 1 = 287213\n",
      "y_true: 0 = 287329 | 1 = 287329\n",
      "auc=0.9987|sensitivity=0.9821|specificity=0.9825|acc=0.9823|mcc=0.9646\n",
      "precision=0.9825|recall=0.9821|f1=0.9823|aupr=0.9988\n"
     ]
    },
    {
     "name": "stderr",
     "output_type": "stream",
     "text": [
      "100%|██████████| 141/141 [00:04<00:00, 32.62it/s]\n"
     ]
    },
    {
     "name": "stdout",
     "output_type": "stream",
     "text": [
      "Fold-3 ****Test  Epoch-31/50: Loss = 0.337159\n",
      "tn = 66564, fp = 5273, fn = 5013, tp = 66824\n"
     ]
    },
    {
     "name": "stderr",
     "output_type": "stream",
     "text": [
      "  0%|          | 2/562 [00:00<00:46, 11.99it/s]"
     ]
    },
    {
     "name": "stdout",
     "output_type": "stream",
     "text": [
      "y_pred: 0 = 71577 | 1 = 72097\n",
      "y_true: 0 = 71837 | 1 = 71837\n",
      "auc=0.9795|sensitivity=0.9302|specificity=0.9266|acc=0.9284|mcc=0.8568\n",
      "precision=0.9269|recall=0.9302|f1=0.9285|aupr=0.9781\n"
     ]
    },
    {
     "name": "stderr",
     "output_type": "stream",
     "text": [
      "100%|██████████| 562/562 [00:46<00:00, 12.04it/s]\n"
     ]
    },
    {
     "name": "stdout",
     "output_type": "stream",
     "text": [
      "Fold-3****Train (Ep avg): Epoch-32/50 | Loss = 0.0442 | Time = 10.0653 sec\n",
      "tn = 282353, fp = 4976, fn = 4921, tp = 282408\n",
      "y_pred: 0 = 287274 | 1 = 287384\n",
      "y_true: 0 = 287329 | 1 = 287329\n",
      "auc=0.9988|sensitivity=0.9829|specificity=0.9827|acc=0.9828|mcc=0.9656\n",
      "precision=0.9827|recall=0.9829|f1=0.9828|aupr=0.9988\n"
     ]
    },
    {
     "name": "stderr",
     "output_type": "stream",
     "text": [
      "100%|██████████| 141/141 [00:04<00:00, 32.67it/s]\n"
     ]
    },
    {
     "name": "stdout",
     "output_type": "stream",
     "text": [
      "Fold-3 ****Test  Epoch-32/50: Loss = 0.316039\n"
     ]
    },
    {
     "name": "stderr",
     "output_type": "stream",
     "text": [
      "\r",
      "  0%|          | 0/562 [00:00<?, ?it/s]"
     ]
    },
    {
     "name": "stdout",
     "output_type": "stream",
     "text": [
      "tn = 66886, fp = 4951, fn = 5198, tp = 66639\n",
      "y_pred: 0 = 72084 | 1 = 71590\n",
      "y_true: 0 = 71837 | 1 = 71837\n",
      "auc=0.9800|sensitivity=0.9276|specificity=0.9311|acc=0.9294|mcc=0.8587\n",
      "precision=0.9308|recall=0.9276|f1=0.9292|aupr=0.9786\n",
      "****Saving model: Best epoch = 32 | 5metrics_Best_avg = 0.9243\n",
      "*****Path saver:  ./model/pHLAIformer/no_positional_embedding__model_layer1_multihead9_fold3.pkl\n"
     ]
    },
    {
     "name": "stderr",
     "output_type": "stream",
     "text": [
      "100%|██████████| 562/562 [00:46<00:00, 12.08it/s]\n"
     ]
    },
    {
     "name": "stdout",
     "output_type": "stream",
     "text": [
      "Fold-3****Train (Ep avg): Epoch-33/50 | Loss = 0.0439 | Time = 10.0245 sec\n"
     ]
    },
    {
     "name": "stderr",
     "output_type": "stream",
     "text": [
      "\r",
      "  0%|          | 0/141 [00:00<?, ?it/s]"
     ]
    },
    {
     "name": "stdout",
     "output_type": "stream",
     "text": [
      "tn = 282390, fp = 4939, fn = 4968, tp = 282361\n",
      "y_pred: 0 = 287358 | 1 = 287300\n",
      "y_true: 0 = 287329 | 1 = 287329\n",
      "auc=0.9988|sensitivity=0.9827|specificity=0.9828|acc=0.9828|mcc=0.9655\n",
      "precision=0.9828|recall=0.9827|f1=0.9828|aupr=0.9988\n"
     ]
    },
    {
     "name": "stderr",
     "output_type": "stream",
     "text": [
      "100%|██████████| 141/141 [00:04<00:00, 33.49it/s]\n"
     ]
    },
    {
     "name": "stdout",
     "output_type": "stream",
     "text": [
      "Fold-3 ****Test  Epoch-33/50: Loss = 0.328801\n",
      "tn = 65771, fp = 6066, fn = 4299, tp = 67538\n"
     ]
    },
    {
     "name": "stderr",
     "output_type": "stream",
     "text": [
      "  0%|          | 2/562 [00:00<00:45, 12.24it/s]"
     ]
    },
    {
     "name": "stdout",
     "output_type": "stream",
     "text": [
      "y_pred: 0 = 70070 | 1 = 73604\n",
      "y_true: 0 = 71837 | 1 = 71837\n",
      "auc=0.9794|sensitivity=0.9402|specificity=0.9156|acc=0.9279|mcc=0.8560\n",
      "precision=0.9176|recall=0.9402|f1=0.9287|aupr=0.9780\n"
     ]
    },
    {
     "name": "stderr",
     "output_type": "stream",
     "text": [
      "100%|██████████| 562/562 [00:46<00:00, 12.07it/s]\n"
     ]
    },
    {
     "name": "stdout",
     "output_type": "stream",
     "text": [
      "Fold-3****Train (Ep avg): Epoch-34/50 | Loss = 0.0431 | Time = 10.0551 sec\n"
     ]
    },
    {
     "name": "stderr",
     "output_type": "stream",
     "text": [
      "\r",
      "  0%|          | 0/141 [00:00<?, ?it/s]"
     ]
    },
    {
     "name": "stdout",
     "output_type": "stream",
     "text": [
      "tn = 282547, fp = 4782, fn = 4788, tp = 282541\n",
      "y_pred: 0 = 287335 | 1 = 287323\n",
      "y_true: 0 = 287329 | 1 = 287329\n",
      "auc=0.9988|sensitivity=0.9833|specificity=0.9834|acc=0.9833|mcc=0.9667\n",
      "precision=0.9834|recall=0.9833|f1=0.9833|aupr=0.9989\n"
     ]
    },
    {
     "name": "stderr",
     "output_type": "stream",
     "text": [
      "100%|██████████| 141/141 [00:04<00:00, 32.55it/s]\n"
     ]
    },
    {
     "name": "stdout",
     "output_type": "stream",
     "text": [
      "Fold-3 ****Test  Epoch-34/50: Loss = 0.338819\n"
     ]
    },
    {
     "name": "stderr",
     "output_type": "stream",
     "text": [
      "\r",
      "  0%|          | 0/562 [00:00<?, ?it/s]"
     ]
    },
    {
     "name": "stdout",
     "output_type": "stream",
     "text": [
      "tn = 65869, fp = 5968, fn = 4329, tp = 67508\n",
      "y_pred: 0 = 70198 | 1 = 73476\n",
      "y_true: 0 = 71837 | 1 = 71837\n",
      "auc=0.9797|sensitivity=0.9397|specificity=0.9169|acc=0.9283|mcc=0.8569\n",
      "precision=0.9188|recall=0.9397|f1=0.9291|aupr=0.9783\n"
     ]
    },
    {
     "name": "stderr",
     "output_type": "stream",
     "text": [
      "100%|██████████| 562/562 [00:46<00:00, 12.16it/s]\n"
     ]
    },
    {
     "name": "stdout",
     "output_type": "stream",
     "text": [
      "Fold-3****Train (Ep avg): Epoch-35/50 | Loss = 0.0414 | Time = 10.0254 sec\n",
      "tn = 282687, fp = 4642, fn = 4670, tp = 282659\n",
      "y_pred: 0 = 287357 | 1 = 287301\n",
      "y_true: 0 = 287329 | 1 = 287329\n",
      "auc=0.9989|sensitivity=0.9837|specificity=0.9838|acc=0.9838|mcc=0.9676\n",
      "precision=0.9838|recall=0.9837|f1=0.9838|aupr=0.9989\n"
     ]
    },
    {
     "name": "stderr",
     "output_type": "stream",
     "text": [
      "100%|██████████| 141/141 [00:04<00:00, 32.81it/s]\n"
     ]
    },
    {
     "name": "stdout",
     "output_type": "stream",
     "text": [
      "Fold-3 ****Test  Epoch-35/50: Loss = 0.337981\n",
      "tn = 65184, fp = 6653, fn = 3768, tp = 68069\n"
     ]
    },
    {
     "name": "stderr",
     "output_type": "stream",
     "text": [
      "  0%|          | 2/562 [00:00<00:45, 12.32it/s]"
     ]
    },
    {
     "name": "stdout",
     "output_type": "stream",
     "text": [
      "y_pred: 0 = 68952 | 1 = 74722\n",
      "y_true: 0 = 71837 | 1 = 71837\n",
      "auc=0.9798|sensitivity=0.9475|specificity=0.9074|acc=0.9275|mcc=0.8556\n",
      "precision=0.9110|recall=0.9475|f1=0.9289|aupr=0.9786\n"
     ]
    },
    {
     "name": "stderr",
     "output_type": "stream",
     "text": [
      "100%|██████████| 562/562 [00:46<00:00, 12.10it/s]\n"
     ]
    },
    {
     "name": "stdout",
     "output_type": "stream",
     "text": [
      "Fold-3****Train (Ep avg): Epoch-36/50 | Loss = 0.0400 | Time = 10.0189 sec\n"
     ]
    },
    {
     "name": "stderr",
     "output_type": "stream",
     "text": [
      "\r",
      "  0%|          | 0/141 [00:00<?, ?it/s]"
     ]
    },
    {
     "name": "stdout",
     "output_type": "stream",
     "text": [
      "tn = 282926, fp = 4403, fn = 4420, tp = 282909\n",
      "y_pred: 0 = 287346 | 1 = 287312\n",
      "y_true: 0 = 287329 | 1 = 287329\n",
      "auc=0.9990|sensitivity=0.9846|specificity=0.9847|acc=0.9846|mcc=0.9693\n",
      "precision=0.9847|recall=0.9846|f1=0.9846|aupr=0.9990\n"
     ]
    },
    {
     "name": "stderr",
     "output_type": "stream",
     "text": [
      "100%|██████████| 141/141 [00:04<00:00, 32.64it/s]\n"
     ]
    },
    {
     "name": "stdout",
     "output_type": "stream",
     "text": [
      "Fold-3 ****Test  Epoch-36/50: Loss = 0.347632\n",
      "tn = 65150, fp = 6687, fn = 3689, tp = 68148\n"
     ]
    },
    {
     "name": "stderr",
     "output_type": "stream",
     "text": [
      "  0%|          | 2/562 [00:00<00:46, 12.07it/s]"
     ]
    },
    {
     "name": "stdout",
     "output_type": "stream",
     "text": [
      "y_pred: 0 = 68839 | 1 = 74835\n",
      "y_true: 0 = 71837 | 1 = 71837\n",
      "auc=0.9800|sensitivity=0.9486|specificity=0.9069|acc=0.9278|mcc=0.8563\n",
      "precision=0.9106|recall=0.9486|f1=0.9293|aupr=0.9786\n"
     ]
    },
    {
     "name": "stderr",
     "output_type": "stream",
     "text": [
      "100%|██████████| 562/562 [00:46<00:00, 12.08it/s]\n"
     ]
    },
    {
     "name": "stdout",
     "output_type": "stream",
     "text": [
      "Fold-3****Train (Ep avg): Epoch-37/50 | Loss = 0.0396 | Time = 10.0697 sec\n",
      "tn = 282953, fp = 4376, fn = 4440, tp = 282889\n",
      "y_pred: 0 = 287393 | 1 = 287265\n",
      "y_true: 0 = 287329 | 1 = 287329\n",
      "auc=0.9990|sensitivity=0.9845|specificity=0.9848|acc=0.9847|mcc=0.9693\n",
      "precision=0.9848|recall=0.9845|f1=0.9847|aupr=0.9990\n"
     ]
    },
    {
     "name": "stderr",
     "output_type": "stream",
     "text": [
      "100%|██████████| 141/141 [00:04<00:00, 32.95it/s]\n"
     ]
    },
    {
     "name": "stdout",
     "output_type": "stream",
     "text": [
      "Fold-3 ****Test  Epoch-37/50: Loss = 0.329681\n"
     ]
    },
    {
     "name": "stderr",
     "output_type": "stream",
     "text": [
      "\r",
      "  0%|          | 0/562 [00:00<?, ?it/s]"
     ]
    },
    {
     "name": "stdout",
     "output_type": "stream",
     "text": [
      "tn = 66035, fp = 5802, fn = 4283, tp = 67554\n",
      "y_pred: 0 = 70318 | 1 = 73356\n",
      "y_true: 0 = 71837 | 1 = 71837\n",
      "auc=0.9800|sensitivity=0.9404|specificity=0.9192|acc=0.9298|mcc=0.8598\n",
      "precision=0.9209|recall=0.9404|f1=0.9305|aupr=0.9785\n",
      "****Saving model: Best epoch = 37 | 5metrics_Best_avg = 0.9250\n",
      "*****Path saver:  ./model/pHLAIformer/no_positional_embedding__model_layer1_multihead9_fold3.pkl\n"
     ]
    },
    {
     "name": "stderr",
     "output_type": "stream",
     "text": [
      "100%|██████████| 562/562 [00:46<00:00, 12.09it/s]\n"
     ]
    },
    {
     "name": "stdout",
     "output_type": "stream",
     "text": [
      "Fold-3****Train (Ep avg): Epoch-38/50 | Loss = 0.0378 | Time = 10.0561 sec\n"
     ]
    },
    {
     "name": "stderr",
     "output_type": "stream",
     "text": [
      "\r",
      "  0%|          | 0/141 [00:00<?, ?it/s]"
     ]
    },
    {
     "name": "stdout",
     "output_type": "stream",
     "text": [
      "tn = 283206, fp = 4123, fn = 4180, tp = 283149\n",
      "y_pred: 0 = 287386 | 1 = 287272\n",
      "y_true: 0 = 287329 | 1 = 287329\n",
      "auc=0.9991|sensitivity=0.9855|specificity=0.9857|acc=0.9856|mcc=0.9711\n",
      "precision=0.9856|recall=0.9855|f1=0.9855|aupr=0.9991\n"
     ]
    },
    {
     "name": "stderr",
     "output_type": "stream",
     "text": [
      "100%|██████████| 141/141 [00:04<00:00, 32.43it/s]\n"
     ]
    },
    {
     "name": "stdout",
     "output_type": "stream",
     "text": [
      "Fold-3 ****Test  Epoch-38/50: Loss = 0.335221\n"
     ]
    },
    {
     "name": "stderr",
     "output_type": "stream",
     "text": [
      "\r",
      "  0%|          | 0/562 [00:00<?, ?it/s]"
     ]
    },
    {
     "name": "stdout",
     "output_type": "stream",
     "text": [
      "tn = 66197, fp = 5640, fn = 4537, tp = 67300\n",
      "y_pred: 0 = 70734 | 1 = 72940\n",
      "y_true: 0 = 71837 | 1 = 71837\n",
      "auc=0.9800|sensitivity=0.9368|specificity=0.9215|acc=0.9292|mcc=0.8584\n",
      "precision=0.9227|recall=0.9368|f1=0.9297|aupr=0.9787\n"
     ]
    },
    {
     "name": "stderr",
     "output_type": "stream",
     "text": [
      "100%|██████████| 562/562 [00:45<00:00, 12.22it/s]\n"
     ]
    },
    {
     "name": "stdout",
     "output_type": "stream",
     "text": [
      "Fold-3****Train (Ep avg): Epoch-39/50 | Loss = 0.0377 | Time = 9.8914 sec\n"
     ]
    },
    {
     "name": "stderr",
     "output_type": "stream",
     "text": [
      "\r",
      "  0%|          | 0/141 [00:00<?, ?it/s]"
     ]
    },
    {
     "name": "stdout",
     "output_type": "stream",
     "text": [
      "tn = 283251, fp = 4078, fn = 4173, tp = 283156\n",
      "y_pred: 0 = 287424 | 1 = 287234\n",
      "y_true: 0 = 287329 | 1 = 287329\n",
      "auc=0.9991|sensitivity=0.9855|specificity=0.9858|acc=0.9856|mcc=0.9713\n",
      "precision=0.9858|recall=0.9855|f1=0.9856|aupr=0.9991\n"
     ]
    },
    {
     "name": "stderr",
     "output_type": "stream",
     "text": [
      "100%|██████████| 141/141 [00:04<00:00, 32.45it/s]\n"
     ]
    },
    {
     "name": "stdout",
     "output_type": "stream",
     "text": [
      "Fold-3 ****Test  Epoch-39/50: Loss = 0.353262\n"
     ]
    },
    {
     "name": "stderr",
     "output_type": "stream",
     "text": [
      "\r",
      "  0%|          | 0/562 [00:00<?, ?it/s]"
     ]
    },
    {
     "name": "stdout",
     "output_type": "stream",
     "text": [
      "tn = 65036, fp = 6801, fn = 3760, tp = 68077\n",
      "y_pred: 0 = 68796 | 1 = 74878\n",
      "y_true: 0 = 71837 | 1 = 71837\n",
      "auc=0.9793|sensitivity=0.9477|specificity=0.9053|acc=0.9265|mcc=0.8538\n",
      "precision=0.9092|recall=0.9477|f1=0.9280|aupr=0.9781\n"
     ]
    },
    {
     "name": "stderr",
     "output_type": "stream",
     "text": [
      "100%|██████████| 562/562 [00:46<00:00, 12.10it/s]\n"
     ]
    },
    {
     "name": "stdout",
     "output_type": "stream",
     "text": [
      "Fold-3****Train (Ep avg): Epoch-40/50 | Loss = 0.0375 | Time = 10.0473 sec\n"
     ]
    },
    {
     "name": "stderr",
     "output_type": "stream",
     "text": [
      "\r",
      "  0%|          | 0/141 [00:00<?, ?it/s]"
     ]
    },
    {
     "name": "stdout",
     "output_type": "stream",
     "text": [
      "tn = 283217, fp = 4112, fn = 4147, tp = 283182\n",
      "y_pred: 0 = 287364 | 1 = 287294\n",
      "y_true: 0 = 287329 | 1 = 287329\n",
      "auc=0.9991|sensitivity=0.9856|specificity=0.9857|acc=0.9856|mcc=0.9713\n",
      "precision=0.9857|recall=0.9856|f1=0.9856|aupr=0.9991\n"
     ]
    },
    {
     "name": "stderr",
     "output_type": "stream",
     "text": [
      "100%|██████████| 141/141 [00:04<00:00, 33.43it/s]\n"
     ]
    },
    {
     "name": "stdout",
     "output_type": "stream",
     "text": [
      "Fold-3 ****Test  Epoch-40/50: Loss = 0.341962\n",
      "tn = 65357, fp = 6480, fn = 3837, tp = 68000\n"
     ]
    },
    {
     "name": "stderr",
     "output_type": "stream",
     "text": [
      "  0%|          | 2/562 [00:00<00:45, 12.22it/s]"
     ]
    },
    {
     "name": "stdout",
     "output_type": "stream",
     "text": [
      "y_pred: 0 = 69194 | 1 = 74480\n",
      "y_true: 0 = 71837 | 1 = 71837\n",
      "auc=0.9796|sensitivity=0.9466|specificity=0.9098|acc=0.9282|mcc=0.8570\n",
      "precision=0.9130|recall=0.9466|f1=0.9295|aupr=0.9781\n"
     ]
    },
    {
     "name": "stderr",
     "output_type": "stream",
     "text": [
      "100%|██████████| 562/562 [00:46<00:00, 12.05it/s]\n"
     ]
    },
    {
     "name": "stdout",
     "output_type": "stream",
     "text": [
      "Fold-3****Train (Ep avg): Epoch-41/50 | Loss = 0.0363 | Time = 10.0718 sec\n",
      "tn = 283394, fp = 3935, fn = 3993, tp = 283336\n",
      "y_pred: 0 = 287387 | 1 = 287271\n",
      "y_true: 0 = 287329 | 1 = 287329\n",
      "auc=0.9992|sensitivity=0.9861|specificity=0.9863|acc=0.9862|mcc=0.9724\n",
      "precision=0.9863|recall=0.9861|f1=0.9862|aupr=0.9992\n"
     ]
    },
    {
     "name": "stderr",
     "output_type": "stream",
     "text": [
      "100%|██████████| 141/141 [00:04<00:00, 32.31it/s]\n"
     ]
    },
    {
     "name": "stdout",
     "output_type": "stream",
     "text": [
      "Fold-3 ****Test  Epoch-41/50: Loss = 0.355551\n",
      "tn = 65639, fp = 6198, fn = 3818, tp = 68019\n"
     ]
    },
    {
     "name": "stderr",
     "output_type": "stream",
     "text": [
      "  0%|          | 2/562 [00:00<00:45, 12.28it/s]"
     ]
    },
    {
     "name": "stdout",
     "output_type": "stream",
     "text": [
      "y_pred: 0 = 69457 | 1 = 74217\n",
      "y_true: 0 = 71837 | 1 = 71837\n",
      "auc=0.9804|sensitivity=0.9469|specificity=0.9137|acc=0.9303|mcc=0.8610\n",
      "precision=0.9165|recall=0.9469|f1=0.9314|aupr=0.9790\n",
      "****Saving model: Best epoch = 41 | 5metrics_Best_avg = 0.9258\n",
      "*****Path saver:  ./model/pHLAIformer/no_positional_embedding__model_layer1_multihead9_fold3.pkl\n"
     ]
    },
    {
     "name": "stderr",
     "output_type": "stream",
     "text": [
      "100%|██████████| 562/562 [00:46<00:00, 12.07it/s]\n"
     ]
    },
    {
     "name": "stdout",
     "output_type": "stream",
     "text": [
      "Fold-3****Train (Ep avg): Epoch-42/50 | Loss = 0.0357 | Time = 10.0910 sec\n",
      "tn = 283365, fp = 3964, fn = 3982, tp = 283347\n",
      "y_pred: 0 = 287347 | 1 = 287311\n",
      "y_true: 0 = 287329 | 1 = 287329\n",
      "auc=0.9992|sensitivity=0.9861|specificity=0.9862|acc=0.9862|mcc=0.9723\n",
      "precision=0.9862|recall=0.9861|f1=0.9862|aupr=0.9992\n"
     ]
    },
    {
     "name": "stderr",
     "output_type": "stream",
     "text": [
      "100%|██████████| 141/141 [00:04<00:00, 32.66it/s]\n"
     ]
    },
    {
     "name": "stdout",
     "output_type": "stream",
     "text": [
      "Fold-3 ****Test  Epoch-42/50: Loss = 0.351784\n"
     ]
    },
    {
     "name": "stderr",
     "output_type": "stream",
     "text": [
      "\r",
      "  0%|          | 0/562 [00:00<?, ?it/s]"
     ]
    },
    {
     "name": "stdout",
     "output_type": "stream",
     "text": [
      "tn = 65753, fp = 6084, fn = 4029, tp = 67808\n",
      "y_pred: 0 = 69782 | 1 = 73892\n",
      "y_true: 0 = 71837 | 1 = 71837\n",
      "auc=0.9800|sensitivity=0.9439|specificity=0.9153|acc=0.9296|mcc=0.8596\n",
      "precision=0.9177|recall=0.9439|f1=0.9306|aupr=0.9787\n"
     ]
    },
    {
     "name": "stderr",
     "output_type": "stream",
     "text": [
      "100%|██████████| 562/562 [00:46<00:00, 12.08it/s]\n"
     ]
    },
    {
     "name": "stdout",
     "output_type": "stream",
     "text": [
      "Fold-3****Train (Ep avg): Epoch-43/50 | Loss = 0.0341 | Time = 10.0235 sec\n"
     ]
    },
    {
     "name": "stderr",
     "output_type": "stream",
     "text": [
      "\r",
      "  0%|          | 0/141 [00:00<?, ?it/s]"
     ]
    },
    {
     "name": "stdout",
     "output_type": "stream",
     "text": [
      "tn = 283540, fp = 3789, fn = 3752, tp = 283577\n",
      "y_pred: 0 = 287292 | 1 = 287366\n",
      "y_true: 0 = 287329 | 1 = 287329\n",
      "auc=0.9993|sensitivity=0.9869|specificity=0.9868|acc=0.9869|mcc=0.9738\n",
      "precision=0.9868|recall=0.9869|f1=0.9869|aupr=0.9993\n"
     ]
    },
    {
     "name": "stderr",
     "output_type": "stream",
     "text": [
      "100%|██████████| 141/141 [00:04<00:00, 31.98it/s]\n"
     ]
    },
    {
     "name": "stdout",
     "output_type": "stream",
     "text": [
      "Fold-3 ****Test  Epoch-43/50: Loss = 0.363695\n"
     ]
    },
    {
     "name": "stderr",
     "output_type": "stream",
     "text": [
      "\r",
      "  0%|          | 0/562 [00:00<?, ?it/s]"
     ]
    },
    {
     "name": "stdout",
     "output_type": "stream",
     "text": [
      "tn = 65156, fp = 6681, fn = 3600, tp = 68237\n",
      "y_pred: 0 = 68756 | 1 = 74918\n",
      "y_true: 0 = 71837 | 1 = 71837\n",
      "auc=0.9797|sensitivity=0.9499|specificity=0.9070|acc=0.9284|mcc=0.8577\n",
      "precision=0.9108|recall=0.9499|f1=0.9299|aupr=0.9782\n"
     ]
    },
    {
     "name": "stderr",
     "output_type": "stream",
     "text": [
      "100%|██████████| 562/562 [00:46<00:00, 12.03it/s]\n"
     ]
    },
    {
     "name": "stdout",
     "output_type": "stream",
     "text": [
      "Fold-3****Train (Ep avg): Epoch-44/50 | Loss = 0.0350 | Time = 10.1057 sec\n",
      "tn = 283540, fp = 3789, fn = 3813, tp = 283516\n",
      "y_pred: 0 = 287353 | 1 = 287305\n",
      "y_true: 0 = 287329 | 1 = 287329\n",
      "auc=0.9992|sensitivity=0.9867|specificity=0.9868|acc=0.9868|mcc=0.9735\n",
      "precision=0.9868|recall=0.9867|f1=0.9868|aupr=0.9992\n"
     ]
    },
    {
     "name": "stderr",
     "output_type": "stream",
     "text": [
      "100%|██████████| 141/141 [00:04<00:00, 32.36it/s]\n"
     ]
    },
    {
     "name": "stdout",
     "output_type": "stream",
     "text": [
      "Fold-3 ****Test  Epoch-44/50: Loss = 0.349188\n",
      "tn = 66071, fp = 5766, fn = 4278, tp = 67559\n"
     ]
    },
    {
     "name": "stderr",
     "output_type": "stream",
     "text": [
      "  0%|          | 2/562 [00:00<00:46, 12.07it/s]"
     ]
    },
    {
     "name": "stdout",
     "output_type": "stream",
     "text": [
      "y_pred: 0 = 70349 | 1 = 73325\n",
      "y_true: 0 = 71837 | 1 = 71837\n",
      "auc=0.9801|sensitivity=0.9404|specificity=0.9197|acc=0.9301|mcc=0.8604\n",
      "precision=0.9214|recall=0.9404|f1=0.9308|aupr=0.9788\n"
     ]
    },
    {
     "name": "stderr",
     "output_type": "stream",
     "text": [
      "100%|██████████| 562/562 [00:46<00:00, 12.02it/s]\n"
     ]
    },
    {
     "name": "stdout",
     "output_type": "stream",
     "text": [
      "Fold-3****Train (Ep avg): Epoch-45/50 | Loss = 0.0332 | Time = 10.0776 sec\n",
      "tn = 283647, fp = 3682, fn = 3589, tp = 283740\n",
      "y_pred: 0 = 287236 | 1 = 287422\n",
      "y_true: 0 = 287329 | 1 = 287329\n",
      "auc=0.9993|sensitivity=0.9875|specificity=0.9872|acc=0.9873|mcc=0.9747\n",
      "precision=0.9872|recall=0.9875|f1=0.9873|aupr=0.9993\n"
     ]
    },
    {
     "name": "stderr",
     "output_type": "stream",
     "text": [
      "100%|██████████| 141/141 [00:04<00:00, 32.37it/s]\n"
     ]
    },
    {
     "name": "stdout",
     "output_type": "stream",
     "text": [
      "Fold-3 ****Test  Epoch-45/50: Loss = 0.358714\n"
     ]
    },
    {
     "name": "stderr",
     "output_type": "stream",
     "text": [
      "\r",
      "  0%|          | 0/562 [00:00<?, ?it/s]"
     ]
    },
    {
     "name": "stdout",
     "output_type": "stream",
     "text": [
      "tn = 66224, fp = 5613, fn = 4384, tp = 67453\n",
      "y_pred: 0 = 70608 | 1 = 73066\n",
      "y_true: 0 = 71837 | 1 = 71837\n",
      "auc=0.9801|sensitivity=0.9390|specificity=0.9219|acc=0.9304|mcc=0.8610\n",
      "precision=0.9232|recall=0.9390|f1=0.9310|aupr=0.9788\n"
     ]
    },
    {
     "name": "stderr",
     "output_type": "stream",
     "text": [
      "100%|██████████| 562/562 [00:46<00:00, 12.08it/s]\n"
     ]
    },
    {
     "name": "stdout",
     "output_type": "stream",
     "text": [
      "Fold-3****Train (Ep avg): Epoch-46/50 | Loss = 0.0314 | Time = 10.0555 sec\n",
      "tn = 283918, fp = 3411, fn = 3384, tp = 283945\n",
      "y_pred: 0 = 287302 | 1 = 287356\n",
      "y_true: 0 = 287329 | 1 = 287329\n",
      "auc=0.9994|sensitivity=0.9882|specificity=0.9881|acc=0.9882|mcc=0.9764\n",
      "precision=0.9881|recall=0.9882|f1=0.9882|aupr=0.9994\n"
     ]
    },
    {
     "name": "stderr",
     "output_type": "stream",
     "text": [
      "100%|██████████| 141/141 [00:04<00:00, 32.68it/s]\n"
     ]
    },
    {
     "name": "stdout",
     "output_type": "stream",
     "text": [
      "Fold-3 ****Test  Epoch-46/50: Loss = 0.354431\n"
     ]
    },
    {
     "name": "stderr",
     "output_type": "stream",
     "text": [
      "\r",
      "  0%|          | 0/562 [00:00<?, ?it/s]"
     ]
    },
    {
     "name": "stdout",
     "output_type": "stream",
     "text": [
      "tn = 66806, fp = 5031, fn = 4788, tp = 67049\n",
      "y_pred: 0 = 71594 | 1 = 72080\n",
      "y_true: 0 = 71837 | 1 = 71837\n",
      "auc=0.9804|sensitivity=0.9333|specificity=0.9300|acc=0.9317|mcc=0.8633\n",
      "precision=0.9302|recall=0.9333|f1=0.9318|aupr=0.9791\n",
      "****Saving model: Best epoch = 46 | 5metrics_Best_avg = 0.9268\n",
      "*****Path saver:  ./model/pHLAIformer/no_positional_embedding__model_layer1_multihead9_fold3.pkl\n"
     ]
    },
    {
     "name": "stderr",
     "output_type": "stream",
     "text": [
      "100%|██████████| 562/562 [00:46<00:00, 12.10it/s]\n"
     ]
    },
    {
     "name": "stdout",
     "output_type": "stream",
     "text": [
      "Fold-3****Train (Ep avg): Epoch-47/50 | Loss = 0.0335 | Time = 10.0345 sec\n"
     ]
    },
    {
     "name": "stderr",
     "output_type": "stream",
     "text": [
      "\r",
      "  0%|          | 0/141 [00:00<?, ?it/s]"
     ]
    },
    {
     "name": "stdout",
     "output_type": "stream",
     "text": [
      "tn = 283627, fp = 3702, fn = 3679, tp = 283650\n",
      "y_pred: 0 = 287306 | 1 = 287352\n",
      "y_true: 0 = 287329 | 1 = 287329\n",
      "auc=0.9993|sensitivity=0.9872|specificity=0.9871|acc=0.9872|mcc=0.9743\n",
      "precision=0.9871|recall=0.9872|f1=0.9872|aupr=0.9993\n"
     ]
    },
    {
     "name": "stderr",
     "output_type": "stream",
     "text": [
      "100%|██████████| 141/141 [00:04<00:00, 32.19it/s]\n"
     ]
    },
    {
     "name": "stdout",
     "output_type": "stream",
     "text": [
      "Fold-3 ****Test  Epoch-47/50: Loss = 0.353656\n"
     ]
    },
    {
     "name": "stderr",
     "output_type": "stream",
     "text": [
      "\r",
      "  0%|          | 0/562 [00:00<?, ?it/s]"
     ]
    },
    {
     "name": "stdout",
     "output_type": "stream",
     "text": [
      "tn = 66126, fp = 5711, fn = 4273, tp = 67564\n",
      "y_pred: 0 = 70399 | 1 = 73275\n",
      "y_true: 0 = 71837 | 1 = 71837\n",
      "auc=0.9803|sensitivity=0.9405|specificity=0.9205|acc=0.9305|mcc=0.8612\n",
      "precision=0.9221|recall=0.9405|f1=0.9312|aupr=0.9789\n"
     ]
    },
    {
     "name": "stderr",
     "output_type": "stream",
     "text": [
      "100%|██████████| 562/562 [00:46<00:00, 11.99it/s]\n"
     ]
    },
    {
     "name": "stdout",
     "output_type": "stream",
     "text": [
      "Fold-3****Train (Ep avg): Epoch-48/50 | Loss = 0.0320 | Time = 10.1443 sec\n"
     ]
    },
    {
     "name": "stderr",
     "output_type": "stream",
     "text": [
      "\r",
      "  0%|          | 0/141 [00:00<?, ?it/s]"
     ]
    },
    {
     "name": "stdout",
     "output_type": "stream",
     "text": [
      "tn = 283939, fp = 3390, fn = 3505, tp = 283824\n",
      "y_pred: 0 = 287444 | 1 = 287214\n",
      "y_true: 0 = 287329 | 1 = 287329\n",
      "auc=0.9993|sensitivity=0.9878|specificity=0.9882|acc=0.9880|mcc=0.9760\n",
      "precision=0.9882|recall=0.9878|f1=0.9880|aupr=0.9994\n"
     ]
    },
    {
     "name": "stderr",
     "output_type": "stream",
     "text": [
      "100%|██████████| 141/141 [00:04<00:00, 32.52it/s]\n"
     ]
    },
    {
     "name": "stdout",
     "output_type": "stream",
     "text": [
      "Fold-3 ****Test  Epoch-48/50: Loss = 0.358931\n",
      "tn = 66096, fp = 5741, fn = 4260, tp = 67577\n"
     ]
    },
    {
     "name": "stderr",
     "output_type": "stream",
     "text": [
      "  0%|          | 2/562 [00:00<00:45, 12.28it/s]"
     ]
    },
    {
     "name": "stdout",
     "output_type": "stream",
     "text": [
      "y_pred: 0 = 70356 | 1 = 73318\n",
      "y_true: 0 = 71837 | 1 = 71837\n",
      "auc=0.9802|sensitivity=0.9407|specificity=0.9201|acc=0.9304|mcc=0.8610\n",
      "precision=0.9217|recall=0.9407|f1=0.9311|aupr=0.9788\n"
     ]
    },
    {
     "name": "stderr",
     "output_type": "stream",
     "text": [
      "100%|██████████| 562/562 [00:47<00:00, 11.77it/s]\n"
     ]
    },
    {
     "name": "stdout",
     "output_type": "stream",
     "text": [
      "Fold-3****Train (Ep avg): Epoch-49/50 | Loss = 0.0313 | Time = 10.1724 sec\n",
      "tn = 283959, fp = 3370, fn = 3422, tp = 283907\n",
      "y_pred: 0 = 287381 | 1 = 287277\n",
      "y_true: 0 = 287329 | 1 = 287329\n",
      "auc=0.9994|sensitivity=0.9881|specificity=0.9883|acc=0.9882|mcc=0.9764\n",
      "precision=0.9883|recall=0.9881|f1=0.9882|aupr=0.9994\n"
     ]
    },
    {
     "name": "stderr",
     "output_type": "stream",
     "text": [
      "100%|██████████| 141/141 [00:04<00:00, 30.46it/s]\n"
     ]
    },
    {
     "name": "stdout",
     "output_type": "stream",
     "text": [
      "Fold-3 ****Test  Epoch-49/50: Loss = 0.363210\n"
     ]
    },
    {
     "name": "stderr",
     "output_type": "stream",
     "text": [
      "\r",
      "  0%|          | 0/562 [00:00<?, ?it/s]"
     ]
    },
    {
     "name": "stdout",
     "output_type": "stream",
     "text": [
      "tn = 66087, fp = 5750, fn = 4163, tp = 67674\n",
      "y_pred: 0 = 70250 | 1 = 73424\n",
      "y_true: 0 = 71837 | 1 = 71837\n",
      "auc=0.9804|sensitivity=0.9420|specificity=0.9200|acc=0.9310|mcc=0.8622\n",
      "precision=0.9217|recall=0.9420|f1=0.9318|aupr=0.9791\n"
     ]
    },
    {
     "name": "stderr",
     "output_type": "stream",
     "text": [
      "100%|██████████| 562/562 [00:47<00:00, 11.76it/s]\n"
     ]
    },
    {
     "name": "stdout",
     "output_type": "stream",
     "text": [
      "Fold-3****Train (Ep avg): Epoch-50/50 | Loss = 0.0311 | Time = 10.1963 sec\n",
      "tn = 283949, fp = 3380, fn = 3395, tp = 283934\n",
      "y_pred: 0 = 287344 | 1 = 287314\n",
      "y_true: 0 = 287329 | 1 = 287329\n",
      "auc=0.9994|sensitivity=0.9882|specificity=0.9882|acc=0.9882|mcc=0.9764\n",
      "precision=0.9882|recall=0.9882|f1=0.9882|aupr=0.9994\n"
     ]
    },
    {
     "name": "stderr",
     "output_type": "stream",
     "text": [
      "100%|██████████| 141/141 [00:04<00:00, 32.30it/s]\n"
     ]
    },
    {
     "name": "stdout",
     "output_type": "stream",
     "text": [
      "Fold-3 ****Test  Epoch-50/50: Loss = 0.383993\n"
     ]
    },
    {
     "name": "stderr",
     "output_type": "stream",
     "text": [
      "  1%|          | 4/562 [00:00<00:16, 33.72it/s]"
     ]
    },
    {
     "name": "stdout",
     "output_type": "stream",
     "text": [
      "tn = 66330, fp = 5507, fn = 4363, tp = 67474\n",
      "y_pred: 0 = 70693 | 1 = 72981\n",
      "y_true: 0 = 71837 | 1 = 71837\n",
      "auc=0.9802|sensitivity=0.9393|specificity=0.9233|acc=0.9313|mcc=0.8627\n",
      "precision=0.9245|recall=0.9393|f1=0.9318|aupr=0.9787\n",
      "-----Optimization Finished!-----\n",
      "-----Evaluate Results-----\n",
      "*****Path saver:  ./model/pHLAIformer/no_positional_embedding__model_layer1_multihead9_fold3.pkl\n"
     ]
    },
    {
     "name": "stderr",
     "output_type": "stream",
     "text": [
      "100%|██████████| 562/562 [00:17<00:00, 32.12it/s]\n"
     ]
    },
    {
     "name": "stdout",
     "output_type": "stream",
     "text": [
      "Fold-3 ****Test  Epoch-46/50: Loss = 0.284295\n"
     ]
    },
    {
     "name": "stderr",
     "output_type": "stream",
     "text": [
      "\r",
      "  0%|          | 0/141 [00:00<?, ?it/s]"
     ]
    },
    {
     "name": "stdout",
     "output_type": "stream",
     "text": [
      "tn = 271667, fp = 15662, fn = 19146, tp = 268183\n",
      "y_pred: 0 = 290813 | 1 = 283845\n",
      "y_true: 0 = 287329 | 1 = 287329\n",
      "auc=0.9852|sensitivity=0.9334|specificity=0.9455|acc=0.9394|mcc=0.8789\n",
      "precision=0.9448|recall=0.9334|f1=0.9391|aupr=0.9851\n"
     ]
    },
    {
     "name": "stderr",
     "output_type": "stream",
     "text": [
      "100%|██████████| 141/141 [00:04<00:00, 31.70it/s]\n"
     ]
    },
    {
     "name": "stdout",
     "output_type": "stream",
     "text": [
      "Fold-3 ****Test  Epoch-46/50: Loss = 0.354431\n",
      "tn = 66806, fp = 5031, fn = 4788, tp = 67049\n"
     ]
    },
    {
     "name": "stderr",
     "output_type": "stream",
     "text": [
      "  2%|▏         | 4/168 [00:00<00:04, 34.21it/s]"
     ]
    },
    {
     "name": "stdout",
     "output_type": "stream",
     "text": [
      "y_pred: 0 = 71594 | 1 = 72080\n",
      "y_true: 0 = 71837 | 1 = 71837\n",
      "auc=0.9804|sensitivity=0.9333|specificity=0.9300|acc=0.9317|mcc=0.8633\n",
      "precision=0.9302|recall=0.9333|f1=0.9318|aupr=0.9791\n"
     ]
    },
    {
     "name": "stderr",
     "output_type": "stream",
     "text": [
      "100%|██████████| 168/168 [00:05<00:00, 31.37it/s]\n"
     ]
    },
    {
     "name": "stdout",
     "output_type": "stream",
     "text": [
      "Fold-3 ****Test  Epoch-46/50: Loss = 0.409667\n"
     ]
    },
    {
     "name": "stderr",
     "output_type": "stream",
     "text": [
      "  4%|▍         | 4/102 [00:00<00:02, 34.38it/s]"
     ]
    },
    {
     "name": "stdout",
     "output_type": "stream",
     "text": [
      "tn = 79762, fp = 5800, fn = 6536, tp = 79340\n",
      "y_pred: 0 = 86298 | 1 = 85140\n",
      "y_true: 0 = 85562 | 1 = 85876\n",
      "auc=0.9778|sensitivity=0.9239|specificity=0.9322|acc=0.9280|mcc=0.8561\n",
      "precision=0.9319|recall=0.9239|f1=0.9279|aupr=0.9772\n"
     ]
    },
    {
     "name": "stderr",
     "output_type": "stream",
     "text": [
      "100%|██████████| 102/102 [00:03<00:00, 33.27it/s]\n"
     ]
    },
    {
     "name": "stdout",
     "output_type": "stream",
     "text": [
      "Fold-3 ****Test  Epoch-46/50: Loss = 0.884086\n",
      "tn = 48637, fp = 3244, fn = 9070, tp = 42914\n",
      "y_pred: 0 = 57707 | 1 = 46158\n",
      "y_true: 0 = 51881 | 1 = 51984\n",
      "auc=0.9512|sensitivity=0.8255|specificity=0.9375|acc=0.8814|mcc=0.7678\n",
      "precision=0.9297|recall=0.8255|f1=0.8745|aupr=0.9547\n",
      "Total training time: 502.88 sec\n",
      "=====Fold-4=====\n",
      "-----Generate data loader-----\n"
     ]
    },
    {
     "name": "stderr",
     "output_type": "stream",
     "text": [
      "  0%|          | 2/562 [00:00<00:50, 11.11it/s]"
     ]
    },
    {
     "name": "stdout",
     "output_type": "stream",
     "text": [
      "Fold-4 Label info: Train = Counter({1: 287348, 0: 287348}) | Val = Counter({0: 71837, 1: 71837})\n",
      "-----Compile model-----\n",
      "-----Train-----\n",
      "dir_saver:  ./model/pHLAIformer/\n",
      "path_saver:  ./model/pHLAIformer/no_positional_embedding__model_layer1_multihead9_fold4.pkl\n"
     ]
    },
    {
     "name": "stderr",
     "output_type": "stream",
     "text": [
      "100%|██████████| 562/562 [00:47<00:00, 11.94it/s]\n"
     ]
    },
    {
     "name": "stdout",
     "output_type": "stream",
     "text": [
      "Fold-4****Train (Ep avg): Epoch-1/50 | Loss = 0.2684 | Time = 10.1351 sec\n",
      "tn = 253273, fp = 34075, fn = 29713, tp = 257635\n",
      "y_pred: 0 = 282986 | 1 = 291710\n",
      "y_true: 0 = 287348 | 1 = 287348\n",
      "auc=0.9563|sensitivity=0.8966|specificity=0.8814|acc=0.8890|mcc=0.7781\n",
      "precision=0.8832|recall=0.8966|f1=0.8898|aupr=0.9546\n"
     ]
    },
    {
     "name": "stderr",
     "output_type": "stream",
     "text": [
      "100%|██████████| 141/141 [00:04<00:00, 31.35it/s]\n"
     ]
    },
    {
     "name": "stdout",
     "output_type": "stream",
     "text": [
      "Fold-4 ****Test  Epoch-1/50: Loss = 0.224581\n"
     ]
    },
    {
     "name": "stderr",
     "output_type": "stream",
     "text": [
      "\r",
      "  0%|          | 0/562 [00:00<?, ?it/s]"
     ]
    },
    {
     "name": "stdout",
     "output_type": "stream",
     "text": [
      "tn = 63775, fp = 8062, fn = 4889, tp = 66948\n",
      "y_pred: 0 = 68664 | 1 = 75010\n",
      "y_true: 0 = 71837 | 1 = 71837\n",
      "auc=0.9702|sensitivity=0.9319|specificity=0.8878|acc=0.9099|mcc=0.8205\n",
      "precision=0.8925|recall=0.9319|f1=0.9118|aupr=0.9690\n",
      "****Saving model: Best epoch = 1 | 5metrics_Best_avg = 0.9031\n",
      "*****Path saver:  ./model/pHLAIformer/no_positional_embedding__model_layer1_multihead9_fold4.pkl\n"
     ]
    },
    {
     "name": "stderr",
     "output_type": "stream",
     "text": [
      "100%|██████████| 562/562 [00:47<00:00, 11.90it/s]\n"
     ]
    },
    {
     "name": "stdout",
     "output_type": "stream",
     "text": [
      "Fold-4****Train (Ep avg): Epoch-2/50 | Loss = 0.2101 | Time = 10.0582 sec\n",
      "tn = 262954, fp = 24394, fn = 23113, tp = 264235\n",
      "y_pred: 0 = 286067 | 1 = 288629\n",
      "y_true: 0 = 287348 | 1 = 287348\n",
      "auc=0.9729|sensitivity=0.9196|specificity=0.9151|acc=0.9173|mcc=0.8347\n",
      "precision=0.9155|recall=0.9196|f1=0.9175|aupr=0.9719\n"
     ]
    },
    {
     "name": "stderr",
     "output_type": "stream",
     "text": [
      "100%|██████████| 141/141 [00:04<00:00, 32.97it/s]\n"
     ]
    },
    {
     "name": "stdout",
     "output_type": "stream",
     "text": [
      "Fold-4 ****Test  Epoch-2/50: Loss = 0.207857\n"
     ]
    },
    {
     "name": "stderr",
     "output_type": "stream",
     "text": [
      "\r",
      "  0%|          | 0/562 [00:00<?, ?it/s]"
     ]
    },
    {
     "name": "stdout",
     "output_type": "stream",
     "text": [
      "tn = 66045, fp = 5792, fn = 6043, tp = 65794\n",
      "y_pred: 0 = 72088 | 1 = 71586\n",
      "y_true: 0 = 71837 | 1 = 71837\n",
      "auc=0.9733|sensitivity=0.9159|specificity=0.9194|acc=0.9176|mcc=0.8353\n",
      "precision=0.9191|recall=0.9159|f1=0.9175|aupr=0.9724\n",
      "****Saving model: Best epoch = 2 | 5metrics_Best_avg = 0.9109\n",
      "*****Path saver:  ./model/pHLAIformer/no_positional_embedding__model_layer1_multihead9_fold4.pkl\n"
     ]
    },
    {
     "name": "stderr",
     "output_type": "stream",
     "text": [
      "100%|██████████| 562/562 [00:47<00:00, 11.86it/s]\n"
     ]
    },
    {
     "name": "stdout",
     "output_type": "stream",
     "text": [
      "Fold-4****Train (Ep avg): Epoch-3/50 | Loss = 0.1931 | Time = 10.1109 sec\n"
     ]
    },
    {
     "name": "stderr",
     "output_type": "stream",
     "text": [
      "\r",
      "  0%|          | 0/141 [00:00<?, ?it/s]"
     ]
    },
    {
     "name": "stdout",
     "output_type": "stream",
     "text": [
      "tn = 265362, fp = 21986, fn = 21319, tp = 266029\n",
      "y_pred: 0 = 286681 | 1 = 288015\n",
      "y_true: 0 = 287348 | 1 = 287348\n",
      "auc=0.9770|sensitivity=0.9258|specificity=0.9235|acc=0.9246|mcc=0.8493\n",
      "precision=0.9237|recall=0.9258|f1=0.9247|aupr=0.9764\n"
     ]
    },
    {
     "name": "stderr",
     "output_type": "stream",
     "text": [
      "100%|██████████| 141/141 [00:04<00:00, 31.36it/s]\n"
     ]
    },
    {
     "name": "stdout",
     "output_type": "stream",
     "text": [
      "Fold-4 ****Test  Epoch-3/50: Loss = 0.199340\n"
     ]
    },
    {
     "name": "stderr",
     "output_type": "stream",
     "text": [
      "\r",
      "  0%|          | 0/562 [00:00<?, ?it/s]"
     ]
    },
    {
     "name": "stdout",
     "output_type": "stream",
     "text": [
      "tn = 66376, fp = 5461, fn = 5772, tp = 66065\n",
      "y_pred: 0 = 72148 | 1 = 71526\n",
      "y_true: 0 = 71837 | 1 = 71837\n",
      "auc=0.9755|sensitivity=0.9197|specificity=0.9240|acc=0.9218|mcc=0.8436\n",
      "precision=0.9237|recall=0.9197|f1=0.9216|aupr=0.9747\n",
      "****Saving model: Best epoch = 3 | 5metrics_Best_avg = 0.9157\n",
      "*****Path saver:  ./model/pHLAIformer/no_positional_embedding__model_layer1_multihead9_fold4.pkl\n"
     ]
    },
    {
     "name": "stderr",
     "output_type": "stream",
     "text": [
      "100%|██████████| 562/562 [00:47<00:00, 11.94it/s]\n"
     ]
    },
    {
     "name": "stdout",
     "output_type": "stream",
     "text": [
      "Fold-4****Train (Ep avg): Epoch-4/50 | Loss = 0.1810 | Time = 10.0649 sec\n"
     ]
    },
    {
     "name": "stderr",
     "output_type": "stream",
     "text": [
      "\r",
      "  0%|          | 0/141 [00:00<?, ?it/s]"
     ]
    },
    {
     "name": "stdout",
     "output_type": "stream",
     "text": [
      "tn = 266787, fp = 20561, fn = 20101, tp = 267247\n",
      "y_pred: 0 = 286888 | 1 = 287808\n",
      "y_true: 0 = 287348 | 1 = 287348\n",
      "auc=0.9798|sensitivity=0.9300|specificity=0.9284|acc=0.9292|mcc=0.8585\n",
      "precision=0.9286|recall=0.9300|f1=0.9293|aupr=0.9793\n"
     ]
    },
    {
     "name": "stderr",
     "output_type": "stream",
     "text": [
      "100%|██████████| 141/141 [00:04<00:00, 31.42it/s]\n"
     ]
    },
    {
     "name": "stdout",
     "output_type": "stream",
     "text": [
      "Fold-4 ****Test  Epoch-4/50: Loss = 0.195505\n"
     ]
    },
    {
     "name": "stderr",
     "output_type": "stream",
     "text": [
      "\r",
      "  0%|          | 0/562 [00:00<?, ?it/s]"
     ]
    },
    {
     "name": "stdout",
     "output_type": "stream",
     "text": [
      "tn = 66211, fp = 5626, fn = 5472, tp = 66365\n",
      "y_pred: 0 = 71683 | 1 = 71991\n",
      "y_true: 0 = 71837 | 1 = 71837\n",
      "auc=0.9766|sensitivity=0.9238|specificity=0.9217|acc=0.9228|mcc=0.8455\n",
      "precision=0.9219|recall=0.9238|f1=0.9228|aupr=0.9758\n",
      "****Saving model: Best epoch = 4 | 5metrics_Best_avg = 0.9169\n",
      "*****Path saver:  ./model/pHLAIformer/no_positional_embedding__model_layer1_multihead9_fold4.pkl\n"
     ]
    },
    {
     "name": "stderr",
     "output_type": "stream",
     "text": [
      "100%|██████████| 562/562 [00:47<00:00, 11.92it/s]\n"
     ]
    },
    {
     "name": "stdout",
     "output_type": "stream",
     "text": [
      "Fold-4****Train (Ep avg): Epoch-5/50 | Loss = 0.1704 | Time = 10.0940 sec\n",
      "tn = 268083, fp = 19265, fn = 18997, tp = 268351\n",
      "y_pred: 0 = 287080 | 1 = 287616\n",
      "y_true: 0 = 287348 | 1 = 287348\n",
      "auc=0.9820|sensitivity=0.9339|specificity=0.9330|acc=0.9334|mcc=0.8668\n",
      "precision=0.9330|recall=0.9339|f1=0.9335|aupr=0.9818\n"
     ]
    },
    {
     "name": "stderr",
     "output_type": "stream",
     "text": [
      "100%|██████████| 141/141 [00:04<00:00, 32.40it/s]\n"
     ]
    },
    {
     "name": "stdout",
     "output_type": "stream",
     "text": [
      "Fold-4 ****Test  Epoch-5/50: Loss = 0.196352\n"
     ]
    },
    {
     "name": "stderr",
     "output_type": "stream",
     "text": [
      "\r",
      "  0%|          | 0/562 [00:00<?, ?it/s]"
     ]
    },
    {
     "name": "stdout",
     "output_type": "stream",
     "text": [
      "tn = 65863, fp = 5974, fn = 4998, tp = 66839\n",
      "y_pred: 0 = 70861 | 1 = 72813\n",
      "y_true: 0 = 71837 | 1 = 71837\n",
      "auc=0.9770|sensitivity=0.9304|specificity=0.9168|acc=0.9236|mcc=0.8473\n",
      "precision=0.9180|recall=0.9304|f1=0.9241|aupr=0.9762\n",
      "****Saving model: Best epoch = 5 | 5metrics_Best_avg = 0.9180\n",
      "*****Path saver:  ./model/pHLAIformer/no_positional_embedding__model_layer1_multihead9_fold4.pkl\n"
     ]
    },
    {
     "name": "stderr",
     "output_type": "stream",
     "text": [
      "100%|██████████| 562/562 [00:47<00:00, 11.95it/s]\n"
     ]
    },
    {
     "name": "stdout",
     "output_type": "stream",
     "text": [
      "Fold-4****Train (Ep avg): Epoch-6/50 | Loss = 0.1602 | Time = 10.0344 sec\n"
     ]
    },
    {
     "name": "stderr",
     "output_type": "stream",
     "text": [
      "\r",
      "  0%|          | 0/141 [00:00<?, ?it/s]"
     ]
    },
    {
     "name": "stdout",
     "output_type": "stream",
     "text": [
      "tn = 269406, fp = 17942, fn = 17802, tp = 269546\n",
      "y_pred: 0 = 287208 | 1 = 287488\n",
      "y_true: 0 = 287348 | 1 = 287348\n",
      "auc=0.9841|sensitivity=0.9380|specificity=0.9376|acc=0.9378|mcc=0.8756\n",
      "precision=0.9376|recall=0.9380|f1=0.9378|aupr=0.9839\n"
     ]
    },
    {
     "name": "stderr",
     "output_type": "stream",
     "text": [
      "100%|██████████| 141/141 [00:04<00:00, 32.45it/s]\n"
     ]
    },
    {
     "name": "stdout",
     "output_type": "stream",
     "text": [
      "Fold-4 ****Test  Epoch-6/50: Loss = 0.198043\n"
     ]
    },
    {
     "name": "stderr",
     "output_type": "stream",
     "text": [
      "\r",
      "  0%|          | 0/562 [00:00<?, ?it/s]"
     ]
    },
    {
     "name": "stdout",
     "output_type": "stream",
     "text": [
      "tn = 65830, fp = 6007, fn = 4843, tp = 66994\n",
      "y_pred: 0 = 70673 | 1 = 73001\n",
      "y_true: 0 = 71837 | 1 = 71837\n",
      "auc=0.9772|sensitivity=0.9326|specificity=0.9164|acc=0.9245|mcc=0.8491\n",
      "precision=0.9177|recall=0.9326|f1=0.9251|aupr=0.9762\n",
      "****Saving model: Best epoch = 6 | 5metrics_Best_avg = 0.9190\n",
      "*****Path saver:  ./model/pHLAIformer/no_positional_embedding__model_layer1_multihead9_fold4.pkl\n"
     ]
    },
    {
     "name": "stderr",
     "output_type": "stream",
     "text": [
      "100%|██████████| 562/562 [00:47<00:00, 11.95it/s]\n"
     ]
    },
    {
     "name": "stdout",
     "output_type": "stream",
     "text": [
      "Fold-4****Train (Ep avg): Epoch-7/50 | Loss = 0.1506 | Time = 10.0725 sec\n"
     ]
    },
    {
     "name": "stderr",
     "output_type": "stream",
     "text": [
      "\r",
      "  0%|          | 0/141 [00:00<?, ?it/s]"
     ]
    },
    {
     "name": "stdout",
     "output_type": "stream",
     "text": [
      "tn = 270492, fp = 16856, fn = 16698, tp = 270650\n",
      "y_pred: 0 = 287190 | 1 = 287506\n",
      "y_true: 0 = 287348 | 1 = 287348\n",
      "auc=0.9860|sensitivity=0.9419|specificity=0.9413|acc=0.9416|mcc=0.8832\n",
      "precision=0.9414|recall=0.9419|f1=0.9416|aupr=0.9859\n"
     ]
    },
    {
     "name": "stderr",
     "output_type": "stream",
     "text": [
      "100%|██████████| 141/141 [00:04<00:00, 30.80it/s]\n"
     ]
    },
    {
     "name": "stdout",
     "output_type": "stream",
     "text": [
      "Fold-4 ****Test  Epoch-7/50: Loss = 0.203429\n"
     ]
    },
    {
     "name": "stderr",
     "output_type": "stream",
     "text": [
      "\r",
      "  0%|          | 0/562 [00:00<?, ?it/s]"
     ]
    },
    {
     "name": "stdout",
     "output_type": "stream",
     "text": [
      "tn = 65858, fp = 5979, fn = 5022, tp = 66815\n",
      "y_pred: 0 = 70880 | 1 = 72794\n",
      "y_true: 0 = 71837 | 1 = 71837\n",
      "auc=0.9768|sensitivity=0.9301|specificity=0.9168|acc=0.9234|mcc=0.8469\n",
      "precision=0.9179|recall=0.9301|f1=0.9239|aupr=0.9757\n"
     ]
    },
    {
     "name": "stderr",
     "output_type": "stream",
     "text": [
      "100%|██████████| 562/562 [00:47<00:00, 11.96it/s]\n"
     ]
    },
    {
     "name": "stdout",
     "output_type": "stream",
     "text": [
      "Fold-4****Train (Ep avg): Epoch-8/50 | Loss = 0.1410 | Time = 10.0726 sec\n",
      "tn = 271466, fp = 15882, fn = 15788, tp = 271560\n",
      "y_pred: 0 = 287254 | 1 = 287442\n",
      "y_true: 0 = 287348 | 1 = 287348\n",
      "auc=0.9877|sensitivity=0.9451|specificity=0.9447|acc=0.9449|mcc=0.8898\n",
      "precision=0.9447|recall=0.9451|f1=0.9449|aupr=0.9877\n"
     ]
    },
    {
     "name": "stderr",
     "output_type": "stream",
     "text": [
      "100%|██████████| 141/141 [00:04<00:00, 31.25it/s]\n"
     ]
    },
    {
     "name": "stdout",
     "output_type": "stream",
     "text": [
      "Fold-4 ****Test  Epoch-8/50: Loss = 0.207268\n"
     ]
    },
    {
     "name": "stderr",
     "output_type": "stream",
     "text": [
      "\r",
      "  0%|          | 0/562 [00:00<?, ?it/s]"
     ]
    },
    {
     "name": "stdout",
     "output_type": "stream",
     "text": [
      "tn = 66032, fp = 5805, fn = 5022, tp = 66815\n",
      "y_pred: 0 = 71054 | 1 = 72620\n",
      "y_true: 0 = 71837 | 1 = 71837\n",
      "auc=0.9768|sensitivity=0.9301|specificity=0.9192|acc=0.9246|mcc=0.8493\n",
      "precision=0.9201|recall=0.9301|f1=0.9251|aupr=0.9753\n"
     ]
    },
    {
     "name": "stderr",
     "output_type": "stream",
     "text": [
      "100%|██████████| 562/562 [00:46<00:00, 12.10it/s]\n"
     ]
    },
    {
     "name": "stdout",
     "output_type": "stream",
     "text": [
      "Fold-4****Train (Ep avg): Epoch-9/50 | Loss = 0.1322 | Time = 10.0373 sec\n",
      "tn = 272522, fp = 14826, fn = 14990, tp = 272358\n",
      "y_pred: 0 = 287512 | 1 = 287184\n",
      "y_true: 0 = 287348 | 1 = 287348\n",
      "auc=0.9892|sensitivity=0.9478|specificity=0.9484|acc=0.9481|mcc=0.8962\n",
      "precision=0.9484|recall=0.9478|f1=0.9481|aupr=0.9893\n"
     ]
    },
    {
     "name": "stderr",
     "output_type": "stream",
     "text": [
      "100%|██████████| 141/141 [00:04<00:00, 31.81it/s]\n"
     ]
    },
    {
     "name": "stdout",
     "output_type": "stream",
     "text": [
      "Fold-4 ****Test  Epoch-9/50: Loss = 0.214494\n"
     ]
    },
    {
     "name": "stderr",
     "output_type": "stream",
     "text": [
      "\r",
      "  0%|          | 0/562 [00:00<?, ?it/s]"
     ]
    },
    {
     "name": "stdout",
     "output_type": "stream",
     "text": [
      "tn = 65223, fp = 6614, fn = 4301, tp = 67536\n",
      "y_pred: 0 = 69524 | 1 = 74150\n",
      "y_true: 0 = 71837 | 1 = 71837\n",
      "auc=0.9773|sensitivity=0.9401|specificity=0.9079|acc=0.9240|mcc=0.8485\n",
      "precision=0.9108|recall=0.9401|f1=0.9252|aupr=0.9759\n"
     ]
    },
    {
     "name": "stderr",
     "output_type": "stream",
     "text": [
      "100%|██████████| 562/562 [00:45<00:00, 12.31it/s]\n"
     ]
    },
    {
     "name": "stdout",
     "output_type": "stream",
     "text": [
      "Fold-4****Train (Ep avg): Epoch-10/50 | Loss = 0.1238 | Time = 9.9818 sec\n",
      "tn = 273505, fp = 13843, fn = 13918, tp = 273430\n",
      "y_pred: 0 = 287423 | 1 = 287273\n",
      "y_true: 0 = 287348 | 1 = 287348\n",
      "auc=0.9905|sensitivity=0.9516|specificity=0.9518|acc=0.9517|mcc=0.9034\n",
      "precision=0.9518|recall=0.9516|f1=0.9517|aupr=0.9906\n"
     ]
    },
    {
     "name": "stderr",
     "output_type": "stream",
     "text": [
      "100%|██████████| 141/141 [00:04<00:00, 32.11it/s]\n"
     ]
    },
    {
     "name": "stdout",
     "output_type": "stream",
     "text": [
      "Fold-4 ****Test  Epoch-10/50: Loss = 0.230937\n"
     ]
    },
    {
     "name": "stderr",
     "output_type": "stream",
     "text": [
      "  0%|          | 2/562 [00:00<00:44, 12.46it/s]"
     ]
    },
    {
     "name": "stdout",
     "output_type": "stream",
     "text": [
      "tn = 64636, fp = 7201, fn = 3948, tp = 67889\n",
      "y_pred: 0 = 68584 | 1 = 75090\n",
      "y_true: 0 = 71837 | 1 = 71837\n",
      "auc=0.9770|sensitivity=0.9450|specificity=0.8998|acc=0.9224|mcc=0.8457\n",
      "precision=0.9041|recall=0.9450|f1=0.9241|aupr=0.9753\n"
     ]
    },
    {
     "name": "stderr",
     "output_type": "stream",
     "text": [
      "100%|██████████| 562/562 [00:45<00:00, 12.26it/s]\n"
     ]
    },
    {
     "name": "stdout",
     "output_type": "stream",
     "text": [
      "Fold-4****Train (Ep avg): Epoch-11/50 | Loss = 0.1172 | Time = 9.9732 sec\n",
      "tn = 274126, fp = 13222, fn = 13333, tp = 274015\n",
      "y_pred: 0 = 287459 | 1 = 287237\n",
      "y_true: 0 = 287348 | 1 = 287348\n",
      "auc=0.9915|sensitivity=0.9536|specificity=0.9540|acc=0.9538|mcc=0.9076\n",
      "precision=0.9540|recall=0.9536|f1=0.9538|aupr=0.9916\n"
     ]
    },
    {
     "name": "stderr",
     "output_type": "stream",
     "text": [
      "100%|██████████| 141/141 [00:04<00:00, 31.82it/s]\n"
     ]
    },
    {
     "name": "stdout",
     "output_type": "stream",
     "text": [
      "Fold-4 ****Test  Epoch-11/50: Loss = 0.233172\n"
     ]
    },
    {
     "name": "stderr",
     "output_type": "stream",
     "text": [
      "\r",
      "  0%|          | 0/562 [00:00<?, ?it/s]"
     ]
    },
    {
     "name": "stdout",
     "output_type": "stream",
     "text": [
      "tn = 65032, fp = 6805, fn = 4110, tp = 67727\n",
      "y_pred: 0 = 69142 | 1 = 74532\n",
      "y_true: 0 = 71837 | 1 = 71837\n",
      "auc=0.9775|sensitivity=0.9428|specificity=0.9053|acc=0.9240|mcc=0.8487\n",
      "precision=0.9087|recall=0.9428|f1=0.9254|aupr=0.9758\n"
     ]
    },
    {
     "name": "stderr",
     "output_type": "stream",
     "text": [
      "100%|██████████| 562/562 [00:45<00:00, 12.29it/s]\n"
     ]
    },
    {
     "name": "stdout",
     "output_type": "stream",
     "text": [
      "Fold-4****Train (Ep avg): Epoch-12/50 | Loss = 0.1096 | Time = 9.9828 sec\n"
     ]
    },
    {
     "name": "stderr",
     "output_type": "stream",
     "text": [
      "\r",
      "  0%|          | 0/141 [00:00<?, ?it/s]"
     ]
    },
    {
     "name": "stdout",
     "output_type": "stream",
     "text": [
      "tn = 274912, fp = 12436, fn = 12457, tp = 274891\n",
      "y_pred: 0 = 287369 | 1 = 287327\n",
      "y_true: 0 = 287348 | 1 = 287348\n",
      "auc=0.9926|sensitivity=0.9566|specificity=0.9567|acc=0.9567|mcc=0.9134\n",
      "precision=0.9567|recall=0.9566|f1=0.9567|aupr=0.9927\n"
     ]
    },
    {
     "name": "stderr",
     "output_type": "stream",
     "text": [
      "100%|██████████| 141/141 [00:04<00:00, 32.00it/s]\n"
     ]
    },
    {
     "name": "stdout",
     "output_type": "stream",
     "text": [
      "Fold-4 ****Test  Epoch-12/50: Loss = 0.239125\n"
     ]
    },
    {
     "name": "stderr",
     "output_type": "stream",
     "text": [
      "\r",
      "  0%|          | 0/562 [00:00<?, ?it/s]"
     ]
    },
    {
     "name": "stdout",
     "output_type": "stream",
     "text": [
      "tn = 64992, fp = 6845, fn = 3972, tp = 67865\n",
      "y_pred: 0 = 68964 | 1 = 74710\n",
      "y_true: 0 = 71837 | 1 = 71837\n",
      "auc=0.9779|sensitivity=0.9447|specificity=0.9047|acc=0.9247|mcc=0.8501\n",
      "precision=0.9084|recall=0.9447|f1=0.9262|aupr=0.9762\n",
      "****Saving model: Best epoch = 12 | 5metrics_Best_avg = 0.9197\n",
      "*****Path saver:  ./model/pHLAIformer/no_positional_embedding__model_layer1_multihead9_fold4.pkl\n"
     ]
    },
    {
     "name": "stderr",
     "output_type": "stream",
     "text": [
      "100%|██████████| 562/562 [00:45<00:00, 12.26it/s]\n"
     ]
    },
    {
     "name": "stdout",
     "output_type": "stream",
     "text": [
      "Fold-4****Train (Ep avg): Epoch-13/50 | Loss = 0.1036 | Time = 9.9787 sec\n",
      "tn = 275616, fp = 11732, fn = 11924, tp = 275424\n",
      "y_pred: 0 = 287540 | 1 = 287156\n",
      "y_true: 0 = 287348 | 1 = 287348\n",
      "auc=0.9934|sensitivity=0.9585|specificity=0.9592|acc=0.9588|mcc=0.9177\n",
      "precision=0.9591|recall=0.9585|f1=0.9588|aupr=0.9935\n"
     ]
    },
    {
     "name": "stderr",
     "output_type": "stream",
     "text": [
      "100%|██████████| 141/141 [00:04<00:00, 32.77it/s]\n"
     ]
    },
    {
     "name": "stdout",
     "output_type": "stream",
     "text": [
      "Fold-4 ****Test  Epoch-13/50: Loss = 0.258914\n"
     ]
    },
    {
     "name": "stderr",
     "output_type": "stream",
     "text": [
      "  0%|          | 2/562 [00:00<00:45, 12.43it/s]"
     ]
    },
    {
     "name": "stdout",
     "output_type": "stream",
     "text": [
      "tn = 64525, fp = 7312, fn = 3935, tp = 67902\n",
      "y_pred: 0 = 68460 | 1 = 75214\n",
      "y_true: 0 = 71837 | 1 = 71837\n",
      "auc=0.9769|sensitivity=0.9452|specificity=0.8982|acc=0.9217|mcc=0.8444\n",
      "precision=0.9028|recall=0.9452|f1=0.9235|aupr=0.9752\n"
     ]
    },
    {
     "name": "stderr",
     "output_type": "stream",
     "text": [
      "100%|██████████| 562/562 [00:45<00:00, 12.25it/s]\n"
     ]
    },
    {
     "name": "stdout",
     "output_type": "stream",
     "text": [
      "Fold-4****Train (Ep avg): Epoch-14/50 | Loss = 0.0980 | Time = 9.9852 sec\n",
      "tn = 276253, fp = 11095, fn = 11319, tp = 276029\n",
      "y_pred: 0 = 287572 | 1 = 287124\n",
      "y_true: 0 = 287348 | 1 = 287348\n",
      "auc=0.9941|sensitivity=0.9606|specificity=0.9614|acc=0.9610|mcc=0.9220\n",
      "precision=0.9614|recall=0.9606|f1=0.9610|aupr=0.9942\n"
     ]
    },
    {
     "name": "stderr",
     "output_type": "stream",
     "text": [
      "100%|██████████| 141/141 [00:04<00:00, 32.78it/s]\n"
     ]
    },
    {
     "name": "stdout",
     "output_type": "stream",
     "text": [
      "Fold-4 ****Test  Epoch-14/50: Loss = 0.259528\n"
     ]
    },
    {
     "name": "stderr",
     "output_type": "stream",
     "text": [
      "\r",
      "  0%|          | 0/562 [00:00<?, ?it/s]"
     ]
    },
    {
     "name": "stdout",
     "output_type": "stream",
     "text": [
      "tn = 64929, fp = 6908, fn = 4012, tp = 67825\n",
      "y_pred: 0 = 68941 | 1 = 74733\n",
      "y_true: 0 = 71837 | 1 = 71837\n",
      "auc=0.9777|sensitivity=0.9442|specificity=0.9038|acc=0.9240|mcc=0.8487\n",
      "precision=0.9076|recall=0.9442|f1=0.9255|aupr=0.9760\n"
     ]
    },
    {
     "name": "stderr",
     "output_type": "stream",
     "text": [
      "100%|██████████| 562/562 [00:45<00:00, 12.27it/s]\n"
     ]
    },
    {
     "name": "stdout",
     "output_type": "stream",
     "text": [
      "Fold-4****Train (Ep avg): Epoch-15/50 | Loss = 0.0928 | Time = 9.9558 sec\n",
      "tn = 276793, fp = 10555, fn = 10794, tp = 276554\n",
      "y_pred: 0 = 287587 | 1 = 287109\n",
      "y_true: 0 = 287348 | 1 = 287348\n",
      "auc=0.9947|sensitivity=0.9624|specificity=0.9633|acc=0.9629|mcc=0.9257\n",
      "precision=0.9632|recall=0.9624|f1=0.9628|aupr=0.9948\n"
     ]
    },
    {
     "name": "stderr",
     "output_type": "stream",
     "text": [
      "100%|██████████| 141/141 [00:04<00:00, 31.85it/s]\n"
     ]
    },
    {
     "name": "stdout",
     "output_type": "stream",
     "text": [
      "Fold-4 ****Test  Epoch-15/50: Loss = 0.265053\n"
     ]
    },
    {
     "name": "stderr",
     "output_type": "stream",
     "text": [
      "  0%|          | 2/562 [00:00<00:44, 12.46it/s]"
     ]
    },
    {
     "name": "stdout",
     "output_type": "stream",
     "text": [
      "tn = 64952, fp = 6885, fn = 4067, tp = 67770\n",
      "y_pred: 0 = 69019 | 1 = 74655\n",
      "y_true: 0 = 71837 | 1 = 71837\n",
      "auc=0.9776|sensitivity=0.9434|specificity=0.9042|acc=0.9238|mcc=0.8482\n",
      "precision=0.9078|recall=0.9434|f1=0.9252|aupr=0.9758\n"
     ]
    },
    {
     "name": "stderr",
     "output_type": "stream",
     "text": [
      "100%|██████████| 562/562 [00:45<00:00, 12.33it/s]\n"
     ]
    },
    {
     "name": "stdout",
     "output_type": "stream",
     "text": [
      "Fold-4****Train (Ep avg): Epoch-16/50 | Loss = 0.0884 | Time = 9.9691 sec\n"
     ]
    },
    {
     "name": "stderr",
     "output_type": "stream",
     "text": [
      "\r",
      "  0%|          | 0/141 [00:00<?, ?it/s]"
     ]
    },
    {
     "name": "stdout",
     "output_type": "stream",
     "text": [
      "tn = 277320, fp = 10028, fn = 10264, tp = 277084\n",
      "y_pred: 0 = 287584 | 1 = 287112\n",
      "y_true: 0 = 287348 | 1 = 287348\n",
      "auc=0.9952|sensitivity=0.9643|specificity=0.9651|acc=0.9647|mcc=0.9294\n",
      "precision=0.9651|recall=0.9643|f1=0.9647|aupr=0.9953\n"
     ]
    },
    {
     "name": "stderr",
     "output_type": "stream",
     "text": [
      "100%|██████████| 141/141 [00:04<00:00, 31.56it/s]\n"
     ]
    },
    {
     "name": "stdout",
     "output_type": "stream",
     "text": [
      "Fold-4 ****Test  Epoch-16/50: Loss = 0.274765\n"
     ]
    },
    {
     "name": "stderr",
     "output_type": "stream",
     "text": [
      "\r",
      "  0%|          | 0/562 [00:00<?, ?it/s]"
     ]
    },
    {
     "name": "stdout",
     "output_type": "stream",
     "text": [
      "tn = 64472, fp = 7365, fn = 3645, tp = 68192\n",
      "y_pred: 0 = 68117 | 1 = 75557\n",
      "y_true: 0 = 71837 | 1 = 71837\n",
      "auc=0.9774|sensitivity=0.9493|specificity=0.8975|acc=0.9234|mcc=0.8479\n",
      "precision=0.9025|recall=0.9493|f1=0.9253|aupr=0.9755\n"
     ]
    },
    {
     "name": "stderr",
     "output_type": "stream",
     "text": [
      "100%|██████████| 562/562 [00:45<00:00, 12.24it/s]\n"
     ]
    },
    {
     "name": "stdout",
     "output_type": "stream",
     "text": [
      "Fold-4****Train (Ep avg): Epoch-17/50 | Loss = 0.0833 | Time = 9.9815 sec\n"
     ]
    },
    {
     "name": "stderr",
     "output_type": "stream",
     "text": [
      "\r",
      "  0%|          | 0/141 [00:00<?, ?it/s]"
     ]
    },
    {
     "name": "stdout",
     "output_type": "stream",
     "text": [
      "tn = 277894, fp = 9454, fn = 9667, tp = 277681\n",
      "y_pred: 0 = 287561 | 1 = 287135\n",
      "y_true: 0 = 287348 | 1 = 287348\n",
      "auc=0.9957|sensitivity=0.9664|specificity=0.9671|acc=0.9667|mcc=0.9335\n",
      "precision=0.9671|recall=0.9664|f1=0.9667|aupr=0.9958\n"
     ]
    },
    {
     "name": "stderr",
     "output_type": "stream",
     "text": [
      "100%|██████████| 141/141 [00:04<00:00, 32.24it/s]\n"
     ]
    },
    {
     "name": "stdout",
     "output_type": "stream",
     "text": [
      "Fold-4 ****Test  Epoch-17/50: Loss = 0.286994\n"
     ]
    },
    {
     "name": "stderr",
     "output_type": "stream",
     "text": [
      "  0%|          | 2/562 [00:00<00:44, 12.48it/s]"
     ]
    },
    {
     "name": "stdout",
     "output_type": "stream",
     "text": [
      "tn = 64309, fp = 7528, fn = 3568, tp = 68269\n",
      "y_pred: 0 = 67877 | 1 = 75797\n",
      "y_true: 0 = 71837 | 1 = 71837\n",
      "auc=0.9778|sensitivity=0.9503|specificity=0.8952|acc=0.9228|mcc=0.8468\n",
      "precision=0.9007|recall=0.9503|f1=0.9248|aupr=0.9759\n"
     ]
    },
    {
     "name": "stderr",
     "output_type": "stream",
     "text": [
      "100%|██████████| 562/562 [00:45<00:00, 12.22it/s]\n"
     ]
    },
    {
     "name": "stdout",
     "output_type": "stream",
     "text": [
      "Fold-4****Train (Ep avg): Epoch-18/50 | Loss = 0.0804 | Time = 9.9924 sec\n",
      "tn = 278091, fp = 9257, fn = 9329, tp = 278019\n",
      "y_pred: 0 = 287420 | 1 = 287276\n",
      "y_true: 0 = 287348 | 1 = 287348\n",
      "auc=0.9960|sensitivity=0.9675|specificity=0.9678|acc=0.9677|mcc=0.9353\n",
      "precision=0.9678|recall=0.9675|f1=0.9677|aupr=0.9961\n"
     ]
    },
    {
     "name": "stderr",
     "output_type": "stream",
     "text": [
      "100%|██████████| 141/141 [00:04<00:00, 32.80it/s]\n"
     ]
    },
    {
     "name": "stdout",
     "output_type": "stream",
     "text": [
      "Fold-4 ****Test  Epoch-18/50: Loss = 0.279175\n"
     ]
    },
    {
     "name": "stderr",
     "output_type": "stream",
     "text": [
      "\r",
      "  0%|          | 0/562 [00:00<?, ?it/s]"
     ]
    },
    {
     "name": "stdout",
     "output_type": "stream",
     "text": [
      "tn = 64979, fp = 6858, fn = 3854, tp = 67983\n",
      "y_pred: 0 = 68833 | 1 = 74841\n",
      "y_true: 0 = 71837 | 1 = 71837\n",
      "auc=0.9783|sensitivity=0.9464|specificity=0.9045|acc=0.9254|mcc=0.8516\n",
      "precision=0.9084|recall=0.9464|f1=0.9270|aupr=0.9766\n",
      "****Saving model: Best epoch = 18 | 5metrics_Best_avg = 0.9206\n",
      "*****Path saver:  ./model/pHLAIformer/no_positional_embedding__model_layer1_multihead9_fold4.pkl\n"
     ]
    },
    {
     "name": "stderr",
     "output_type": "stream",
     "text": [
      "100%|██████████| 562/562 [00:45<00:00, 12.25it/s]\n"
     ]
    },
    {
     "name": "stdout",
     "output_type": "stream",
     "text": [
      "Fold-4****Train (Ep avg): Epoch-19/50 | Loss = 0.0759 | Time = 9.9812 sec\n",
      "tn = 278662, fp = 8686, fn = 8765, tp = 278583\n",
      "y_pred: 0 = 287427 | 1 = 287269\n",
      "y_true: 0 = 287348 | 1 = 287348\n",
      "auc=0.9965|sensitivity=0.9695|specificity=0.9698|acc=0.9696|mcc=0.9393\n",
      "precision=0.9698|recall=0.9695|f1=0.9696|aupr=0.9966\n"
     ]
    },
    {
     "name": "stderr",
     "output_type": "stream",
     "text": [
      "100%|██████████| 141/141 [00:04<00:00, 31.10it/s]\n"
     ]
    },
    {
     "name": "stdout",
     "output_type": "stream",
     "text": [
      "Fold-4 ****Test  Epoch-19/50: Loss = 0.310097\n"
     ]
    },
    {
     "name": "stderr",
     "output_type": "stream",
     "text": [
      "\r",
      "  0%|          | 0/562 [00:00<?, ?it/s]"
     ]
    },
    {
     "name": "stdout",
     "output_type": "stream",
     "text": [
      "tn = 64195, fp = 7642, fn = 3556, tp = 68281\n",
      "y_pred: 0 = 67751 | 1 = 75923\n",
      "y_true: 0 = 71837 | 1 = 71837\n",
      "auc=0.9777|sensitivity=0.9505|specificity=0.8936|acc=0.9221|mcc=0.8455\n",
      "precision=0.8993|recall=0.9505|f1=0.9242|aupr=0.9760\n"
     ]
    },
    {
     "name": "stderr",
     "output_type": "stream",
     "text": [
      "100%|██████████| 562/562 [00:45<00:00, 12.28it/s]\n"
     ]
    },
    {
     "name": "stdout",
     "output_type": "stream",
     "text": [
      "Fold-4****Train (Ep avg): Epoch-20/50 | Loss = 0.0710 | Time = 9.9648 sec\n"
     ]
    },
    {
     "name": "stderr",
     "output_type": "stream",
     "text": [
      "\r",
      "  0%|          | 0/141 [00:00<?, ?it/s]"
     ]
    },
    {
     "name": "stdout",
     "output_type": "stream",
     "text": [
      "tn = 279222, fp = 8126, fn = 8182, tp = 279166\n",
      "y_pred: 0 = 287404 | 1 = 287292\n",
      "y_true: 0 = 287348 | 1 = 287348\n",
      "auc=0.9969|sensitivity=0.9715|specificity=0.9717|acc=0.9716|mcc=0.9432\n",
      "precision=0.9717|recall=0.9715|f1=0.9716|aupr=0.9970\n"
     ]
    },
    {
     "name": "stderr",
     "output_type": "stream",
     "text": [
      "100%|██████████| 141/141 [00:04<00:00, 31.74it/s]\n"
     ]
    },
    {
     "name": "stdout",
     "output_type": "stream",
     "text": [
      "Fold-4 ****Test  Epoch-20/50: Loss = 0.302308\n",
      "tn = 64452, fp = 7385, fn = 3774, tp = 68063\n"
     ]
    },
    {
     "name": "stderr",
     "output_type": "stream",
     "text": [
      "  0%|          | 2/562 [00:00<00:44, 12.48it/s]"
     ]
    },
    {
     "name": "stdout",
     "output_type": "stream",
     "text": [
      "y_pred: 0 = 68226 | 1 = 75448\n",
      "y_true: 0 = 71837 | 1 = 71837\n",
      "auc=0.9773|sensitivity=0.9475|specificity=0.8972|acc=0.9223|mcc=0.8457\n",
      "precision=0.9021|recall=0.9475|f1=0.9242|aupr=0.9754\n"
     ]
    },
    {
     "name": "stderr",
     "output_type": "stream",
     "text": [
      "100%|██████████| 562/562 [00:45<00:00, 12.29it/s]\n"
     ]
    },
    {
     "name": "stdout",
     "output_type": "stream",
     "text": [
      "Fold-4****Train (Ep avg): Epoch-21/50 | Loss = 0.0680 | Time = 9.9554 sec\n",
      "tn = 279531, fp = 7817, fn = 7956, tp = 279392\n",
      "y_pred: 0 = 287487 | 1 = 287209\n",
      "y_true: 0 = 287348 | 1 = 287348\n",
      "auc=0.9972|sensitivity=0.9723|specificity=0.9728|acc=0.9726|mcc=0.9451\n",
      "precision=0.9728|recall=0.9723|f1=0.9725|aupr=0.9972\n"
     ]
    },
    {
     "name": "stderr",
     "output_type": "stream",
     "text": [
      "100%|██████████| 141/141 [00:04<00:00, 31.79it/s]\n"
     ]
    },
    {
     "name": "stdout",
     "output_type": "stream",
     "text": [
      "Fold-4 ****Test  Epoch-21/50: Loss = 0.310292\n"
     ]
    },
    {
     "name": "stderr",
     "output_type": "stream",
     "text": [
      "\r",
      "  0%|          | 0/562 [00:00<?, ?it/s]"
     ]
    },
    {
     "name": "stdout",
     "output_type": "stream",
     "text": [
      "tn = 64526, fp = 7311, fn = 3851, tp = 67986\n",
      "y_pred: 0 = 68377 | 1 = 75297\n",
      "y_true: 0 = 71837 | 1 = 71837\n",
      "auc=0.9775|sensitivity=0.9464|specificity=0.8982|acc=0.9223|mcc=0.8456\n",
      "precision=0.9029|recall=0.9464|f1=0.9241|aupr=0.9758\n"
     ]
    },
    {
     "name": "stderr",
     "output_type": "stream",
     "text": [
      "100%|██████████| 562/562 [00:45<00:00, 12.32it/s]\n"
     ]
    },
    {
     "name": "stdout",
     "output_type": "stream",
     "text": [
      "Fold-4****Train (Ep avg): Epoch-22/50 | Loss = 0.0660 | Time = 9.9535 sec\n",
      "tn = 279811, fp = 7537, fn = 7706, tp = 279642\n",
      "y_pred: 0 = 287517 | 1 = 287179\n",
      "y_true: 0 = 287348 | 1 = 287348\n",
      "auc=0.9973|sensitivity=0.9732|specificity=0.9738|acc=0.9735|mcc=0.9470\n",
      "precision=0.9738|recall=0.9732|f1=0.9735|aupr=0.9974\n"
     ]
    },
    {
     "name": "stderr",
     "output_type": "stream",
     "text": [
      "100%|██████████| 141/141 [00:04<00:00, 31.81it/s]\n"
     ]
    },
    {
     "name": "stdout",
     "output_type": "stream",
     "text": [
      "Fold-4 ****Test  Epoch-22/50: Loss = 0.314333\n"
     ]
    },
    {
     "name": "stderr",
     "output_type": "stream",
     "text": [
      "  0%|          | 2/562 [00:00<00:44, 12.51it/s]"
     ]
    },
    {
     "name": "stdout",
     "output_type": "stream",
     "text": [
      "tn = 64625, fp = 7212, fn = 3705, tp = 68132\n",
      "y_pred: 0 = 68330 | 1 = 75344\n",
      "y_true: 0 = 71837 | 1 = 71837\n",
      "auc=0.9779|sensitivity=0.9484|specificity=0.8996|acc=0.9240|mcc=0.8490\n",
      "precision=0.9043|recall=0.9484|f1=0.9258|aupr=0.9758\n"
     ]
    },
    {
     "name": "stderr",
     "output_type": "stream",
     "text": [
      "100%|██████████| 562/562 [00:45<00:00, 12.27it/s]\n"
     ]
    },
    {
     "name": "stdout",
     "output_type": "stream",
     "text": [
      "Fold-4****Train (Ep avg): Epoch-23/50 | Loss = 0.0636 | Time = 9.9789 sec\n"
     ]
    },
    {
     "name": "stderr",
     "output_type": "stream",
     "text": [
      "\r",
      "  0%|          | 0/141 [00:00<?, ?it/s]"
     ]
    },
    {
     "name": "stdout",
     "output_type": "stream",
     "text": [
      "tn = 280116, fp = 7232, fn = 7407, tp = 279941\n",
      "y_pred: 0 = 287523 | 1 = 287173\n",
      "y_true: 0 = 287348 | 1 = 287348\n",
      "auc=0.9975|sensitivity=0.9742|specificity=0.9748|acc=0.9745|mcc=0.9491\n",
      "precision=0.9748|recall=0.9742|f1=0.9745|aupr=0.9976\n"
     ]
    },
    {
     "name": "stderr",
     "output_type": "stream",
     "text": [
      "100%|██████████| 141/141 [00:04<00:00, 31.77it/s]\n"
     ]
    },
    {
     "name": "stdout",
     "output_type": "stream",
     "text": [
      "Fold-4 ****Test  Epoch-23/50: Loss = 0.322951\n",
      "tn = 64105, fp = 7732, fn = 3461, tp = 68376\n"
     ]
    },
    {
     "name": "stderr",
     "output_type": "stream",
     "text": [
      "  0%|          | 2/562 [00:00<00:44, 12.45it/s]"
     ]
    },
    {
     "name": "stdout",
     "output_type": "stream",
     "text": [
      "y_pred: 0 = 67566 | 1 = 76108\n",
      "y_true: 0 = 71837 | 1 = 71837\n",
      "auc=0.9778|sensitivity=0.9518|specificity=0.8924|acc=0.9221|mcc=0.8457\n",
      "precision=0.8984|recall=0.9518|f1=0.9243|aupr=0.9757\n"
     ]
    },
    {
     "name": "stderr",
     "output_type": "stream",
     "text": [
      "100%|██████████| 562/562 [00:45<00:00, 12.29it/s]\n"
     ]
    },
    {
     "name": "stdout",
     "output_type": "stream",
     "text": [
      "Fold-4****Train (Ep avg): Epoch-24/50 | Loss = 0.0606 | Time = 9.9780 sec\n",
      "tn = 280508, fp = 6840, fn = 7041, tp = 280307\n",
      "y_pred: 0 = 287549 | 1 = 287147\n",
      "y_true: 0 = 287348 | 1 = 287348\n",
      "auc=0.9977|sensitivity=0.9755|specificity=0.9762|acc=0.9758|mcc=0.9517\n",
      "precision=0.9762|recall=0.9755|f1=0.9758|aupr=0.9978\n"
     ]
    },
    {
     "name": "stderr",
     "output_type": "stream",
     "text": [
      "100%|██████████| 141/141 [00:04<00:00, 31.78it/s]\n"
     ]
    },
    {
     "name": "stdout",
     "output_type": "stream",
     "text": [
      "Fold-4 ****Test  Epoch-24/50: Loss = 0.310685\n"
     ]
    },
    {
     "name": "stderr",
     "output_type": "stream",
     "text": [
      "\r",
      "  0%|          | 0/562 [00:00<?, ?it/s]"
     ]
    },
    {
     "name": "stdout",
     "output_type": "stream",
     "text": [
      "tn = 65012, fp = 6825, fn = 3851, tp = 67986\n",
      "y_pred: 0 = 68863 | 1 = 74811\n",
      "y_true: 0 = 71837 | 1 = 71837\n",
      "auc=0.9783|sensitivity=0.9464|specificity=0.9050|acc=0.9257|mcc=0.8521\n",
      "precision=0.9088|recall=0.9464|f1=0.9272|aupr=0.9762\n",
      "****Saving model: Best epoch = 24 | 5metrics_Best_avg = 0.9208\n",
      "*****Path saver:  ./model/pHLAIformer/no_positional_embedding__model_layer1_multihead9_fold4.pkl\n"
     ]
    },
    {
     "name": "stderr",
     "output_type": "stream",
     "text": [
      "100%|██████████| 562/562 [00:45<00:00, 12.28it/s]\n"
     ]
    },
    {
     "name": "stdout",
     "output_type": "stream",
     "text": [
      "Fold-4****Train (Ep avg): Epoch-25/50 | Loss = 0.0582 | Time = 9.9848 sec\n"
     ]
    },
    {
     "name": "stderr",
     "output_type": "stream",
     "text": [
      "\r",
      "  0%|          | 0/141 [00:00<?, ?it/s]"
     ]
    },
    {
     "name": "stdout",
     "output_type": "stream",
     "text": [
      "tn = 280724, fp = 6624, fn = 6823, tp = 280525\n",
      "y_pred: 0 = 287547 | 1 = 287149\n",
      "y_true: 0 = 287348 | 1 = 287348\n",
      "auc=0.9979|sensitivity=0.9763|specificity=0.9769|acc=0.9766|mcc=0.9532\n",
      "precision=0.9769|recall=0.9763|f1=0.9766|aupr=0.9979\n"
     ]
    },
    {
     "name": "stderr",
     "output_type": "stream",
     "text": [
      "100%|██████████| 141/141 [00:04<00:00, 32.81it/s]\n"
     ]
    },
    {
     "name": "stdout",
     "output_type": "stream",
     "text": [
      "Fold-4 ****Test  Epoch-25/50: Loss = 0.327669\n"
     ]
    },
    {
     "name": "stderr",
     "output_type": "stream",
     "text": [
      "\r",
      "  0%|          | 0/562 [00:00<?, ?it/s]"
     ]
    },
    {
     "name": "stdout",
     "output_type": "stream",
     "text": [
      "tn = 64281, fp = 7556, fn = 3553, tp = 68284\n",
      "y_pred: 0 = 67834 | 1 = 75840\n",
      "y_true: 0 = 71837 | 1 = 71837\n",
      "auc=0.9782|sensitivity=0.9505|specificity=0.8948|acc=0.9227|mcc=0.8467\n",
      "precision=0.9004|recall=0.9505|f1=0.9248|aupr=0.9765\n"
     ]
    },
    {
     "name": "stderr",
     "output_type": "stream",
     "text": [
      "100%|██████████| 562/562 [00:45<00:00, 12.29it/s]\n"
     ]
    },
    {
     "name": "stdout",
     "output_type": "stream",
     "text": [
      "Fold-4****Train (Ep avg): Epoch-26/50 | Loss = 0.0556 | Time = 9.9653 sec\n",
      "tn = 281024, fp = 6324, fn = 6466, tp = 280882\n",
      "y_pred: 0 = 287490 | 1 = 287206\n",
      "y_true: 0 = 287348 | 1 = 287348\n",
      "auc=0.9981|sensitivity=0.9775|specificity=0.9780|acc=0.9777|mcc=0.9555\n",
      "precision=0.9780|recall=0.9775|f1=0.9777|aupr=0.9981\n"
     ]
    },
    {
     "name": "stderr",
     "output_type": "stream",
     "text": [
      "100%|██████████| 141/141 [00:04<00:00, 32.66it/s]\n"
     ]
    },
    {
     "name": "stdout",
     "output_type": "stream",
     "text": [
      "Fold-4 ****Test  Epoch-26/50: Loss = 0.333025\n",
      "tn = 64535, fp = 7302, fn = 3930, tp = 67907\n"
     ]
    },
    {
     "name": "stderr",
     "output_type": "stream",
     "text": [
      "\r",
      "  0%|          | 0/562 [00:00<?, ?it/s]"
     ]
    },
    {
     "name": "stdout",
     "output_type": "stream",
     "text": [
      "y_pred: 0 = 68465 | 1 = 75209\n",
      "y_true: 0 = 71837 | 1 = 71837\n",
      "auc=0.9770|sensitivity=0.9453|specificity=0.8984|acc=0.9218|mcc=0.8446\n",
      "precision=0.9029|recall=0.9453|f1=0.9236|aupr=0.9753\n"
     ]
    },
    {
     "name": "stderr",
     "output_type": "stream",
     "text": [
      "100%|██████████| 562/562 [00:45<00:00, 12.28it/s]\n"
     ]
    },
    {
     "name": "stdout",
     "output_type": "stream",
     "text": [
      "Fold-4****Train (Ep avg): Epoch-27/50 | Loss = 0.0550 | Time = 9.9867 sec\n",
      "tn = 281052, fp = 6296, fn = 6266, tp = 281082\n",
      "y_pred: 0 = 287318 | 1 = 287378\n",
      "y_true: 0 = 287348 | 1 = 287348\n",
      "auc=0.9981|sensitivity=0.9782|specificity=0.9781|acc=0.9781|mcc=0.9563\n",
      "precision=0.9781|recall=0.9782|f1=0.9781|aupr=0.9982\n"
     ]
    },
    {
     "name": "stderr",
     "output_type": "stream",
     "text": [
      "100%|██████████| 141/141 [00:04<00:00, 31.76it/s]\n"
     ]
    },
    {
     "name": "stdout",
     "output_type": "stream",
     "text": [
      "Fold-4 ****Test  Epoch-27/50: Loss = 0.318138\n"
     ]
    },
    {
     "name": "stderr",
     "output_type": "stream",
     "text": [
      "\r",
      "  0%|          | 0/562 [00:00<?, ?it/s]"
     ]
    },
    {
     "name": "stdout",
     "output_type": "stream",
     "text": [
      "tn = 65207, fp = 6630, fn = 4272, tp = 67565\n",
      "y_pred: 0 = 69479 | 1 = 74195\n",
      "y_true: 0 = 71837 | 1 = 71837\n",
      "auc=0.9779|sensitivity=0.9405|specificity=0.9077|acc=0.9241|mcc=0.8487\n",
      "precision=0.9106|recall=0.9405|f1=0.9253|aupr=0.9762\n"
     ]
    },
    {
     "name": "stderr",
     "output_type": "stream",
     "text": [
      "100%|██████████| 562/562 [00:45<00:00, 12.31it/s]\n"
     ]
    },
    {
     "name": "stdout",
     "output_type": "stream",
     "text": [
      "Fold-4****Train (Ep avg): Epoch-28/50 | Loss = 0.0524 | Time = 9.9741 sec\n",
      "tn = 281374, fp = 5974, fn = 6034, tp = 281314\n",
      "y_pred: 0 = 287408 | 1 = 287288\n",
      "y_true: 0 = 287348 | 1 = 287348\n",
      "auc=0.9983|sensitivity=0.9790|specificity=0.9792|acc=0.9791|mcc=0.9582\n",
      "precision=0.9792|recall=0.9790|f1=0.9791|aupr=0.9983\n"
     ]
    },
    {
     "name": "stderr",
     "output_type": "stream",
     "text": [
      "100%|██████████| 141/141 [00:04<00:00, 31.54it/s]\n"
     ]
    },
    {
     "name": "stdout",
     "output_type": "stream",
     "text": [
      "Fold-4 ****Test  Epoch-28/50: Loss = 0.309756\n"
     ]
    },
    {
     "name": "stderr",
     "output_type": "stream",
     "text": [
      "\r",
      "  0%|          | 0/562 [00:00<?, ?it/s]"
     ]
    },
    {
     "name": "stdout",
     "output_type": "stream",
     "text": [
      "tn = 66118, fp = 5719, fn = 5013, tp = 66824\n",
      "y_pred: 0 = 71131 | 1 = 72543\n",
      "y_true: 0 = 71837 | 1 = 71837\n",
      "auc=0.9780|sensitivity=0.9302|specificity=0.9204|acc=0.9253|mcc=0.8506\n",
      "precision=0.9212|recall=0.9302|f1=0.9257|aupr=0.9763\n"
     ]
    },
    {
     "name": "stderr",
     "output_type": "stream",
     "text": [
      "100%|██████████| 562/562 [00:45<00:00, 12.26it/s]\n"
     ]
    },
    {
     "name": "stdout",
     "output_type": "stream",
     "text": [
      "Fold-4****Train (Ep avg): Epoch-29/50 | Loss = 0.0493 | Time = 9.9802 sec\n",
      "tn = 281729, fp = 5619, fn = 5576, tp = 281772\n",
      "y_pred: 0 = 287305 | 1 = 287391\n",
      "y_true: 0 = 287348 | 1 = 287348\n",
      "auc=0.9985|sensitivity=0.9806|specificity=0.9804|acc=0.9805|mcc=0.9610\n",
      "precision=0.9804|recall=0.9806|f1=0.9805|aupr=0.9985\n"
     ]
    },
    {
     "name": "stderr",
     "output_type": "stream",
     "text": [
      "100%|██████████| 141/141 [00:04<00:00, 32.79it/s]\n"
     ]
    },
    {
     "name": "stdout",
     "output_type": "stream",
     "text": [
      "Fold-4 ****Test  Epoch-29/50: Loss = 0.317408\n"
     ]
    },
    {
     "name": "stderr",
     "output_type": "stream",
     "text": [
      "  0%|          | 2/562 [00:00<00:44, 12.51it/s]"
     ]
    },
    {
     "name": "stdout",
     "output_type": "stream",
     "text": [
      "tn = 66250, fp = 5587, fn = 5105, tp = 66732\n",
      "y_pred: 0 = 71355 | 1 = 72319\n",
      "y_true: 0 = 71837 | 1 = 71837\n",
      "auc=0.9780|sensitivity=0.9289|specificity=0.9222|acc=0.9256|mcc=0.8512\n",
      "precision=0.9227|recall=0.9289|f1=0.9258|aupr=0.9762\n"
     ]
    },
    {
     "name": "stderr",
     "output_type": "stream",
     "text": [
      "100%|██████████| 562/562 [00:46<00:00, 12.18it/s]\n"
     ]
    },
    {
     "name": "stdout",
     "output_type": "stream",
     "text": [
      "Fold-4****Train (Ep avg): Epoch-30/50 | Loss = 0.0493 | Time = 10.0155 sec\n",
      "tn = 281788, fp = 5560, fn = 5681, tp = 281667\n",
      "y_pred: 0 = 287469 | 1 = 287227\n",
      "y_true: 0 = 287348 | 1 = 287348\n",
      "auc=0.9985|sensitivity=0.9802|specificity=0.9807|acc=0.9804|mcc=0.9609\n",
      "precision=0.9806|recall=0.9802|f1=0.9804|aupr=0.9985\n"
     ]
    },
    {
     "name": "stderr",
     "output_type": "stream",
     "text": [
      "100%|██████████| 141/141 [00:04<00:00, 31.72it/s]\n"
     ]
    },
    {
     "name": "stdout",
     "output_type": "stream",
     "text": [
      "Fold-4 ****Test  Epoch-30/50: Loss = 0.313860\n"
     ]
    },
    {
     "name": "stderr",
     "output_type": "stream",
     "text": [
      "\r",
      "  0%|          | 0/562 [00:00<?, ?it/s]"
     ]
    },
    {
     "name": "stdout",
     "output_type": "stream",
     "text": [
      "tn = 66284, fp = 5553, fn = 4914, tp = 66923\n",
      "y_pred: 0 = 71198 | 1 = 72476\n",
      "y_true: 0 = 71837 | 1 = 71837\n",
      "auc=0.9791|sensitivity=0.9316|specificity=0.9227|acc=0.9271|mcc=0.8543\n",
      "precision=0.9234|recall=0.9316|f1=0.9275|aupr=0.9776\n",
      "****Saving model: Best epoch = 30 | 5metrics_Best_avg = 0.9220\n",
      "*****Path saver:  ./model/pHLAIformer/no_positional_embedding__model_layer1_multihead9_fold4.pkl\n"
     ]
    },
    {
     "name": "stderr",
     "output_type": "stream",
     "text": [
      "100%|██████████| 562/562 [00:47<00:00, 11.89it/s]\n"
     ]
    },
    {
     "name": "stdout",
     "output_type": "stream",
     "text": [
      "Fold-4****Train (Ep avg): Epoch-31/50 | Loss = 0.0488 | Time = 10.0711 sec\n",
      "tn = 281881, fp = 5467, fn = 5591, tp = 281757\n",
      "y_pred: 0 = 287472 | 1 = 287224\n",
      "y_true: 0 = 287348 | 1 = 287348\n",
      "auc=0.9985|sensitivity=0.9805|specificity=0.9810|acc=0.9808|mcc=0.9615\n",
      "precision=0.9810|recall=0.9805|f1=0.9808|aupr=0.9985\n"
     ]
    },
    {
     "name": "stderr",
     "output_type": "stream",
     "text": [
      "100%|██████████| 141/141 [00:04<00:00, 31.12it/s]\n"
     ]
    },
    {
     "name": "stdout",
     "output_type": "stream",
     "text": [
      "Fold-4 ****Test  Epoch-31/50: Loss = 0.321787\n"
     ]
    },
    {
     "name": "stderr",
     "output_type": "stream",
     "text": [
      "\r",
      "  0%|          | 0/562 [00:00<?, ?it/s]"
     ]
    },
    {
     "name": "stdout",
     "output_type": "stream",
     "text": [
      "tn = 66714, fp = 5123, fn = 5378, tp = 66459\n",
      "y_pred: 0 = 72092 | 1 = 71582\n",
      "y_true: 0 = 71837 | 1 = 71837\n",
      "auc=0.9788|sensitivity=0.9251|specificity=0.9287|acc=0.9269|mcc=0.8538\n",
      "precision=0.9284|recall=0.9251|f1=0.9268|aupr=0.9771\n"
     ]
    },
    {
     "name": "stderr",
     "output_type": "stream",
     "text": [
      "100%|██████████| 562/562 [00:46<00:00, 11.99it/s]\n"
     ]
    },
    {
     "name": "stdout",
     "output_type": "stream",
     "text": [
      "Fold-4****Train (Ep avg): Epoch-32/50 | Loss = 0.0457 | Time = 10.0888 sec\n",
      "tn = 282257, fp = 5091, fn = 5053, tp = 282295\n",
      "y_pred: 0 = 287310 | 1 = 287386\n",
      "y_true: 0 = 287348 | 1 = 287348\n",
      "auc=0.9987|sensitivity=0.9824|specificity=0.9823|acc=0.9823|mcc=0.9647\n",
      "precision=0.9823|recall=0.9824|f1=0.9824|aupr=0.9987\n"
     ]
    },
    {
     "name": "stderr",
     "output_type": "stream",
     "text": [
      "100%|██████████| 141/141 [00:04<00:00, 30.80it/s]\n"
     ]
    },
    {
     "name": "stdout",
     "output_type": "stream",
     "text": [
      "Fold-4 ****Test  Epoch-32/50: Loss = 0.331164\n"
     ]
    },
    {
     "name": "stderr",
     "output_type": "stream",
     "text": [
      "\r",
      "  0%|          | 0/562 [00:00<?, ?it/s]"
     ]
    },
    {
     "name": "stdout",
     "output_type": "stream",
     "text": [
      "tn = 67141, fp = 4696, fn = 5894, tp = 65943\n",
      "y_pred: 0 = 73035 | 1 = 70639\n",
      "y_true: 0 = 71837 | 1 = 71837\n",
      "auc=0.9787|sensitivity=0.9180|specificity=0.9346|acc=0.9263|mcc=0.8527\n",
      "precision=0.9335|recall=0.9180|f1=0.9257|aupr=0.9770\n"
     ]
    },
    {
     "name": "stderr",
     "output_type": "stream",
     "text": [
      "100%|██████████| 562/562 [00:47<00:00, 11.90it/s]\n"
     ]
    },
    {
     "name": "stdout",
     "output_type": "stream",
     "text": [
      "Fold-4****Train (Ep avg): Epoch-33/50 | Loss = 0.0446 | Time = 10.0917 sec\n",
      "tn = 282306, fp = 5042, fn = 4954, tp = 282394\n",
      "y_pred: 0 = 287260 | 1 = 287436\n",
      "y_true: 0 = 287348 | 1 = 287348\n",
      "auc=0.9988|sensitivity=0.9828|specificity=0.9825|acc=0.9826|mcc=0.9652\n",
      "precision=0.9825|recall=0.9828|f1=0.9826|aupr=0.9988\n"
     ]
    },
    {
     "name": "stderr",
     "output_type": "stream",
     "text": [
      "100%|██████████| 141/141 [00:04<00:00, 31.36it/s]\n"
     ]
    },
    {
     "name": "stdout",
     "output_type": "stream",
     "text": [
      "Fold-4 ****Test  Epoch-33/50: Loss = 0.325846\n"
     ]
    },
    {
     "name": "stderr",
     "output_type": "stream",
     "text": [
      "\r",
      "  0%|          | 0/562 [00:00<?, ?it/s]"
     ]
    },
    {
     "name": "stdout",
     "output_type": "stream",
     "text": [
      "tn = 66730, fp = 5107, fn = 5086, tp = 66751\n",
      "y_pred: 0 = 71816 | 1 = 71858\n",
      "y_true: 0 = 71837 | 1 = 71837\n",
      "auc=0.9797|sensitivity=0.9292|specificity=0.9289|acc=0.9291|mcc=0.8581\n",
      "precision=0.9289|recall=0.9292|f1=0.9291|aupr=0.9781\n",
      "****Saving model: Best epoch = 33 | 5metrics_Best_avg = 0.9240\n",
      "*****Path saver:  ./model/pHLAIformer/no_positional_embedding__model_layer1_multihead9_fold4.pkl\n"
     ]
    },
    {
     "name": "stderr",
     "output_type": "stream",
     "text": [
      "100%|██████████| 562/562 [00:46<00:00, 11.97it/s]\n"
     ]
    },
    {
     "name": "stdout",
     "output_type": "stream",
     "text": [
      "Fold-4****Train (Ep avg): Epoch-34/50 | Loss = 0.0438 | Time = 10.0341 sec\n"
     ]
    },
    {
     "name": "stderr",
     "output_type": "stream",
     "text": [
      "\r",
      "  0%|          | 0/141 [00:00<?, ?it/s]"
     ]
    },
    {
     "name": "stdout",
     "output_type": "stream",
     "text": [
      "tn = 282525, fp = 4823, fn = 4890, tp = 282458\n",
      "y_pred: 0 = 287415 | 1 = 287281\n",
      "y_true: 0 = 287348 | 1 = 287348\n",
      "auc=0.9988|sensitivity=0.9830|specificity=0.9832|acc=0.9831|mcc=0.9662\n",
      "precision=0.9832|recall=0.9830|f1=0.9831|aupr=0.9988\n"
     ]
    },
    {
     "name": "stderr",
     "output_type": "stream",
     "text": [
      "100%|██████████| 141/141 [00:04<00:00, 31.24it/s]\n"
     ]
    },
    {
     "name": "stdout",
     "output_type": "stream",
     "text": [
      "Fold-4 ****Test  Epoch-34/50: Loss = 0.332826\n"
     ]
    },
    {
     "name": "stderr",
     "output_type": "stream",
     "text": [
      "\r",
      "  0%|          | 0/562 [00:00<?, ?it/s]"
     ]
    },
    {
     "name": "stdout",
     "output_type": "stream",
     "text": [
      "tn = 66652, fp = 5185, fn = 5451, tp = 66386\n",
      "y_pred: 0 = 72103 | 1 = 71571\n",
      "y_true: 0 = 71837 | 1 = 71837\n",
      "auc=0.9786|sensitivity=0.9241|specificity=0.9278|acc=0.9260|mcc=0.8519\n",
      "precision=0.9276|recall=0.9241|f1=0.9258|aupr=0.9767\n"
     ]
    },
    {
     "name": "stderr",
     "output_type": "stream",
     "text": [
      "100%|██████████| 562/562 [00:46<00:00, 12.04it/s]\n"
     ]
    },
    {
     "name": "stdout",
     "output_type": "stream",
     "text": [
      "Fold-4****Train (Ep avg): Epoch-35/50 | Loss = 0.0422 | Time = 10.0492 sec\n"
     ]
    },
    {
     "name": "stderr",
     "output_type": "stream",
     "text": [
      "\r",
      "  0%|          | 0/141 [00:00<?, ?it/s]"
     ]
    },
    {
     "name": "stdout",
     "output_type": "stream",
     "text": [
      "tn = 282697, fp = 4651, fn = 4685, tp = 282663\n",
      "y_pred: 0 = 287382 | 1 = 287314\n",
      "y_true: 0 = 287348 | 1 = 287348\n",
      "auc=0.9989|sensitivity=0.9837|specificity=0.9838|acc=0.9838|mcc=0.9675\n",
      "precision=0.9838|recall=0.9837|f1=0.9838|aupr=0.9989\n"
     ]
    },
    {
     "name": "stderr",
     "output_type": "stream",
     "text": [
      "100%|██████████| 141/141 [00:04<00:00, 31.50it/s]\n"
     ]
    },
    {
     "name": "stdout",
     "output_type": "stream",
     "text": [
      "Fold-4 ****Test  Epoch-35/50: Loss = 0.340152\n"
     ]
    },
    {
     "name": "stderr",
     "output_type": "stream",
     "text": [
      "\r",
      "  0%|          | 0/562 [00:00<?, ?it/s]"
     ]
    },
    {
     "name": "stdout",
     "output_type": "stream",
     "text": [
      "tn = 66531, fp = 5306, fn = 5193, tp = 66644\n",
      "y_pred: 0 = 71724 | 1 = 71950\n",
      "y_true: 0 = 71837 | 1 = 71837\n",
      "auc=0.9788|sensitivity=0.9277|specificity=0.9261|acc=0.9269|mcc=0.8539\n",
      "precision=0.9263|recall=0.9277|f1=0.9270|aupr=0.9773\n"
     ]
    },
    {
     "name": "stderr",
     "output_type": "stream",
     "text": [
      "100%|██████████| 562/562 [00:47<00:00, 11.91it/s]\n"
     ]
    },
    {
     "name": "stdout",
     "output_type": "stream",
     "text": [
      "Fold-4****Train (Ep avg): Epoch-36/50 | Loss = 0.0426 | Time = 10.1095 sec\n",
      "tn = 282586, fp = 4762, fn = 4715, tp = 282633\n",
      "y_pred: 0 = 287301 | 1 = 287395\n",
      "y_true: 0 = 287348 | 1 = 287348\n",
      "auc=0.9989|sensitivity=0.9836|specificity=0.9834|acc=0.9835|mcc=0.9670\n",
      "precision=0.9834|recall=0.9836|f1=0.9835|aupr=0.9989\n"
     ]
    },
    {
     "name": "stderr",
     "output_type": "stream",
     "text": [
      "100%|██████████| 141/141 [00:04<00:00, 32.08it/s]\n"
     ]
    },
    {
     "name": "stdout",
     "output_type": "stream",
     "text": [
      "Fold-4 ****Test  Epoch-36/50: Loss = 0.343450\n"
     ]
    },
    {
     "name": "stderr",
     "output_type": "stream",
     "text": [
      "\r",
      "  0%|          | 0/562 [00:00<?, ?it/s]"
     ]
    },
    {
     "name": "stdout",
     "output_type": "stream",
     "text": [
      "tn = 66350, fp = 5487, fn = 5002, tp = 66835\n",
      "y_pred: 0 = 71352 | 1 = 72322\n",
      "y_true: 0 = 71837 | 1 = 71837\n",
      "auc=0.9790|sensitivity=0.9304|specificity=0.9236|acc=0.9270|mcc=0.8540\n",
      "precision=0.9241|recall=0.9304|f1=0.9272|aupr=0.9775\n"
     ]
    },
    {
     "name": "stderr",
     "output_type": "stream",
     "text": [
      "100%|██████████| 562/562 [00:47<00:00, 11.93it/s]\n"
     ]
    },
    {
     "name": "stdout",
     "output_type": "stream",
     "text": [
      "Fold-4****Train (Ep avg): Epoch-37/50 | Loss = 0.0403 | Time = 10.0772 sec\n",
      "tn = 282829, fp = 4519, fn = 4516, tp = 282832\n",
      "y_pred: 0 = 287345 | 1 = 287351\n",
      "y_true: 0 = 287348 | 1 = 287348\n",
      "auc=0.9990|sensitivity=0.9843|specificity=0.9843|acc=0.9843|mcc=0.9686\n",
      "precision=0.9843|recall=0.9843|f1=0.9843|aupr=0.9990\n"
     ]
    },
    {
     "name": "stderr",
     "output_type": "stream",
     "text": [
      "100%|██████████| 141/141 [00:04<00:00, 31.40it/s]\n"
     ]
    },
    {
     "name": "stdout",
     "output_type": "stream",
     "text": [
      "Fold-4 ****Test  Epoch-37/50: Loss = 0.339859\n"
     ]
    },
    {
     "name": "stderr",
     "output_type": "stream",
     "text": [
      "\r",
      "  0%|          | 0/562 [00:00<?, ?it/s]"
     ]
    },
    {
     "name": "stdout",
     "output_type": "stream",
     "text": [
      "tn = 65967, fp = 5870, fn = 4360, tp = 67477\n",
      "y_pred: 0 = 70327 | 1 = 73347\n",
      "y_true: 0 = 71837 | 1 = 71837\n",
      "auc=0.9795|sensitivity=0.9393|specificity=0.9183|acc=0.9288|mcc=0.8578\n",
      "precision=0.9200|recall=0.9393|f1=0.9295|aupr=0.9779\n"
     ]
    },
    {
     "name": "stderr",
     "output_type": "stream",
     "text": [
      "100%|██████████| 562/562 [00:47<00:00, 11.95it/s]\n"
     ]
    },
    {
     "name": "stdout",
     "output_type": "stream",
     "text": [
      "Fold-4****Train (Ep avg): Epoch-38/50 | Loss = 0.0385 | Time = 10.0598 sec\n",
      "tn = 283023, fp = 4325, fn = 4261, tp = 283087\n",
      "y_pred: 0 = 287284 | 1 = 287412\n",
      "y_true: 0 = 287348 | 1 = 287348\n",
      "auc=0.9991|sensitivity=0.9852|specificity=0.9849|acc=0.9851|mcc=0.9701\n",
      "precision=0.9850|recall=0.9852|f1=0.9851|aupr=0.9991\n"
     ]
    },
    {
     "name": "stderr",
     "output_type": "stream",
     "text": [
      "100%|██████████| 141/141 [00:04<00:00, 31.46it/s]\n"
     ]
    },
    {
     "name": "stdout",
     "output_type": "stream",
     "text": [
      "Fold-4 ****Test  Epoch-38/50: Loss = 0.356911\n"
     ]
    },
    {
     "name": "stderr",
     "output_type": "stream",
     "text": [
      "\r",
      "  0%|          | 0/562 [00:00<?, ?it/s]"
     ]
    },
    {
     "name": "stdout",
     "output_type": "stream",
     "text": [
      "tn = 65404, fp = 6433, fn = 3835, tp = 68002\n",
      "y_pred: 0 = 69239 | 1 = 74435\n",
      "y_true: 0 = 71837 | 1 = 71837\n",
      "auc=0.9795|sensitivity=0.9466|specificity=0.9105|acc=0.9285|mcc=0.8576\n",
      "precision=0.9136|recall=0.9466|f1=0.9298|aupr=0.9780\n"
     ]
    },
    {
     "name": "stderr",
     "output_type": "stream",
     "text": [
      "100%|██████████| 562/562 [00:46<00:00, 12.02it/s]\n"
     ]
    },
    {
     "name": "stdout",
     "output_type": "stream",
     "text": [
      "Fold-4****Train (Ep avg): Epoch-39/50 | Loss = 0.0393 | Time = 10.0200 sec\n"
     ]
    },
    {
     "name": "stderr",
     "output_type": "stream",
     "text": [
      "\r",
      "  0%|          | 0/141 [00:00<?, ?it/s]"
     ]
    },
    {
     "name": "stdout",
     "output_type": "stream",
     "text": [
      "tn = 282964, fp = 4384, fn = 4347, tp = 283001\n",
      "y_pred: 0 = 287311 | 1 = 287385\n",
      "y_true: 0 = 287348 | 1 = 287348\n",
      "auc=0.9990|sensitivity=0.9849|specificity=0.9847|acc=0.9848|mcc=0.9696\n",
      "precision=0.9847|recall=0.9849|f1=0.9848|aupr=0.9990\n"
     ]
    },
    {
     "name": "stderr",
     "output_type": "stream",
     "text": [
      "100%|██████████| 141/141 [00:04<00:00, 32.89it/s]\n"
     ]
    },
    {
     "name": "stdout",
     "output_type": "stream",
     "text": [
      "Fold-4 ****Test  Epoch-39/50: Loss = 0.341091\n"
     ]
    },
    {
     "name": "stderr",
     "output_type": "stream",
     "text": [
      "\r",
      "  0%|          | 0/562 [00:00<?, ?it/s]"
     ]
    },
    {
     "name": "stdout",
     "output_type": "stream",
     "text": [
      "tn = 66061, fp = 5776, fn = 4396, tp = 67441\n",
      "y_pred: 0 = 70457 | 1 = 73217\n",
      "y_true: 0 = 71837 | 1 = 71837\n",
      "auc=0.9796|sensitivity=0.9388|specificity=0.9196|acc=0.9292|mcc=0.8586\n",
      "precision=0.9211|recall=0.9388|f1=0.9299|aupr=0.9781\n",
      "****Saving model: Best epoch = 39 | 5metrics_Best_avg = 0.9243\n",
      "*****Path saver:  ./model/pHLAIformer/no_positional_embedding__model_layer1_multihead9_fold4.pkl\n"
     ]
    },
    {
     "name": "stderr",
     "output_type": "stream",
     "text": [
      "100%|██████████| 562/562 [00:46<00:00, 11.98it/s]\n"
     ]
    },
    {
     "name": "stdout",
     "output_type": "stream",
     "text": [
      "Fold-4****Train (Ep avg): Epoch-40/50 | Loss = 0.0381 | Time = 10.0255 sec\n",
      "tn = 283140, fp = 4208, fn = 4145, tp = 283203\n",
      "y_pred: 0 = 287285 | 1 = 287411\n",
      "y_true: 0 = 287348 | 1 = 287348\n",
      "auc=0.9991|sensitivity=0.9856|specificity=0.9854|acc=0.9855|mcc=0.9709\n",
      "precision=0.9854|recall=0.9856|f1=0.9855|aupr=0.9991\n"
     ]
    },
    {
     "name": "stderr",
     "output_type": "stream",
     "text": [
      "100%|██████████| 141/141 [00:04<00:00, 32.84it/s]\n"
     ]
    },
    {
     "name": "stdout",
     "output_type": "stream",
     "text": [
      "Fold-4 ****Test  Epoch-40/50: Loss = 0.348448\n"
     ]
    },
    {
     "name": "stderr",
     "output_type": "stream",
     "text": [
      "\r",
      "  0%|          | 0/562 [00:00<?, ?it/s]"
     ]
    },
    {
     "name": "stdout",
     "output_type": "stream",
     "text": [
      "tn = 65178, fp = 6659, fn = 3718, tp = 68119\n",
      "y_pred: 0 = 68896 | 1 = 74778\n",
      "y_true: 0 = 71837 | 1 = 71837\n",
      "auc=0.9795|sensitivity=0.9482|specificity=0.9073|acc=0.9278|mcc=0.8563\n",
      "precision=0.9109|recall=0.9482|f1=0.9292|aupr=0.9781\n"
     ]
    },
    {
     "name": "stderr",
     "output_type": "stream",
     "text": [
      "100%|██████████| 562/562 [00:46<00:00, 12.03it/s]\n"
     ]
    },
    {
     "name": "stdout",
     "output_type": "stream",
     "text": [
      "Fold-4****Train (Ep avg): Epoch-41/50 | Loss = 0.0370 | Time = 10.0101 sec\n"
     ]
    },
    {
     "name": "stderr",
     "output_type": "stream",
     "text": [
      "\r",
      "  0%|          | 0/141 [00:00<?, ?it/s]"
     ]
    },
    {
     "name": "stdout",
     "output_type": "stream",
     "text": [
      "tn = 283256, fp = 4092, fn = 4039, tp = 283309\n",
      "y_pred: 0 = 287295 | 1 = 287401\n",
      "y_true: 0 = 287348 | 1 = 287348\n",
      "auc=0.9991|sensitivity=0.9859|specificity=0.9858|acc=0.9859|mcc=0.9717\n",
      "precision=0.9858|recall=0.9859|f1=0.9859|aupr=0.9992\n"
     ]
    },
    {
     "name": "stderr",
     "output_type": "stream",
     "text": [
      "100%|██████████| 141/141 [00:04<00:00, 31.97it/s]\n"
     ]
    },
    {
     "name": "stdout",
     "output_type": "stream",
     "text": [
      "Fold-4 ****Test  Epoch-41/50: Loss = 0.355107\n"
     ]
    },
    {
     "name": "stderr",
     "output_type": "stream",
     "text": [
      "\r",
      "  0%|          | 0/562 [00:00<?, ?it/s]"
     ]
    },
    {
     "name": "stdout",
     "output_type": "stream",
     "text": [
      "tn = 65403, fp = 6434, fn = 4087, tp = 67750\n",
      "y_pred: 0 = 69490 | 1 = 74184\n",
      "y_true: 0 = 71837 | 1 = 71837\n",
      "auc=0.9792|sensitivity=0.9431|specificity=0.9104|acc=0.9268|mcc=0.8540\n",
      "precision=0.9133|recall=0.9431|f1=0.9279|aupr=0.9776\n"
     ]
    },
    {
     "name": "stderr",
     "output_type": "stream",
     "text": [
      "100%|██████████| 562/562 [00:46<00:00, 12.06it/s]\n"
     ]
    },
    {
     "name": "stdout",
     "output_type": "stream",
     "text": [
      "Fold-4****Train (Ep avg): Epoch-42/50 | Loss = 0.0365 | Time = 10.0190 sec\n",
      "tn = 283322, fp = 4026, fn = 4046, tp = 283302\n",
      "y_pred: 0 = 287368 | 1 = 287328\n",
      "y_true: 0 = 287348 | 1 = 287348\n",
      "auc=0.9992|sensitivity=0.9859|specificity=0.9860|acc=0.9860|mcc=0.9719\n",
      "precision=0.9860|recall=0.9859|f1=0.9860|aupr=0.9992\n"
     ]
    },
    {
     "name": "stderr",
     "output_type": "stream",
     "text": [
      "100%|██████████| 141/141 [00:04<00:00, 31.98it/s]\n"
     ]
    },
    {
     "name": "stdout",
     "output_type": "stream",
     "text": [
      "Fold-4 ****Test  Epoch-42/50: Loss = 0.352788\n"
     ]
    },
    {
     "name": "stderr",
     "output_type": "stream",
     "text": [
      "\r",
      "  0%|          | 0/562 [00:00<?, ?it/s]"
     ]
    },
    {
     "name": "stdout",
     "output_type": "stream",
     "text": [
      "tn = 64751, fp = 7086, fn = 3504, tp = 68333\n",
      "y_pred: 0 = 68255 | 1 = 75419\n",
      "y_true: 0 = 71837 | 1 = 71837\n",
      "auc=0.9793|sensitivity=0.9512|specificity=0.9014|acc=0.9263|mcc=0.8536\n",
      "precision=0.9060|recall=0.9512|f1=0.9281|aupr=0.9777\n"
     ]
    },
    {
     "name": "stderr",
     "output_type": "stream",
     "text": [
      "100%|██████████| 562/562 [00:46<00:00, 12.03it/s]\n"
     ]
    },
    {
     "name": "stdout",
     "output_type": "stream",
     "text": [
      "Fold-4****Train (Ep avg): Epoch-43/50 | Loss = 0.0349 | Time = 10.0086 sec\n",
      "tn = 283608, fp = 3740, fn = 3875, tp = 283473\n",
      "y_pred: 0 = 287483 | 1 = 287213\n",
      "y_true: 0 = 287348 | 1 = 287348\n",
      "auc=0.9992|sensitivity=0.9865|specificity=0.9870|acc=0.9867|mcc=0.9735\n",
      "precision=0.9870|recall=0.9865|f1=0.9867|aupr=0.9992\n"
     ]
    },
    {
     "name": "stderr",
     "output_type": "stream",
     "text": [
      "100%|██████████| 141/141 [00:04<00:00, 31.98it/s]\n"
     ]
    },
    {
     "name": "stdout",
     "output_type": "stream",
     "text": [
      "Fold-4 ****Test  Epoch-43/50: Loss = 0.363604\n"
     ]
    },
    {
     "name": "stderr",
     "output_type": "stream",
     "text": [
      "\r",
      "  0%|          | 0/562 [00:00<?, ?it/s]"
     ]
    },
    {
     "name": "stdout",
     "output_type": "stream",
     "text": [
      "tn = 65630, fp = 6207, fn = 4278, tp = 67559\n",
      "y_pred: 0 = 69908 | 1 = 73766\n",
      "y_true: 0 = 71837 | 1 = 71837\n",
      "auc=0.9789|sensitivity=0.9404|specificity=0.9136|acc=0.9270|mcc=0.8544\n",
      "precision=0.9159|recall=0.9404|f1=0.9280|aupr=0.9772\n"
     ]
    },
    {
     "name": "stderr",
     "output_type": "stream",
     "text": [
      "100%|██████████| 562/562 [00:46<00:00, 12.00it/s]\n"
     ]
    },
    {
     "name": "stdout",
     "output_type": "stream",
     "text": [
      "Fold-4****Train (Ep avg): Epoch-44/50 | Loss = 0.0339 | Time = 10.0607 sec\n",
      "tn = 283748, fp = 3600, fn = 3755, tp = 283593\n",
      "y_pred: 0 = 287503 | 1 = 287193\n",
      "y_true: 0 = 287348 | 1 = 287348\n",
      "auc=0.9993|sensitivity=0.9869|specificity=0.9875|acc=0.9872|mcc=0.9744\n",
      "precision=0.9875|recall=0.9869|f1=0.9872|aupr=0.9993\n"
     ]
    },
    {
     "name": "stderr",
     "output_type": "stream",
     "text": [
      "100%|██████████| 141/141 [00:04<00:00, 31.97it/s]\n"
     ]
    },
    {
     "name": "stdout",
     "output_type": "stream",
     "text": [
      "Fold-4 ****Test  Epoch-44/50: Loss = 0.351520\n",
      "tn = 65486, fp = 6351, fn = 3835, tp = 68002\n"
     ]
    },
    {
     "name": "stderr",
     "output_type": "stream",
     "text": [
      "  0%|          | 2/562 [00:00<00:45, 12.20it/s]"
     ]
    },
    {
     "name": "stdout",
     "output_type": "stream",
     "text": [
      "y_pred: 0 = 69321 | 1 = 74353\n",
      "y_true: 0 = 71837 | 1 = 71837\n",
      "auc=0.9802|sensitivity=0.9466|specificity=0.9116|acc=0.9291|mcc=0.8587\n",
      "precision=0.9146|recall=0.9466|f1=0.9303|aupr=0.9787\n",
      "****Saving model: Best epoch = 44 | 5metrics_Best_avg = 0.9246\n",
      "*****Path saver:  ./model/pHLAIformer/no_positional_embedding__model_layer1_multihead9_fold4.pkl\n"
     ]
    },
    {
     "name": "stderr",
     "output_type": "stream",
     "text": [
      "100%|██████████| 562/562 [00:46<00:00, 12.00it/s]\n"
     ]
    },
    {
     "name": "stdout",
     "output_type": "stream",
     "text": [
      "Fold-4****Train (Ep avg): Epoch-45/50 | Loss = 0.0341 | Time = 10.0038 sec\n",
      "tn = 283616, fp = 3732, fn = 3731, tp = 283617\n",
      "y_pred: 0 = 287347 | 1 = 287349\n",
      "y_true: 0 = 287348 | 1 = 287348\n",
      "auc=0.9993|sensitivity=0.9870|specificity=0.9870|acc=0.9870|mcc=0.9740\n",
      "precision=0.9870|recall=0.9870|f1=0.9870|aupr=0.9993\n"
     ]
    },
    {
     "name": "stderr",
     "output_type": "stream",
     "text": [
      "100%|██████████| 141/141 [00:04<00:00, 33.06it/s]\n"
     ]
    },
    {
     "name": "stdout",
     "output_type": "stream",
     "text": [
      "Fold-4 ****Test  Epoch-45/50: Loss = 0.353230\n"
     ]
    },
    {
     "name": "stderr",
     "output_type": "stream",
     "text": [
      "\r",
      "  0%|          | 0/562 [00:00<?, ?it/s]"
     ]
    },
    {
     "name": "stdout",
     "output_type": "stream",
     "text": [
      "tn = 66435, fp = 5402, fn = 4612, tp = 67225\n",
      "y_pred: 0 = 71047 | 1 = 72627\n",
      "y_true: 0 = 71837 | 1 = 71837\n",
      "auc=0.9799|sensitivity=0.9358|specificity=0.9248|acc=0.9303|mcc=0.8607\n",
      "precision=0.9256|recall=0.9358|f1=0.9307|aupr=0.9781\n",
      "****Saving model: Best epoch = 45 | 5metrics_Best_avg = 0.9254\n",
      "*****Path saver:  ./model/pHLAIformer/no_positional_embedding__model_layer1_multihead9_fold4.pkl\n"
     ]
    },
    {
     "name": "stderr",
     "output_type": "stream",
     "text": [
      "100%|██████████| 562/562 [00:46<00:00, 12.02it/s]\n"
     ]
    },
    {
     "name": "stdout",
     "output_type": "stream",
     "text": [
      "Fold-4****Train (Ep avg): Epoch-46/50 | Loss = 0.0335 | Time = 10.0080 sec\n",
      "tn = 283723, fp = 3625, fn = 3659, tp = 283689\n",
      "y_pred: 0 = 287382 | 1 = 287314\n",
      "y_true: 0 = 287348 | 1 = 287348\n",
      "auc=0.9993|sensitivity=0.9873|specificity=0.9874|acc=0.9873|mcc=0.9747\n",
      "precision=0.9874|recall=0.9873|f1=0.9873|aupr=0.9993\n"
     ]
    },
    {
     "name": "stderr",
     "output_type": "stream",
     "text": [
      "100%|██████████| 141/141 [00:04<00:00, 32.08it/s]\n"
     ]
    },
    {
     "name": "stdout",
     "output_type": "stream",
     "text": [
      "Fold-4 ****Test  Epoch-46/50: Loss = 0.364812\n"
     ]
    },
    {
     "name": "stderr",
     "output_type": "stream",
     "text": [
      "\r",
      "  0%|          | 0/562 [00:00<?, ?it/s]"
     ]
    },
    {
     "name": "stdout",
     "output_type": "stream",
     "text": [
      "tn = 66133, fp = 5704, fn = 4495, tp = 67342\n",
      "y_pred: 0 = 70628 | 1 = 73046\n",
      "y_true: 0 = 71837 | 1 = 71837\n",
      "auc=0.9794|sensitivity=0.9374|specificity=0.9206|acc=0.9290|mcc=0.8581\n",
      "precision=0.9219|recall=0.9374|f1=0.9296|aupr=0.9777\n"
     ]
    },
    {
     "name": "stderr",
     "output_type": "stream",
     "text": [
      "100%|██████████| 562/562 [00:46<00:00, 12.06it/s]\n"
     ]
    },
    {
     "name": "stdout",
     "output_type": "stream",
     "text": [
      "Fold-4****Train (Ep avg): Epoch-47/50 | Loss = 0.0332 | Time = 10.0294 sec\n",
      "tn = 283703, fp = 3645, fn = 3654, tp = 283694\n",
      "y_pred: 0 = 287357 | 1 = 287339\n",
      "y_true: 0 = 287348 | 1 = 287348\n",
      "auc=0.9993|sensitivity=0.9873|specificity=0.9873|acc=0.9873|mcc=0.9746\n",
      "precision=0.9873|recall=0.9873|f1=0.9873|aupr=0.9993\n"
     ]
    },
    {
     "name": "stderr",
     "output_type": "stream",
     "text": [
      "100%|██████████| 141/141 [00:04<00:00, 32.15it/s]\n"
     ]
    },
    {
     "name": "stdout",
     "output_type": "stream",
     "text": [
      "Fold-4 ****Test  Epoch-47/50: Loss = 0.361395\n"
     ]
    },
    {
     "name": "stderr",
     "output_type": "stream",
     "text": [
      "\r",
      "  0%|          | 0/562 [00:00<?, ?it/s]"
     ]
    },
    {
     "name": "stdout",
     "output_type": "stream",
     "text": [
      "tn = 66001, fp = 5836, fn = 4582, tp = 67255\n",
      "y_pred: 0 = 70583 | 1 = 73091\n",
      "y_true: 0 = 71837 | 1 = 71837\n",
      "auc=0.9789|sensitivity=0.9362|specificity=0.9188|acc=0.9275|mcc=0.8551\n",
      "precision=0.9202|recall=0.9362|f1=0.9281|aupr=0.9772\n"
     ]
    },
    {
     "name": "stderr",
     "output_type": "stream",
     "text": [
      "100%|██████████| 562/562 [00:46<00:00, 12.02it/s]\n"
     ]
    },
    {
     "name": "stdout",
     "output_type": "stream",
     "text": [
      "Fold-4****Train (Ep avg): Epoch-48/50 | Loss = 0.0328 | Time = 10.0186 sec\n"
     ]
    },
    {
     "name": "stderr",
     "output_type": "stream",
     "text": [
      "\r",
      "  0%|          | 0/141 [00:00<?, ?it/s]"
     ]
    },
    {
     "name": "stdout",
     "output_type": "stream",
     "text": [
      "tn = 283745, fp = 3603, fn = 3530, tp = 283818\n",
      "y_pred: 0 = 287275 | 1 = 287421\n",
      "y_true: 0 = 287348 | 1 = 287348\n",
      "auc=0.9993|sensitivity=0.9877|specificity=0.9875|acc=0.9876|mcc=0.9752\n",
      "precision=0.9875|recall=0.9877|f1=0.9876|aupr=0.9993\n"
     ]
    },
    {
     "name": "stderr",
     "output_type": "stream",
     "text": [
      "100%|██████████| 141/141 [00:04<00:00, 33.48it/s]\n"
     ]
    },
    {
     "name": "stdout",
     "output_type": "stream",
     "text": [
      "Fold-4 ****Test  Epoch-48/50: Loss = 0.362574\n",
      "tn = 65122, fp = 6715, fn = 3566, tp = 68271\n"
     ]
    },
    {
     "name": "stderr",
     "output_type": "stream",
     "text": [
      "\r",
      "  0%|          | 0/562 [00:00<?, ?it/s]"
     ]
    },
    {
     "name": "stdout",
     "output_type": "stream",
     "text": [
      "y_pred: 0 = 68688 | 1 = 74986\n",
      "y_true: 0 = 71837 | 1 = 71837\n",
      "auc=0.9797|sensitivity=0.9504|specificity=0.9065|acc=0.9284|mcc=0.8577\n",
      "precision=0.9104|recall=0.9504|f1=0.9300|aupr=0.9781\n"
     ]
    },
    {
     "name": "stderr",
     "output_type": "stream",
     "text": [
      "100%|██████████| 562/562 [00:47<00:00, 11.96it/s]\n"
     ]
    },
    {
     "name": "stdout",
     "output_type": "stream",
     "text": [
      "Fold-4****Train (Ep avg): Epoch-49/50 | Loss = 0.0309 | Time = 10.0683 sec\n",
      "tn = 283970, fp = 3378, fn = 3336, tp = 284012\n",
      "y_pred: 0 = 287306 | 1 = 287390\n",
      "y_true: 0 = 287348 | 1 = 287348\n",
      "auc=0.9994|sensitivity=0.9884|specificity=0.9882|acc=0.9883|mcc=0.9766\n",
      "precision=0.9882|recall=0.9884|f1=0.9883|aupr=0.9994\n"
     ]
    },
    {
     "name": "stderr",
     "output_type": "stream",
     "text": [
      "100%|██████████| 141/141 [00:04<00:00, 31.94it/s]\n"
     ]
    },
    {
     "name": "stdout",
     "output_type": "stream",
     "text": [
      "Fold-4 ****Test  Epoch-49/50: Loss = 0.365512\n"
     ]
    },
    {
     "name": "stderr",
     "output_type": "stream",
     "text": [
      "\r",
      "  0%|          | 0/562 [00:00<?, ?it/s]"
     ]
    },
    {
     "name": "stdout",
     "output_type": "stream",
     "text": [
      "tn = 65817, fp = 6020, fn = 4117, tp = 67720\n",
      "y_pred: 0 = 69934 | 1 = 73740\n",
      "y_true: 0 = 71837 | 1 = 71837\n",
      "auc=0.9799|sensitivity=0.9427|specificity=0.9162|acc=0.9294|mcc=0.8592\n",
      "precision=0.9184|recall=0.9427|f1=0.9304|aupr=0.9783\n"
     ]
    },
    {
     "name": "stderr",
     "output_type": "stream",
     "text": [
      "100%|██████████| 562/562 [00:46<00:00, 11.99it/s]\n"
     ]
    },
    {
     "name": "stdout",
     "output_type": "stream",
     "text": [
      "Fold-4****Train (Ep avg): Epoch-50/50 | Loss = 0.0314 | Time = 10.0630 sec\n"
     ]
    },
    {
     "name": "stderr",
     "output_type": "stream",
     "text": [
      "\r",
      "  0%|          | 0/141 [00:00<?, ?it/s]"
     ]
    },
    {
     "name": "stdout",
     "output_type": "stream",
     "text": [
      "tn = 283920, fp = 3428, fn = 3474, tp = 283874\n",
      "y_pred: 0 = 287394 | 1 = 287302\n",
      "y_true: 0 = 287348 | 1 = 287348\n",
      "auc=0.9994|sensitivity=0.9879|specificity=0.9881|acc=0.9880|mcc=0.9760\n",
      "precision=0.9881|recall=0.9879|f1=0.9880|aupr=0.9994\n"
     ]
    },
    {
     "name": "stderr",
     "output_type": "stream",
     "text": [
      "100%|██████████| 141/141 [00:04<00:00, 32.06it/s]\n"
     ]
    },
    {
     "name": "stdout",
     "output_type": "stream",
     "text": [
      "Fold-4 ****Test  Epoch-50/50: Loss = 0.362927\n"
     ]
    },
    {
     "name": "stderr",
     "output_type": "stream",
     "text": [
      "  1%|          | 4/562 [00:00<00:16, 33.86it/s]"
     ]
    },
    {
     "name": "stdout",
     "output_type": "stream",
     "text": [
      "tn = 65778, fp = 6059, fn = 4047, tp = 67790\n",
      "y_pred: 0 = 69825 | 1 = 73849\n",
      "y_true: 0 = 71837 | 1 = 71837\n",
      "auc=0.9798|sensitivity=0.9437|specificity=0.9157|acc=0.9297|mcc=0.8597\n",
      "precision=0.9180|recall=0.9437|f1=0.9306|aupr=0.9783\n",
      "-----Optimization Finished!-----\n",
      "-----Evaluate Results-----\n",
      "*****Path saver:  ./model/pHLAIformer/no_positional_embedding__model_layer1_multihead9_fold4.pkl\n"
     ]
    },
    {
     "name": "stderr",
     "output_type": "stream",
     "text": [
      "100%|██████████| 562/562 [00:17<00:00, 31.85it/s]\n"
     ]
    },
    {
     "name": "stdout",
     "output_type": "stream",
     "text": [
      "Fold-4 ****Test  Epoch-45/50: Loss = 0.284708\n"
     ]
    },
    {
     "name": "stderr",
     "output_type": "stream",
     "text": [
      "\r",
      "  0%|          | 0/141 [00:00<?, ?it/s]"
     ]
    },
    {
     "name": "stdout",
     "output_type": "stream",
     "text": [
      "tn = 270463, fp = 16885, fn = 18423, tp = 268925\n",
      "y_pred: 0 = 288886 | 1 = 285810\n",
      "y_true: 0 = 287348 | 1 = 287348\n",
      "auc=0.9847|sensitivity=0.9359|specificity=0.9412|acc=0.9386|mcc=0.8771\n",
      "precision=0.9409|recall=0.9359|f1=0.9384|aupr=0.9844\n"
     ]
    },
    {
     "name": "stderr",
     "output_type": "stream",
     "text": [
      "100%|██████████| 141/141 [00:04<00:00, 31.32it/s]\n"
     ]
    },
    {
     "name": "stdout",
     "output_type": "stream",
     "text": [
      "Fold-4 ****Test  Epoch-45/50: Loss = 0.353230\n"
     ]
    },
    {
     "name": "stderr",
     "output_type": "stream",
     "text": [
      "  2%|▏         | 4/168 [00:00<00:04, 34.47it/s]"
     ]
    },
    {
     "name": "stdout",
     "output_type": "stream",
     "text": [
      "tn = 66435, fp = 5402, fn = 4612, tp = 67225\n",
      "y_pred: 0 = 71047 | 1 = 72627\n",
      "y_true: 0 = 71837 | 1 = 71837\n",
      "auc=0.9799|sensitivity=0.9358|specificity=0.9248|acc=0.9303|mcc=0.8607\n",
      "precision=0.9256|recall=0.9358|f1=0.9307|aupr=0.9781\n"
     ]
    },
    {
     "name": "stderr",
     "output_type": "stream",
     "text": [
      "100%|██████████| 168/168 [00:05<00:00, 30.75it/s]\n"
     ]
    },
    {
     "name": "stdout",
     "output_type": "stream",
     "text": [
      "Fold-4 ****Test  Epoch-45/50: Loss = 0.416269\n"
     ]
    },
    {
     "name": "stderr",
     "output_type": "stream",
     "text": [
      "  4%|▍         | 4/102 [00:00<00:02, 32.69it/s]"
     ]
    },
    {
     "name": "stdout",
     "output_type": "stream",
     "text": [
      "tn = 79422, fp = 6140, fn = 6405, tp = 79471\n",
      "y_pred: 0 = 85827 | 1 = 85611\n",
      "y_true: 0 = 85562 | 1 = 85876\n",
      "auc=0.9770|sensitivity=0.9254|specificity=0.9282|acc=0.9268|mcc=0.8537\n",
      "precision=0.9283|recall=0.9254|f1=0.9268|aupr=0.9764\n"
     ]
    },
    {
     "name": "stderr",
     "output_type": "stream",
     "text": [
      "100%|██████████| 102/102 [00:03<00:00, 32.07it/s]\n"
     ]
    },
    {
     "name": "stdout",
     "output_type": "stream",
     "text": [
      "Fold-4 ****Test  Epoch-45/50: Loss = 0.870314\n",
      "tn = 48533, fp = 3348, fn = 9400, tp = 42584\n",
      "y_pred: 0 = 57933 | 1 = 45932\n",
      "y_true: 0 = 51881 | 1 = 51984\n",
      "auc=0.9486|sensitivity=0.8192|specificity=0.9355|acc=0.8773|mcc=0.7597\n",
      "precision=0.9271|recall=0.8192|f1=0.8698|aupr=0.9515\n",
      "Total training time: 501.12 sec\n"
     ]
    }
   ],
   "source": [
    "ys_train_fold_dict, ys_val_fold_dict = {}, {}\n",
    "train_fold_metrics_list, val_fold_metrics_list = [], []\n",
    "independent_fold_metrics_list, external_fold_metrics_list, ys_independent_fold_dict, ys_external_fold_dict = [], [], {}, {}\n",
    "attns_train_fold_dict, attns_val_fold_dict, attns_independent_fold_dict, attns_external_fold_dict = {}, {}, {}, {}\n",
    "loss_train_fold_dict, loss_val_fold_dict, loss_independent_fold_dict, loss_external_fold_dict = {}, {}, {}, {}\n",
    "\n",
    "for fold in range(5):\n",
    "    print('=====Fold-{}====='.format(fold))\n",
    "    print('-----Generate data loader-----')\n",
    "    train_data, train_pep_inputs, train_hla_inputs, train_labels, train_loader = data_with_loader(type_ = 'train', fold = fold,  batch_size = batch_size)\n",
    "    val_data, val_pep_inputs, val_hla_inputs, val_labels, val_loader = data_with_loader(type_ = 'val', fold = fold,  batch_size = batch_size)\n",
    "    print('Fold-{} Label info: Train = {} | Val = {}'.format(fold, Counter(train_data.label), Counter(val_data.label)))\n",
    "\n",
    "    print('-----Compile model-----')\n",
    "    model = Transformer().to(device)\n",
    "    criterion = nn.CrossEntropyLoss()\n",
    "    optimizer = optim.Adam(model.parameters(), lr = 1e-3)#, momentum = 0.99)\n",
    "\n",
    "    print('-----Train-----')\n",
    "    dir_saver = './model/pHLAIformer/'\n",
    "    path_saver = './model/pHLAIformer/no_positional_embedding__model_layer{}_multihead{}_fold{}.pkl'.format(n_layers, n_heads, fold)\n",
    "    print('dir_saver: ', dir_saver)\n",
    "    print('path_saver: ', path_saver)\n",
    "\n",
    "    metric_best, ep_best = 0, -1\n",
    "    time_train = 0\n",
    "    for epoch in range(1, epochs + 1):\n",
    "\n",
    "        ys_train, loss_train_list, metrics_train, time_train_ep = train_step(model, train_loader, fold, epoch, epochs, use_cuda) # , dec_attns_train\n",
    "        ys_val, loss_val_list, metrics_val = eval_step(model, val_loader, fold, epoch, epochs, use_cuda) #, dec_attns_val\n",
    "\n",
    "        metrics_ep_avg = sum(metrics_val[:4])/4\n",
    "        if metrics_ep_avg > metric_best: \n",
    "            metric_best, ep_best = metrics_ep_avg, epoch\n",
    "            if not os.path.exists(dir_saver):\n",
    "                os.makedirs(dir_saver)\n",
    "            print('****Saving model: Best epoch = {} | 5metrics_Best_avg = {:.4f}'.format(ep_best, metric_best))\n",
    "            print('*****Path saver: ', path_saver)\n",
    "            torch.save(model.eval().state_dict(), path_saver)\n",
    "\n",
    "        time_train += time_train_ep\n",
    "\n",
    "    print('-----Optimization Finished!-----')\n",
    "    print('-----Evaluate Results-----')\n",
    "    if ep_best >= 0:\n",
    "        print('*****Path saver: ', path_saver)\n",
    "        model.load_state_dict(torch.load(path_saver))\n",
    "        model_eval = model.eval()\n",
    "\n",
    "        ys_res_train, loss_res_train_list, metrics_res_train = eval_step(model_eval, train_loader, fold, ep_best, epochs, use_cuda) # , train_res_attns\n",
    "        ys_res_val, loss_res_val_list, metrics_res_val = eval_step(model_eval, val_loader, fold, ep_best, epochs, use_cuda) # , val_res_attns\n",
    "        ys_res_independent, loss_res_independent_list, metrics_res_independent = eval_step(model_eval, independent_loader, fold, ep_best, epochs, use_cuda) # , independent_res_attns\n",
    "        ys_res_external, loss_res_external_list, metrics_res_external = eval_step(model_eval, external_loader, fold, ep_best, epochs, use_cuda) # , external_res_attns\n",
    "\n",
    "        train_fold_metrics_list.append(metrics_res_train)\n",
    "        val_fold_metrics_list.append(metrics_res_val)\n",
    "        independent_fold_metrics_list.append(metrics_res_independent)\n",
    "        external_fold_metrics_list.append(metrics_res_external)\n",
    "\n",
    "        ys_train_fold_dict[fold], ys_val_fold_dict[fold], ys_independent_fold_dict[fold], ys_external_fold_dict[fold] = ys_res_train, ys_res_val, ys_res_independent, ys_res_external    \n",
    "        loss_train_fold_dict[fold], loss_val_fold_dict[fold], loss_independent_fold_dict[fold], loss_external_fold_dict[fold] = loss_res_train_list, loss_res_val_list, loss_res_independent_list, loss_res_external_list  \n",
    "\n",
    "    print(\"Total training time: {:6.2f} sec\".format(time_train))"
   ]
  },
  {
   "cell_type": "code",
   "execution_count": 15,
   "metadata": {},
   "outputs": [
    {
     "name": "stdout",
     "output_type": "stream",
     "text": [
      "****Independent set:\n"
     ]
    },
    {
     "data": {
      "text/html": [
       "<div>\n",
       "<style scoped>\n",
       "    .dataframe tbody tr th:only-of-type {\n",
       "        vertical-align: middle;\n",
       "    }\n",
       "\n",
       "    .dataframe tbody tr th {\n",
       "        vertical-align: top;\n",
       "    }\n",
       "\n",
       "    .dataframe thead th {\n",
       "        text-align: right;\n",
       "    }\n",
       "</style>\n",
       "<table border=\"1\" class=\"dataframe\">\n",
       "  <thead>\n",
       "    <tr style=\"text-align: right;\">\n",
       "      <th></th>\n",
       "      <th>roc_auc</th>\n",
       "      <th>accuracy</th>\n",
       "      <th>mcc</th>\n",
       "      <th>f1</th>\n",
       "      <th>sensitivity</th>\n",
       "      <th>specificity</th>\n",
       "      <th>precision</th>\n",
       "      <th>recall</th>\n",
       "      <th>aupr</th>\n",
       "    </tr>\n",
       "  </thead>\n",
       "  <tbody>\n",
       "    <tr>\n",
       "      <th>0</th>\n",
       "      <td>0.977597</td>\n",
       "      <td>0.928499</td>\n",
       "      <td>0.857106</td>\n",
       "      <td>0.929204</td>\n",
       "      <td>0.936746</td>\n",
       "      <td>0.920222</td>\n",
       "      <td>0.921783</td>\n",
       "      <td>0.936746</td>\n",
       "      <td>0.977154</td>\n",
       "    </tr>\n",
       "    <tr>\n",
       "      <th>1</th>\n",
       "      <td>0.977654</td>\n",
       "      <td>0.928709</td>\n",
       "      <td>0.857430</td>\n",
       "      <td>0.928657</td>\n",
       "      <td>0.926289</td>\n",
       "      <td>0.931138</td>\n",
       "      <td>0.931038</td>\n",
       "      <td>0.926289</td>\n",
       "      <td>0.976896</td>\n",
       "    </tr>\n",
       "    <tr>\n",
       "      <th>2</th>\n",
       "      <td>0.977958</td>\n",
       "      <td>0.927000</td>\n",
       "      <td>0.854258</td>\n",
       "      <td>0.928029</td>\n",
       "      <td>0.939576</td>\n",
       "      <td>0.914378</td>\n",
       "      <td>0.916762</td>\n",
       "      <td>0.939576</td>\n",
       "      <td>0.977567</td>\n",
       "    </tr>\n",
       "    <tr>\n",
       "      <th>3</th>\n",
       "      <td>0.977790</td>\n",
       "      <td>0.928044</td>\n",
       "      <td>0.856121</td>\n",
       "      <td>0.927866</td>\n",
       "      <td>0.923890</td>\n",
       "      <td>0.932213</td>\n",
       "      <td>0.931877</td>\n",
       "      <td>0.923890</td>\n",
       "      <td>0.977204</td>\n",
       "    </tr>\n",
       "    <tr>\n",
       "      <th>4</th>\n",
       "      <td>0.976998</td>\n",
       "      <td>0.926825</td>\n",
       "      <td>0.853654</td>\n",
       "      <td>0.926846</td>\n",
       "      <td>0.925416</td>\n",
       "      <td>0.928239</td>\n",
       "      <td>0.928280</td>\n",
       "      <td>0.925416</td>\n",
       "      <td>0.976355</td>\n",
       "    </tr>\n",
       "    <tr>\n",
       "      <th>mean</th>\n",
       "      <td>0.977599</td>\n",
       "      <td>0.927815</td>\n",
       "      <td>0.855714</td>\n",
       "      <td>0.928121</td>\n",
       "      <td>0.930383</td>\n",
       "      <td>0.925238</td>\n",
       "      <td>0.925948</td>\n",
       "      <td>0.930383</td>\n",
       "      <td>0.977035</td>\n",
       "    </tr>\n",
       "    <tr>\n",
       "      <th>std</th>\n",
       "      <td>0.000326</td>\n",
       "      <td>0.000770</td>\n",
       "      <td>0.001511</td>\n",
       "      <td>0.000795</td>\n",
       "      <td>0.006459</td>\n",
       "      <td>0.006864</td>\n",
       "      <td>0.005800</td>\n",
       "      <td>0.006459</td>\n",
       "      <td>0.000402</td>\n",
       "    </tr>\n",
       "  </tbody>\n",
       "</table>\n",
       "</div>"
      ],
      "text/plain": [
       "       roc_auc  accuracy       mcc        f1  sensitivity  specificity  \\\n",
       "0     0.977597  0.928499  0.857106  0.929204     0.936746     0.920222   \n",
       "1     0.977654  0.928709  0.857430  0.928657     0.926289     0.931138   \n",
       "2     0.977958  0.927000  0.854258  0.928029     0.939576     0.914378   \n",
       "3     0.977790  0.928044  0.856121  0.927866     0.923890     0.932213   \n",
       "4     0.976998  0.926825  0.853654  0.926846     0.925416     0.928239   \n",
       "mean  0.977599  0.927815  0.855714  0.928121     0.930383     0.925238   \n",
       "std   0.000326  0.000770  0.001511  0.000795     0.006459     0.006864   \n",
       "\n",
       "      precision    recall      aupr  \n",
       "0      0.921783  0.936746  0.977154  \n",
       "1      0.931038  0.926289  0.976896  \n",
       "2      0.916762  0.939576  0.977567  \n",
       "3      0.931877  0.923890  0.977204  \n",
       "4      0.928280  0.925416  0.976355  \n",
       "mean   0.925948  0.930383  0.977035  \n",
       "std    0.005800  0.006459  0.000402  "
      ]
     },
     "execution_count": 15,
     "metadata": {},
     "output_type": "execute_result"
    }
   ],
   "source": [
    "print('****Independent set:')\n",
    "performances_to_pd(independent_fold_metrics_list)"
   ]
  },
  {
   "cell_type": "code",
   "execution_count": 16,
   "metadata": {},
   "outputs": [
    {
     "name": "stdout",
     "output_type": "stream",
     "text": [
      "****External set:\n"
     ]
    },
    {
     "data": {
      "text/html": [
       "<div>\n",
       "<style scoped>\n",
       "    .dataframe tbody tr th:only-of-type {\n",
       "        vertical-align: middle;\n",
       "    }\n",
       "\n",
       "    .dataframe tbody tr th {\n",
       "        vertical-align: top;\n",
       "    }\n",
       "\n",
       "    .dataframe thead th {\n",
       "        text-align: right;\n",
       "    }\n",
       "</style>\n",
       "<table border=\"1\" class=\"dataframe\">\n",
       "  <thead>\n",
       "    <tr style=\"text-align: right;\">\n",
       "      <th></th>\n",
       "      <th>roc_auc</th>\n",
       "      <th>accuracy</th>\n",
       "      <th>mcc</th>\n",
       "      <th>f1</th>\n",
       "      <th>sensitivity</th>\n",
       "      <th>specificity</th>\n",
       "      <th>precision</th>\n",
       "      <th>recall</th>\n",
       "      <th>aupr</th>\n",
       "    </tr>\n",
       "  </thead>\n",
       "  <tbody>\n",
       "    <tr>\n",
       "      <th>0</th>\n",
       "      <td>0.946225</td>\n",
       "      <td>0.877504</td>\n",
       "      <td>0.759296</td>\n",
       "      <td>0.870797</td>\n",
       "      <td>0.824773</td>\n",
       "      <td>0.930341</td>\n",
       "      <td>0.922261</td>\n",
       "      <td>0.824773</td>\n",
       "      <td>0.950606</td>\n",
       "    </tr>\n",
       "    <tr>\n",
       "      <th>1</th>\n",
       "      <td>0.948449</td>\n",
       "      <td>0.877158</td>\n",
       "      <td>0.761017</td>\n",
       "      <td>0.868609</td>\n",
       "      <td>0.811288</td>\n",
       "      <td>0.943158</td>\n",
       "      <td>0.934645</td>\n",
       "      <td>0.811288</td>\n",
       "      <td>0.951830</td>\n",
       "    </tr>\n",
       "    <tr>\n",
       "      <th>2</th>\n",
       "      <td>0.948976</td>\n",
       "      <td>0.880181</td>\n",
       "      <td>0.763698</td>\n",
       "      <td>0.874464</td>\n",
       "      <td>0.833814</td>\n",
       "      <td>0.926640</td>\n",
       "      <td>0.919281</td>\n",
       "      <td>0.833814</td>\n",
       "      <td>0.952663</td>\n",
       "    </tr>\n",
       "    <tr>\n",
       "      <th>3</th>\n",
       "      <td>0.951152</td>\n",
       "      <td>0.881442</td>\n",
       "      <td>0.767756</td>\n",
       "      <td>0.874529</td>\n",
       "      <td>0.825523</td>\n",
       "      <td>0.937472</td>\n",
       "      <td>0.929720</td>\n",
       "      <td>0.825523</td>\n",
       "      <td>0.954684</td>\n",
       "    </tr>\n",
       "    <tr>\n",
       "      <th>4</th>\n",
       "      <td>0.948636</td>\n",
       "      <td>0.877264</td>\n",
       "      <td>0.759731</td>\n",
       "      <td>0.869807</td>\n",
       "      <td>0.819175</td>\n",
       "      <td>0.935468</td>\n",
       "      <td>0.927110</td>\n",
       "      <td>0.819175</td>\n",
       "      <td>0.951514</td>\n",
       "    </tr>\n",
       "    <tr>\n",
       "      <th>mean</th>\n",
       "      <td>0.948688</td>\n",
       "      <td>0.878710</td>\n",
       "      <td>0.762299</td>\n",
       "      <td>0.871641</td>\n",
       "      <td>0.822915</td>\n",
       "      <td>0.934616</td>\n",
       "      <td>0.926603</td>\n",
       "      <td>0.822915</td>\n",
       "      <td>0.952259</td>\n",
       "    </tr>\n",
       "    <tr>\n",
       "      <th>std</th>\n",
       "      <td>0.001567</td>\n",
       "      <td>0.001765</td>\n",
       "      <td>0.003130</td>\n",
       "      <td>0.002432</td>\n",
       "      <td>0.007459</td>\n",
       "      <td>0.005723</td>\n",
       "      <td>0.005424</td>\n",
       "      <td>0.007459</td>\n",
       "      <td>0.001380</td>\n",
       "    </tr>\n",
       "  </tbody>\n",
       "</table>\n",
       "</div>"
      ],
      "text/plain": [
       "       roc_auc  accuracy       mcc        f1  sensitivity  specificity  \\\n",
       "0     0.946225  0.877504  0.759296  0.870797     0.824773     0.930341   \n",
       "1     0.948449  0.877158  0.761017  0.868609     0.811288     0.943158   \n",
       "2     0.948976  0.880181  0.763698  0.874464     0.833814     0.926640   \n",
       "3     0.951152  0.881442  0.767756  0.874529     0.825523     0.937472   \n",
       "4     0.948636  0.877264  0.759731  0.869807     0.819175     0.935468   \n",
       "mean  0.948688  0.878710  0.762299  0.871641     0.822915     0.934616   \n",
       "std   0.001567  0.001765  0.003130  0.002432     0.007459     0.005723   \n",
       "\n",
       "      precision    recall      aupr  \n",
       "0      0.922261  0.824773  0.950606  \n",
       "1      0.934645  0.811288  0.951830  \n",
       "2      0.919281  0.833814  0.952663  \n",
       "3      0.929720  0.825523  0.954684  \n",
       "4      0.927110  0.819175  0.951514  \n",
       "mean   0.926603  0.822915  0.952259  \n",
       "std    0.005424  0.007459  0.001380  "
      ]
     },
     "execution_count": 16,
     "metadata": {},
     "output_type": "execute_result"
    }
   ],
   "source": [
    "print('****External set:')\n",
    "performances_to_pd(external_fold_metrics_list)"
   ]
  },
  {
   "cell_type": "code",
   "execution_count": 17,
   "metadata": {},
   "outputs": [
    {
     "name": "stdout",
     "output_type": "stream",
     "text": [
      "****Train set:\n"
     ]
    },
    {
     "data": {
      "text/html": [
       "<div>\n",
       "<style scoped>\n",
       "    .dataframe tbody tr th:only-of-type {\n",
       "        vertical-align: middle;\n",
       "    }\n",
       "\n",
       "    .dataframe tbody tr th {\n",
       "        vertical-align: top;\n",
       "    }\n",
       "\n",
       "    .dataframe thead th {\n",
       "        text-align: right;\n",
       "    }\n",
       "</style>\n",
       "<table border=\"1\" class=\"dataframe\">\n",
       "  <thead>\n",
       "    <tr style=\"text-align: right;\">\n",
       "      <th></th>\n",
       "      <th>roc_auc</th>\n",
       "      <th>accuracy</th>\n",
       "      <th>mcc</th>\n",
       "      <th>f1</th>\n",
       "      <th>sensitivity</th>\n",
       "      <th>specificity</th>\n",
       "      <th>precision</th>\n",
       "      <th>recall</th>\n",
       "      <th>aupr</th>\n",
       "    </tr>\n",
       "  </thead>\n",
       "  <tbody>\n",
       "    <tr>\n",
       "      <th>0</th>\n",
       "      <td>0.984618</td>\n",
       "      <td>0.938631</td>\n",
       "      <td>0.877320</td>\n",
       "      <td>0.938981</td>\n",
       "      <td>0.944363</td>\n",
       "      <td>0.932899</td>\n",
       "      <td>0.933660</td>\n",
       "      <td>0.944363</td>\n",
       "      <td>0.984436</td>\n",
       "    </tr>\n",
       "    <tr>\n",
       "      <th>1</th>\n",
       "      <td>0.984757</td>\n",
       "      <td>0.938736</td>\n",
       "      <td>0.877508</td>\n",
       "      <td>0.938456</td>\n",
       "      <td>0.934197</td>\n",
       "      <td>0.943274</td>\n",
       "      <td>0.942754</td>\n",
       "      <td>0.934197</td>\n",
       "      <td>0.984557</td>\n",
       "    </tr>\n",
       "    <tr>\n",
       "      <th>2</th>\n",
       "      <td>0.984883</td>\n",
       "      <td>0.937805</td>\n",
       "      <td>0.875866</td>\n",
       "      <td>0.938548</td>\n",
       "      <td>0.949904</td>\n",
       "      <td>0.925705</td>\n",
       "      <td>0.927461</td>\n",
       "      <td>0.949904</td>\n",
       "      <td>0.984726</td>\n",
       "    </tr>\n",
       "    <tr>\n",
       "      <th>3</th>\n",
       "      <td>0.985161</td>\n",
       "      <td>0.939428</td>\n",
       "      <td>0.878921</td>\n",
       "      <td>0.939059</td>\n",
       "      <td>0.933366</td>\n",
       "      <td>0.945491</td>\n",
       "      <td>0.944822</td>\n",
       "      <td>0.933366</td>\n",
       "      <td>0.985121</td>\n",
       "    </tr>\n",
       "    <tr>\n",
       "      <th>4</th>\n",
       "      <td>0.984653</td>\n",
       "      <td>0.938562</td>\n",
       "      <td>0.877137</td>\n",
       "      <td>0.938397</td>\n",
       "      <td>0.935886</td>\n",
       "      <td>0.941238</td>\n",
       "      <td>0.940922</td>\n",
       "      <td>0.935886</td>\n",
       "      <td>0.984440</td>\n",
       "    </tr>\n",
       "    <tr>\n",
       "      <th>mean</th>\n",
       "      <td>0.984814</td>\n",
       "      <td>0.938632</td>\n",
       "      <td>0.877350</td>\n",
       "      <td>0.938688</td>\n",
       "      <td>0.939543</td>\n",
       "      <td>0.937722</td>\n",
       "      <td>0.937924</td>\n",
       "      <td>0.939543</td>\n",
       "      <td>0.984656</td>\n",
       "    </tr>\n",
       "    <tr>\n",
       "      <th>std</th>\n",
       "      <td>0.000196</td>\n",
       "      <td>0.000517</td>\n",
       "      <td>0.000974</td>\n",
       "      <td>0.000276</td>\n",
       "      <td>0.006492</td>\n",
       "      <td>0.007365</td>\n",
       "      <td>0.006443</td>\n",
       "      <td>0.006492</td>\n",
       "      <td>0.000255</td>\n",
       "    </tr>\n",
       "  </tbody>\n",
       "</table>\n",
       "</div>"
      ],
      "text/plain": [
       "       roc_auc  accuracy       mcc        f1  sensitivity  specificity  \\\n",
       "0     0.984618  0.938631  0.877320  0.938981     0.944363     0.932899   \n",
       "1     0.984757  0.938736  0.877508  0.938456     0.934197     0.943274   \n",
       "2     0.984883  0.937805  0.875866  0.938548     0.949904     0.925705   \n",
       "3     0.985161  0.939428  0.878921  0.939059     0.933366     0.945491   \n",
       "4     0.984653  0.938562  0.877137  0.938397     0.935886     0.941238   \n",
       "mean  0.984814  0.938632  0.877350  0.938688     0.939543     0.937722   \n",
       "std   0.000196  0.000517  0.000974  0.000276     0.006492     0.007365   \n",
       "\n",
       "      precision    recall      aupr  \n",
       "0      0.933660  0.944363  0.984436  \n",
       "1      0.942754  0.934197  0.984557  \n",
       "2      0.927461  0.949904  0.984726  \n",
       "3      0.944822  0.933366  0.985121  \n",
       "4      0.940922  0.935886  0.984440  \n",
       "mean   0.937924  0.939543  0.984656  \n",
       "std    0.006443  0.006492  0.000255  "
      ]
     },
     "execution_count": 17,
     "metadata": {},
     "output_type": "execute_result"
    }
   ],
   "source": [
    "print('****Train set:')\n",
    "performances_to_pd(train_fold_metrics_list)"
   ]
  },
  {
   "cell_type": "code",
   "execution_count": 18,
   "metadata": {},
   "outputs": [
    {
     "name": "stdout",
     "output_type": "stream",
     "text": [
      "****Val set:\n"
     ]
    },
    {
     "data": {
      "text/html": [
       "<div>\n",
       "<style scoped>\n",
       "    .dataframe tbody tr th:only-of-type {\n",
       "        vertical-align: middle;\n",
       "    }\n",
       "\n",
       "    .dataframe tbody tr th {\n",
       "        vertical-align: top;\n",
       "    }\n",
       "\n",
       "    .dataframe thead th {\n",
       "        text-align: right;\n",
       "    }\n",
       "</style>\n",
       "<table border=\"1\" class=\"dataframe\">\n",
       "  <thead>\n",
       "    <tr style=\"text-align: right;\">\n",
       "      <th></th>\n",
       "      <th>roc_auc</th>\n",
       "      <th>accuracy</th>\n",
       "      <th>mcc</th>\n",
       "      <th>f1</th>\n",
       "      <th>sensitivity</th>\n",
       "      <th>specificity</th>\n",
       "      <th>precision</th>\n",
       "      <th>recall</th>\n",
       "      <th>aupr</th>\n",
       "    </tr>\n",
       "  </thead>\n",
       "  <tbody>\n",
       "    <tr>\n",
       "      <th>0</th>\n",
       "      <td>0.976179</td>\n",
       "      <td>0.924162</td>\n",
       "      <td>0.848404</td>\n",
       "      <td>0.924680</td>\n",
       "      <td>0.931038</td>\n",
       "      <td>0.917285</td>\n",
       "      <td>0.918407</td>\n",
       "      <td>0.931038</td>\n",
       "      <td>0.975820</td>\n",
       "    </tr>\n",
       "    <tr>\n",
       "      <th>1</th>\n",
       "      <td>0.980304</td>\n",
       "      <td>0.931839</td>\n",
       "      <td>0.863694</td>\n",
       "      <td>0.932051</td>\n",
       "      <td>0.934964</td>\n",
       "      <td>0.928714</td>\n",
       "      <td>0.929156</td>\n",
       "      <td>0.934964</td>\n",
       "      <td>0.978643</td>\n",
       "    </tr>\n",
       "    <tr>\n",
       "      <th>2</th>\n",
       "      <td>0.980565</td>\n",
       "      <td>0.929688</td>\n",
       "      <td>0.860081</td>\n",
       "      <td>0.931083</td>\n",
       "      <td>0.949928</td>\n",
       "      <td>0.909448</td>\n",
       "      <td>0.912971</td>\n",
       "      <td>0.949928</td>\n",
       "      <td>0.979264</td>\n",
       "    </tr>\n",
       "    <tr>\n",
       "      <th>3</th>\n",
       "      <td>0.980443</td>\n",
       "      <td>0.931658</td>\n",
       "      <td>0.863321</td>\n",
       "      <td>0.931773</td>\n",
       "      <td>0.933349</td>\n",
       "      <td>0.929966</td>\n",
       "      <td>0.930203</td>\n",
       "      <td>0.933349</td>\n",
       "      <td>0.979109</td>\n",
       "    </tr>\n",
       "    <tr>\n",
       "      <th>4</th>\n",
       "      <td>0.979871</td>\n",
       "      <td>0.930301</td>\n",
       "      <td>0.860653</td>\n",
       "      <td>0.930682</td>\n",
       "      <td>0.935799</td>\n",
       "      <td>0.924802</td>\n",
       "      <td>0.925620</td>\n",
       "      <td>0.935799</td>\n",
       "      <td>0.978131</td>\n",
       "    </tr>\n",
       "    <tr>\n",
       "      <th>mean</th>\n",
       "      <td>0.979473</td>\n",
       "      <td>0.929529</td>\n",
       "      <td>0.859231</td>\n",
       "      <td>0.930054</td>\n",
       "      <td>0.937016</td>\n",
       "      <td>0.922043</td>\n",
       "      <td>0.923271</td>\n",
       "      <td>0.937016</td>\n",
       "      <td>0.978193</td>\n",
       "    </tr>\n",
       "    <tr>\n",
       "      <th>std</th>\n",
       "      <td>0.001663</td>\n",
       "      <td>0.002803</td>\n",
       "      <td>0.005597</td>\n",
       "      <td>0.002731</td>\n",
       "      <td>0.006657</td>\n",
       "      <td>0.007696</td>\n",
       "      <td>0.006602</td>\n",
       "      <td>0.006657</td>\n",
       "      <td>0.001251</td>\n",
       "    </tr>\n",
       "  </tbody>\n",
       "</table>\n",
       "</div>"
      ],
      "text/plain": [
       "       roc_auc  accuracy       mcc        f1  sensitivity  specificity  \\\n",
       "0     0.976179  0.924162  0.848404  0.924680     0.931038     0.917285   \n",
       "1     0.980304  0.931839  0.863694  0.932051     0.934964     0.928714   \n",
       "2     0.980565  0.929688  0.860081  0.931083     0.949928     0.909448   \n",
       "3     0.980443  0.931658  0.863321  0.931773     0.933349     0.929966   \n",
       "4     0.979871  0.930301  0.860653  0.930682     0.935799     0.924802   \n",
       "mean  0.979473  0.929529  0.859231  0.930054     0.937016     0.922043   \n",
       "std   0.001663  0.002803  0.005597  0.002731     0.006657     0.007696   \n",
       "\n",
       "      precision    recall      aupr  \n",
       "0      0.918407  0.931038  0.975820  \n",
       "1      0.929156  0.934964  0.978643  \n",
       "2      0.912971  0.949928  0.979264  \n",
       "3      0.930203  0.933349  0.979109  \n",
       "4      0.925620  0.935799  0.978131  \n",
       "mean   0.923271  0.937016  0.978193  \n",
       "std    0.006602  0.006657  0.001251  "
      ]
     },
     "execution_count": 18,
     "metadata": {},
     "output_type": "execute_result"
    }
   ],
   "source": [
    "print('****Val set:')\n",
    "performances_to_pd(val_fold_metrics_list)"
   ]
  }
 ],
 "metadata": {
  "kernelspec": {
   "display_name": "torch_gpu",
   "language": "python",
   "name": "torch_gpu"
  },
  "language_info": {
   "codemirror_mode": {
    "name": "ipython",
    "version": 3
   },
   "file_extension": ".py",
   "mimetype": "text/x-python",
   "name": "python",
   "nbconvert_exporter": "python",
   "pygments_lexer": "ipython3",
   "version": "3.7.8"
  }
 },
 "nbformat": 4,
 "nbformat_minor": 2
}
