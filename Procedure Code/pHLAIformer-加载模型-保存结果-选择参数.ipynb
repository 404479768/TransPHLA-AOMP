{
 "cells": [
  {
   "cell_type": "code",
   "execution_count": 1,
   "metadata": {
    "collapsed": true,
    "scrolled": true
   },
   "outputs": [],
   "source": [
    "import math\n",
    "from sklearn import metrics\n",
    "from sklearn import preprocessing\n",
    "import matplotlib.pyplot as plt\n",
    "import numpy as np\n",
    "import pandas as pd\n",
    "import re\n",
    "import time\n",
    "import datetime\n",
    "import random\n",
    "random.seed(1234)\n",
    "\n",
    "from scipy import interp\n",
    "import warnings\n",
    "warnings.filterwarnings(\"ignore\")\n",
    "\n",
    "from collections import Counter\n",
    "from functools import reduce\n",
    "from tqdm import tqdm, trange\n",
    "from copy import deepcopy\n",
    "\n",
    "from sklearn.metrics import confusion_matrix\n",
    "from sklearn.metrics import roc_auc_score, auc\n",
    "from sklearn.metrics import precision_recall_fscore_support\n",
    "from sklearn.metrics import precision_recall_curve\n",
    "from sklearn.metrics import classification_report\n",
    "from sklearn.utils import class_weight\n",
    "\n",
    "import os\n",
    "import torch\n",
    "import torch.nn as nn\n",
    "import torch.optim as optim\n",
    "import torch.utils.data as Data\n",
    "# os.environ['CUDA_VISIBLE_DEVICES'] = '0'"
   ]
  },
  {
   "cell_type": "code",
   "execution_count": 2,
   "metadata": {
    "collapsed": true
   },
   "outputs": [],
   "source": [
    "#设置value的显示长度为200，默认为50\n",
    "# pd.set_option('max_colwidth',200)\n",
    "# #显示所有列，把行显示设置成最大\n",
    "# pd.set_option('display.max_columns', None)\n",
    "#显示所有行，把列显示设置成最大\n",
    "pd.set_option('display.max_rows', 500)"
   ]
  },
  {
   "cell_type": "code",
   "execution_count": 3,
   "metadata": {
    "collapsed": true,
    "scrolled": true
   },
   "outputs": [],
   "source": [
    "seed = 19961231\n",
    "random.seed(seed)\n",
    "np.random.seed(seed)\n",
    "torch.manual_seed(seed)\n",
    "torch.cuda.manual_seed(seed)\n",
    "torch.cuda.manual_seed_all(seed)\n",
    "torch.backends.cudnn.benchmark = False\n",
    "torch.backends.cudnn.deterministic = True"
   ]
  },
  {
   "cell_type": "code",
   "execution_count": 4,
   "metadata": {
    "collapsed": true
   },
   "outputs": [],
   "source": [
    "hla_sequence = pd.read_csv('/home/chujunyi/5_ZY_MHC/data/common_hla_sequence.csv')"
   ]
  },
  {
   "cell_type": "code",
   "execution_count": 5,
   "metadata": {
    "collapsed": true
   },
   "outputs": [],
   "source": [
    "def make_data(data):\n",
    "    pep_inputs, hla_inputs, labels = [], [], []\n",
    "    for pep, hla, label in zip(data.peptide, data.HLA_sequence, data.label):\n",
    "        pep, hla = pep.ljust(pep_max_len, '-'), hla.ljust(hla_max_len, '-')\n",
    "        pep_input = [[vocab[n] for n in pep]] # [[1, 2, 3, 4, 0], [1, 2, 3, 5, 0]]\n",
    "        hla_input = [[vocab[n] for n in hla]]\n",
    "        pep_inputs.extend(pep_input)\n",
    "        hla_inputs.extend(hla_input)\n",
    "        labels.append(label)\n",
    "    return torch.LongTensor(pep_inputs), torch.LongTensor(hla_inputs), torch.LongTensor(labels)\n",
    "\n",
    "class MyDataSet(Data.Dataset):\n",
    "    def __init__(self, pep_inputs, hla_inputs, labels):\n",
    "        super(MyDataSet, self).__init__()\n",
    "        self.pep_inputs = pep_inputs\n",
    "        self.hla_inputs = hla_inputs\n",
    "        self.labels = labels\n",
    "\n",
    "    def __len__(self): # 样本数\n",
    "        return self.pep_inputs.shape[0] # 改成hla_inputs也可以哦！\n",
    "\n",
    "    def __getitem__(self, idx):\n",
    "        return self.pep_inputs[idx], self.hla_inputs[idx], self.labels[idx]"
   ]
  },
  {
   "cell_type": "markdown",
   "metadata": {},
   "source": [
    "## 模型"
   ]
  },
  {
   "cell_type": "code",
   "execution_count": 6,
   "metadata": {
    "collapsed": true
   },
   "outputs": [],
   "source": [
    "class PositionalEncoding(nn.Module):\n",
    "    def __init__(self, d_model, dropout=0.1, max_len=5000):\n",
    "        super(PositionalEncoding, self).__init__()\n",
    "        self.dropout = nn.Dropout(p=dropout)\n",
    "\n",
    "        pe = torch.zeros(max_len, d_model)\n",
    "        position = torch.arange(0, max_len, dtype=torch.float).unsqueeze(1)\n",
    "        div_term = torch.exp(torch.arange(0, d_model, 2).float() * (-math.log(10000.0) / d_model))\n",
    "        pe[:, 0::2] = torch.sin(position * div_term)\n",
    "        pe[:, 1::2] = torch.cos(position * div_term)\n",
    "        pe = pe.unsqueeze(0).transpose(0, 1)\n",
    "        self.register_buffer('pe', pe)\n",
    "\n",
    "    def forward(self, x):\n",
    "        '''\n",
    "        x: [seq_len, batch_size, d_model]\n",
    "        '''\n",
    "        x = x + self.pe[:x.size(0), :]\n",
    "        return self.dropout(x)"
   ]
  },
  {
   "cell_type": "code",
   "execution_count": 7,
   "metadata": {
    "collapsed": true
   },
   "outputs": [],
   "source": [
    "def get_attn_pad_mask(seq_q, seq_k):\n",
    "    '''\n",
    "    seq_q: [batch_size, seq_len]\n",
    "    seq_k: [batch_size, seq_len]\n",
    "    seq_len could be src_len or it could be tgt_len\n",
    "    seq_len in seq_q and seq_len in seq_k maybe not equal\n",
    "    '''\n",
    "    batch_size, len_q = seq_q.size()\n",
    "    batch_size, len_k = seq_k.size()\n",
    "    # eq(zero) is PAD token\n",
    "    pad_attn_mask = seq_k.data.eq(0).unsqueeze(1)  # [batch_size, 1, len_k], False is masked\n",
    "    return pad_attn_mask.expand(batch_size, len_q, len_k)  # [batch_size, len_q, len_k]"
   ]
  },
  {
   "cell_type": "code",
   "execution_count": 8,
   "metadata": {
    "collapsed": true
   },
   "outputs": [],
   "source": [
    "class ScaledDotProductAttention(nn.Module):\n",
    "    def __init__(self):\n",
    "        super(ScaledDotProductAttention, self).__init__()\n",
    "\n",
    "    def forward(self, Q, K, V, attn_mask):\n",
    "        '''\n",
    "        Q: [batch_size, n_heads, len_q, d_k]\n",
    "        K: [batch_size, n_heads, len_k, d_k]\n",
    "        V: [batch_size, n_heads, len_v(=len_k), d_v]\n",
    "        attn_mask: [batch_size, n_heads, seq_len, seq_len]\n",
    "        '''\n",
    "        scores = torch.matmul(Q, K.transpose(-1, -2)) / np.sqrt(d_k) # scores : [batch_size, n_heads, len_q, len_k]\n",
    "        scores.masked_fill_(attn_mask, -1e9) # Fills elements of self tensor with value where mask is True.\n",
    "        \n",
    "        attn = nn.Softmax(dim=-1)(scores)\n",
    "        context = torch.matmul(attn, V) # [batch_size, n_heads, len_q, d_v]\n",
    "        return context, attn"
   ]
  },
  {
   "cell_type": "code",
   "execution_count": 9,
   "metadata": {
    "collapsed": true
   },
   "outputs": [],
   "source": [
    "class MultiHeadAttention(nn.Module):\n",
    "    def __init__(self):\n",
    "        super(MultiHeadAttention, self).__init__()\n",
    "        self.use_cuda = use_cuda\n",
    "        device = torch.device(\"cuda\" if self.use_cuda else \"cpu\")\n",
    "        self.W_Q = nn.Linear(d_model, d_k * n_heads, bias=False)\n",
    "        self.W_K = nn.Linear(d_model, d_k * n_heads, bias=False)\n",
    "        self.W_V = nn.Linear(d_model, d_v * n_heads, bias=False)\n",
    "        self.fc = nn.Linear(n_heads * d_v, d_model, bias=False)\n",
    "    def forward(self, input_Q, input_K, input_V, attn_mask):\n",
    "        '''\n",
    "        input_Q: [batch_size, len_q, d_model]\n",
    "        input_K: [batch_size, len_k, d_model]\n",
    "        input_V: [batch_size, len_v(=len_k), d_model]\n",
    "        attn_mask: [batch_size, seq_len, seq_len]\n",
    "        '''\n",
    "        residual, batch_size = input_Q, input_Q.size(0)\n",
    "        # (B, S, D) -proj-> (B, S, D_new) -split-> (B, S, H, W) -trans-> (B, H, S, W)\n",
    "        Q = self.W_Q(input_Q).view(batch_size, -1, n_heads, d_k).transpose(1,2)  # Q: [batch_size, n_heads, len_q, d_k]\n",
    "        K = self.W_K(input_K).view(batch_size, -1, n_heads, d_k).transpose(1,2)  # K: [batch_size, n_heads, len_k, d_k]\n",
    "        V = self.W_V(input_V).view(batch_size, -1, n_heads, d_v).transpose(1,2)  # V: [batch_size, n_heads, len_v(=len_k), d_v]\n",
    "\n",
    "        attn_mask = attn_mask.unsqueeze(1).repeat(1, n_heads, 1, 1) # attn_mask : [batch_size, n_heads, seq_len, seq_len]\n",
    "\n",
    "        # context: [batch_size, n_heads, len_q, d_v], attn: [batch_size, n_heads, len_q, len_k]\n",
    "        context, attn = ScaledDotProductAttention()(Q, K, V, attn_mask)\n",
    "        context = context.transpose(1, 2).reshape(batch_size, -1, n_heads * d_v) # context: [batch_size, len_q, n_heads * d_v]\n",
    "        output = self.fc(context) # [batch_size, len_q, d_model]\n",
    "        return nn.LayerNorm(d_model).to(device)(output + residual), attn"
   ]
  },
  {
   "cell_type": "code",
   "execution_count": 10,
   "metadata": {
    "collapsed": true
   },
   "outputs": [],
   "source": [
    "class PoswiseFeedForwardNet(nn.Module):\n",
    "    def __init__(self):\n",
    "        super(PoswiseFeedForwardNet, self).__init__()\n",
    "        self.use_cuda = use_cuda\n",
    "        device = torch.device(\"cuda\" if self.use_cuda else \"cpu\")\n",
    "        self.fc = nn.Sequential(\n",
    "            nn.Linear(d_model, d_ff, bias=False),\n",
    "            nn.ReLU(),\n",
    "            nn.Linear(d_ff, d_model, bias=False)\n",
    "        )\n",
    "    def forward(self, inputs):\n",
    "        '''\n",
    "        inputs: [batch_size, seq_len, d_model]\n",
    "        '''\n",
    "        residual = inputs\n",
    "        output = self.fc(inputs)\n",
    "        return nn.LayerNorm(d_model).to(device)(output + residual) # [batch_size, seq_len, d_model]"
   ]
  },
  {
   "cell_type": "code",
   "execution_count": 11,
   "metadata": {
    "collapsed": true
   },
   "outputs": [],
   "source": [
    "class EncoderLayer(nn.Module):\n",
    "    def __init__(self):\n",
    "        super(EncoderLayer, self).__init__()\n",
    "        self.enc_self_attn = MultiHeadAttention()\n",
    "        self.pos_ffn = PoswiseFeedForwardNet()\n",
    "\n",
    "    def forward(self, enc_inputs, enc_self_attn_mask):\n",
    "        '''\n",
    "        enc_inputs: [batch_size, src_len, d_model]\n",
    "        enc_self_attn_mask: [batch_size, src_len, src_len]\n",
    "        '''\n",
    "        # enc_outputs: [batch_size, src_len, d_model], attn: [batch_size, n_heads, src_len, src_len]\n",
    "        enc_outputs, attn = self.enc_self_attn(enc_inputs, enc_inputs, enc_inputs, enc_self_attn_mask) # enc_inputs to same Q,K,V\n",
    "        enc_outputs = self.pos_ffn(enc_outputs) # enc_outputs: [batch_size, src_len, d_model]\n",
    "        return enc_outputs, attn"
   ]
  },
  {
   "cell_type": "code",
   "execution_count": 12,
   "metadata": {
    "collapsed": true
   },
   "outputs": [],
   "source": [
    "class Encoder(nn.Module):\n",
    "    def __init__(self):\n",
    "        super(Encoder, self).__init__()\n",
    "        self.src_emb = nn.Embedding(vocab_size, d_model)\n",
    "        self.pos_emb = PositionalEncoding(d_model)\n",
    "        self.layers = nn.ModuleList([EncoderLayer() for _ in range(n_layers)])\n",
    "\n",
    "    def forward(self, enc_inputs):\n",
    "        '''\n",
    "        enc_inputs: [batch_size, src_len]\n",
    "        '''\n",
    "        enc_outputs = self.src_emb(enc_inputs) # [batch_size, src_len, d_model]\n",
    "        enc_outputs = self.pos_emb(enc_outputs.transpose(0, 1)).transpose(0, 1) # [batch_size, src_len, d_model]\n",
    "        enc_self_attn_mask = get_attn_pad_mask(enc_inputs, enc_inputs) # [batch_size, src_len, src_len]\n",
    "        enc_self_attns = []\n",
    "        for layer in self.layers:\n",
    "            # enc_outputs: [batch_size, src_len, d_model], enc_self_attn: [batch_size, n_heads, src_len, src_len]\n",
    "            enc_outputs, enc_self_attn = layer(enc_outputs, enc_self_attn_mask)\n",
    "            enc_self_attns.append(enc_self_attn)\n",
    "        return enc_outputs, enc_self_attns"
   ]
  },
  {
   "cell_type": "markdown",
   "metadata": {},
   "source": [
    "### Decoder"
   ]
  },
  {
   "cell_type": "code",
   "execution_count": 13,
   "metadata": {
    "collapsed": true
   },
   "outputs": [],
   "source": [
    "class DecoderLayer(nn.Module):\n",
    "    def __init__(self):\n",
    "        super(DecoderLayer, self).__init__()\n",
    "        self.dec_self_attn = MultiHeadAttention()\n",
    "        self.pos_ffn = PoswiseFeedForwardNet()\n",
    "\n",
    "    def forward(self, dec_inputs, dec_self_attn_mask): # dec_inputs = enc_outputs\n",
    "        '''\n",
    "        dec_inputs: [batch_size, tgt_len, d_model]\n",
    "        enc_outputs: [batch_size, src_len, d_model]\n",
    "        dec_self_attn_mask: [batch_size, tgt_len, tgt_len]\n",
    "        '''\n",
    "        # dec_outputs: [batch_size, tgt_len, d_model], dec_self_attn: [batch_size, n_heads, tgt_len, tgt_len]\n",
    "        dec_outputs, dec_self_attn = self.dec_self_attn(dec_inputs, dec_inputs, dec_inputs, dec_self_attn_mask)\n",
    "        dec_outputs = self.pos_ffn(dec_outputs) # [batch_size, tgt_len, d_model]\n",
    "        return dec_outputs, dec_self_attn"
   ]
  },
  {
   "cell_type": "code",
   "execution_count": 14,
   "metadata": {
    "collapsed": true
   },
   "outputs": [],
   "source": [
    "class Decoder(nn.Module):\n",
    "    def __init__(self):\n",
    "        super(Decoder, self).__init__()\n",
    "#         self.tgt_emb = nn.Embedding(d_model * 2, d_model)\n",
    "        self.use_cuda = use_cuda\n",
    "        device = torch.device(\"cuda\" if self.use_cuda else \"cpu\")\n",
    "        self.pos_emb = PositionalEncoding(d_model)\n",
    "        self.layers = nn.ModuleList([DecoderLayer() for _ in range(n_layers)])\n",
    "        self.tgt_len = tgt_len\n",
    "        \n",
    "    def forward(self, dec_inputs): # dec_inputs = enc_outputs (batch_size, peptide_hla_maxlen_sum, d_model)\n",
    "        '''\n",
    "        dec_inputs: [batch_size, tgt_len]\n",
    "        enc_intpus: [batch_size, src_len]\n",
    "        enc_outputs: [batsh_size, src_len, d_model]\n",
    "        '''\n",
    "#         dec_outputs = self.tgt_emb(dec_inputs) # [batch_size, tgt_len, d_model]\n",
    "        dec_outputs = self.pos_emb(dec_inputs.transpose(0, 1)).transpose(0, 1).to(device) # [batch_size, tgt_len, d_model]\n",
    "#         dec_self_attn_pad_mask = get_attn_pad_mask(dec_inputs, dec_inputs).cuda() # [batch_size, tgt_len, tgt_len]\n",
    "        dec_self_attn_pad_mask = torch.LongTensor(np.zeros((dec_inputs.shape[0], tgt_len, tgt_len))).bool().to(device)\n",
    "\n",
    "        dec_self_attns = []\n",
    "        for layer in self.layers:\n",
    "            # dec_outputs: [batch_size, tgt_len, d_model], dec_self_attn: [batch_size, n_heads, tgt_len, tgt_len], dec_enc_attn: [batch_size, h_heads, tgt_len, src_len]\n",
    "            dec_outputs, dec_self_attn = layer(dec_outputs, dec_self_attn_pad_mask)\n",
    "            dec_self_attns.append(dec_self_attn)\n",
    "            \n",
    "        return dec_outputs, dec_self_attns"
   ]
  },
  {
   "cell_type": "markdown",
   "metadata": {},
   "source": [
    "### Transformer"
   ]
  },
  {
   "cell_type": "code",
   "execution_count": 15,
   "metadata": {
    "collapsed": true
   },
   "outputs": [],
   "source": [
    "class Transformer(nn.Module):\n",
    "    def __init__(self):\n",
    "        super(Transformer, self).__init__()\n",
    "        self.use_cuda = use_cuda\n",
    "        device = torch.device(\"cuda\" if use_cuda else \"cpu\")\n",
    "        self.pep_encoder = Encoder().to(device)\n",
    "        self.hla_encoder = Encoder().to(device)\n",
    "        self.decoder = Decoder().to(device)\n",
    "        self.tgt_len = tgt_len\n",
    "        self.projection = nn.Sequential(\n",
    "                                        nn.Linear(tgt_len * d_model, 256),\n",
    "                                        nn.ReLU(True),\n",
    "\n",
    "                                        nn.BatchNorm1d(256),\n",
    "                                        nn.Linear(256, 64),\n",
    "                                        nn.ReLU(True),\n",
    "\n",
    "                                        #output layer\n",
    "                                        nn.Linear(64, 2)\n",
    "                                        ).to(device)\n",
    "        \n",
    "    def forward(self, pep_inputs, hla_inputs):\n",
    "        '''\n",
    "        pep_inputs: [batch_size, pep_len]\n",
    "        hla_inputs: [batch_size, hla_len]\n",
    "        '''\n",
    "        # tensor to store decoder outputs\n",
    "        # outputs = torch.zeros(batch_size, tgt_len, tgt_vocab_size).to(self.device)\n",
    "        \n",
    "        # enc_outputs: [batch_size, src_len, d_model], enc_self_attns: [n_layers, batch_size, n_heads, src_len, src_len]\n",
    "        pep_enc_outputs, pep_enc_self_attns = self.pep_encoder(pep_inputs)\n",
    "        hla_enc_outputs, hla_enc_self_attns = self.hla_encoder(hla_inputs)\n",
    "        enc_outputs = torch.cat((pep_enc_outputs, hla_enc_outputs), 1) # concat pep & hla embedding\n",
    "        \n",
    "        # dec_outpus: [batch_size, tgt_len, d_model], dec_self_attns: [n_layers, batch_size, n_heads, tgt_len, tgt_len], dec_enc_attn: [n_layers, batch_size, tgt_len, src_len]\n",
    "        dec_outputs, dec_self_attns = self.decoder(enc_outputs)\n",
    "        dec_outputs = dec_outputs.view(dec_outputs.shape[0], -1) # Flatten [batch_size, tgt_len * d_model]\n",
    "        dec_logits = self.projection(dec_outputs) # dec_logits: [batch_size, tgt_len, tgt_vocab_size]\n",
    "\n",
    "        return dec_logits.view(-1, dec_logits.size(-1)), pep_enc_self_attns, hla_enc_self_attns, dec_self_attns"
   ]
  },
  {
   "cell_type": "markdown",
   "metadata": {},
   "source": [
    "# 性能评估"
   ]
  },
  {
   "cell_type": "code",
   "execution_count": 16,
   "metadata": {
    "collapsed": true
   },
   "outputs": [],
   "source": [
    "def performances(y_true, y_pred, y_prob, print_ = True):\n",
    "    \n",
    "    tn, fp, fn, tp = confusion_matrix(y_true, y_pred, labels = [0, 1]).ravel().tolist()\n",
    "    accuracy = (tp+tn)/(tn+fp+fn+tp)\n",
    "    try:\n",
    "        mcc = ((tp*tn) - (fn*fp)) / np.sqrt(np.float((tp+fn)*(tn+fp)*(tp+fp)*(tn+fn)))\n",
    "    except:\n",
    "        print('MCC Error: ', (tp+fn)*(tn+fp)*(tp+fp)*(tn+fn))\n",
    "        mcc = np.nan\n",
    "    sensitivity = tp/(tp+fn)\n",
    "    specificity = tn/(tn+fp)\n",
    "    \n",
    "    try:\n",
    "        recall = tp / (tp+fn)\n",
    "    except:\n",
    "        recall = np.nan\n",
    "        \n",
    "    try:\n",
    "        precision = tp / (tp+fp)\n",
    "    except:\n",
    "        precision = np.nan\n",
    "        \n",
    "    try: \n",
    "        f1 = 2*precision*recall / (precision+recall)\n",
    "    except:\n",
    "        f1 = np.nan\n",
    "        \n",
    "    roc_auc = roc_auc_score(y_true, y_prob)\n",
    "    prec, reca, _ = precision_recall_curve(y_true, y_prob)\n",
    "    aupr = auc(reca, prec)\n",
    "    \n",
    "    if print_:\n",
    "        print('tn = {}, fp = {}, fn = {}, tp = {}'.format(tn, fp, fn, tp))\n",
    "        print('y_pred: 0 = {} | 1 = {}'.format(Counter(y_pred)[0], Counter(y_pred)[1]))\n",
    "        print('y_true: 0 = {} | 1 = {}'.format(Counter(y_true)[0], Counter(y_true)[1]))\n",
    "        print('auc={:.4f}|sensitivity={:.4f}|specificity={:.4f}|acc={:.4f}|mcc={:.4f}'.format(roc_auc, sensitivity, specificity, accuracy, mcc))\n",
    "        print('precision={:.4f}|recall={:.4f}|f1={:.4f}|aupr={:.4f}'.format(precision, recall, f1, aupr))\n",
    "    \n",
    "    return (roc_auc, accuracy, mcc, f1, sensitivity, specificity, precision, recall, aupr)"
   ]
  },
  {
   "cell_type": "code",
   "execution_count": 17,
   "metadata": {
    "collapsed": true
   },
   "outputs": [],
   "source": [
    "def transfer(y_prob, threshold = 0.5):\n",
    "    return np.array([[0, 1][x > threshold] for x in y_prob])"
   ]
  },
  {
   "cell_type": "code",
   "execution_count": 18,
   "metadata": {
    "collapsed": true
   },
   "outputs": [],
   "source": [
    "def performances_to_pd(performances_dict):\n",
    "    metrics_name = ['roc_auc', 'accuracy', 'mcc', 'f1', 'sensitivity', 'specificity', 'precision', 'recall', 'aupr']\n",
    "    performances_pd = pd.DataFrame(performances_dict, index = metrics_name)\n",
    "    return performances_pd.T"
   ]
  },
  {
   "cell_type": "markdown",
   "metadata": {},
   "source": [
    "### 模型 & 损失函数 & 优化器"
   ]
  },
  {
   "cell_type": "code",
   "execution_count": 19,
   "metadata": {
    "collapsed": true
   },
   "outputs": [],
   "source": [
    "def eval_step(model, val_loader, labels, fold, use_cuda = False, save_ = False):\n",
    "    device = torch.device(\"cuda\" if use_cuda else \"cpu\")\n",
    "    \n",
    "    model.eval()\n",
    "    torch.manual_seed(19961231)\n",
    "    torch.cuda.manual_seed(19961231)\n",
    "    with torch.no_grad():\n",
    "        y_true_val_list, y_prob_val_list, dec_attns_val_list = [], [], []\n",
    "        for val_pep_inputs, val_hla_inputs, val_labels in tqdm(val_loader):\n",
    "            val_pep_inputs, val_hla_inputs, val_labels = val_pep_inputs.to(device), val_hla_inputs.to(device), val_labels.to(device)\n",
    "            val_outputs, _, _, val_dec_self_attns = model(val_pep_inputs, val_hla_inputs)\n",
    "            val_loss = criterion(val_outputs, val_labels)\n",
    "\n",
    "            y_true_val = val_labels.cpu().numpy()\n",
    "            y_prob_val = nn.Softmax(dim = 1)(val_outputs)[:, 1].cpu().detach().numpy()\n",
    "\n",
    "            y_true_val_list.extend(y_true_val)\n",
    "            y_prob_val_list.extend(y_prob_val)\n",
    "            \n",
    "            if save_:\n",
    "                dec_attns_val_list.extend(val_dec_self_attns[0][:, :, 15:, :15]) # 只要（34,15）行HLA，列peptide\n",
    "                \n",
    "        assert (labels.numpy() == y_true_val_list).all()    \n",
    "        y_pred_val_list = transfer(y_prob_val_list, threshold)\n",
    "        metrics_val = performances(y_true_val_list, y_pred_val_list, y_prob_val_list, print_ = True)\n",
    "        \n",
    "        if save_: \n",
    "            ys_val = (y_true_val_list, y_pred_val_list, y_prob_val_list)\n",
    "            return metrics_val, ys_val, dec_attns_val_list\n",
    "        else:\n",
    "            return metrics_val, None, None"
   ]
  },
  {
   "cell_type": "code",
   "execution_count": 20,
   "metadata": {
    "collapsed": true
   },
   "outputs": [],
   "source": [
    "def data_with_loader(type_ = 'train',fold = None,  batch_size = 1024):\n",
    "    if type_ != 'train' and type_ != 'val':\n",
    "        data = pd.read_csv('/home/chujunyi/5_ZY_MHC/Anthem/Dataset/{}_set.csv'.format(type_), index_col = 0)\n",
    "    elif type_ == 'train':\n",
    "        data = pd.read_csv('/home/chujunyi/5_ZY_MHC/Anthem/Dataset/train_data_fold{}.csv'.format(fold), index_col = 0)\n",
    "    elif type_ == 'val':\n",
    "        data = pd.read_csv('/home/chujunyi/5_ZY_MHC/Anthem/Dataset/val_data_fold{}.csv'.format(fold), index_col = 0)\n",
    "        \n",
    "    pep_inputs, hla_inputs, labels = make_data(data)\n",
    "    if batch_size != None:\n",
    "        loader = Data.DataLoader(MyDataSet(pep_inputs, hla_inputs, labels), batch_size, shuffle = False, num_workers = 0)\n",
    "    else:\n",
    "        loader = Data.DataLoader(MyDataSet(pep_inputs, hla_inputs, labels), batch_size = len(data), shuffle = False, num_workers = 0)\n",
    "    return data, pep_inputs, hla_inputs, labels, loader"
   ]
  },
  {
   "cell_type": "markdown",
   "metadata": {},
   "source": [
    "# 运行"
   ]
  },
  {
   "cell_type": "code",
   "execution_count": 21,
   "metadata": {},
   "outputs": [],
   "source": [
    "pep_max_len = 15 # peptide; enc_input max sequence length\n",
    "hla_max_len = 34 # hla; dec_input(=dec_output) max sequence length\n",
    "tgt_len = pep_max_len + hla_max_len\n",
    "pep_max_len, hla_max_len\n",
    "\n",
    "vocab = np.load('Transformer_vocab_dict.npy', allow_pickle = True).item()\n",
    "vocab_size = len(vocab)\n",
    "\n",
    "\n",
    "# In[36]:\n",
    "\n",
    "\n",
    "# Transformer Parameters\n",
    "d_model = 64  # Embedding Size\n",
    "d_ff = 512 # FeedForward dimension\n",
    "d_k = d_v = 64  # dimension of K(=Q), V\n",
    "# n_layers = 1  # number of Encoder of Decoder Layer\n",
    "\n",
    "batch_size = 1024\n",
    "epochs = 50\n",
    "threshold = 0.5"
   ]
  },
  {
   "cell_type": "code",
   "execution_count": 22,
   "metadata": {
    "scrolled": true
   },
   "outputs": [
    {
     "data": {
      "text/plain": [
       "[['1', '1', '0'],\n",
       " ['1', '1', '1'],\n",
       " ['1', '1', '2'],\n",
       " ['1', '1', '3'],\n",
       " ['1', '1', '4'],\n",
       " ['1', '2', '0'],\n",
       " ['1', '2', '1'],\n",
       " ['1', '2', '2'],\n",
       " ['1', '2', '3'],\n",
       " ['1', '2', '4'],\n",
       " ['1', '3', '0'],\n",
       " ['1', '3', '1'],\n",
       " ['1', '3', '2'],\n",
       " ['1', '3', '3'],\n",
       " ['1', '3', '4'],\n",
       " ['1', '4', '0'],\n",
       " ['1', '4', '1'],\n",
       " ['1', '4', '2'],\n",
       " ['1', '4', '3'],\n",
       " ['1', '4', '4'],\n",
       " ['1', '5', '0'],\n",
       " ['1', '5', '1'],\n",
       " ['1', '5', '2'],\n",
       " ['1', '5', '3'],\n",
       " ['1', '5', '4'],\n",
       " ['1', '6', '0'],\n",
       " ['1', '6', '1'],\n",
       " ['1', '6', '2'],\n",
       " ['1', '6', '3'],\n",
       " ['1', '6', '4'],\n",
       " ['1', '7', '0'],\n",
       " ['1', '7', '1'],\n",
       " ['1', '7', '2'],\n",
       " ['1', '7', '3'],\n",
       " ['1', '7', '4'],\n",
       " ['1', '8', '0'],\n",
       " ['1', '8', '1'],\n",
       " ['1', '8', '2'],\n",
       " ['1', '8', '3'],\n",
       " ['1', '8', '4'],\n",
       " ['1', '9', '0'],\n",
       " ['1', '9', '1'],\n",
       " ['1', '9', '2'],\n",
       " ['1', '9', '3'],\n",
       " ['1', '9', '4'],\n",
       " ['1', '10', '0'],\n",
       " ['1', '10', '1'],\n",
       " ['1', '10', '2'],\n",
       " ['1', '10', '3'],\n",
       " ['1', '10', '4'],\n",
       " ['2', '1', '0'],\n",
       " ['2', '1', '1'],\n",
       " ['2', '1', '2'],\n",
       " ['2', '1', '3'],\n",
       " ['2', '1', '4'],\n",
       " ['2', '2', '0'],\n",
       " ['2', '2', '1'],\n",
       " ['2', '2', '2'],\n",
       " ['2', '2', '3'],\n",
       " ['2', '2', '4'],\n",
       " ['2', '3', '0'],\n",
       " ['2', '3', '1'],\n",
       " ['2', '3', '2'],\n",
       " ['2', '3', '3'],\n",
       " ['2', '3', '4'],\n",
       " ['2', '4', '0'],\n",
       " ['2', '4', '1'],\n",
       " ['2', '4', '2'],\n",
       " ['2', '4', '3'],\n",
       " ['2', '4', '4'],\n",
       " ['2', '5', '0'],\n",
       " ['2', '5', '1'],\n",
       " ['2', '5', '2'],\n",
       " ['2', '5', '3'],\n",
       " ['2', '5', '4'],\n",
       " ['2', '6', '0'],\n",
       " ['2', '6', '1'],\n",
       " ['2', '6', '2'],\n",
       " ['2', '6', '3'],\n",
       " ['2', '6', '4'],\n",
       " ['2', '7', '0'],\n",
       " ['2', '7', '1'],\n",
       " ['2', '7', '2'],\n",
       " ['2', '7', '3'],\n",
       " ['2', '7', '4'],\n",
       " ['2', '8', '0'],\n",
       " ['2', '8', '1'],\n",
       " ['2', '8', '2'],\n",
       " ['2', '8', '3'],\n",
       " ['2', '8', '4'],\n",
       " ['2', '9', '0'],\n",
       " ['2', '9', '1'],\n",
       " ['2', '9', '2'],\n",
       " ['2', '9', '3'],\n",
       " ['2', '9', '4'],\n",
       " ['2', '10', '0'],\n",
       " ['2', '10', '1'],\n",
       " ['2', '10', '2'],\n",
       " ['2', '10', '3'],\n",
       " ['2', '10', '4']]"
      ]
     },
     "execution_count": 22,
     "metadata": {},
     "output_type": "execute_result"
    }
   ],
   "source": [
    "model_files = sorted(os.listdir('/home/chujunyi/5_ZY_MHC/model/pHLAIformer'), key = lambda x : (x.split('_')[1][-1], eval(x.split('_')[2][9:]), eval(x.split('_')[3][4])))\n",
    "# model_files = []\n",
    "# for f in files:\n",
    "#     if f.split('_')[3][4] == '0': model_files.append(f)\n",
    "model_layers_heads = [[item.split('_')[1][5:], item.split('_')[2][9:], item.split('_')[-1][4:-4]] for item in model_files]\n",
    "model_layers_heads"
   ]
  },
  {
   "cell_type": "code",
   "execution_count": 22,
   "metadata": {
    "scrolled": true
   },
   "outputs": [
    {
     "name": "stdout",
     "output_type": "stream",
     "text": [
      "Idx0 - model_layer1_multihead1_fold0.pkl: # layer = 1 | # heads = 1 | Fold = 0\n"
     ]
    },
    {
     "name": "stderr",
     "output_type": "stream",
     "text": [
      "  1%|          | 2/168 [00:00<00:12, 13.65it/s]"
     ]
    },
    {
     "name": "stdout",
     "output_type": "stream",
     "text": [
      "INDEPENDENT Label info: Counter({1: 85876, 0: 85562})\n"
     ]
    },
    {
     "name": "stderr",
     "output_type": "stream",
     "text": [
      "100%|██████████| 168/168 [00:09<00:00, 16.96it/s]\n"
     ]
    },
    {
     "name": "stdout",
     "output_type": "stream",
     "text": [
      "tn = 79342, fp = 6220, fn = 5610, tp = 80266\n",
      "y_pred: 0 = 84952 | 1 = 86486\n",
      "y_true: 0 = 85562 | 1 = 85876\n",
      "auc=0.9776|sensitivity=0.9347|specificity=0.9273|acc=0.9310|mcc=0.8620\n",
      "precision=0.9281|recall=0.9347|f1=0.9314|aupr=0.9775\n",
      "Idx1 - model_layer1_multihead1_fold1.pkl: # layer = 1 | # heads = 1 | Fold = 1\n"
     ]
    },
    {
     "name": "stderr",
     "output_type": "stream",
     "text": [
      "  1%|          | 2/168 [00:00<00:11, 14.76it/s]"
     ]
    },
    {
     "name": "stdout",
     "output_type": "stream",
     "text": [
      "INDEPENDENT Label info: Counter({1: 85876, 0: 85562})\n"
     ]
    },
    {
     "name": "stderr",
     "output_type": "stream",
     "text": [
      "100%|██████████| 168/168 [00:10<00:00, 16.51it/s]\n"
     ]
    },
    {
     "name": "stdout",
     "output_type": "stream",
     "text": [
      "tn = 78997, fp = 6565, fn = 5616, tp = 80260\n",
      "y_pred: 0 = 84613 | 1 = 86825\n",
      "y_true: 0 = 85562 | 1 = 85876\n",
      "auc=0.9771|sensitivity=0.9346|specificity=0.9233|acc=0.9289|mcc=0.8579\n",
      "precision=0.9244|recall=0.9346|f1=0.9295|aupr=0.9770\n",
      "Idx2 - model_layer1_multihead1_fold2.pkl: # layer = 1 | # heads = 1 | Fold = 2\n"
     ]
    },
    {
     "name": "stderr",
     "output_type": "stream",
     "text": [
      "  1%|          | 2/168 [00:00<00:10, 15.20it/s]"
     ]
    },
    {
     "name": "stdout",
     "output_type": "stream",
     "text": [
      "INDEPENDENT Label info: Counter({1: 85876, 0: 85562})\n"
     ]
    },
    {
     "name": "stderr",
     "output_type": "stream",
     "text": [
      "100%|██████████| 168/168 [00:09<00:00, 17.35it/s]\n"
     ]
    },
    {
     "name": "stdout",
     "output_type": "stream",
     "text": [
      "tn = 78922, fp = 6640, fn = 5425, tp = 80451\n",
      "y_pred: 0 = 84347 | 1 = 87091\n",
      "y_true: 0 = 85562 | 1 = 85876\n",
      "auc=0.9783|sensitivity=0.9368|specificity=0.9224|acc=0.9296|mcc=0.8593\n",
      "precision=0.9238|recall=0.9368|f1=0.9302|aupr=0.9780\n",
      "Idx3 - model_layer1_multihead1_fold3.pkl: # layer = 1 | # heads = 1 | Fold = 3\n"
     ]
    },
    {
     "name": "stderr",
     "output_type": "stream",
     "text": [
      "  1%|          | 2/168 [00:00<00:12, 13.47it/s]"
     ]
    },
    {
     "name": "stdout",
     "output_type": "stream",
     "text": [
      "INDEPENDENT Label info: Counter({1: 85876, 0: 85562})\n"
     ]
    },
    {
     "name": "stderr",
     "output_type": "stream",
     "text": [
      "100%|██████████| 168/168 [00:10<00:00, 16.72it/s]\n"
     ]
    },
    {
     "name": "stdout",
     "output_type": "stream",
     "text": [
      "tn = 79367, fp = 6195, fn = 6011, tp = 79865\n",
      "y_pred: 0 = 85378 | 1 = 86060\n",
      "y_true: 0 = 85562 | 1 = 85876\n",
      "auc=0.9774|sensitivity=0.9300|specificity=0.9276|acc=0.9288|mcc=0.8576\n",
      "precision=0.9280|recall=0.9300|f1=0.9290|aupr=0.9773\n",
      "Idx4 - model_layer1_multihead1_fold4.pkl: # layer = 1 | # heads = 1 | Fold = 4\n"
     ]
    },
    {
     "name": "stderr",
     "output_type": "stream",
     "text": [
      "  1%|          | 2/168 [00:00<00:10, 15.50it/s]"
     ]
    },
    {
     "name": "stdout",
     "output_type": "stream",
     "text": [
      "INDEPENDENT Label info: Counter({1: 85876, 0: 85562})\n"
     ]
    },
    {
     "name": "stderr",
     "output_type": "stream",
     "text": [
      "100%|██████████| 168/168 [00:10<00:00, 16.19it/s]\n"
     ]
    },
    {
     "name": "stdout",
     "output_type": "stream",
     "text": [
      "tn = 79378, fp = 6184, fn = 5919, tp = 79957\n",
      "y_pred: 0 = 85297 | 1 = 86141\n",
      "y_true: 0 = 85562 | 1 = 85876\n",
      "auc=0.9772|sensitivity=0.9311|specificity=0.9277|acc=0.9294|mcc=0.8588\n",
      "precision=0.9282|recall=0.9311|f1=0.9296|aupr=0.9771\n",
      "Idx5 - model_layer1_multihead2_fold0.pkl: # layer = 1 | # heads = 2 | Fold = 0\n"
     ]
    },
    {
     "name": "stderr",
     "output_type": "stream",
     "text": [
      "  1%|          | 2/168 [00:00<00:12, 12.97it/s]"
     ]
    },
    {
     "name": "stdout",
     "output_type": "stream",
     "text": [
      "INDEPENDENT Label info: Counter({1: 85876, 0: 85562})\n"
     ]
    },
    {
     "name": "stderr",
     "output_type": "stream",
     "text": [
      "100%|██████████| 168/168 [00:11<00:00, 14.87it/s]\n"
     ]
    },
    {
     "name": "stdout",
     "output_type": "stream",
     "text": [
      "tn = 78566, fp = 6996, fn = 5199, tp = 80677\n",
      "y_pred: 0 = 83765 | 1 = 87673\n",
      "y_true: 0 = 85562 | 1 = 85876\n",
      "auc=0.9776|sensitivity=0.9395|specificity=0.9182|acc=0.9289|mcc=0.8579\n",
      "precision=0.9202|recall=0.9395|f1=0.9297|aupr=0.9774\n",
      "Idx6 - model_layer1_multihead2_fold1.pkl: # layer = 1 | # heads = 2 | Fold = 1\n"
     ]
    },
    {
     "name": "stderr",
     "output_type": "stream",
     "text": [
      "  1%|          | 2/168 [00:00<00:12, 13.09it/s]"
     ]
    },
    {
     "name": "stdout",
     "output_type": "stream",
     "text": [
      "INDEPENDENT Label info: Counter({1: 85876, 0: 85562})\n"
     ]
    },
    {
     "name": "stderr",
     "output_type": "stream",
     "text": [
      "100%|██████████| 168/168 [00:11<00:00, 14.61it/s]\n"
     ]
    },
    {
     "name": "stdout",
     "output_type": "stream",
     "text": [
      "tn = 78864, fp = 6698, fn = 5867, tp = 80009\n",
      "y_pred: 0 = 84731 | 1 = 86707\n",
      "y_true: 0 = 85562 | 1 = 85876\n",
      "auc=0.9764|sensitivity=0.9317|specificity=0.9217|acc=0.9267|mcc=0.8535\n",
      "precision=0.9228|recall=0.9317|f1=0.9272|aupr=0.9763\n",
      "Idx7 - model_layer1_multihead2_fold2.pkl: # layer = 1 | # heads = 2 | Fold = 2\n"
     ]
    },
    {
     "name": "stderr",
     "output_type": "stream",
     "text": [
      "  1%|          | 2/168 [00:00<00:12, 13.15it/s]"
     ]
    },
    {
     "name": "stdout",
     "output_type": "stream",
     "text": [
      "INDEPENDENT Label info: Counter({1: 85876, 0: 85562})\n"
     ]
    },
    {
     "name": "stderr",
     "output_type": "stream",
     "text": [
      "100%|██████████| 168/168 [00:11<00:00, 14.63it/s]\n"
     ]
    },
    {
     "name": "stdout",
     "output_type": "stream",
     "text": [
      "tn = 78898, fp = 6664, fn = 5551, tp = 80325\n",
      "y_pred: 0 = 84449 | 1 = 86989\n",
      "y_true: 0 = 85562 | 1 = 85876\n",
      "auc=0.9779|sensitivity=0.9354|specificity=0.9221|acc=0.9287|mcc=0.8576\n",
      "precision=0.9234|recall=0.9354|f1=0.9293|aupr=0.9775\n",
      "Idx8 - model_layer1_multihead2_fold3.pkl: # layer = 1 | # heads = 2 | Fold = 3\n"
     ]
    },
    {
     "name": "stderr",
     "output_type": "stream",
     "text": [
      "  1%|          | 2/168 [00:00<00:13, 12.47it/s]"
     ]
    },
    {
     "name": "stdout",
     "output_type": "stream",
     "text": [
      "INDEPENDENT Label info: Counter({1: 85876, 0: 85562})\n"
     ]
    },
    {
     "name": "stderr",
     "output_type": "stream",
     "text": [
      "100%|██████████| 168/168 [00:11<00:00, 14.10it/s]\n"
     ]
    },
    {
     "name": "stdout",
     "output_type": "stream",
     "text": [
      "tn = 78983, fp = 6579, fn = 5677, tp = 80199\n",
      "y_pred: 0 = 84660 | 1 = 86778\n",
      "y_true: 0 = 85562 | 1 = 85876\n",
      "auc=0.9775|sensitivity=0.9339|specificity=0.9231|acc=0.9285|mcc=0.8571\n",
      "precision=0.9242|recall=0.9339|f1=0.9290|aupr=0.9770\n",
      "Idx9 - model_layer1_multihead2_fold4.pkl: # layer = 1 | # heads = 2 | Fold = 4\n"
     ]
    },
    {
     "name": "stderr",
     "output_type": "stream",
     "text": [
      "  1%|          | 2/168 [00:00<00:13, 12.65it/s]"
     ]
    },
    {
     "name": "stdout",
     "output_type": "stream",
     "text": [
      "INDEPENDENT Label info: Counter({1: 85876, 0: 85562})\n"
     ]
    },
    {
     "name": "stderr",
     "output_type": "stream",
     "text": [
      "100%|██████████| 168/168 [00:11<00:00, 14.61it/s]\n"
     ]
    },
    {
     "name": "stdout",
     "output_type": "stream",
     "text": [
      "tn = 79422, fp = 6140, fn = 5769, tp = 80107\n",
      "y_pred: 0 = 85191 | 1 = 86247\n",
      "y_true: 0 = 85562 | 1 = 85876\n",
      "auc=0.9778|sensitivity=0.9328|specificity=0.9282|acc=0.9305|mcc=0.8611\n",
      "precision=0.9288|recall=0.9328|f1=0.9308|aupr=0.9773\n",
      "Idx10 - model_layer1_multihead3_fold0.pkl: # layer = 1 | # heads = 3 | Fold = 0\n"
     ]
    },
    {
     "name": "stderr",
     "output_type": "stream",
     "text": [
      "  1%|          | 2/168 [00:00<00:15, 10.95it/s]"
     ]
    },
    {
     "name": "stdout",
     "output_type": "stream",
     "text": [
      "INDEPENDENT Label info: Counter({1: 85876, 0: 85562})\n"
     ]
    },
    {
     "name": "stderr",
     "output_type": "stream",
     "text": [
      "100%|██████████| 168/168 [00:13<00:00, 12.39it/s]\n"
     ]
    },
    {
     "name": "stdout",
     "output_type": "stream",
     "text": [
      "tn = 79015, fp = 6547, fn = 5482, tp = 80394\n",
      "y_pred: 0 = 84497 | 1 = 86941\n",
      "y_true: 0 = 85562 | 1 = 85876\n",
      "auc=0.9782|sensitivity=0.9362|specificity=0.9235|acc=0.9298|mcc=0.8597\n",
      "precision=0.9247|recall=0.9362|f1=0.9304|aupr=0.9778\n",
      "Idx11 - model_layer1_multihead3_fold1.pkl: # layer = 1 | # heads = 3 | Fold = 1\n"
     ]
    },
    {
     "name": "stderr",
     "output_type": "stream",
     "text": [
      "  1%|          | 2/168 [00:00<00:14, 11.76it/s]"
     ]
    },
    {
     "name": "stdout",
     "output_type": "stream",
     "text": [
      "INDEPENDENT Label info: Counter({1: 85876, 0: 85562})\n"
     ]
    },
    {
     "name": "stderr",
     "output_type": "stream",
     "text": [
      "100%|██████████| 168/168 [00:13<00:00, 12.55it/s]\n"
     ]
    },
    {
     "name": "stdout",
     "output_type": "stream",
     "text": [
      "tn = 78852, fp = 6710, fn = 5432, tp = 80444\n",
      "y_pred: 0 = 84284 | 1 = 87154\n",
      "y_true: 0 = 85562 | 1 = 85876\n",
      "auc=0.9781|sensitivity=0.9367|specificity=0.9216|acc=0.9292|mcc=0.8584\n",
      "precision=0.9230|recall=0.9367|f1=0.9298|aupr=0.9780\n",
      "Idx12 - model_layer1_multihead3_fold2.pkl: # layer = 1 | # heads = 3 | Fold = 2\n"
     ]
    },
    {
     "name": "stderr",
     "output_type": "stream",
     "text": [
      "  1%|          | 2/168 [00:00<00:14, 11.14it/s]"
     ]
    },
    {
     "name": "stdout",
     "output_type": "stream",
     "text": [
      "INDEPENDENT Label info: Counter({1: 85876, 0: 85562})\n"
     ]
    },
    {
     "name": "stderr",
     "output_type": "stream",
     "text": [
      "100%|██████████| 168/168 [00:13<00:00, 12.86it/s]\n"
     ]
    },
    {
     "name": "stdout",
     "output_type": "stream",
     "text": [
      "tn = 78412, fp = 7150, fn = 5024, tp = 80852\n",
      "y_pred: 0 = 83436 | 1 = 88002\n",
      "y_true: 0 = 85562 | 1 = 85876\n",
      "auc=0.9783|sensitivity=0.9415|specificity=0.9164|acc=0.9290|mcc=0.8582\n",
      "precision=0.9188|recall=0.9415|f1=0.9300|aupr=0.9778\n",
      "Idx13 - model_layer1_multihead3_fold3.pkl: # layer = 1 | # heads = 3 | Fold = 3\n"
     ]
    },
    {
     "name": "stderr",
     "output_type": "stream",
     "text": [
      "  1%|          | 2/168 [00:00<00:14, 11.07it/s]"
     ]
    },
    {
     "name": "stdout",
     "output_type": "stream",
     "text": [
      "INDEPENDENT Label info: Counter({1: 85876, 0: 85562})\n"
     ]
    },
    {
     "name": "stderr",
     "output_type": "stream",
     "text": [
      "100%|██████████| 168/168 [00:12<00:00, 12.96it/s]\n"
     ]
    },
    {
     "name": "stdout",
     "output_type": "stream",
     "text": [
      "tn = 79245, fp = 6317, fn = 5885, tp = 79991\n",
      "y_pred: 0 = 85130 | 1 = 86308\n",
      "y_true: 0 = 85562 | 1 = 85876\n",
      "auc=0.9777|sensitivity=0.9315|specificity=0.9262|acc=0.9288|mcc=0.8577\n",
      "precision=0.9268|recall=0.9315|f1=0.9291|aupr=0.9775\n",
      "Idx14 - model_layer1_multihead3_fold4.pkl: # layer = 1 | # heads = 3 | Fold = 4\n"
     ]
    },
    {
     "name": "stderr",
     "output_type": "stream",
     "text": [
      "  1%|          | 2/168 [00:00<00:14, 11.40it/s]"
     ]
    },
    {
     "name": "stdout",
     "output_type": "stream",
     "text": [
      "INDEPENDENT Label info: Counter({1: 85876, 0: 85562})\n"
     ]
    },
    {
     "name": "stderr",
     "output_type": "stream",
     "text": [
      "100%|██████████| 168/168 [00:12<00:00, 12.96it/s]\n"
     ]
    },
    {
     "name": "stdout",
     "output_type": "stream",
     "text": [
      "tn = 78547, fp = 7015, fn = 5137, tp = 80739\n",
      "y_pred: 0 = 83684 | 1 = 87754\n",
      "y_true: 0 = 85562 | 1 = 85876\n",
      "auc=0.9781|sensitivity=0.9402|specificity=0.9180|acc=0.9291|mcc=0.8584\n",
      "precision=0.9201|recall=0.9402|f1=0.9300|aupr=0.9778\n",
      "Idx15 - model_layer1_multihead4_fold0.pkl: # layer = 1 | # heads = 4 | Fold = 0\n"
     ]
    },
    {
     "name": "stderr",
     "output_type": "stream",
     "text": [
      "  1%|          | 1/168 [00:00<00:17,  9.36it/s]"
     ]
    },
    {
     "name": "stdout",
     "output_type": "stream",
     "text": [
      "INDEPENDENT Label info: Counter({1: 85876, 0: 85562})\n"
     ]
    },
    {
     "name": "stderr",
     "output_type": "stream",
     "text": [
      "100%|██████████| 168/168 [00:16<00:00, 10.38it/s]\n"
     ]
    },
    {
     "name": "stdout",
     "output_type": "stream",
     "text": [
      "tn = 78660, fp = 6902, fn = 5119, tp = 80757\n",
      "y_pred: 0 = 83779 | 1 = 87659\n",
      "y_true: 0 = 85562 | 1 = 85876\n",
      "auc=0.9781|sensitivity=0.9404|specificity=0.9193|acc=0.9299|mcc=0.8599\n",
      "precision=0.9213|recall=0.9404|f1=0.9307|aupr=0.9778\n",
      "Idx16 - model_layer1_multihead4_fold1.pkl: # layer = 1 | # heads = 4 | Fold = 1\n"
     ]
    },
    {
     "name": "stderr",
     "output_type": "stream",
     "text": [
      "  1%|          | 1/168 [00:00<00:19,  8.49it/s]"
     ]
    },
    {
     "name": "stdout",
     "output_type": "stream",
     "text": [
      "INDEPENDENT Label info: Counter({1: 85876, 0: 85562})\n"
     ]
    },
    {
     "name": "stderr",
     "output_type": "stream",
     "text": [
      "100%|██████████| 168/168 [00:16<00:00, 10.11it/s]\n"
     ]
    },
    {
     "name": "stdout",
     "output_type": "stream",
     "text": [
      "tn = 79024, fp = 6538, fn = 5708, tp = 80168\n",
      "y_pred: 0 = 84732 | 1 = 86706\n",
      "y_true: 0 = 85562 | 1 = 85876\n",
      "auc=0.9778|sensitivity=0.9335|specificity=0.9236|acc=0.9286|mcc=0.8572\n",
      "precision=0.9246|recall=0.9335|f1=0.9290|aupr=0.9775\n",
      "Idx17 - model_layer1_multihead4_fold2.pkl: # layer = 1 | # heads = 4 | Fold = 2\n"
     ]
    },
    {
     "name": "stderr",
     "output_type": "stream",
     "text": [
      "  1%|          | 1/168 [00:00<00:17,  9.31it/s]"
     ]
    },
    {
     "name": "stdout",
     "output_type": "stream",
     "text": [
      "INDEPENDENT Label info: Counter({1: 85876, 0: 85562})\n"
     ]
    },
    {
     "name": "stderr",
     "output_type": "stream",
     "text": [
      "100%|██████████| 168/168 [00:16<00:00, 10.13it/s]\n"
     ]
    },
    {
     "name": "stdout",
     "output_type": "stream",
     "text": [
      "tn = 78909, fp = 6653, fn = 5515, tp = 80361\n",
      "y_pred: 0 = 84424 | 1 = 87014\n",
      "y_true: 0 = 85562 | 1 = 85876\n",
      "auc=0.9778|sensitivity=0.9358|specificity=0.9222|acc=0.9290|mcc=0.8581\n",
      "precision=0.9235|recall=0.9358|f1=0.9296|aupr=0.9773\n",
      "Idx18 - model_layer1_multihead4_fold3.pkl: # layer = 1 | # heads = 4 | Fold = 3\n"
     ]
    },
    {
     "name": "stderr",
     "output_type": "stream",
     "text": [
      "  1%|          | 1/168 [00:00<00:18,  9.03it/s]"
     ]
    },
    {
     "name": "stdout",
     "output_type": "stream",
     "text": [
      "INDEPENDENT Label info: Counter({1: 85876, 0: 85562})\n"
     ]
    },
    {
     "name": "stderr",
     "output_type": "stream",
     "text": [
      "100%|██████████| 168/168 [00:16<00:00, 10.21it/s]\n"
     ]
    },
    {
     "name": "stdout",
     "output_type": "stream",
     "text": [
      "tn = 78697, fp = 6865, fn = 5462, tp = 80414\n",
      "y_pred: 0 = 84159 | 1 = 87279\n",
      "y_true: 0 = 85562 | 1 = 85876\n",
      "auc=0.9775|sensitivity=0.9364|specificity=0.9198|acc=0.9281|mcc=0.8563\n",
      "precision=0.9213|recall=0.9364|f1=0.9288|aupr=0.9769\n",
      "Idx19 - model_layer1_multihead4_fold4.pkl: # layer = 1 | # heads = 4 | Fold = 4\n"
     ]
    },
    {
     "name": "stderr",
     "output_type": "stream",
     "text": [
      "  1%|          | 1/168 [00:00<00:19,  8.60it/s]"
     ]
    },
    {
     "name": "stdout",
     "output_type": "stream",
     "text": [
      "INDEPENDENT Label info: Counter({1: 85876, 0: 85562})\n"
     ]
    },
    {
     "name": "stderr",
     "output_type": "stream",
     "text": [
      "100%|██████████| 168/168 [00:16<00:00, 10.29it/s]\n"
     ]
    },
    {
     "name": "stdout",
     "output_type": "stream",
     "text": [
      "tn = 79322, fp = 6240, fn = 6192, tp = 79684\n",
      "y_pred: 0 = 85514 | 1 = 85924\n",
      "y_true: 0 = 85562 | 1 = 85876\n",
      "auc=0.9772|sensitivity=0.9279|specificity=0.9271|acc=0.9275|mcc=0.8550\n",
      "precision=0.9274|recall=0.9279|f1=0.9276|aupr=0.9769\n",
      "Idx20 - model_layer1_multihead5_fold0.pkl: # layer = 1 | # heads = 5 | Fold = 0\n"
     ]
    },
    {
     "name": "stderr",
     "output_type": "stream",
     "text": [
      "  1%|          | 1/168 [00:00<00:21,  7.62it/s]"
     ]
    },
    {
     "name": "stdout",
     "output_type": "stream",
     "text": [
      "INDEPENDENT Label info: Counter({1: 85876, 0: 85562})\n"
     ]
    },
    {
     "name": "stderr",
     "output_type": "stream",
     "text": [
      "100%|██████████| 168/168 [00:18<00:00,  9.00it/s]\n"
     ]
    },
    {
     "name": "stdout",
     "output_type": "stream",
     "text": [
      "tn = 78737, fp = 6825, fn = 5299, tp = 80577\n",
      "y_pred: 0 = 84036 | 1 = 87402\n",
      "y_true: 0 = 85562 | 1 = 85876\n",
      "auc=0.9782|sensitivity=0.9383|specificity=0.9202|acc=0.9293|mcc=0.8587\n",
      "precision=0.9219|recall=0.9383|f1=0.9300|aupr=0.9779\n",
      "Idx21 - model_layer1_multihead5_fold1.pkl: # layer = 1 | # heads = 5 | Fold = 1\n"
     ]
    },
    {
     "name": "stderr",
     "output_type": "stream",
     "text": [
      "  1%|          | 1/168 [00:00<00:20,  8.02it/s]"
     ]
    },
    {
     "name": "stdout",
     "output_type": "stream",
     "text": [
      "INDEPENDENT Label info: Counter({1: 85876, 0: 85562})\n"
     ]
    },
    {
     "name": "stderr",
     "output_type": "stream",
     "text": [
      "100%|██████████| 168/168 [00:17<00:00,  9.82it/s]\n"
     ]
    },
    {
     "name": "stdout",
     "output_type": "stream",
     "text": [
      "tn = 78616, fp = 6946, fn = 5313, tp = 80563\n",
      "y_pred: 0 = 83929 | 1 = 87509\n",
      "y_true: 0 = 85562 | 1 = 85876\n",
      "auc=0.9782|sensitivity=0.9381|specificity=0.9188|acc=0.9285|mcc=0.8571\n",
      "precision=0.9206|recall=0.9381|f1=0.9293|aupr=0.9779\n",
      "Idx22 - model_layer1_multihead5_fold2.pkl: # layer = 1 | # heads = 5 | Fold = 2\n"
     ]
    },
    {
     "name": "stderr",
     "output_type": "stream",
     "text": [
      "  1%|          | 1/168 [00:00<00:22,  7.50it/s]"
     ]
    },
    {
     "name": "stdout",
     "output_type": "stream",
     "text": [
      "INDEPENDENT Label info: Counter({1: 85876, 0: 85562})\n"
     ]
    },
    {
     "name": "stderr",
     "output_type": "stream",
     "text": [
      "100%|██████████| 168/168 [00:17<00:00,  9.46it/s]\n"
     ]
    },
    {
     "name": "stdout",
     "output_type": "stream",
     "text": [
      "tn = 78725, fp = 6837, fn = 5284, tp = 80592\n",
      "y_pred: 0 = 84009 | 1 = 87429\n",
      "y_true: 0 = 85562 | 1 = 85876\n",
      "auc=0.9782|sensitivity=0.9385|specificity=0.9201|acc=0.9293|mcc=0.8587\n",
      "precision=0.9218|recall=0.9385|f1=0.9301|aupr=0.9778\n",
      "Idx23 - model_layer1_multihead5_fold3.pkl: # layer = 1 | # heads = 5 | Fold = 3\n"
     ]
    },
    {
     "name": "stderr",
     "output_type": "stream",
     "text": [
      "  1%|          | 1/168 [00:00<00:21,  7.76it/s]"
     ]
    },
    {
     "name": "stdout",
     "output_type": "stream",
     "text": [
      "INDEPENDENT Label info: Counter({1: 85876, 0: 85562})\n"
     ]
    },
    {
     "name": "stderr",
     "output_type": "stream",
     "text": [
      "100%|██████████| 168/168 [00:17<00:00,  9.84it/s]\n"
     ]
    },
    {
     "name": "stdout",
     "output_type": "stream",
     "text": [
      "tn = 79155, fp = 6407, fn = 5955, tp = 79921\n",
      "y_pred: 0 = 85110 | 1 = 86328\n",
      "y_true: 0 = 85562 | 1 = 85876\n",
      "auc=0.9769|sensitivity=0.9307|specificity=0.9251|acc=0.9279|mcc=0.8558\n",
      "precision=0.9258|recall=0.9307|f1=0.9282|aupr=0.9761\n",
      "Idx24 - model_layer1_multihead5_fold4.pkl: # layer = 1 | # heads = 5 | Fold = 4\n"
     ]
    },
    {
     "name": "stderr",
     "output_type": "stream",
     "text": [
      "  1%|          | 1/168 [00:00<00:19,  8.57it/s]"
     ]
    },
    {
     "name": "stdout",
     "output_type": "stream",
     "text": [
      "INDEPENDENT Label info: Counter({1: 85876, 0: 85562})\n"
     ]
    },
    {
     "name": "stderr",
     "output_type": "stream",
     "text": [
      "100%|██████████| 168/168 [00:17<00:00,  9.74it/s]\n"
     ]
    },
    {
     "name": "stdout",
     "output_type": "stream",
     "text": [
      "tn = 78365, fp = 7197, fn = 4899, tp = 80977\n",
      "y_pred: 0 = 83264 | 1 = 88174\n",
      "y_true: 0 = 85562 | 1 = 85876\n",
      "auc=0.9782|sensitivity=0.9430|specificity=0.9159|acc=0.9294|mcc=0.8592\n",
      "precision=0.9184|recall=0.9430|f1=0.9305|aupr=0.9777\n",
      "Idx25 - model_layer1_multihead6_fold0.pkl: # layer = 1 | # heads = 6 | Fold = 0\n"
     ]
    },
    {
     "name": "stderr",
     "output_type": "stream",
     "text": [
      "  1%|          | 1/168 [00:00<00:22,  7.46it/s]"
     ]
    },
    {
     "name": "stdout",
     "output_type": "stream",
     "text": [
      "INDEPENDENT Label info: Counter({1: 85876, 0: 85562})\n"
     ]
    },
    {
     "name": "stderr",
     "output_type": "stream",
     "text": [
      "100%|██████████| 168/168 [00:19<00:00,  8.76it/s]\n"
     ]
    },
    {
     "name": "stdout",
     "output_type": "stream",
     "text": [
      "tn = 78654, fp = 6908, fn = 5168, tp = 80708\n",
      "y_pred: 0 = 83822 | 1 = 87616\n",
      "y_true: 0 = 85562 | 1 = 85876\n",
      "auc=0.9785|sensitivity=0.9398|specificity=0.9193|acc=0.9296|mcc=0.8593\n",
      "precision=0.9212|recall=0.9398|f1=0.9304|aupr=0.9780\n",
      "Idx26 - model_layer1_multihead6_fold1.pkl: # layer = 1 | # heads = 6 | Fold = 1\n"
     ]
    },
    {
     "name": "stderr",
     "output_type": "stream",
     "text": [
      "  1%|          | 1/168 [00:00<00:23,  7.25it/s]"
     ]
    },
    {
     "name": "stdout",
     "output_type": "stream",
     "text": [
      "INDEPENDENT Label info: Counter({1: 85876, 0: 85562})\n"
     ]
    },
    {
     "name": "stderr",
     "output_type": "stream",
     "text": [
      "100%|██████████| 168/168 [00:19<00:00,  8.58it/s]\n"
     ]
    },
    {
     "name": "stdout",
     "output_type": "stream",
     "text": [
      "tn = 78186, fp = 7376, fn = 4651, tp = 81225\n",
      "y_pred: 0 = 82837 | 1 = 88601\n",
      "y_true: 0 = 85562 | 1 = 85876\n",
      "auc=0.9790|sensitivity=0.9458|specificity=0.9138|acc=0.9298|mcc=0.8601\n",
      "precision=0.9168|recall=0.9458|f1=0.9311|aupr=0.9788\n",
      "Idx27 - model_layer1_multihead6_fold2.pkl: # layer = 1 | # heads = 6 | Fold = 2\n"
     ]
    },
    {
     "name": "stderr",
     "output_type": "stream",
     "text": [
      "  1%|          | 1/168 [00:00<00:20,  7.99it/s]"
     ]
    },
    {
     "name": "stdout",
     "output_type": "stream",
     "text": [
      "INDEPENDENT Label info: Counter({1: 85876, 0: 85562})\n"
     ]
    },
    {
     "name": "stderr",
     "output_type": "stream",
     "text": [
      "100%|██████████| 168/168 [00:18<00:00,  8.88it/s]\n"
     ]
    },
    {
     "name": "stdout",
     "output_type": "stream",
     "text": [
      "tn = 78569, fp = 6993, fn = 4905, tp = 80971\n",
      "y_pred: 0 = 83474 | 1 = 87964\n",
      "y_true: 0 = 85562 | 1 = 85876\n",
      "auc=0.9789|sensitivity=0.9429|specificity=0.9183|acc=0.9306|mcc=0.8614\n",
      "precision=0.9205|recall=0.9429|f1=0.9316|aupr=0.9785\n",
      "Idx28 - model_layer1_multihead6_fold3.pkl: # layer = 1 | # heads = 6 | Fold = 3\n"
     ]
    },
    {
     "name": "stderr",
     "output_type": "stream",
     "text": [
      "  1%|          | 1/168 [00:00<00:21,  7.81it/s]"
     ]
    },
    {
     "name": "stdout",
     "output_type": "stream",
     "text": [
      "INDEPENDENT Label info: Counter({1: 85876, 0: 85562})\n"
     ]
    },
    {
     "name": "stderr",
     "output_type": "stream",
     "text": [
      "100%|██████████| 168/168 [00:20<00:00,  8.37it/s]\n"
     ]
    },
    {
     "name": "stdout",
     "output_type": "stream",
     "text": [
      "tn = 79412, fp = 6150, fn = 5799, tp = 80077\n",
      "y_pred: 0 = 85211 | 1 = 86227\n",
      "y_true: 0 = 85562 | 1 = 85876\n",
      "auc=0.9788|sensitivity=0.9325|specificity=0.9281|acc=0.9303|mcc=0.8606\n",
      "precision=0.9287|recall=0.9325|f1=0.9306|aupr=0.9785\n",
      "Idx29 - model_layer1_multihead6_fold4.pkl: # layer = 1 | # heads = 6 | Fold = 4\n"
     ]
    },
    {
     "name": "stderr",
     "output_type": "stream",
     "text": [
      "  1%|          | 1/168 [00:00<00:21,  7.72it/s]"
     ]
    },
    {
     "name": "stdout",
     "output_type": "stream",
     "text": [
      "INDEPENDENT Label info: Counter({1: 85876, 0: 85562})\n"
     ]
    },
    {
     "name": "stderr",
     "output_type": "stream",
     "text": [
      "100%|██████████| 168/168 [00:19<00:00,  8.79it/s]\n"
     ]
    },
    {
     "name": "stdout",
     "output_type": "stream",
     "text": [
      "tn = 78288, fp = 7274, fn = 4921, tp = 80955\n",
      "y_pred: 0 = 83209 | 1 = 88229\n",
      "y_true: 0 = 85562 | 1 = 85876\n",
      "auc=0.9782|sensitivity=0.9427|specificity=0.9150|acc=0.9289|mcc=0.8580\n",
      "precision=0.9176|recall=0.9427|f1=0.9300|aupr=0.9776\n",
      "Idx30 - model_layer1_multihead7_fold0.pkl: # layer = 1 | # heads = 7 | Fold = 0\n"
     ]
    },
    {
     "name": "stderr",
     "output_type": "stream",
     "text": [
      "  1%|          | 1/168 [00:00<00:24,  6.83it/s]"
     ]
    },
    {
     "name": "stdout",
     "output_type": "stream",
     "text": [
      "INDEPENDENT Label info: Counter({1: 85876, 0: 85562})\n"
     ]
    },
    {
     "name": "stderr",
     "output_type": "stream",
     "text": [
      "100%|██████████| 168/168 [00:21<00:00,  7.98it/s]\n"
     ]
    },
    {
     "name": "stdout",
     "output_type": "stream",
     "text": [
      "tn = 78543, fp = 7019, fn = 4910, tp = 80966\n",
      "y_pred: 0 = 83453 | 1 = 87985\n",
      "y_true: 0 = 85562 | 1 = 85876\n",
      "auc=0.9787|sensitivity=0.9428|specificity=0.9180|acc=0.9304|mcc=0.8611\n",
      "precision=0.9202|recall=0.9428|f1=0.9314|aupr=0.9784\n",
      "Idx31 - model_layer1_multihead7_fold1.pkl: # layer = 1 | # heads = 7 | Fold = 1\n"
     ]
    },
    {
     "name": "stderr",
     "output_type": "stream",
     "text": [
      "  1%|          | 1/168 [00:00<00:24,  6.76it/s]"
     ]
    },
    {
     "name": "stdout",
     "output_type": "stream",
     "text": [
      "INDEPENDENT Label info: Counter({1: 85876, 0: 85562})\n"
     ]
    },
    {
     "name": "stderr",
     "output_type": "stream",
     "text": [
      "100%|██████████| 168/168 [00:21<00:00,  7.83it/s]\n"
     ]
    },
    {
     "name": "stdout",
     "output_type": "stream",
     "text": [
      "tn = 79996, fp = 5566, fn = 6402, tp = 79474\n",
      "y_pred: 0 = 86398 | 1 = 85040\n",
      "y_true: 0 = 85562 | 1 = 85876\n",
      "auc=0.9789|sensitivity=0.9255|specificity=0.9349|acc=0.9302|mcc=0.8604\n",
      "precision=0.9345|recall=0.9255|f1=0.9300|aupr=0.9785\n",
      "Idx32 - model_layer1_multihead7_fold2.pkl: # layer = 1 | # heads = 7 | Fold = 2\n"
     ]
    },
    {
     "name": "stderr",
     "output_type": "stream",
     "text": [
      "  1%|          | 1/168 [00:00<00:23,  6.97it/s]"
     ]
    },
    {
     "name": "stdout",
     "output_type": "stream",
     "text": [
      "INDEPENDENT Label info: Counter({1: 85876, 0: 85562})\n"
     ]
    },
    {
     "name": "stderr",
     "output_type": "stream",
     "text": [
      "100%|██████████| 168/168 [00:24<00:00,  6.90it/s]\n"
     ]
    },
    {
     "name": "stdout",
     "output_type": "stream",
     "text": [
      "tn = 78640, fp = 6922, fn = 5341, tp = 80535\n",
      "y_pred: 0 = 83981 | 1 = 87457\n",
      "y_true: 0 = 85562 | 1 = 85876\n",
      "auc=0.9781|sensitivity=0.9378|specificity=0.9191|acc=0.9285|mcc=0.8571\n",
      "precision=0.9209|recall=0.9378|f1=0.9293|aupr=0.9775\n",
      "Idx33 - model_layer1_multihead7_fold3.pkl: # layer = 1 | # heads = 7 | Fold = 3\n"
     ]
    },
    {
     "name": "stderr",
     "output_type": "stream",
     "text": [
      "  1%|          | 1/168 [00:00<00:22,  7.57it/s]"
     ]
    },
    {
     "name": "stdout",
     "output_type": "stream",
     "text": [
      "INDEPENDENT Label info: Counter({1: 85876, 0: 85562})\n"
     ]
    },
    {
     "name": "stderr",
     "output_type": "stream",
     "text": [
      "100%|██████████| 168/168 [00:21<00:00,  7.99it/s]\n"
     ]
    },
    {
     "name": "stdout",
     "output_type": "stream",
     "text": [
      "tn = 78850, fp = 6712, fn = 5316, tp = 80560\n",
      "y_pred: 0 = 84166 | 1 = 87272\n",
      "y_true: 0 = 85562 | 1 = 85876\n",
      "auc=0.9786|sensitivity=0.9381|specificity=0.9216|acc=0.9298|mcc=0.8598\n",
      "precision=0.9231|recall=0.9381|f1=0.9305|aupr=0.9782\n",
      "Idx34 - model_layer1_multihead7_fold4.pkl: # layer = 1 | # heads = 7 | Fold = 4\n"
     ]
    },
    {
     "name": "stderr",
     "output_type": "stream",
     "text": [
      "  1%|          | 1/168 [00:00<00:23,  7.19it/s]"
     ]
    },
    {
     "name": "stdout",
     "output_type": "stream",
     "text": [
      "INDEPENDENT Label info: Counter({1: 85876, 0: 85562})\n"
     ]
    },
    {
     "name": "stderr",
     "output_type": "stream",
     "text": [
      "100%|██████████| 168/168 [00:21<00:00,  7.83it/s]\n"
     ]
    },
    {
     "name": "stdout",
     "output_type": "stream",
     "text": [
      "tn = 78678, fp = 6884, fn = 5063, tp = 80813\n",
      "y_pred: 0 = 83741 | 1 = 87697\n",
      "y_true: 0 = 85562 | 1 = 85876\n",
      "auc=0.9789|sensitivity=0.9410|specificity=0.9195|acc=0.9303|mcc=0.8608\n",
      "precision=0.9215|recall=0.9410|f1=0.9312|aupr=0.9784\n",
      "Idx35 - model_layer1_multihead8_fold0.pkl: # layer = 1 | # heads = 8 | Fold = 0\n"
     ]
    },
    {
     "name": "stderr",
     "output_type": "stream",
     "text": [
      "  1%|          | 1/168 [00:00<00:24,  6.78it/s]"
     ]
    },
    {
     "name": "stdout",
     "output_type": "stream",
     "text": [
      "INDEPENDENT Label info: Counter({1: 85876, 0: 85562})\n"
     ]
    },
    {
     "name": "stderr",
     "output_type": "stream",
     "text": [
      "100%|██████████| 168/168 [00:23<00:00,  7.27it/s]\n"
     ]
    },
    {
     "name": "stdout",
     "output_type": "stream",
     "text": [
      "tn = 78962, fp = 6600, fn = 5372, tp = 80504\n",
      "y_pred: 0 = 84334 | 1 = 87104\n",
      "y_true: 0 = 85562 | 1 = 85876\n",
      "auc=0.9785|sensitivity=0.9374|specificity=0.9229|acc=0.9302|mcc=0.8604\n",
      "precision=0.9242|recall=0.9374|f1=0.9308|aupr=0.9779\n",
      "Idx36 - model_layer1_multihead8_fold1.pkl: # layer = 1 | # heads = 8 | Fold = 1\n"
     ]
    },
    {
     "name": "stderr",
     "output_type": "stream",
     "text": [
      "  1%|          | 1/168 [00:00<00:24,  6.86it/s]"
     ]
    },
    {
     "name": "stdout",
     "output_type": "stream",
     "text": [
      "INDEPENDENT Label info: Counter({1: 85876, 0: 85562})\n"
     ]
    },
    {
     "name": "stderr",
     "output_type": "stream",
     "text": [
      "100%|██████████| 168/168 [00:23<00:00,  7.02it/s]\n"
     ]
    },
    {
     "name": "stdout",
     "output_type": "stream",
     "text": [
      "tn = 79200, fp = 6362, fn = 5798, tp = 80078\n",
      "y_pred: 0 = 84998 | 1 = 86440\n",
      "y_true: 0 = 85562 | 1 = 85876\n",
      "auc=0.9782|sensitivity=0.9325|specificity=0.9256|acc=0.9291|mcc=0.8582\n",
      "precision=0.9264|recall=0.9325|f1=0.9294|aupr=0.9777\n",
      "Idx37 - model_layer1_multihead8_fold2.pkl: # layer = 1 | # heads = 8 | Fold = 2\n"
     ]
    },
    {
     "name": "stderr",
     "output_type": "stream",
     "text": [
      "  1%|          | 1/168 [00:00<00:27,  6.16it/s]"
     ]
    },
    {
     "name": "stdout",
     "output_type": "stream",
     "text": [
      "INDEPENDENT Label info: Counter({1: 85876, 0: 85562})\n"
     ]
    },
    {
     "name": "stderr",
     "output_type": "stream",
     "text": [
      "100%|██████████| 168/168 [00:23<00:00,  7.05it/s]\n"
     ]
    },
    {
     "name": "stdout",
     "output_type": "stream",
     "text": [
      "tn = 79237, fp = 6325, fn = 5784, tp = 80092\n",
      "y_pred: 0 = 85021 | 1 = 86417\n",
      "y_true: 0 = 85562 | 1 = 85876\n",
      "auc=0.9783|sensitivity=0.9326|specificity=0.9261|acc=0.9294|mcc=0.8588\n",
      "precision=0.9268|recall=0.9326|f1=0.9297|aupr=0.9779\n",
      "Idx38 - model_layer1_multihead8_fold3.pkl: # layer = 1 | # heads = 8 | Fold = 3\n"
     ]
    },
    {
     "name": "stderr",
     "output_type": "stream",
     "text": [
      "  1%|          | 1/168 [00:00<00:25,  6.47it/s]"
     ]
    },
    {
     "name": "stdout",
     "output_type": "stream",
     "text": [
      "INDEPENDENT Label info: Counter({1: 85876, 0: 85562})\n"
     ]
    },
    {
     "name": "stderr",
     "output_type": "stream",
     "text": [
      "100%|██████████| 168/168 [00:23<00:00,  7.11it/s]\n"
     ]
    },
    {
     "name": "stdout",
     "output_type": "stream",
     "text": [
      "tn = 78305, fp = 7257, fn = 4858, tp = 81018\n",
      "y_pred: 0 = 83163 | 1 = 88275\n",
      "y_true: 0 = 85562 | 1 = 85876\n",
      "auc=0.9783|sensitivity=0.9434|specificity=0.9152|acc=0.9293|mcc=0.8590\n",
      "precision=0.9178|recall=0.9434|f1=0.9304|aupr=0.9778\n",
      "Idx39 - model_layer1_multihead8_fold4.pkl: # layer = 1 | # heads = 8 | Fold = 4\n"
     ]
    },
    {
     "name": "stderr",
     "output_type": "stream",
     "text": [
      "  1%|          | 1/168 [00:00<00:26,  6.25it/s]"
     ]
    },
    {
     "name": "stdout",
     "output_type": "stream",
     "text": [
      "INDEPENDENT Label info: Counter({1: 85876, 0: 85562})\n"
     ]
    },
    {
     "name": "stderr",
     "output_type": "stream",
     "text": [
      "100%|██████████| 168/168 [00:22<00:00,  7.36it/s]\n"
     ]
    },
    {
     "name": "stdout",
     "output_type": "stream",
     "text": [
      "tn = 79129, fp = 6433, fn = 5828, tp = 80048\n",
      "y_pred: 0 = 84957 | 1 = 86481\n",
      "y_true: 0 = 85562 | 1 = 85876\n",
      "auc=0.9779|sensitivity=0.9321|specificity=0.9248|acc=0.9285|mcc=0.8570\n",
      "precision=0.9256|recall=0.9321|f1=0.9289|aupr=0.9774\n",
      "Idx40 - model_layer1_multihead9_fold0.pkl: # layer = 1 | # heads = 9 | Fold = 0\n"
     ]
    },
    {
     "name": "stderr",
     "output_type": "stream",
     "text": [
      "  1%|          | 1/168 [00:00<00:26,  6.25it/s]"
     ]
    },
    {
     "name": "stdout",
     "output_type": "stream",
     "text": [
      "INDEPENDENT Label info: Counter({1: 85876, 0: 85562})\n"
     ]
    },
    {
     "name": "stderr",
     "output_type": "stream",
     "text": [
      "100%|██████████| 168/168 [00:25<00:00,  6.66it/s]\n"
     ]
    },
    {
     "name": "stdout",
     "output_type": "stream",
     "text": [
      "tn = 78584, fp = 6978, fn = 5039, tp = 80837\n",
      "y_pred: 0 = 83623 | 1 = 87815\n",
      "y_true: 0 = 85562 | 1 = 85876\n",
      "auc=0.9785|sensitivity=0.9413|specificity=0.9184|acc=0.9299|mcc=0.8600\n",
      "precision=0.9205|recall=0.9413|f1=0.9308|aupr=0.9780\n",
      "Idx41 - model_layer1_multihead9_fold1.pkl: # layer = 1 | # heads = 9 | Fold = 1\n"
     ]
    },
    {
     "name": "stderr",
     "output_type": "stream",
     "text": [
      "  1%|          | 1/168 [00:00<00:27,  6.01it/s]"
     ]
    },
    {
     "name": "stdout",
     "output_type": "stream",
     "text": [
      "INDEPENDENT Label info: Counter({1: 85876, 0: 85562})\n"
     ]
    },
    {
     "name": "stderr",
     "output_type": "stream",
     "text": [
      "100%|██████████| 168/168 [00:26<00:00,  6.39it/s]\n"
     ]
    },
    {
     "name": "stdout",
     "output_type": "stream",
     "text": [
      "tn = 78849, fp = 6713, fn = 5357, tp = 80519\n",
      "y_pred: 0 = 84206 | 1 = 87232\n",
      "y_true: 0 = 85562 | 1 = 85876\n",
      "auc=0.9784|sensitivity=0.9376|specificity=0.9215|acc=0.9296|mcc=0.8593\n",
      "precision=0.9230|recall=0.9376|f1=0.9303|aupr=0.9782\n",
      "Idx42 - model_layer1_multihead9_fold2.pkl: # layer = 1 | # heads = 9 | Fold = 2\n"
     ]
    },
    {
     "name": "stderr",
     "output_type": "stream",
     "text": [
      "  1%|          | 1/168 [00:00<00:26,  6.29it/s]"
     ]
    },
    {
     "name": "stdout",
     "output_type": "stream",
     "text": [
      "INDEPENDENT Label info: Counter({1: 85876, 0: 85562})\n"
     ]
    },
    {
     "name": "stderr",
     "output_type": "stream",
     "text": [
      "100%|██████████| 168/168 [00:25<00:00,  6.66it/s]\n"
     ]
    },
    {
     "name": "stdout",
     "output_type": "stream",
     "text": [
      "tn = 78014, fp = 7548, fn = 4633, tp = 81243\n",
      "y_pred: 0 = 82647 | 1 = 88791\n",
      "y_true: 0 = 85562 | 1 = 85876\n",
      "auc=0.9787|sensitivity=0.9461|specificity=0.9118|acc=0.9289|mcc=0.8584\n",
      "precision=0.9150|recall=0.9461|f1=0.9303|aupr=0.9782\n",
      "Idx43 - model_layer1_multihead9_fold3.pkl: # layer = 1 | # heads = 9 | Fold = 3\n"
     ]
    },
    {
     "name": "stderr",
     "output_type": "stream",
     "text": [
      "  1%|          | 1/168 [00:00<00:26,  6.29it/s]"
     ]
    },
    {
     "name": "stdout",
     "output_type": "stream",
     "text": [
      "INDEPENDENT Label info: Counter({1: 85876, 0: 85562})\n"
     ]
    },
    {
     "name": "stderr",
     "output_type": "stream",
     "text": [
      "100%|██████████| 168/168 [00:25<00:00,  6.48it/s]\n"
     ]
    },
    {
     "name": "stdout",
     "output_type": "stream",
     "text": [
      "tn = 78537, fp = 7025, fn = 5212, tp = 80664\n",
      "y_pred: 0 = 83749 | 1 = 87689\n",
      "y_true: 0 = 85562 | 1 = 85876\n",
      "auc=0.9779|sensitivity=0.9393|specificity=0.9179|acc=0.9286|mcc=0.8574\n",
      "precision=0.9199|recall=0.9393|f1=0.9295|aupr=0.9774\n",
      "Idx44 - model_layer1_multihead9_fold4.pkl: # layer = 1 | # heads = 9 | Fold = 4\n"
     ]
    },
    {
     "name": "stderr",
     "output_type": "stream",
     "text": [
      "  1%|          | 1/168 [00:00<00:27,  6.07it/s]"
     ]
    },
    {
     "name": "stdout",
     "output_type": "stream",
     "text": [
      "INDEPENDENT Label info: Counter({1: 85876, 0: 85562})\n"
     ]
    },
    {
     "name": "stderr",
     "output_type": "stream",
     "text": [
      "100%|██████████| 168/168 [00:24<00:00,  6.72it/s]\n"
     ]
    },
    {
     "name": "stdout",
     "output_type": "stream",
     "text": [
      "tn = 79688, fp = 5874, fn = 5982, tp = 79894\n",
      "y_pred: 0 = 85670 | 1 = 85768\n",
      "y_true: 0 = 85562 | 1 = 85876\n",
      "auc=0.9789|sensitivity=0.9303|specificity=0.9313|acc=0.9308|mcc=0.8617\n",
      "precision=0.9315|recall=0.9303|f1=0.9309|aupr=0.9782\n",
      "Idx45 - model_layer1_multihead10_fold0.pkl: # layer = 1 | # heads = 10 | Fold = 0\n"
     ]
    },
    {
     "name": "stderr",
     "output_type": "stream",
     "text": [
      "  1%|          | 1/168 [00:00<00:27,  5.98it/s]"
     ]
    },
    {
     "name": "stdout",
     "output_type": "stream",
     "text": [
      "INDEPENDENT Label info: Counter({1: 85876, 0: 85562})\n"
     ]
    },
    {
     "name": "stderr",
     "output_type": "stream",
     "text": [
      "100%|██████████| 168/168 [00:26<00:00,  6.44it/s]\n"
     ]
    },
    {
     "name": "stdout",
     "output_type": "stream",
     "text": [
      "tn = 79066, fp = 6496, fn = 5510, tp = 80366\n",
      "y_pred: 0 = 84576 | 1 = 86862\n",
      "y_true: 0 = 85562 | 1 = 85876\n",
      "auc=0.9787|sensitivity=0.9358|specificity=0.9241|acc=0.9300|mcc=0.8600\n",
      "precision=0.9252|recall=0.9358|f1=0.9305|aupr=0.9783\n",
      "Idx46 - model_layer1_multihead10_fold1.pkl: # layer = 1 | # heads = 10 | Fold = 1\n"
     ]
    },
    {
     "name": "stderr",
     "output_type": "stream",
     "text": [
      "  1%|          | 1/168 [00:00<00:28,  5.86it/s]"
     ]
    },
    {
     "name": "stdout",
     "output_type": "stream",
     "text": [
      "INDEPENDENT Label info: Counter({1: 85876, 0: 85562})\n"
     ]
    },
    {
     "name": "stderr",
     "output_type": "stream",
     "text": [
      "100%|██████████| 168/168 [00:26<00:00,  6.26it/s]\n"
     ]
    },
    {
     "name": "stdout",
     "output_type": "stream",
     "text": [
      "tn = 77892, fp = 7670, fn = 4422, tp = 81454\n",
      "y_pred: 0 = 82314 | 1 = 89124\n",
      "y_true: 0 = 85562 | 1 = 85876\n",
      "auc=0.9790|sensitivity=0.9485|specificity=0.9104|acc=0.9295|mcc=0.8595\n",
      "precision=0.9139|recall=0.9485|f1=0.9309|aupr=0.9787\n",
      "Idx47 - model_layer1_multihead10_fold2.pkl: # layer = 1 | # heads = 10 | Fold = 2\n"
     ]
    },
    {
     "name": "stderr",
     "output_type": "stream",
     "text": [
      "  1%|          | 1/168 [00:00<00:28,  5.76it/s]"
     ]
    },
    {
     "name": "stdout",
     "output_type": "stream",
     "text": [
      "INDEPENDENT Label info: Counter({1: 85876, 0: 85562})\n"
     ]
    },
    {
     "name": "stderr",
     "output_type": "stream",
     "text": [
      "100%|██████████| 168/168 [00:27<00:00,  6.22it/s]\n"
     ]
    },
    {
     "name": "stdout",
     "output_type": "stream",
     "text": [
      "tn = 78758, fp = 6804, fn = 5306, tp = 80570\n",
      "y_pred: 0 = 84064 | 1 = 87374\n",
      "y_true: 0 = 85562 | 1 = 85876\n",
      "auc=0.9785|sensitivity=0.9382|specificity=0.9205|acc=0.9294|mcc=0.8589\n",
      "precision=0.9221|recall=0.9382|f1=0.9301|aupr=0.9781\n",
      "Idx48 - model_layer1_multihead10_fold3.pkl: # layer = 1 | # heads = 10 | Fold = 3\n"
     ]
    },
    {
     "name": "stderr",
     "output_type": "stream",
     "text": [
      "  1%|          | 1/168 [00:00<00:30,  5.53it/s]"
     ]
    },
    {
     "name": "stdout",
     "output_type": "stream",
     "text": [
      "INDEPENDENT Label info: Counter({1: 85876, 0: 85562})\n"
     ]
    },
    {
     "name": "stderr",
     "output_type": "stream",
     "text": [
      "100%|██████████| 168/168 [00:28<00:00,  5.92it/s]\n"
     ]
    },
    {
     "name": "stdout",
     "output_type": "stream",
     "text": [
      "tn = 79212, fp = 6350, fn = 5869, tp = 80007\n",
      "y_pred: 0 = 85081 | 1 = 86357\n",
      "y_true: 0 = 85562 | 1 = 85876\n",
      "auc=0.9776|sensitivity=0.9317|specificity=0.9258|acc=0.9287|mcc=0.8575\n",
      "precision=0.9265|recall=0.9317|f1=0.9291|aupr=0.9770\n",
      "Idx49 - model_layer1_multihead10_fold4.pkl: # layer = 1 | # heads = 10 | Fold = 4\n"
     ]
    },
    {
     "name": "stderr",
     "output_type": "stream",
     "text": [
      "  1%|          | 1/168 [00:00<00:28,  5.88it/s]"
     ]
    },
    {
     "name": "stdout",
     "output_type": "stream",
     "text": [
      "INDEPENDENT Label info: Counter({1: 85876, 0: 85562})\n"
     ]
    },
    {
     "name": "stderr",
     "output_type": "stream",
     "text": [
      "100%|██████████| 168/168 [00:26<00:00,  6.34it/s]\n"
     ]
    },
    {
     "name": "stdout",
     "output_type": "stream",
     "text": [
      "tn = 78849, fp = 6713, fn = 5177, tp = 80699\n",
      "y_pred: 0 = 84026 | 1 = 87412\n",
      "y_true: 0 = 85562 | 1 = 85876\n",
      "auc=0.9787|sensitivity=0.9397|specificity=0.9215|acc=0.9306|mcc=0.8614\n",
      "precision=0.9232|recall=0.9397|f1=0.9314|aupr=0.9783\n",
      "Idx50 - model_layer2_multihead1_fold0.pkl: # layer = 2 | # heads = 1 | Fold = 0\n"
     ]
    },
    {
     "name": "stderr",
     "output_type": "stream",
     "text": [
      "  1%|          | 1/168 [00:00<00:17,  9.41it/s]"
     ]
    },
    {
     "name": "stdout",
     "output_type": "stream",
     "text": [
      "INDEPENDENT Label info: Counter({1: 85876, 0: 85562})\n"
     ]
    },
    {
     "name": "stderr",
     "output_type": "stream",
     "text": [
      "100%|██████████| 168/168 [00:14<00:00, 11.25it/s]\n"
     ]
    },
    {
     "name": "stdout",
     "output_type": "stream",
     "text": [
      "tn = 79910, fp = 5652, fn = 6188, tp = 79688\n",
      "y_pred: 0 = 86098 | 1 = 85340\n",
      "y_true: 0 = 85562 | 1 = 85876\n",
      "auc=0.9787|sensitivity=0.9279|specificity=0.9339|acc=0.9309|mcc=0.8619\n",
      "precision=0.9338|recall=0.9279|f1=0.9308|aupr=0.9786\n",
      "Idx51 - model_layer2_multihead1_fold1.pkl: # layer = 2 | # heads = 1 | Fold = 1\n"
     ]
    },
    {
     "name": "stderr",
     "output_type": "stream",
     "text": [
      "  1%|          | 1/168 [00:00<00:18,  9.02it/s]"
     ]
    },
    {
     "name": "stdout",
     "output_type": "stream",
     "text": [
      "INDEPENDENT Label info: Counter({1: 85876, 0: 85562})\n"
     ]
    },
    {
     "name": "stderr",
     "output_type": "stream",
     "text": [
      "100%|██████████| 168/168 [00:15<00:00, 11.14it/s]\n"
     ]
    },
    {
     "name": "stdout",
     "output_type": "stream",
     "text": [
      "tn = 79037, fp = 6525, fn = 5397, tp = 80479\n",
      "y_pred: 0 = 84434 | 1 = 87004\n",
      "y_true: 0 = 85562 | 1 = 85876\n",
      "auc=0.9784|sensitivity=0.9372|specificity=0.9237|acc=0.9305|mcc=0.8610\n",
      "precision=0.9250|recall=0.9372|f1=0.9310|aupr=0.9782\n",
      "Idx52 - model_layer2_multihead1_fold2.pkl: # layer = 2 | # heads = 1 | Fold = 2\n"
     ]
    },
    {
     "name": "stderr",
     "output_type": "stream",
     "text": [
      "  1%|          | 1/168 [00:00<00:18,  9.23it/s]"
     ]
    },
    {
     "name": "stdout",
     "output_type": "stream",
     "text": [
      "INDEPENDENT Label info: Counter({1: 85876, 0: 85562})\n"
     ]
    },
    {
     "name": "stderr",
     "output_type": "stream",
     "text": [
      "100%|██████████| 168/168 [00:14<00:00, 11.23it/s]\n"
     ]
    },
    {
     "name": "stdout",
     "output_type": "stream",
     "text": [
      "tn = 80051, fp = 5511, fn = 6478, tp = 79398\n",
      "y_pred: 0 = 86529 | 1 = 84909\n",
      "y_true: 0 = 85562 | 1 = 85876\n",
      "auc=0.9787|sensitivity=0.9246|specificity=0.9356|acc=0.9301|mcc=0.8602\n",
      "precision=0.9351|recall=0.9246|f1=0.9298|aupr=0.9784\n",
      "Idx53 - model_layer2_multihead1_fold3.pkl: # layer = 2 | # heads = 1 | Fold = 3\n"
     ]
    },
    {
     "name": "stderr",
     "output_type": "stream",
     "text": [
      "  1%|          | 1/168 [00:00<00:19,  8.68it/s]"
     ]
    },
    {
     "name": "stdout",
     "output_type": "stream",
     "text": [
      "INDEPENDENT Label info: Counter({1: 85876, 0: 85562})\n"
     ]
    },
    {
     "name": "stderr",
     "output_type": "stream",
     "text": [
      "100%|██████████| 168/168 [00:15<00:00, 10.79it/s]\n"
     ]
    },
    {
     "name": "stdout",
     "output_type": "stream",
     "text": [
      "tn = 79190, fp = 6372, fn = 5505, tp = 80371\n",
      "y_pred: 0 = 84695 | 1 = 86743\n",
      "y_true: 0 = 85562 | 1 = 85876\n",
      "auc=0.9790|sensitivity=0.9359|specificity=0.9255|acc=0.9307|mcc=0.8615\n",
      "precision=0.9265|recall=0.9359|f1=0.9312|aupr=0.9785\n",
      "Idx54 - model_layer2_multihead1_fold4.pkl: # layer = 2 | # heads = 1 | Fold = 4\n"
     ]
    },
    {
     "name": "stderr",
     "output_type": "stream",
     "text": [
      "  1%|          | 1/168 [00:00<00:16,  9.91it/s]"
     ]
    },
    {
     "name": "stdout",
     "output_type": "stream",
     "text": [
      "INDEPENDENT Label info: Counter({1: 85876, 0: 85562})\n"
     ]
    },
    {
     "name": "stderr",
     "output_type": "stream",
     "text": [
      "100%|██████████| 168/168 [00:14<00:00, 11.27it/s]\n"
     ]
    },
    {
     "name": "stdout",
     "output_type": "stream",
     "text": [
      "tn = 78395, fp = 7167, fn = 5208, tp = 80668\n",
      "y_pred: 0 = 83603 | 1 = 87835\n",
      "y_true: 0 = 85562 | 1 = 85876\n",
      "auc=0.9775|sensitivity=0.9394|specificity=0.9162|acc=0.9278|mcc=0.8558\n",
      "precision=0.9184|recall=0.9394|f1=0.9288|aupr=0.9770\n",
      "Idx55 - model_layer2_multihead2_fold0.pkl: # layer = 2 | # heads = 2 | Fold = 0\n"
     ]
    },
    {
     "name": "stderr",
     "output_type": "stream",
     "text": [
      "  1%|          | 1/168 [00:00<00:21,  7.87it/s]"
     ]
    },
    {
     "name": "stdout",
     "output_type": "stream",
     "text": [
      "INDEPENDENT Label info: Counter({1: 85876, 0: 85562})\n"
     ]
    },
    {
     "name": "stderr",
     "output_type": "stream",
     "text": [
      "100%|██████████| 168/168 [00:18<00:00,  8.97it/s]\n"
     ]
    },
    {
     "name": "stdout",
     "output_type": "stream",
     "text": [
      "tn = 79576, fp = 5986, fn = 5795, tp = 80081\n",
      "y_pred: 0 = 85371 | 1 = 86067\n",
      "y_true: 0 = 85562 | 1 = 85876\n",
      "auc=0.9789|sensitivity=0.9325|specificity=0.9300|acc=0.9313|mcc=0.8626\n",
      "precision=0.9304|recall=0.9325|f1=0.9315|aupr=0.9782\n",
      "Idx56 - model_layer2_multihead2_fold1.pkl: # layer = 2 | # heads = 2 | Fold = 1\n"
     ]
    },
    {
     "name": "stderr",
     "output_type": "stream",
     "text": [
      "  1%|          | 1/168 [00:00<00:31,  5.36it/s]"
     ]
    },
    {
     "name": "stdout",
     "output_type": "stream",
     "text": [
      "INDEPENDENT Label info: Counter({1: 85876, 0: 85562})\n"
     ]
    },
    {
     "name": "stderr",
     "output_type": "stream",
     "text": [
      "100%|██████████| 168/168 [00:19<00:00,  8.81it/s]\n"
     ]
    },
    {
     "name": "stdout",
     "output_type": "stream",
     "text": [
      "tn = 79847, fp = 5715, fn = 6129, tp = 79747\n",
      "y_pred: 0 = 85976 | 1 = 85462\n",
      "y_true: 0 = 85562 | 1 = 85876\n",
      "auc=0.9793|sensitivity=0.9286|specificity=0.9332|acc=0.9309|mcc=0.8618\n",
      "precision=0.9331|recall=0.9286|f1=0.9309|aupr=0.9791\n",
      "Idx57 - model_layer2_multihead2_fold2.pkl: # layer = 2 | # heads = 2 | Fold = 2\n"
     ]
    },
    {
     "name": "stderr",
     "output_type": "stream",
     "text": [
      "  1%|          | 1/168 [00:00<00:20,  7.99it/s]"
     ]
    },
    {
     "name": "stdout",
     "output_type": "stream",
     "text": [
      "INDEPENDENT Label info: Counter({1: 85876, 0: 85562})\n"
     ]
    },
    {
     "name": "stderr",
     "output_type": "stream",
     "text": [
      "100%|██████████| 168/168 [00:18<00:00,  9.16it/s]\n"
     ]
    },
    {
     "name": "stdout",
     "output_type": "stream",
     "text": [
      "tn = 79317, fp = 6245, fn = 5864, tp = 80012\n",
      "y_pred: 0 = 85181 | 1 = 86257\n",
      "y_true: 0 = 85562 | 1 = 85876\n",
      "auc=0.9783|sensitivity=0.9317|specificity=0.9270|acc=0.9294|mcc=0.8587\n",
      "precision=0.9276|recall=0.9317|f1=0.9297|aupr=0.9779\n",
      "Idx58 - model_layer2_multihead2_fold3.pkl: # layer = 2 | # heads = 2 | Fold = 3\n"
     ]
    },
    {
     "name": "stderr",
     "output_type": "stream",
     "text": [
      "  1%|          | 1/168 [00:00<00:21,  7.85it/s]"
     ]
    },
    {
     "name": "stdout",
     "output_type": "stream",
     "text": [
      "INDEPENDENT Label info: Counter({1: 85876, 0: 85562})\n"
     ]
    },
    {
     "name": "stderr",
     "output_type": "stream",
     "text": [
      "100%|██████████| 168/168 [00:18<00:00,  9.09it/s]\n"
     ]
    },
    {
     "name": "stdout",
     "output_type": "stream",
     "text": [
      "tn = 78359, fp = 7203, fn = 5008, tp = 80868\n",
      "y_pred: 0 = 83367 | 1 = 88071\n",
      "y_true: 0 = 85562 | 1 = 85876\n",
      "auc=0.9782|sensitivity=0.9417|specificity=0.9158|acc=0.9288|mcc=0.8578\n",
      "precision=0.9182|recall=0.9417|f1=0.9298|aupr=0.9778\n",
      "Idx59 - model_layer2_multihead2_fold4.pkl: # layer = 2 | # heads = 2 | Fold = 4\n"
     ]
    },
    {
     "name": "stderr",
     "output_type": "stream",
     "text": [
      "  1%|          | 1/168 [00:00<00:24,  6.73it/s]"
     ]
    },
    {
     "name": "stdout",
     "output_type": "stream",
     "text": [
      "INDEPENDENT Label info: Counter({1: 85876, 0: 85562})\n"
     ]
    },
    {
     "name": "stderr",
     "output_type": "stream",
     "text": [
      "100%|██████████| 168/168 [00:18<00:00,  8.86it/s]\n"
     ]
    },
    {
     "name": "stdout",
     "output_type": "stream",
     "text": [
      "tn = 79106, fp = 6456, fn = 5724, tp = 80152\n",
      "y_pred: 0 = 84830 | 1 = 86608\n",
      "y_true: 0 = 85562 | 1 = 85876\n",
      "auc=0.9783|sensitivity=0.9333|specificity=0.9245|acc=0.9290|mcc=0.8579\n",
      "precision=0.9255|recall=0.9333|f1=0.9294|aupr=0.9779\n",
      "Idx60 - model_layer2_multihead3_fold0.pkl: # layer = 2 | # heads = 3 | Fold = 0\n"
     ]
    },
    {
     "name": "stderr",
     "output_type": "stream",
     "text": [
      "  1%|          | 1/168 [00:00<00:28,  5.80it/s]"
     ]
    },
    {
     "name": "stdout",
     "output_type": "stream",
     "text": [
      "INDEPENDENT Label info: Counter({1: 85876, 0: 85562})\n"
     ]
    },
    {
     "name": "stderr",
     "output_type": "stream",
     "text": [
      "100%|██████████| 168/168 [00:22<00:00,  7.58it/s]\n"
     ]
    },
    {
     "name": "stdout",
     "output_type": "stream",
     "text": [
      "tn = 79125, fp = 6437, fn = 5319, tp = 80557\n",
      "y_pred: 0 = 84444 | 1 = 86994\n",
      "y_true: 0 = 85562 | 1 = 85876\n",
      "auc=0.9785|sensitivity=0.9381|specificity=0.9248|acc=0.9314|mcc=0.8629\n",
      "precision=0.9260|recall=0.9381|f1=0.9320|aupr=0.9780\n",
      "Idx61 - model_layer2_multihead3_fold1.pkl: # layer = 2 | # heads = 3 | Fold = 1\n"
     ]
    },
    {
     "name": "stderr",
     "output_type": "stream",
     "text": [
      "  1%|          | 1/168 [00:00<00:28,  5.89it/s]"
     ]
    },
    {
     "name": "stdout",
     "output_type": "stream",
     "text": [
      "INDEPENDENT Label info: Counter({1: 85876, 0: 85562})\n"
     ]
    },
    {
     "name": "stderr",
     "output_type": "stream",
     "text": [
      "100%|██████████| 168/168 [00:21<00:00,  7.67it/s]\n"
     ]
    },
    {
     "name": "stdout",
     "output_type": "stream",
     "text": [
      "tn = 79706, fp = 5856, fn = 6133, tp = 79743\n",
      "y_pred: 0 = 85839 | 1 = 85599\n",
      "y_true: 0 = 85562 | 1 = 85876\n",
      "auc=0.9787|sensitivity=0.9286|specificity=0.9316|acc=0.9301|mcc=0.8601\n",
      "precision=0.9316|recall=0.9286|f1=0.9301|aupr=0.9783\n",
      "Idx62 - model_layer2_multihead3_fold2.pkl: # layer = 2 | # heads = 3 | Fold = 2\n"
     ]
    },
    {
     "name": "stderr",
     "output_type": "stream",
     "text": [
      "  1%|          | 1/168 [00:00<00:26,  6.19it/s]"
     ]
    },
    {
     "name": "stdout",
     "output_type": "stream",
     "text": [
      "INDEPENDENT Label info: Counter({1: 85876, 0: 85562})\n"
     ]
    },
    {
     "name": "stderr",
     "output_type": "stream",
     "text": [
      "100%|██████████| 168/168 [00:21<00:00,  7.69it/s]\n"
     ]
    },
    {
     "name": "stdout",
     "output_type": "stream",
     "text": [
      "tn = 79382, fp = 6180, fn = 5586, tp = 80290\n",
      "y_pred: 0 = 84968 | 1 = 86470\n",
      "y_true: 0 = 85562 | 1 = 85876\n",
      "auc=0.9790|sensitivity=0.9350|specificity=0.9278|acc=0.9314|mcc=0.8628\n",
      "precision=0.9285|recall=0.9350|f1=0.9317|aupr=0.9784\n",
      "Idx63 - model_layer2_multihead3_fold3.pkl: # layer = 2 | # heads = 3 | Fold = 3\n"
     ]
    },
    {
     "name": "stderr",
     "output_type": "stream",
     "text": [
      "  1%|          | 1/168 [00:00<00:27,  6.09it/s]"
     ]
    },
    {
     "name": "stdout",
     "output_type": "stream",
     "text": [
      "INDEPENDENT Label info: Counter({1: 85876, 0: 85562})\n"
     ]
    },
    {
     "name": "stderr",
     "output_type": "stream",
     "text": [
      "100%|██████████| 168/168 [00:22<00:00,  7.48it/s]\n"
     ]
    },
    {
     "name": "stdout",
     "output_type": "stream",
     "text": [
      "tn = 78418, fp = 7144, fn = 4940, tp = 80936\n",
      "y_pred: 0 = 83358 | 1 = 88080\n",
      "y_true: 0 = 85562 | 1 = 85876\n",
      "auc=0.9783|sensitivity=0.9425|specificity=0.9165|acc=0.9295|mcc=0.8593\n",
      "precision=0.9189|recall=0.9425|f1=0.9305|aupr=0.9778\n",
      "Idx64 - model_layer2_multihead3_fold4.pkl: # layer = 2 | # heads = 3 | Fold = 4\n"
     ]
    },
    {
     "name": "stderr",
     "output_type": "stream",
     "text": [
      "  1%|          | 1/168 [00:00<00:26,  6.23it/s]"
     ]
    },
    {
     "name": "stdout",
     "output_type": "stream",
     "text": [
      "INDEPENDENT Label info: Counter({1: 85876, 0: 85562})\n"
     ]
    },
    {
     "name": "stderr",
     "output_type": "stream",
     "text": [
      "100%|██████████| 168/168 [00:21<00:00,  7.78it/s]\n"
     ]
    },
    {
     "name": "stdout",
     "output_type": "stream",
     "text": [
      "tn = 78503, fp = 7059, fn = 4873, tp = 81003\n",
      "y_pred: 0 = 83376 | 1 = 88062\n",
      "y_true: 0 = 85562 | 1 = 85876\n",
      "auc=0.9790|sensitivity=0.9433|specificity=0.9175|acc=0.9304|mcc=0.8611\n",
      "precision=0.9198|recall=0.9433|f1=0.9314|aupr=0.9786\n",
      "Idx65 - model_layer2_multihead4_fold0.pkl: # layer = 2 | # heads = 4 | Fold = 0\n"
     ]
    },
    {
     "name": "stderr",
     "output_type": "stream",
     "text": [
      "  1%|          | 1/168 [00:00<00:30,  5.50it/s]"
     ]
    },
    {
     "name": "stdout",
     "output_type": "stream",
     "text": [
      "INDEPENDENT Label info: Counter({1: 85876, 0: 85562})\n"
     ]
    },
    {
     "name": "stderr",
     "output_type": "stream",
     "text": [
      "100%|██████████| 168/168 [00:27<00:00,  6.05it/s]\n"
     ]
    },
    {
     "name": "stdout",
     "output_type": "stream",
     "text": [
      "tn = 79703, fp = 5859, fn = 5808, tp = 80068\n",
      "y_pred: 0 = 85511 | 1 = 85927\n",
      "y_true: 0 = 85562 | 1 = 85876\n",
      "auc=0.9795|sensitivity=0.9324|specificity=0.9315|acc=0.9319|mcc=0.8639\n",
      "precision=0.9318|recall=0.9324|f1=0.9321|aupr=0.9790\n",
      "Idx66 - model_layer2_multihead4_fold1.pkl: # layer = 2 | # heads = 4 | Fold = 1\n"
     ]
    },
    {
     "name": "stderr",
     "output_type": "stream",
     "text": [
      "  1%|          | 1/168 [00:00<00:31,  5.38it/s]"
     ]
    },
    {
     "name": "stdout",
     "output_type": "stream",
     "text": [
      "INDEPENDENT Label info: Counter({1: 85876, 0: 85562})\n"
     ]
    },
    {
     "name": "stderr",
     "output_type": "stream",
     "text": [
      "100%|██████████| 168/168 [00:27<00:00,  6.01it/s]\n"
     ]
    },
    {
     "name": "stdout",
     "output_type": "stream",
     "text": [
      "tn = 79765, fp = 5797, fn = 6112, tp = 79764\n",
      "y_pred: 0 = 85877 | 1 = 85561\n",
      "y_true: 0 = 85562 | 1 = 85876\n",
      "auc=0.9785|sensitivity=0.9288|specificity=0.9322|acc=0.9305|mcc=0.8611\n",
      "precision=0.9322|recall=0.9288|f1=0.9305|aupr=0.9780\n",
      "Idx67 - model_layer2_multihead4_fold2.pkl: # layer = 2 | # heads = 4 | Fold = 2\n"
     ]
    },
    {
     "name": "stderr",
     "output_type": "stream",
     "text": [
      "\r",
      "  0%|          | 0/168 [00:00<?, ?it/s]"
     ]
    },
    {
     "name": "stdout",
     "output_type": "stream",
     "text": [
      "INDEPENDENT Label info: Counter({1: 85876, 0: 85562})\n"
     ]
    },
    {
     "name": "stderr",
     "output_type": "stream",
     "text": [
      "100%|██████████| 168/168 [00:27<00:00,  6.16it/s]\n"
     ]
    },
    {
     "name": "stdout",
     "output_type": "stream",
     "text": [
      "tn = 78883, fp = 6679, fn = 5296, tp = 80580\n",
      "y_pred: 0 = 84179 | 1 = 87259\n",
      "y_true: 0 = 85562 | 1 = 85876\n",
      "auc=0.9787|sensitivity=0.9383|specificity=0.9219|acc=0.9301|mcc=0.8604\n",
      "precision=0.9235|recall=0.9383|f1=0.9308|aupr=0.9778\n",
      "Idx68 - model_layer2_multihead4_fold3.pkl: # layer = 2 | # heads = 4 | Fold = 3\n"
     ]
    },
    {
     "name": "stderr",
     "output_type": "stream",
     "text": [
      "  1%|          | 1/168 [00:00<00:32,  5.15it/s]"
     ]
    },
    {
     "name": "stdout",
     "output_type": "stream",
     "text": [
      "INDEPENDENT Label info: Counter({1: 85876, 0: 85562})\n"
     ]
    },
    {
     "name": "stderr",
     "output_type": "stream",
     "text": [
      "100%|██████████| 168/168 [00:27<00:00,  6.07it/s]\n"
     ]
    },
    {
     "name": "stdout",
     "output_type": "stream",
     "text": [
      "tn = 77810, fp = 7752, fn = 4659, tp = 81217\n",
      "y_pred: 0 = 82469 | 1 = 88969\n",
      "y_true: 0 = 85562 | 1 = 85876\n",
      "auc=0.9781|sensitivity=0.9457|specificity=0.9094|acc=0.9276|mcc=0.8558\n",
      "precision=0.9129|recall=0.9457|f1=0.9290|aupr=0.9773\n",
      "Idx69 - model_layer2_multihead4_fold4.pkl: # layer = 2 | # heads = 4 | Fold = 4\n"
     ]
    },
    {
     "name": "stderr",
     "output_type": "stream",
     "text": [
      "  1%|          | 1/168 [00:00<00:30,  5.49it/s]"
     ]
    },
    {
     "name": "stdout",
     "output_type": "stream",
     "text": [
      "INDEPENDENT Label info: Counter({1: 85876, 0: 85562})\n"
     ]
    },
    {
     "name": "stderr",
     "output_type": "stream",
     "text": [
      "100%|██████████| 168/168 [00:28<00:00,  5.98it/s]\n"
     ]
    },
    {
     "name": "stdout",
     "output_type": "stream",
     "text": [
      "tn = 79199, fp = 6363, fn = 5545, tp = 80331\n",
      "y_pred: 0 = 84744 | 1 = 86694\n",
      "y_true: 0 = 85562 | 1 = 85876\n",
      "auc=0.9788|sensitivity=0.9354|specificity=0.9256|acc=0.9305|mcc=0.8611\n",
      "precision=0.9266|recall=0.9354|f1=0.9310|aupr=0.9781\n",
      "Idx70 - model_layer2_multihead5_fold0.pkl: # layer = 2 | # heads = 5 | Fold = 0\n"
     ]
    },
    {
     "name": "stderr",
     "output_type": "stream",
     "text": [
      "\r",
      "  0%|          | 0/168 [00:00<?, ?it/s]"
     ]
    },
    {
     "name": "stdout",
     "output_type": "stream",
     "text": [
      "INDEPENDENT Label info: Counter({1: 85876, 0: 85562})\n"
     ]
    },
    {
     "name": "stderr",
     "output_type": "stream",
     "text": [
      "100%|██████████| 168/168 [00:30<00:00,  5.56it/s]\n"
     ]
    },
    {
     "name": "stdout",
     "output_type": "stream",
     "text": [
      "tn = 78227, fp = 7335, fn = 4736, tp = 81140\n",
      "y_pred: 0 = 82963 | 1 = 88475\n",
      "y_true: 0 = 85562 | 1 = 85876\n",
      "auc=0.9786|sensitivity=0.9449|specificity=0.9143|acc=0.9296|mcc=0.8596\n",
      "precision=0.9171|recall=0.9449|f1=0.9308|aupr=0.9777\n",
      "Idx71 - model_layer2_multihead5_fold1.pkl: # layer = 2 | # heads = 5 | Fold = 1\n"
     ]
    },
    {
     "name": "stderr",
     "output_type": "stream",
     "text": [
      "\r",
      "  0%|          | 0/168 [00:00<?, ?it/s]"
     ]
    },
    {
     "name": "stdout",
     "output_type": "stream",
     "text": [
      "INDEPENDENT Label info: Counter({1: 85876, 0: 85562})\n"
     ]
    },
    {
     "name": "stderr",
     "output_type": "stream",
     "text": [
      "100%|██████████| 168/168 [00:29<00:00,  5.62it/s]\n"
     ]
    },
    {
     "name": "stdout",
     "output_type": "stream",
     "text": [
      "tn = 79080, fp = 6482, fn = 5440, tp = 80436\n",
      "y_pred: 0 = 84520 | 1 = 86918\n",
      "y_true: 0 = 85562 | 1 = 85876\n",
      "auc=0.9788|sensitivity=0.9367|specificity=0.9242|acc=0.9305|mcc=0.8610\n",
      "precision=0.9254|recall=0.9367|f1=0.9310|aupr=0.9783\n",
      "Idx72 - model_layer2_multihead5_fold2.pkl: # layer = 2 | # heads = 5 | Fold = 2\n"
     ]
    },
    {
     "name": "stderr",
     "output_type": "stream",
     "text": [
      "\r",
      "  0%|          | 0/168 [00:00<?, ?it/s]"
     ]
    },
    {
     "name": "stdout",
     "output_type": "stream",
     "text": [
      "INDEPENDENT Label info: Counter({1: 85876, 0: 85562})\n"
     ]
    },
    {
     "name": "stderr",
     "output_type": "stream",
     "text": [
      "100%|██████████| 168/168 [00:30<00:00,  5.50it/s]\n"
     ]
    },
    {
     "name": "stdout",
     "output_type": "stream",
     "text": [
      "tn = 79299, fp = 6263, fn = 5695, tp = 80181\n",
      "y_pred: 0 = 84994 | 1 = 86444\n",
      "y_true: 0 = 85562 | 1 = 85876\n",
      "auc=0.9788|sensitivity=0.9337|specificity=0.9268|acc=0.9302|mcc=0.8605\n",
      "precision=0.9275|recall=0.9337|f1=0.9306|aupr=0.9784\n",
      "Idx73 - model_layer2_multihead5_fold3.pkl: # layer = 2 | # heads = 5 | Fold = 3\n"
     ]
    },
    {
     "name": "stderr",
     "output_type": "stream",
     "text": [
      "\r",
      "  0%|          | 0/168 [00:00<?, ?it/s]"
     ]
    },
    {
     "name": "stdout",
     "output_type": "stream",
     "text": [
      "INDEPENDENT Label info: Counter({1: 85876, 0: 85562})\n"
     ]
    },
    {
     "name": "stderr",
     "output_type": "stream",
     "text": [
      "100%|██████████| 168/168 [00:29<00:00,  5.66it/s]\n"
     ]
    },
    {
     "name": "stdout",
     "output_type": "stream",
     "text": [
      "tn = 78982, fp = 6580, fn = 5635, tp = 80241\n",
      "y_pred: 0 = 84617 | 1 = 86821\n",
      "y_true: 0 = 85562 | 1 = 85876\n",
      "auc=0.9778|sensitivity=0.9344|specificity=0.9231|acc=0.9287|mcc=0.8575\n",
      "precision=0.9242|recall=0.9344|f1=0.9293|aupr=0.9774\n",
      "Idx74 - model_layer2_multihead5_fold4.pkl: # layer = 2 | # heads = 5 | Fold = 4\n"
     ]
    },
    {
     "name": "stderr",
     "output_type": "stream",
     "text": [
      "\r",
      "  0%|          | 0/168 [00:00<?, ?it/s]"
     ]
    },
    {
     "name": "stdout",
     "output_type": "stream",
     "text": [
      "INDEPENDENT Label info: Counter({1: 85876, 0: 85562})\n"
     ]
    },
    {
     "name": "stderr",
     "output_type": "stream",
     "text": [
      "100%|██████████| 168/168 [00:30<00:00,  5.42it/s]\n"
     ]
    },
    {
     "name": "stdout",
     "output_type": "stream",
     "text": [
      "tn = 79558, fp = 6004, fn = 5964, tp = 79912\n",
      "y_pred: 0 = 85522 | 1 = 85916\n",
      "y_true: 0 = 85562 | 1 = 85876\n",
      "auc=0.9789|sensitivity=0.9306|specificity=0.9298|acc=0.9302|mcc=0.8604\n",
      "precision=0.9301|recall=0.9306|f1=0.9303|aupr=0.9783\n",
      "Idx75 - model_layer2_multihead6_fold0.pkl: # layer = 2 | # heads = 6 | Fold = 0\n"
     ]
    },
    {
     "name": "stderr",
     "output_type": "stream",
     "text": [
      "\r",
      "  0%|          | 0/168 [00:00<?, ?it/s]"
     ]
    },
    {
     "name": "stdout",
     "output_type": "stream",
     "text": [
      "INDEPENDENT Label info: Counter({1: 85876, 0: 85562})\n"
     ]
    },
    {
     "name": "stderr",
     "output_type": "stream",
     "text": [
      "100%|██████████| 168/168 [00:32<00:00,  5.12it/s]\n"
     ]
    },
    {
     "name": "stdout",
     "output_type": "stream",
     "text": [
      "tn = 79894, fp = 5668, fn = 6298, tp = 79578\n",
      "y_pred: 0 = 86192 | 1 = 85246\n",
      "y_true: 0 = 85562 | 1 = 85876\n",
      "auc=0.9791|sensitivity=0.9267|specificity=0.9338|acc=0.9302|mcc=0.8604\n",
      "precision=0.9335|recall=0.9267|f1=0.9301|aupr=0.9784\n",
      "Idx76 - model_layer2_multihead6_fold1.pkl: # layer = 2 | # heads = 6 | Fold = 1\n"
     ]
    },
    {
     "name": "stderr",
     "output_type": "stream",
     "text": [
      "\r",
      "  0%|          | 0/168 [00:00<?, ?it/s]"
     ]
    },
    {
     "name": "stdout",
     "output_type": "stream",
     "text": [
      "INDEPENDENT Label info: Counter({1: 85876, 0: 85562})\n"
     ]
    },
    {
     "name": "stderr",
     "output_type": "stream",
     "text": [
      "100%|██████████| 168/168 [00:32<00:00,  5.10it/s]\n"
     ]
    },
    {
     "name": "stdout",
     "output_type": "stream",
     "text": [
      "tn = 79440, fp = 6122, fn = 5471, tp = 80405\n",
      "y_pred: 0 = 84911 | 1 = 86527\n",
      "y_true: 0 = 85562 | 1 = 85876\n",
      "auc=0.9797|sensitivity=0.9363|specificity=0.9284|acc=0.9324|mcc=0.8648\n",
      "precision=0.9292|recall=0.9363|f1=0.9328|aupr=0.9793\n",
      "Idx77 - model_layer2_multihead6_fold2.pkl: # layer = 2 | # heads = 6 | Fold = 2\n"
     ]
    },
    {
     "name": "stderr",
     "output_type": "stream",
     "text": [
      "\r",
      "  0%|          | 0/168 [00:00<?, ?it/s]"
     ]
    },
    {
     "name": "stdout",
     "output_type": "stream",
     "text": [
      "INDEPENDENT Label info: Counter({1: 85876, 0: 85562})\n"
     ]
    },
    {
     "name": "stderr",
     "output_type": "stream",
     "text": [
      "100%|██████████| 168/168 [00:32<00:00,  5.12it/s]\n"
     ]
    },
    {
     "name": "stdout",
     "output_type": "stream",
     "text": [
      "tn = 78919, fp = 6643, fn = 5256, tp = 80620\n",
      "y_pred: 0 = 84175 | 1 = 87263\n",
      "y_true: 0 = 85562 | 1 = 85876\n",
      "auc=0.9795|sensitivity=0.9388|specificity=0.9224|acc=0.9306|mcc=0.8613\n",
      "precision=0.9239|recall=0.9388|f1=0.9313|aupr=0.9789\n",
      "Idx78 - model_layer2_multihead6_fold3.pkl: # layer = 2 | # heads = 6 | Fold = 3\n"
     ]
    },
    {
     "name": "stderr",
     "output_type": "stream",
     "text": [
      "\r",
      "  0%|          | 0/168 [00:00<?, ?it/s]"
     ]
    },
    {
     "name": "stdout",
     "output_type": "stream",
     "text": [
      "INDEPENDENT Label info: Counter({1: 85876, 0: 85562})\n"
     ]
    },
    {
     "name": "stderr",
     "output_type": "stream",
     "text": [
      "100%|██████████| 168/168 [00:33<00:00,  4.98it/s]\n"
     ]
    },
    {
     "name": "stdout",
     "output_type": "stream",
     "text": [
      "tn = 79105, fp = 6457, fn = 5473, tp = 80403\n",
      "y_pred: 0 = 84578 | 1 = 86860\n",
      "y_true: 0 = 85562 | 1 = 85876\n",
      "auc=0.9784|sensitivity=0.9363|specificity=0.9245|acc=0.9304|mcc=0.8609\n",
      "precision=0.9257|recall=0.9363|f1=0.9309|aupr=0.9776\n",
      "Idx79 - model_layer2_multihead6_fold4.pkl: # layer = 2 | # heads = 6 | Fold = 4\n"
     ]
    },
    {
     "name": "stderr",
     "output_type": "stream",
     "text": [
      "\r",
      "  0%|          | 0/168 [00:00<?, ?it/s]"
     ]
    },
    {
     "name": "stdout",
     "output_type": "stream",
     "text": [
      "INDEPENDENT Label info: Counter({1: 85876, 0: 85562})\n"
     ]
    },
    {
     "name": "stderr",
     "output_type": "stream",
     "text": [
      "100%|██████████| 168/168 [00:32<00:00,  5.12it/s]\n"
     ]
    },
    {
     "name": "stdout",
     "output_type": "stream",
     "text": [
      "tn = 79408, fp = 6154, fn = 5740, tp = 80136\n",
      "y_pred: 0 = 85148 | 1 = 86290\n",
      "y_true: 0 = 85562 | 1 = 85876\n",
      "auc=0.9794|sensitivity=0.9332|specificity=0.9281|acc=0.9306|mcc=0.8613\n",
      "precision=0.9287|recall=0.9332|f1=0.9309|aupr=0.9789\n",
      "Idx80 - model_layer2_multihead7_fold0.pkl: # layer = 2 | # heads = 7 | Fold = 0\n"
     ]
    },
    {
     "name": "stderr",
     "output_type": "stream",
     "text": [
      "\r",
      "  0%|          | 0/168 [00:00<?, ?it/s]"
     ]
    },
    {
     "name": "stdout",
     "output_type": "stream",
     "text": [
      "INDEPENDENT Label info: Counter({1: 85876, 0: 85562})\n"
     ]
    },
    {
     "name": "stderr",
     "output_type": "stream",
     "text": [
      "100%|██████████| 168/168 [00:37<00:00,  4.50it/s]\n"
     ]
    },
    {
     "name": "stdout",
     "output_type": "stream",
     "text": [
      "tn = 78966, fp = 6596, fn = 5158, tp = 80718\n",
      "y_pred: 0 = 84124 | 1 = 87314\n",
      "y_true: 0 = 85562 | 1 = 85876\n",
      "auc=0.9790|sensitivity=0.9399|specificity=0.9229|acc=0.9314|mcc=0.8630\n",
      "precision=0.9245|recall=0.9399|f1=0.9321|aupr=0.9784\n",
      "Idx81 - model_layer2_multihead7_fold1.pkl: # layer = 2 | # heads = 7 | Fold = 1\n"
     ]
    },
    {
     "name": "stderr",
     "output_type": "stream",
     "text": [
      "\r",
      "  0%|          | 0/168 [00:00<?, ?it/s]"
     ]
    },
    {
     "name": "stdout",
     "output_type": "stream",
     "text": [
      "INDEPENDENT Label info: Counter({1: 85876, 0: 85562})\n"
     ]
    },
    {
     "name": "stderr",
     "output_type": "stream",
     "text": [
      "100%|██████████| 168/168 [00:37<00:00,  4.50it/s]\n"
     ]
    },
    {
     "name": "stdout",
     "output_type": "stream",
     "text": [
      "tn = 79778, fp = 5784, fn = 6038, tp = 79838\n",
      "y_pred: 0 = 85816 | 1 = 85622\n",
      "y_true: 0 = 85562 | 1 = 85876\n",
      "auc=0.9790|sensitivity=0.9297|specificity=0.9324|acc=0.9310|mcc=0.8621\n",
      "precision=0.9324|recall=0.9297|f1=0.9311|aupr=0.9780\n",
      "Idx82 - model_layer2_multihead7_fold2.pkl: # layer = 2 | # heads = 7 | Fold = 2\n"
     ]
    },
    {
     "name": "stderr",
     "output_type": "stream",
     "text": [
      "\r",
      "  0%|          | 0/168 [00:00<?, ?it/s]"
     ]
    },
    {
     "name": "stdout",
     "output_type": "stream",
     "text": [
      "INDEPENDENT Label info: Counter({1: 85876, 0: 85562})\n"
     ]
    },
    {
     "name": "stderr",
     "output_type": "stream",
     "text": [
      "100%|██████████| 168/168 [00:37<00:00,  4.53it/s]\n"
     ]
    },
    {
     "name": "stdout",
     "output_type": "stream",
     "text": [
      "tn = 78430, fp = 7132, fn = 4908, tp = 80968\n",
      "y_pred: 0 = 83338 | 1 = 88100\n",
      "y_true: 0 = 85562 | 1 = 85876\n",
      "auc=0.9789|sensitivity=0.9428|specificity=0.9166|acc=0.9298|mcc=0.8598\n",
      "precision=0.9190|recall=0.9428|f1=0.9308|aupr=0.9782\n",
      "Idx83 - model_layer2_multihead7_fold3.pkl: # layer = 2 | # heads = 7 | Fold = 3\n"
     ]
    },
    {
     "name": "stderr",
     "output_type": "stream",
     "text": [
      "\r",
      "  0%|          | 0/168 [00:00<?, ?it/s]"
     ]
    },
    {
     "name": "stdout",
     "output_type": "stream",
     "text": [
      "INDEPENDENT Label info: Counter({1: 85876, 0: 85562})\n"
     ]
    },
    {
     "name": "stderr",
     "output_type": "stream",
     "text": [
      "100%|██████████| 168/168 [00:37<00:00,  4.51it/s]\n"
     ]
    },
    {
     "name": "stdout",
     "output_type": "stream",
     "text": [
      "tn = 78311, fp = 7251, fn = 4850, tp = 81026\n",
      "y_pred: 0 = 83161 | 1 = 88277\n",
      "y_true: 0 = 85562 | 1 = 85876\n",
      "auc=0.9786|sensitivity=0.9435|specificity=0.9153|acc=0.9294|mcc=0.8592\n",
      "precision=0.9179|recall=0.9435|f1=0.9305|aupr=0.9781\n",
      "Idx84 - model_layer2_multihead7_fold4.pkl: # layer = 2 | # heads = 7 | Fold = 4\n"
     ]
    },
    {
     "name": "stderr",
     "output_type": "stream",
     "text": [
      "\r",
      "  0%|          | 0/168 [00:00<?, ?it/s]"
     ]
    },
    {
     "name": "stdout",
     "output_type": "stream",
     "text": [
      "INDEPENDENT Label info: Counter({1: 85876, 0: 85562})\n"
     ]
    },
    {
     "name": "stderr",
     "output_type": "stream",
     "text": [
      "100%|██████████| 168/168 [00:36<00:00,  4.57it/s]\n"
     ]
    },
    {
     "name": "stdout",
     "output_type": "stream",
     "text": [
      "tn = 79727, fp = 5835, fn = 5974, tp = 79902\n",
      "y_pred: 0 = 85701 | 1 = 85737\n",
      "y_true: 0 = 85562 | 1 = 85876\n",
      "auc=0.9794|sensitivity=0.9304|specificity=0.9318|acc=0.9311|mcc=0.8622\n",
      "precision=0.9319|recall=0.9304|f1=0.9312|aupr=0.9789\n",
      "Idx85 - model_layer2_multihead8_fold0.pkl: # layer = 2 | # heads = 8 | Fold = 0\n"
     ]
    },
    {
     "name": "stderr",
     "output_type": "stream",
     "text": [
      "\r",
      "  0%|          | 0/168 [00:00<?, ?it/s]"
     ]
    },
    {
     "name": "stdout",
     "output_type": "stream",
     "text": [
      "INDEPENDENT Label info: Counter({1: 85876, 0: 85562})\n"
     ]
    },
    {
     "name": "stderr",
     "output_type": "stream",
     "text": [
      "100%|██████████| 168/168 [00:43<00:00,  3.82it/s]\n"
     ]
    },
    {
     "name": "stdout",
     "output_type": "stream",
     "text": [
      "tn = 79066, fp = 6496, fn = 5183, tp = 80693\n",
      "y_pred: 0 = 84249 | 1 = 87189\n",
      "y_true: 0 = 85562 | 1 = 85876\n",
      "auc=0.9799|sensitivity=0.9396|specificity=0.9241|acc=0.9319|mcc=0.8638\n",
      "precision=0.9255|recall=0.9396|f1=0.9325|aupr=0.9794\n",
      "Idx86 - model_layer2_multihead8_fold1.pkl: # layer = 2 | # heads = 8 | Fold = 1\n"
     ]
    },
    {
     "name": "stderr",
     "output_type": "stream",
     "text": [
      "\r",
      "  0%|          | 0/168 [00:00<?, ?it/s]"
     ]
    },
    {
     "name": "stdout",
     "output_type": "stream",
     "text": [
      "INDEPENDENT Label info: Counter({1: 85876, 0: 85562})\n"
     ]
    },
    {
     "name": "stderr",
     "output_type": "stream",
     "text": [
      "100%|██████████| 168/168 [00:43<00:00,  3.85it/s]\n"
     ]
    },
    {
     "name": "stdout",
     "output_type": "stream",
     "text": [
      "tn = 80005, fp = 5557, fn = 6151, tp = 79725\n",
      "y_pred: 0 = 86156 | 1 = 85282\n",
      "y_true: 0 = 85562 | 1 = 85876\n",
      "auc=0.9792|sensitivity=0.9284|specificity=0.9351|acc=0.9317|mcc=0.8634\n",
      "precision=0.9348|recall=0.9284|f1=0.9316|aupr=0.9788\n",
      "Idx87 - model_layer2_multihead8_fold2.pkl: # layer = 2 | # heads = 8 | Fold = 2\n"
     ]
    },
    {
     "name": "stderr",
     "output_type": "stream",
     "text": [
      "\r",
      "  0%|          | 0/168 [00:00<?, ?it/s]"
     ]
    },
    {
     "name": "stdout",
     "output_type": "stream",
     "text": [
      "INDEPENDENT Label info: Counter({1: 85876, 0: 85562})\n"
     ]
    },
    {
     "name": "stderr",
     "output_type": "stream",
     "text": [
      "100%|██████████| 168/168 [00:43<00:00,  3.88it/s]\n"
     ]
    },
    {
     "name": "stdout",
     "output_type": "stream",
     "text": [
      "tn = 79564, fp = 5998, fn = 5689, tp = 80187\n",
      "y_pred: 0 = 85253 | 1 = 86185\n",
      "y_true: 0 = 85562 | 1 = 85876\n",
      "auc=0.9796|sensitivity=0.9338|specificity=0.9299|acc=0.9318|mcc=0.8637\n",
      "precision=0.9304|recall=0.9338|f1=0.9321|aupr=0.9787\n",
      "Idx88 - model_layer2_multihead8_fold3.pkl: # layer = 2 | # heads = 8 | Fold = 3\n"
     ]
    },
    {
     "name": "stderr",
     "output_type": "stream",
     "text": [
      "\r",
      "  0%|          | 0/168 [00:00<?, ?it/s]"
     ]
    },
    {
     "name": "stdout",
     "output_type": "stream",
     "text": [
      "INDEPENDENT Label info: Counter({1: 85876, 0: 85562})\n"
     ]
    },
    {
     "name": "stderr",
     "output_type": "stream",
     "text": [
      "100%|██████████| 168/168 [00:42<00:00,  3.96it/s]\n"
     ]
    },
    {
     "name": "stdout",
     "output_type": "stream",
     "text": [
      "tn = 78507, fp = 7055, fn = 4995, tp = 80881\n",
      "y_pred: 0 = 83502 | 1 = 87936\n",
      "y_true: 0 = 85562 | 1 = 85876\n",
      "auc=0.9785|sensitivity=0.9418|specificity=0.9175|acc=0.9297|mcc=0.8597\n",
      "precision=0.9198|recall=0.9418|f1=0.9307|aupr=0.9776\n",
      "Idx89 - model_layer2_multihead8_fold4.pkl: # layer = 2 | # heads = 8 | Fold = 4\n"
     ]
    },
    {
     "name": "stderr",
     "output_type": "stream",
     "text": [
      "\r",
      "  0%|          | 0/168 [00:00<?, ?it/s]"
     ]
    },
    {
     "name": "stdout",
     "output_type": "stream",
     "text": [
      "INDEPENDENT Label info: Counter({1: 85876, 0: 85562})\n"
     ]
    },
    {
     "name": "stderr",
     "output_type": "stream",
     "text": [
      "100%|██████████| 168/168 [00:41<00:00,  4.07it/s]\n"
     ]
    },
    {
     "name": "stdout",
     "output_type": "stream",
     "text": [
      "tn = 79219, fp = 6343, fn = 5334, tp = 80542\n",
      "y_pred: 0 = 84553 | 1 = 86885\n",
      "y_true: 0 = 85562 | 1 = 85876\n",
      "auc=0.9792|sensitivity=0.9379|specificity=0.9259|acc=0.9319|mcc=0.8638\n",
      "precision=0.9270|recall=0.9379|f1=0.9324|aupr=0.9785\n",
      "Idx90 - model_layer2_multihead9_fold0.pkl: # layer = 2 | # heads = 9 | Fold = 0\n"
     ]
    },
    {
     "name": "stderr",
     "output_type": "stream",
     "text": [
      "\r",
      "  0%|          | 0/168 [00:00<?, ?it/s]"
     ]
    },
    {
     "name": "stdout",
     "output_type": "stream",
     "text": [
      "INDEPENDENT Label info: Counter({1: 85876, 0: 85562})\n"
     ]
    },
    {
     "name": "stderr",
     "output_type": "stream",
     "text": [
      "100%|██████████| 168/168 [00:46<00:00,  3.61it/s]\n"
     ]
    },
    {
     "name": "stdout",
     "output_type": "stream",
     "text": [
      "tn = 79370, fp = 6192, fn = 5569, tp = 80307\n",
      "y_pred: 0 = 84939 | 1 = 86499\n",
      "y_true: 0 = 85562 | 1 = 85876\n",
      "auc=0.9793|sensitivity=0.9352|specificity=0.9276|acc=0.9314|mcc=0.8628\n",
      "precision=0.9284|recall=0.9352|f1=0.9318|aupr=0.9787\n",
      "Idx91 - model_layer2_multihead9_fold1.pkl: # layer = 2 | # heads = 9 | Fold = 1\n"
     ]
    },
    {
     "name": "stderr",
     "output_type": "stream",
     "text": [
      "\r",
      "  0%|          | 0/168 [00:00<?, ?it/s]"
     ]
    },
    {
     "name": "stdout",
     "output_type": "stream",
     "text": [
      "INDEPENDENT Label info: Counter({1: 85876, 0: 85562})\n"
     ]
    },
    {
     "name": "stderr",
     "output_type": "stream",
     "text": [
      "100%|██████████| 168/168 [00:45<00:00,  3.67it/s]\n"
     ]
    },
    {
     "name": "stdout",
     "output_type": "stream",
     "text": [
      "tn = 79644, fp = 5918, fn = 5850, tp = 80026\n",
      "y_pred: 0 = 85494 | 1 = 85944\n",
      "y_true: 0 = 85562 | 1 = 85876\n",
      "auc=0.9795|sensitivity=0.9319|specificity=0.9308|acc=0.9314|mcc=0.8627\n",
      "precision=0.9311|recall=0.9319|f1=0.9315|aupr=0.9790\n",
      "Idx92 - model_layer2_multihead9_fold2.pkl: # layer = 2 | # heads = 9 | Fold = 2\n"
     ]
    },
    {
     "name": "stderr",
     "output_type": "stream",
     "text": [
      "\r",
      "  0%|          | 0/168 [00:00<?, ?it/s]"
     ]
    },
    {
     "name": "stdout",
     "output_type": "stream",
     "text": [
      "INDEPENDENT Label info: Counter({1: 85876, 0: 85562})\n"
     ]
    },
    {
     "name": "stderr",
     "output_type": "stream",
     "text": [
      "100%|██████████| 168/168 [00:44<00:00,  3.76it/s]\n"
     ]
    },
    {
     "name": "stdout",
     "output_type": "stream",
     "text": [
      "tn = 78491, fp = 7071, fn = 4906, tp = 80970\n",
      "y_pred: 0 = 83397 | 1 = 88041\n",
      "y_true: 0 = 85562 | 1 = 85876\n",
      "auc=0.9789|sensitivity=0.9429|specificity=0.9174|acc=0.9301|mcc=0.8605\n",
      "precision=0.9197|recall=0.9429|f1=0.9311|aupr=0.9782\n",
      "Idx93 - model_layer2_multihead9_fold3.pkl: # layer = 2 | # heads = 9 | Fold = 3\n"
     ]
    },
    {
     "name": "stderr",
     "output_type": "stream",
     "text": [
      "\r",
      "  0%|          | 0/168 [00:00<?, ?it/s]"
     ]
    },
    {
     "name": "stdout",
     "output_type": "stream",
     "text": [
      "INDEPENDENT Label info: Counter({1: 85876, 0: 85562})\n"
     ]
    },
    {
     "name": "stderr",
     "output_type": "stream",
     "text": [
      "100%|██████████| 168/168 [00:45<00:00,  3.70it/s]\n"
     ]
    },
    {
     "name": "stdout",
     "output_type": "stream",
     "text": [
      "tn = 79184, fp = 6378, fn = 5446, tp = 80430\n",
      "y_pred: 0 = 84630 | 1 = 86808\n",
      "y_true: 0 = 85562 | 1 = 85876\n",
      "auc=0.9791|sensitivity=0.9366|specificity=0.9255|acc=0.9310|mcc=0.8621\n",
      "precision=0.9265|recall=0.9366|f1=0.9315|aupr=0.9785\n",
      "Idx94 - model_layer2_multihead9_fold4.pkl: # layer = 2 | # heads = 9 | Fold = 4\n"
     ]
    },
    {
     "name": "stderr",
     "output_type": "stream",
     "text": [
      "\r",
      "  0%|          | 0/168 [00:00<?, ?it/s]"
     ]
    },
    {
     "name": "stdout",
     "output_type": "stream",
     "text": [
      "INDEPENDENT Label info: Counter({1: 85876, 0: 85562})\n"
     ]
    },
    {
     "name": "stderr",
     "output_type": "stream",
     "text": [
      "100%|██████████| 168/168 [00:46<00:00,  3.62it/s]\n"
     ]
    },
    {
     "name": "stdout",
     "output_type": "stream",
     "text": [
      "tn = 79083, fp = 6479, fn = 5351, tp = 80525\n",
      "y_pred: 0 = 84434 | 1 = 87004\n",
      "y_true: 0 = 85562 | 1 = 85876\n",
      "auc=0.9790|sensitivity=0.9377|specificity=0.9243|acc=0.9310|mcc=0.8621\n",
      "precision=0.9255|recall=0.9377|f1=0.9316|aupr=0.9783\n",
      "Idx95 - model_layer2_multihead10_fold0.pkl: # layer = 2 | # heads = 10 | Fold = 0\n"
     ]
    },
    {
     "name": "stderr",
     "output_type": "stream",
     "text": [
      "\r",
      "  0%|          | 0/168 [00:00<?, ?it/s]"
     ]
    },
    {
     "name": "stdout",
     "output_type": "stream",
     "text": [
      "INDEPENDENT Label info: Counter({1: 85876, 0: 85562})\n"
     ]
    },
    {
     "name": "stderr",
     "output_type": "stream",
     "text": [
      "100%|██████████| 168/168 [00:49<00:00,  3.42it/s]\n"
     ]
    },
    {
     "name": "stdout",
     "output_type": "stream",
     "text": [
      "tn = 79324, fp = 6238, fn = 5404, tp = 80472\n",
      "y_pred: 0 = 84728 | 1 = 86710\n",
      "y_true: 0 = 85562 | 1 = 85876\n",
      "auc=0.9792|sensitivity=0.9371|specificity=0.9271|acc=0.9321|mcc=0.8642\n",
      "precision=0.9281|recall=0.9371|f1=0.9325|aupr=0.9787\n",
      "Idx96 - model_layer2_multihead10_fold1.pkl: # layer = 2 | # heads = 10 | Fold = 1\n"
     ]
    },
    {
     "name": "stderr",
     "output_type": "stream",
     "text": [
      "\r",
      "  0%|          | 0/168 [00:00<?, ?it/s]"
     ]
    },
    {
     "name": "stdout",
     "output_type": "stream",
     "text": [
      "INDEPENDENT Label info: Counter({1: 85876, 0: 85562})\n"
     ]
    },
    {
     "name": "stderr",
     "output_type": "stream",
     "text": [
      "100%|██████████| 168/168 [00:45<00:00,  3.71it/s]\n"
     ]
    },
    {
     "name": "stdout",
     "output_type": "stream",
     "text": [
      "tn = 79110, fp = 6452, fn = 5392, tp = 80484\n",
      "y_pred: 0 = 84502 | 1 = 86936\n",
      "y_true: 0 = 85562 | 1 = 85876\n",
      "auc=0.9793|sensitivity=0.9372|specificity=0.9246|acc=0.9309|mcc=0.8619\n",
      "precision=0.9258|recall=0.9372|f1=0.9315|aupr=0.9787\n",
      "Idx97 - model_layer2_multihead10_fold2.pkl: # layer = 2 | # heads = 10 | Fold = 2\n"
     ]
    },
    {
     "name": "stderr",
     "output_type": "stream",
     "text": [
      "\r",
      "  0%|          | 0/168 [00:00<?, ?it/s]"
     ]
    },
    {
     "name": "stdout",
     "output_type": "stream",
     "text": [
      "INDEPENDENT Label info: Counter({1: 85876, 0: 85562})\n"
     ]
    },
    {
     "name": "stderr",
     "output_type": "stream",
     "text": [
      "100%|██████████| 168/168 [00:43<00:00,  3.84it/s]\n"
     ]
    },
    {
     "name": "stdout",
     "output_type": "stream",
     "text": [
      "tn = 78761, fp = 6801, fn = 5130, tp = 80746\n",
      "y_pred: 0 = 83891 | 1 = 87547\n",
      "y_true: 0 = 85562 | 1 = 85876\n",
      "auc=0.9790|sensitivity=0.9403|specificity=0.9205|acc=0.9304|mcc=0.8610\n",
      "precision=0.9223|recall=0.9403|f1=0.9312|aupr=0.9786\n",
      "Idx98 - model_layer2_multihead10_fold3.pkl: # layer = 2 | # heads = 10 | Fold = 3\n"
     ]
    },
    {
     "name": "stderr",
     "output_type": "stream",
     "text": [
      "\r",
      "  0%|          | 0/168 [00:00<?, ?it/s]"
     ]
    },
    {
     "name": "stdout",
     "output_type": "stream",
     "text": [
      "INDEPENDENT Label info: Counter({1: 85876, 0: 85562})\n"
     ]
    },
    {
     "name": "stderr",
     "output_type": "stream",
     "text": [
      "100%|██████████| 168/168 [00:44<00:00,  3.76it/s]\n"
     ]
    },
    {
     "name": "stdout",
     "output_type": "stream",
     "text": [
      "tn = 79408, fp = 6154, fn = 5985, tp = 79891\n",
      "y_pred: 0 = 85393 | 1 = 86045\n",
      "y_true: 0 = 85562 | 1 = 85876\n",
      "auc=0.9784|sensitivity=0.9303|specificity=0.9281|acc=0.9292|mcc=0.8584\n",
      "precision=0.9285|recall=0.9303|f1=0.9294|aupr=0.9778\n",
      "Idx99 - model_layer2_multihead10_fold4.pkl: # layer = 2 | # heads = 10 | Fold = 4\n"
     ]
    },
    {
     "name": "stderr",
     "output_type": "stream",
     "text": [
      "\r",
      "  0%|          | 0/168 [00:00<?, ?it/s]"
     ]
    },
    {
     "name": "stdout",
     "output_type": "stream",
     "text": [
      "INDEPENDENT Label info: Counter({1: 85876, 0: 85562})\n"
     ]
    },
    {
     "name": "stderr",
     "output_type": "stream",
     "text": [
      "100%|██████████| 168/168 [00:43<00:00,  3.84it/s]\n"
     ]
    },
    {
     "name": "stdout",
     "output_type": "stream",
     "text": [
      "tn = 79235, fp = 6327, fn = 5536, tp = 80340\n",
      "y_pred: 0 = 84771 | 1 = 86667\n",
      "y_true: 0 = 85562 | 1 = 85876\n",
      "auc=0.9789|sensitivity=0.9355|specificity=0.9261|acc=0.9308|mcc=0.8616\n",
      "precision=0.9270|recall=0.9355|f1=0.9312|aupr=0.9781\n"
     ]
    }
   ],
   "source": [
    "type_ = 'independent'\n",
    "save_ = False\n",
    "use_cuda = False\n",
    "device = torch.device(\"cuda\" if use_cuda else \"cpu\")\n",
    "\n",
    "independent_metrics_dict, independent_ys_dict, independent_attns_dict = {}, {}, {}\n",
    "for idx, filename in enumerate(model_files):\n",
    "    n_layers, n_heads, fold = model_layers_heads[idx]\n",
    "    n_layers, n_heads, fold = int(n_layers), int(n_heads), int(fold)\n",
    "    temp =  str(n_layers) + '-' + str(n_heads) + '-' + str(fold)\n",
    "    print('Idx{} - {}: # layer = {} | # heads = {} | Fold = {}'.format(idx, filename, n_layers, n_heads, fold))\n",
    "    \n",
    "    model_eval = Transformer().to(device)\n",
    "    criterion = nn.CrossEntropyLoss()\n",
    "    model_pwd = '/home/chujunyi/5_ZY_MHC/model/pHLAIformer/'\n",
    "    model_eval.load_state_dict(torch.load(model_pwd + filename), strict = True)\n",
    "\n",
    "    if type_ == 'train' or type_ == 'val':\n",
    "        data, pep_inputs, hla_inputs, labels, loader = data_with_loader(type_, fold,  batch_size)\n",
    "    else:\n",
    "        data, pep_inputs, hla_inputs, labels, loader = data_with_loader(type_, None, batch_size)\n",
    "    print('{} Label info: {}'.format(str.upper(type_), Counter(data.label)))\n",
    "\n",
    "    model_eval.eval()\n",
    "    if save_:\n",
    "        independent_metrics_res, independent_ys_res, independent_attn_res = eval_step(model_eval, loader, labels, fold, type_, use_cuda, save_)\n",
    "        independent_metrics_dict[temp], independent_ys_dict[temp], independent_attns_dict[temp] = independent_metrics_res, independent_ys_res, independent_attn_res\n",
    "    else:\n",
    "        independent_metrics_res, _, _ = eval_step(model_eval, loader, labels, fold, type_, use_cuda, save_)\n",
    "        independent_metrics_dict[temp] = independent_metrics_res\n",
    "independent_metrics_pd = performances_to_pd(independent_metrics_dict)"
   ]
  },
  {
   "cell_type": "code",
   "execution_count": 31,
   "metadata": {},
   "outputs": [
    {
     "data": {
      "text/html": [
       "<div>\n",
       "<style scoped>\n",
       "    .dataframe tbody tr th:only-of-type {\n",
       "        vertical-align: middle;\n",
       "    }\n",
       "\n",
       "    .dataframe tbody tr th {\n",
       "        vertical-align: top;\n",
       "    }\n",
       "\n",
       "    .dataframe thead th {\n",
       "        text-align: right;\n",
       "    }\n",
       "</style>\n",
       "<table border=\"1\" class=\"dataframe\">\n",
       "  <thead>\n",
       "    <tr style=\"text-align: right;\">\n",
       "      <th></th>\n",
       "      <th>roc_auc</th>\n",
       "      <th>accuracy</th>\n",
       "      <th>mcc</th>\n",
       "      <th>f1</th>\n",
       "      <th>sensitivity</th>\n",
       "      <th>specificity</th>\n",
       "      <th>precision</th>\n",
       "      <th>recall</th>\n",
       "      <th>aupr</th>\n",
       "    </tr>\n",
       "  </thead>\n",
       "  <tbody>\n",
       "    <tr>\n",
       "      <th>1-1-0</th>\n",
       "      <td>0.977645</td>\n",
       "      <td>0.930995</td>\n",
       "      <td>0.862010</td>\n",
       "      <td>0.931365</td>\n",
       "      <td>0.934673</td>\n",
       "      <td>0.927304</td>\n",
       "      <td>0.928081</td>\n",
       "      <td>0.934673</td>\n",
       "      <td>0.977522</td>\n",
       "    </tr>\n",
       "    <tr>\n",
       "      <th>1-1-1</th>\n",
       "      <td>0.977057</td>\n",
       "      <td>0.928948</td>\n",
       "      <td>0.857945</td>\n",
       "      <td>0.929468</td>\n",
       "      <td>0.934603</td>\n",
       "      <td>0.923272</td>\n",
       "      <td>0.924388</td>\n",
       "      <td>0.934603</td>\n",
       "      <td>0.976965</td>\n",
       "    </tr>\n",
       "    <tr>\n",
       "      <th>1-1-2</th>\n",
       "      <td>0.978314</td>\n",
       "      <td>0.929625</td>\n",
       "      <td>0.859332</td>\n",
       "      <td>0.930247</td>\n",
       "      <td>0.936828</td>\n",
       "      <td>0.922395</td>\n",
       "      <td>0.923758</td>\n",
       "      <td>0.936828</td>\n",
       "      <td>0.978033</td>\n",
       "    </tr>\n",
       "    <tr>\n",
       "      <th>1-1-3</th>\n",
       "      <td>0.977433</td>\n",
       "      <td>0.928802</td>\n",
       "      <td>0.857605</td>\n",
       "      <td>0.929008</td>\n",
       "      <td>0.930004</td>\n",
       "      <td>0.927596</td>\n",
       "      <td>0.928015</td>\n",
       "      <td>0.930004</td>\n",
       "      <td>0.977332</td>\n",
       "    </tr>\n",
       "    <tr>\n",
       "      <th>1-1-4</th>\n",
       "      <td>0.977227</td>\n",
       "      <td>0.929403</td>\n",
       "      <td>0.858809</td>\n",
       "      <td>0.929641</td>\n",
       "      <td>0.931075</td>\n",
       "      <td>0.927725</td>\n",
       "      <td>0.928211</td>\n",
       "      <td>0.931075</td>\n",
       "      <td>0.977057</td>\n",
       "    </tr>\n",
       "    <tr>\n",
       "      <th>1-2-0</th>\n",
       "      <td>0.977629</td>\n",
       "      <td>0.928866</td>\n",
       "      <td>0.857915</td>\n",
       "      <td>0.929732</td>\n",
       "      <td>0.939459</td>\n",
       "      <td>0.918235</td>\n",
       "      <td>0.920203</td>\n",
       "      <td>0.939459</td>\n",
       "      <td>0.977445</td>\n",
       "    </tr>\n",
       "    <tr>\n",
       "      <th>1-2-1</th>\n",
       "      <td>0.976449</td>\n",
       "      <td>0.926708</td>\n",
       "      <td>0.853453</td>\n",
       "      <td>0.927194</td>\n",
       "      <td>0.931681</td>\n",
       "      <td>0.921718</td>\n",
       "      <td>0.922751</td>\n",
       "      <td>0.931681</td>\n",
       "      <td>0.976295</td>\n",
       "    </tr>\n",
       "    <tr>\n",
       "      <th>1-2-2</th>\n",
       "      <td>0.977907</td>\n",
       "      <td>0.928750</td>\n",
       "      <td>0.857568</td>\n",
       "      <td>0.929338</td>\n",
       "      <td>0.935360</td>\n",
       "      <td>0.922115</td>\n",
       "      <td>0.923393</td>\n",
       "      <td>0.935360</td>\n",
       "      <td>0.977481</td>\n",
       "    </tr>\n",
       "    <tr>\n",
       "      <th>1-2-3</th>\n",
       "      <td>0.977490</td>\n",
       "      <td>0.928511</td>\n",
       "      <td>0.857065</td>\n",
       "      <td>0.929014</td>\n",
       "      <td>0.933893</td>\n",
       "      <td>0.923108</td>\n",
       "      <td>0.924186</td>\n",
       "      <td>0.933893</td>\n",
       "      <td>0.976986</td>\n",
       "    </tr>\n",
       "    <tr>\n",
       "      <th>1-2-4</th>\n",
       "      <td>0.977822</td>\n",
       "      <td>0.930535</td>\n",
       "      <td>0.861076</td>\n",
       "      <td>0.930811</td>\n",
       "      <td>0.932822</td>\n",
       "      <td>0.928239</td>\n",
       "      <td>0.928809</td>\n",
       "      <td>0.932822</td>\n",
       "      <td>0.977289</td>\n",
       "    </tr>\n",
       "    <tr>\n",
       "      <th>1-3-0</th>\n",
       "      <td>0.978182</td>\n",
       "      <td>0.929835</td>\n",
       "      <td>0.859732</td>\n",
       "      <td>0.930395</td>\n",
       "      <td>0.936164</td>\n",
       "      <td>0.923482</td>\n",
       "      <td>0.924696</td>\n",
       "      <td>0.936164</td>\n",
       "      <td>0.977754</td>\n",
       "    </tr>\n",
       "    <tr>\n",
       "      <th>1-3-1</th>\n",
       "      <td>0.978074</td>\n",
       "      <td>0.929176</td>\n",
       "      <td>0.858442</td>\n",
       "      <td>0.929827</td>\n",
       "      <td>0.936746</td>\n",
       "      <td>0.921577</td>\n",
       "      <td>0.923010</td>\n",
       "      <td>0.936746</td>\n",
       "      <td>0.977987</td>\n",
       "    </tr>\n",
       "    <tr>\n",
       "      <th>1-3-2</th>\n",
       "      <td>0.978322</td>\n",
       "      <td>0.928989</td>\n",
       "      <td>0.858235</td>\n",
       "      <td>0.929985</td>\n",
       "      <td>0.941497</td>\n",
       "      <td>0.916435</td>\n",
       "      <td>0.918752</td>\n",
       "      <td>0.941497</td>\n",
       "      <td>0.977800</td>\n",
       "    </tr>\n",
       "    <tr>\n",
       "      <th>1-3-3</th>\n",
       "      <td>0.977686</td>\n",
       "      <td>0.928826</td>\n",
       "      <td>0.857660</td>\n",
       "      <td>0.929134</td>\n",
       "      <td>0.931471</td>\n",
       "      <td>0.926170</td>\n",
       "      <td>0.926809</td>\n",
       "      <td>0.931471</td>\n",
       "      <td>0.977490</td>\n",
       "    </tr>\n",
       "    <tr>\n",
       "      <th>1-3-4</th>\n",
       "      <td>0.978099</td>\n",
       "      <td>0.929117</td>\n",
       "      <td>0.858434</td>\n",
       "      <td>0.930012</td>\n",
       "      <td>0.940181</td>\n",
       "      <td>0.918013</td>\n",
       "      <td>0.920061</td>\n",
       "      <td>0.940181</td>\n",
       "      <td>0.977848</td>\n",
       "    </tr>\n",
       "    <tr>\n",
       "      <th>1-4-0</th>\n",
       "      <td>0.978098</td>\n",
       "      <td>0.929881</td>\n",
       "      <td>0.859943</td>\n",
       "      <td>0.930729</td>\n",
       "      <td>0.940391</td>\n",
       "      <td>0.919333</td>\n",
       "      <td>0.921263</td>\n",
       "      <td>0.940391</td>\n",
       "      <td>0.977777</td>\n",
       "    </tr>\n",
       "    <tr>\n",
       "      <th>1-4-1</th>\n",
       "      <td>0.977752</td>\n",
       "      <td>0.928569</td>\n",
       "      <td>0.857175</td>\n",
       "      <td>0.929042</td>\n",
       "      <td>0.933532</td>\n",
       "      <td>0.923588</td>\n",
       "      <td>0.924596</td>\n",
       "      <td>0.933532</td>\n",
       "      <td>0.977471</td>\n",
       "    </tr>\n",
       "    <tr>\n",
       "      <th>1-4-2</th>\n",
       "      <td>0.977815</td>\n",
       "      <td>0.929024</td>\n",
       "      <td>0.858120</td>\n",
       "      <td>0.929620</td>\n",
       "      <td>0.935779</td>\n",
       "      <td>0.922244</td>\n",
       "      <td>0.923541</td>\n",
       "      <td>0.935779</td>\n",
       "      <td>0.977340</td>\n",
       "    </tr>\n",
       "    <tr>\n",
       "      <th>1-4-3</th>\n",
       "      <td>0.977494</td>\n",
       "      <td>0.928096</td>\n",
       "      <td>0.856303</td>\n",
       "      <td>0.928809</td>\n",
       "      <td>0.936397</td>\n",
       "      <td>0.919766</td>\n",
       "      <td>0.921344</td>\n",
       "      <td>0.936397</td>\n",
       "      <td>0.976923</td>\n",
       "    </tr>\n",
       "    <tr>\n",
       "      <th>1-4-4</th>\n",
       "      <td>0.977208</td>\n",
       "      <td>0.927484</td>\n",
       "      <td>0.854967</td>\n",
       "      <td>0.927637</td>\n",
       "      <td>0.927896</td>\n",
       "      <td>0.927070</td>\n",
       "      <td>0.927378</td>\n",
       "      <td>0.927896</td>\n",
       "      <td>0.976931</td>\n",
       "    </tr>\n",
       "    <tr>\n",
       "      <th>1-5-0</th>\n",
       "      <td>0.978208</td>\n",
       "      <td>0.929281</td>\n",
       "      <td>0.858692</td>\n",
       "      <td>0.930032</td>\n",
       "      <td>0.938295</td>\n",
       "      <td>0.920233</td>\n",
       "      <td>0.921913</td>\n",
       "      <td>0.938295</td>\n",
       "      <td>0.977862</td>\n",
       "    </tr>\n",
       "    <tr>\n",
       "      <th>1-5-1</th>\n",
       "      <td>0.978212</td>\n",
       "      <td>0.928493</td>\n",
       "      <td>0.857136</td>\n",
       "      <td>0.929296</td>\n",
       "      <td>0.938132</td>\n",
       "      <td>0.918819</td>\n",
       "      <td>0.920625</td>\n",
       "      <td>0.938132</td>\n",
       "      <td>0.977857</td>\n",
       "    </tr>\n",
       "    <tr>\n",
       "      <th>1-5-2</th>\n",
       "      <td>0.978247</td>\n",
       "      <td>0.929298</td>\n",
       "      <td>0.858732</td>\n",
       "      <td>0.930060</td>\n",
       "      <td>0.938469</td>\n",
       "      <td>0.920093</td>\n",
       "      <td>0.921799</td>\n",
       "      <td>0.938469</td>\n",
       "      <td>0.977762</td>\n",
       "    </tr>\n",
       "    <tr>\n",
       "      <th>1-5-3</th>\n",
       "      <td>0.976909</td>\n",
       "      <td>0.927892</td>\n",
       "      <td>0.855795</td>\n",
       "      <td>0.928213</td>\n",
       "      <td>0.930656</td>\n",
       "      <td>0.925119</td>\n",
       "      <td>0.925783</td>\n",
       "      <td>0.930656</td>\n",
       "      <td>0.976106</td>\n",
       "    </tr>\n",
       "    <tr>\n",
       "      <th>1-5-4</th>\n",
       "      <td>0.978232</td>\n",
       "      <td>0.929444</td>\n",
       "      <td>0.859189</td>\n",
       "      <td>0.930503</td>\n",
       "      <td>0.942953</td>\n",
       "      <td>0.915886</td>\n",
       "      <td>0.918377</td>\n",
       "      <td>0.942953</td>\n",
       "      <td>0.977738</td>\n",
       "    </tr>\n",
       "    <tr>\n",
       "      <th>1-6-0</th>\n",
       "      <td>0.978501</td>\n",
       "      <td>0.929561</td>\n",
       "      <td>0.859292</td>\n",
       "      <td>0.930394</td>\n",
       "      <td>0.939820</td>\n",
       "      <td>0.919263</td>\n",
       "      <td>0.921156</td>\n",
       "      <td>0.939820</td>\n",
       "      <td>0.978003</td>\n",
       "    </tr>\n",
       "    <tr>\n",
       "      <th>1-6-1</th>\n",
       "      <td>0.979007</td>\n",
       "      <td>0.929846</td>\n",
       "      <td>0.860119</td>\n",
       "      <td>0.931068</td>\n",
       "      <td>0.945841</td>\n",
       "      <td>0.913794</td>\n",
       "      <td>0.916750</td>\n",
       "      <td>0.945841</td>\n",
       "      <td>0.978776</td>\n",
       "    </tr>\n",
       "    <tr>\n",
       "      <th>1-6-2</th>\n",
       "      <td>0.978925</td>\n",
       "      <td>0.930599</td>\n",
       "      <td>0.861447</td>\n",
       "      <td>0.931558</td>\n",
       "      <td>0.942883</td>\n",
       "      <td>0.918270</td>\n",
       "      <td>0.920502</td>\n",
       "      <td>0.942883</td>\n",
       "      <td>0.978502</td>\n",
       "    </tr>\n",
       "    <tr>\n",
       "      <th>1-6-3</th>\n",
       "      <td>0.978843</td>\n",
       "      <td>0.930301</td>\n",
       "      <td>0.860608</td>\n",
       "      <td>0.930571</td>\n",
       "      <td>0.932472</td>\n",
       "      <td>0.928122</td>\n",
       "      <td>0.928677</td>\n",
       "      <td>0.932472</td>\n",
       "      <td>0.978504</td>\n",
       "    </tr>\n",
       "    <tr>\n",
       "      <th>1-6-4</th>\n",
       "      <td>0.978205</td>\n",
       "      <td>0.928866</td>\n",
       "      <td>0.858049</td>\n",
       "      <td>0.929956</td>\n",
       "      <td>0.942696</td>\n",
       "      <td>0.914986</td>\n",
       "      <td>0.917555</td>\n",
       "      <td>0.942696</td>\n",
       "      <td>0.977606</td>\n",
       "    </tr>\n",
       "    <tr>\n",
       "      <th>1-7-0</th>\n",
       "      <td>0.978722</td>\n",
       "      <td>0.930418</td>\n",
       "      <td>0.861090</td>\n",
       "      <td>0.931388</td>\n",
       "      <td>0.942825</td>\n",
       "      <td>0.917966</td>\n",
       "      <td>0.920225</td>\n",
       "      <td>0.942825</td>\n",
       "      <td>0.978426</td>\n",
       "    </tr>\n",
       "    <tr>\n",
       "      <th>1-7-1</th>\n",
       "      <td>0.978892</td>\n",
       "      <td>0.930191</td>\n",
       "      <td>0.860424</td>\n",
       "      <td>0.929977</td>\n",
       "      <td>0.925451</td>\n",
       "      <td>0.934948</td>\n",
       "      <td>0.934548</td>\n",
       "      <td>0.925451</td>\n",
       "      <td>0.978485</td>\n",
       "    </tr>\n",
       "    <tr>\n",
       "      <th>1-7-2</th>\n",
       "      <td>0.978067</td>\n",
       "      <td>0.928470</td>\n",
       "      <td>0.857080</td>\n",
       "      <td>0.929252</td>\n",
       "      <td>0.937806</td>\n",
       "      <td>0.919100</td>\n",
       "      <td>0.920853</td>\n",
       "      <td>0.937806</td>\n",
       "      <td>0.977508</td>\n",
       "    </tr>\n",
       "    <tr>\n",
       "      <th>1-7-3</th>\n",
       "      <td>0.978608</td>\n",
       "      <td>0.929841</td>\n",
       "      <td>0.859790</td>\n",
       "      <td>0.930533</td>\n",
       "      <td>0.938097</td>\n",
       "      <td>0.921554</td>\n",
       "      <td>0.923091</td>\n",
       "      <td>0.938097</td>\n",
       "      <td>0.978212</td>\n",
       "    </tr>\n",
       "    <tr>\n",
       "      <th>1-7-4</th>\n",
       "      <td>0.978854</td>\n",
       "      <td>0.930313</td>\n",
       "      <td>0.860814</td>\n",
       "      <td>0.931170</td>\n",
       "      <td>0.941043</td>\n",
       "      <td>0.919544</td>\n",
       "      <td>0.921502</td>\n",
       "      <td>0.941043</td>\n",
       "      <td>0.978442</td>\n",
       "    </tr>\n",
       "    <tr>\n",
       "      <th>1-8-0</th>\n",
       "      <td>0.978453</td>\n",
       "      <td>0.930167</td>\n",
       "      <td>0.860419</td>\n",
       "      <td>0.930790</td>\n",
       "      <td>0.937445</td>\n",
       "      <td>0.922863</td>\n",
       "      <td>0.924229</td>\n",
       "      <td>0.937445</td>\n",
       "      <td>0.977860</td>\n",
       "    </tr>\n",
       "    <tr>\n",
       "      <th>1-8-1</th>\n",
       "      <td>0.978220</td>\n",
       "      <td>0.929071</td>\n",
       "      <td>0.858158</td>\n",
       "      <td>0.929432</td>\n",
       "      <td>0.932484</td>\n",
       "      <td>0.925645</td>\n",
       "      <td>0.926400</td>\n",
       "      <td>0.932484</td>\n",
       "      <td>0.977699</td>\n",
       "    </tr>\n",
       "    <tr>\n",
       "      <th>1-8-2</th>\n",
       "      <td>0.978329</td>\n",
       "      <td>0.929368</td>\n",
       "      <td>0.858751</td>\n",
       "      <td>0.929719</td>\n",
       "      <td>0.932647</td>\n",
       "      <td>0.926077</td>\n",
       "      <td>0.926808</td>\n",
       "      <td>0.932647</td>\n",
       "      <td>0.977931</td>\n",
       "    </tr>\n",
       "    <tr>\n",
       "      <th>1-8-3</th>\n",
       "      <td>0.978322</td>\n",
       "      <td>0.929333</td>\n",
       "      <td>0.858995</td>\n",
       "      <td>0.930434</td>\n",
       "      <td>0.943430</td>\n",
       "      <td>0.915184</td>\n",
       "      <td>0.917791</td>\n",
       "      <td>0.943430</td>\n",
       "      <td>0.977847</td>\n",
       "    </tr>\n",
       "    <tr>\n",
       "      <th>1-8-4</th>\n",
       "      <td>0.977938</td>\n",
       "      <td>0.928481</td>\n",
       "      <td>0.856982</td>\n",
       "      <td>0.928863</td>\n",
       "      <td>0.932135</td>\n",
       "      <td>0.924815</td>\n",
       "      <td>0.925614</td>\n",
       "      <td>0.932135</td>\n",
       "      <td>0.977445</td>\n",
       "    </tr>\n",
       "    <tr>\n",
       "      <th>1-9-0</th>\n",
       "      <td>0.978451</td>\n",
       "      <td>0.929905</td>\n",
       "      <td>0.860023</td>\n",
       "      <td>0.930814</td>\n",
       "      <td>0.941322</td>\n",
       "      <td>0.918445</td>\n",
       "      <td>0.920537</td>\n",
       "      <td>0.941322</td>\n",
       "      <td>0.978027</td>\n",
       "    </tr>\n",
       "    <tr>\n",
       "      <th>1-9-1</th>\n",
       "      <td>0.978434</td>\n",
       "      <td>0.929596</td>\n",
       "      <td>0.859294</td>\n",
       "      <td>0.930275</td>\n",
       "      <td>0.937619</td>\n",
       "      <td>0.921542</td>\n",
       "      <td>0.923044</td>\n",
       "      <td>0.937619</td>\n",
       "      <td>0.978176</td>\n",
       "    </tr>\n",
       "    <tr>\n",
       "      <th>1-9-2</th>\n",
       "      <td>0.978715</td>\n",
       "      <td>0.928948</td>\n",
       "      <td>0.858383</td>\n",
       "      <td>0.930262</td>\n",
       "      <td>0.946050</td>\n",
       "      <td>0.911783</td>\n",
       "      <td>0.914991</td>\n",
       "      <td>0.946050</td>\n",
       "      <td>0.978243</td>\n",
       "    </tr>\n",
       "    <tr>\n",
       "      <th>1-9-3</th>\n",
       "      <td>0.977870</td>\n",
       "      <td>0.928621</td>\n",
       "      <td>0.857429</td>\n",
       "      <td>0.929496</td>\n",
       "      <td>0.939308</td>\n",
       "      <td>0.917896</td>\n",
       "      <td>0.919887</td>\n",
       "      <td>0.939308</td>\n",
       "      <td>0.977394</td>\n",
       "    </tr>\n",
       "    <tr>\n",
       "      <th>1-9-4</th>\n",
       "      <td>0.978880</td>\n",
       "      <td>0.930844</td>\n",
       "      <td>0.861688</td>\n",
       "      <td>0.930927</td>\n",
       "      <td>0.930341</td>\n",
       "      <td>0.931348</td>\n",
       "      <td>0.931513</td>\n",
       "      <td>0.930341</td>\n",
       "      <td>0.978183</td>\n",
       "    </tr>\n",
       "    <tr>\n",
       "      <th>1-10-0</th>\n",
       "      <td>0.978688</td>\n",
       "      <td>0.929969</td>\n",
       "      <td>0.859991</td>\n",
       "      <td>0.930496</td>\n",
       "      <td>0.935838</td>\n",
       "      <td>0.924078</td>\n",
       "      <td>0.925215</td>\n",
       "      <td>0.935838</td>\n",
       "      <td>0.978314</td>\n",
       "    </tr>\n",
       "    <tr>\n",
       "      <th>1-10-1</th>\n",
       "      <td>0.979043</td>\n",
       "      <td>0.929467</td>\n",
       "      <td>0.859542</td>\n",
       "      <td>0.930903</td>\n",
       "      <td>0.948507</td>\n",
       "      <td>0.910357</td>\n",
       "      <td>0.913940</td>\n",
       "      <td>0.948507</td>\n",
       "      <td>0.978737</td>\n",
       "    </tr>\n",
       "    <tr>\n",
       "      <th>1-10-2</th>\n",
       "      <td>0.978496</td>\n",
       "      <td>0.929362</td>\n",
       "      <td>0.858851</td>\n",
       "      <td>0.930101</td>\n",
       "      <td>0.938213</td>\n",
       "      <td>0.920479</td>\n",
       "      <td>0.922128</td>\n",
       "      <td>0.938213</td>\n",
       "      <td>0.978139</td>\n",
       "    </tr>\n",
       "    <tr>\n",
       "      <th>1-10-3</th>\n",
       "      <td>0.977642</td>\n",
       "      <td>0.928726</td>\n",
       "      <td>0.857464</td>\n",
       "      <td>0.929055</td>\n",
       "      <td>0.931657</td>\n",
       "      <td>0.925785</td>\n",
       "      <td>0.926468</td>\n",
       "      <td>0.931657</td>\n",
       "      <td>0.976980</td>\n",
       "    </tr>\n",
       "    <tr>\n",
       "      <th>1-10-4</th>\n",
       "      <td>0.978681</td>\n",
       "      <td>0.930645</td>\n",
       "      <td>0.861424</td>\n",
       "      <td>0.931386</td>\n",
       "      <td>0.939715</td>\n",
       "      <td>0.921542</td>\n",
       "      <td>0.923203</td>\n",
       "      <td>0.939715</td>\n",
       "      <td>0.978291</td>\n",
       "    </tr>\n",
       "    <tr>\n",
       "      <th>2-1-0</th>\n",
       "      <td>0.978659</td>\n",
       "      <td>0.930937</td>\n",
       "      <td>0.861892</td>\n",
       "      <td>0.930848</td>\n",
       "      <td>0.927943</td>\n",
       "      <td>0.933943</td>\n",
       "      <td>0.933771</td>\n",
       "      <td>0.927943</td>\n",
       "      <td>0.978602</td>\n",
       "    </tr>\n",
       "    <tr>\n",
       "      <th>2-1-1</th>\n",
       "      <td>0.978386</td>\n",
       "      <td>0.930459</td>\n",
       "      <td>0.860988</td>\n",
       "      <td>0.931039</td>\n",
       "      <td>0.937154</td>\n",
       "      <td>0.923740</td>\n",
       "      <td>0.925003</td>\n",
       "      <td>0.937154</td>\n",
       "      <td>0.978187</td>\n",
       "    </tr>\n",
       "    <tr>\n",
       "      <th>2-1-2</th>\n",
       "      <td>0.978722</td>\n",
       "      <td>0.930068</td>\n",
       "      <td>0.860193</td>\n",
       "      <td>0.929801</td>\n",
       "      <td>0.924566</td>\n",
       "      <td>0.935591</td>\n",
       "      <td>0.935095</td>\n",
       "      <td>0.924566</td>\n",
       "      <td>0.978442</td>\n",
       "    </tr>\n",
       "    <tr>\n",
       "      <th>2-1-3</th>\n",
       "      <td>0.978978</td>\n",
       "      <td>0.930721</td>\n",
       "      <td>0.861484</td>\n",
       "      <td>0.931195</td>\n",
       "      <td>0.935896</td>\n",
       "      <td>0.925528</td>\n",
       "      <td>0.926542</td>\n",
       "      <td>0.935896</td>\n",
       "      <td>0.978549</td>\n",
       "    </tr>\n",
       "    <tr>\n",
       "      <th>2-1-4</th>\n",
       "      <td>0.977478</td>\n",
       "      <td>0.927816</td>\n",
       "      <td>0.855850</td>\n",
       "      <td>0.928761</td>\n",
       "      <td>0.939354</td>\n",
       "      <td>0.916236</td>\n",
       "      <td>0.918404</td>\n",
       "      <td>0.939354</td>\n",
       "      <td>0.977014</td>\n",
       "    </tr>\n",
       "    <tr>\n",
       "      <th>2-2-0</th>\n",
       "      <td>0.978914</td>\n",
       "      <td>0.931281</td>\n",
       "      <td>0.862564</td>\n",
       "      <td>0.931483</td>\n",
       "      <td>0.932519</td>\n",
       "      <td>0.930039</td>\n",
       "      <td>0.930450</td>\n",
       "      <td>0.932519</td>\n",
       "      <td>0.978223</td>\n",
       "    </tr>\n",
       "    <tr>\n",
       "      <th>2-2-1</th>\n",
       "      <td>0.979286</td>\n",
       "      <td>0.930914</td>\n",
       "      <td>0.861838</td>\n",
       "      <td>0.930873</td>\n",
       "      <td>0.928630</td>\n",
       "      <td>0.933206</td>\n",
       "      <td>0.933128</td>\n",
       "      <td>0.928630</td>\n",
       "      <td>0.979095</td>\n",
       "    </tr>\n",
       "    <tr>\n",
       "      <th>2-2-2</th>\n",
       "      <td>0.978255</td>\n",
       "      <td>0.929368</td>\n",
       "      <td>0.858743</td>\n",
       "      <td>0.929653</td>\n",
       "      <td>0.931715</td>\n",
       "      <td>0.927012</td>\n",
       "      <td>0.927600</td>\n",
       "      <td>0.931715</td>\n",
       "      <td>0.977892</td>\n",
       "    </tr>\n",
       "    <tr>\n",
       "      <th>2-2-3</th>\n",
       "      <td>0.978155</td>\n",
       "      <td>0.928773</td>\n",
       "      <td>0.857820</td>\n",
       "      <td>0.929800</td>\n",
       "      <td>0.941683</td>\n",
       "      <td>0.915815</td>\n",
       "      <td>0.918214</td>\n",
       "      <td>0.941683</td>\n",
       "      <td>0.977825</td>\n",
       "    </tr>\n",
       "    <tr>\n",
       "      <th>2-2-4</th>\n",
       "      <td>0.978328</td>\n",
       "      <td>0.928954</td>\n",
       "      <td>0.857936</td>\n",
       "      <td>0.929385</td>\n",
       "      <td>0.933346</td>\n",
       "      <td>0.924546</td>\n",
       "      <td>0.925457</td>\n",
       "      <td>0.933346</td>\n",
       "      <td>0.977881</td>\n",
       "    </tr>\n",
       "    <tr>\n",
       "      <th>2-3-0</th>\n",
       "      <td>0.978549</td>\n",
       "      <td>0.931427</td>\n",
       "      <td>0.862924</td>\n",
       "      <td>0.931995</td>\n",
       "      <td>0.938062</td>\n",
       "      <td>0.924768</td>\n",
       "      <td>0.926006</td>\n",
       "      <td>0.938062</td>\n",
       "      <td>0.978037</td>\n",
       "    </tr>\n",
       "    <tr>\n",
       "      <th>2-3-1</th>\n",
       "      <td>0.978667</td>\n",
       "      <td>0.930068</td>\n",
       "      <td>0.860141</td>\n",
       "      <td>0.930083</td>\n",
       "      <td>0.928583</td>\n",
       "      <td>0.931558</td>\n",
       "      <td>0.931588</td>\n",
       "      <td>0.928583</td>\n",
       "      <td>0.978328</td>\n",
       "    </tr>\n",
       "    <tr>\n",
       "      <th>2-3-2</th>\n",
       "      <td>0.978998</td>\n",
       "      <td>0.931369</td>\n",
       "      <td>0.862756</td>\n",
       "      <td>0.931730</td>\n",
       "      <td>0.934953</td>\n",
       "      <td>0.927772</td>\n",
       "      <td>0.928530</td>\n",
       "      <td>0.934953</td>\n",
       "      <td>0.978400</td>\n",
       "    </tr>\n",
       "    <tr>\n",
       "      <th>2-3-3</th>\n",
       "      <td>0.978274</td>\n",
       "      <td>0.929514</td>\n",
       "      <td>0.859305</td>\n",
       "      <td>0.930534</td>\n",
       "      <td>0.942475</td>\n",
       "      <td>0.916505</td>\n",
       "      <td>0.918892</td>\n",
       "      <td>0.942475</td>\n",
       "      <td>0.977805</td>\n",
       "    </tr>\n",
       "    <tr>\n",
       "      <th>2-3-4</th>\n",
       "      <td>0.978995</td>\n",
       "      <td>0.930400</td>\n",
       "      <td>0.861074</td>\n",
       "      <td>0.931401</td>\n",
       "      <td>0.943255</td>\n",
       "      <td>0.917498</td>\n",
       "      <td>0.919841</td>\n",
       "      <td>0.943255</td>\n",
       "      <td>0.978621</td>\n",
       "    </tr>\n",
       "    <tr>\n",
       "      <th>2-4-0</th>\n",
       "      <td>0.979546</td>\n",
       "      <td>0.931946</td>\n",
       "      <td>0.863892</td>\n",
       "      <td>0.932091</td>\n",
       "      <td>0.932368</td>\n",
       "      <td>0.931523</td>\n",
       "      <td>0.931814</td>\n",
       "      <td>0.932368</td>\n",
       "      <td>0.979039</td>\n",
       "    </tr>\n",
       "    <tr>\n",
       "      <th>2-4-1</th>\n",
       "      <td>0.978498</td>\n",
       "      <td>0.930535</td>\n",
       "      <td>0.861076</td>\n",
       "      <td>0.930534</td>\n",
       "      <td>0.928828</td>\n",
       "      <td>0.932248</td>\n",
       "      <td>0.932247</td>\n",
       "      <td>0.928828</td>\n",
       "      <td>0.977970</td>\n",
       "    </tr>\n",
       "    <tr>\n",
       "      <th>2-4-2</th>\n",
       "      <td>0.978723</td>\n",
       "      <td>0.930150</td>\n",
       "      <td>0.860407</td>\n",
       "      <td>0.930834</td>\n",
       "      <td>0.938330</td>\n",
       "      <td>0.921940</td>\n",
       "      <td>0.923458</td>\n",
       "      <td>0.938330</td>\n",
       "      <td>0.977781</td>\n",
       "    </tr>\n",
       "    <tr>\n",
       "      <th>2-4-3</th>\n",
       "      <td>0.978082</td>\n",
       "      <td>0.927606</td>\n",
       "      <td>0.855760</td>\n",
       "      <td>0.929017</td>\n",
       "      <td>0.945747</td>\n",
       "      <td>0.909399</td>\n",
       "      <td>0.912869</td>\n",
       "      <td>0.945747</td>\n",
       "      <td>0.977288</td>\n",
       "    </tr>\n",
       "    <tr>\n",
       "      <th>2-4-4</th>\n",
       "      <td>0.978794</td>\n",
       "      <td>0.930540</td>\n",
       "      <td>0.861117</td>\n",
       "      <td>0.930996</td>\n",
       "      <td>0.935430</td>\n",
       "      <td>0.925633</td>\n",
       "      <td>0.926604</td>\n",
       "      <td>0.935430</td>\n",
       "      <td>0.978104</td>\n",
       "    </tr>\n",
       "    <tr>\n",
       "      <th>2-5-0</th>\n",
       "      <td>0.978604</td>\n",
       "      <td>0.929590</td>\n",
       "      <td>0.859566</td>\n",
       "      <td>0.930766</td>\n",
       "      <td>0.944851</td>\n",
       "      <td>0.914273</td>\n",
       "      <td>0.917095</td>\n",
       "      <td>0.944851</td>\n",
       "      <td>0.977703</td>\n",
       "    </tr>\n",
       "    <tr>\n",
       "      <th>2-5-1</th>\n",
       "      <td>0.978768</td>\n",
       "      <td>0.930459</td>\n",
       "      <td>0.860978</td>\n",
       "      <td>0.931005</td>\n",
       "      <td>0.936653</td>\n",
       "      <td>0.924242</td>\n",
       "      <td>0.925424</td>\n",
       "      <td>0.936653</td>\n",
       "      <td>0.978339</td>\n",
       "    </tr>\n",
       "    <tr>\n",
       "      <th>2-5-2</th>\n",
       "      <td>0.978781</td>\n",
       "      <td>0.930249</td>\n",
       "      <td>0.860514</td>\n",
       "      <td>0.930606</td>\n",
       "      <td>0.933683</td>\n",
       "      <td>0.926802</td>\n",
       "      <td>0.927548</td>\n",
       "      <td>0.933683</td>\n",
       "      <td>0.978392</td>\n",
       "    </tr>\n",
       "    <tr>\n",
       "      <th>2-5-3</th>\n",
       "      <td>0.977785</td>\n",
       "      <td>0.928750</td>\n",
       "      <td>0.857548</td>\n",
       "      <td>0.929269</td>\n",
       "      <td>0.934382</td>\n",
       "      <td>0.923097</td>\n",
       "      <td>0.924212</td>\n",
       "      <td>0.934382</td>\n",
       "      <td>0.977413</td>\n",
       "    </tr>\n",
       "    <tr>\n",
       "      <th>2-5-4</th>\n",
       "      <td>0.978895</td>\n",
       "      <td>0.930191</td>\n",
       "      <td>0.860381</td>\n",
       "      <td>0.930334</td>\n",
       "      <td>0.930551</td>\n",
       "      <td>0.929829</td>\n",
       "      <td>0.930118</td>\n",
       "      <td>0.930551</td>\n",
       "      <td>0.978338</td>\n",
       "    </tr>\n",
       "    <tr>\n",
       "      <th>2-6-0</th>\n",
       "      <td>0.979078</td>\n",
       "      <td>0.930202</td>\n",
       "      <td>0.860429</td>\n",
       "      <td>0.930073</td>\n",
       "      <td>0.926662</td>\n",
       "      <td>0.933756</td>\n",
       "      <td>0.933510</td>\n",
       "      <td>0.926662</td>\n",
       "      <td>0.978428</td>\n",
       "    </tr>\n",
       "    <tr>\n",
       "      <th>2-6-1</th>\n",
       "      <td>0.979671</td>\n",
       "      <td>0.932378</td>\n",
       "      <td>0.864778</td>\n",
       "      <td>0.932756</td>\n",
       "      <td>0.936292</td>\n",
       "      <td>0.928450</td>\n",
       "      <td>0.929248</td>\n",
       "      <td>0.936292</td>\n",
       "      <td>0.979250</td>\n",
       "    </tr>\n",
       "    <tr>\n",
       "      <th>2-6-2</th>\n",
       "      <td>0.979465</td>\n",
       "      <td>0.930593</td>\n",
       "      <td>0.861294</td>\n",
       "      <td>0.931275</td>\n",
       "      <td>0.938795</td>\n",
       "      <td>0.922360</td>\n",
       "      <td>0.923874</td>\n",
       "      <td>0.938795</td>\n",
       "      <td>0.978902</td>\n",
       "    </tr>\n",
       "    <tr>\n",
       "      <th>2-6-3</th>\n",
       "      <td>0.978362</td>\n",
       "      <td>0.930412</td>\n",
       "      <td>0.860878</td>\n",
       "      <td>0.930935</td>\n",
       "      <td>0.936269</td>\n",
       "      <td>0.924534</td>\n",
       "      <td>0.925662</td>\n",
       "      <td>0.936269</td>\n",
       "      <td>0.977595</td>\n",
       "    </tr>\n",
       "    <tr>\n",
       "      <th>2-6-4</th>\n",
       "      <td>0.979410</td>\n",
       "      <td>0.930622</td>\n",
       "      <td>0.861253</td>\n",
       "      <td>0.930916</td>\n",
       "      <td>0.933159</td>\n",
       "      <td>0.928076</td>\n",
       "      <td>0.928682</td>\n",
       "      <td>0.933159</td>\n",
       "      <td>0.978922</td>\n",
       "    </tr>\n",
       "    <tr>\n",
       "      <th>2-7-0</th>\n",
       "      <td>0.978957</td>\n",
       "      <td>0.931439</td>\n",
       "      <td>0.862994</td>\n",
       "      <td>0.932132</td>\n",
       "      <td>0.939937</td>\n",
       "      <td>0.922910</td>\n",
       "      <td>0.924457</td>\n",
       "      <td>0.939937</td>\n",
       "      <td>0.978393</td>\n",
       "    </tr>\n",
       "    <tr>\n",
       "      <th>2-7-1</th>\n",
       "      <td>0.979014</td>\n",
       "      <td>0.931042</td>\n",
       "      <td>0.862088</td>\n",
       "      <td>0.931066</td>\n",
       "      <td>0.929689</td>\n",
       "      <td>0.932400</td>\n",
       "      <td>0.932447</td>\n",
       "      <td>0.929689</td>\n",
       "      <td>0.978043</td>\n",
       "    </tr>\n",
       "    <tr>\n",
       "      <th>2-7-2</th>\n",
       "      <td>0.978914</td>\n",
       "      <td>0.929771</td>\n",
       "      <td>0.859823</td>\n",
       "      <td>0.930795</td>\n",
       "      <td>0.942848</td>\n",
       "      <td>0.916645</td>\n",
       "      <td>0.919047</td>\n",
       "      <td>0.942848</td>\n",
       "      <td>0.978247</td>\n",
       "    </tr>\n",
       "    <tr>\n",
       "      <th>2-7-3</th>\n",
       "      <td>0.978588</td>\n",
       "      <td>0.929415</td>\n",
       "      <td>0.859159</td>\n",
       "      <td>0.930515</td>\n",
       "      <td>0.943523</td>\n",
       "      <td>0.915254</td>\n",
       "      <td>0.917861</td>\n",
       "      <td>0.943523</td>\n",
       "      <td>0.978060</td>\n",
       "    </tr>\n",
       "    <tr>\n",
       "      <th>2-7-4</th>\n",
       "      <td>0.979418</td>\n",
       "      <td>0.931118</td>\n",
       "      <td>0.862237</td>\n",
       "      <td>0.931188</td>\n",
       "      <td>0.930435</td>\n",
       "      <td>0.931804</td>\n",
       "      <td>0.931943</td>\n",
       "      <td>0.930435</td>\n",
       "      <td>0.978883</td>\n",
       "    </tr>\n",
       "    <tr>\n",
       "      <th>2-8-0</th>\n",
       "      <td>0.979875</td>\n",
       "      <td>0.931876</td>\n",
       "      <td>0.863850</td>\n",
       "      <td>0.932517</td>\n",
       "      <td>0.939646</td>\n",
       "      <td>0.924078</td>\n",
       "      <td>0.925495</td>\n",
       "      <td>0.939646</td>\n",
       "      <td>0.979380</td>\n",
       "    </tr>\n",
       "    <tr>\n",
       "      <th>2-8-1</th>\n",
       "      <td>0.979237</td>\n",
       "      <td>0.931707</td>\n",
       "      <td>0.863436</td>\n",
       "      <td>0.931595</td>\n",
       "      <td>0.928373</td>\n",
       "      <td>0.935053</td>\n",
       "      <td>0.934840</td>\n",
       "      <td>0.928373</td>\n",
       "      <td>0.978804</td>\n",
       "    </tr>\n",
       "    <tr>\n",
       "      <th>2-8-2</th>\n",
       "      <td>0.979559</td>\n",
       "      <td>0.931830</td>\n",
       "      <td>0.863663</td>\n",
       "      <td>0.932076</td>\n",
       "      <td>0.933753</td>\n",
       "      <td>0.929899</td>\n",
       "      <td>0.930406</td>\n",
       "      <td>0.933753</td>\n",
       "      <td>0.978656</td>\n",
       "    </tr>\n",
       "    <tr>\n",
       "      <th>2-8-3</th>\n",
       "      <td>0.978519</td>\n",
       "      <td>0.929712</td>\n",
       "      <td>0.859666</td>\n",
       "      <td>0.930672</td>\n",
       "      <td>0.941835</td>\n",
       "      <td>0.917545</td>\n",
       "      <td>0.919771</td>\n",
       "      <td>0.941835</td>\n",
       "      <td>0.977628</td>\n",
       "    </tr>\n",
       "    <tr>\n",
       "      <th>2-8-4</th>\n",
       "      <td>0.979223</td>\n",
       "      <td>0.931888</td>\n",
       "      <td>0.863832</td>\n",
       "      <td>0.932410</td>\n",
       "      <td>0.937887</td>\n",
       "      <td>0.925867</td>\n",
       "      <td>0.926995</td>\n",
       "      <td>0.937887</td>\n",
       "      <td>0.978535</td>\n",
       "    </tr>\n",
       "    <tr>\n",
       "      <th>2-9-0</th>\n",
       "      <td>0.979316</td>\n",
       "      <td>0.931398</td>\n",
       "      <td>0.862816</td>\n",
       "      <td>0.931771</td>\n",
       "      <td>0.935151</td>\n",
       "      <td>0.927631</td>\n",
       "      <td>0.928415</td>\n",
       "      <td>0.935151</td>\n",
       "      <td>0.978656</td>\n",
       "    </tr>\n",
       "    <tr>\n",
       "      <th>2-9-1</th>\n",
       "      <td>0.979452</td>\n",
       "      <td>0.931357</td>\n",
       "      <td>0.862714</td>\n",
       "      <td>0.931510</td>\n",
       "      <td>0.931879</td>\n",
       "      <td>0.930834</td>\n",
       "      <td>0.931141</td>\n",
       "      <td>0.931879</td>\n",
       "      <td>0.979012</td>\n",
       "    </tr>\n",
       "    <tr>\n",
       "      <th>2-9-2</th>\n",
       "      <td>0.978893</td>\n",
       "      <td>0.930138</td>\n",
       "      <td>0.860544</td>\n",
       "      <td>0.931134</td>\n",
       "      <td>0.942871</td>\n",
       "      <td>0.917358</td>\n",
       "      <td>0.919685</td>\n",
       "      <td>0.942871</td>\n",
       "      <td>0.978204</td>\n",
       "    </tr>\n",
       "    <tr>\n",
       "      <th>2-9-3</th>\n",
       "      <td>0.979051</td>\n",
       "      <td>0.931030</td>\n",
       "      <td>0.862109</td>\n",
       "      <td>0.931528</td>\n",
       "      <td>0.936583</td>\n",
       "      <td>0.925458</td>\n",
       "      <td>0.926528</td>\n",
       "      <td>0.936583</td>\n",
       "      <td>0.978510</td>\n",
       "    </tr>\n",
       "    <tr>\n",
       "      <th>2-9-4</th>\n",
       "      <td>0.979040</td>\n",
       "      <td>0.930995</td>\n",
       "      <td>0.862062</td>\n",
       "      <td>0.931571</td>\n",
       "      <td>0.937689</td>\n",
       "      <td>0.924277</td>\n",
       "      <td>0.925532</td>\n",
       "      <td>0.937689</td>\n",
       "      <td>0.978335</td>\n",
       "    </tr>\n",
       "    <tr>\n",
       "      <th>2-10-0</th>\n",
       "      <td>0.979196</td>\n",
       "      <td>0.932092</td>\n",
       "      <td>0.864222</td>\n",
       "      <td>0.932544</td>\n",
       "      <td>0.937072</td>\n",
       "      <td>0.927094</td>\n",
       "      <td>0.928059</td>\n",
       "      <td>0.937072</td>\n",
       "      <td>0.978664</td>\n",
       "    </tr>\n",
       "    <tr>\n",
       "      <th>2-10-1</th>\n",
       "      <td>0.979274</td>\n",
       "      <td>0.930914</td>\n",
       "      <td>0.861890</td>\n",
       "      <td>0.931463</td>\n",
       "      <td>0.937212</td>\n",
       "      <td>0.924593</td>\n",
       "      <td>0.925784</td>\n",
       "      <td>0.937212</td>\n",
       "      <td>0.978657</td>\n",
       "    </tr>\n",
       "    <tr>\n",
       "      <th>2-10-2</th>\n",
       "      <td>0.979035</td>\n",
       "      <td>0.930406</td>\n",
       "      <td>0.860971</td>\n",
       "      <td>0.931203</td>\n",
       "      <td>0.940263</td>\n",
       "      <td>0.920514</td>\n",
       "      <td>0.922316</td>\n",
       "      <td>0.940263</td>\n",
       "      <td>0.978574</td>\n",
       "    </tr>\n",
       "    <tr>\n",
       "      <th>2-10-3</th>\n",
       "      <td>0.978435</td>\n",
       "      <td>0.929193</td>\n",
       "      <td>0.858387</td>\n",
       "      <td>0.929392</td>\n",
       "      <td>0.930306</td>\n",
       "      <td>0.928076</td>\n",
       "      <td>0.928479</td>\n",
       "      <td>0.930306</td>\n",
       "      <td>0.977776</td>\n",
       "    </tr>\n",
       "    <tr>\n",
       "      <th>2-10-4</th>\n",
       "      <td>0.978897</td>\n",
       "      <td>0.930803</td>\n",
       "      <td>0.861640</td>\n",
       "      <td>0.931246</td>\n",
       "      <td>0.935535</td>\n",
       "      <td>0.926054</td>\n",
       "      <td>0.926996</td>\n",
       "      <td>0.935535</td>\n",
       "      <td>0.978143</td>\n",
       "    </tr>\n",
       "  </tbody>\n",
       "</table>\n",
       "</div>"
      ],
      "text/plain": [
       "         roc_auc  accuracy       mcc        f1  sensitivity  specificity  \\\n",
       "1-1-0   0.977645  0.930995  0.862010  0.931365     0.934673     0.927304   \n",
       "1-1-1   0.977057  0.928948  0.857945  0.929468     0.934603     0.923272   \n",
       "1-1-2   0.978314  0.929625  0.859332  0.930247     0.936828     0.922395   \n",
       "1-1-3   0.977433  0.928802  0.857605  0.929008     0.930004     0.927596   \n",
       "1-1-4   0.977227  0.929403  0.858809  0.929641     0.931075     0.927725   \n",
       "1-2-0   0.977629  0.928866  0.857915  0.929732     0.939459     0.918235   \n",
       "1-2-1   0.976449  0.926708  0.853453  0.927194     0.931681     0.921718   \n",
       "1-2-2   0.977907  0.928750  0.857568  0.929338     0.935360     0.922115   \n",
       "1-2-3   0.977490  0.928511  0.857065  0.929014     0.933893     0.923108   \n",
       "1-2-4   0.977822  0.930535  0.861076  0.930811     0.932822     0.928239   \n",
       "1-3-0   0.978182  0.929835  0.859732  0.930395     0.936164     0.923482   \n",
       "1-3-1   0.978074  0.929176  0.858442  0.929827     0.936746     0.921577   \n",
       "1-3-2   0.978322  0.928989  0.858235  0.929985     0.941497     0.916435   \n",
       "1-3-3   0.977686  0.928826  0.857660  0.929134     0.931471     0.926170   \n",
       "1-3-4   0.978099  0.929117  0.858434  0.930012     0.940181     0.918013   \n",
       "1-4-0   0.978098  0.929881  0.859943  0.930729     0.940391     0.919333   \n",
       "1-4-1   0.977752  0.928569  0.857175  0.929042     0.933532     0.923588   \n",
       "1-4-2   0.977815  0.929024  0.858120  0.929620     0.935779     0.922244   \n",
       "1-4-3   0.977494  0.928096  0.856303  0.928809     0.936397     0.919766   \n",
       "1-4-4   0.977208  0.927484  0.854967  0.927637     0.927896     0.927070   \n",
       "1-5-0   0.978208  0.929281  0.858692  0.930032     0.938295     0.920233   \n",
       "1-5-1   0.978212  0.928493  0.857136  0.929296     0.938132     0.918819   \n",
       "1-5-2   0.978247  0.929298  0.858732  0.930060     0.938469     0.920093   \n",
       "1-5-3   0.976909  0.927892  0.855795  0.928213     0.930656     0.925119   \n",
       "1-5-4   0.978232  0.929444  0.859189  0.930503     0.942953     0.915886   \n",
       "1-6-0   0.978501  0.929561  0.859292  0.930394     0.939820     0.919263   \n",
       "1-6-1   0.979007  0.929846  0.860119  0.931068     0.945841     0.913794   \n",
       "1-6-2   0.978925  0.930599  0.861447  0.931558     0.942883     0.918270   \n",
       "1-6-3   0.978843  0.930301  0.860608  0.930571     0.932472     0.928122   \n",
       "1-6-4   0.978205  0.928866  0.858049  0.929956     0.942696     0.914986   \n",
       "1-7-0   0.978722  0.930418  0.861090  0.931388     0.942825     0.917966   \n",
       "1-7-1   0.978892  0.930191  0.860424  0.929977     0.925451     0.934948   \n",
       "1-7-2   0.978067  0.928470  0.857080  0.929252     0.937806     0.919100   \n",
       "1-7-3   0.978608  0.929841  0.859790  0.930533     0.938097     0.921554   \n",
       "1-7-4   0.978854  0.930313  0.860814  0.931170     0.941043     0.919544   \n",
       "1-8-0   0.978453  0.930167  0.860419  0.930790     0.937445     0.922863   \n",
       "1-8-1   0.978220  0.929071  0.858158  0.929432     0.932484     0.925645   \n",
       "1-8-2   0.978329  0.929368  0.858751  0.929719     0.932647     0.926077   \n",
       "1-8-3   0.978322  0.929333  0.858995  0.930434     0.943430     0.915184   \n",
       "1-8-4   0.977938  0.928481  0.856982  0.928863     0.932135     0.924815   \n",
       "1-9-0   0.978451  0.929905  0.860023  0.930814     0.941322     0.918445   \n",
       "1-9-1   0.978434  0.929596  0.859294  0.930275     0.937619     0.921542   \n",
       "1-9-2   0.978715  0.928948  0.858383  0.930262     0.946050     0.911783   \n",
       "1-9-3   0.977870  0.928621  0.857429  0.929496     0.939308     0.917896   \n",
       "1-9-4   0.978880  0.930844  0.861688  0.930927     0.930341     0.931348   \n",
       "1-10-0  0.978688  0.929969  0.859991  0.930496     0.935838     0.924078   \n",
       "1-10-1  0.979043  0.929467  0.859542  0.930903     0.948507     0.910357   \n",
       "1-10-2  0.978496  0.929362  0.858851  0.930101     0.938213     0.920479   \n",
       "1-10-3  0.977642  0.928726  0.857464  0.929055     0.931657     0.925785   \n",
       "1-10-4  0.978681  0.930645  0.861424  0.931386     0.939715     0.921542   \n",
       "2-1-0   0.978659  0.930937  0.861892  0.930848     0.927943     0.933943   \n",
       "2-1-1   0.978386  0.930459  0.860988  0.931039     0.937154     0.923740   \n",
       "2-1-2   0.978722  0.930068  0.860193  0.929801     0.924566     0.935591   \n",
       "2-1-3   0.978978  0.930721  0.861484  0.931195     0.935896     0.925528   \n",
       "2-1-4   0.977478  0.927816  0.855850  0.928761     0.939354     0.916236   \n",
       "2-2-0   0.978914  0.931281  0.862564  0.931483     0.932519     0.930039   \n",
       "2-2-1   0.979286  0.930914  0.861838  0.930873     0.928630     0.933206   \n",
       "2-2-2   0.978255  0.929368  0.858743  0.929653     0.931715     0.927012   \n",
       "2-2-3   0.978155  0.928773  0.857820  0.929800     0.941683     0.915815   \n",
       "2-2-4   0.978328  0.928954  0.857936  0.929385     0.933346     0.924546   \n",
       "2-3-0   0.978549  0.931427  0.862924  0.931995     0.938062     0.924768   \n",
       "2-3-1   0.978667  0.930068  0.860141  0.930083     0.928583     0.931558   \n",
       "2-3-2   0.978998  0.931369  0.862756  0.931730     0.934953     0.927772   \n",
       "2-3-3   0.978274  0.929514  0.859305  0.930534     0.942475     0.916505   \n",
       "2-3-4   0.978995  0.930400  0.861074  0.931401     0.943255     0.917498   \n",
       "2-4-0   0.979546  0.931946  0.863892  0.932091     0.932368     0.931523   \n",
       "2-4-1   0.978498  0.930535  0.861076  0.930534     0.928828     0.932248   \n",
       "2-4-2   0.978723  0.930150  0.860407  0.930834     0.938330     0.921940   \n",
       "2-4-3   0.978082  0.927606  0.855760  0.929017     0.945747     0.909399   \n",
       "2-4-4   0.978794  0.930540  0.861117  0.930996     0.935430     0.925633   \n",
       "2-5-0   0.978604  0.929590  0.859566  0.930766     0.944851     0.914273   \n",
       "2-5-1   0.978768  0.930459  0.860978  0.931005     0.936653     0.924242   \n",
       "2-5-2   0.978781  0.930249  0.860514  0.930606     0.933683     0.926802   \n",
       "2-5-3   0.977785  0.928750  0.857548  0.929269     0.934382     0.923097   \n",
       "2-5-4   0.978895  0.930191  0.860381  0.930334     0.930551     0.929829   \n",
       "2-6-0   0.979078  0.930202  0.860429  0.930073     0.926662     0.933756   \n",
       "2-6-1   0.979671  0.932378  0.864778  0.932756     0.936292     0.928450   \n",
       "2-6-2   0.979465  0.930593  0.861294  0.931275     0.938795     0.922360   \n",
       "2-6-3   0.978362  0.930412  0.860878  0.930935     0.936269     0.924534   \n",
       "2-6-4   0.979410  0.930622  0.861253  0.930916     0.933159     0.928076   \n",
       "2-7-0   0.978957  0.931439  0.862994  0.932132     0.939937     0.922910   \n",
       "2-7-1   0.979014  0.931042  0.862088  0.931066     0.929689     0.932400   \n",
       "2-7-2   0.978914  0.929771  0.859823  0.930795     0.942848     0.916645   \n",
       "2-7-3   0.978588  0.929415  0.859159  0.930515     0.943523     0.915254   \n",
       "2-7-4   0.979418  0.931118  0.862237  0.931188     0.930435     0.931804   \n",
       "2-8-0   0.979875  0.931876  0.863850  0.932517     0.939646     0.924078   \n",
       "2-8-1   0.979237  0.931707  0.863436  0.931595     0.928373     0.935053   \n",
       "2-8-2   0.979559  0.931830  0.863663  0.932076     0.933753     0.929899   \n",
       "2-8-3   0.978519  0.929712  0.859666  0.930672     0.941835     0.917545   \n",
       "2-8-4   0.979223  0.931888  0.863832  0.932410     0.937887     0.925867   \n",
       "2-9-0   0.979316  0.931398  0.862816  0.931771     0.935151     0.927631   \n",
       "2-9-1   0.979452  0.931357  0.862714  0.931510     0.931879     0.930834   \n",
       "2-9-2   0.978893  0.930138  0.860544  0.931134     0.942871     0.917358   \n",
       "2-9-3   0.979051  0.931030  0.862109  0.931528     0.936583     0.925458   \n",
       "2-9-4   0.979040  0.930995  0.862062  0.931571     0.937689     0.924277   \n",
       "2-10-0  0.979196  0.932092  0.864222  0.932544     0.937072     0.927094   \n",
       "2-10-1  0.979274  0.930914  0.861890  0.931463     0.937212     0.924593   \n",
       "2-10-2  0.979035  0.930406  0.860971  0.931203     0.940263     0.920514   \n",
       "2-10-3  0.978435  0.929193  0.858387  0.929392     0.930306     0.928076   \n",
       "2-10-4  0.978897  0.930803  0.861640  0.931246     0.935535     0.926054   \n",
       "\n",
       "        precision    recall      aupr  \n",
       "1-1-0    0.928081  0.934673  0.977522  \n",
       "1-1-1    0.924388  0.934603  0.976965  \n",
       "1-1-2    0.923758  0.936828  0.978033  \n",
       "1-1-3    0.928015  0.930004  0.977332  \n",
       "1-1-4    0.928211  0.931075  0.977057  \n",
       "1-2-0    0.920203  0.939459  0.977445  \n",
       "1-2-1    0.922751  0.931681  0.976295  \n",
       "1-2-2    0.923393  0.935360  0.977481  \n",
       "1-2-3    0.924186  0.933893  0.976986  \n",
       "1-2-4    0.928809  0.932822  0.977289  \n",
       "1-3-0    0.924696  0.936164  0.977754  \n",
       "1-3-1    0.923010  0.936746  0.977987  \n",
       "1-3-2    0.918752  0.941497  0.977800  \n",
       "1-3-3    0.926809  0.931471  0.977490  \n",
       "1-3-4    0.920061  0.940181  0.977848  \n",
       "1-4-0    0.921263  0.940391  0.977777  \n",
       "1-4-1    0.924596  0.933532  0.977471  \n",
       "1-4-2    0.923541  0.935779  0.977340  \n",
       "1-4-3    0.921344  0.936397  0.976923  \n",
       "1-4-4    0.927378  0.927896  0.976931  \n",
       "1-5-0    0.921913  0.938295  0.977862  \n",
       "1-5-1    0.920625  0.938132  0.977857  \n",
       "1-5-2    0.921799  0.938469  0.977762  \n",
       "1-5-3    0.925783  0.930656  0.976106  \n",
       "1-5-4    0.918377  0.942953  0.977738  \n",
       "1-6-0    0.921156  0.939820  0.978003  \n",
       "1-6-1    0.916750  0.945841  0.978776  \n",
       "1-6-2    0.920502  0.942883  0.978502  \n",
       "1-6-3    0.928677  0.932472  0.978504  \n",
       "1-6-4    0.917555  0.942696  0.977606  \n",
       "1-7-0    0.920225  0.942825  0.978426  \n",
       "1-7-1    0.934548  0.925451  0.978485  \n",
       "1-7-2    0.920853  0.937806  0.977508  \n",
       "1-7-3    0.923091  0.938097  0.978212  \n",
       "1-7-4    0.921502  0.941043  0.978442  \n",
       "1-8-0    0.924229  0.937445  0.977860  \n",
       "1-8-1    0.926400  0.932484  0.977699  \n",
       "1-8-2    0.926808  0.932647  0.977931  \n",
       "1-8-3    0.917791  0.943430  0.977847  \n",
       "1-8-4    0.925614  0.932135  0.977445  \n",
       "1-9-0    0.920537  0.941322  0.978027  \n",
       "1-9-1    0.923044  0.937619  0.978176  \n",
       "1-9-2    0.914991  0.946050  0.978243  \n",
       "1-9-3    0.919887  0.939308  0.977394  \n",
       "1-9-4    0.931513  0.930341  0.978183  \n",
       "1-10-0   0.925215  0.935838  0.978314  \n",
       "1-10-1   0.913940  0.948507  0.978737  \n",
       "1-10-2   0.922128  0.938213  0.978139  \n",
       "1-10-3   0.926468  0.931657  0.976980  \n",
       "1-10-4   0.923203  0.939715  0.978291  \n",
       "2-1-0    0.933771  0.927943  0.978602  \n",
       "2-1-1    0.925003  0.937154  0.978187  \n",
       "2-1-2    0.935095  0.924566  0.978442  \n",
       "2-1-3    0.926542  0.935896  0.978549  \n",
       "2-1-4    0.918404  0.939354  0.977014  \n",
       "2-2-0    0.930450  0.932519  0.978223  \n",
       "2-2-1    0.933128  0.928630  0.979095  \n",
       "2-2-2    0.927600  0.931715  0.977892  \n",
       "2-2-3    0.918214  0.941683  0.977825  \n",
       "2-2-4    0.925457  0.933346  0.977881  \n",
       "2-3-0    0.926006  0.938062  0.978037  \n",
       "2-3-1    0.931588  0.928583  0.978328  \n",
       "2-3-2    0.928530  0.934953  0.978400  \n",
       "2-3-3    0.918892  0.942475  0.977805  \n",
       "2-3-4    0.919841  0.943255  0.978621  \n",
       "2-4-0    0.931814  0.932368  0.979039  \n",
       "2-4-1    0.932247  0.928828  0.977970  \n",
       "2-4-2    0.923458  0.938330  0.977781  \n",
       "2-4-3    0.912869  0.945747  0.977288  \n",
       "2-4-4    0.926604  0.935430  0.978104  \n",
       "2-5-0    0.917095  0.944851  0.977703  \n",
       "2-5-1    0.925424  0.936653  0.978339  \n",
       "2-5-2    0.927548  0.933683  0.978392  \n",
       "2-5-3    0.924212  0.934382  0.977413  \n",
       "2-5-4    0.930118  0.930551  0.978338  \n",
       "2-6-0    0.933510  0.926662  0.978428  \n",
       "2-6-1    0.929248  0.936292  0.979250  \n",
       "2-6-2    0.923874  0.938795  0.978902  \n",
       "2-6-3    0.925662  0.936269  0.977595  \n",
       "2-6-4    0.928682  0.933159  0.978922  \n",
       "2-7-0    0.924457  0.939937  0.978393  \n",
       "2-7-1    0.932447  0.929689  0.978043  \n",
       "2-7-2    0.919047  0.942848  0.978247  \n",
       "2-7-3    0.917861  0.943523  0.978060  \n",
       "2-7-4    0.931943  0.930435  0.978883  \n",
       "2-8-0    0.925495  0.939646  0.979380  \n",
       "2-8-1    0.934840  0.928373  0.978804  \n",
       "2-8-2    0.930406  0.933753  0.978656  \n",
       "2-8-3    0.919771  0.941835  0.977628  \n",
       "2-8-4    0.926995  0.937887  0.978535  \n",
       "2-9-0    0.928415  0.935151  0.978656  \n",
       "2-9-1    0.931141  0.931879  0.979012  \n",
       "2-9-2    0.919685  0.942871  0.978204  \n",
       "2-9-3    0.926528  0.936583  0.978510  \n",
       "2-9-4    0.925532  0.937689  0.978335  \n",
       "2-10-0   0.928059  0.937072  0.978664  \n",
       "2-10-1   0.925784  0.937212  0.978657  \n",
       "2-10-2   0.922316  0.940263  0.978574  \n",
       "2-10-3   0.928479  0.930306  0.977776  \n",
       "2-10-4   0.926996  0.935535  0.978143  "
      ]
     },
     "execution_count": 31,
     "metadata": {},
     "output_type": "execute_result"
    }
   ],
   "source": [
    "independent_metrics_pd"
   ]
  },
  {
   "cell_type": "code",
   "execution_count": 24,
   "metadata": {},
   "outputs": [
    {
     "name": "stdout",
     "output_type": "stream",
     "text": [
      "Idx0 - model_layer1_multihead1_fold0.pkl: # layer = 1 | # heads = 1 | Fold = 0\n"
     ]
    },
    {
     "name": "stderr",
     "output_type": "stream",
     "text": [
      "  2%|▏         | 2/102 [00:00<00:06, 16.34it/s]"
     ]
    },
    {
     "name": "stdout",
     "output_type": "stream",
     "text": [
      "EXTERNAL Label info: Counter({1: 51984, 0: 51881})\n"
     ]
    },
    {
     "name": "stderr",
     "output_type": "stream",
     "text": [
      "100%|██████████| 102/102 [00:05<00:00, 18.60it/s]\n"
     ]
    },
    {
     "name": "stdout",
     "output_type": "stream",
     "text": [
      "tn = 48607, fp = 3274, fn = 8705, tp = 43279\n",
      "y_pred: 0 = 57312 | 1 = 46553\n",
      "y_true: 0 = 51881 | 1 = 51984\n",
      "auc=0.9543|sensitivity=0.8325|specificity=0.9369|acc=0.8847|mcc=0.7736\n",
      "precision=0.9297|recall=0.8325|f1=0.8784|aupr=0.9571\n",
      "Idx1 - model_layer1_multihead1_fold1.pkl: # layer = 1 | # heads = 1 | Fold = 1\n"
     ]
    },
    {
     "name": "stderr",
     "output_type": "stream",
     "text": [
      "  2%|▏         | 2/102 [00:00<00:06, 15.97it/s]"
     ]
    },
    {
     "name": "stdout",
     "output_type": "stream",
     "text": [
      "EXTERNAL Label info: Counter({1: 51984, 0: 51881})\n"
     ]
    },
    {
     "name": "stderr",
     "output_type": "stream",
     "text": [
      "100%|██████████| 102/102 [00:05<00:00, 18.27it/s]\n"
     ]
    },
    {
     "name": "stdout",
     "output_type": "stream",
     "text": [
      "tn = 48349, fp = 3532, fn = 8280, tp = 43704\n",
      "y_pred: 0 = 56629 | 1 = 47236\n",
      "y_true: 0 = 51881 | 1 = 51984\n",
      "auc=0.9542|sensitivity=0.8407|specificity=0.9319|acc=0.8863|mcc=0.7758\n",
      "precision=0.9252|recall=0.8407|f1=0.8810|aupr=0.9571\n",
      "Idx2 - model_layer1_multihead1_fold2.pkl: # layer = 1 | # heads = 1 | Fold = 2\n"
     ]
    },
    {
     "name": "stderr",
     "output_type": "stream",
     "text": [
      "  1%|          | 1/102 [00:00<00:10,  9.62it/s]"
     ]
    },
    {
     "name": "stdout",
     "output_type": "stream",
     "text": [
      "EXTERNAL Label info: Counter({1: 51984, 0: 51881})\n"
     ]
    },
    {
     "name": "stderr",
     "output_type": "stream",
     "text": [
      "100%|██████████| 102/102 [00:05<00:00, 18.37it/s]\n"
     ]
    },
    {
     "name": "stdout",
     "output_type": "stream",
     "text": [
      "tn = 48060, fp = 3821, fn = 7582, tp = 44402\n",
      "y_pred: 0 = 55642 | 1 = 48223\n",
      "y_true: 0 = 51881 | 1 = 51984\n",
      "auc=0.9547|sensitivity=0.8541|specificity=0.9264|acc=0.8902|mcc=0.7825\n",
      "precision=0.9208|recall=0.8541|f1=0.8862|aupr=0.9576\n",
      "Idx3 - model_layer1_multihead1_fold3.pkl: # layer = 1 | # heads = 1 | Fold = 3\n"
     ]
    },
    {
     "name": "stderr",
     "output_type": "stream",
     "text": [
      "  2%|▏         | 2/102 [00:00<00:05, 17.95it/s]"
     ]
    },
    {
     "name": "stdout",
     "output_type": "stream",
     "text": [
      "EXTERNAL Label info: Counter({1: 51984, 0: 51881})\n"
     ]
    },
    {
     "name": "stderr",
     "output_type": "stream",
     "text": [
      "100%|██████████| 102/102 [00:05<00:00, 17.31it/s]\n"
     ]
    },
    {
     "name": "stdout",
     "output_type": "stream",
     "text": [
      "tn = 48823, fp = 3058, fn = 8810, tp = 43174\n",
      "y_pred: 0 = 57633 | 1 = 46232\n",
      "y_true: 0 = 51881 | 1 = 51984\n",
      "auc=0.9544|sensitivity=0.8305|specificity=0.9411|acc=0.8857|mcc=0.7763\n",
      "precision=0.9339|recall=0.8305|f1=0.8792|aupr=0.9572\n",
      "Idx4 - model_layer1_multihead1_fold4.pkl: # layer = 1 | # heads = 1 | Fold = 4\n"
     ]
    },
    {
     "name": "stderr",
     "output_type": "stream",
     "text": [
      "  2%|▏         | 2/102 [00:00<00:05, 17.39it/s]"
     ]
    },
    {
     "name": "stdout",
     "output_type": "stream",
     "text": [
      "EXTERNAL Label info: Counter({1: 51984, 0: 51881})\n"
     ]
    },
    {
     "name": "stderr",
     "output_type": "stream",
     "text": [
      "100%|██████████| 102/102 [00:05<00:00, 19.34it/s]\n"
     ]
    },
    {
     "name": "stdout",
     "output_type": "stream",
     "text": [
      "tn = 48739, fp = 3142, fn = 9649, tp = 42335\n",
      "y_pred: 0 = 58388 | 1 = 45477\n",
      "y_true: 0 = 51881 | 1 = 51984\n",
      "auc=0.9504|sensitivity=0.8144|specificity=0.9394|acc=0.8768|mcc=0.7597\n",
      "precision=0.9309|recall=0.8144|f1=0.8688|aupr=0.9537\n",
      "Idx5 - model_layer1_multihead2_fold0.pkl: # layer = 1 | # heads = 2 | Fold = 0\n"
     ]
    },
    {
     "name": "stderr",
     "output_type": "stream",
     "text": [
      "  2%|▏         | 2/102 [00:00<00:07, 14.16it/s]"
     ]
    },
    {
     "name": "stdout",
     "output_type": "stream",
     "text": [
      "EXTERNAL Label info: Counter({1: 51984, 0: 51881})\n"
     ]
    },
    {
     "name": "stderr",
     "output_type": "stream",
     "text": [
      "100%|██████████| 102/102 [00:06<00:00, 16.23it/s]\n"
     ]
    },
    {
     "name": "stdout",
     "output_type": "stream",
     "text": [
      "tn = 48149, fp = 3732, fn = 8293, tp = 43691\n",
      "y_pred: 0 = 56442 | 1 = 47423\n",
      "y_true: 0 = 51881 | 1 = 51984\n",
      "auc=0.9504|sensitivity=0.8405|specificity=0.9281|acc=0.8842|mcc=0.7714\n",
      "precision=0.9213|recall=0.8405|f1=0.8790|aupr=0.9550\n",
      "Idx6 - model_layer1_multihead2_fold1.pkl: # layer = 1 | # heads = 2 | Fold = 1\n"
     ]
    },
    {
     "name": "stderr",
     "output_type": "stream",
     "text": [
      "  2%|▏         | 2/102 [00:00<00:06, 14.29it/s]"
     ]
    },
    {
     "name": "stdout",
     "output_type": "stream",
     "text": [
      "EXTERNAL Label info: Counter({1: 51984, 0: 51881})\n"
     ]
    },
    {
     "name": "stderr",
     "output_type": "stream",
     "text": [
      "100%|██████████| 102/102 [00:06<00:00, 15.71it/s]\n"
     ]
    },
    {
     "name": "stdout",
     "output_type": "stream",
     "text": [
      "tn = 49124, fp = 2757, fn = 10598, tp = 41386\n",
      "y_pred: 0 = 59722 | 1 = 44143\n",
      "y_true: 0 = 51881 | 1 = 51984\n",
      "auc=0.9506|sensitivity=0.7961|specificity=0.9469|acc=0.8714|mcc=0.7515\n",
      "precision=0.9375|recall=0.7961|f1=0.8611|aupr=0.9526\n",
      "Idx7 - model_layer1_multihead2_fold2.pkl: # layer = 1 | # heads = 2 | Fold = 2\n"
     ]
    },
    {
     "name": "stderr",
     "output_type": "stream",
     "text": [
      "  2%|▏         | 2/102 [00:00<00:07, 13.16it/s]"
     ]
    },
    {
     "name": "stdout",
     "output_type": "stream",
     "text": [
      "EXTERNAL Label info: Counter({1: 51984, 0: 51881})\n"
     ]
    },
    {
     "name": "stderr",
     "output_type": "stream",
     "text": [
      "100%|██████████| 102/102 [00:06<00:00, 16.65it/s]\n"
     ]
    },
    {
     "name": "stdout",
     "output_type": "stream",
     "text": [
      "tn = 48768, fp = 3113, fn = 9988, tp = 41996\n",
      "y_pred: 0 = 58756 | 1 = 45109\n",
      "y_true: 0 = 51881 | 1 = 51984\n",
      "auc=0.9498|sensitivity=0.8079|specificity=0.9400|acc=0.8739|mcc=0.7544\n",
      "precision=0.9310|recall=0.8079|f1=0.8651|aupr=0.9524\n",
      "Idx8 - model_layer1_multihead2_fold3.pkl: # layer = 1 | # heads = 2 | Fold = 3\n"
     ]
    },
    {
     "name": "stderr",
     "output_type": "stream",
     "text": [
      "  2%|▏         | 2/102 [00:00<00:07, 13.67it/s]"
     ]
    },
    {
     "name": "stdout",
     "output_type": "stream",
     "text": [
      "EXTERNAL Label info: Counter({1: 51984, 0: 51881})\n"
     ]
    },
    {
     "name": "stderr",
     "output_type": "stream",
     "text": [
      "100%|██████████| 102/102 [00:06<00:00, 16.00it/s]\n"
     ]
    },
    {
     "name": "stdout",
     "output_type": "stream",
     "text": [
      "tn = 49128, fp = 2753, fn = 10178, tp = 41806\n",
      "y_pred: 0 = 59306 | 1 = 44559\n",
      "y_true: 0 = 51881 | 1 = 51984\n",
      "auc=0.9526|sensitivity=0.8042|specificity=0.9469|acc=0.8755|mcc=0.7588\n",
      "precision=0.9382|recall=0.8042|f1=0.8661|aupr=0.9555\n",
      "Idx9 - model_layer1_multihead2_fold4.pkl: # layer = 1 | # heads = 2 | Fold = 4\n"
     ]
    },
    {
     "name": "stderr",
     "output_type": "stream",
     "text": [
      "  2%|▏         | 2/102 [00:00<00:07, 13.74it/s]"
     ]
    },
    {
     "name": "stdout",
     "output_type": "stream",
     "text": [
      "EXTERNAL Label info: Counter({1: 51984, 0: 51881})\n"
     ]
    },
    {
     "name": "stderr",
     "output_type": "stream",
     "text": [
      "100%|██████████| 102/102 [00:06<00:00, 15.51it/s]\n"
     ]
    },
    {
     "name": "stdout",
     "output_type": "stream",
     "text": [
      "tn = 48730, fp = 3151, fn = 8919, tp = 43065\n",
      "y_pred: 0 = 57649 | 1 = 46216\n",
      "y_true: 0 = 51881 | 1 = 51984\n",
      "auc=0.9525|sensitivity=0.8284|specificity=0.9393|acc=0.8838|mcc=0.7724\n",
      "precision=0.9318|recall=0.8284|f1=0.8771|aupr=0.9553\n",
      "Idx10 - model_layer1_multihead3_fold0.pkl: # layer = 1 | # heads = 3 | Fold = 0\n"
     ]
    },
    {
     "name": "stderr",
     "output_type": "stream",
     "text": [
      "  2%|▏         | 2/102 [00:00<00:08, 12.05it/s]"
     ]
    },
    {
     "name": "stdout",
     "output_type": "stream",
     "text": [
      "EXTERNAL Label info: Counter({1: 51984, 0: 51881})\n"
     ]
    },
    {
     "name": "stderr",
     "output_type": "stream",
     "text": [
      "100%|██████████| 102/102 [00:06<00:00, 15.59it/s]\n"
     ]
    },
    {
     "name": "stdout",
     "output_type": "stream",
     "text": [
      "tn = 48553, fp = 3328, fn = 9135, tp = 42849\n",
      "y_pred: 0 = 57688 | 1 = 46177\n",
      "y_true: 0 = 51881 | 1 = 51984\n",
      "auc=0.9524|sensitivity=0.8243|specificity=0.9359|acc=0.8800|mcc=0.7648\n",
      "precision=0.9279|recall=0.8243|f1=0.8730|aupr=0.9547\n",
      "Idx11 - model_layer1_multihead3_fold1.pkl: # layer = 1 | # heads = 3 | Fold = 1\n"
     ]
    },
    {
     "name": "stderr",
     "output_type": "stream",
     "text": [
      "  2%|▏         | 2/102 [00:00<00:08, 11.69it/s]"
     ]
    },
    {
     "name": "stdout",
     "output_type": "stream",
     "text": [
      "EXTERNAL Label info: Counter({1: 51984, 0: 51881})\n"
     ]
    },
    {
     "name": "stderr",
     "output_type": "stream",
     "text": [
      "100%|██████████| 102/102 [00:07<00:00, 14.10it/s]\n"
     ]
    },
    {
     "name": "stdout",
     "output_type": "stream",
     "text": [
      "tn = 48572, fp = 3309, fn = 8594, tp = 43390\n",
      "y_pred: 0 = 57166 | 1 = 46699\n",
      "y_true: 0 = 51881 | 1 = 51984\n",
      "auc=0.9533|sensitivity=0.8347|specificity=0.9362|acc=0.8854|mcc=0.7748\n",
      "precision=0.9291|recall=0.8347|f1=0.8794|aupr=0.9569\n",
      "Idx12 - model_layer1_multihead3_fold2.pkl: # layer = 1 | # heads = 3 | Fold = 2\n"
     ]
    },
    {
     "name": "stderr",
     "output_type": "stream",
     "text": [
      "  2%|▏         | 2/102 [00:00<00:08, 11.96it/s]"
     ]
    },
    {
     "name": "stdout",
     "output_type": "stream",
     "text": [
      "EXTERNAL Label info: Counter({1: 51984, 0: 51881})\n"
     ]
    },
    {
     "name": "stderr",
     "output_type": "stream",
     "text": [
      "100%|██████████| 102/102 [00:06<00:00, 15.04it/s]\n"
     ]
    },
    {
     "name": "stdout",
     "output_type": "stream",
     "text": [
      "tn = 48146, fp = 3735, fn = 8531, tp = 43453\n",
      "y_pred: 0 = 56677 | 1 = 47188\n",
      "y_true: 0 = 51881 | 1 = 51984\n",
      "auc=0.9509|sensitivity=0.8359|specificity=0.9280|acc=0.8819|mcc=0.7671\n",
      "precision=0.9208|recall=0.8359|f1=0.8763|aupr=0.9541\n",
      "Idx13 - model_layer1_multihead3_fold3.pkl: # layer = 1 | # heads = 3 | Fold = 3\n"
     ]
    },
    {
     "name": "stderr",
     "output_type": "stream",
     "text": [
      "  2%|▏         | 2/102 [00:00<00:08, 11.75it/s]"
     ]
    },
    {
     "name": "stdout",
     "output_type": "stream",
     "text": [
      "EXTERNAL Label info: Counter({1: 51984, 0: 51881})\n"
     ]
    },
    {
     "name": "stderr",
     "output_type": "stream",
     "text": [
      "100%|██████████| 102/102 [00:07<00:00, 14.37it/s]\n"
     ]
    },
    {
     "name": "stdout",
     "output_type": "stream",
     "text": [
      "tn = 49021, fp = 2860, fn = 9611, tp = 42373\n",
      "y_pred: 0 = 58632 | 1 = 45233\n",
      "y_true: 0 = 51881 | 1 = 51984\n",
      "auc=0.9512|sensitivity=0.8151|specificity=0.9449|acc=0.8799|mcc=0.7664\n",
      "precision=0.9368|recall=0.8151|f1=0.8717|aupr=0.9549\n",
      "Idx14 - model_layer1_multihead3_fold4.pkl: # layer = 1 | # heads = 3 | Fold = 4\n"
     ]
    },
    {
     "name": "stderr",
     "output_type": "stream",
     "text": [
      "  2%|▏         | 2/102 [00:00<00:08, 11.17it/s]"
     ]
    },
    {
     "name": "stdout",
     "output_type": "stream",
     "text": [
      "EXTERNAL Label info: Counter({1: 51984, 0: 51881})\n"
     ]
    },
    {
     "name": "stderr",
     "output_type": "stream",
     "text": [
      "100%|██████████| 102/102 [00:07<00:00, 14.53it/s]\n"
     ]
    },
    {
     "name": "stdout",
     "output_type": "stream",
     "text": [
      "tn = 47634, fp = 4247, fn = 7115, tp = 44869\n",
      "y_pred: 0 = 54749 | 1 = 49116\n",
      "y_true: 0 = 51881 | 1 = 51984\n",
      "auc=0.9541|sensitivity=0.8631|specificity=0.9181|acc=0.8906|mcc=0.7824\n",
      "precision=0.9135|recall=0.8631|f1=0.8876|aupr=0.9585\n",
      "Idx15 - model_layer1_multihead4_fold0.pkl: # layer = 1 | # heads = 4 | Fold = 0\n"
     ]
    },
    {
     "name": "stderr",
     "output_type": "stream",
     "text": [
      "  1%|          | 1/102 [00:00<00:10,  9.75it/s]"
     ]
    },
    {
     "name": "stdout",
     "output_type": "stream",
     "text": [
      "EXTERNAL Label info: Counter({1: 51984, 0: 51881})\n"
     ]
    },
    {
     "name": "stderr",
     "output_type": "stream",
     "text": [
      "100%|██████████| 102/102 [00:08<00:00, 11.74it/s]\n"
     ]
    },
    {
     "name": "stdout",
     "output_type": "stream",
     "text": [
      "tn = 48633, fp = 3248, fn = 9149, tp = 42835\n",
      "y_pred: 0 = 57782 | 1 = 46083\n",
      "y_true: 0 = 51881 | 1 = 51984\n",
      "auc=0.9500|sensitivity=0.8240|specificity=0.9374|acc=0.8806|mcc=0.7663\n",
      "precision=0.9295|recall=0.8240|f1=0.8736|aupr=0.9538\n",
      "Idx16 - model_layer1_multihead4_fold1.pkl: # layer = 1 | # heads = 4 | Fold = 1\n"
     ]
    },
    {
     "name": "stderr",
     "output_type": "stream",
     "text": [
      "  2%|▏         | 2/102 [00:00<00:09, 10.40it/s]"
     ]
    },
    {
     "name": "stdout",
     "output_type": "stream",
     "text": [
      "EXTERNAL Label info: Counter({1: 51984, 0: 51881})\n"
     ]
    },
    {
     "name": "stderr",
     "output_type": "stream",
     "text": [
      "100%|██████████| 102/102 [00:08<00:00, 12.03it/s]\n"
     ]
    },
    {
     "name": "stdout",
     "output_type": "stream",
     "text": [
      "tn = 47965, fp = 3916, fn = 7851, tp = 44133\n",
      "y_pred: 0 = 55816 | 1 = 48049\n",
      "y_true: 0 = 51881 | 1 = 51984\n",
      "auc=0.9538|sensitivity=0.8490|specificity=0.9245|acc=0.8867|mcc=0.7757\n",
      "precision=0.9185|recall=0.8490|f1=0.8824|aupr=0.9569\n",
      "Idx17 - model_layer1_multihead4_fold2.pkl: # layer = 1 | # heads = 4 | Fold = 2\n"
     ]
    },
    {
     "name": "stderr",
     "output_type": "stream",
     "text": [
      "  1%|          | 1/102 [00:00<00:10,  9.39it/s]"
     ]
    },
    {
     "name": "stdout",
     "output_type": "stream",
     "text": [
      "EXTERNAL Label info: Counter({1: 51984, 0: 51881})\n"
     ]
    },
    {
     "name": "stderr",
     "output_type": "stream",
     "text": [
      "100%|██████████| 102/102 [00:08<00:00, 11.66it/s]\n"
     ]
    },
    {
     "name": "stdout",
     "output_type": "stream",
     "text": [
      "tn = 48410, fp = 3471, fn = 8050, tp = 43934\n",
      "y_pred: 0 = 56460 | 1 = 47405\n",
      "y_true: 0 = 51881 | 1 = 51984\n",
      "auc=0.9530|sensitivity=0.8451|specificity=0.9331|acc=0.8891|mcc=0.7812\n",
      "precision=0.9268|recall=0.8451|f1=0.8841|aupr=0.9563\n",
      "Idx18 - model_layer1_multihead4_fold3.pkl: # layer = 1 | # heads = 4 | Fold = 3\n"
     ]
    },
    {
     "name": "stderr",
     "output_type": "stream",
     "text": [
      "  1%|          | 1/102 [00:00<00:10,  9.77it/s]"
     ]
    },
    {
     "name": "stdout",
     "output_type": "stream",
     "text": [
      "EXTERNAL Label info: Counter({1: 51984, 0: 51881})\n"
     ]
    },
    {
     "name": "stderr",
     "output_type": "stream",
     "text": [
      "100%|██████████| 102/102 [00:08<00:00, 11.49it/s]\n"
     ]
    },
    {
     "name": "stdout",
     "output_type": "stream",
     "text": [
      "tn = 48541, fp = 3340, fn = 8859, tp = 43125\n",
      "y_pred: 0 = 57400 | 1 = 46465\n",
      "y_true: 0 = 51881 | 1 = 51984\n",
      "auc=0.9489|sensitivity=0.8296|specificity=0.9356|acc=0.8825|mcc=0.7695\n",
      "precision=0.9281|recall=0.8296|f1=0.8761|aupr=0.9540\n",
      "Idx19 - model_layer1_multihead4_fold4.pkl: # layer = 1 | # heads = 4 | Fold = 4\n"
     ]
    },
    {
     "name": "stderr",
     "output_type": "stream",
     "text": [
      "  1%|          | 1/102 [00:00<00:10,  9.20it/s]"
     ]
    },
    {
     "name": "stdout",
     "output_type": "stream",
     "text": [
      "EXTERNAL Label info: Counter({1: 51984, 0: 51881})\n"
     ]
    },
    {
     "name": "stderr",
     "output_type": "stream",
     "text": [
      "100%|██████████| 102/102 [00:08<00:00, 11.95it/s]\n"
     ]
    },
    {
     "name": "stdout",
     "output_type": "stream",
     "text": [
      "tn = 47499, fp = 4382, fn = 8004, tp = 43980\n",
      "y_pred: 0 = 55503 | 1 = 48362\n",
      "y_true: 0 = 51881 | 1 = 51984\n",
      "auc=0.9473|sensitivity=0.8460|specificity=0.9155|acc=0.8807|mcc=0.7634\n",
      "precision=0.9094|recall=0.8460|f1=0.8766|aupr=0.9514\n",
      "Idx20 - model_layer1_multihead5_fold0.pkl: # layer = 1 | # heads = 5 | Fold = 0\n"
     ]
    },
    {
     "name": "stderr",
     "output_type": "stream",
     "text": [
      "  1%|          | 1/102 [00:00<00:11,  8.61it/s]"
     ]
    },
    {
     "name": "stdout",
     "output_type": "stream",
     "text": [
      "EXTERNAL Label info: Counter({1: 51984, 0: 51881})\n"
     ]
    },
    {
     "name": "stderr",
     "output_type": "stream",
     "text": [
      "100%|██████████| 102/102 [00:09<00:00, 10.50it/s]\n"
     ]
    },
    {
     "name": "stdout",
     "output_type": "stream",
     "text": [
      "tn = 48037, fp = 3844, fn = 7899, tp = 44085\n",
      "y_pred: 0 = 55936 | 1 = 47929\n",
      "y_true: 0 = 51881 | 1 = 51984\n",
      "auc=0.9544|sensitivity=0.8480|specificity=0.9259|acc=0.8869|mcc=0.7763\n",
      "precision=0.9198|recall=0.8480|f1=0.8825|aupr=0.9568\n",
      "Idx21 - model_layer1_multihead5_fold1.pkl: # layer = 1 | # heads = 5 | Fold = 1\n"
     ]
    },
    {
     "name": "stderr",
     "output_type": "stream",
     "text": [
      "  1%|          | 1/102 [00:00<00:12,  8.24it/s]"
     ]
    },
    {
     "name": "stdout",
     "output_type": "stream",
     "text": [
      "EXTERNAL Label info: Counter({1: 51984, 0: 51881})\n"
     ]
    },
    {
     "name": "stderr",
     "output_type": "stream",
     "text": [
      "100%|██████████| 102/102 [00:10<00:00,  9.56it/s]\n"
     ]
    },
    {
     "name": "stdout",
     "output_type": "stream",
     "text": [
      "tn = 48173, fp = 3708, fn = 7835, tp = 44149\n",
      "y_pred: 0 = 56008 | 1 = 47857\n",
      "y_true: 0 = 51881 | 1 = 51984\n",
      "auc=0.9546|sensitivity=0.8493|specificity=0.9285|acc=0.8889|mcc=0.7802\n",
      "precision=0.9225|recall=0.8493|f1=0.8844|aupr=0.9576\n",
      "Idx22 - model_layer1_multihead5_fold2.pkl: # layer = 1 | # heads = 5 | Fold = 2\n"
     ]
    },
    {
     "name": "stderr",
     "output_type": "stream",
     "text": [
      "  1%|          | 1/102 [00:00<00:11,  8.62it/s]"
     ]
    },
    {
     "name": "stdout",
     "output_type": "stream",
     "text": [
      "EXTERNAL Label info: Counter({1: 51984, 0: 51881})\n"
     ]
    },
    {
     "name": "stderr",
     "output_type": "stream",
     "text": [
      "100%|██████████| 102/102 [00:09<00:00, 10.53it/s]\n"
     ]
    },
    {
     "name": "stdout",
     "output_type": "stream",
     "text": [
      "tn = 47967, fp = 3914, fn = 8006, tp = 43978\n",
      "y_pred: 0 = 55973 | 1 = 47892\n",
      "y_true: 0 = 51881 | 1 = 51984\n",
      "auc=0.9519|sensitivity=0.8460|specificity=0.9246|acc=0.8852|mcc=0.7729\n",
      "precision=0.9183|recall=0.8460|f1=0.8807|aupr=0.9553\n",
      "Idx23 - model_layer1_multihead5_fold3.pkl: # layer = 1 | # heads = 5 | Fold = 3\n"
     ]
    },
    {
     "name": "stderr",
     "output_type": "stream",
     "text": [
      "  1%|          | 1/102 [00:00<00:11,  8.47it/s]"
     ]
    },
    {
     "name": "stdout",
     "output_type": "stream",
     "text": [
      "EXTERNAL Label info: Counter({1: 51984, 0: 51881})\n"
     ]
    },
    {
     "name": "stderr",
     "output_type": "stream",
     "text": [
      "100%|██████████| 102/102 [00:10<00:00,  9.93it/s]\n"
     ]
    },
    {
     "name": "stdout",
     "output_type": "stream",
     "text": [
      "tn = 48573, fp = 3308, fn = 8586, tp = 43398\n",
      "y_pred: 0 = 57159 | 1 = 46706\n",
      "y_true: 0 = 51881 | 1 = 51984\n",
      "auc=0.9516|sensitivity=0.8348|specificity=0.9362|acc=0.8855|mcc=0.7750\n",
      "precision=0.9292|recall=0.8348|f1=0.8795|aupr=0.9553\n",
      "Idx24 - model_layer1_multihead5_fold4.pkl: # layer = 1 | # heads = 5 | Fold = 4\n"
     ]
    },
    {
     "name": "stderr",
     "output_type": "stream",
     "text": [
      "  1%|          | 1/102 [00:00<00:12,  8.32it/s]"
     ]
    },
    {
     "name": "stdout",
     "output_type": "stream",
     "text": [
      "EXTERNAL Label info: Counter({1: 51984, 0: 51881})\n"
     ]
    },
    {
     "name": "stderr",
     "output_type": "stream",
     "text": [
      "100%|██████████| 102/102 [00:10<00:00,  9.98it/s]\n"
     ]
    },
    {
     "name": "stdout",
     "output_type": "stream",
     "text": [
      "tn = 48133, fp = 3748, fn = 8462, tp = 43522\n",
      "y_pred: 0 = 56595 | 1 = 47270\n",
      "y_true: 0 = 51881 | 1 = 51984\n",
      "auc=0.9504|sensitivity=0.8372|specificity=0.9278|acc=0.8824|mcc=0.7681\n",
      "precision=0.9207|recall=0.8372|f1=0.8770|aupr=0.9536\n",
      "Idx25 - model_layer1_multihead6_fold0.pkl: # layer = 1 | # heads = 6 | Fold = 0\n"
     ]
    },
    {
     "name": "stderr",
     "output_type": "stream",
     "text": [
      "  1%|          | 1/102 [00:00<00:13,  7.44it/s]"
     ]
    },
    {
     "name": "stdout",
     "output_type": "stream",
     "text": [
      "EXTERNAL Label info: Counter({1: 51984, 0: 51881})\n"
     ]
    },
    {
     "name": "stderr",
     "output_type": "stream",
     "text": [
      "100%|██████████| 102/102 [00:11<00:00,  9.25it/s]\n"
     ]
    },
    {
     "name": "stdout",
     "output_type": "stream",
     "text": [
      "tn = 48410, fp = 3471, fn = 9182, tp = 42802\n",
      "y_pred: 0 = 57592 | 1 = 46273\n",
      "y_true: 0 = 51881 | 1 = 51984\n",
      "auc=0.9500|sensitivity=0.8234|specificity=0.9331|acc=0.8782|mcc=0.7610\n",
      "precision=0.9250|recall=0.8234|f1=0.8712|aupr=0.9528\n",
      "Idx26 - model_layer1_multihead6_fold1.pkl: # layer = 1 | # heads = 6 | Fold = 1\n"
     ]
    },
    {
     "name": "stderr",
     "output_type": "stream",
     "text": [
      "  1%|          | 1/102 [00:00<00:13,  7.46it/s]"
     ]
    },
    {
     "name": "stdout",
     "output_type": "stream",
     "text": [
      "EXTERNAL Label info: Counter({1: 51984, 0: 51881})\n"
     ]
    },
    {
     "name": "stderr",
     "output_type": "stream",
     "text": [
      "100%|██████████| 102/102 [00:11<00:00,  8.96it/s]\n"
     ]
    },
    {
     "name": "stdout",
     "output_type": "stream",
     "text": [
      "tn = 48676, fp = 3205, fn = 8707, tp = 43277\n",
      "y_pred: 0 = 57383 | 1 = 46482\n",
      "y_true: 0 = 51881 | 1 = 51984\n",
      "auc=0.9555|sensitivity=0.8325|specificity=0.9382|acc=0.8853|mcc=0.7750\n",
      "precision=0.9310|recall=0.8325|f1=0.8790|aupr=0.9580\n",
      "Idx27 - model_layer1_multihead6_fold2.pkl: # layer = 1 | # heads = 6 | Fold = 2\n"
     ]
    },
    {
     "name": "stderr",
     "output_type": "stream",
     "text": [
      "  1%|          | 1/102 [00:00<00:12,  7.93it/s]"
     ]
    },
    {
     "name": "stdout",
     "output_type": "stream",
     "text": [
      "EXTERNAL Label info: Counter({1: 51984, 0: 51881})\n"
     ]
    },
    {
     "name": "stderr",
     "output_type": "stream",
     "text": [
      "100%|██████████| 102/102 [00:10<00:00,  9.74it/s]\n"
     ]
    },
    {
     "name": "stdout",
     "output_type": "stream",
     "text": [
      "tn = 48125, fp = 3756, fn = 7810, tp = 44174\n",
      "y_pred: 0 = 55935 | 1 = 47930\n",
      "y_true: 0 = 51881 | 1 = 51984\n",
      "auc=0.9541|sensitivity=0.8498|specificity=0.9276|acc=0.8886|mcc=0.7797\n",
      "precision=0.9216|recall=0.8498|f1=0.8842|aupr=0.9568\n",
      "Idx28 - model_layer1_multihead6_fold3.pkl: # layer = 1 | # heads = 6 | Fold = 3\n"
     ]
    },
    {
     "name": "stderr",
     "output_type": "stream",
     "text": [
      "  1%|          | 1/102 [00:00<00:12,  7.94it/s]"
     ]
    },
    {
     "name": "stdout",
     "output_type": "stream",
     "text": [
      "EXTERNAL Label info: Counter({1: 51984, 0: 51881})\n"
     ]
    },
    {
     "name": "stderr",
     "output_type": "stream",
     "text": [
      "100%|██████████| 102/102 [00:10<00:00,  9.29it/s]\n"
     ]
    },
    {
     "name": "stdout",
     "output_type": "stream",
     "text": [
      "tn = 48282, fp = 3599, fn = 8212, tp = 43772\n",
      "y_pred: 0 = 56494 | 1 = 47371\n",
      "y_true: 0 = 51881 | 1 = 51984\n",
      "auc=0.9513|sensitivity=0.8420|specificity=0.9306|acc=0.8863|mcc=0.7757\n",
      "precision=0.9240|recall=0.8420|f1=0.8811|aupr=0.9552\n",
      "Idx29 - model_layer1_multihead6_fold4.pkl: # layer = 1 | # heads = 6 | Fold = 4\n"
     ]
    },
    {
     "name": "stderr",
     "output_type": "stream",
     "text": [
      "  1%|          | 1/102 [00:00<00:12,  8.09it/s]"
     ]
    },
    {
     "name": "stdout",
     "output_type": "stream",
     "text": [
      "EXTERNAL Label info: Counter({1: 51984, 0: 51881})\n"
     ]
    },
    {
     "name": "stderr",
     "output_type": "stream",
     "text": [
      "100%|██████████| 102/102 [00:10<00:00,  9.35it/s]\n"
     ]
    },
    {
     "name": "stdout",
     "output_type": "stream",
     "text": [
      "tn = 48320, fp = 3561, fn = 7953, tp = 44031\n",
      "y_pred: 0 = 56273 | 1 = 47592\n",
      "y_true: 0 = 51881 | 1 = 51984\n",
      "auc=0.9548|sensitivity=0.8470|specificity=0.9314|acc=0.8891|mcc=0.7811\n",
      "precision=0.9252|recall=0.8470|f1=0.8844|aupr=0.9574\n",
      "Idx30 - model_layer1_multihead7_fold0.pkl: # layer = 1 | # heads = 7 | Fold = 0\n"
     ]
    },
    {
     "name": "stderr",
     "output_type": "stream",
     "text": [
      "  1%|          | 1/102 [00:00<00:14,  7.12it/s]"
     ]
    },
    {
     "name": "stdout",
     "output_type": "stream",
     "text": [
      "EXTERNAL Label info: Counter({1: 51984, 0: 51881})\n"
     ]
    },
    {
     "name": "stderr",
     "output_type": "stream",
     "text": [
      "100%|██████████| 102/102 [00:12<00:00,  8.22it/s]\n"
     ]
    },
    {
     "name": "stdout",
     "output_type": "stream",
     "text": [
      "tn = 47882, fp = 3999, fn = 7414, tp = 44570\n",
      "y_pred: 0 = 55296 | 1 = 48569\n",
      "y_true: 0 = 51881 | 1 = 51984\n",
      "auc=0.9549|sensitivity=0.8574|specificity=0.9229|acc=0.8901|mcc=0.7819\n",
      "precision=0.9177|recall=0.8574|f1=0.8865|aupr=0.9569\n",
      "Idx31 - model_layer1_multihead7_fold1.pkl: # layer = 1 | # heads = 7 | Fold = 1\n"
     ]
    },
    {
     "name": "stderr",
     "output_type": "stream",
     "text": [
      "  1%|          | 1/102 [00:00<00:13,  7.35it/s]"
     ]
    },
    {
     "name": "stdout",
     "output_type": "stream",
     "text": [
      "EXTERNAL Label info: Counter({1: 51984, 0: 51881})\n"
     ]
    },
    {
     "name": "stderr",
     "output_type": "stream",
     "text": [
      "100%|██████████| 102/102 [00:12<00:00,  8.26it/s]\n"
     ]
    },
    {
     "name": "stdout",
     "output_type": "stream",
     "text": [
      "tn = 49092, fp = 2789, fn = 9940, tp = 42044\n",
      "y_pred: 0 = 59032 | 1 = 44833\n",
      "y_true: 0 = 51881 | 1 = 51984\n",
      "auc=0.9505|sensitivity=0.8088|specificity=0.9462|acc=0.8774|mcc=0.7622\n",
      "precision=0.9378|recall=0.8088|f1=0.8685|aupr=0.9528\n",
      "Idx32 - model_layer1_multihead7_fold2.pkl: # layer = 1 | # heads = 7 | Fold = 2\n"
     ]
    },
    {
     "name": "stderr",
     "output_type": "stream",
     "text": [
      "  1%|          | 1/102 [00:00<00:13,  7.48it/s]"
     ]
    },
    {
     "name": "stdout",
     "output_type": "stream",
     "text": [
      "EXTERNAL Label info: Counter({1: 51984, 0: 51881})\n"
     ]
    },
    {
     "name": "stderr",
     "output_type": "stream",
     "text": [
      "100%|██████████| 102/102 [00:12<00:00,  8.30it/s]\n"
     ]
    },
    {
     "name": "stdout",
     "output_type": "stream",
     "text": [
      "tn = 48141, fp = 3740, fn = 8840, tp = 43144\n",
      "y_pred: 0 = 56981 | 1 = 46884\n",
      "y_true: 0 = 51881 | 1 = 51984\n",
      "auc=0.9469|sensitivity=0.8299|specificity=0.9279|acc=0.8789|mcc=0.7615\n",
      "precision=0.9202|recall=0.8299|f1=0.8728|aupr=0.9514\n",
      "Idx33 - model_layer1_multihead7_fold3.pkl: # layer = 1 | # heads = 7 | Fold = 3\n"
     ]
    },
    {
     "name": "stderr",
     "output_type": "stream",
     "text": [
      "  1%|          | 1/102 [00:00<00:13,  7.67it/s]"
     ]
    },
    {
     "name": "stdout",
     "output_type": "stream",
     "text": [
      "EXTERNAL Label info: Counter({1: 51984, 0: 51881})\n"
     ]
    },
    {
     "name": "stderr",
     "output_type": "stream",
     "text": [
      "100%|██████████| 102/102 [00:11<00:00,  8.63it/s]\n"
     ]
    },
    {
     "name": "stdout",
     "output_type": "stream",
     "text": [
      "tn = 48714, fp = 3167, fn = 9205, tp = 42779\n",
      "y_pred: 0 = 57919 | 1 = 45946\n",
      "y_true: 0 = 51881 | 1 = 51984\n",
      "auc=0.9518|sensitivity=0.8229|specificity=0.9390|acc=0.8809|mcc=0.7670\n",
      "precision=0.9311|recall=0.8229|f1=0.8737|aupr=0.9547\n",
      "Idx34 - model_layer1_multihead7_fold4.pkl: # layer = 1 | # heads = 7 | Fold = 4\n"
     ]
    },
    {
     "name": "stderr",
     "output_type": "stream",
     "text": [
      "  1%|          | 1/102 [00:00<00:13,  7.61it/s]"
     ]
    },
    {
     "name": "stdout",
     "output_type": "stream",
     "text": [
      "EXTERNAL Label info: Counter({1: 51984, 0: 51881})\n"
     ]
    },
    {
     "name": "stderr",
     "output_type": "stream",
     "text": [
      "100%|██████████| 102/102 [00:11<00:00,  8.62it/s]\n"
     ]
    },
    {
     "name": "stdout",
     "output_type": "stream",
     "text": [
      "tn = 48660, fp = 3221, fn = 8762, tp = 43222\n",
      "y_pred: 0 = 57422 | 1 = 46443\n",
      "y_true: 0 = 51881 | 1 = 51984\n",
      "auc=0.9531|sensitivity=0.8314|specificity=0.9379|acc=0.8846|mcc=0.7737\n",
      "precision=0.9306|recall=0.8314|f1=0.8783|aupr=0.9571\n",
      "Idx35 - model_layer1_multihead8_fold0.pkl: # layer = 1 | # heads = 8 | Fold = 0\n"
     ]
    },
    {
     "name": "stderr",
     "output_type": "stream",
     "text": [
      "  1%|          | 1/102 [00:00<00:14,  7.01it/s]"
     ]
    },
    {
     "name": "stdout",
     "output_type": "stream",
     "text": [
      "EXTERNAL Label info: Counter({1: 51984, 0: 51881})\n"
     ]
    },
    {
     "name": "stderr",
     "output_type": "stream",
     "text": [
      "100%|██████████| 102/102 [00:13<00:00,  7.66it/s]\n"
     ]
    },
    {
     "name": "stdout",
     "output_type": "stream",
     "text": [
      "tn = 48876, fp = 3005, fn = 9684, tp = 42300\n",
      "y_pred: 0 = 58560 | 1 = 45305\n",
      "y_true: 0 = 51881 | 1 = 51984\n",
      "auc=0.9519|sensitivity=0.8137|specificity=0.9421|acc=0.8778|mcc=0.7620\n",
      "precision=0.9337|recall=0.8137|f1=0.8696|aupr=0.9537\n",
      "Idx36 - model_layer1_multihead8_fold1.pkl: # layer = 1 | # heads = 8 | Fold = 1\n"
     ]
    },
    {
     "name": "stderr",
     "output_type": "stream",
     "text": [
      "  1%|          | 1/102 [00:00<00:13,  7.37it/s]"
     ]
    },
    {
     "name": "stdout",
     "output_type": "stream",
     "text": [
      "EXTERNAL Label info: Counter({1: 51984, 0: 51881})\n"
     ]
    },
    {
     "name": "stderr",
     "output_type": "stream",
     "text": [
      "100%|██████████| 102/102 [00:13<00:00,  7.60it/s]\n"
     ]
    },
    {
     "name": "stdout",
     "output_type": "stream",
     "text": [
      "tn = 49088, fp = 2793, fn = 9500, tp = 42484\n",
      "y_pred: 0 = 58588 | 1 = 45277\n",
      "y_true: 0 = 51881 | 1 = 51984\n",
      "auc=0.9539|sensitivity=0.8173|specificity=0.9462|acc=0.8816|mcc=0.7698\n",
      "precision=0.9383|recall=0.8173|f1=0.8736|aupr=0.9574\n",
      "Idx37 - model_layer1_multihead8_fold2.pkl: # layer = 1 | # heads = 8 | Fold = 2\n"
     ]
    },
    {
     "name": "stderr",
     "output_type": "stream",
     "text": [
      "  1%|          | 1/102 [00:00<00:14,  7.07it/s]"
     ]
    },
    {
     "name": "stdout",
     "output_type": "stream",
     "text": [
      "EXTERNAL Label info: Counter({1: 51984, 0: 51881})\n"
     ]
    },
    {
     "name": "stderr",
     "output_type": "stream",
     "text": [
      "100%|██████████| 102/102 [00:13<00:00,  7.75it/s]\n"
     ]
    },
    {
     "name": "stdout",
     "output_type": "stream",
     "text": [
      "tn = 48922, fp = 2959, fn = 9564, tp = 42420\n",
      "y_pred: 0 = 58486 | 1 = 45379\n",
      "y_true: 0 = 51881 | 1 = 51984\n",
      "auc=0.9538|sensitivity=0.8160|specificity=0.9430|acc=0.8794|mcc=0.7651\n",
      "precision=0.9348|recall=0.8160|f1=0.8714|aupr=0.9557\n",
      "Idx38 - model_layer1_multihead8_fold3.pkl: # layer = 1 | # heads = 8 | Fold = 3\n"
     ]
    },
    {
     "name": "stderr",
     "output_type": "stream",
     "text": [
      "  1%|          | 1/102 [00:00<00:15,  6.50it/s]"
     ]
    },
    {
     "name": "stdout",
     "output_type": "stream",
     "text": [
      "EXTERNAL Label info: Counter({1: 51984, 0: 51881})\n"
     ]
    },
    {
     "name": "stderr",
     "output_type": "stream",
     "text": [
      "100%|██████████| 102/102 [00:13<00:00,  7.56it/s]\n"
     ]
    },
    {
     "name": "stdout",
     "output_type": "stream",
     "text": [
      "tn = 48236, fp = 3645, fn = 8574, tp = 43410\n",
      "y_pred: 0 = 56810 | 1 = 47055\n",
      "y_true: 0 = 51881 | 1 = 51984\n",
      "auc=0.9506|sensitivity=0.8351|specificity=0.9297|acc=0.8824|mcc=0.7682\n",
      "precision=0.9225|recall=0.8351|f1=0.8766|aupr=0.9544\n",
      "Idx39 - model_layer1_multihead8_fold4.pkl: # layer = 1 | # heads = 8 | Fold = 4\n"
     ]
    },
    {
     "name": "stderr",
     "output_type": "stream",
     "text": [
      "  1%|          | 1/102 [00:00<00:14,  6.88it/s]"
     ]
    },
    {
     "name": "stdout",
     "output_type": "stream",
     "text": [
      "EXTERNAL Label info: Counter({1: 51984, 0: 51881})\n"
     ]
    },
    {
     "name": "stderr",
     "output_type": "stream",
     "text": [
      "100%|██████████| 102/102 [00:13<00:00,  7.77it/s]\n"
     ]
    },
    {
     "name": "stdout",
     "output_type": "stream",
     "text": [
      "tn = 48683, fp = 3198, fn = 9420, tp = 42564\n",
      "y_pred: 0 = 58103 | 1 = 45762\n",
      "y_true: 0 = 51881 | 1 = 51984\n",
      "auc=0.9468|sensitivity=0.8188|specificity=0.9384|acc=0.8785|mcc=0.7626\n",
      "precision=0.9301|recall=0.8188|f1=0.8709|aupr=0.9522\n",
      "Idx40 - model_layer1_multihead9_fold0.pkl: # layer = 1 | # heads = 9 | Fold = 0\n"
     ]
    },
    {
     "name": "stderr",
     "output_type": "stream",
     "text": [
      "  1%|          | 1/102 [00:00<00:16,  6.16it/s]"
     ]
    },
    {
     "name": "stdout",
     "output_type": "stream",
     "text": [
      "EXTERNAL Label info: Counter({1: 51984, 0: 51881})\n"
     ]
    },
    {
     "name": "stderr",
     "output_type": "stream",
     "text": [
      "100%|██████████| 102/102 [00:14<00:00,  7.01it/s]\n"
     ]
    },
    {
     "name": "stdout",
     "output_type": "stream",
     "text": [
      "tn = 48140, fp = 3741, fn = 8463, tp = 43521\n",
      "y_pred: 0 = 56603 | 1 = 47262\n",
      "y_true: 0 = 51881 | 1 = 51984\n",
      "auc=0.9497|sensitivity=0.8372|specificity=0.9279|acc=0.8825|mcc=0.7682\n",
      "precision=0.9208|recall=0.8372|f1=0.8770|aupr=0.9525\n",
      "Idx41 - model_layer1_multihead9_fold1.pkl: # layer = 1 | # heads = 9 | Fold = 1\n"
     ]
    },
    {
     "name": "stderr",
     "output_type": "stream",
     "text": [
      "  1%|          | 1/102 [00:00<00:15,  6.33it/s]"
     ]
    },
    {
     "name": "stdout",
     "output_type": "stream",
     "text": [
      "EXTERNAL Label info: Counter({1: 51984, 0: 51881})\n"
     ]
    },
    {
     "name": "stderr",
     "output_type": "stream",
     "text": [
      "100%|██████████| 102/102 [00:13<00:00,  7.33it/s]\n"
     ]
    },
    {
     "name": "stdout",
     "output_type": "stream",
     "text": [
      "tn = 47946, fp = 3935, fn = 7711, tp = 44273\n",
      "y_pred: 0 = 55657 | 1 = 48208\n",
      "y_true: 0 = 51881 | 1 = 51984\n",
      "auc=0.9514|sensitivity=0.8517|specificity=0.9242|acc=0.8879|mcc=0.7778\n",
      "precision=0.9184|recall=0.8517|f1=0.8838|aupr=0.9558\n",
      "Idx42 - model_layer1_multihead9_fold2.pkl: # layer = 1 | # heads = 9 | Fold = 2\n"
     ]
    },
    {
     "name": "stderr",
     "output_type": "stream",
     "text": [
      "  1%|          | 1/102 [00:00<00:15,  6.59it/s]"
     ]
    },
    {
     "name": "stdout",
     "output_type": "stream",
     "text": [
      "EXTERNAL Label info: Counter({1: 51984, 0: 51881})\n"
     ]
    },
    {
     "name": "stderr",
     "output_type": "stream",
     "text": [
      "100%|██████████| 102/102 [00:13<00:00,  7.60it/s]\n"
     ]
    },
    {
     "name": "stdout",
     "output_type": "stream",
     "text": [
      "tn = 48214, fp = 3667, fn = 8114, tp = 43870\n",
      "y_pred: 0 = 56328 | 1 = 47537\n",
      "y_true: 0 = 51881 | 1 = 51984\n",
      "auc=0.9518|sensitivity=0.8439|specificity=0.9293|acc=0.8866|mcc=0.7760\n",
      "precision=0.9229|recall=0.8439|f1=0.8816|aupr=0.9558\n",
      "Idx43 - model_layer1_multihead9_fold3.pkl: # layer = 1 | # heads = 9 | Fold = 3\n"
     ]
    },
    {
     "name": "stderr",
     "output_type": "stream",
     "text": [
      "  1%|          | 1/102 [00:00<00:15,  6.48it/s]"
     ]
    },
    {
     "name": "stdout",
     "output_type": "stream",
     "text": [
      "EXTERNAL Label info: Counter({1: 51984, 0: 51881})\n"
     ]
    },
    {
     "name": "stderr",
     "output_type": "stream",
     "text": [
      "100%|██████████| 102/102 [00:14<00:00,  7.12it/s]\n"
     ]
    },
    {
     "name": "stdout",
     "output_type": "stream",
     "text": [
      "tn = 48738, fp = 3143, fn = 9200, tp = 42784\n",
      "y_pred: 0 = 57938 | 1 = 45927\n",
      "y_true: 0 = 51881 | 1 = 51984\n",
      "auc=0.9498|sensitivity=0.8230|specificity=0.9394|acc=0.8812|mcc=0.7676\n",
      "precision=0.9316|recall=0.8230|f1=0.8739|aupr=0.9540\n",
      "Idx44 - model_layer1_multihead9_fold4.pkl: # layer = 1 | # heads = 9 | Fold = 4\n"
     ]
    },
    {
     "name": "stderr",
     "output_type": "stream",
     "text": [
      "  1%|          | 1/102 [00:00<00:15,  6.43it/s]"
     ]
    },
    {
     "name": "stdout",
     "output_type": "stream",
     "text": [
      "EXTERNAL Label info: Counter({1: 51984, 0: 51881})\n"
     ]
    },
    {
     "name": "stderr",
     "output_type": "stream",
     "text": [
      "100%|██████████| 102/102 [00:13<00:00,  7.53it/s]\n"
     ]
    },
    {
     "name": "stdout",
     "output_type": "stream",
     "text": [
      "tn = 49362, fp = 2519, fn = 10108, tp = 41876\n",
      "y_pred: 0 = 59470 | 1 = 44395\n",
      "y_true: 0 = 51881 | 1 = 51984\n",
      "auc=0.9505|sensitivity=0.8056|specificity=0.9514|acc=0.8784|mcc=0.7651\n",
      "precision=0.9433|recall=0.8056|f1=0.8690|aupr=0.9552\n",
      "Idx45 - model_layer1_multihead10_fold0.pkl: # layer = 1 | # heads = 10 | Fold = 0\n"
     ]
    },
    {
     "name": "stderr",
     "output_type": "stream",
     "text": [
      "  1%|          | 1/102 [00:00<00:16,  6.25it/s]"
     ]
    },
    {
     "name": "stdout",
     "output_type": "stream",
     "text": [
      "EXTERNAL Label info: Counter({1: 51984, 0: 51881})\n"
     ]
    },
    {
     "name": "stderr",
     "output_type": "stream",
     "text": [
      "100%|██████████| 102/102 [00:14<00:00,  6.83it/s]\n"
     ]
    },
    {
     "name": "stdout",
     "output_type": "stream",
     "text": [
      "tn = 47696, fp = 4185, fn = 7666, tp = 44318\n",
      "y_pred: 0 = 55362 | 1 = 48503\n",
      "y_true: 0 = 51881 | 1 = 51984\n",
      "auc=0.9529|sensitivity=0.8525|specificity=0.9193|acc=0.8859|mcc=0.7736\n",
      "precision=0.9137|recall=0.8525|f1=0.8821|aupr=0.9555\n",
      "Idx46 - model_layer1_multihead10_fold1.pkl: # layer = 1 | # heads = 10 | Fold = 1\n"
     ]
    },
    {
     "name": "stderr",
     "output_type": "stream",
     "text": [
      "  1%|          | 1/102 [00:00<00:16,  6.02it/s]"
     ]
    },
    {
     "name": "stdout",
     "output_type": "stream",
     "text": [
      "EXTERNAL Label info: Counter({1: 51984, 0: 51881})\n"
     ]
    },
    {
     "name": "stderr",
     "output_type": "stream",
     "text": [
      "100%|██████████| 102/102 [00:14<00:00,  7.09it/s]\n"
     ]
    },
    {
     "name": "stdout",
     "output_type": "stream",
     "text": [
      "tn = 48268, fp = 3613, fn = 8018, tp = 43966\n",
      "y_pred: 0 = 56286 | 1 = 47579\n",
      "y_true: 0 = 51881 | 1 = 51984\n",
      "auc=0.9531|sensitivity=0.8458|specificity=0.9304|acc=0.8880|mcc=0.7789\n",
      "precision=0.9241|recall=0.8458|f1=0.8832|aupr=0.9568\n",
      "Idx47 - model_layer1_multihead10_fold2.pkl: # layer = 1 | # heads = 10 | Fold = 2\n"
     ]
    },
    {
     "name": "stderr",
     "output_type": "stream",
     "text": [
      "  1%|          | 1/102 [00:00<00:18,  5.39it/s]"
     ]
    },
    {
     "name": "stdout",
     "output_type": "stream",
     "text": [
      "EXTERNAL Label info: Counter({1: 51984, 0: 51881})\n"
     ]
    },
    {
     "name": "stderr",
     "output_type": "stream",
     "text": [
      "100%|██████████| 102/102 [00:14<00:00,  6.91it/s]\n"
     ]
    },
    {
     "name": "stdout",
     "output_type": "stream",
     "text": [
      "tn = 48010, fp = 3871, fn = 8651, tp = 43333\n",
      "y_pred: 0 = 56661 | 1 = 47204\n",
      "y_true: 0 = 51881 | 1 = 51984\n",
      "auc=0.9464|sensitivity=0.8336|specificity=0.9254|acc=0.8794|mcc=0.7621\n",
      "precision=0.9180|recall=0.8336|f1=0.8738|aupr=0.9512\n",
      "Idx48 - model_layer1_multihead10_fold3.pkl: # layer = 1 | # heads = 10 | Fold = 3\n"
     ]
    },
    {
     "name": "stderr",
     "output_type": "stream",
     "text": [
      "  1%|          | 1/102 [00:00<00:16,  5.97it/s]"
     ]
    },
    {
     "name": "stdout",
     "output_type": "stream",
     "text": [
      "EXTERNAL Label info: Counter({1: 51984, 0: 51881})\n"
     ]
    },
    {
     "name": "stderr",
     "output_type": "stream",
     "text": [
      "100%|██████████| 102/102 [00:14<00:00,  6.90it/s]\n"
     ]
    },
    {
     "name": "stdout",
     "output_type": "stream",
     "text": [
      "tn = 48957, fp = 2924, fn = 9753, tp = 42231\n",
      "y_pred: 0 = 58710 | 1 = 45155\n",
      "y_true: 0 = 51881 | 1 = 51984\n",
      "auc=0.9491|sensitivity=0.8124|specificity=0.9436|acc=0.8779|mcc=0.7625\n",
      "precision=0.9352|recall=0.8124|f1=0.8695|aupr=0.9526\n",
      "Idx49 - model_layer1_multihead10_fold4.pkl: # layer = 1 | # heads = 10 | Fold = 4\n"
     ]
    },
    {
     "name": "stderr",
     "output_type": "stream",
     "text": [
      "  1%|          | 1/102 [00:00<00:16,  6.19it/s]"
     ]
    },
    {
     "name": "stdout",
     "output_type": "stream",
     "text": [
      "EXTERNAL Label info: Counter({1: 51984, 0: 51881})\n"
     ]
    },
    {
     "name": "stderr",
     "output_type": "stream",
     "text": [
      "100%|██████████| 102/102 [00:14<00:00,  7.05it/s]\n"
     ]
    },
    {
     "name": "stdout",
     "output_type": "stream",
     "text": [
      "tn = 48078, fp = 3803, fn = 7764, tp = 44220\n",
      "y_pred: 0 = 55842 | 1 = 48023\n",
      "y_true: 0 = 51881 | 1 = 51984\n",
      "auc=0.9533|sensitivity=0.8506|specificity=0.9267|acc=0.8886|mcc=0.7796\n",
      "precision=0.9208|recall=0.8506|f1=0.8843|aupr=0.9565\n",
      "Idx50 - model_layer2_multihead1_fold0.pkl: # layer = 2 | # heads = 1 | Fold = 0\n"
     ]
    },
    {
     "name": "stderr",
     "output_type": "stream",
     "text": [
      "  2%|▏         | 2/102 [00:00<00:09, 10.44it/s]"
     ]
    },
    {
     "name": "stdout",
     "output_type": "stream",
     "text": [
      "EXTERNAL Label info: Counter({1: 51984, 0: 51881})\n"
     ]
    },
    {
     "name": "stderr",
     "output_type": "stream",
     "text": [
      "100%|██████████| 102/102 [00:08<00:00, 12.08it/s]\n"
     ]
    },
    {
     "name": "stdout",
     "output_type": "stream",
     "text": [
      "tn = 49003, fp = 2878, fn = 9833, tp = 42151\n",
      "y_pred: 0 = 58836 | 1 = 45029\n",
      "y_true: 0 = 51881 | 1 = 51984\n",
      "auc=0.9516|sensitivity=0.8108|specificity=0.9445|acc=0.8776|mcc=0.7621\n",
      "precision=0.9361|recall=0.8108|f1=0.8690|aupr=0.9543\n",
      "Idx51 - model_layer2_multihead1_fold1.pkl: # layer = 2 | # heads = 1 | Fold = 1\n"
     ]
    },
    {
     "name": "stderr",
     "output_type": "stream",
     "text": [
      "  2%|▏         | 2/102 [00:00<00:09, 10.55it/s]"
     ]
    },
    {
     "name": "stdout",
     "output_type": "stream",
     "text": [
      "EXTERNAL Label info: Counter({1: 51984, 0: 51881})\n"
     ]
    },
    {
     "name": "stderr",
     "output_type": "stream",
     "text": [
      "100%|██████████| 102/102 [00:07<00:00, 12.95it/s]\n"
     ]
    },
    {
     "name": "stdout",
     "output_type": "stream",
     "text": [
      "tn = 48884, fp = 2997, fn = 8600, tp = 43384\n",
      "y_pred: 0 = 57484 | 1 = 46381\n",
      "y_true: 0 = 51881 | 1 = 51984\n",
      "auc=0.9555|sensitivity=0.8346|specificity=0.9422|acc=0.8883|mcc=0.7813\n",
      "precision=0.9354|recall=0.8346|f1=0.8821|aupr=0.9595\n",
      "Idx52 - model_layer2_multihead1_fold2.pkl: # layer = 2 | # heads = 1 | Fold = 2\n"
     ]
    },
    {
     "name": "stderr",
     "output_type": "stream",
     "text": [
      "  2%|▏         | 2/102 [00:00<00:09, 10.79it/s]"
     ]
    },
    {
     "name": "stdout",
     "output_type": "stream",
     "text": [
      "EXTERNAL Label info: Counter({1: 51984, 0: 51881})\n"
     ]
    },
    {
     "name": "stderr",
     "output_type": "stream",
     "text": [
      "100%|██████████| 102/102 [00:08<00:00, 12.17it/s]\n"
     ]
    },
    {
     "name": "stdout",
     "output_type": "stream",
     "text": [
      "tn = 49212, fp = 2669, fn = 9532, tp = 42452\n",
      "y_pred: 0 = 58744 | 1 = 45121\n",
      "y_true: 0 = 51881 | 1 = 51984\n",
      "auc=0.9535|sensitivity=0.8166|specificity=0.9486|acc=0.8825|mcc=0.7719\n",
      "precision=0.9408|recall=0.8166|f1=0.8744|aupr=0.9571\n",
      "Idx53 - model_layer2_multihead1_fold3.pkl: # layer = 2 | # heads = 1 | Fold = 3\n"
     ]
    },
    {
     "name": "stderr",
     "output_type": "stream",
     "text": [
      "  2%|▏         | 2/102 [00:00<00:09, 10.87it/s]"
     ]
    },
    {
     "name": "stdout",
     "output_type": "stream",
     "text": [
      "EXTERNAL Label info: Counter({1: 51984, 0: 51881})\n"
     ]
    },
    {
     "name": "stderr",
     "output_type": "stream",
     "text": [
      "100%|██████████| 102/102 [00:08<00:00, 12.68it/s]\n"
     ]
    },
    {
     "name": "stdout",
     "output_type": "stream",
     "text": [
      "tn = 48265, fp = 3616, fn = 7921, tp = 44063\n",
      "y_pred: 0 = 56186 | 1 = 47679\n",
      "y_true: 0 = 51881 | 1 = 51984\n",
      "auc=0.9548|sensitivity=0.8476|specificity=0.9303|acc=0.8889|mcc=0.7806\n",
      "precision=0.9242|recall=0.8476|f1=0.8842|aupr=0.9579\n",
      "Idx54 - model_layer2_multihead1_fold4.pkl: # layer = 2 | # heads = 1 | Fold = 4\n"
     ]
    },
    {
     "name": "stderr",
     "output_type": "stream",
     "text": [
      "  2%|▏         | 2/102 [00:00<00:08, 11.22it/s]"
     ]
    },
    {
     "name": "stdout",
     "output_type": "stream",
     "text": [
      "EXTERNAL Label info: Counter({1: 51984, 0: 51881})\n"
     ]
    },
    {
     "name": "stderr",
     "output_type": "stream",
     "text": [
      "100%|██████████| 102/102 [00:08<00:00, 12.17it/s]\n"
     ]
    },
    {
     "name": "stdout",
     "output_type": "stream",
     "text": [
      "tn = 47893, fp = 3988, fn = 7690, tp = 44294\n",
      "y_pred: 0 = 55583 | 1 = 48282\n",
      "y_true: 0 = 51881 | 1 = 51984\n",
      "auc=0.9537|sensitivity=0.8521|specificity=0.9231|acc=0.8876|mcc=0.7771\n",
      "precision=0.9174|recall=0.8521|f1=0.8835|aupr=0.9569\n",
      "Idx55 - model_layer2_multihead2_fold0.pkl: # layer = 2 | # heads = 2 | Fold = 0\n"
     ]
    },
    {
     "name": "stderr",
     "output_type": "stream",
     "text": [
      "  1%|          | 1/102 [00:00<00:13,  7.74it/s]"
     ]
    },
    {
     "name": "stdout",
     "output_type": "stream",
     "text": [
      "EXTERNAL Label info: Counter({1: 51984, 0: 51881})\n"
     ]
    },
    {
     "name": "stderr",
     "output_type": "stream",
     "text": [
      "100%|██████████| 102/102 [00:11<00:00,  9.21it/s]\n"
     ]
    },
    {
     "name": "stdout",
     "output_type": "stream",
     "text": [
      "tn = 49261, fp = 2620, fn = 9360, tp = 42624\n",
      "y_pred: 0 = 58621 | 1 = 45244\n",
      "y_true: 0 = 51881 | 1 = 51984\n",
      "auc=0.9558|sensitivity=0.8199|specificity=0.9495|acc=0.8847|mcc=0.7759\n",
      "precision=0.9421|recall=0.8199|f1=0.8768|aupr=0.9587\n",
      "Idx56 - model_layer2_multihead2_fold1.pkl: # layer = 2 | # heads = 2 | Fold = 1\n"
     ]
    },
    {
     "name": "stderr",
     "output_type": "stream",
     "text": [
      "  1%|          | 1/102 [00:00<00:13,  7.23it/s]"
     ]
    },
    {
     "name": "stdout",
     "output_type": "stream",
     "text": [
      "EXTERNAL Label info: Counter({1: 51984, 0: 51881})\n"
     ]
    },
    {
     "name": "stderr",
     "output_type": "stream",
     "text": [
      "100%|██████████| 102/102 [00:10<00:00, 10.01it/s]\n"
     ]
    },
    {
     "name": "stdout",
     "output_type": "stream",
     "text": [
      "tn = 49192, fp = 2689, fn = 9190, tp = 42794\n",
      "y_pred: 0 = 58382 | 1 = 45483\n",
      "y_true: 0 = 51881 | 1 = 51984\n",
      "auc=0.9519|sensitivity=0.8232|specificity=0.9482|acc=0.8856|mcc=0.7774\n",
      "precision=0.9409|recall=0.8232|f1=0.8781|aupr=0.9570\n",
      "Idx57 - model_layer2_multihead2_fold2.pkl: # layer = 2 | # heads = 2 | Fold = 2\n"
     ]
    },
    {
     "name": "stderr",
     "output_type": "stream",
     "text": [
      "  1%|          | 1/102 [00:00<00:12,  7.90it/s]"
     ]
    },
    {
     "name": "stdout",
     "output_type": "stream",
     "text": [
      "EXTERNAL Label info: Counter({1: 51984, 0: 51881})\n"
     ]
    },
    {
     "name": "stderr",
     "output_type": "stream",
     "text": [
      "100%|██████████| 102/102 [00:10<00:00,  9.77it/s]\n"
     ]
    },
    {
     "name": "stdout",
     "output_type": "stream",
     "text": [
      "tn = 49088, fp = 2793, fn = 10701, tp = 41283\n",
      "y_pred: 0 = 59789 | 1 = 44076\n",
      "y_true: 0 = 51881 | 1 = 51984\n",
      "auc=0.9437|sensitivity=0.7941|specificity=0.9462|acc=0.8701|mcc=0.7489\n",
      "precision=0.9366|recall=0.7941|f1=0.8595|aupr=0.9491\n",
      "Idx58 - model_layer2_multihead2_fold3.pkl: # layer = 2 | # heads = 2 | Fold = 3\n"
     ]
    },
    {
     "name": "stderr",
     "output_type": "stream",
     "text": [
      "  1%|          | 1/102 [00:00<00:14,  7.07it/s]"
     ]
    },
    {
     "name": "stdout",
     "output_type": "stream",
     "text": [
      "EXTERNAL Label info: Counter({1: 51984, 0: 51881})\n"
     ]
    },
    {
     "name": "stderr",
     "output_type": "stream",
     "text": [
      "100%|██████████| 102/102 [00:10<00:00, 10.14it/s]\n"
     ]
    },
    {
     "name": "stdout",
     "output_type": "stream",
     "text": [
      "tn = 48343, fp = 3538, fn = 8823, tp = 43161\n",
      "y_pred: 0 = 57166 | 1 = 46699\n",
      "y_true: 0 = 51881 | 1 = 51984\n",
      "auc=0.9496|sensitivity=0.8303|specificity=0.9318|acc=0.8810|mcc=0.7660\n",
      "precision=0.9242|recall=0.8303|f1=0.8747|aupr=0.9543\n",
      "Idx59 - model_layer2_multihead2_fold4.pkl: # layer = 2 | # heads = 2 | Fold = 4\n"
     ]
    },
    {
     "name": "stderr",
     "output_type": "stream",
     "text": [
      "  1%|          | 1/102 [00:00<00:13,  7.77it/s]"
     ]
    },
    {
     "name": "stdout",
     "output_type": "stream",
     "text": [
      "EXTERNAL Label info: Counter({1: 51984, 0: 51881})\n"
     ]
    },
    {
     "name": "stderr",
     "output_type": "stream",
     "text": [
      "100%|██████████| 102/102 [00:10<00:00,  9.53it/s]\n"
     ]
    },
    {
     "name": "stdout",
     "output_type": "stream",
     "text": [
      "tn = 48507, fp = 3374, fn = 8651, tp = 43333\n",
      "y_pred: 0 = 57158 | 1 = 46707\n",
      "y_true: 0 = 51881 | 1 = 51984\n",
      "auc=0.9530|sensitivity=0.8336|specificity=0.9350|acc=0.8842|mcc=0.7725\n",
      "precision=0.9278|recall=0.8336|f1=0.8782|aupr=0.9566\n",
      "Idx60 - model_layer2_multihead3_fold0.pkl: # layer = 2 | # heads = 3 | Fold = 0\n"
     ]
    },
    {
     "name": "stderr",
     "output_type": "stream",
     "text": [
      "  1%|          | 1/102 [00:00<00:16,  6.27it/s]"
     ]
    },
    {
     "name": "stdout",
     "output_type": "stream",
     "text": [
      "EXTERNAL Label info: Counter({1: 51984, 0: 51881})\n"
     ]
    },
    {
     "name": "stderr",
     "output_type": "stream",
     "text": [
      "100%|██████████| 102/102 [00:12<00:00,  8.47it/s]\n"
     ]
    },
    {
     "name": "stdout",
     "output_type": "stream",
     "text": [
      "tn = 49009, fp = 2872, fn = 9432, tp = 42552\n",
      "y_pred: 0 = 58441 | 1 = 45424\n",
      "y_true: 0 = 51881 | 1 = 51984\n",
      "auc=0.9513|sensitivity=0.8186|specificity=0.9446|acc=0.8815|mcc=0.7693\n",
      "precision=0.9368|recall=0.8186|f1=0.8737|aupr=0.9544\n",
      "Idx61 - model_layer2_multihead3_fold1.pkl: # layer = 2 | # heads = 3 | Fold = 1\n"
     ]
    },
    {
     "name": "stderr",
     "output_type": "stream",
     "text": [
      "  1%|          | 1/102 [00:00<00:16,  6.27it/s]"
     ]
    },
    {
     "name": "stdout",
     "output_type": "stream",
     "text": [
      "EXTERNAL Label info: Counter({1: 51984, 0: 51881})\n"
     ]
    },
    {
     "name": "stderr",
     "output_type": "stream",
     "text": [
      "100%|██████████| 102/102 [00:11<00:00,  8.60it/s]\n"
     ]
    },
    {
     "name": "stdout",
     "output_type": "stream",
     "text": [
      "tn = 49105, fp = 2776, fn = 10501, tp = 41483\n",
      "y_pred: 0 = 59606 | 1 = 44259\n",
      "y_true: 0 = 51881 | 1 = 51984\n",
      "auc=0.9483|sensitivity=0.7980|specificity=0.9465|acc=0.8722|mcc=0.7528\n",
      "precision=0.9373|recall=0.7980|f1=0.8620|aupr=0.9519\n",
      "Idx62 - model_layer2_multihead3_fold2.pkl: # layer = 2 | # heads = 3 | Fold = 2\n"
     ]
    },
    {
     "name": "stderr",
     "output_type": "stream",
     "text": [
      "  1%|          | 1/102 [00:00<00:15,  6.52it/s]"
     ]
    },
    {
     "name": "stdout",
     "output_type": "stream",
     "text": [
      "EXTERNAL Label info: Counter({1: 51984, 0: 51881})\n"
     ]
    },
    {
     "name": "stderr",
     "output_type": "stream",
     "text": [
      "100%|██████████| 102/102 [00:12<00:00,  8.22it/s]\n"
     ]
    },
    {
     "name": "stdout",
     "output_type": "stream",
     "text": [
      "tn = 48936, fp = 2945, fn = 8847, tp = 43137\n",
      "y_pred: 0 = 57783 | 1 = 46082\n",
      "y_true: 0 = 51881 | 1 = 51984\n",
      "auc=0.9512|sensitivity=0.8298|specificity=0.9432|acc=0.8865|mcc=0.7780\n",
      "precision=0.9361|recall=0.8298|f1=0.8798|aupr=0.9552\n",
      "Idx63 - model_layer2_multihead3_fold3.pkl: # layer = 2 | # heads = 3 | Fold = 3\n"
     ]
    },
    {
     "name": "stderr",
     "output_type": "stream",
     "text": [
      "  1%|          | 1/102 [00:00<00:15,  6.50it/s]"
     ]
    },
    {
     "name": "stdout",
     "output_type": "stream",
     "text": [
      "EXTERNAL Label info: Counter({1: 51984, 0: 51881})\n"
     ]
    },
    {
     "name": "stderr",
     "output_type": "stream",
     "text": [
      "100%|██████████| 102/102 [00:11<00:00,  8.55it/s]\n"
     ]
    },
    {
     "name": "stdout",
     "output_type": "stream",
     "text": [
      "tn = 48393, fp = 3488, fn = 8305, tp = 43679\n",
      "y_pred: 0 = 56698 | 1 = 47167\n",
      "y_true: 0 = 51881 | 1 = 51984\n",
      "auc=0.9514|sensitivity=0.8402|specificity=0.9328|acc=0.8865|mcc=0.7763\n",
      "precision=0.9260|recall=0.8402|f1=0.8811|aupr=0.9558\n",
      "Idx64 - model_layer2_multihead3_fold4.pkl: # layer = 2 | # heads = 3 | Fold = 4\n"
     ]
    },
    {
     "name": "stderr",
     "output_type": "stream",
     "text": [
      "  1%|          | 1/102 [00:00<00:16,  6.29it/s]"
     ]
    },
    {
     "name": "stdout",
     "output_type": "stream",
     "text": [
      "EXTERNAL Label info: Counter({1: 51984, 0: 51881})\n"
     ]
    },
    {
     "name": "stderr",
     "output_type": "stream",
     "text": [
      "100%|██████████| 102/102 [00:11<00:00,  8.66it/s]\n"
     ]
    },
    {
     "name": "stdout",
     "output_type": "stream",
     "text": [
      "tn = 48196, fp = 3685, fn = 7909, tp = 44075\n",
      "y_pred: 0 = 56105 | 1 = 47760\n",
      "y_true: 0 = 51881 | 1 = 51984\n",
      "auc=0.9513|sensitivity=0.8479|specificity=0.9290|acc=0.8884|mcc=0.7793\n",
      "precision=0.9228|recall=0.8479|f1=0.8838|aupr=0.9554\n",
      "Idx65 - model_layer2_multihead4_fold0.pkl: # layer = 2 | # heads = 4 | Fold = 0\n"
     ]
    },
    {
     "name": "stderr",
     "output_type": "stream",
     "text": [
      "  1%|          | 1/102 [00:00<00:17,  5.91it/s]"
     ]
    },
    {
     "name": "stdout",
     "output_type": "stream",
     "text": [
      "EXTERNAL Label info: Counter({1: 51984, 0: 51881})\n"
     ]
    },
    {
     "name": "stderr",
     "output_type": "stream",
     "text": [
      "100%|██████████| 102/102 [00:15<00:00,  6.70it/s]\n"
     ]
    },
    {
     "name": "stdout",
     "output_type": "stream",
     "text": [
      "tn = 48756, fp = 3125, fn = 9083, tp = 42901\n",
      "y_pred: 0 = 57839 | 1 = 46026\n",
      "y_true: 0 = 51881 | 1 = 51984\n",
      "auc=0.9502|sensitivity=0.8253|specificity=0.9398|acc=0.8825|mcc=0.7700\n",
      "precision=0.9321|recall=0.8253|f1=0.8754|aupr=0.9542\n",
      "Idx66 - model_layer2_multihead4_fold1.pkl: # layer = 2 | # heads = 4 | Fold = 1\n"
     ]
    },
    {
     "name": "stderr",
     "output_type": "stream",
     "text": [
      "  1%|          | 1/102 [00:00<00:17,  5.79it/s]"
     ]
    },
    {
     "name": "stdout",
     "output_type": "stream",
     "text": [
      "EXTERNAL Label info: Counter({1: 51984, 0: 51881})\n"
     ]
    },
    {
     "name": "stderr",
     "output_type": "stream",
     "text": [
      "100%|██████████| 102/102 [00:14<00:00,  6.81it/s]\n"
     ]
    },
    {
     "name": "stdout",
     "output_type": "stream",
     "text": [
      "tn = 48723, fp = 3158, fn = 9131, tp = 42853\n",
      "y_pred: 0 = 57854 | 1 = 46011\n",
      "y_true: 0 = 51881 | 1 = 51984\n",
      "auc=0.9494|sensitivity=0.8243|specificity=0.9391|acc=0.8817|mcc=0.7685\n",
      "precision=0.9314|recall=0.8243|f1=0.8746|aupr=0.9538\n",
      "Idx67 - model_layer2_multihead4_fold2.pkl: # layer = 2 | # heads = 4 | Fold = 2\n"
     ]
    },
    {
     "name": "stderr",
     "output_type": "stream",
     "text": [
      "  1%|          | 1/102 [00:00<00:18,  5.61it/s]"
     ]
    },
    {
     "name": "stdout",
     "output_type": "stream",
     "text": [
      "EXTERNAL Label info: Counter({1: 51984, 0: 51881})\n"
     ]
    },
    {
     "name": "stderr",
     "output_type": "stream",
     "text": [
      "100%|██████████| 102/102 [00:14<00:00,  6.87it/s]\n"
     ]
    },
    {
     "name": "stdout",
     "output_type": "stream",
     "text": [
      "tn = 48222, fp = 3659, fn = 8294, tp = 43690\n",
      "y_pred: 0 = 56516 | 1 = 47349\n",
      "y_true: 0 = 51881 | 1 = 51984\n",
      "auc=0.9535|sensitivity=0.8405|specificity=0.9295|acc=0.8849|mcc=0.7729\n",
      "precision=0.9227|recall=0.8405|f1=0.8797|aupr=0.9559\n",
      "Idx68 - model_layer2_multihead4_fold3.pkl: # layer = 2 | # heads = 4 | Fold = 3\n"
     ]
    },
    {
     "name": "stderr",
     "output_type": "stream",
     "text": [
      "  1%|          | 1/102 [00:00<00:18,  5.58it/s]"
     ]
    },
    {
     "name": "stdout",
     "output_type": "stream",
     "text": [
      "EXTERNAL Label info: Counter({1: 51984, 0: 51881})\n"
     ]
    },
    {
     "name": "stderr",
     "output_type": "stream",
     "text": [
      "100%|██████████| 102/102 [00:14<00:00,  6.99it/s]\n"
     ]
    },
    {
     "name": "stdout",
     "output_type": "stream",
     "text": [
      "tn = 48112, fp = 3769, fn = 8073, tp = 43911\n",
      "y_pred: 0 = 56185 | 1 = 47680\n",
      "y_true: 0 = 51881 | 1 = 51984\n",
      "auc=0.9532|sensitivity=0.8447|specificity=0.9274|acc=0.8860|mcc=0.7747\n",
      "precision=0.9210|recall=0.8447|f1=0.8812|aupr=0.9556\n",
      "Idx69 - model_layer2_multihead4_fold4.pkl: # layer = 2 | # heads = 4 | Fold = 4\n"
     ]
    },
    {
     "name": "stderr",
     "output_type": "stream",
     "text": [
      "  1%|          | 1/102 [00:00<00:18,  5.49it/s]"
     ]
    },
    {
     "name": "stdout",
     "output_type": "stream",
     "text": [
      "EXTERNAL Label info: Counter({1: 51984, 0: 51881})\n"
     ]
    },
    {
     "name": "stderr",
     "output_type": "stream",
     "text": [
      "100%|██████████| 102/102 [00:14<00:00,  6.94it/s]\n"
     ]
    },
    {
     "name": "stdout",
     "output_type": "stream",
     "text": [
      "tn = 48432, fp = 3449, fn = 8429, tp = 43555\n",
      "y_pred: 0 = 56861 | 1 = 47004\n",
      "y_true: 0 = 51881 | 1 = 51984\n",
      "auc=0.9529|sensitivity=0.8379|specificity=0.9335|acc=0.8856|mcc=0.7749\n",
      "precision=0.9266|recall=0.8379|f1=0.8800|aupr=0.9555\n",
      "Idx70 - model_layer2_multihead5_fold0.pkl: # layer = 2 | # heads = 5 | Fold = 0\n"
     ]
    },
    {
     "name": "stderr",
     "output_type": "stream",
     "text": [
      "  1%|          | 1/102 [00:00<00:20,  5.02it/s]"
     ]
    },
    {
     "name": "stdout",
     "output_type": "stream",
     "text": [
      "EXTERNAL Label info: Counter({1: 51984, 0: 51881})\n"
     ]
    },
    {
     "name": "stderr",
     "output_type": "stream",
     "text": [
      "100%|██████████| 102/102 [00:16<00:00,  6.17it/s]\n"
     ]
    },
    {
     "name": "stdout",
     "output_type": "stream",
     "text": [
      "tn = 48536, fp = 3345, fn = 9679, tp = 42305\n",
      "y_pred: 0 = 58215 | 1 = 45650\n",
      "y_true: 0 = 51881 | 1 = 51984\n",
      "auc=0.9485|sensitivity=0.8138|specificity=0.9355|acc=0.8746|mcc=0.7549\n",
      "precision=0.9267|recall=0.8138|f1=0.8666|aupr=0.9508\n",
      "Idx71 - model_layer2_multihead5_fold1.pkl: # layer = 2 | # heads = 5 | Fold = 1\n"
     ]
    },
    {
     "name": "stderr",
     "output_type": "stream",
     "text": [
      "  1%|          | 1/102 [00:00<00:20,  5.02it/s]"
     ]
    },
    {
     "name": "stdout",
     "output_type": "stream",
     "text": [
      "EXTERNAL Label info: Counter({1: 51984, 0: 51881})\n"
     ]
    },
    {
     "name": "stderr",
     "output_type": "stream",
     "text": [
      "100%|██████████| 102/102 [00:16<00:00,  6.03it/s]\n"
     ]
    },
    {
     "name": "stdout",
     "output_type": "stream",
     "text": [
      "tn = 49037, fp = 2844, fn = 9404, tp = 42580\n",
      "y_pred: 0 = 58441 | 1 = 45424\n",
      "y_true: 0 = 51881 | 1 = 51984\n",
      "auc=0.9501|sensitivity=0.8191|specificity=0.9452|acc=0.8821|mcc=0.7704\n",
      "precision=0.9374|recall=0.8191|f1=0.8743|aupr=0.9550\n",
      "Idx72 - model_layer2_multihead5_fold2.pkl: # layer = 2 | # heads = 5 | Fold = 2\n"
     ]
    },
    {
     "name": "stderr",
     "output_type": "stream",
     "text": [
      "\r",
      "  0%|          | 0/102 [00:00<?, ?it/s]"
     ]
    },
    {
     "name": "stdout",
     "output_type": "stream",
     "text": [
      "EXTERNAL Label info: Counter({1: 51984, 0: 51881})\n"
     ]
    },
    {
     "name": "stderr",
     "output_type": "stream",
     "text": [
      "100%|██████████| 102/102 [00:16<00:00,  6.07it/s]\n"
     ]
    },
    {
     "name": "stdout",
     "output_type": "stream",
     "text": [
      "tn = 48515, fp = 3366, fn = 8694, tp = 43290\n",
      "y_pred: 0 = 57209 | 1 = 46656\n",
      "y_true: 0 = 51881 | 1 = 51984\n",
      "auc=0.9495|sensitivity=0.8328|specificity=0.9351|acc=0.8839|mcc=0.7719\n",
      "precision=0.9279|recall=0.8328|f1=0.8777|aupr=0.9546\n",
      "Idx73 - model_layer2_multihead5_fold3.pkl: # layer = 2 | # heads = 5 | Fold = 3\n"
     ]
    },
    {
     "name": "stderr",
     "output_type": "stream",
     "text": [
      "\r",
      "  0%|          | 0/102 [00:00<?, ?it/s]"
     ]
    },
    {
     "name": "stdout",
     "output_type": "stream",
     "text": [
      "EXTERNAL Label info: Counter({1: 51984, 0: 51881})\n"
     ]
    },
    {
     "name": "stderr",
     "output_type": "stream",
     "text": [
      "100%|██████████| 102/102 [00:17<00:00,  5.81it/s]\n"
     ]
    },
    {
     "name": "stdout",
     "output_type": "stream",
     "text": [
      "tn = 48845, fp = 3036, fn = 8955, tp = 43029\n",
      "y_pred: 0 = 57800 | 1 = 46065\n",
      "y_true: 0 = 51881 | 1 = 51984\n",
      "auc=0.9498|sensitivity=0.8277|specificity=0.9415|acc=0.8846|mcc=0.7742\n",
      "precision=0.9341|recall=0.8277|f1=0.8777|aupr=0.9547\n",
      "Idx74 - model_layer2_multihead5_fold4.pkl: # layer = 2 | # heads = 5 | Fold = 4\n"
     ]
    },
    {
     "name": "stderr",
     "output_type": "stream",
     "text": [
      "\r",
      "  0%|          | 0/102 [00:00<?, ?it/s]"
     ]
    },
    {
     "name": "stdout",
     "output_type": "stream",
     "text": [
      "EXTERNAL Label info: Counter({1: 51984, 0: 51881})\n"
     ]
    },
    {
     "name": "stderr",
     "output_type": "stream",
     "text": [
      "100%|██████████| 102/102 [00:17<00:00,  5.99it/s]\n"
     ]
    },
    {
     "name": "stdout",
     "output_type": "stream",
     "text": [
      "tn = 48645, fp = 3236, fn = 9266, tp = 42718\n",
      "y_pred: 0 = 57911 | 1 = 45954\n",
      "y_true: 0 = 51881 | 1 = 51984\n",
      "auc=0.9503|sensitivity=0.8218|specificity=0.9376|acc=0.8796|mcc=0.7645\n",
      "precision=0.9296|recall=0.8218|f1=0.8723|aupr=0.9542\n",
      "Idx75 - model_layer2_multihead6_fold0.pkl: # layer = 2 | # heads = 6 | Fold = 0\n"
     ]
    },
    {
     "name": "stderr",
     "output_type": "stream",
     "text": [
      "\r",
      "  0%|          | 0/102 [00:00<?, ?it/s]"
     ]
    },
    {
     "name": "stdout",
     "output_type": "stream",
     "text": [
      "EXTERNAL Label info: Counter({1: 51984, 0: 51881})\n"
     ]
    },
    {
     "name": "stderr",
     "output_type": "stream",
     "text": [
      "100%|██████████| 102/102 [00:18<00:00,  5.41it/s]\n"
     ]
    },
    {
     "name": "stdout",
     "output_type": "stream",
     "text": [
      "tn = 49264, fp = 2617, fn = 9937, tp = 42047\n",
      "y_pred: 0 = 59201 | 1 = 44664\n",
      "y_true: 0 = 51881 | 1 = 51984\n",
      "auc=0.9532|sensitivity=0.8088|specificity=0.9496|acc=0.8791|mcc=0.7659\n",
      "precision=0.9414|recall=0.8088|f1=0.8701|aupr=0.9557\n",
      "Idx76 - model_layer2_multihead6_fold1.pkl: # layer = 2 | # heads = 6 | Fold = 1\n"
     ]
    },
    {
     "name": "stderr",
     "output_type": "stream",
     "text": [
      "\r",
      "  0%|          | 0/102 [00:00<?, ?it/s]"
     ]
    },
    {
     "name": "stdout",
     "output_type": "stream",
     "text": [
      "EXTERNAL Label info: Counter({1: 51984, 0: 51881})\n"
     ]
    },
    {
     "name": "stderr",
     "output_type": "stream",
     "text": [
      "100%|██████████| 102/102 [00:19<00:00,  5.30it/s]\n"
     ]
    },
    {
     "name": "stdout",
     "output_type": "stream",
     "text": [
      "tn = 48174, fp = 3707, fn = 8125, tp = 43859\n",
      "y_pred: 0 = 56299 | 1 = 47566\n",
      "y_true: 0 = 51881 | 1 = 51984\n",
      "auc=0.9492|sensitivity=0.8437|specificity=0.9285|acc=0.8861|mcc=0.7750\n",
      "precision=0.9221|recall=0.8437|f1=0.8811|aupr=0.9549\n",
      "Idx77 - model_layer2_multihead6_fold2.pkl: # layer = 2 | # heads = 6 | Fold = 2\n"
     ]
    },
    {
     "name": "stderr",
     "output_type": "stream",
     "text": [
      "\r",
      "  0%|          | 0/102 [00:00<?, ?it/s]"
     ]
    },
    {
     "name": "stdout",
     "output_type": "stream",
     "text": [
      "EXTERNAL Label info: Counter({1: 51984, 0: 51881})\n"
     ]
    },
    {
     "name": "stderr",
     "output_type": "stream",
     "text": [
      "100%|██████████| 102/102 [00:19<00:00,  5.36it/s]\n"
     ]
    },
    {
     "name": "stdout",
     "output_type": "stream",
     "text": [
      "tn = 47836, fp = 4045, fn = 7601, tp = 44383\n",
      "y_pred: 0 = 55437 | 1 = 48428\n",
      "y_true: 0 = 51881 | 1 = 51984\n",
      "auc=0.9539|sensitivity=0.8538|specificity=0.9220|acc=0.8879|mcc=0.7776\n",
      "precision=0.9165|recall=0.8538|f1=0.8840|aupr=0.9561\n",
      "Idx78 - model_layer2_multihead6_fold3.pkl: # layer = 2 | # heads = 6 | Fold = 3\n"
     ]
    },
    {
     "name": "stderr",
     "output_type": "stream",
     "text": [
      "\r",
      "  0%|          | 0/102 [00:00<?, ?it/s]"
     ]
    },
    {
     "name": "stdout",
     "output_type": "stream",
     "text": [
      "EXTERNAL Label info: Counter({1: 51984, 0: 51881})\n"
     ]
    },
    {
     "name": "stderr",
     "output_type": "stream",
     "text": [
      "100%|██████████| 102/102 [00:18<00:00,  5.62it/s]\n"
     ]
    },
    {
     "name": "stdout",
     "output_type": "stream",
     "text": [
      "tn = 48647, fp = 3234, fn = 9020, tp = 42964\n",
      "y_pred: 0 = 57667 | 1 = 46198\n",
      "y_true: 0 = 51881 | 1 = 51984\n",
      "auc=0.9508|sensitivity=0.8265|specificity=0.9377|acc=0.8820|mcc=0.7689\n",
      "precision=0.9300|recall=0.8265|f1=0.8752|aupr=0.9531\n",
      "Idx79 - model_layer2_multihead6_fold4.pkl: # layer = 2 | # heads = 6 | Fold = 4\n"
     ]
    },
    {
     "name": "stderr",
     "output_type": "stream",
     "text": [
      "\r",
      "  0%|          | 0/102 [00:00<?, ?it/s]"
     ]
    },
    {
     "name": "stdout",
     "output_type": "stream",
     "text": [
      "EXTERNAL Label info: Counter({1: 51984, 0: 51881})\n"
     ]
    },
    {
     "name": "stderr",
     "output_type": "stream",
     "text": [
      "100%|██████████| 102/102 [00:18<00:00,  5.45it/s]\n"
     ]
    },
    {
     "name": "stdout",
     "output_type": "stream",
     "text": [
      "tn = 49068, fp = 2813, fn = 9845, tp = 42139\n",
      "y_pred: 0 = 58913 | 1 = 44952\n",
      "y_true: 0 = 51881 | 1 = 51984\n",
      "auc=0.9467|sensitivity=0.8106|specificity=0.9458|acc=0.8781|mcc=0.7633\n",
      "precision=0.9374|recall=0.8106|f1=0.8694|aupr=0.9527\n",
      "Idx80 - model_layer2_multihead7_fold0.pkl: # layer = 2 | # heads = 7 | Fold = 0\n"
     ]
    },
    {
     "name": "stderr",
     "output_type": "stream",
     "text": [
      "\r",
      "  0%|          | 0/102 [00:00<?, ?it/s]"
     ]
    },
    {
     "name": "stdout",
     "output_type": "stream",
     "text": [
      "EXTERNAL Label info: Counter({1: 51984, 0: 51881})\n"
     ]
    },
    {
     "name": "stderr",
     "output_type": "stream",
     "text": [
      "100%|██████████| 102/102 [00:21<00:00,  4.85it/s]\n"
     ]
    },
    {
     "name": "stdout",
     "output_type": "stream",
     "text": [
      "tn = 48044, fp = 3837, fn = 8200, tp = 43784\n",
      "y_pred: 0 = 56244 | 1 = 47621\n",
      "y_true: 0 = 51881 | 1 = 51984\n",
      "auc=0.9524|sensitivity=0.8423|specificity=0.9260|acc=0.8841|mcc=0.7710\n",
      "precision=0.9194|recall=0.8423|f1=0.8792|aupr=0.9554\n",
      "Idx81 - model_layer2_multihead7_fold1.pkl: # layer = 2 | # heads = 7 | Fold = 1\n"
     ]
    },
    {
     "name": "stderr",
     "output_type": "stream",
     "text": [
      "\r",
      "  0%|          | 0/102 [00:00<?, ?it/s]"
     ]
    },
    {
     "name": "stdout",
     "output_type": "stream",
     "text": [
      "EXTERNAL Label info: Counter({1: 51984, 0: 51881})\n"
     ]
    },
    {
     "name": "stderr",
     "output_type": "stream",
     "text": [
      "100%|██████████| 102/102 [00:20<00:00,  4.96it/s]\n"
     ]
    },
    {
     "name": "stdout",
     "output_type": "stream",
     "text": [
      "tn = 48757, fp = 3124, fn = 8118, tp = 43866\n",
      "y_pred: 0 = 56875 | 1 = 46990\n",
      "y_true: 0 = 51881 | 1 = 51984\n",
      "auc=0.9551|sensitivity=0.8438|specificity=0.9398|acc=0.8918|mcc=0.7872\n",
      "precision=0.9335|recall=0.8438|f1=0.8864|aupr=0.9585\n",
      "Idx82 - model_layer2_multihead7_fold2.pkl: # layer = 2 | # heads = 7 | Fold = 2\n"
     ]
    },
    {
     "name": "stderr",
     "output_type": "stream",
     "text": [
      "\r",
      "  0%|          | 0/102 [00:00<?, ?it/s]"
     ]
    },
    {
     "name": "stdout",
     "output_type": "stream",
     "text": [
      "EXTERNAL Label info: Counter({1: 51984, 0: 51881})\n"
     ]
    },
    {
     "name": "stderr",
     "output_type": "stream",
     "text": [
      "100%|██████████| 102/102 [00:21<00:00,  4.79it/s]\n"
     ]
    },
    {
     "name": "stdout",
     "output_type": "stream",
     "text": [
      "tn = 48407, fp = 3474, fn = 8263, tp = 43721\n",
      "y_pred: 0 = 56670 | 1 = 47195\n",
      "y_true: 0 = 51881 | 1 = 51984\n",
      "auc=0.9538|sensitivity=0.8410|specificity=0.9330|acc=0.8870|mcc=0.7773\n",
      "precision=0.9264|recall=0.8410|f1=0.8817|aupr=0.9564\n",
      "Idx83 - model_layer2_multihead7_fold3.pkl: # layer = 2 | # heads = 7 | Fold = 3\n"
     ]
    },
    {
     "name": "stderr",
     "output_type": "stream",
     "text": [
      "\r",
      "  0%|          | 0/102 [00:00<?, ?it/s]"
     ]
    },
    {
     "name": "stdout",
     "output_type": "stream",
     "text": [
      "EXTERNAL Label info: Counter({1: 51984, 0: 51881})\n"
     ]
    },
    {
     "name": "stderr",
     "output_type": "stream",
     "text": [
      "100%|██████████| 102/102 [00:21<00:00,  4.75it/s]\n"
     ]
    },
    {
     "name": "stdout",
     "output_type": "stream",
     "text": [
      "tn = 48625, fp = 3256, fn = 8420, tp = 43564\n",
      "y_pred: 0 = 57045 | 1 = 46820\n",
      "y_true: 0 = 51881 | 1 = 51984\n",
      "auc=0.9521|sensitivity=0.8380|specificity=0.9372|acc=0.8876|mcc=0.7791\n",
      "precision=0.9305|recall=0.8380|f1=0.8818|aupr=0.9563\n",
      "Idx84 - model_layer2_multihead7_fold4.pkl: # layer = 2 | # heads = 7 | Fold = 4\n"
     ]
    },
    {
     "name": "stderr",
     "output_type": "stream",
     "text": [
      "\r",
      "  0%|          | 0/102 [00:00<?, ?it/s]"
     ]
    },
    {
     "name": "stdout",
     "output_type": "stream",
     "text": [
      "EXTERNAL Label info: Counter({1: 51984, 0: 51881})\n"
     ]
    },
    {
     "name": "stderr",
     "output_type": "stream",
     "text": [
      "100%|██████████| 102/102 [00:20<00:00,  4.93it/s]\n"
     ]
    },
    {
     "name": "stdout",
     "output_type": "stream",
     "text": [
      "tn = 49019, fp = 2862, fn = 9585, tp = 42399\n",
      "y_pred: 0 = 58604 | 1 = 45261\n",
      "y_true: 0 = 51881 | 1 = 51984\n",
      "auc=0.9533|sensitivity=0.8156|specificity=0.9448|acc=0.8802|mcc=0.7668\n",
      "precision=0.9368|recall=0.8156|f1=0.8720|aupr=0.9554\n",
      "Idx85 - model_layer2_multihead8_fold0.pkl: # layer = 2 | # heads = 8 | Fold = 0\n"
     ]
    },
    {
     "name": "stderr",
     "output_type": "stream",
     "text": [
      "\r",
      "  0%|          | 0/102 [00:00<?, ?it/s]"
     ]
    },
    {
     "name": "stdout",
     "output_type": "stream",
     "text": [
      "EXTERNAL Label info: Counter({1: 51984, 0: 51881})\n"
     ]
    },
    {
     "name": "stderr",
     "output_type": "stream",
     "text": [
      "100%|██████████| 102/102 [00:23<00:00,  4.26it/s]\n"
     ]
    },
    {
     "name": "stdout",
     "output_type": "stream",
     "text": [
      "tn = 48471, fp = 3410, fn = 8189, tp = 43795\n",
      "y_pred: 0 = 56660 | 1 = 47205\n",
      "y_true: 0 = 51881 | 1 = 51984\n",
      "auc=0.9559|sensitivity=0.8425|specificity=0.9343|acc=0.8883|mcc=0.7800\n",
      "precision=0.9278|recall=0.8425|f1=0.8831|aupr=0.9583\n",
      "Idx86 - model_layer2_multihead8_fold1.pkl: # layer = 2 | # heads = 8 | Fold = 1\n"
     ]
    },
    {
     "name": "stderr",
     "output_type": "stream",
     "text": [
      "\r",
      "  0%|          | 0/102 [00:00<?, ?it/s]"
     ]
    },
    {
     "name": "stdout",
     "output_type": "stream",
     "text": [
      "EXTERNAL Label info: Counter({1: 51984, 0: 51881})\n"
     ]
    },
    {
     "name": "stderr",
     "output_type": "stream",
     "text": [
      "100%|██████████| 102/102 [00:22<00:00,  4.44it/s]\n"
     ]
    },
    {
     "name": "stdout",
     "output_type": "stream",
     "text": [
      "tn = 48858, fp = 3023, fn = 9003, tp = 42981\n",
      "y_pred: 0 = 57861 | 1 = 46004\n",
      "y_true: 0 = 51881 | 1 = 51984\n",
      "auc=0.9515|sensitivity=0.8268|specificity=0.9417|acc=0.8842|mcc=0.7736\n",
      "precision=0.9343|recall=0.8268|f1=0.8773|aupr=0.9557\n",
      "Idx87 - model_layer2_multihead8_fold2.pkl: # layer = 2 | # heads = 8 | Fold = 2\n"
     ]
    },
    {
     "name": "stderr",
     "output_type": "stream",
     "text": [
      "\r",
      "  0%|          | 0/102 [00:00<?, ?it/s]"
     ]
    },
    {
     "name": "stdout",
     "output_type": "stream",
     "text": [
      "EXTERNAL Label info: Counter({1: 51984, 0: 51881})\n"
     ]
    },
    {
     "name": "stderr",
     "output_type": "stream",
     "text": [
      "100%|██████████| 102/102 [00:24<00:00,  4.19it/s]\n"
     ]
    },
    {
     "name": "stdout",
     "output_type": "stream",
     "text": [
      "tn = 49187, fp = 2694, fn = 9582, tp = 42402\n",
      "y_pred: 0 = 58769 | 1 = 45096\n",
      "y_true: 0 = 51881 | 1 = 51984\n",
      "auc=0.9531|sensitivity=0.8157|specificity=0.9481|acc=0.8818|mcc=0.7705\n",
      "precision=0.9403|recall=0.8157|f1=0.8735|aupr=0.9559\n",
      "Idx88 - model_layer2_multihead8_fold3.pkl: # layer = 2 | # heads = 8 | Fold = 3\n"
     ]
    },
    {
     "name": "stderr",
     "output_type": "stream",
     "text": [
      "\r",
      "  0%|          | 0/102 [00:00<?, ?it/s]"
     ]
    },
    {
     "name": "stdout",
     "output_type": "stream",
     "text": [
      "EXTERNAL Label info: Counter({1: 51984, 0: 51881})\n"
     ]
    },
    {
     "name": "stderr",
     "output_type": "stream",
     "text": [
      "100%|██████████| 102/102 [00:23<00:00,  4.30it/s]\n"
     ]
    },
    {
     "name": "stdout",
     "output_type": "stream",
     "text": [
      "tn = 48462, fp = 3419, fn = 8465, tp = 43519\n",
      "y_pred: 0 = 56927 | 1 = 46938\n",
      "y_true: 0 = 51881 | 1 = 51984\n",
      "auc=0.9499|sensitivity=0.8372|specificity=0.9341|acc=0.8856|mcc=0.7749\n",
      "precision=0.9272|recall=0.8372|f1=0.8799|aupr=0.9543\n",
      "Idx89 - model_layer2_multihead8_fold4.pkl: # layer = 2 | # heads = 8 | Fold = 4\n"
     ]
    },
    {
     "name": "stderr",
     "output_type": "stream",
     "text": [
      "\r",
      "  0%|          | 0/102 [00:00<?, ?it/s]"
     ]
    },
    {
     "name": "stdout",
     "output_type": "stream",
     "text": [
      "EXTERNAL Label info: Counter({1: 51984, 0: 51881})\n"
     ]
    },
    {
     "name": "stderr",
     "output_type": "stream",
     "text": [
      "100%|██████████| 102/102 [00:23<00:00,  4.39it/s]\n"
     ]
    },
    {
     "name": "stdout",
     "output_type": "stream",
     "text": [
      "tn = 48903, fp = 2978, fn = 9683, tp = 42301\n",
      "y_pred: 0 = 58586 | 1 = 45279\n",
      "y_true: 0 = 51881 | 1 = 51984\n",
      "auc=0.9488|sensitivity=0.8137|specificity=0.9426|acc=0.8781|mcc=0.7626\n",
      "precision=0.9342|recall=0.8137|f1=0.8698|aupr=0.9525\n",
      "Idx90 - model_layer2_multihead9_fold0.pkl: # layer = 2 | # heads = 9 | Fold = 0\n"
     ]
    },
    {
     "name": "stderr",
     "output_type": "stream",
     "text": [
      "\r",
      "  0%|          | 0/102 [00:00<?, ?it/s]"
     ]
    },
    {
     "name": "stdout",
     "output_type": "stream",
     "text": [
      "EXTERNAL Label info: Counter({1: 51984, 0: 51881})\n"
     ]
    },
    {
     "name": "stderr",
     "output_type": "stream",
     "text": [
      "100%|██████████| 102/102 [00:24<00:00,  4.10it/s]\n"
     ]
    },
    {
     "name": "stdout",
     "output_type": "stream",
     "text": [
      "tn = 48360, fp = 3521, fn = 8876, tp = 43108\n",
      "y_pred: 0 = 57236 | 1 = 46629\n",
      "y_true: 0 = 51881 | 1 = 51984\n",
      "auc=0.9467|sensitivity=0.8293|specificity=0.9321|acc=0.8806|mcc=0.7654\n",
      "precision=0.9245|recall=0.8293|f1=0.8743|aupr=0.9505\n",
      "Idx91 - model_layer2_multihead9_fold1.pkl: # layer = 2 | # heads = 9 | Fold = 1\n"
     ]
    },
    {
     "name": "stderr",
     "output_type": "stream",
     "text": [
      "\r",
      "  0%|          | 0/102 [00:00<?, ?it/s]"
     ]
    },
    {
     "name": "stdout",
     "output_type": "stream",
     "text": [
      "EXTERNAL Label info: Counter({1: 51984, 0: 51881})\n"
     ]
    },
    {
     "name": "stderr",
     "output_type": "stream",
     "text": [
      "100%|██████████| 102/102 [00:24<00:00,  4.11it/s]\n"
     ]
    },
    {
     "name": "stdout",
     "output_type": "stream",
     "text": [
      "tn = 48310, fp = 3571, fn = 7820, tp = 44164\n",
      "y_pred: 0 = 56130 | 1 = 47735\n",
      "y_true: 0 = 51881 | 1 = 51984\n",
      "auc=0.9542|sensitivity=0.8496|specificity=0.9312|acc=0.8903|mcc=0.7833\n",
      "precision=0.9252|recall=0.8496|f1=0.8858|aupr=0.9574\n",
      "Idx92 - model_layer2_multihead9_fold2.pkl: # layer = 2 | # heads = 9 | Fold = 2\n"
     ]
    },
    {
     "name": "stderr",
     "output_type": "stream",
     "text": [
      "\r",
      "  0%|          | 0/102 [00:00<?, ?it/s]"
     ]
    },
    {
     "name": "stdout",
     "output_type": "stream",
     "text": [
      "EXTERNAL Label info: Counter({1: 51984, 0: 51881})\n"
     ]
    },
    {
     "name": "stderr",
     "output_type": "stream",
     "text": [
      "100%|██████████| 102/102 [00:25<00:00,  3.93it/s]\n"
     ]
    },
    {
     "name": "stdout",
     "output_type": "stream",
     "text": [
      "tn = 47995, fp = 3886, fn = 7767, tp = 44217\n",
      "y_pred: 0 = 55762 | 1 = 48103\n",
      "y_true: 0 = 51881 | 1 = 51984\n",
      "auc=0.9524|sensitivity=0.8506|specificity=0.9251|acc=0.8878|mcc=0.7778\n",
      "precision=0.9192|recall=0.8506|f1=0.8836|aupr=0.9567\n",
      "Idx93 - model_layer2_multihead9_fold3.pkl: # layer = 2 | # heads = 9 | Fold = 3\n"
     ]
    },
    {
     "name": "stderr",
     "output_type": "stream",
     "text": [
      "\r",
      "  0%|          | 0/102 [00:00<?, ?it/s]"
     ]
    },
    {
     "name": "stdout",
     "output_type": "stream",
     "text": [
      "EXTERNAL Label info: Counter({1: 51984, 0: 51881})\n"
     ]
    },
    {
     "name": "stderr",
     "output_type": "stream",
     "text": [
      "100%|██████████| 102/102 [00:24<00:00,  4.10it/s]\n"
     ]
    },
    {
     "name": "stdout",
     "output_type": "stream",
     "text": [
      "tn = 49088, fp = 2793, fn = 10284, tp = 41700\n",
      "y_pred: 0 = 59372 | 1 = 44493\n",
      "y_true: 0 = 51881 | 1 = 51984\n",
      "auc=0.9477|sensitivity=0.8022|specificity=0.9462|acc=0.8741|mcc=0.7561\n",
      "precision=0.9372|recall=0.8022|f1=0.8645|aupr=0.9516\n",
      "Idx94 - model_layer2_multihead9_fold4.pkl: # layer = 2 | # heads = 9 | Fold = 4\n"
     ]
    },
    {
     "name": "stderr",
     "output_type": "stream",
     "text": [
      "\r",
      "  0%|          | 0/102 [00:00<?, ?it/s]"
     ]
    },
    {
     "name": "stdout",
     "output_type": "stream",
     "text": [
      "EXTERNAL Label info: Counter({1: 51984, 0: 51881})\n"
     ]
    },
    {
     "name": "stderr",
     "output_type": "stream",
     "text": [
      "100%|██████████| 102/102 [00:25<00:00,  4.02it/s]\n"
     ]
    },
    {
     "name": "stdout",
     "output_type": "stream",
     "text": [
      "tn = 48643, fp = 3238, fn = 8896, tp = 43088\n",
      "y_pred: 0 = 57539 | 1 = 46326\n",
      "y_true: 0 = 51881 | 1 = 51984\n",
      "auc=0.9512|sensitivity=0.8289|specificity=0.9376|acc=0.8832|mcc=0.7710\n",
      "precision=0.9301|recall=0.8289|f1=0.8766|aupr=0.9538\n",
      "Idx95 - model_layer2_multihead10_fold0.pkl: # layer = 2 | # heads = 10 | Fold = 0\n"
     ]
    },
    {
     "name": "stderr",
     "output_type": "stream",
     "text": [
      "\r",
      "  0%|          | 0/102 [00:00<?, ?it/s]"
     ]
    },
    {
     "name": "stdout",
     "output_type": "stream",
     "text": [
      "EXTERNAL Label info: Counter({1: 51984, 0: 51881})\n"
     ]
    },
    {
     "name": "stderr",
     "output_type": "stream",
     "text": [
      "100%|██████████| 102/102 [00:26<00:00,  3.82it/s]\n"
     ]
    },
    {
     "name": "stdout",
     "output_type": "stream",
     "text": [
      "tn = 47993, fp = 3888, fn = 8009, tp = 43975\n",
      "y_pred: 0 = 56002 | 1 = 47863\n",
      "y_true: 0 = 51881 | 1 = 51984\n",
      "auc=0.9519|sensitivity=0.8459|specificity=0.9251|acc=0.8855|mcc=0.7734\n",
      "precision=0.9188|recall=0.8459|f1=0.8808|aupr=0.9549\n",
      "Idx96 - model_layer2_multihead10_fold1.pkl: # layer = 2 | # heads = 10 | Fold = 1\n"
     ]
    },
    {
     "name": "stderr",
     "output_type": "stream",
     "text": [
      "\r",
      "  0%|          | 0/102 [00:00<?, ?it/s]"
     ]
    },
    {
     "name": "stdout",
     "output_type": "stream",
     "text": [
      "EXTERNAL Label info: Counter({1: 51984, 0: 51881})\n"
     ]
    },
    {
     "name": "stderr",
     "output_type": "stream",
     "text": [
      "100%|██████████| 102/102 [00:27<00:00,  3.76it/s]\n"
     ]
    },
    {
     "name": "stdout",
     "output_type": "stream",
     "text": [
      "tn = 48389, fp = 3492, fn = 8155, tp = 43829\n",
      "y_pred: 0 = 56544 | 1 = 47321\n",
      "y_true: 0 = 51881 | 1 = 51984\n",
      "auc=0.9530|sensitivity=0.8431|specificity=0.9327|acc=0.8879|mcc=0.7789\n",
      "precision=0.9262|recall=0.8431|f1=0.8827|aupr=0.9572\n",
      "Idx97 - model_layer2_multihead10_fold2.pkl: # layer = 2 | # heads = 10 | Fold = 2\n"
     ]
    },
    {
     "name": "stderr",
     "output_type": "stream",
     "text": [
      "\r",
      "  0%|          | 0/102 [00:00<?, ?it/s]"
     ]
    },
    {
     "name": "stdout",
     "output_type": "stream",
     "text": [
      "EXTERNAL Label info: Counter({1: 51984, 0: 51881})\n"
     ]
    },
    {
     "name": "stderr",
     "output_type": "stream",
     "text": [
      "100%|██████████| 102/102 [00:26<00:00,  3.91it/s]\n"
     ]
    },
    {
     "name": "stdout",
     "output_type": "stream",
     "text": [
      "tn = 48916, fp = 2965, fn = 8874, tp = 43110\n",
      "y_pred: 0 = 57790 | 1 = 46075\n",
      "y_true: 0 = 51881 | 1 = 51984\n",
      "auc=0.9553|sensitivity=0.8293|specificity=0.9428|acc=0.8860|mcc=0.7771\n",
      "precision=0.9356|recall=0.8293|f1=0.8793|aupr=0.9580\n",
      "Idx98 - model_layer2_multihead10_fold3.pkl: # layer = 2 | # heads = 10 | Fold = 3\n"
     ]
    },
    {
     "name": "stderr",
     "output_type": "stream",
     "text": [
      "\r",
      "  0%|          | 0/102 [00:00<?, ?it/s]"
     ]
    },
    {
     "name": "stdout",
     "output_type": "stream",
     "text": [
      "EXTERNAL Label info: Counter({1: 51984, 0: 51881})\n"
     ]
    },
    {
     "name": "stderr",
     "output_type": "stream",
     "text": [
      "100%|██████████| 102/102 [00:27<00:00,  3.77it/s]\n"
     ]
    },
    {
     "name": "stdout",
     "output_type": "stream",
     "text": [
      "tn = 49346, fp = 2535, fn = 10794, tp = 41190\n",
      "y_pred: 0 = 60140 | 1 = 43725\n",
      "y_true: 0 = 51881 | 1 = 51984\n",
      "auc=0.9515|sensitivity=0.7924|specificity=0.9511|acc=0.8717|mcc=0.7530\n",
      "precision=0.9420|recall=0.7924|f1=0.8607|aupr=0.9545\n",
      "Idx99 - model_layer2_multihead10_fold4.pkl: # layer = 2 | # heads = 10 | Fold = 4\n"
     ]
    },
    {
     "name": "stderr",
     "output_type": "stream",
     "text": [
      "\r",
      "  0%|          | 0/102 [00:00<?, ?it/s]"
     ]
    },
    {
     "name": "stdout",
     "output_type": "stream",
     "text": [
      "EXTERNAL Label info: Counter({1: 51984, 0: 51881})\n"
     ]
    },
    {
     "name": "stderr",
     "output_type": "stream",
     "text": [
      "100%|██████████| 102/102 [00:26<00:00,  3.84it/s]\n"
     ]
    },
    {
     "name": "stdout",
     "output_type": "stream",
     "text": [
      "tn = 48516, fp = 3365, fn = 8878, tp = 43106\n",
      "y_pred: 0 = 57394 | 1 = 46471\n",
      "y_true: 0 = 51881 | 1 = 51984\n",
      "auc=0.9500|sensitivity=0.8292|specificity=0.9351|acc=0.8821|mcc=0.7686\n",
      "precision=0.9276|recall=0.8292|f1=0.8756|aupr=0.9544\n"
     ]
    }
   ],
   "source": [
    "type_ = 'external'\n",
    "save_ = False\n",
    "use_cuda = False\n",
    "device = torch.device(\"cuda\" if use_cuda else \"cpu\")\n",
    "\n",
    "external_metrics_dict, external_ys_dict, external_attns_dict = {}, {}, {}\n",
    "for idx, filename in enumerate(model_files):\n",
    "    n_layers, n_heads, fold = model_layers_heads[idx]\n",
    "    n_layers, n_heads, fold = int(n_layers), int(n_heads), int(fold)\n",
    "    temp =  str(n_layers) + '-' + str(n_heads) + '-' + str(fold)\n",
    "    print('Idx{} - {}: # layer = {} | # heads = {} | Fold = {}'.format(idx, filename, n_layers, n_heads, fold))\n",
    "    \n",
    "    model_eval = Transformer().to(device)\n",
    "    criterion = nn.CrossEntropyLoss()\n",
    "    model_pwd = '/home/chujunyi/5_ZY_MHC/model/pHLAIformer/'\n",
    "    model_eval.load_state_dict(torch.load(model_pwd + filename), strict = True)\n",
    "\n",
    "    if type_ == 'train' or type_ == 'val':\n",
    "        data, pep_inputs, hla_inputs, labels, loader = data_with_loader(type_, fold,  batch_size)\n",
    "    else:\n",
    "        data, pep_inputs, hla_inputs, labels, loader = data_with_loader(type_, None, batch_size)\n",
    "    print('{} Label info: {}'.format(str.upper(type_), Counter(data.label)))\n",
    "\n",
    "    model_eval.eval()\n",
    "    if save_:\n",
    "        external_metrics_res, external_ys_res, external_attn_res = eval_step(model_eval, loader, labels, fold, type_, use_cuda, save_)\n",
    "        external_metrics_dict[temp], external_ys_dict[temp], external_attns_dict[temp] = external_metrics_res, external_ys_res, external_attn_res\n",
    "    else:\n",
    "        external_metrics_res, _, _ = eval_step(model_eval, loader, labels, fold, type_, use_cuda, save_)\n",
    "        external_metrics_dict[temp] = external_metrics_res\n",
    "external_metrics_pd = performances_to_pd(external_metrics_dict)"
   ]
  },
  {
   "cell_type": "code",
   "execution_count": 32,
   "metadata": {},
   "outputs": [
    {
     "data": {
      "text/html": [
       "<div>\n",
       "<style scoped>\n",
       "    .dataframe tbody tr th:only-of-type {\n",
       "        vertical-align: middle;\n",
       "    }\n",
       "\n",
       "    .dataframe tbody tr th {\n",
       "        vertical-align: top;\n",
       "    }\n",
       "\n",
       "    .dataframe thead th {\n",
       "        text-align: right;\n",
       "    }\n",
       "</style>\n",
       "<table border=\"1\" class=\"dataframe\">\n",
       "  <thead>\n",
       "    <tr style=\"text-align: right;\">\n",
       "      <th></th>\n",
       "      <th>roc_auc</th>\n",
       "      <th>accuracy</th>\n",
       "      <th>mcc</th>\n",
       "      <th>f1</th>\n",
       "      <th>sensitivity</th>\n",
       "      <th>specificity</th>\n",
       "      <th>precision</th>\n",
       "      <th>recall</th>\n",
       "      <th>aupr</th>\n",
       "    </tr>\n",
       "  </thead>\n",
       "  <tbody>\n",
       "    <tr>\n",
       "      <th>1-1-0</th>\n",
       "      <td>0.954303</td>\n",
       "      <td>0.884668</td>\n",
       "      <td>0.773600</td>\n",
       "      <td>0.878431</td>\n",
       "      <td>0.832545</td>\n",
       "      <td>0.936894</td>\n",
       "      <td>0.929672</td>\n",
       "      <td>0.832545</td>\n",
       "      <td>0.957119</td>\n",
       "    </tr>\n",
       "    <tr>\n",
       "      <th>1-1-1</th>\n",
       "      <td>0.954155</td>\n",
       "      <td>0.886275</td>\n",
       "      <td>0.775820</td>\n",
       "      <td>0.880951</td>\n",
       "      <td>0.840720</td>\n",
       "      <td>0.931921</td>\n",
       "      <td>0.925227</td>\n",
       "      <td>0.840720</td>\n",
       "      <td>0.957109</td>\n",
       "    </tr>\n",
       "    <tr>\n",
       "      <th>1-1-2</th>\n",
       "      <td>0.954739</td>\n",
       "      <td>0.890213</td>\n",
       "      <td>0.782496</td>\n",
       "      <td>0.886206</td>\n",
       "      <td>0.854147</td>\n",
       "      <td>0.926351</td>\n",
       "      <td>0.920764</td>\n",
       "      <td>0.854147</td>\n",
       "      <td>0.957623</td>\n",
       "    </tr>\n",
       "    <tr>\n",
       "      <th>1-1-3</th>\n",
       "      <td>0.954440</td>\n",
       "      <td>0.885736</td>\n",
       "      <td>0.776273</td>\n",
       "      <td>0.879164</td>\n",
       "      <td>0.830525</td>\n",
       "      <td>0.941057</td>\n",
       "      <td>0.933855</td>\n",
       "      <td>0.830525</td>\n",
       "      <td>0.957218</td>\n",
       "    </tr>\n",
       "    <tr>\n",
       "      <th>1-1-4</th>\n",
       "      <td>0.950397</td>\n",
       "      <td>0.876850</td>\n",
       "      <td>0.759716</td>\n",
       "      <td>0.868758</td>\n",
       "      <td>0.814385</td>\n",
       "      <td>0.939438</td>\n",
       "      <td>0.930910</td>\n",
       "      <td>0.814385</td>\n",
       "      <td>0.953704</td>\n",
       "    </tr>\n",
       "    <tr>\n",
       "      <th>1-2-0</th>\n",
       "      <td>0.950416</td>\n",
       "      <td>0.884225</td>\n",
       "      <td>0.771450</td>\n",
       "      <td>0.879033</td>\n",
       "      <td>0.840470</td>\n",
       "      <td>0.928066</td>\n",
       "      <td>0.921304</td>\n",
       "      <td>0.840470</td>\n",
       "      <td>0.955023</td>\n",
       "    </tr>\n",
       "    <tr>\n",
       "      <th>1-2-1</th>\n",
       "      <td>0.950564</td>\n",
       "      <td>0.871420</td>\n",
       "      <td>0.751490</td>\n",
       "      <td>0.861069</td>\n",
       "      <td>0.796130</td>\n",
       "      <td>0.946859</td>\n",
       "      <td>0.937544</td>\n",
       "      <td>0.796130</td>\n",
       "      <td>0.952601</td>\n",
       "    </tr>\n",
       "    <tr>\n",
       "      <th>1-2-2</th>\n",
       "      <td>0.949817</td>\n",
       "      <td>0.873865</td>\n",
       "      <td>0.754401</td>\n",
       "      <td>0.865068</td>\n",
       "      <td>0.807864</td>\n",
       "      <td>0.939997</td>\n",
       "      <td>0.930989</td>\n",
       "      <td>0.807864</td>\n",
       "      <td>0.952447</td>\n",
       "    </tr>\n",
       "    <tr>\n",
       "      <th>1-2-3</th>\n",
       "      <td>0.952646</td>\n",
       "      <td>0.875502</td>\n",
       "      <td>0.758832</td>\n",
       "      <td>0.866060</td>\n",
       "      <td>0.804209</td>\n",
       "      <td>0.946936</td>\n",
       "      <td>0.938217</td>\n",
       "      <td>0.804209</td>\n",
       "      <td>0.955500</td>\n",
       "    </tr>\n",
       "    <tr>\n",
       "      <th>1-2-4</th>\n",
       "      <td>0.952546</td>\n",
       "      <td>0.883791</td>\n",
       "      <td>0.772386</td>\n",
       "      <td>0.877088</td>\n",
       "      <td>0.828428</td>\n",
       "      <td>0.939265</td>\n",
       "      <td>0.931820</td>\n",
       "      <td>0.828428</td>\n",
       "      <td>0.955263</td>\n",
       "    </tr>\n",
       "    <tr>\n",
       "      <th>1-3-0</th>\n",
       "      <td>0.952416</td>\n",
       "      <td>0.880008</td>\n",
       "      <td>0.764837</td>\n",
       "      <td>0.873035</td>\n",
       "      <td>0.824273</td>\n",
       "      <td>0.935853</td>\n",
       "      <td>0.927929</td>\n",
       "      <td>0.824273</td>\n",
       "      <td>0.954656</td>\n",
       "    </tr>\n",
       "    <tr>\n",
       "      <th>1-3-1</th>\n",
       "      <td>0.953334</td>\n",
       "      <td>0.885399</td>\n",
       "      <td>0.774843</td>\n",
       "      <td>0.879381</td>\n",
       "      <td>0.834680</td>\n",
       "      <td>0.936219</td>\n",
       "      <td>0.929142</td>\n",
       "      <td>0.834680</td>\n",
       "      <td>0.956948</td>\n",
       "    </tr>\n",
       "    <tr>\n",
       "      <th>1-3-2</th>\n",
       "      <td>0.950939</td>\n",
       "      <td>0.881904</td>\n",
       "      <td>0.767108</td>\n",
       "      <td>0.876316</td>\n",
       "      <td>0.835892</td>\n",
       "      <td>0.928008</td>\n",
       "      <td>0.920849</td>\n",
       "      <td>0.835892</td>\n",
       "      <td>0.954078</td>\n",
       "    </tr>\n",
       "    <tr>\n",
       "      <th>1-3-3</th>\n",
       "      <td>0.951166</td>\n",
       "      <td>0.879931</td>\n",
       "      <td>0.766394</td>\n",
       "      <td>0.871720</td>\n",
       "      <td>0.815116</td>\n",
       "      <td>0.944874</td>\n",
       "      <td>0.936772</td>\n",
       "      <td>0.815116</td>\n",
       "      <td>0.954910</td>\n",
       "    </tr>\n",
       "    <tr>\n",
       "      <th>1-3-4</th>\n",
       "      <td>0.954055</td>\n",
       "      <td>0.890608</td>\n",
       "      <td>0.782422</td>\n",
       "      <td>0.887616</td>\n",
       "      <td>0.863131</td>\n",
       "      <td>0.918140</td>\n",
       "      <td>0.913531</td>\n",
       "      <td>0.863131</td>\n",
       "      <td>0.958513</td>\n",
       "    </tr>\n",
       "    <tr>\n",
       "      <th>1-4-0</th>\n",
       "      <td>0.950011</td>\n",
       "      <td>0.880643</td>\n",
       "      <td>0.766275</td>\n",
       "      <td>0.873586</td>\n",
       "      <td>0.824004</td>\n",
       "      <td>0.937395</td>\n",
       "      <td>0.929518</td>\n",
       "      <td>0.824004</td>\n",
       "      <td>0.953771</td>\n",
       "    </tr>\n",
       "    <tr>\n",
       "      <th>1-4-1</th>\n",
       "      <td>0.953831</td>\n",
       "      <td>0.886709</td>\n",
       "      <td>0.775664</td>\n",
       "      <td>0.882369</td>\n",
       "      <td>0.848973</td>\n",
       "      <td>0.924520</td>\n",
       "      <td>0.918500</td>\n",
       "      <td>0.848973</td>\n",
       "      <td>0.956878</td>\n",
       "    </tr>\n",
       "    <tr>\n",
       "      <th>1-4-2</th>\n",
       "      <td>0.952986</td>\n",
       "      <td>0.889077</td>\n",
       "      <td>0.781216</td>\n",
       "      <td>0.884082</td>\n",
       "      <td>0.845145</td>\n",
       "      <td>0.933097</td>\n",
       "      <td>0.926780</td>\n",
       "      <td>0.845145</td>\n",
       "      <td>0.956289</td>\n",
       "    </tr>\n",
       "    <tr>\n",
       "      <th>1-4-3</th>\n",
       "      <td>0.948895</td>\n",
       "      <td>0.882549</td>\n",
       "      <td>0.769480</td>\n",
       "      <td>0.876088</td>\n",
       "      <td>0.829582</td>\n",
       "      <td>0.935622</td>\n",
       "      <td>0.928118</td>\n",
       "      <td>0.829582</td>\n",
       "      <td>0.953990</td>\n",
       "    </tr>\n",
       "    <tr>\n",
       "      <th>1-4-4</th>\n",
       "      <td>0.947320</td>\n",
       "      <td>0.880749</td>\n",
       "      <td>0.763373</td>\n",
       "      <td>0.876567</td>\n",
       "      <td>0.846030</td>\n",
       "      <td>0.915537</td>\n",
       "      <td>0.909392</td>\n",
       "      <td>0.846030</td>\n",
       "      <td>0.951363</td>\n",
       "    </tr>\n",
       "    <tr>\n",
       "      <th>1-5-0</th>\n",
       "      <td>0.954383</td>\n",
       "      <td>0.886940</td>\n",
       "      <td>0.776266</td>\n",
       "      <td>0.882468</td>\n",
       "      <td>0.848049</td>\n",
       "      <td>0.925907</td>\n",
       "      <td>0.919798</td>\n",
       "      <td>0.848049</td>\n",
       "      <td>0.956759</td>\n",
       "    </tr>\n",
       "    <tr>\n",
       "      <th>1-5-1</th>\n",
       "      <td>0.954638</td>\n",
       "      <td>0.888865</td>\n",
       "      <td>0.780215</td>\n",
       "      <td>0.884386</td>\n",
       "      <td>0.849281</td>\n",
       "      <td>0.928529</td>\n",
       "      <td>0.922519</td>\n",
       "      <td>0.849281</td>\n",
       "      <td>0.957584</td>\n",
       "    </tr>\n",
       "    <tr>\n",
       "      <th>1-5-2</th>\n",
       "      <td>0.951948</td>\n",
       "      <td>0.885236</td>\n",
       "      <td>0.772892</td>\n",
       "      <td>0.880652</td>\n",
       "      <td>0.845991</td>\n",
       "      <td>0.924558</td>\n",
       "      <td>0.918274</td>\n",
       "      <td>0.845991</td>\n",
       "      <td>0.955335</td>\n",
       "    </tr>\n",
       "    <tr>\n",
       "      <th>1-5-3</th>\n",
       "      <td>0.951563</td>\n",
       "      <td>0.885486</td>\n",
       "      <td>0.775007</td>\n",
       "      <td>0.879481</td>\n",
       "      <td>0.834834</td>\n",
       "      <td>0.936239</td>\n",
       "      <td>0.929174</td>\n",
       "      <td>0.834834</td>\n",
       "      <td>0.955344</td>\n",
       "    </tr>\n",
       "    <tr>\n",
       "      <th>1-5-4</th>\n",
       "      <td>0.950443</td>\n",
       "      <td>0.882444</td>\n",
       "      <td>0.768078</td>\n",
       "      <td>0.876982</td>\n",
       "      <td>0.837219</td>\n",
       "      <td>0.927758</td>\n",
       "      <td>0.920711</td>\n",
       "      <td>0.837219</td>\n",
       "      <td>0.953637</td>\n",
       "    </tr>\n",
       "    <tr>\n",
       "      <th>1-6-0</th>\n",
       "      <td>0.950003</td>\n",
       "      <td>0.878178</td>\n",
       "      <td>0.760998</td>\n",
       "      <td>0.871225</td>\n",
       "      <td>0.823369</td>\n",
       "      <td>0.933097</td>\n",
       "      <td>0.924989</td>\n",
       "      <td>0.823369</td>\n",
       "      <td>0.952847</td>\n",
       "    </tr>\n",
       "    <tr>\n",
       "      <th>1-6-1</th>\n",
       "      <td>0.955499</td>\n",
       "      <td>0.885313</td>\n",
       "      <td>0.775010</td>\n",
       "      <td>0.879024</td>\n",
       "      <td>0.832506</td>\n",
       "      <td>0.938224</td>\n",
       "      <td>0.931049</td>\n",
       "      <td>0.832506</td>\n",
       "      <td>0.958013</td>\n",
       "    </tr>\n",
       "    <tr>\n",
       "      <th>1-6-2</th>\n",
       "      <td>0.954114</td>\n",
       "      <td>0.888644</td>\n",
       "      <td>0.779684</td>\n",
       "      <td>0.884240</td>\n",
       "      <td>0.849761</td>\n",
       "      <td>0.927604</td>\n",
       "      <td>0.921636</td>\n",
       "      <td>0.849761</td>\n",
       "      <td>0.956825</td>\n",
       "    </tr>\n",
       "    <tr>\n",
       "      <th>1-6-3</th>\n",
       "      <td>0.951289</td>\n",
       "      <td>0.886285</td>\n",
       "      <td>0.775656</td>\n",
       "      <td>0.881123</td>\n",
       "      <td>0.842028</td>\n",
       "      <td>0.930630</td>\n",
       "      <td>0.924025</td>\n",
       "      <td>0.842028</td>\n",
       "      <td>0.955226</td>\n",
       "    </tr>\n",
       "    <tr>\n",
       "      <th>1-6-4</th>\n",
       "      <td>0.954750</td>\n",
       "      <td>0.889145</td>\n",
       "      <td>0.781105</td>\n",
       "      <td>0.884370</td>\n",
       "      <td>0.847011</td>\n",
       "      <td>0.931362</td>\n",
       "      <td>0.925177</td>\n",
       "      <td>0.847011</td>\n",
       "      <td>0.957351</td>\n",
       "    </tr>\n",
       "    <tr>\n",
       "      <th>1-7-0</th>\n",
       "      <td>0.954871</td>\n",
       "      <td>0.890117</td>\n",
       "      <td>0.781940</td>\n",
       "      <td>0.886498</td>\n",
       "      <td>0.857379</td>\n",
       "      <td>0.922920</td>\n",
       "      <td>0.917664</td>\n",
       "      <td>0.857379</td>\n",
       "      <td>0.956854</td>\n",
       "    </tr>\n",
       "    <tr>\n",
       "      <th>1-7-1</th>\n",
       "      <td>0.950474</td>\n",
       "      <td>0.877447</td>\n",
       "      <td>0.762185</td>\n",
       "      <td>0.868525</td>\n",
       "      <td>0.808787</td>\n",
       "      <td>0.946242</td>\n",
       "      <td>0.937791</td>\n",
       "      <td>0.808787</td>\n",
       "      <td>0.952826</td>\n",
       "    </tr>\n",
       "    <tr>\n",
       "      <th>1-7-2</th>\n",
       "      <td>0.946860</td>\n",
       "      <td>0.878881</td>\n",
       "      <td>0.761466</td>\n",
       "      <td>0.872760</td>\n",
       "      <td>0.829948</td>\n",
       "      <td>0.927912</td>\n",
       "      <td>0.920229</td>\n",
       "      <td>0.829948</td>\n",
       "      <td>0.951391</td>\n",
       "    </tr>\n",
       "    <tr>\n",
       "      <th>1-7-3</th>\n",
       "      <td>0.951764</td>\n",
       "      <td>0.880884</td>\n",
       "      <td>0.766995</td>\n",
       "      <td>0.873665</td>\n",
       "      <td>0.822926</td>\n",
       "      <td>0.938956</td>\n",
       "      <td>0.931071</td>\n",
       "      <td>0.822926</td>\n",
       "      <td>0.954687</td>\n",
       "    </tr>\n",
       "    <tr>\n",
       "      <th>1-7-4</th>\n",
       "      <td>0.953096</td>\n",
       "      <td>0.884629</td>\n",
       "      <td>0.773698</td>\n",
       "      <td>0.878255</td>\n",
       "      <td>0.831448</td>\n",
       "      <td>0.937916</td>\n",
       "      <td>0.930646</td>\n",
       "      <td>0.831448</td>\n",
       "      <td>0.957073</td>\n",
       "    </tr>\n",
       "    <tr>\n",
       "      <th>1-8-0</th>\n",
       "      <td>0.951907</td>\n",
       "      <td>0.877832</td>\n",
       "      <td>0.762021</td>\n",
       "      <td>0.869574</td>\n",
       "      <td>0.813712</td>\n",
       "      <td>0.942079</td>\n",
       "      <td>0.933672</td>\n",
       "      <td>0.813712</td>\n",
       "      <td>0.953746</td>\n",
       "    </tr>\n",
       "    <tr>\n",
       "      <th>1-8-1</th>\n",
       "      <td>0.953923</td>\n",
       "      <td>0.881644</td>\n",
       "      <td>0.769764</td>\n",
       "      <td>0.873608</td>\n",
       "      <td>0.817251</td>\n",
       "      <td>0.946165</td>\n",
       "      <td>0.938313</td>\n",
       "      <td>0.817251</td>\n",
       "      <td>0.957432</td>\n",
       "    </tr>\n",
       "    <tr>\n",
       "      <th>1-8-2</th>\n",
       "      <td>0.953761</td>\n",
       "      <td>0.879430</td>\n",
       "      <td>0.765102</td>\n",
       "      <td>0.871378</td>\n",
       "      <td>0.816020</td>\n",
       "      <td>0.942966</td>\n",
       "      <td>0.934794</td>\n",
       "      <td>0.816020</td>\n",
       "      <td>0.955690</td>\n",
       "    </tr>\n",
       "    <tr>\n",
       "      <th>1-8-3</th>\n",
       "      <td>0.950570</td>\n",
       "      <td>0.882357</td>\n",
       "      <td>0.768203</td>\n",
       "      <td>0.876624</td>\n",
       "      <td>0.835065</td>\n",
       "      <td>0.929743</td>\n",
       "      <td>0.922537</td>\n",
       "      <td>0.835065</td>\n",
       "      <td>0.954376</td>\n",
       "    </tr>\n",
       "    <tr>\n",
       "      <th>1-8-4</th>\n",
       "      <td>0.946771</td>\n",
       "      <td>0.878515</td>\n",
       "      <td>0.762551</td>\n",
       "      <td>0.870910</td>\n",
       "      <td>0.818790</td>\n",
       "      <td>0.938359</td>\n",
       "      <td>0.930117</td>\n",
       "      <td>0.818790</td>\n",
       "      <td>0.952196</td>\n",
       "    </tr>\n",
       "    <tr>\n",
       "      <th>1-9-0</th>\n",
       "      <td>0.949677</td>\n",
       "      <td>0.882501</td>\n",
       "      <td>0.768205</td>\n",
       "      <td>0.877033</td>\n",
       "      <td>0.837200</td>\n",
       "      <td>0.927893</td>\n",
       "      <td>0.920845</td>\n",
       "      <td>0.837200</td>\n",
       "      <td>0.952541</td>\n",
       "    </tr>\n",
       "    <tr>\n",
       "      <th>1-9-1</th>\n",
       "      <td>0.951415</td>\n",
       "      <td>0.887874</td>\n",
       "      <td>0.777822</td>\n",
       "      <td>0.883763</td>\n",
       "      <td>0.851666</td>\n",
       "      <td>0.924153</td>\n",
       "      <td>0.918375</td>\n",
       "      <td>0.851666</td>\n",
       "      <td>0.955814</td>\n",
       "    </tr>\n",
       "    <tr>\n",
       "      <th>1-9-2</th>\n",
       "      <td>0.951767</td>\n",
       "      <td>0.886574</td>\n",
       "      <td>0.776017</td>\n",
       "      <td>0.881623</td>\n",
       "      <td>0.843914</td>\n",
       "      <td>0.929319</td>\n",
       "      <td>0.922860</td>\n",
       "      <td>0.843914</td>\n",
       "      <td>0.955796</td>\n",
       "    </tr>\n",
       "    <tr>\n",
       "      <th>1-9-3</th>\n",
       "      <td>0.949788</td>\n",
       "      <td>0.881163</td>\n",
       "      <td>0.767591</td>\n",
       "      <td>0.873937</td>\n",
       "      <td>0.823022</td>\n",
       "      <td>0.939419</td>\n",
       "      <td>0.931565</td>\n",
       "      <td>0.823022</td>\n",
       "      <td>0.954027</td>\n",
       "    </tr>\n",
       "    <tr>\n",
       "      <th>1-9-4</th>\n",
       "      <td>0.950488</td>\n",
       "      <td>0.878429</td>\n",
       "      <td>0.765103</td>\n",
       "      <td>0.868986</td>\n",
       "      <td>0.805556</td>\n",
       "      <td>0.951447</td>\n",
       "      <td>0.943259</td>\n",
       "      <td>0.805556</td>\n",
       "      <td>0.955213</td>\n",
       "    </tr>\n",
       "    <tr>\n",
       "      <th>1-10-0</th>\n",
       "      <td>0.952944</td>\n",
       "      <td>0.885900</td>\n",
       "      <td>0.773554</td>\n",
       "      <td>0.882064</td>\n",
       "      <td>0.852532</td>\n",
       "      <td>0.919335</td>\n",
       "      <td>0.913717</td>\n",
       "      <td>0.852532</td>\n",
       "      <td>0.955481</td>\n",
       "    </tr>\n",
       "    <tr>\n",
       "      <th>1-10-1</th>\n",
       "      <td>0.953144</td>\n",
       "      <td>0.888018</td>\n",
       "      <td>0.778861</td>\n",
       "      <td>0.883179</td>\n",
       "      <td>0.845760</td>\n",
       "      <td>0.930360</td>\n",
       "      <td>0.924063</td>\n",
       "      <td>0.845760</td>\n",
       "      <td>0.956783</td>\n",
       "    </tr>\n",
       "    <tr>\n",
       "      <th>1-10-2</th>\n",
       "      <td>0.946371</td>\n",
       "      <td>0.879440</td>\n",
       "      <td>0.762136</td>\n",
       "      <td>0.873755</td>\n",
       "      <td>0.833583</td>\n",
       "      <td>0.925387</td>\n",
       "      <td>0.917994</td>\n",
       "      <td>0.833583</td>\n",
       "      <td>0.951232</td>\n",
       "    </tr>\n",
       "    <tr>\n",
       "      <th>1-10-3</th>\n",
       "      <td>0.949072</td>\n",
       "      <td>0.877947</td>\n",
       "      <td>0.762546</td>\n",
       "      <td>0.869496</td>\n",
       "      <td>0.812385</td>\n",
       "      <td>0.943640</td>\n",
       "      <td>0.935245</td>\n",
       "      <td>0.812385</td>\n",
       "      <td>0.952638</td>\n",
       "    </tr>\n",
       "    <tr>\n",
       "      <th>1-10-4</th>\n",
       "      <td>0.953342</td>\n",
       "      <td>0.888634</td>\n",
       "      <td>0.779556</td>\n",
       "      <td>0.884338</td>\n",
       "      <td>0.850646</td>\n",
       "      <td>0.926698</td>\n",
       "      <td>0.920809</td>\n",
       "      <td>0.850646</td>\n",
       "      <td>0.956482</td>\n",
       "    </tr>\n",
       "    <tr>\n",
       "      <th>2-1-0</th>\n",
       "      <td>0.951635</td>\n",
       "      <td>0.877620</td>\n",
       "      <td>0.762136</td>\n",
       "      <td>0.868976</td>\n",
       "      <td>0.810846</td>\n",
       "      <td>0.944527</td>\n",
       "      <td>0.936086</td>\n",
       "      <td>0.810846</td>\n",
       "      <td>0.954329</td>\n",
       "    </tr>\n",
       "    <tr>\n",
       "      <th>2-1-1</th>\n",
       "      <td>0.955456</td>\n",
       "      <td>0.888345</td>\n",
       "      <td>0.781274</td>\n",
       "      <td>0.882102</td>\n",
       "      <td>0.834564</td>\n",
       "      <td>0.942233</td>\n",
       "      <td>0.935383</td>\n",
       "      <td>0.834564</td>\n",
       "      <td>0.959497</td>\n",
       "    </tr>\n",
       "    <tr>\n",
       "      <th>2-1-2</th>\n",
       "      <td>0.953469</td>\n",
       "      <td>0.882530</td>\n",
       "      <td>0.771859</td>\n",
       "      <td>0.874353</td>\n",
       "      <td>0.816636</td>\n",
       "      <td>0.948555</td>\n",
       "      <td>0.940848</td>\n",
       "      <td>0.816636</td>\n",
       "      <td>0.957146</td>\n",
       "    </tr>\n",
       "    <tr>\n",
       "      <th>2-1-3</th>\n",
       "      <td>0.954820</td>\n",
       "      <td>0.888923</td>\n",
       "      <td>0.780550</td>\n",
       "      <td>0.884240</td>\n",
       "      <td>0.847626</td>\n",
       "      <td>0.930302</td>\n",
       "      <td>0.924159</td>\n",
       "      <td>0.847626</td>\n",
       "      <td>0.957859</td>\n",
       "    </tr>\n",
       "    <tr>\n",
       "      <th>2-1-4</th>\n",
       "      <td>0.953741</td>\n",
       "      <td>0.887566</td>\n",
       "      <td>0.777124</td>\n",
       "      <td>0.883530</td>\n",
       "      <td>0.852070</td>\n",
       "      <td>0.923132</td>\n",
       "      <td>0.917402</td>\n",
       "      <td>0.852070</td>\n",
       "      <td>0.956906</td>\n",
       "    </tr>\n",
       "    <tr>\n",
       "      <th>2-2-0</th>\n",
       "      <td>0.955826</td>\n",
       "      <td>0.884658</td>\n",
       "      <td>0.775906</td>\n",
       "      <td>0.876784</td>\n",
       "      <td>0.819945</td>\n",
       "      <td>0.949500</td>\n",
       "      <td>0.942092</td>\n",
       "      <td>0.819945</td>\n",
       "      <td>0.958683</td>\n",
       "    </tr>\n",
       "    <tr>\n",
       "      <th>2-2-1</th>\n",
       "      <td>0.951851</td>\n",
       "      <td>0.885630</td>\n",
       "      <td>0.777403</td>\n",
       "      <td>0.878123</td>\n",
       "      <td>0.823215</td>\n",
       "      <td>0.948170</td>\n",
       "      <td>0.940879</td>\n",
       "      <td>0.823215</td>\n",
       "      <td>0.957014</td>\n",
       "    </tr>\n",
       "    <tr>\n",
       "      <th>2-2-2</th>\n",
       "      <td>0.943656</td>\n",
       "      <td>0.870081</td>\n",
       "      <td>0.748933</td>\n",
       "      <td>0.859525</td>\n",
       "      <td>0.794148</td>\n",
       "      <td>0.946165</td>\n",
       "      <td>0.936632</td>\n",
       "      <td>0.794148</td>\n",
       "      <td>0.949067</td>\n",
       "    </tr>\n",
       "    <tr>\n",
       "      <th>2-2-3</th>\n",
       "      <td>0.949552</td>\n",
       "      <td>0.880990</td>\n",
       "      <td>0.765979</td>\n",
       "      <td>0.874740</td>\n",
       "      <td>0.830275</td>\n",
       "      <td>0.931805</td>\n",
       "      <td>0.924238</td>\n",
       "      <td>0.830275</td>\n",
       "      <td>0.954254</td>\n",
       "    </tr>\n",
       "    <tr>\n",
       "      <th>2-2-4</th>\n",
       "      <td>0.952981</td>\n",
       "      <td>0.884225</td>\n",
       "      <td>0.772470</td>\n",
       "      <td>0.878155</td>\n",
       "      <td>0.833583</td>\n",
       "      <td>0.934967</td>\n",
       "      <td>0.927762</td>\n",
       "      <td>0.833583</td>\n",
       "      <td>0.956557</td>\n",
       "    </tr>\n",
       "    <tr>\n",
       "      <th>2-3-0</th>\n",
       "      <td>0.951324</td>\n",
       "      <td>0.881539</td>\n",
       "      <td>0.769267</td>\n",
       "      <td>0.873686</td>\n",
       "      <td>0.818560</td>\n",
       "      <td>0.944643</td>\n",
       "      <td>0.936774</td>\n",
       "      <td>0.818560</td>\n",
       "      <td>0.954414</td>\n",
       "    </tr>\n",
       "    <tr>\n",
       "      <th>2-3-1</th>\n",
       "      <td>0.948325</td>\n",
       "      <td>0.872171</td>\n",
       "      <td>0.752751</td>\n",
       "      <td>0.862047</td>\n",
       "      <td>0.797996</td>\n",
       "      <td>0.946493</td>\n",
       "      <td>0.937278</td>\n",
       "      <td>0.797996</td>\n",
       "      <td>0.951911</td>\n",
       "    </tr>\n",
       "    <tr>\n",
       "      <th>2-3-2</th>\n",
       "      <td>0.951195</td>\n",
       "      <td>0.886468</td>\n",
       "      <td>0.778001</td>\n",
       "      <td>0.879754</td>\n",
       "      <td>0.829813</td>\n",
       "      <td>0.943235</td>\n",
       "      <td>0.936092</td>\n",
       "      <td>0.829813</td>\n",
       "      <td>0.955229</td>\n",
       "    </tr>\n",
       "    <tr>\n",
       "      <th>2-3-3</th>\n",
       "      <td>0.951367</td>\n",
       "      <td>0.886458</td>\n",
       "      <td>0.776283</td>\n",
       "      <td>0.881060</td>\n",
       "      <td>0.840239</td>\n",
       "      <td>0.932769</td>\n",
       "      <td>0.926050</td>\n",
       "      <td>0.840239</td>\n",
       "      <td>0.955777</td>\n",
       "    </tr>\n",
       "    <tr>\n",
       "      <th>2-3-4</th>\n",
       "      <td>0.951254</td>\n",
       "      <td>0.888374</td>\n",
       "      <td>0.779348</td>\n",
       "      <td>0.883762</td>\n",
       "      <td>0.847857</td>\n",
       "      <td>0.928972</td>\n",
       "      <td>0.922843</td>\n",
       "      <td>0.847857</td>\n",
       "      <td>0.955398</td>\n",
       "    </tr>\n",
       "    <tr>\n",
       "      <th>2-4-0</th>\n",
       "      <td>0.950245</td>\n",
       "      <td>0.882463</td>\n",
       "      <td>0.770035</td>\n",
       "      <td>0.875441</td>\n",
       "      <td>0.825273</td>\n",
       "      <td>0.939766</td>\n",
       "      <td>0.932104</td>\n",
       "      <td>0.825273</td>\n",
       "      <td>0.954190</td>\n",
       "    </tr>\n",
       "    <tr>\n",
       "      <th>2-4-1</th>\n",
       "      <td>0.949422</td>\n",
       "      <td>0.881683</td>\n",
       "      <td>0.768491</td>\n",
       "      <td>0.874596</td>\n",
       "      <td>0.824350</td>\n",
       "      <td>0.939130</td>\n",
       "      <td>0.931364</td>\n",
       "      <td>0.824350</td>\n",
       "      <td>0.953788</td>\n",
       "    </tr>\n",
       "    <tr>\n",
       "      <th>2-4-2</th>\n",
       "      <td>0.953529</td>\n",
       "      <td>0.884918</td>\n",
       "      <td>0.772940</td>\n",
       "      <td>0.879667</td>\n",
       "      <td>0.840451</td>\n",
       "      <td>0.929473</td>\n",
       "      <td>0.922723</td>\n",
       "      <td>0.840451</td>\n",
       "      <td>0.955866</td>\n",
       "    </tr>\n",
       "    <tr>\n",
       "      <th>2-4-3</th>\n",
       "      <td>0.953240</td>\n",
       "      <td>0.885987</td>\n",
       "      <td>0.774656</td>\n",
       "      <td>0.881181</td>\n",
       "      <td>0.844702</td>\n",
       "      <td>0.927353</td>\n",
       "      <td>0.920952</td>\n",
       "      <td>0.844702</td>\n",
       "      <td>0.955585</td>\n",
       "    </tr>\n",
       "    <tr>\n",
       "      <th>2-4-4</th>\n",
       "      <td>0.952910</td>\n",
       "      <td>0.885640</td>\n",
       "      <td>0.774872</td>\n",
       "      <td>0.880006</td>\n",
       "      <td>0.837854</td>\n",
       "      <td>0.933521</td>\n",
       "      <td>0.926623</td>\n",
       "      <td>0.837854</td>\n",
       "      <td>0.955512</td>\n",
       "    </tr>\n",
       "    <tr>\n",
       "      <th>2-5-0</th>\n",
       "      <td>0.948518</td>\n",
       "      <td>0.874606</td>\n",
       "      <td>0.754877</td>\n",
       "      <td>0.866604</td>\n",
       "      <td>0.813808</td>\n",
       "      <td>0.935526</td>\n",
       "      <td>0.926725</td>\n",
       "      <td>0.813808</td>\n",
       "      <td>0.950815</td>\n",
       "    </tr>\n",
       "    <tr>\n",
       "      <th>2-5-1</th>\n",
       "      <td>0.950115</td>\n",
       "      <td>0.882078</td>\n",
       "      <td>0.770354</td>\n",
       "      <td>0.874261</td>\n",
       "      <td>0.819098</td>\n",
       "      <td>0.945182</td>\n",
       "      <td>0.937390</td>\n",
       "      <td>0.819098</td>\n",
       "      <td>0.954966</td>\n",
       "    </tr>\n",
       "    <tr>\n",
       "      <th>2-5-2</th>\n",
       "      <td>0.949517</td>\n",
       "      <td>0.883888</td>\n",
       "      <td>0.771871</td>\n",
       "      <td>0.877737</td>\n",
       "      <td>0.832756</td>\n",
       "      <td>0.935121</td>\n",
       "      <td>0.927855</td>\n",
       "      <td>0.832756</td>\n",
       "      <td>0.954609</td>\n",
       "    </tr>\n",
       "    <tr>\n",
       "      <th>2-5-3</th>\n",
       "      <td>0.949793</td>\n",
       "      <td>0.884552</td>\n",
       "      <td>0.774174</td>\n",
       "      <td>0.877704</td>\n",
       "      <td>0.827735</td>\n",
       "      <td>0.941481</td>\n",
       "      <td>0.934093</td>\n",
       "      <td>0.827735</td>\n",
       "      <td>0.954715</td>\n",
       "    </tr>\n",
       "    <tr>\n",
       "      <th>2-5-4</th>\n",
       "      <td>0.950280</td>\n",
       "      <td>0.879632</td>\n",
       "      <td>0.764461</td>\n",
       "      <td>0.872348</td>\n",
       "      <td>0.821753</td>\n",
       "      <td>0.937626</td>\n",
       "      <td>0.929582</td>\n",
       "      <td>0.821753</td>\n",
       "      <td>0.954246</td>\n",
       "    </tr>\n",
       "    <tr>\n",
       "      <th>2-6-0</th>\n",
       "      <td>0.953211</td>\n",
       "      <td>0.879132</td>\n",
       "      <td>0.765941</td>\n",
       "      <td>0.870106</td>\n",
       "      <td>0.808845</td>\n",
       "      <td>0.949558</td>\n",
       "      <td>0.941407</td>\n",
       "      <td>0.808845</td>\n",
       "      <td>0.955718</td>\n",
       "    </tr>\n",
       "    <tr>\n",
       "      <th>2-6-1</th>\n",
       "      <td>0.949210</td>\n",
       "      <td>0.886083</td>\n",
       "      <td>0.774994</td>\n",
       "      <td>0.881145</td>\n",
       "      <td>0.843702</td>\n",
       "      <td>0.928548</td>\n",
       "      <td>0.922066</td>\n",
       "      <td>0.843702</td>\n",
       "      <td>0.954879</td>\n",
       "    </tr>\n",
       "    <tr>\n",
       "      <th>2-6-2</th>\n",
       "      <td>0.953854</td>\n",
       "      <td>0.887874</td>\n",
       "      <td>0.777587</td>\n",
       "      <td>0.884018</td>\n",
       "      <td>0.853782</td>\n",
       "      <td>0.922033</td>\n",
       "      <td>0.916474</td>\n",
       "      <td>0.853782</td>\n",
       "      <td>0.956065</td>\n",
       "    </tr>\n",
       "    <tr>\n",
       "      <th>2-6-3</th>\n",
       "      <td>0.950831</td>\n",
       "      <td>0.882020</td>\n",
       "      <td>0.768851</td>\n",
       "      <td>0.875191</td>\n",
       "      <td>0.826485</td>\n",
       "      <td>0.937665</td>\n",
       "      <td>0.929997</td>\n",
       "      <td>0.826485</td>\n",
       "      <td>0.953090</td>\n",
       "    </tr>\n",
       "    <tr>\n",
       "      <th>2-6-4</th>\n",
       "      <td>0.946683</td>\n",
       "      <td>0.878130</td>\n",
       "      <td>0.763321</td>\n",
       "      <td>0.869419</td>\n",
       "      <td>0.810615</td>\n",
       "      <td>0.945780</td>\n",
       "      <td>0.937422</td>\n",
       "      <td>0.810615</td>\n",
       "      <td>0.952685</td>\n",
       "    </tr>\n",
       "    <tr>\n",
       "      <th>2-7-0</th>\n",
       "      <td>0.952361</td>\n",
       "      <td>0.884109</td>\n",
       "      <td>0.770963</td>\n",
       "      <td>0.879153</td>\n",
       "      <td>0.842259</td>\n",
       "      <td>0.926042</td>\n",
       "      <td>0.919426</td>\n",
       "      <td>0.842259</td>\n",
       "      <td>0.955396</td>\n",
       "    </tr>\n",
       "    <tr>\n",
       "      <th>2-7-1</th>\n",
       "      <td>0.955081</td>\n",
       "      <td>0.891763</td>\n",
       "      <td>0.787195</td>\n",
       "      <td>0.886415</td>\n",
       "      <td>0.843837</td>\n",
       "      <td>0.939785</td>\n",
       "      <td>0.933518</td>\n",
       "      <td>0.843837</td>\n",
       "      <td>0.958487</td>\n",
       "    </tr>\n",
       "    <tr>\n",
       "      <th>2-7-2</th>\n",
       "      <td>0.953795</td>\n",
       "      <td>0.886998</td>\n",
       "      <td>0.777327</td>\n",
       "      <td>0.881658</td>\n",
       "      <td>0.841047</td>\n",
       "      <td>0.933039</td>\n",
       "      <td>0.926391</td>\n",
       "      <td>0.841047</td>\n",
       "      <td>0.956439</td>\n",
       "    </tr>\n",
       "    <tr>\n",
       "      <th>2-7-3</th>\n",
       "      <td>0.952142</td>\n",
       "      <td>0.887585</td>\n",
       "      <td>0.779052</td>\n",
       "      <td>0.881827</td>\n",
       "      <td>0.838027</td>\n",
       "      <td>0.937241</td>\n",
       "      <td>0.930457</td>\n",
       "      <td>0.838027</td>\n",
       "      <td>0.956348</td>\n",
       "    </tr>\n",
       "    <tr>\n",
       "      <th>2-7-4</th>\n",
       "      <td>0.953288</td>\n",
       "      <td>0.880162</td>\n",
       "      <td>0.766805</td>\n",
       "      <td>0.872004</td>\n",
       "      <td>0.815616</td>\n",
       "      <td>0.944835</td>\n",
       "      <td>0.936767</td>\n",
       "      <td>0.815616</td>\n",
       "      <td>0.955447</td>\n",
       "    </tr>\n",
       "    <tr>\n",
       "      <th>2-8-0</th>\n",
       "      <td>0.955854</td>\n",
       "      <td>0.888326</td>\n",
       "      <td>0.779982</td>\n",
       "      <td>0.883062</td>\n",
       "      <td>0.842471</td>\n",
       "      <td>0.934273</td>\n",
       "      <td>0.927762</td>\n",
       "      <td>0.842471</td>\n",
       "      <td>0.958331</td>\n",
       "    </tr>\n",
       "    <tr>\n",
       "      <th>2-8-1</th>\n",
       "      <td>0.951488</td>\n",
       "      <td>0.884215</td>\n",
       "      <td>0.773601</td>\n",
       "      <td>0.877271</td>\n",
       "      <td>0.826812</td>\n",
       "      <td>0.941732</td>\n",
       "      <td>0.934288</td>\n",
       "      <td>0.826812</td>\n",
       "      <td>0.955671</td>\n",
       "    </tr>\n",
       "    <tr>\n",
       "      <th>2-8-2</th>\n",
       "      <td>0.953114</td>\n",
       "      <td>0.881808</td>\n",
       "      <td>0.770452</td>\n",
       "      <td>0.873548</td>\n",
       "      <td>0.815674</td>\n",
       "      <td>0.948073</td>\n",
       "      <td>0.940261</td>\n",
       "      <td>0.815674</td>\n",
       "      <td>0.955902</td>\n",
       "    </tr>\n",
       "    <tr>\n",
       "      <th>2-8-3</th>\n",
       "      <td>0.949875</td>\n",
       "      <td>0.885582</td>\n",
       "      <td>0.774852</td>\n",
       "      <td>0.879865</td>\n",
       "      <td>0.837161</td>\n",
       "      <td>0.934099</td>\n",
       "      <td>0.927159</td>\n",
       "      <td>0.837161</td>\n",
       "      <td>0.954345</td>\n",
       "    </tr>\n",
       "    <tr>\n",
       "      <th>2-8-4</th>\n",
       "      <td>0.948767</td>\n",
       "      <td>0.878101</td>\n",
       "      <td>0.762615</td>\n",
       "      <td>0.869827</td>\n",
       "      <td>0.813731</td>\n",
       "      <td>0.942599</td>\n",
       "      <td>0.934230</td>\n",
       "      <td>0.813731</td>\n",
       "      <td>0.952483</td>\n",
       "    </tr>\n",
       "    <tr>\n",
       "      <th>2-9-0</th>\n",
       "      <td>0.946680</td>\n",
       "      <td>0.880643</td>\n",
       "      <td>0.765390</td>\n",
       "      <td>0.874286</td>\n",
       "      <td>0.829255</td>\n",
       "      <td>0.932133</td>\n",
       "      <td>0.924489</td>\n",
       "      <td>0.829255</td>\n",
       "      <td>0.950451</td>\n",
       "    </tr>\n",
       "    <tr>\n",
       "      <th>2-9-1</th>\n",
       "      <td>0.954170</td>\n",
       "      <td>0.890329</td>\n",
       "      <td>0.783301</td>\n",
       "      <td>0.885769</td>\n",
       "      <td>0.849569</td>\n",
       "      <td>0.931169</td>\n",
       "      <td>0.925191</td>\n",
       "      <td>0.849569</td>\n",
       "      <td>0.957390</td>\n",
       "    </tr>\n",
       "    <tr>\n",
       "      <th>2-9-2</th>\n",
       "      <td>0.952372</td>\n",
       "      <td>0.887806</td>\n",
       "      <td>0.777804</td>\n",
       "      <td>0.883571</td>\n",
       "      <td>0.850589</td>\n",
       "      <td>0.925098</td>\n",
       "      <td>0.919215</td>\n",
       "      <td>0.850589</td>\n",
       "      <td>0.956701</td>\n",
       "    </tr>\n",
       "    <tr>\n",
       "      <th>2-9-3</th>\n",
       "      <td>0.947728</td>\n",
       "      <td>0.874096</td>\n",
       "      <td>0.756134</td>\n",
       "      <td>0.864455</td>\n",
       "      <td>0.802170</td>\n",
       "      <td>0.946165</td>\n",
       "      <td>0.937226</td>\n",
       "      <td>0.802170</td>\n",
       "      <td>0.951607</td>\n",
       "    </tr>\n",
       "    <tr>\n",
       "      <th>2-9-4</th>\n",
       "      <td>0.951201</td>\n",
       "      <td>0.883175</td>\n",
       "      <td>0.770964</td>\n",
       "      <td>0.876574</td>\n",
       "      <td>0.828870</td>\n",
       "      <td>0.937588</td>\n",
       "      <td>0.930104</td>\n",
       "      <td>0.828870</td>\n",
       "      <td>0.953751</td>\n",
       "    </tr>\n",
       "    <tr>\n",
       "      <th>2-10-0</th>\n",
       "      <td>0.951882</td>\n",
       "      <td>0.885457</td>\n",
       "      <td>0.773370</td>\n",
       "      <td>0.880848</td>\n",
       "      <td>0.845933</td>\n",
       "      <td>0.925059</td>\n",
       "      <td>0.918768</td>\n",
       "      <td>0.845933</td>\n",
       "      <td>0.954897</td>\n",
       "    </tr>\n",
       "    <tr>\n",
       "      <th>2-10-1</th>\n",
       "      <td>0.953037</td>\n",
       "      <td>0.887864</td>\n",
       "      <td>0.778893</td>\n",
       "      <td>0.882715</td>\n",
       "      <td>0.843125</td>\n",
       "      <td>0.932692</td>\n",
       "      <td>0.926206</td>\n",
       "      <td>0.843125</td>\n",
       "      <td>0.957248</td>\n",
       "    </tr>\n",
       "    <tr>\n",
       "      <th>2-10-2</th>\n",
       "      <td>0.955339</td>\n",
       "      <td>0.886016</td>\n",
       "      <td>0.777102</td>\n",
       "      <td>0.879267</td>\n",
       "      <td>0.829294</td>\n",
       "      <td>0.942850</td>\n",
       "      <td>0.935648</td>\n",
       "      <td>0.829294</td>\n",
       "      <td>0.958038</td>\n",
       "    </tr>\n",
       "    <tr>\n",
       "      <th>2-10-3</th>\n",
       "      <td>0.951519</td>\n",
       "      <td>0.871670</td>\n",
       "      <td>0.752960</td>\n",
       "      <td>0.860734</td>\n",
       "      <td>0.792359</td>\n",
       "      <td>0.951138</td>\n",
       "      <td>0.942024</td>\n",
       "      <td>0.792359</td>\n",
       "      <td>0.954469</td>\n",
       "    </tr>\n",
       "    <tr>\n",
       "      <th>2-10-4</th>\n",
       "      <td>0.949961</td>\n",
       "      <td>0.882126</td>\n",
       "      <td>0.768619</td>\n",
       "      <td>0.875649</td>\n",
       "      <td>0.829217</td>\n",
       "      <td>0.935140</td>\n",
       "      <td>0.927589</td>\n",
       "      <td>0.829217</td>\n",
       "      <td>0.954425</td>\n",
       "    </tr>\n",
       "  </tbody>\n",
       "</table>\n",
       "</div>"
      ],
      "text/plain": [
       "         roc_auc  accuracy       mcc        f1  sensitivity  specificity  \\\n",
       "1-1-0   0.954303  0.884668  0.773600  0.878431     0.832545     0.936894   \n",
       "1-1-1   0.954155  0.886275  0.775820  0.880951     0.840720     0.931921   \n",
       "1-1-2   0.954739  0.890213  0.782496  0.886206     0.854147     0.926351   \n",
       "1-1-3   0.954440  0.885736  0.776273  0.879164     0.830525     0.941057   \n",
       "1-1-4   0.950397  0.876850  0.759716  0.868758     0.814385     0.939438   \n",
       "1-2-0   0.950416  0.884225  0.771450  0.879033     0.840470     0.928066   \n",
       "1-2-1   0.950564  0.871420  0.751490  0.861069     0.796130     0.946859   \n",
       "1-2-2   0.949817  0.873865  0.754401  0.865068     0.807864     0.939997   \n",
       "1-2-3   0.952646  0.875502  0.758832  0.866060     0.804209     0.946936   \n",
       "1-2-4   0.952546  0.883791  0.772386  0.877088     0.828428     0.939265   \n",
       "1-3-0   0.952416  0.880008  0.764837  0.873035     0.824273     0.935853   \n",
       "1-3-1   0.953334  0.885399  0.774843  0.879381     0.834680     0.936219   \n",
       "1-3-2   0.950939  0.881904  0.767108  0.876316     0.835892     0.928008   \n",
       "1-3-3   0.951166  0.879931  0.766394  0.871720     0.815116     0.944874   \n",
       "1-3-4   0.954055  0.890608  0.782422  0.887616     0.863131     0.918140   \n",
       "1-4-0   0.950011  0.880643  0.766275  0.873586     0.824004     0.937395   \n",
       "1-4-1   0.953831  0.886709  0.775664  0.882369     0.848973     0.924520   \n",
       "1-4-2   0.952986  0.889077  0.781216  0.884082     0.845145     0.933097   \n",
       "1-4-3   0.948895  0.882549  0.769480  0.876088     0.829582     0.935622   \n",
       "1-4-4   0.947320  0.880749  0.763373  0.876567     0.846030     0.915537   \n",
       "1-5-0   0.954383  0.886940  0.776266  0.882468     0.848049     0.925907   \n",
       "1-5-1   0.954638  0.888865  0.780215  0.884386     0.849281     0.928529   \n",
       "1-5-2   0.951948  0.885236  0.772892  0.880652     0.845991     0.924558   \n",
       "1-5-3   0.951563  0.885486  0.775007  0.879481     0.834834     0.936239   \n",
       "1-5-4   0.950443  0.882444  0.768078  0.876982     0.837219     0.927758   \n",
       "1-6-0   0.950003  0.878178  0.760998  0.871225     0.823369     0.933097   \n",
       "1-6-1   0.955499  0.885313  0.775010  0.879024     0.832506     0.938224   \n",
       "1-6-2   0.954114  0.888644  0.779684  0.884240     0.849761     0.927604   \n",
       "1-6-3   0.951289  0.886285  0.775656  0.881123     0.842028     0.930630   \n",
       "1-6-4   0.954750  0.889145  0.781105  0.884370     0.847011     0.931362   \n",
       "1-7-0   0.954871  0.890117  0.781940  0.886498     0.857379     0.922920   \n",
       "1-7-1   0.950474  0.877447  0.762185  0.868525     0.808787     0.946242   \n",
       "1-7-2   0.946860  0.878881  0.761466  0.872760     0.829948     0.927912   \n",
       "1-7-3   0.951764  0.880884  0.766995  0.873665     0.822926     0.938956   \n",
       "1-7-4   0.953096  0.884629  0.773698  0.878255     0.831448     0.937916   \n",
       "1-8-0   0.951907  0.877832  0.762021  0.869574     0.813712     0.942079   \n",
       "1-8-1   0.953923  0.881644  0.769764  0.873608     0.817251     0.946165   \n",
       "1-8-2   0.953761  0.879430  0.765102  0.871378     0.816020     0.942966   \n",
       "1-8-3   0.950570  0.882357  0.768203  0.876624     0.835065     0.929743   \n",
       "1-8-4   0.946771  0.878515  0.762551  0.870910     0.818790     0.938359   \n",
       "1-9-0   0.949677  0.882501  0.768205  0.877033     0.837200     0.927893   \n",
       "1-9-1   0.951415  0.887874  0.777822  0.883763     0.851666     0.924153   \n",
       "1-9-2   0.951767  0.886574  0.776017  0.881623     0.843914     0.929319   \n",
       "1-9-3   0.949788  0.881163  0.767591  0.873937     0.823022     0.939419   \n",
       "1-9-4   0.950488  0.878429  0.765103  0.868986     0.805556     0.951447   \n",
       "1-10-0  0.952944  0.885900  0.773554  0.882064     0.852532     0.919335   \n",
       "1-10-1  0.953144  0.888018  0.778861  0.883179     0.845760     0.930360   \n",
       "1-10-2  0.946371  0.879440  0.762136  0.873755     0.833583     0.925387   \n",
       "1-10-3  0.949072  0.877947  0.762546  0.869496     0.812385     0.943640   \n",
       "1-10-4  0.953342  0.888634  0.779556  0.884338     0.850646     0.926698   \n",
       "2-1-0   0.951635  0.877620  0.762136  0.868976     0.810846     0.944527   \n",
       "2-1-1   0.955456  0.888345  0.781274  0.882102     0.834564     0.942233   \n",
       "2-1-2   0.953469  0.882530  0.771859  0.874353     0.816636     0.948555   \n",
       "2-1-3   0.954820  0.888923  0.780550  0.884240     0.847626     0.930302   \n",
       "2-1-4   0.953741  0.887566  0.777124  0.883530     0.852070     0.923132   \n",
       "2-2-0   0.955826  0.884658  0.775906  0.876784     0.819945     0.949500   \n",
       "2-2-1   0.951851  0.885630  0.777403  0.878123     0.823215     0.948170   \n",
       "2-2-2   0.943656  0.870081  0.748933  0.859525     0.794148     0.946165   \n",
       "2-2-3   0.949552  0.880990  0.765979  0.874740     0.830275     0.931805   \n",
       "2-2-4   0.952981  0.884225  0.772470  0.878155     0.833583     0.934967   \n",
       "2-3-0   0.951324  0.881539  0.769267  0.873686     0.818560     0.944643   \n",
       "2-3-1   0.948325  0.872171  0.752751  0.862047     0.797996     0.946493   \n",
       "2-3-2   0.951195  0.886468  0.778001  0.879754     0.829813     0.943235   \n",
       "2-3-3   0.951367  0.886458  0.776283  0.881060     0.840239     0.932769   \n",
       "2-3-4   0.951254  0.888374  0.779348  0.883762     0.847857     0.928972   \n",
       "2-4-0   0.950245  0.882463  0.770035  0.875441     0.825273     0.939766   \n",
       "2-4-1   0.949422  0.881683  0.768491  0.874596     0.824350     0.939130   \n",
       "2-4-2   0.953529  0.884918  0.772940  0.879667     0.840451     0.929473   \n",
       "2-4-3   0.953240  0.885987  0.774656  0.881181     0.844702     0.927353   \n",
       "2-4-4   0.952910  0.885640  0.774872  0.880006     0.837854     0.933521   \n",
       "2-5-0   0.948518  0.874606  0.754877  0.866604     0.813808     0.935526   \n",
       "2-5-1   0.950115  0.882078  0.770354  0.874261     0.819098     0.945182   \n",
       "2-5-2   0.949517  0.883888  0.771871  0.877737     0.832756     0.935121   \n",
       "2-5-3   0.949793  0.884552  0.774174  0.877704     0.827735     0.941481   \n",
       "2-5-4   0.950280  0.879632  0.764461  0.872348     0.821753     0.937626   \n",
       "2-6-0   0.953211  0.879132  0.765941  0.870106     0.808845     0.949558   \n",
       "2-6-1   0.949210  0.886083  0.774994  0.881145     0.843702     0.928548   \n",
       "2-6-2   0.953854  0.887874  0.777587  0.884018     0.853782     0.922033   \n",
       "2-6-3   0.950831  0.882020  0.768851  0.875191     0.826485     0.937665   \n",
       "2-6-4   0.946683  0.878130  0.763321  0.869419     0.810615     0.945780   \n",
       "2-7-0   0.952361  0.884109  0.770963  0.879153     0.842259     0.926042   \n",
       "2-7-1   0.955081  0.891763  0.787195  0.886415     0.843837     0.939785   \n",
       "2-7-2   0.953795  0.886998  0.777327  0.881658     0.841047     0.933039   \n",
       "2-7-3   0.952142  0.887585  0.779052  0.881827     0.838027     0.937241   \n",
       "2-7-4   0.953288  0.880162  0.766805  0.872004     0.815616     0.944835   \n",
       "2-8-0   0.955854  0.888326  0.779982  0.883062     0.842471     0.934273   \n",
       "2-8-1   0.951488  0.884215  0.773601  0.877271     0.826812     0.941732   \n",
       "2-8-2   0.953114  0.881808  0.770452  0.873548     0.815674     0.948073   \n",
       "2-8-3   0.949875  0.885582  0.774852  0.879865     0.837161     0.934099   \n",
       "2-8-4   0.948767  0.878101  0.762615  0.869827     0.813731     0.942599   \n",
       "2-9-0   0.946680  0.880643  0.765390  0.874286     0.829255     0.932133   \n",
       "2-9-1   0.954170  0.890329  0.783301  0.885769     0.849569     0.931169   \n",
       "2-9-2   0.952372  0.887806  0.777804  0.883571     0.850589     0.925098   \n",
       "2-9-3   0.947728  0.874096  0.756134  0.864455     0.802170     0.946165   \n",
       "2-9-4   0.951201  0.883175  0.770964  0.876574     0.828870     0.937588   \n",
       "2-10-0  0.951882  0.885457  0.773370  0.880848     0.845933     0.925059   \n",
       "2-10-1  0.953037  0.887864  0.778893  0.882715     0.843125     0.932692   \n",
       "2-10-2  0.955339  0.886016  0.777102  0.879267     0.829294     0.942850   \n",
       "2-10-3  0.951519  0.871670  0.752960  0.860734     0.792359     0.951138   \n",
       "2-10-4  0.949961  0.882126  0.768619  0.875649     0.829217     0.935140   \n",
       "\n",
       "        precision    recall      aupr  \n",
       "1-1-0    0.929672  0.832545  0.957119  \n",
       "1-1-1    0.925227  0.840720  0.957109  \n",
       "1-1-2    0.920764  0.854147  0.957623  \n",
       "1-1-3    0.933855  0.830525  0.957218  \n",
       "1-1-4    0.930910  0.814385  0.953704  \n",
       "1-2-0    0.921304  0.840470  0.955023  \n",
       "1-2-1    0.937544  0.796130  0.952601  \n",
       "1-2-2    0.930989  0.807864  0.952447  \n",
       "1-2-3    0.938217  0.804209  0.955500  \n",
       "1-2-4    0.931820  0.828428  0.955263  \n",
       "1-3-0    0.927929  0.824273  0.954656  \n",
       "1-3-1    0.929142  0.834680  0.956948  \n",
       "1-3-2    0.920849  0.835892  0.954078  \n",
       "1-3-3    0.936772  0.815116  0.954910  \n",
       "1-3-4    0.913531  0.863131  0.958513  \n",
       "1-4-0    0.929518  0.824004  0.953771  \n",
       "1-4-1    0.918500  0.848973  0.956878  \n",
       "1-4-2    0.926780  0.845145  0.956289  \n",
       "1-4-3    0.928118  0.829582  0.953990  \n",
       "1-4-4    0.909392  0.846030  0.951363  \n",
       "1-5-0    0.919798  0.848049  0.956759  \n",
       "1-5-1    0.922519  0.849281  0.957584  \n",
       "1-5-2    0.918274  0.845991  0.955335  \n",
       "1-5-3    0.929174  0.834834  0.955344  \n",
       "1-5-4    0.920711  0.837219  0.953637  \n",
       "1-6-0    0.924989  0.823369  0.952847  \n",
       "1-6-1    0.931049  0.832506  0.958013  \n",
       "1-6-2    0.921636  0.849761  0.956825  \n",
       "1-6-3    0.924025  0.842028  0.955226  \n",
       "1-6-4    0.925177  0.847011  0.957351  \n",
       "1-7-0    0.917664  0.857379  0.956854  \n",
       "1-7-1    0.937791  0.808787  0.952826  \n",
       "1-7-2    0.920229  0.829948  0.951391  \n",
       "1-7-3    0.931071  0.822926  0.954687  \n",
       "1-7-4    0.930646  0.831448  0.957073  \n",
       "1-8-0    0.933672  0.813712  0.953746  \n",
       "1-8-1    0.938313  0.817251  0.957432  \n",
       "1-8-2    0.934794  0.816020  0.955690  \n",
       "1-8-3    0.922537  0.835065  0.954376  \n",
       "1-8-4    0.930117  0.818790  0.952196  \n",
       "1-9-0    0.920845  0.837200  0.952541  \n",
       "1-9-1    0.918375  0.851666  0.955814  \n",
       "1-9-2    0.922860  0.843914  0.955796  \n",
       "1-9-3    0.931565  0.823022  0.954027  \n",
       "1-9-4    0.943259  0.805556  0.955213  \n",
       "1-10-0   0.913717  0.852532  0.955481  \n",
       "1-10-1   0.924063  0.845760  0.956783  \n",
       "1-10-2   0.917994  0.833583  0.951232  \n",
       "1-10-3   0.935245  0.812385  0.952638  \n",
       "1-10-4   0.920809  0.850646  0.956482  \n",
       "2-1-0    0.936086  0.810846  0.954329  \n",
       "2-1-1    0.935383  0.834564  0.959497  \n",
       "2-1-2    0.940848  0.816636  0.957146  \n",
       "2-1-3    0.924159  0.847626  0.957859  \n",
       "2-1-4    0.917402  0.852070  0.956906  \n",
       "2-2-0    0.942092  0.819945  0.958683  \n",
       "2-2-1    0.940879  0.823215  0.957014  \n",
       "2-2-2    0.936632  0.794148  0.949067  \n",
       "2-2-3    0.924238  0.830275  0.954254  \n",
       "2-2-4    0.927762  0.833583  0.956557  \n",
       "2-3-0    0.936774  0.818560  0.954414  \n",
       "2-3-1    0.937278  0.797996  0.951911  \n",
       "2-3-2    0.936092  0.829813  0.955229  \n",
       "2-3-3    0.926050  0.840239  0.955777  \n",
       "2-3-4    0.922843  0.847857  0.955398  \n",
       "2-4-0    0.932104  0.825273  0.954190  \n",
       "2-4-1    0.931364  0.824350  0.953788  \n",
       "2-4-2    0.922723  0.840451  0.955866  \n",
       "2-4-3    0.920952  0.844702  0.955585  \n",
       "2-4-4    0.926623  0.837854  0.955512  \n",
       "2-5-0    0.926725  0.813808  0.950815  \n",
       "2-5-1    0.937390  0.819098  0.954966  \n",
       "2-5-2    0.927855  0.832756  0.954609  \n",
       "2-5-3    0.934093  0.827735  0.954715  \n",
       "2-5-4    0.929582  0.821753  0.954246  \n",
       "2-6-0    0.941407  0.808845  0.955718  \n",
       "2-6-1    0.922066  0.843702  0.954879  \n",
       "2-6-2    0.916474  0.853782  0.956065  \n",
       "2-6-3    0.929997  0.826485  0.953090  \n",
       "2-6-4    0.937422  0.810615  0.952685  \n",
       "2-7-0    0.919426  0.842259  0.955396  \n",
       "2-7-1    0.933518  0.843837  0.958487  \n",
       "2-7-2    0.926391  0.841047  0.956439  \n",
       "2-7-3    0.930457  0.838027  0.956348  \n",
       "2-7-4    0.936767  0.815616  0.955447  \n",
       "2-8-0    0.927762  0.842471  0.958331  \n",
       "2-8-1    0.934288  0.826812  0.955671  \n",
       "2-8-2    0.940261  0.815674  0.955902  \n",
       "2-8-3    0.927159  0.837161  0.954345  \n",
       "2-8-4    0.934230  0.813731  0.952483  \n",
       "2-9-0    0.924489  0.829255  0.950451  \n",
       "2-9-1    0.925191  0.849569  0.957390  \n",
       "2-9-2    0.919215  0.850589  0.956701  \n",
       "2-9-3    0.937226  0.802170  0.951607  \n",
       "2-9-4    0.930104  0.828870  0.953751  \n",
       "2-10-0   0.918768  0.845933  0.954897  \n",
       "2-10-1   0.926206  0.843125  0.957248  \n",
       "2-10-2   0.935648  0.829294  0.958038  \n",
       "2-10-3   0.942024  0.792359  0.954469  \n",
       "2-10-4   0.927589  0.829217  0.954425  "
      ]
     },
     "execution_count": 32,
     "metadata": {},
     "output_type": "execute_result"
    }
   ],
   "source": [
    "external_metrics_pd"
   ]
  },
  {
   "cell_type": "code",
   "execution_count": 26,
   "metadata": {},
   "outputs": [
    {
     "name": "stdout",
     "output_type": "stream",
     "text": [
      "Idx0 - model_layer1_multihead1_fold0.pkl: # layer = 1 | # heads = 1 | Fold = 0\n"
     ]
    },
    {
     "name": "stderr",
     "output_type": "stream",
     "text": [
      "  1%|▏         | 2/141 [00:00<00:08, 16.02it/s]"
     ]
    },
    {
     "name": "stdout",
     "output_type": "stream",
     "text": [
      "VAL Label info: Counter({0: 71837, 1: 71837})\n"
     ]
    },
    {
     "name": "stderr",
     "output_type": "stream",
     "text": [
      "100%|██████████| 141/141 [00:07<00:00, 17.94it/s]\n"
     ]
    },
    {
     "name": "stdout",
     "output_type": "stream",
     "text": [
      "tn = 66457, fp = 5380, fn = 5253, tp = 66584\n",
      "y_pred: 0 = 71710 | 1 = 71964\n",
      "y_true: 0 = 71837 | 1 = 71837\n",
      "auc=0.9763|sensitivity=0.9269|specificity=0.9251|acc=0.9260|mcc=0.8520\n",
      "precision=0.9252|recall=0.9269|f1=0.9261|aupr=0.9763\n",
      "Idx1 - model_layer1_multihead1_fold1.pkl: # layer = 1 | # heads = 1 | Fold = 1\n"
     ]
    },
    {
     "name": "stderr",
     "output_type": "stream",
     "text": [
      "  1%|▏         | 2/141 [00:00<00:08, 16.68it/s]"
     ]
    },
    {
     "name": "stdout",
     "output_type": "stream",
     "text": [
      "VAL Label info: Counter({1: 71837, 0: 71837})\n"
     ]
    },
    {
     "name": "stderr",
     "output_type": "stream",
     "text": [
      "100%|██████████| 141/141 [00:07<00:00, 18.42it/s]\n"
     ]
    },
    {
     "name": "stdout",
     "output_type": "stream",
     "text": [
      "tn = 66262, fp = 5575, fn = 4603, tp = 67234\n",
      "y_pred: 0 = 70865 | 1 = 72809\n",
      "y_true: 0 = 71837 | 1 = 71837\n",
      "auc=0.9783|sensitivity=0.9359|specificity=0.9224|acc=0.9292|mcc=0.8584\n",
      "precision=0.9234|recall=0.9359|f1=0.9296|aupr=0.9778\n",
      "Idx2 - model_layer1_multihead1_fold2.pkl: # layer = 1 | # heads = 1 | Fold = 2\n"
     ]
    },
    {
     "name": "stderr",
     "output_type": "stream",
     "text": [
      "  1%|▏         | 2/141 [00:00<00:08, 17.33it/s]"
     ]
    },
    {
     "name": "stdout",
     "output_type": "stream",
     "text": [
      "VAL Label info: Counter({1: 71837, 0: 71837})\n"
     ]
    },
    {
     "name": "stderr",
     "output_type": "stream",
     "text": [
      "100%|██████████| 141/141 [00:07<00:00, 18.02it/s]\n"
     ]
    },
    {
     "name": "stdout",
     "output_type": "stream",
     "text": [
      "tn = 66111, fp = 5726, fn = 4632, tp = 67205\n",
      "y_pred: 0 = 70743 | 1 = 72931\n",
      "y_true: 0 = 71837 | 1 = 71837\n",
      "auc=0.9784|sensitivity=0.9355|specificity=0.9203|acc=0.9279|mcc=0.8559\n",
      "precision=0.9215|recall=0.9355|f1=0.9285|aupr=0.9779\n",
      "Idx3 - model_layer1_multihead1_fold3.pkl: # layer = 1 | # heads = 1 | Fold = 3\n"
     ]
    },
    {
     "name": "stderr",
     "output_type": "stream",
     "text": [
      "  1%|▏         | 2/141 [00:00<00:08, 15.93it/s]"
     ]
    },
    {
     "name": "stdout",
     "output_type": "stream",
     "text": [
      "VAL Label info: Counter({0: 71837, 1: 71837})\n"
     ]
    },
    {
     "name": "stderr",
     "output_type": "stream",
     "text": [
      "100%|██████████| 141/141 [00:08<00:00, 16.25it/s]\n"
     ]
    },
    {
     "name": "stdout",
     "output_type": "stream",
     "text": [
      "tn = 66430, fp = 5407, fn = 5043, tp = 66794\n",
      "y_pred: 0 = 71473 | 1 = 72201\n",
      "y_true: 0 = 71837 | 1 = 71837\n",
      "auc=0.9781|sensitivity=0.9298|specificity=0.9247|acc=0.9273|mcc=0.8545\n",
      "precision=0.9251|recall=0.9298|f1=0.9274|aupr=0.9775\n",
      "Idx4 - model_layer1_multihead1_fold4.pkl: # layer = 1 | # heads = 1 | Fold = 4\n"
     ]
    },
    {
     "name": "stderr",
     "output_type": "stream",
     "text": [
      "  1%|▏         | 2/141 [00:00<00:08, 16.23it/s]"
     ]
    },
    {
     "name": "stdout",
     "output_type": "stream",
     "text": [
      "VAL Label info: Counter({0: 71837, 1: 71837})\n"
     ]
    },
    {
     "name": "stderr",
     "output_type": "stream",
     "text": [
      "100%|██████████| 141/141 [00:08<00:00, 16.74it/s]\n"
     ]
    },
    {
     "name": "stdout",
     "output_type": "stream",
     "text": [
      "tn = 66554, fp = 5283, fn = 4958, tp = 66879\n",
      "y_pred: 0 = 71512 | 1 = 72162\n",
      "y_true: 0 = 71837 | 1 = 71837\n",
      "auc=0.9782|sensitivity=0.9310|specificity=0.9265|acc=0.9287|mcc=0.8574\n",
      "precision=0.9268|recall=0.9310|f1=0.9289|aupr=0.9775\n",
      "Idx5 - model_layer1_multihead2_fold0.pkl: # layer = 1 | # heads = 2 | Fold = 0\n"
     ]
    },
    {
     "name": "stderr",
     "output_type": "stream",
     "text": [
      "  1%|▏         | 2/141 [00:00<00:09, 14.36it/s]"
     ]
    },
    {
     "name": "stdout",
     "output_type": "stream",
     "text": [
      "VAL Label info: Counter({0: 71837, 1: 71837})\n"
     ]
    },
    {
     "name": "stderr",
     "output_type": "stream",
     "text": [
      "100%|██████████| 141/141 [00:08<00:00, 16.37it/s]\n"
     ]
    },
    {
     "name": "stdout",
     "output_type": "stream",
     "text": [
      "tn = 65541, fp = 6296, fn = 4549, tp = 67288\n",
      "y_pred: 0 = 70090 | 1 = 73584\n",
      "y_true: 0 = 71837 | 1 = 71837\n",
      "auc=0.9762|sensitivity=0.9367|specificity=0.9124|acc=0.9245|mcc=0.8493\n",
      "precision=0.9144|recall=0.9367|f1=0.9254|aupr=0.9761\n",
      "Idx6 - model_layer1_multihead2_fold1.pkl: # layer = 1 | # heads = 2 | Fold = 1\n"
     ]
    },
    {
     "name": "stderr",
     "output_type": "stream",
     "text": [
      "  1%|▏         | 2/141 [00:00<00:10, 13.65it/s]"
     ]
    },
    {
     "name": "stdout",
     "output_type": "stream",
     "text": [
      "VAL Label info: Counter({1: 71837, 0: 71837})\n"
     ]
    },
    {
     "name": "stderr",
     "output_type": "stream",
     "text": [
      "100%|██████████| 141/141 [00:08<00:00, 16.60it/s]\n"
     ]
    },
    {
     "name": "stdout",
     "output_type": "stream",
     "text": [
      "tn = 66071, fp = 5766, fn = 4771, tp = 67066\n",
      "y_pred: 0 = 70842 | 1 = 72832\n",
      "y_true: 0 = 71837 | 1 = 71837\n",
      "auc=0.9777|sensitivity=0.9336|specificity=0.9197|acc=0.9267|mcc=0.8534\n",
      "precision=0.9208|recall=0.9336|f1=0.9272|aupr=0.9770\n",
      "Idx7 - model_layer1_multihead2_fold2.pkl: # layer = 1 | # heads = 2 | Fold = 2\n"
     ]
    },
    {
     "name": "stderr",
     "output_type": "stream",
     "text": [
      "  1%|▏         | 2/141 [00:00<00:10, 13.77it/s]"
     ]
    },
    {
     "name": "stdout",
     "output_type": "stream",
     "text": [
      "VAL Label info: Counter({1: 71837, 0: 71837})\n"
     ]
    },
    {
     "name": "stderr",
     "output_type": "stream",
     "text": [
      "100%|██████████| 141/141 [00:09<00:00, 14.98it/s]\n"
     ]
    },
    {
     "name": "stdout",
     "output_type": "stream",
     "text": [
      "tn = 65915, fp = 5922, fn = 4458, tp = 67379\n",
      "y_pred: 0 = 70373 | 1 = 73301\n",
      "y_true: 0 = 71837 | 1 = 71837\n",
      "auc=0.9788|sensitivity=0.9379|specificity=0.9176|acc=0.9278|mcc=0.8557\n",
      "precision=0.9192|recall=0.9379|f1=0.9285|aupr=0.9779\n",
      "Idx8 - model_layer1_multihead2_fold3.pkl: # layer = 1 | # heads = 2 | Fold = 3\n"
     ]
    },
    {
     "name": "stderr",
     "output_type": "stream",
     "text": [
      "  1%|▏         | 2/141 [00:00<00:10, 13.33it/s]"
     ]
    },
    {
     "name": "stdout",
     "output_type": "stream",
     "text": [
      "VAL Label info: Counter({0: 71837, 1: 71837})\n"
     ]
    },
    {
     "name": "stderr",
     "output_type": "stream",
     "text": [
      "100%|██████████| 141/141 [00:08<00:00, 16.52it/s]\n"
     ]
    },
    {
     "name": "stdout",
     "output_type": "stream",
     "text": [
      "tn = 66111, fp = 5726, fn = 4575, tp = 67262\n",
      "y_pred: 0 = 70686 | 1 = 72988\n",
      "y_true: 0 = 71837 | 1 = 71837\n",
      "auc=0.9786|sensitivity=0.9363|specificity=0.9203|acc=0.9283|mcc=0.8567\n",
      "precision=0.9215|recall=0.9363|f1=0.9289|aupr=0.9779\n",
      "Idx9 - model_layer1_multihead2_fold4.pkl: # layer = 1 | # heads = 2 | Fold = 4\n"
     ]
    },
    {
     "name": "stderr",
     "output_type": "stream",
     "text": [
      "  1%|▏         | 2/141 [00:00<00:11, 12.34it/s]"
     ]
    },
    {
     "name": "stdout",
     "output_type": "stream",
     "text": [
      "VAL Label info: Counter({0: 71837, 1: 71837})\n"
     ]
    },
    {
     "name": "stderr",
     "output_type": "stream",
     "text": [
      "100%|██████████| 141/141 [00:08<00:00, 16.05it/s]\n"
     ]
    },
    {
     "name": "stdout",
     "output_type": "stream",
     "text": [
      "tn = 66586, fp = 5251, fn = 4833, tp = 67004\n",
      "y_pred: 0 = 71419 | 1 = 72255\n",
      "y_true: 0 = 71837 | 1 = 71837\n",
      "auc=0.9790|sensitivity=0.9327|specificity=0.9269|acc=0.9298|mcc=0.8596\n",
      "precision=0.9273|recall=0.9327|f1=0.9300|aupr=0.9779\n",
      "Idx10 - model_layer1_multihead3_fold0.pkl: # layer = 1 | # heads = 3 | Fold = 0\n"
     ]
    },
    {
     "name": "stderr",
     "output_type": "stream",
     "text": [
      "  1%|▏         | 2/141 [00:00<00:11, 11.79it/s]"
     ]
    },
    {
     "name": "stdout",
     "output_type": "stream",
     "text": [
      "VAL Label info: Counter({0: 71837, 1: 71837})\n"
     ]
    },
    {
     "name": "stderr",
     "output_type": "stream",
     "text": [
      "100%|██████████| 141/141 [00:10<00:00, 13.45it/s]\n"
     ]
    },
    {
     "name": "stdout",
     "output_type": "stream",
     "text": [
      "tn = 66170, fp = 5667, fn = 4960, tp = 66877\n",
      "y_pred: 0 = 71130 | 1 = 72544\n",
      "y_true: 0 = 71837 | 1 = 71837\n",
      "auc=0.9766|sensitivity=0.9310|specificity=0.9211|acc=0.9260|mcc=0.8521\n",
      "precision=0.9219|recall=0.9310|f1=0.9264|aupr=0.9764\n",
      "Idx11 - model_layer1_multihead3_fold1.pkl: # layer = 1 | # heads = 3 | Fold = 1\n"
     ]
    },
    {
     "name": "stderr",
     "output_type": "stream",
     "text": [
      "  1%|▏         | 2/141 [00:00<00:12, 11.16it/s]"
     ]
    },
    {
     "name": "stdout",
     "output_type": "stream",
     "text": [
      "VAL Label info: Counter({1: 71837, 0: 71837})\n"
     ]
    },
    {
     "name": "stderr",
     "output_type": "stream",
     "text": [
      "100%|██████████| 141/141 [00:09<00:00, 14.19it/s]\n"
     ]
    },
    {
     "name": "stdout",
     "output_type": "stream",
     "text": [
      "tn = 66067, fp = 5770, fn = 4197, tp = 67640\n",
      "y_pred: 0 = 70264 | 1 = 73410\n",
      "y_true: 0 = 71837 | 1 = 71837\n",
      "auc=0.9795|sensitivity=0.9416|specificity=0.9197|acc=0.9306|mcc=0.8615\n",
      "precision=0.9214|recall=0.9416|f1=0.9314|aupr=0.9786\n",
      "Idx12 - model_layer1_multihead3_fold2.pkl: # layer = 1 | # heads = 3 | Fold = 2\n"
     ]
    },
    {
     "name": "stderr",
     "output_type": "stream",
     "text": [
      "  1%|▏         | 2/141 [00:00<00:11, 12.46it/s]"
     ]
    },
    {
     "name": "stdout",
     "output_type": "stream",
     "text": [
      "VAL Label info: Counter({1: 71837, 0: 71837})\n"
     ]
    },
    {
     "name": "stderr",
     "output_type": "stream",
     "text": [
      "100%|██████████| 141/141 [00:09<00:00, 14.29it/s]\n"
     ]
    },
    {
     "name": "stdout",
     "output_type": "stream",
     "text": [
      "tn = 65641, fp = 6196, fn = 4006, tp = 67831\n",
      "y_pred: 0 = 69647 | 1 = 74027\n",
      "y_true: 0 = 71837 | 1 = 71837\n",
      "auc=0.9795|sensitivity=0.9442|specificity=0.9137|acc=0.9290|mcc=0.8584\n",
      "precision=0.9163|recall=0.9442|f1=0.9301|aupr=0.9786\n",
      "Idx13 - model_layer1_multihead3_fold3.pkl: # layer = 1 | # heads = 3 | Fold = 3\n"
     ]
    },
    {
     "name": "stderr",
     "output_type": "stream",
     "text": [
      "  1%|▏         | 2/141 [00:00<00:11, 11.88it/s]"
     ]
    },
    {
     "name": "stdout",
     "output_type": "stream",
     "text": [
      "VAL Label info: Counter({0: 71837, 1: 71837})\n"
     ]
    },
    {
     "name": "stderr",
     "output_type": "stream",
     "text": [
      "100%|██████████| 141/141 [00:09<00:00, 14.19it/s]\n"
     ]
    },
    {
     "name": "stdout",
     "output_type": "stream",
     "text": [
      "tn = 66339, fp = 5498, fn = 4635, tp = 67202\n",
      "y_pred: 0 = 70974 | 1 = 72700\n",
      "y_true: 0 = 71837 | 1 = 71837\n",
      "auc=0.9791|sensitivity=0.9355|specificity=0.9235|acc=0.9295|mcc=0.8590\n",
      "precision=0.9244|recall=0.9355|f1=0.9299|aupr=0.9782\n",
      "Idx14 - model_layer1_multihead3_fold4.pkl: # layer = 1 | # heads = 3 | Fold = 4\n"
     ]
    },
    {
     "name": "stderr",
     "output_type": "stream",
     "text": [
      "  1%|▏         | 2/141 [00:00<00:11, 12.52it/s]"
     ]
    },
    {
     "name": "stdout",
     "output_type": "stream",
     "text": [
      "VAL Label info: Counter({0: 71837, 1: 71837})\n"
     ]
    },
    {
     "name": "stderr",
     "output_type": "stream",
     "text": [
      "100%|██████████| 141/141 [00:09<00:00, 14.51it/s]\n"
     ]
    },
    {
     "name": "stdout",
     "output_type": "stream",
     "text": [
      "tn = 65718, fp = 6119, fn = 3880, tp = 67957\n",
      "y_pred: 0 = 69598 | 1 = 74076\n",
      "y_true: 0 = 71837 | 1 = 71837\n",
      "auc=0.9797|sensitivity=0.9460|specificity=0.9148|acc=0.9304|mcc=0.8612\n",
      "precision=0.9174|recall=0.9460|f1=0.9315|aupr=0.9787\n",
      "Idx15 - model_layer1_multihead4_fold0.pkl: # layer = 1 | # heads = 4 | Fold = 0\n"
     ]
    },
    {
     "name": "stderr",
     "output_type": "stream",
     "text": [
      "  1%|          | 1/141 [00:00<00:15,  8.88it/s]"
     ]
    },
    {
     "name": "stdout",
     "output_type": "stream",
     "text": [
      "VAL Label info: Counter({0: 71837, 1: 71837})\n"
     ]
    },
    {
     "name": "stderr",
     "output_type": "stream",
     "text": [
      "100%|██████████| 141/141 [00:12<00:00, 11.37it/s]\n"
     ]
    },
    {
     "name": "stdout",
     "output_type": "stream",
     "text": [
      "tn = 65881, fp = 5956, fn = 4756, tp = 67081\n",
      "y_pred: 0 = 70637 | 1 = 73037\n",
      "y_true: 0 = 71837 | 1 = 71837\n",
      "auc=0.9767|sensitivity=0.9338|specificity=0.9171|acc=0.9254|mcc=0.8510\n",
      "precision=0.9185|recall=0.9338|f1=0.9261|aupr=0.9765\n",
      "Idx16 - model_layer1_multihead4_fold1.pkl: # layer = 1 | # heads = 4 | Fold = 1\n"
     ]
    },
    {
     "name": "stderr",
     "output_type": "stream",
     "text": [
      "  1%|          | 1/141 [00:00<00:14,  9.54it/s]"
     ]
    },
    {
     "name": "stdout",
     "output_type": "stream",
     "text": [
      "VAL Label info: Counter({1: 71837, 0: 71837})\n"
     ]
    },
    {
     "name": "stderr",
     "output_type": "stream",
     "text": [
      "100%|██████████| 141/141 [00:12<00:00, 11.58it/s]\n"
     ]
    },
    {
     "name": "stdout",
     "output_type": "stream",
     "text": [
      "tn = 66036, fp = 5801, fn = 4311, tp = 67526\n",
      "y_pred: 0 = 70347 | 1 = 73327\n",
      "y_true: 0 = 71837 | 1 = 71837\n",
      "auc=0.9790|sensitivity=0.9400|specificity=0.9192|acc=0.9296|mcc=0.8594\n",
      "precision=0.9209|recall=0.9400|f1=0.9303|aupr=0.9781\n",
      "Idx17 - model_layer1_multihead4_fold2.pkl: # layer = 1 | # heads = 4 | Fold = 2\n"
     ]
    },
    {
     "name": "stderr",
     "output_type": "stream",
     "text": [
      "  1%|          | 1/141 [00:00<00:14,  9.56it/s]"
     ]
    },
    {
     "name": "stdout",
     "output_type": "stream",
     "text": [
      "VAL Label info: Counter({1: 71837, 0: 71837})\n"
     ]
    },
    {
     "name": "stderr",
     "output_type": "stream",
     "text": [
      "100%|██████████| 141/141 [00:12<00:00, 11.63it/s]\n"
     ]
    },
    {
     "name": "stdout",
     "output_type": "stream",
     "text": [
      "tn = 65827, fp = 6010, fn = 4172, tp = 67665\n",
      "y_pred: 0 = 69999 | 1 = 73675\n",
      "y_true: 0 = 71837 | 1 = 71837\n",
      "auc=0.9794|sensitivity=0.9419|specificity=0.9163|acc=0.9291|mcc=0.8585\n",
      "precision=0.9184|recall=0.9419|f1=0.9300|aupr=0.9783\n",
      "Idx18 - model_layer1_multihead4_fold3.pkl: # layer = 1 | # heads = 4 | Fold = 3\n"
     ]
    },
    {
     "name": "stderr",
     "output_type": "stream",
     "text": [
      "  1%|          | 1/141 [00:00<00:14,  9.68it/s]"
     ]
    },
    {
     "name": "stdout",
     "output_type": "stream",
     "text": [
      "VAL Label info: Counter({0: 71837, 1: 71837})\n"
     ]
    },
    {
     "name": "stderr",
     "output_type": "stream",
     "text": [
      "100%|██████████| 141/141 [00:12<00:00, 11.65it/s]\n"
     ]
    },
    {
     "name": "stdout",
     "output_type": "stream",
     "text": [
      "tn = 65831, fp = 6006, fn = 4226, tp = 67611\n",
      "y_pred: 0 = 70057 | 1 = 73617\n",
      "y_true: 0 = 71837 | 1 = 71837\n",
      "auc=0.9791|sensitivity=0.9412|specificity=0.9164|acc=0.9288|mcc=0.8578\n",
      "precision=0.9184|recall=0.9412|f1=0.9297|aupr=0.9779\n",
      "Idx19 - model_layer1_multihead4_fold4.pkl: # layer = 1 | # heads = 4 | Fold = 4\n"
     ]
    },
    {
     "name": "stderr",
     "output_type": "stream",
     "text": [
      "  1%|          | 1/141 [00:00<00:14,  9.93it/s]"
     ]
    },
    {
     "name": "stdout",
     "output_type": "stream",
     "text": [
      "VAL Label info: Counter({0: 71837, 1: 71837})\n"
     ]
    },
    {
     "name": "stderr",
     "output_type": "stream",
     "text": [
      "100%|██████████| 141/141 [00:12<00:00, 11.46it/s]\n"
     ]
    },
    {
     "name": "stdout",
     "output_type": "stream",
     "text": [
      "tn = 66545, fp = 5292, fn = 4903, tp = 66934\n",
      "y_pred: 0 = 71448 | 1 = 72226\n",
      "y_true: 0 = 71837 | 1 = 71837\n",
      "auc=0.9789|sensitivity=0.9317|specificity=0.9263|acc=0.9290|mcc=0.8581\n",
      "precision=0.9267|recall=0.9317|f1=0.9292|aupr=0.9779\n",
      "Idx20 - model_layer1_multihead5_fold0.pkl: # layer = 1 | # heads = 5 | Fold = 0\n"
     ]
    },
    {
     "name": "stderr",
     "output_type": "stream",
     "text": [
      "  1%|          | 1/141 [00:00<00:17,  8.13it/s]"
     ]
    },
    {
     "name": "stdout",
     "output_type": "stream",
     "text": [
      "VAL Label info: Counter({0: 71837, 1: 71837})\n"
     ]
    },
    {
     "name": "stderr",
     "output_type": "stream",
     "text": [
      "100%|██████████| 141/141 [00:13<00:00, 10.41it/s]\n"
     ]
    },
    {
     "name": "stdout",
     "output_type": "stream",
     "text": [
      "tn = 65879, fp = 5958, fn = 4733, tp = 67104\n",
      "y_pred: 0 = 70612 | 1 = 73062\n",
      "y_true: 0 = 71837 | 1 = 71837\n",
      "auc=0.9772|sensitivity=0.9341|specificity=0.9171|acc=0.9256|mcc=0.8513\n",
      "precision=0.9185|recall=0.9341|f1=0.9262|aupr=0.9770\n",
      "Idx21 - model_layer1_multihead5_fold1.pkl: # layer = 1 | # heads = 5 | Fold = 1\n"
     ]
    },
    {
     "name": "stderr",
     "output_type": "stream",
     "text": [
      "  1%|          | 1/141 [00:00<00:15,  8.82it/s]"
     ]
    },
    {
     "name": "stdout",
     "output_type": "stream",
     "text": [
      "VAL Label info: Counter({1: 71837, 0: 71837})\n"
     ]
    },
    {
     "name": "stderr",
     "output_type": "stream",
     "text": [
      "100%|██████████| 141/141 [00:13<00:00, 10.28it/s]\n"
     ]
    },
    {
     "name": "stdout",
     "output_type": "stream",
     "text": [
      "tn = 65843, fp = 5994, fn = 4130, tp = 67707\n",
      "y_pred: 0 = 69973 | 1 = 73701\n",
      "y_true: 0 = 71837 | 1 = 71837\n",
      "auc=0.9796|sensitivity=0.9425|specificity=0.9166|acc=0.9295|mcc=0.8594\n",
      "precision=0.9187|recall=0.9425|f1=0.9304|aupr=0.9784\n",
      "Idx22 - model_layer1_multihead5_fold2.pkl: # layer = 1 | # heads = 5 | Fold = 2\n"
     ]
    },
    {
     "name": "stderr",
     "output_type": "stream",
     "text": [
      "  1%|          | 1/141 [00:00<00:16,  8.57it/s]"
     ]
    },
    {
     "name": "stdout",
     "output_type": "stream",
     "text": [
      "VAL Label info: Counter({1: 71837, 0: 71837})\n"
     ]
    },
    {
     "name": "stderr",
     "output_type": "stream",
     "text": [
      "100%|██████████| 141/141 [00:13<00:00, 10.09it/s]\n"
     ]
    },
    {
     "name": "stdout",
     "output_type": "stream",
     "text": [
      "tn = 65796, fp = 6041, fn = 4030, tp = 67807\n",
      "y_pred: 0 = 69826 | 1 = 73848\n",
      "y_true: 0 = 71837 | 1 = 71837\n",
      "auc=0.9799|sensitivity=0.9439|specificity=0.9159|acc=0.9299|mcc=0.8601\n",
      "precision=0.9182|recall=0.9439|f1=0.9309|aupr=0.9788\n",
      "Idx23 - model_layer1_multihead5_fold3.pkl: # layer = 1 | # heads = 5 | Fold = 3\n"
     ]
    },
    {
     "name": "stderr",
     "output_type": "stream",
     "text": [
      "  1%|          | 1/141 [00:00<00:16,  8.48it/s]"
     ]
    },
    {
     "name": "stdout",
     "output_type": "stream",
     "text": [
      "VAL Label info: Counter({0: 71837, 1: 71837})\n"
     ]
    },
    {
     "name": "stderr",
     "output_type": "stream",
     "text": [
      "100%|██████████| 141/141 [00:13<00:00, 10.12it/s]\n"
     ]
    },
    {
     "name": "stdout",
     "output_type": "stream",
     "text": [
      "tn = 66331, fp = 5506, fn = 4643, tp = 67194\n",
      "y_pred: 0 = 70974 | 1 = 72700\n",
      "y_true: 0 = 71837 | 1 = 71837\n",
      "auc=0.9789|sensitivity=0.9354|specificity=0.9234|acc=0.9294|mcc=0.8588\n",
      "precision=0.9243|recall=0.9354|f1=0.9298|aupr=0.9774\n",
      "Idx24 - model_layer1_multihead5_fold4.pkl: # layer = 1 | # heads = 5 | Fold = 4\n"
     ]
    },
    {
     "name": "stderr",
     "output_type": "stream",
     "text": [
      "  1%|          | 1/141 [00:00<00:18,  7.63it/s]"
     ]
    },
    {
     "name": "stdout",
     "output_type": "stream",
     "text": [
      "VAL Label info: Counter({0: 71837, 1: 71837})\n"
     ]
    },
    {
     "name": "stderr",
     "output_type": "stream",
     "text": [
      "100%|██████████| 141/141 [00:14<00:00,  9.93it/s]\n"
     ]
    },
    {
     "name": "stdout",
     "output_type": "stream",
     "text": [
      "tn = 65574, fp = 6263, fn = 3714, tp = 68123\n",
      "y_pred: 0 = 69288 | 1 = 74386\n",
      "y_true: 0 = 71837 | 1 = 71837\n",
      "auc=0.9800|sensitivity=0.9483|specificity=0.9128|acc=0.9306|mcc=0.8617\n",
      "precision=0.9158|recall=0.9483|f1=0.9318|aupr=0.9787\n",
      "Idx25 - model_layer1_multihead6_fold0.pkl: # layer = 1 | # heads = 6 | Fold = 0\n"
     ]
    },
    {
     "name": "stderr",
     "output_type": "stream",
     "text": [
      "  1%|          | 1/141 [00:00<00:17,  7.89it/s]"
     ]
    },
    {
     "name": "stdout",
     "output_type": "stream",
     "text": [
      "VAL Label info: Counter({0: 71837, 1: 71837})\n"
     ]
    },
    {
     "name": "stderr",
     "output_type": "stream",
     "text": [
      "100%|██████████| 141/141 [00:15<00:00,  9.35it/s]\n"
     ]
    },
    {
     "name": "stdout",
     "output_type": "stream",
     "text": [
      "tn = 65718, fp = 6119, fn = 4625, tp = 67212\n",
      "y_pred: 0 = 70343 | 1 = 73331\n",
      "y_true: 0 = 71837 | 1 = 71837\n",
      "auc=0.9774|sensitivity=0.9356|specificity=0.9148|acc=0.9252|mcc=0.8506\n",
      "precision=0.9166|recall=0.9356|f1=0.9260|aupr=0.9771\n",
      "Idx26 - model_layer1_multihead6_fold1.pkl: # layer = 1 | # heads = 6 | Fold = 1\n"
     ]
    },
    {
     "name": "stderr",
     "output_type": "stream",
     "text": [
      "  1%|          | 1/141 [00:00<00:16,  8.54it/s]"
     ]
    },
    {
     "name": "stdout",
     "output_type": "stream",
     "text": [
      "VAL Label info: Counter({1: 71837, 0: 71837})\n"
     ]
    },
    {
     "name": "stderr",
     "output_type": "stream",
     "text": [
      "100%|██████████| 141/141 [00:14<00:00,  9.66it/s]\n"
     ]
    },
    {
     "name": "stdout",
     "output_type": "stream",
     "text": [
      "tn = 65294, fp = 6543, fn = 3443, tp = 68394\n",
      "y_pred: 0 = 68737 | 1 = 74937\n",
      "y_true: 0 = 71837 | 1 = 71837\n",
      "auc=0.9806|sensitivity=0.9521|specificity=0.9089|acc=0.9305|mcc=0.8618\n",
      "precision=0.9127|recall=0.9521|f1=0.9320|aupr=0.9796\n",
      "Idx27 - model_layer1_multihead6_fold2.pkl: # layer = 1 | # heads = 6 | Fold = 2\n"
     ]
    },
    {
     "name": "stderr",
     "output_type": "stream",
     "text": [
      "  1%|          | 1/141 [00:00<00:18,  7.67it/s]"
     ]
    },
    {
     "name": "stdout",
     "output_type": "stream",
     "text": [
      "VAL Label info: Counter({1: 71837, 0: 71837})\n"
     ]
    },
    {
     "name": "stderr",
     "output_type": "stream",
     "text": [
      "100%|██████████| 141/141 [00:14<00:00,  9.43it/s]\n"
     ]
    },
    {
     "name": "stdout",
     "output_type": "stream",
     "text": [
      "tn = 65752, fp = 6085, fn = 3768, tp = 68069\n",
      "y_pred: 0 = 69520 | 1 = 74154\n",
      "y_true: 0 = 71837 | 1 = 71837\n",
      "auc=0.9808|sensitivity=0.9475|specificity=0.9153|acc=0.9314|mcc=0.8633\n",
      "precision=0.9179|recall=0.9475|f1=0.9325|aupr=0.9800\n",
      "Idx28 - model_layer1_multihead6_fold3.pkl: # layer = 1 | # heads = 6 | Fold = 3\n"
     ]
    },
    {
     "name": "stderr",
     "output_type": "stream",
     "text": [
      "  1%|          | 1/141 [00:00<00:18,  7.66it/s]"
     ]
    },
    {
     "name": "stdout",
     "output_type": "stream",
     "text": [
      "VAL Label info: Counter({0: 71837, 1: 71837})\n"
     ]
    },
    {
     "name": "stderr",
     "output_type": "stream",
     "text": [
      "100%|██████████| 141/141 [00:16<00:00,  8.68it/s]\n"
     ]
    },
    {
     "name": "stdout",
     "output_type": "stream",
     "text": [
      "tn = 66493, fp = 5344, fn = 4552, tp = 67285\n",
      "y_pred: 0 = 71045 | 1 = 72629\n",
      "y_true: 0 = 71837 | 1 = 71837\n",
      "auc=0.9803|sensitivity=0.9366|specificity=0.9256|acc=0.9311|mcc=0.8623\n",
      "precision=0.9264|recall=0.9366|f1=0.9315|aupr=0.9793\n",
      "Idx29 - model_layer1_multihead6_fold4.pkl: # layer = 1 | # heads = 6 | Fold = 4\n"
     ]
    },
    {
     "name": "stderr",
     "output_type": "stream",
     "text": [
      "  1%|          | 1/141 [00:00<00:18,  7.58it/s]"
     ]
    },
    {
     "name": "stdout",
     "output_type": "stream",
     "text": [
      "VAL Label info: Counter({0: 71837, 1: 71837})\n"
     ]
    },
    {
     "name": "stderr",
     "output_type": "stream",
     "text": [
      "100%|██████████| 141/141 [00:14<00:00,  9.72it/s]\n"
     ]
    },
    {
     "name": "stdout",
     "output_type": "stream",
     "text": [
      "tn = 65547, fp = 6290, fn = 3602, tp = 68235\n",
      "y_pred: 0 = 69149 | 1 = 74525\n",
      "y_true: 0 = 71837 | 1 = 71837\n",
      "auc=0.9802|sensitivity=0.9499|specificity=0.9124|acc=0.9311|mcc=0.8629\n",
      "precision=0.9156|recall=0.9499|f1=0.9324|aupr=0.9787\n",
      "Idx30 - model_layer1_multihead7_fold0.pkl: # layer = 1 | # heads = 7 | Fold = 0\n"
     ]
    },
    {
     "name": "stderr",
     "output_type": "stream",
     "text": [
      "  1%|          | 1/141 [00:00<00:19,  7.08it/s]"
     ]
    },
    {
     "name": "stdout",
     "output_type": "stream",
     "text": [
      "VAL Label info: Counter({0: 71837, 1: 71837})\n"
     ]
    },
    {
     "name": "stderr",
     "output_type": "stream",
     "text": [
      "100%|██████████| 141/141 [00:16<00:00,  8.44it/s]\n"
     ]
    },
    {
     "name": "stdout",
     "output_type": "stream",
     "text": [
      "tn = 65573, fp = 6264, fn = 4495, tp = 67342\n",
      "y_pred: 0 = 70068 | 1 = 73606\n",
      "y_true: 0 = 71837 | 1 = 71837\n",
      "auc=0.9769|sensitivity=0.9374|specificity=0.9128|acc=0.9251|mcc=0.8505\n",
      "precision=0.9149|recall=0.9374|f1=0.9260|aupr=0.9767\n",
      "Idx31 - model_layer1_multihead7_fold1.pkl: # layer = 1 | # heads = 7 | Fold = 1\n"
     ]
    },
    {
     "name": "stderr",
     "output_type": "stream",
     "text": [
      "  1%|          | 1/141 [00:00<00:19,  7.27it/s]"
     ]
    },
    {
     "name": "stdout",
     "output_type": "stream",
     "text": [
      "VAL Label info: Counter({1: 71837, 0: 71837})\n"
     ]
    },
    {
     "name": "stderr",
     "output_type": "stream",
     "text": [
      "100%|██████████| 141/141 [00:16<00:00,  8.55it/s]\n"
     ]
    },
    {
     "name": "stdout",
     "output_type": "stream",
     "text": [
      "tn = 66849, fp = 4988, fn = 4937, tp = 66900\n",
      "y_pred: 0 = 71786 | 1 = 71888\n",
      "y_true: 0 = 71837 | 1 = 71837\n",
      "auc=0.9804|sensitivity=0.9313|specificity=0.9306|acc=0.9309|mcc=0.8618\n",
      "precision=0.9306|recall=0.9313|f1=0.9309|aupr=0.9792\n",
      "Idx32 - model_layer1_multihead7_fold2.pkl: # layer = 1 | # heads = 7 | Fold = 2\n"
     ]
    },
    {
     "name": "stderr",
     "output_type": "stream",
     "text": [
      "  1%|          | 1/141 [00:00<00:20,  6.82it/s]"
     ]
    },
    {
     "name": "stdout",
     "output_type": "stream",
     "text": [
      "VAL Label info: Counter({1: 71837, 0: 71837})\n"
     ]
    },
    {
     "name": "stderr",
     "output_type": "stream",
     "text": [
      "100%|██████████| 141/141 [00:15<00:00,  9.30it/s]\n"
     ]
    },
    {
     "name": "stdout",
     "output_type": "stream",
     "text": [
      "tn = 65794, fp = 6043, fn = 3935, tp = 67902\n",
      "y_pred: 0 = 69729 | 1 = 73945\n",
      "y_true: 0 = 71837 | 1 = 71837\n",
      "auc=0.9801|sensitivity=0.9452|specificity=0.9159|acc=0.9306|mcc=0.8615\n",
      "precision=0.9183|recall=0.9452|f1=0.9316|aupr=0.9789\n",
      "Idx33 - model_layer1_multihead7_fold3.pkl: # layer = 1 | # heads = 7 | Fold = 3\n"
     ]
    },
    {
     "name": "stderr",
     "output_type": "stream",
     "text": [
      "  1%|          | 1/141 [00:00<00:18,  7.53it/s]"
     ]
    },
    {
     "name": "stdout",
     "output_type": "stream",
     "text": [
      "VAL Label info: Counter({0: 71837, 1: 71837})\n"
     ]
    },
    {
     "name": "stderr",
     "output_type": "stream",
     "text": [
      "100%|██████████| 141/141 [00:16<00:00,  8.74it/s]\n"
     ]
    },
    {
     "name": "stdout",
     "output_type": "stream",
     "text": [
      "tn = 65973, fp = 5864, fn = 4001, tp = 67836\n",
      "y_pred: 0 = 69974 | 1 = 73700\n",
      "y_true: 0 = 71837 | 1 = 71837\n",
      "auc=0.9807|sensitivity=0.9443|specificity=0.9184|acc=0.9313|mcc=0.8630\n",
      "precision=0.9204|recall=0.9443|f1=0.9322|aupr=0.9794\n",
      "Idx34 - model_layer1_multihead7_fold4.pkl: # layer = 1 | # heads = 7 | Fold = 4\n"
     ]
    },
    {
     "name": "stderr",
     "output_type": "stream",
     "text": [
      "  1%|          | 1/141 [00:00<00:19,  7.07it/s]"
     ]
    },
    {
     "name": "stdout",
     "output_type": "stream",
     "text": [
      "VAL Label info: Counter({0: 71837, 1: 71837})\n"
     ]
    },
    {
     "name": "stderr",
     "output_type": "stream",
     "text": [
      "100%|██████████| 141/141 [00:16<00:00,  8.74it/s]\n"
     ]
    },
    {
     "name": "stdout",
     "output_type": "stream",
     "text": [
      "tn = 65709, fp = 6128, fn = 3699, tp = 68138\n",
      "y_pred: 0 = 69408 | 1 = 74266\n",
      "y_true: 0 = 71837 | 1 = 71837\n",
      "auc=0.9810|sensitivity=0.9485|specificity=0.9147|acc=0.9316|mcc=0.8637\n",
      "precision=0.9175|recall=0.9485|f1=0.9327|aupr=0.9798\n",
      "Idx35 - model_layer1_multihead8_fold0.pkl: # layer = 1 | # heads = 8 | Fold = 0\n"
     ]
    },
    {
     "name": "stderr",
     "output_type": "stream",
     "text": [
      "  1%|          | 1/141 [00:00<00:20,  6.87it/s]"
     ]
    },
    {
     "name": "stdout",
     "output_type": "stream",
     "text": [
      "VAL Label info: Counter({0: 71837, 1: 71837})\n"
     ]
    },
    {
     "name": "stderr",
     "output_type": "stream",
     "text": [
      "100%|██████████| 141/141 [00:18<00:00,  7.72it/s]\n"
     ]
    },
    {
     "name": "stdout",
     "output_type": "stream",
     "text": [
      "tn = 66028, fp = 5809, fn = 4858, tp = 66979\n",
      "y_pred: 0 = 70886 | 1 = 72788\n",
      "y_true: 0 = 71837 | 1 = 71837\n",
      "auc=0.9768|sensitivity=0.9324|specificity=0.9191|acc=0.9258|mcc=0.8516\n",
      "precision=0.9202|recall=0.9324|f1=0.9262|aupr=0.9763\n",
      "Idx36 - model_layer1_multihead8_fold1.pkl: # layer = 1 | # heads = 8 | Fold = 1\n"
     ]
    },
    {
     "name": "stderr",
     "output_type": "stream",
     "text": [
      "  1%|          | 1/141 [00:00<00:19,  7.27it/s]"
     ]
    },
    {
     "name": "stdout",
     "output_type": "stream",
     "text": [
      "VAL Label info: Counter({1: 71837, 0: 71837})\n"
     ]
    },
    {
     "name": "stderr",
     "output_type": "stream",
     "text": [
      "100%|██████████| 141/141 [00:18<00:00,  7.56it/s]\n"
     ]
    },
    {
     "name": "stdout",
     "output_type": "stream",
     "text": [
      "tn = 66426, fp = 5411, fn = 4515, tp = 67322\n",
      "y_pred: 0 = 70941 | 1 = 72733\n",
      "y_true: 0 = 71837 | 1 = 71837\n",
      "auc=0.9800|sensitivity=0.9371|specificity=0.9247|acc=0.9309|mcc=0.8619\n",
      "precision=0.9256|recall=0.9371|f1=0.9313|aupr=0.9786\n",
      "Idx37 - model_layer1_multihead8_fold2.pkl: # layer = 1 | # heads = 8 | Fold = 2\n"
     ]
    },
    {
     "name": "stderr",
     "output_type": "stream",
     "text": [
      "  1%|          | 1/141 [00:00<00:22,  6.28it/s]"
     ]
    },
    {
     "name": "stdout",
     "output_type": "stream",
     "text": [
      "VAL Label info: Counter({1: 71837, 0: 71837})\n"
     ]
    },
    {
     "name": "stderr",
     "output_type": "stream",
     "text": [
      "100%|██████████| 141/141 [00:17<00:00,  8.05it/s]\n"
     ]
    },
    {
     "name": "stdout",
     "output_type": "stream",
     "text": [
      "tn = 66348, fp = 5489, fn = 4347, tp = 67490\n",
      "y_pred: 0 = 70695 | 1 = 72979\n",
      "y_true: 0 = 71837 | 1 = 71837\n",
      "auc=0.9805|sensitivity=0.9395|specificity=0.9236|acc=0.9315|mcc=0.8632\n",
      "precision=0.9248|recall=0.9395|f1=0.9321|aupr=0.9794\n",
      "Idx38 - model_layer1_multihead8_fold3.pkl: # layer = 1 | # heads = 8 | Fold = 3\n"
     ]
    },
    {
     "name": "stderr",
     "output_type": "stream",
     "text": [
      "  1%|          | 1/141 [00:00<00:20,  6.80it/s]"
     ]
    },
    {
     "name": "stdout",
     "output_type": "stream",
     "text": [
      "VAL Label info: Counter({0: 71837, 1: 71837})\n"
     ]
    },
    {
     "name": "stderr",
     "output_type": "stream",
     "text": [
      "100%|██████████| 141/141 [00:18<00:00,  7.78it/s]\n"
     ]
    },
    {
     "name": "stdout",
     "output_type": "stream",
     "text": [
      "tn = 65391, fp = 6446, fn = 3482, tp = 68355\n",
      "y_pred: 0 = 68873 | 1 = 74801\n",
      "y_true: 0 = 71837 | 1 = 71837\n",
      "auc=0.9805|sensitivity=0.9515|specificity=0.9103|acc=0.9309|mcc=0.8625\n",
      "precision=0.9138|recall=0.9515|f1=0.9323|aupr=0.9792\n",
      "Idx39 - model_layer1_multihead8_fold4.pkl: # layer = 1 | # heads = 8 | Fold = 4\n"
     ]
    },
    {
     "name": "stderr",
     "output_type": "stream",
     "text": [
      "  1%|          | 1/141 [00:00<00:20,  6.73it/s]"
     ]
    },
    {
     "name": "stdout",
     "output_type": "stream",
     "text": [
      "VAL Label info: Counter({0: 71837, 1: 71837})\n"
     ]
    },
    {
     "name": "stderr",
     "output_type": "stream",
     "text": [
      "100%|██████████| 141/141 [00:18<00:00,  7.54it/s]\n"
     ]
    },
    {
     "name": "stdout",
     "output_type": "stream",
     "text": [
      "tn = 66308, fp = 5529, fn = 4347, tp = 67490\n",
      "y_pred: 0 = 70655 | 1 = 73019\n",
      "y_true: 0 = 71837 | 1 = 71837\n",
      "auc=0.9801|sensitivity=0.9395|specificity=0.9230|acc=0.9313|mcc=0.8626\n",
      "precision=0.9243|recall=0.9395|f1=0.9318|aupr=0.9786\n",
      "Idx40 - model_layer1_multihead9_fold0.pkl: # layer = 1 | # heads = 9 | Fold = 0\n"
     ]
    },
    {
     "name": "stderr",
     "output_type": "stream",
     "text": [
      "  1%|          | 1/141 [00:00<00:21,  6.46it/s]"
     ]
    },
    {
     "name": "stdout",
     "output_type": "stream",
     "text": [
      "VAL Label info: Counter({0: 71837, 1: 71837})\n"
     ]
    },
    {
     "name": "stderr",
     "output_type": "stream",
     "text": [
      "100%|██████████| 141/141 [00:19<00:00,  7.12it/s]\n"
     ]
    },
    {
     "name": "stdout",
     "output_type": "stream",
     "text": [
      "tn = 65725, fp = 6112, fn = 4569, tp = 67268\n",
      "y_pred: 0 = 70294 | 1 = 73380\n",
      "y_true: 0 = 71837 | 1 = 71837\n",
      "auc=0.9771|sensitivity=0.9364|specificity=0.9149|acc=0.9257|mcc=0.8515\n",
      "precision=0.9167|recall=0.9364|f1=0.9264|aupr=0.9767\n",
      "Idx41 - model_layer1_multihead9_fold1.pkl: # layer = 1 | # heads = 9 | Fold = 1\n"
     ]
    },
    {
     "name": "stderr",
     "output_type": "stream",
     "text": [
      "  1%|          | 1/141 [00:00<00:20,  6.70it/s]"
     ]
    },
    {
     "name": "stdout",
     "output_type": "stream",
     "text": [
      "VAL Label info: Counter({1: 71837, 0: 71837})\n"
     ]
    },
    {
     "name": "stderr",
     "output_type": "stream",
     "text": [
      "100%|██████████| 141/141 [00:19<00:00,  7.26it/s]\n"
     ]
    },
    {
     "name": "stdout",
     "output_type": "stream",
     "text": [
      "tn = 66158, fp = 5679, fn = 4025, tp = 67812\n",
      "y_pred: 0 = 70183 | 1 = 73491\n",
      "y_true: 0 = 71837 | 1 = 71837\n",
      "auc=0.9807|sensitivity=0.9440|specificity=0.9209|acc=0.9325|mcc=0.8651\n",
      "precision=0.9227|recall=0.9440|f1=0.9332|aupr=0.9796\n",
      "Idx42 - model_layer1_multihead9_fold2.pkl: # layer = 1 | # heads = 9 | Fold = 2\n"
     ]
    },
    {
     "name": "stderr",
     "output_type": "stream",
     "text": [
      "  1%|          | 1/141 [00:00<00:22,  6.28it/s]"
     ]
    },
    {
     "name": "stdout",
     "output_type": "stream",
     "text": [
      "VAL Label info: Counter({1: 71837, 0: 71837})\n"
     ]
    },
    {
     "name": "stderr",
     "output_type": "stream",
     "text": [
      "100%|██████████| 141/141 [00:19<00:00,  7.13it/s]\n"
     ]
    },
    {
     "name": "stdout",
     "output_type": "stream",
     "text": [
      "tn = 65054, fp = 6783, fn = 3166, tp = 68671\n",
      "y_pred: 0 = 68220 | 1 = 75454\n",
      "y_true: 0 = 71837 | 1 = 71837\n",
      "auc=0.9809|sensitivity=0.9559|specificity=0.9056|acc=0.9308|mcc=0.8626\n",
      "precision=0.9101|recall=0.9559|f1=0.9325|aupr=0.9797\n",
      "Idx43 - model_layer1_multihead9_fold3.pkl: # layer = 1 | # heads = 9 | Fold = 3\n"
     ]
    },
    {
     "name": "stderr",
     "output_type": "stream",
     "text": [
      "  1%|          | 1/141 [00:00<00:20,  6.67it/s]"
     ]
    },
    {
     "name": "stdout",
     "output_type": "stream",
     "text": [
      "VAL Label info: Counter({0: 71837, 1: 71837})\n"
     ]
    },
    {
     "name": "stderr",
     "output_type": "stream",
     "text": [
      "100%|██████████| 141/141 [00:19<00:00,  7.16it/s]\n"
     ]
    },
    {
     "name": "stdout",
     "output_type": "stream",
     "text": [
      "tn = 65669, fp = 6168, fn = 3850, tp = 67987\n",
      "y_pred: 0 = 69519 | 1 = 74155\n",
      "y_true: 0 = 71837 | 1 = 71837\n",
      "auc=0.9801|sensitivity=0.9464|specificity=0.9141|acc=0.9303|mcc=0.8610\n",
      "precision=0.9168|recall=0.9464|f1=0.9314|aupr=0.9789\n",
      "Idx44 - model_layer1_multihead9_fold4.pkl: # layer = 1 | # heads = 9 | Fold = 4\n"
     ]
    },
    {
     "name": "stderr",
     "output_type": "stream",
     "text": [
      "  1%|          | 1/141 [00:00<00:22,  6.18it/s]"
     ]
    },
    {
     "name": "stdout",
     "output_type": "stream",
     "text": [
      "VAL Label info: Counter({0: 71837, 1: 71837})\n"
     ]
    },
    {
     "name": "stderr",
     "output_type": "stream",
     "text": [
      "100%|██████████| 141/141 [00:20<00:00,  6.88it/s]\n"
     ]
    },
    {
     "name": "stdout",
     "output_type": "stream",
     "text": [
      "tn = 66710, fp = 5127, fn = 4488, tp = 67349\n",
      "y_pred: 0 = 71198 | 1 = 72476\n",
      "y_true: 0 = 71837 | 1 = 71837\n",
      "auc=0.9810|sensitivity=0.9375|specificity=0.9286|acc=0.9331|mcc=0.8662\n",
      "precision=0.9293|recall=0.9375|f1=0.9334|aupr=0.9795\n",
      "Idx45 - model_layer1_multihead10_fold0.pkl: # layer = 1 | # heads = 10 | Fold = 0\n"
     ]
    },
    {
     "name": "stderr",
     "output_type": "stream",
     "text": [
      "  1%|          | 1/141 [00:00<00:23,  6.08it/s]"
     ]
    },
    {
     "name": "stdout",
     "output_type": "stream",
     "text": [
      "VAL Label info: Counter({0: 71837, 1: 71837})\n"
     ]
    },
    {
     "name": "stderr",
     "output_type": "stream",
     "text": [
      "100%|██████████| 141/141 [00:20<00:00,  6.99it/s]\n"
     ]
    },
    {
     "name": "stdout",
     "output_type": "stream",
     "text": [
      "tn = 66240, fp = 5597, fn = 4973, tp = 66864\n",
      "y_pred: 0 = 71213 | 1 = 72461\n",
      "y_true: 0 = 71837 | 1 = 71837\n",
      "auc=0.9769|sensitivity=0.9308|specificity=0.9221|acc=0.9264|mcc=0.8529\n",
      "precision=0.9228|recall=0.9308|f1=0.9267|aupr=0.9764\n",
      "Idx46 - model_layer1_multihead10_fold1.pkl: # layer = 1 | # heads = 10 | Fold = 1\n"
     ]
    },
    {
     "name": "stderr",
     "output_type": "stream",
     "text": [
      "  1%|          | 1/141 [00:00<00:23,  6.00it/s]"
     ]
    },
    {
     "name": "stdout",
     "output_type": "stream",
     "text": [
      "VAL Label info: Counter({1: 71837, 0: 71837})\n"
     ]
    },
    {
     "name": "stderr",
     "output_type": "stream",
     "text": [
      "100%|██████████| 141/141 [00:21<00:00,  6.61it/s]\n"
     ]
    },
    {
     "name": "stdout",
     "output_type": "stream",
     "text": [
      "tn = 65026, fp = 6811, fn = 3053, tp = 68784\n",
      "y_pred: 0 = 68079 | 1 = 75595\n",
      "y_true: 0 = 71837 | 1 = 71837\n",
      "auc=0.9812|sensitivity=0.9575|specificity=0.9052|acc=0.9313|mcc=0.8639\n",
      "precision=0.9099|recall=0.9575|f1=0.9331|aupr=0.9800\n",
      "Idx47 - model_layer1_multihead10_fold2.pkl: # layer = 1 | # heads = 10 | Fold = 2\n"
     ]
    },
    {
     "name": "stderr",
     "output_type": "stream",
     "text": [
      "  1%|          | 1/141 [00:00<00:23,  5.96it/s]"
     ]
    },
    {
     "name": "stdout",
     "output_type": "stream",
     "text": [
      "VAL Label info: Counter({1: 71837, 0: 71837})\n"
     ]
    },
    {
     "name": "stderr",
     "output_type": "stream",
     "text": [
      "100%|██████████| 141/141 [00:20<00:00,  7.03it/s]\n"
     ]
    },
    {
     "name": "stdout",
     "output_type": "stream",
     "text": [
      "tn = 65835, fp = 6002, fn = 3982, tp = 67855\n",
      "y_pred: 0 = 69817 | 1 = 73857\n",
      "y_true: 0 = 71837 | 1 = 71837\n",
      "auc=0.9805|sensitivity=0.9446|specificity=0.9164|acc=0.9305|mcc=0.8614\n",
      "precision=0.9187|recall=0.9446|f1=0.9315|aupr=0.9791\n",
      "Idx48 - model_layer1_multihead10_fold3.pkl: # layer = 1 | # heads = 10 | Fold = 3\n"
     ]
    },
    {
     "name": "stderr",
     "output_type": "stream",
     "text": [
      "  1%|          | 1/141 [00:00<00:23,  6.02it/s]"
     ]
    },
    {
     "name": "stdout",
     "output_type": "stream",
     "text": [
      "VAL Label info: Counter({0: 71837, 1: 71837})\n"
     ]
    },
    {
     "name": "stderr",
     "output_type": "stream",
     "text": [
      "100%|██████████| 141/141 [00:20<00:00,  6.99it/s]\n"
     ]
    },
    {
     "name": "stdout",
     "output_type": "stream",
     "text": [
      "tn = 66302, fp = 5535, fn = 4383, tp = 67454\n",
      "y_pred: 0 = 70685 | 1 = 72989\n",
      "y_true: 0 = 71837 | 1 = 71837\n",
      "auc=0.9802|sensitivity=0.9390|specificity=0.9230|acc=0.9310|mcc=0.8620\n",
      "precision=0.9242|recall=0.9390|f1=0.9315|aupr=0.9788\n",
      "Idx49 - model_layer1_multihead10_fold4.pkl: # layer = 1 | # heads = 10 | Fold = 4\n"
     ]
    },
    {
     "name": "stderr",
     "output_type": "stream",
     "text": [
      "  1%|          | 1/141 [00:00<00:22,  6.26it/s]"
     ]
    },
    {
     "name": "stdout",
     "output_type": "stream",
     "text": [
      "VAL Label info: Counter({0: 71837, 1: 71837})\n"
     ]
    },
    {
     "name": "stderr",
     "output_type": "stream",
     "text": [
      "100%|██████████| 141/141 [00:20<00:00,  6.81it/s]\n"
     ]
    },
    {
     "name": "stdout",
     "output_type": "stream",
     "text": [
      "tn = 66017, fp = 5820, fn = 3927, tp = 67910\n",
      "y_pred: 0 = 69944 | 1 = 73730\n",
      "y_true: 0 = 71837 | 1 = 71837\n",
      "auc=0.9811|sensitivity=0.9453|specificity=0.9190|acc=0.9322|mcc=0.8646\n",
      "precision=0.9211|recall=0.9453|f1=0.9330|aupr=0.9798\n",
      "Idx50 - model_layer2_multihead1_fold0.pkl: # layer = 2 | # heads = 1 | Fold = 0\n"
     ]
    },
    {
     "name": "stderr",
     "output_type": "stream",
     "text": [
      "  1%|▏         | 2/141 [00:00<00:13, 10.59it/s]"
     ]
    },
    {
     "name": "stdout",
     "output_type": "stream",
     "text": [
      "VAL Label info: Counter({0: 71837, 1: 71837})\n"
     ]
    },
    {
     "name": "stderr",
     "output_type": "stream",
     "text": [
      "100%|██████████| 141/141 [00:11<00:00, 11.88it/s]\n"
     ]
    },
    {
     "name": "stdout",
     "output_type": "stream",
     "text": [
      "tn = 66876, fp = 4961, fn = 5595, tp = 66242\n",
      "y_pred: 0 = 72471 | 1 = 71203\n",
      "y_true: 0 = 71837 | 1 = 71837\n",
      "auc=0.9770|sensitivity=0.9221|specificity=0.9309|acc=0.9265|mcc=0.8531\n",
      "precision=0.9303|recall=0.9221|f1=0.9262|aupr=0.9769\n",
      "Idx51 - model_layer2_multihead1_fold1.pkl: # layer = 2 | # heads = 1 | Fold = 1\n"
     ]
    },
    {
     "name": "stderr",
     "output_type": "stream",
     "text": [
      "  1%|          | 1/141 [00:00<00:14,  9.60it/s]"
     ]
    },
    {
     "name": "stdout",
     "output_type": "stream",
     "text": [
      "VAL Label info: Counter({1: 71837, 0: 71837})\n"
     ]
    },
    {
     "name": "stderr",
     "output_type": "stream",
     "text": [
      "100%|██████████| 141/141 [00:11<00:00, 12.43it/s]\n"
     ]
    },
    {
     "name": "stdout",
     "output_type": "stream",
     "text": [
      "tn = 66139, fp = 5698, fn = 4363, tp = 67474\n",
      "y_pred: 0 = 70502 | 1 = 73172\n",
      "y_true: 0 = 71837 | 1 = 71837\n",
      "auc=0.9794|sensitivity=0.9393|specificity=0.9207|acc=0.9300|mcc=0.8601\n",
      "precision=0.9221|recall=0.9393|f1=0.9306|aupr=0.9785\n",
      "Idx52 - model_layer2_multihead1_fold2.pkl: # layer = 2 | # heads = 1 | Fold = 2\n"
     ]
    },
    {
     "name": "stderr",
     "output_type": "stream",
     "text": [
      "  1%|▏         | 2/141 [00:00<00:12, 10.97it/s]"
     ]
    },
    {
     "name": "stdout",
     "output_type": "stream",
     "text": [
      "VAL Label info: Counter({1: 71837, 0: 71837})\n"
     ]
    },
    {
     "name": "stderr",
     "output_type": "stream",
     "text": [
      "100%|██████████| 141/141 [00:11<00:00, 12.46it/s]\n"
     ]
    },
    {
     "name": "stdout",
     "output_type": "stream",
     "text": [
      "tn = 66801, fp = 5036, fn = 5008, tp = 66829\n",
      "y_pred: 0 = 71809 | 1 = 71865\n",
      "y_true: 0 = 71837 | 1 = 71837\n",
      "auc=0.9798|sensitivity=0.9303|specificity=0.9299|acc=0.9301|mcc=0.8602\n",
      "precision=0.9299|recall=0.9303|f1=0.9301|aupr=0.9789\n",
      "Idx53 - model_layer2_multihead1_fold3.pkl: # layer = 2 | # heads = 1 | Fold = 3\n"
     ]
    },
    {
     "name": "stderr",
     "output_type": "stream",
     "text": [
      "  1%|▏         | 2/141 [00:00<00:13, 10.37it/s]"
     ]
    },
    {
     "name": "stdout",
     "output_type": "stream",
     "text": [
      "VAL Label info: Counter({0: 71837, 1: 71837})\n"
     ]
    },
    {
     "name": "stderr",
     "output_type": "stream",
     "text": [
      "100%|██████████| 141/141 [00:11<00:00, 12.47it/s]\n"
     ]
    },
    {
     "name": "stdout",
     "output_type": "stream",
     "text": [
      "tn = 66114, fp = 5723, fn = 4244, tp = 67593\n",
      "y_pred: 0 = 70358 | 1 = 73316\n",
      "y_true: 0 = 71837 | 1 = 71837\n",
      "auc=0.9802|sensitivity=0.9409|specificity=0.9203|acc=0.9306|mcc=0.8614\n",
      "precision=0.9219|recall=0.9409|f1=0.9313|aupr=0.9791\n",
      "Idx54 - model_layer2_multihead1_fold4.pkl: # layer = 2 | # heads = 1 | Fold = 4\n"
     ]
    },
    {
     "name": "stderr",
     "output_type": "stream",
     "text": [
      "  1%|▏         | 2/141 [00:00<00:12, 10.88it/s]"
     ]
    },
    {
     "name": "stdout",
     "output_type": "stream",
     "text": [
      "VAL Label info: Counter({0: 71837, 1: 71837})\n"
     ]
    },
    {
     "name": "stderr",
     "output_type": "stream",
     "text": [
      "100%|██████████| 141/141 [00:11<00:00, 12.38it/s]\n"
     ]
    },
    {
     "name": "stdout",
     "output_type": "stream",
     "text": [
      "tn = 65652, fp = 6185, fn = 3959, tp = 67878\n",
      "y_pred: 0 = 69611 | 1 = 74063\n",
      "y_true: 0 = 71837 | 1 = 71837\n",
      "auc=0.9793|sensitivity=0.9449|specificity=0.9139|acc=0.9294|mcc=0.8592\n",
      "precision=0.9165|recall=0.9449|f1=0.9305|aupr=0.9781\n",
      "Idx55 - model_layer2_multihead2_fold0.pkl: # layer = 2 | # heads = 2 | Fold = 0\n"
     ]
    },
    {
     "name": "stderr",
     "output_type": "stream",
     "text": [
      "  1%|          | 1/141 [00:00<00:19,  7.31it/s]"
     ]
    },
    {
     "name": "stdout",
     "output_type": "stream",
     "text": [
      "VAL Label info: Counter({0: 71837, 1: 71837})\n"
     ]
    },
    {
     "name": "stderr",
     "output_type": "stream",
     "text": [
      "100%|██████████| 141/141 [00:14<00:00,  9.58it/s]\n"
     ]
    },
    {
     "name": "stdout",
     "output_type": "stream",
     "text": [
      "tn = 66478, fp = 5359, fn = 5287, tp = 66550\n",
      "y_pred: 0 = 71765 | 1 = 71909\n",
      "y_true: 0 = 71837 | 1 = 71837\n",
      "auc=0.9772|sensitivity=0.9264|specificity=0.9254|acc=0.9259|mcc=0.8518\n",
      "precision=0.9255|recall=0.9264|f1=0.9259|aupr=0.9765\n",
      "Idx56 - model_layer2_multihead2_fold1.pkl: # layer = 2 | # heads = 2 | Fold = 1\n"
     ]
    },
    {
     "name": "stderr",
     "output_type": "stream",
     "text": [
      "  1%|          | 1/141 [00:00<00:19,  7.34it/s]"
     ]
    },
    {
     "name": "stdout",
     "output_type": "stream",
     "text": [
      "VAL Label info: Counter({1: 71837, 0: 71837})\n"
     ]
    },
    {
     "name": "stderr",
     "output_type": "stream",
     "text": [
      "100%|██████████| 141/141 [00:14<00:00,  9.75it/s]\n"
     ]
    },
    {
     "name": "stdout",
     "output_type": "stream",
     "text": [
      "tn = 66915, fp = 4922, fn = 4798, tp = 67039\n",
      "y_pred: 0 = 71713 | 1 = 71961\n",
      "y_true: 0 = 71837 | 1 = 71837\n",
      "auc=0.9808|sensitivity=0.9332|specificity=0.9315|acc=0.9323|mcc=0.8647\n",
      "precision=0.9316|recall=0.9332|f1=0.9324|aupr=0.9799\n",
      "Idx57 - model_layer2_multihead2_fold2.pkl: # layer = 2 | # heads = 2 | Fold = 2\n"
     ]
    },
    {
     "name": "stderr",
     "output_type": "stream",
     "text": [
      "  1%|          | 1/141 [00:00<00:18,  7.56it/s]"
     ]
    },
    {
     "name": "stdout",
     "output_type": "stream",
     "text": [
      "VAL Label info: Counter({1: 71837, 0: 71837})\n"
     ]
    },
    {
     "name": "stderr",
     "output_type": "stream",
     "text": [
      "100%|██████████| 141/141 [00:14<00:00,  9.75it/s]\n"
     ]
    },
    {
     "name": "stdout",
     "output_type": "stream",
     "text": [
      "tn = 66308, fp = 5529, fn = 4524, tp = 67313\n",
      "y_pred: 0 = 70832 | 1 = 72842\n",
      "y_true: 0 = 71837 | 1 = 71837\n",
      "auc=0.9801|sensitivity=0.9370|specificity=0.9230|acc=0.9300|mcc=0.8601\n",
      "precision=0.9241|recall=0.9370|f1=0.9305|aupr=0.9792\n",
      "Idx58 - model_layer2_multihead2_fold3.pkl: # layer = 2 | # heads = 2 | Fold = 3\n"
     ]
    },
    {
     "name": "stderr",
     "output_type": "stream",
     "text": [
      "  1%|          | 1/141 [00:00<00:19,  7.07it/s]"
     ]
    },
    {
     "name": "stdout",
     "output_type": "stream",
     "text": [
      "VAL Label info: Counter({0: 71837, 1: 71837})\n"
     ]
    },
    {
     "name": "stderr",
     "output_type": "stream",
     "text": [
      "100%|██████████| 141/141 [00:14<00:00,  9.95it/s]\n"
     ]
    },
    {
     "name": "stdout",
     "output_type": "stream",
     "text": [
      "tn = 65592, fp = 6245, fn = 3882, tp = 67955\n",
      "y_pred: 0 = 69474 | 1 = 74200\n",
      "y_true: 0 = 71837 | 1 = 71837\n",
      "auc=0.9801|sensitivity=0.9460|specificity=0.9131|acc=0.9295|mcc=0.8595\n",
      "precision=0.9158|recall=0.9460|f1=0.9307|aupr=0.9791\n",
      "Idx59 - model_layer2_multihead2_fold4.pkl: # layer = 2 | # heads = 2 | Fold = 4\n"
     ]
    },
    {
     "name": "stderr",
     "output_type": "stream",
     "text": [
      "  1%|          | 1/141 [00:00<00:19,  7.30it/s]"
     ]
    },
    {
     "name": "stdout",
     "output_type": "stream",
     "text": [
      "VAL Label info: Counter({0: 71837, 1: 71837})\n"
     ]
    },
    {
     "name": "stderr",
     "output_type": "stream",
     "text": [
      "100%|██████████| 141/141 [00:13<00:00, 10.43it/s]\n"
     ]
    },
    {
     "name": "stdout",
     "output_type": "stream",
     "text": [
      "tn = 66265, fp = 5572, fn = 4321, tp = 67516\n",
      "y_pred: 0 = 70586 | 1 = 73088\n",
      "y_true: 0 = 71837 | 1 = 71837\n",
      "auc=0.9800|sensitivity=0.9398|specificity=0.9224|acc=0.9311|mcc=0.8624\n",
      "precision=0.9238|recall=0.9398|f1=0.9317|aupr=0.9786\n",
      "Idx60 - model_layer2_multihead3_fold0.pkl: # layer = 2 | # heads = 3 | Fold = 0\n"
     ]
    },
    {
     "name": "stderr",
     "output_type": "stream",
     "text": [
      "  1%|          | 1/141 [00:00<00:20,  6.78it/s]"
     ]
    },
    {
     "name": "stdout",
     "output_type": "stream",
     "text": [
      "VAL Label info: Counter({0: 71837, 1: 71837})\n"
     ]
    },
    {
     "name": "stderr",
     "output_type": "stream",
     "text": [
      "100%|██████████| 141/141 [00:15<00:00,  8.85it/s]\n"
     ]
    },
    {
     "name": "stdout",
     "output_type": "stream",
     "text": [
      "tn = 66248, fp = 5589, fn = 4849, tp = 66988\n",
      "y_pred: 0 = 71097 | 1 = 72577\n",
      "y_true: 0 = 71837 | 1 = 71837\n",
      "auc=0.9768|sensitivity=0.9325|specificity=0.9222|acc=0.9273|mcc=0.8547\n",
      "precision=0.9230|recall=0.9325|f1=0.9277|aupr=0.9763\n",
      "Idx61 - model_layer2_multihead3_fold1.pkl: # layer = 2 | # heads = 3 | Fold = 1\n"
     ]
    },
    {
     "name": "stderr",
     "output_type": "stream",
     "text": [
      "  1%|          | 1/141 [00:00<00:21,  6.43it/s]"
     ]
    },
    {
     "name": "stdout",
     "output_type": "stream",
     "text": [
      "VAL Label info: Counter({1: 71837, 0: 71837})\n"
     ]
    },
    {
     "name": "stderr",
     "output_type": "stream",
     "text": [
      "100%|██████████| 141/141 [00:15<00:00,  8.98it/s]\n"
     ]
    },
    {
     "name": "stdout",
     "output_type": "stream",
     "text": [
      "tn = 66786, fp = 5051, fn = 4669, tp = 67168\n",
      "y_pred: 0 = 71455 | 1 = 72219\n",
      "y_true: 0 = 71837 | 1 = 71837\n",
      "auc=0.9806|sensitivity=0.9350|specificity=0.9297|acc=0.9323|mcc=0.8647\n",
      "precision=0.9301|recall=0.9350|f1=0.9325|aupr=0.9794\n",
      "Idx62 - model_layer2_multihead3_fold2.pkl: # layer = 2 | # heads = 3 | Fold = 2\n"
     ]
    },
    {
     "name": "stderr",
     "output_type": "stream",
     "text": [
      "  1%|          | 1/141 [00:00<00:20,  6.77it/s]"
     ]
    },
    {
     "name": "stdout",
     "output_type": "stream",
     "text": [
      "VAL Label info: Counter({1: 71837, 0: 71837})\n"
     ]
    },
    {
     "name": "stderr",
     "output_type": "stream",
     "text": [
      "100%|██████████| 141/141 [00:16<00:00,  8.53it/s]\n"
     ]
    },
    {
     "name": "stdout",
     "output_type": "stream",
     "text": [
      "tn = 66373, fp = 5464, fn = 4357, tp = 67480\n",
      "y_pred: 0 = 70730 | 1 = 72944\n",
      "y_true: 0 = 71837 | 1 = 71837\n",
      "auc=0.9807|sensitivity=0.9393|specificity=0.9239|acc=0.9316|mcc=0.8634\n",
      "precision=0.9251|recall=0.9393|f1=0.9322|aupr=0.9794\n",
      "Idx63 - model_layer2_multihead3_fold3.pkl: # layer = 2 | # heads = 3 | Fold = 3\n"
     ]
    },
    {
     "name": "stderr",
     "output_type": "stream",
     "text": [
      "  1%|          | 1/141 [00:00<00:22,  6.23it/s]"
     ]
    },
    {
     "name": "stdout",
     "output_type": "stream",
     "text": [
      "VAL Label info: Counter({0: 71837, 1: 71837})\n"
     ]
    },
    {
     "name": "stderr",
     "output_type": "stream",
     "text": [
      "100%|██████████| 141/141 [00:16<00:00,  8.58it/s]\n"
     ]
    },
    {
     "name": "stdout",
     "output_type": "stream",
     "text": [
      "tn = 65625, fp = 6212, fn = 3605, tp = 68232\n",
      "y_pred: 0 = 69230 | 1 = 74444\n",
      "y_true: 0 = 71837 | 1 = 71837\n",
      "auc=0.9808|sensitivity=0.9498|specificity=0.9135|acc=0.9317|mcc=0.8639\n",
      "precision=0.9166|recall=0.9498|f1=0.9329|aupr=0.9796\n",
      "Idx64 - model_layer2_multihead3_fold4.pkl: # layer = 2 | # heads = 3 | Fold = 4\n"
     ]
    },
    {
     "name": "stderr",
     "output_type": "stream",
     "text": [
      "  1%|          | 1/141 [00:00<00:21,  6.60it/s]"
     ]
    },
    {
     "name": "stdout",
     "output_type": "stream",
     "text": [
      "VAL Label info: Counter({0: 71837, 1: 71837})\n"
     ]
    },
    {
     "name": "stderr",
     "output_type": "stream",
     "text": [
      "100%|██████████| 141/141 [00:16<00:00,  8.79it/s]\n"
     ]
    },
    {
     "name": "stdout",
     "output_type": "stream",
     "text": [
      "tn = 65671, fp = 6166, fn = 3527, tp = 68310\n",
      "y_pred: 0 = 69198 | 1 = 74476\n",
      "y_true: 0 = 71837 | 1 = 71837\n",
      "auc=0.9812|sensitivity=0.9509|specificity=0.9142|acc=0.9325|mcc=0.8657\n",
      "precision=0.9172|recall=0.9509|f1=0.9338|aupr=0.9800\n",
      "Idx65 - model_layer2_multihead4_fold0.pkl: # layer = 2 | # heads = 4 | Fold = 0\n"
     ]
    },
    {
     "name": "stderr",
     "output_type": "stream",
     "text": [
      "  1%|          | 1/141 [00:00<00:24,  5.71it/s]"
     ]
    },
    {
     "name": "stdout",
     "output_type": "stream",
     "text": [
      "VAL Label info: Counter({0: 71837, 1: 71837})\n"
     ]
    },
    {
     "name": "stderr",
     "output_type": "stream",
     "text": [
      "100%|██████████| 141/141 [00:20<00:00,  6.84it/s]\n"
     ]
    },
    {
     "name": "stdout",
     "output_type": "stream",
     "text": [
      "tn = 66630, fp = 5207, fn = 5175, tp = 66662\n",
      "y_pred: 0 = 71805 | 1 = 71869\n",
      "y_true: 0 = 71837 | 1 = 71837\n",
      "auc=0.9780|sensitivity=0.9280|specificity=0.9275|acc=0.9277|mcc=0.8555\n",
      "precision=0.9275|recall=0.9280|f1=0.9278|aupr=0.9776\n",
      "Idx66 - model_layer2_multihead4_fold1.pkl: # layer = 2 | # heads = 4 | Fold = 1\n"
     ]
    },
    {
     "name": "stderr",
     "output_type": "stream",
     "text": [
      "  1%|          | 1/141 [00:00<00:24,  5.67it/s]"
     ]
    },
    {
     "name": "stdout",
     "output_type": "stream",
     "text": [
      "VAL Label info: Counter({1: 71837, 0: 71837})\n"
     ]
    },
    {
     "name": "stderr",
     "output_type": "stream",
     "text": [
      "100%|██████████| 141/141 [00:20<00:00,  6.90it/s]\n"
     ]
    },
    {
     "name": "stdout",
     "output_type": "stream",
     "text": [
      "tn = 66775, fp = 5062, fn = 4650, tp = 67187\n",
      "y_pred: 0 = 71425 | 1 = 72249\n",
      "y_true: 0 = 71837 | 1 = 71837\n",
      "auc=0.9808|sensitivity=0.9353|specificity=0.9295|acc=0.9324|mcc=0.8648\n",
      "precision=0.9299|recall=0.9353|f1=0.9326|aupr=0.9794\n",
      "Idx67 - model_layer2_multihead4_fold2.pkl: # layer = 2 | # heads = 4 | Fold = 2\n"
     ]
    },
    {
     "name": "stderr",
     "output_type": "stream",
     "text": [
      "  1%|          | 1/141 [00:00<00:26,  5.35it/s]"
     ]
    },
    {
     "name": "stdout",
     "output_type": "stream",
     "text": [
      "VAL Label info: Counter({1: 71837, 0: 71837})\n"
     ]
    },
    {
     "name": "stderr",
     "output_type": "stream",
     "text": [
      "100%|██████████| 141/141 [00:20<00:00,  6.77it/s]\n"
     ]
    },
    {
     "name": "stdout",
     "output_type": "stream",
     "text": [
      "tn = 65809, fp = 6028, fn = 3849, tp = 67988\n",
      "y_pred: 0 = 69658 | 1 = 74016\n",
      "y_true: 0 = 71837 | 1 = 71837\n",
      "auc=0.9807|sensitivity=0.9464|specificity=0.9161|acc=0.9313|mcc=0.8629\n",
      "precision=0.9186|recall=0.9464|f1=0.9323|aupr=0.9794\n",
      "Idx68 - model_layer2_multihead4_fold3.pkl: # layer = 2 | # heads = 4 | Fold = 3\n"
     ]
    },
    {
     "name": "stderr",
     "output_type": "stream",
     "text": [
      "  1%|          | 1/141 [00:00<00:27,  5.08it/s]"
     ]
    },
    {
     "name": "stdout",
     "output_type": "stream",
     "text": [
      "VAL Label info: Counter({0: 71837, 1: 71837})\n"
     ]
    },
    {
     "name": "stderr",
     "output_type": "stream",
     "text": [
      "100%|██████████| 141/141 [00:21<00:00,  6.67it/s]\n"
     ]
    },
    {
     "name": "stdout",
     "output_type": "stream",
     "text": [
      "tn = 64929, fp = 6908, fn = 3307, tp = 68530\n",
      "y_pred: 0 = 68236 | 1 = 75438\n",
      "y_true: 0 = 71837 | 1 = 71837\n",
      "auc=0.9803|sensitivity=0.9540|specificity=0.9038|acc=0.9289|mcc=0.8589\n",
      "precision=0.9084|recall=0.9540|f1=0.9306|aupr=0.9788\n",
      "Idx69 - model_layer2_multihead4_fold4.pkl: # layer = 2 | # heads = 4 | Fold = 4\n"
     ]
    },
    {
     "name": "stderr",
     "output_type": "stream",
     "text": [
      "  1%|          | 1/141 [00:00<00:24,  5.81it/s]"
     ]
    },
    {
     "name": "stdout",
     "output_type": "stream",
     "text": [
      "VAL Label info: Counter({0: 71837, 1: 71837})\n"
     ]
    },
    {
     "name": "stderr",
     "output_type": "stream",
     "text": [
      "100%|██████████| 141/141 [00:20<00:00,  6.88it/s]\n"
     ]
    },
    {
     "name": "stdout",
     "output_type": "stream",
     "text": [
      "tn = 66290, fp = 5547, fn = 4147, tp = 67690\n",
      "y_pred: 0 = 70437 | 1 = 73237\n",
      "y_true: 0 = 71837 | 1 = 71837\n",
      "auc=0.9808|sensitivity=0.9423|specificity=0.9228|acc=0.9325|mcc=0.8652\n",
      "precision=0.9243|recall=0.9423|f1=0.9332|aupr=0.9791\n",
      "Idx70 - model_layer2_multihead5_fold0.pkl: # layer = 2 | # heads = 5 | Fold = 0\n"
     ]
    },
    {
     "name": "stderr",
     "output_type": "stream",
     "text": [
      "\r",
      "  0%|          | 0/141 [00:00<?, ?it/s]"
     ]
    },
    {
     "name": "stdout",
     "output_type": "stream",
     "text": [
      "VAL Label info: Counter({0: 71837, 1: 71837})\n"
     ]
    },
    {
     "name": "stderr",
     "output_type": "stream",
     "text": [
      "100%|██████████| 141/141 [00:24<00:00,  5.78it/s]\n"
     ]
    },
    {
     "name": "stdout",
     "output_type": "stream",
     "text": [
      "tn = 65322, fp = 6515, fn = 4154, tp = 67683\n",
      "y_pred: 0 = 69476 | 1 = 74198\n",
      "y_true: 0 = 71837 | 1 = 71837\n",
      "auc=0.9771|sensitivity=0.9422|specificity=0.9093|acc=0.9257|mcc=0.8519\n",
      "precision=0.9122|recall=0.9422|f1=0.9269|aupr=0.9764\n",
      "Idx71 - model_layer2_multihead5_fold1.pkl: # layer = 2 | # heads = 5 | Fold = 1\n"
     ]
    },
    {
     "name": "stderr",
     "output_type": "stream",
     "text": [
      "\r",
      "  0%|          | 0/141 [00:00<?, ?it/s]"
     ]
    },
    {
     "name": "stdout",
     "output_type": "stream",
     "text": [
      "VAL Label info: Counter({1: 71837, 0: 71837})\n"
     ]
    },
    {
     "name": "stderr",
     "output_type": "stream",
     "text": [
      "100%|██████████| 141/141 [00:23<00:00,  5.89it/s]\n"
     ]
    },
    {
     "name": "stdout",
     "output_type": "stream",
     "text": [
      "tn = 66073, fp = 5764, fn = 3946, tp = 67891\n",
      "y_pred: 0 = 70019 | 1 = 73655\n",
      "y_true: 0 = 71837 | 1 = 71837\n",
      "auc=0.9810|sensitivity=0.9451|specificity=0.9198|acc=0.9324|mcc=0.8651\n",
      "precision=0.9217|recall=0.9451|f1=0.9333|aupr=0.9796\n",
      "Idx72 - model_layer2_multihead5_fold2.pkl: # layer = 2 | # heads = 5 | Fold = 2\n"
     ]
    },
    {
     "name": "stderr",
     "output_type": "stream",
     "text": [
      "\r",
      "  0%|          | 0/141 [00:00<?, ?it/s]"
     ]
    },
    {
     "name": "stdout",
     "output_type": "stream",
     "text": [
      "VAL Label info: Counter({1: 71837, 0: 71837})\n"
     ]
    },
    {
     "name": "stderr",
     "output_type": "stream",
     "text": [
      "100%|██████████| 141/141 [00:23<00:00,  6.12it/s]\n"
     ]
    },
    {
     "name": "stdout",
     "output_type": "stream",
     "text": [
      "tn = 66168, fp = 5669, fn = 3983, tp = 67854\n",
      "y_pred: 0 = 70151 | 1 = 73523\n",
      "y_true: 0 = 71837 | 1 = 71837\n",
      "auc=0.9814|sensitivity=0.9446|specificity=0.9211|acc=0.9328|mcc=0.8659\n",
      "precision=0.9229|recall=0.9446|f1=0.9336|aupr=0.9802\n",
      "Idx73 - model_layer2_multihead5_fold3.pkl: # layer = 2 | # heads = 5 | Fold = 3\n"
     ]
    },
    {
     "name": "stderr",
     "output_type": "stream",
     "text": [
      "\r",
      "  0%|          | 0/141 [00:00<?, ?it/s]"
     ]
    },
    {
     "name": "stdout",
     "output_type": "stream",
     "text": [
      "VAL Label info: Counter({0: 71837, 1: 71837})\n"
     ]
    },
    {
     "name": "stderr",
     "output_type": "stream",
     "text": [
      "100%|██████████| 141/141 [00:23<00:00,  5.91it/s]\n"
     ]
    },
    {
     "name": "stdout",
     "output_type": "stream",
     "text": [
      "tn = 65996, fp = 5841, fn = 4018, tp = 67819\n",
      "y_pred: 0 = 70014 | 1 = 73660\n",
      "y_true: 0 = 71837 | 1 = 71837\n",
      "auc=0.9807|sensitivity=0.9441|specificity=0.9187|acc=0.9314|mcc=0.8630\n",
      "precision=0.9207|recall=0.9441|f1=0.9322|aupr=0.9794\n",
      "Idx74 - model_layer2_multihead5_fold4.pkl: # layer = 2 | # heads = 5 | Fold = 4\n"
     ]
    },
    {
     "name": "stderr",
     "output_type": "stream",
     "text": [
      "\r",
      "  0%|          | 0/141 [00:00<?, ?it/s]"
     ]
    },
    {
     "name": "stdout",
     "output_type": "stream",
     "text": [
      "VAL Label info: Counter({0: 71837, 1: 71837})\n"
     ]
    },
    {
     "name": "stderr",
     "output_type": "stream",
     "text": [
      "100%|██████████| 141/141 [00:23<00:00,  5.90it/s]\n"
     ]
    },
    {
     "name": "stdout",
     "output_type": "stream",
     "text": [
      "tn = 66767, fp = 5070, fn = 4355, tp = 67482\n",
      "y_pred: 0 = 71122 | 1 = 72552\n",
      "y_true: 0 = 71837 | 1 = 71837\n",
      "auc=0.9816|sensitivity=0.9394|specificity=0.9294|acc=0.9344|mcc=0.8688\n",
      "precision=0.9301|recall=0.9394|f1=0.9347|aupr=0.9804\n",
      "Idx75 - model_layer2_multihead6_fold0.pkl: # layer = 2 | # heads = 6 | Fold = 0\n"
     ]
    },
    {
     "name": "stderr",
     "output_type": "stream",
     "text": [
      "\r",
      "  0%|          | 0/141 [00:00<?, ?it/s]"
     ]
    },
    {
     "name": "stdout",
     "output_type": "stream",
     "text": [
      "VAL Label info: Counter({0: 71837, 1: 71837})\n"
     ]
    },
    {
     "name": "stderr",
     "output_type": "stream",
     "text": [
      "100%|██████████| 141/141 [00:25<00:00,  5.45it/s]\n"
     ]
    },
    {
     "name": "stdout",
     "output_type": "stream",
     "text": [
      "tn = 66921, fp = 4916, fn = 5599, tp = 66238\n",
      "y_pred: 0 = 72520 | 1 = 71154\n",
      "y_true: 0 = 71837 | 1 = 71837\n",
      "auc=0.9778|sensitivity=0.9221|specificity=0.9316|acc=0.9268|mcc=0.8537\n",
      "precision=0.9309|recall=0.9221|f1=0.9265|aupr=0.9773\n",
      "Idx76 - model_layer2_multihead6_fold1.pkl: # layer = 2 | # heads = 6 | Fold = 1\n"
     ]
    },
    {
     "name": "stderr",
     "output_type": "stream",
     "text": [
      "\r",
      "  0%|          | 0/141 [00:00<?, ?it/s]"
     ]
    },
    {
     "name": "stdout",
     "output_type": "stream",
     "text": [
      "VAL Label info: Counter({1: 71837, 0: 71837})\n"
     ]
    },
    {
     "name": "stderr",
     "output_type": "stream",
     "text": [
      "100%|██████████| 141/141 [00:25<00:00,  5.63it/s]\n"
     ]
    },
    {
     "name": "stdout",
     "output_type": "stream",
     "text": [
      "tn = 66507, fp = 5330, fn = 4076, tp = 67761\n",
      "y_pred: 0 = 70583 | 1 = 73091\n",
      "y_true: 0 = 71837 | 1 = 71837\n",
      "auc=0.9820|sensitivity=0.9433|specificity=0.9258|acc=0.9345|mcc=0.8692\n",
      "precision=0.9271|recall=0.9433|f1=0.9351|aupr=0.9808\n",
      "Idx77 - model_layer2_multihead6_fold2.pkl: # layer = 2 | # heads = 6 | Fold = 2\n"
     ]
    },
    {
     "name": "stderr",
     "output_type": "stream",
     "text": [
      "\r",
      "  0%|          | 0/141 [00:00<?, ?it/s]"
     ]
    },
    {
     "name": "stdout",
     "output_type": "stream",
     "text": [
      "VAL Label info: Counter({1: 71837, 0: 71837})\n"
     ]
    },
    {
     "name": "stderr",
     "output_type": "stream",
     "text": [
      "100%|██████████| 141/141 [00:25<00:00,  5.53it/s]\n"
     ]
    },
    {
     "name": "stdout",
     "output_type": "stream",
     "text": [
      "tn = 65890, fp = 5947, fn = 3737, tp = 68100\n",
      "y_pred: 0 = 69627 | 1 = 74047\n",
      "y_true: 0 = 71837 | 1 = 71837\n",
      "auc=0.9816|sensitivity=0.9480|specificity=0.9172|acc=0.9326|mcc=0.8656\n",
      "precision=0.9197|recall=0.9480|f1=0.9336|aupr=0.9803\n",
      "Idx78 - model_layer2_multihead6_fold3.pkl: # layer = 2 | # heads = 6 | Fold = 3\n"
     ]
    },
    {
     "name": "stderr",
     "output_type": "stream",
     "text": [
      "\r",
      "  0%|          | 0/141 [00:00<?, ?it/s]"
     ]
    },
    {
     "name": "stdout",
     "output_type": "stream",
     "text": [
      "VAL Label info: Counter({0: 71837, 1: 71837})\n"
     ]
    },
    {
     "name": "stderr",
     "output_type": "stream",
     "text": [
      "100%|██████████| 141/141 [00:24<00:00,  5.72it/s]\n"
     ]
    },
    {
     "name": "stdout",
     "output_type": "stream",
     "text": [
      "tn = 66278, fp = 5559, fn = 3997, tp = 67840\n",
      "y_pred: 0 = 70275 | 1 = 73399\n",
      "y_true: 0 = 71837 | 1 = 71837\n",
      "auc=0.9810|sensitivity=0.9444|specificity=0.9226|acc=0.9335|mcc=0.8672\n",
      "precision=0.9243|recall=0.9444|f1=0.9342|aupr=0.9792\n",
      "Idx79 - model_layer2_multihead6_fold4.pkl: # layer = 2 | # heads = 6 | Fold = 4\n"
     ]
    },
    {
     "name": "stderr",
     "output_type": "stream",
     "text": [
      "\r",
      "  0%|          | 0/141 [00:00<?, ?it/s]"
     ]
    },
    {
     "name": "stdout",
     "output_type": "stream",
     "text": [
      "VAL Label info: Counter({0: 71837, 1: 71837})\n"
     ]
    },
    {
     "name": "stderr",
     "output_type": "stream",
     "text": [
      "100%|██████████| 141/141 [00:25<00:00,  5.53it/s]\n"
     ]
    },
    {
     "name": "stdout",
     "output_type": "stream",
     "text": [
      "tn = 66535, fp = 5302, fn = 4060, tp = 67777\n",
      "y_pred: 0 = 70595 | 1 = 73079\n",
      "y_true: 0 = 71837 | 1 = 71837\n",
      "auc=0.9822|sensitivity=0.9435|specificity=0.9262|acc=0.9348|mcc=0.8698\n",
      "precision=0.9274|recall=0.9435|f1=0.9354|aupr=0.9807\n",
      "Idx80 - model_layer2_multihead7_fold0.pkl: # layer = 2 | # heads = 7 | Fold = 0\n"
     ]
    },
    {
     "name": "stderr",
     "output_type": "stream",
     "text": [
      "\r",
      "  0%|          | 0/141 [00:00<?, ?it/s]"
     ]
    },
    {
     "name": "stdout",
     "output_type": "stream",
     "text": [
      "VAL Label info: Counter({0: 71837, 1: 71837})\n"
     ]
    },
    {
     "name": "stderr",
     "output_type": "stream",
     "text": [
      "100%|██████████| 141/141 [00:27<00:00,  5.13it/s]\n"
     ]
    },
    {
     "name": "stdout",
     "output_type": "stream",
     "text": [
      "tn = 66101, fp = 5736, fn = 4689, tp = 67148\n",
      "y_pred: 0 = 70790 | 1 = 72884\n",
      "y_true: 0 = 71837 | 1 = 71837\n",
      "auc=0.9777|sensitivity=0.9347|specificity=0.9202|acc=0.9274|mcc=0.8550\n",
      "precision=0.9213|recall=0.9347|f1=0.9280|aupr=0.9773\n",
      "Idx81 - model_layer2_multihead7_fold1.pkl: # layer = 2 | # heads = 7 | Fold = 1\n"
     ]
    },
    {
     "name": "stderr",
     "output_type": "stream",
     "text": [
      "\r",
      "  0%|          | 0/141 [00:00<?, ?it/s]"
     ]
    },
    {
     "name": "stdout",
     "output_type": "stream",
     "text": [
      "VAL Label info: Counter({1: 71837, 0: 71837})\n"
     ]
    },
    {
     "name": "stderr",
     "output_type": "stream",
     "text": [
      "100%|██████████| 141/141 [00:28<00:00,  4.94it/s]\n"
     ]
    },
    {
     "name": "stdout",
     "output_type": "stream",
     "text": [
      "tn = 66881, fp = 4956, fn = 4486, tp = 67351\n",
      "y_pred: 0 = 71367 | 1 = 72307\n",
      "y_true: 0 = 71837 | 1 = 71837\n",
      "auc=0.9819|sensitivity=0.9376|specificity=0.9310|acc=0.9343|mcc=0.8686\n",
      "precision=0.9315|recall=0.9376|f1=0.9345|aupr=0.9802\n",
      "Idx82 - model_layer2_multihead7_fold2.pkl: # layer = 2 | # heads = 7 | Fold = 2\n"
     ]
    },
    {
     "name": "stderr",
     "output_type": "stream",
     "text": [
      "\r",
      "  0%|          | 0/141 [00:00<?, ?it/s]"
     ]
    },
    {
     "name": "stdout",
     "output_type": "stream",
     "text": [
      "VAL Label info: Counter({1: 71837, 0: 71837})\n"
     ]
    },
    {
     "name": "stderr",
     "output_type": "stream",
     "text": [
      "100%|██████████| 141/141 [00:28<00:00,  4.92it/s]\n"
     ]
    },
    {
     "name": "stdout",
     "output_type": "stream",
     "text": [
      "tn = 65407, fp = 6430, fn = 3340, tp = 68497\n",
      "y_pred: 0 = 68747 | 1 = 74927\n",
      "y_true: 0 = 71837 | 1 = 71837\n",
      "auc=0.9813|sensitivity=0.9535|specificity=0.9105|acc=0.9320|mcc=0.8648\n",
      "precision=0.9142|recall=0.9535|f1=0.9334|aupr=0.9798\n",
      "Idx83 - model_layer2_multihead7_fold3.pkl: # layer = 2 | # heads = 7 | Fold = 3\n"
     ]
    },
    {
     "name": "stderr",
     "output_type": "stream",
     "text": [
      "\r",
      "  0%|          | 0/141 [00:00<?, ?it/s]"
     ]
    },
    {
     "name": "stdout",
     "output_type": "stream",
     "text": [
      "VAL Label info: Counter({0: 71837, 1: 71837})\n"
     ]
    },
    {
     "name": "stderr",
     "output_type": "stream",
     "text": [
      "100%|██████████| 141/141 [00:27<00:00,  5.07it/s]\n"
     ]
    },
    {
     "name": "stdout",
     "output_type": "stream",
     "text": [
      "tn = 65361, fp = 6476, fn = 3301, tp = 68536\n",
      "y_pred: 0 = 68662 | 1 = 75012\n",
      "y_true: 0 = 71837 | 1 = 71837\n",
      "auc=0.9815|sensitivity=0.9540|specificity=0.9099|acc=0.9320|mcc=0.8647\n",
      "precision=0.9137|recall=0.9540|f1=0.9334|aupr=0.9801\n",
      "Idx84 - model_layer2_multihead7_fold4.pkl: # layer = 2 | # heads = 7 | Fold = 4\n"
     ]
    },
    {
     "name": "stderr",
     "output_type": "stream",
     "text": [
      "\r",
      "  0%|          | 0/141 [00:00<?, ?it/s]"
     ]
    },
    {
     "name": "stdout",
     "output_type": "stream",
     "text": [
      "VAL Label info: Counter({0: 71837, 1: 71837})\n"
     ]
    },
    {
     "name": "stderr",
     "output_type": "stream",
     "text": [
      "100%|██████████| 141/141 [00:27<00:00,  5.06it/s]\n"
     ]
    },
    {
     "name": "stdout",
     "output_type": "stream",
     "text": [
      "tn = 66716, fp = 5121, fn = 4270, tp = 67567\n",
      "y_pred: 0 = 70986 | 1 = 72688\n",
      "y_true: 0 = 71837 | 1 = 71837\n",
      "auc=0.9820|sensitivity=0.9406|specificity=0.9287|acc=0.9346|mcc=0.8693\n",
      "precision=0.9295|recall=0.9406|f1=0.9350|aupr=0.9804\n",
      "Idx85 - model_layer2_multihead8_fold0.pkl: # layer = 2 | # heads = 8 | Fold = 0\n"
     ]
    },
    {
     "name": "stderr",
     "output_type": "stream",
     "text": [
      "\r",
      "  0%|          | 0/141 [00:00<?, ?it/s]"
     ]
    },
    {
     "name": "stdout",
     "output_type": "stream",
     "text": [
      "VAL Label info: Counter({0: 71837, 1: 71837})\n"
     ]
    },
    {
     "name": "stderr",
     "output_type": "stream",
     "text": [
      "100%|██████████| 141/141 [00:32<00:00,  4.30it/s]\n"
     ]
    },
    {
     "name": "stdout",
     "output_type": "stream",
     "text": [
      "tn = 66192, fp = 5645, fn = 4623, tp = 67214\n",
      "y_pred: 0 = 70815 | 1 = 72859\n",
      "y_true: 0 = 71837 | 1 = 71837\n",
      "auc=0.9784|sensitivity=0.9356|specificity=0.9214|acc=0.9285|mcc=0.8572\n",
      "precision=0.9225|recall=0.9356|f1=0.9290|aupr=0.9781\n",
      "Idx86 - model_layer2_multihead8_fold1.pkl: # layer = 2 | # heads = 8 | Fold = 1\n"
     ]
    },
    {
     "name": "stderr",
     "output_type": "stream",
     "text": [
      "\r",
      "  0%|          | 0/141 [00:00<?, ?it/s]"
     ]
    },
    {
     "name": "stdout",
     "output_type": "stream",
     "text": [
      "VAL Label info: Counter({1: 71837, 0: 71837})\n"
     ]
    },
    {
     "name": "stderr",
     "output_type": "stream",
     "text": [
      "100%|██████████| 141/141 [00:33<00:00,  4.24it/s]\n"
     ]
    },
    {
     "name": "stdout",
     "output_type": "stream",
     "text": [
      "tn = 67016, fp = 4821, fn = 4445, tp = 67392\n",
      "y_pred: 0 = 71461 | 1 = 72213\n",
      "y_true: 0 = 71837 | 1 = 71837\n",
      "auc=0.9822|sensitivity=0.9381|specificity=0.9329|acc=0.9355|mcc=0.8710\n",
      "precision=0.9332|recall=0.9381|f1=0.9357|aupr=0.9808\n",
      "Idx87 - model_layer2_multihead8_fold2.pkl: # layer = 2 | # heads = 8 | Fold = 2\n"
     ]
    },
    {
     "name": "stderr",
     "output_type": "stream",
     "text": [
      "\r",
      "  0%|          | 0/141 [00:00<?, ?it/s]"
     ]
    },
    {
     "name": "stdout",
     "output_type": "stream",
     "text": [
      "VAL Label info: Counter({1: 71837, 0: 71837})\n"
     ]
    },
    {
     "name": "stderr",
     "output_type": "stream",
     "text": [
      "100%|██████████| 141/141 [00:33<00:00,  4.26it/s]\n"
     ]
    },
    {
     "name": "stdout",
     "output_type": "stream",
     "text": [
      "tn = 66513, fp = 5324, fn = 4104, tp = 67733\n",
      "y_pred: 0 = 70617 | 1 = 73057\n",
      "y_true: 0 = 71837 | 1 = 71837\n",
      "auc=0.9817|sensitivity=0.9429|specificity=0.9259|acc=0.9344|mcc=0.8689\n",
      "precision=0.9271|recall=0.9429|f1=0.9349|aupr=0.9799\n",
      "Idx88 - model_layer2_multihead8_fold3.pkl: # layer = 2 | # heads = 8 | Fold = 3\n"
     ]
    },
    {
     "name": "stderr",
     "output_type": "stream",
     "text": [
      "\r",
      "  0%|          | 0/141 [00:00<?, ?it/s]"
     ]
    },
    {
     "name": "stdout",
     "output_type": "stream",
     "text": [
      "VAL Label info: Counter({0: 71837, 1: 71837})\n"
     ]
    },
    {
     "name": "stderr",
     "output_type": "stream",
     "text": [
      "100%|██████████| 141/141 [00:32<00:00,  4.35it/s]\n"
     ]
    },
    {
     "name": "stdout",
     "output_type": "stream",
     "text": [
      "tn = 65668, fp = 6169, fn = 3497, tp = 68340\n",
      "y_pred: 0 = 69165 | 1 = 74509\n",
      "y_true: 0 = 71837 | 1 = 71837\n",
      "auc=0.9815|sensitivity=0.9513|specificity=0.9141|acc=0.9327|mcc=0.8660\n",
      "precision=0.9172|recall=0.9513|f1=0.9340|aupr=0.9799\n",
      "Idx89 - model_layer2_multihead8_fold4.pkl: # layer = 2 | # heads = 8 | Fold = 4\n"
     ]
    },
    {
     "name": "stderr",
     "output_type": "stream",
     "text": [
      "\r",
      "  0%|          | 0/141 [00:00<?, ?it/s]"
     ]
    },
    {
     "name": "stdout",
     "output_type": "stream",
     "text": [
      "VAL Label info: Counter({0: 71837, 1: 71837})\n"
     ]
    },
    {
     "name": "stderr",
     "output_type": "stream",
     "text": [
      "100%|██████████| 141/141 [00:33<00:00,  4.19it/s]\n"
     ]
    },
    {
     "name": "stdout",
     "output_type": "stream",
     "text": [
      "tn = 66343, fp = 5494, fn = 3863, tp = 67974\n",
      "y_pred: 0 = 70206 | 1 = 73468\n",
      "y_true: 0 = 71837 | 1 = 71837\n",
      "auc=0.9821|sensitivity=0.9462|specificity=0.9235|acc=0.9349|mcc=0.8700\n",
      "precision=0.9252|recall=0.9462|f1=0.9356|aupr=0.9803\n",
      "Idx90 - model_layer2_multihead9_fold0.pkl: # layer = 2 | # heads = 9 | Fold = 0\n"
     ]
    },
    {
     "name": "stderr",
     "output_type": "stream",
     "text": [
      "\r",
      "  0%|          | 0/141 [00:00<?, ?it/s]"
     ]
    },
    {
     "name": "stdout",
     "output_type": "stream",
     "text": [
      "VAL Label info: Counter({0: 71837, 1: 71837})\n"
     ]
    },
    {
     "name": "stderr",
     "output_type": "stream",
     "text": [
      "100%|██████████| 141/141 [00:34<00:00,  4.04it/s]\n"
     ]
    },
    {
     "name": "stdout",
     "output_type": "stream",
     "text": [
      "tn = 66358, fp = 5479, fn = 4879, tp = 66958\n",
      "y_pred: 0 = 71237 | 1 = 72437\n",
      "y_true: 0 = 71837 | 1 = 71837\n",
      "auc=0.9778|sensitivity=0.9321|specificity=0.9237|acc=0.9279|mcc=0.8558\n",
      "precision=0.9244|recall=0.9321|f1=0.9282|aupr=0.9773\n",
      "Idx91 - model_layer2_multihead9_fold1.pkl: # layer = 2 | # heads = 9 | Fold = 1\n"
     ]
    },
    {
     "name": "stderr",
     "output_type": "stream",
     "text": [
      "\r",
      "  0%|          | 0/141 [00:00<?, ?it/s]"
     ]
    },
    {
     "name": "stdout",
     "output_type": "stream",
     "text": [
      "VAL Label info: Counter({1: 71837, 0: 71837})\n"
     ]
    },
    {
     "name": "stderr",
     "output_type": "stream",
     "text": [
      "100%|██████████| 141/141 [00:35<00:00,  3.98it/s]\n"
     ]
    },
    {
     "name": "stdout",
     "output_type": "stream",
     "text": [
      "tn = 66708, fp = 5129, fn = 4264, tp = 67573\n",
      "y_pred: 0 = 70972 | 1 = 72702\n",
      "y_true: 0 = 71837 | 1 = 71837\n",
      "auc=0.9821|sensitivity=0.9406|specificity=0.9286|acc=0.9346|mcc=0.8693\n",
      "precision=0.9295|recall=0.9406|f1=0.9350|aupr=0.9807\n",
      "Idx92 - model_layer2_multihead9_fold2.pkl: # layer = 2 | # heads = 9 | Fold = 2\n"
     ]
    },
    {
     "name": "stderr",
     "output_type": "stream",
     "text": [
      "\r",
      "  0%|          | 0/141 [00:00<?, ?it/s]"
     ]
    },
    {
     "name": "stdout",
     "output_type": "stream",
     "text": [
      "VAL Label info: Counter({1: 71837, 0: 71837})\n"
     ]
    },
    {
     "name": "stderr",
     "output_type": "stream",
     "text": [
      "100%|██████████| 141/141 [00:36<00:00,  3.83it/s]\n"
     ]
    },
    {
     "name": "stdout",
     "output_type": "stream",
     "text": [
      "tn = 65372, fp = 6465, fn = 3249, tp = 68588\n",
      "y_pred: 0 = 68621 | 1 = 75053\n",
      "y_true: 0 = 71837 | 1 = 71837\n",
      "auc=0.9818|sensitivity=0.9548|specificity=0.9100|acc=0.9324|mcc=0.8656\n",
      "precision=0.9139|recall=0.9548|f1=0.9339|aupr=0.9802\n",
      "Idx93 - model_layer2_multihead9_fold3.pkl: # layer = 2 | # heads = 9 | Fold = 3\n"
     ]
    },
    {
     "name": "stderr",
     "output_type": "stream",
     "text": [
      "\r",
      "  0%|          | 0/141 [00:00<?, ?it/s]"
     ]
    },
    {
     "name": "stdout",
     "output_type": "stream",
     "text": [
      "VAL Label info: Counter({0: 71837, 1: 71837})\n"
     ]
    },
    {
     "name": "stderr",
     "output_type": "stream",
     "text": [
      "100%|██████████| 141/141 [00:35<00:00,  3.96it/s]\n"
     ]
    },
    {
     "name": "stdout",
     "output_type": "stream",
     "text": [
      "tn = 66342, fp = 5495, fn = 3613, tp = 68224\n",
      "y_pred: 0 = 69955 | 1 = 73719\n",
      "y_true: 0 = 71837 | 1 = 71837\n",
      "auc=0.9828|sensitivity=0.9497|specificity=0.9235|acc=0.9366|mcc=0.8735\n",
      "precision=0.9255|recall=0.9497|f1=0.9374|aupr=0.9813\n",
      "Idx94 - model_layer2_multihead9_fold4.pkl: # layer = 2 | # heads = 9 | Fold = 4\n"
     ]
    },
    {
     "name": "stderr",
     "output_type": "stream",
     "text": [
      "\r",
      "  0%|          | 0/141 [00:00<?, ?it/s]"
     ]
    },
    {
     "name": "stdout",
     "output_type": "stream",
     "text": [
      "VAL Label info: Counter({0: 71837, 1: 71837})\n"
     ]
    },
    {
     "name": "stderr",
     "output_type": "stream",
     "text": [
      "100%|██████████| 141/141 [00:36<00:00,  3.89it/s]\n"
     ]
    },
    {
     "name": "stdout",
     "output_type": "stream",
     "text": [
      "tn = 66164, fp = 5673, fn = 3692, tp = 68145\n",
      "y_pred: 0 = 69856 | 1 = 73818\n",
      "y_true: 0 = 71837 | 1 = 71837\n",
      "auc=0.9822|sensitivity=0.9486|specificity=0.9210|acc=0.9348|mcc=0.8700\n",
      "precision=0.9231|recall=0.9486|f1=0.9357|aupr=0.9805\n",
      "Idx95 - model_layer2_multihead10_fold0.pkl: # layer = 2 | # heads = 10 | Fold = 0\n"
     ]
    },
    {
     "name": "stderr",
     "output_type": "stream",
     "text": [
      "\r",
      "  0%|          | 0/141 [00:00<?, ?it/s]"
     ]
    },
    {
     "name": "stdout",
     "output_type": "stream",
     "text": [
      "VAL Label info: Counter({0: 71837, 1: 71837})\n"
     ]
    },
    {
     "name": "stderr",
     "output_type": "stream",
     "text": [
      "100%|██████████| 141/141 [00:37<00:00,  3.78it/s]\n"
     ]
    },
    {
     "name": "stdout",
     "output_type": "stream",
     "text": [
      "tn = 66429, fp = 5408, fn = 4942, tp = 66895\n",
      "y_pred: 0 = 71371 | 1 = 72303\n",
      "y_true: 0 = 71837 | 1 = 71837\n",
      "auc=0.9777|sensitivity=0.9312|specificity=0.9247|acc=0.9280|mcc=0.8559\n",
      "precision=0.9252|recall=0.9312|f1=0.9282|aupr=0.9773\n",
      "Idx96 - model_layer2_multihead10_fold1.pkl: # layer = 2 | # heads = 10 | Fold = 1\n"
     ]
    },
    {
     "name": "stderr",
     "output_type": "stream",
     "text": [
      "\r",
      "  0%|          | 0/141 [00:00<?, ?it/s]"
     ]
    },
    {
     "name": "stdout",
     "output_type": "stream",
     "text": [
      "VAL Label info: Counter({1: 71837, 0: 71837})\n"
     ]
    },
    {
     "name": "stderr",
     "output_type": "stream",
     "text": [
      "100%|██████████| 141/141 [00:37<00:00,  3.78it/s]\n"
     ]
    },
    {
     "name": "stdout",
     "output_type": "stream",
     "text": [
      "tn = 66276, fp = 5561, fn = 3750, tp = 68087\n",
      "y_pred: 0 = 70026 | 1 = 73648\n",
      "y_true: 0 = 71837 | 1 = 71837\n",
      "auc=0.9821|sensitivity=0.9478|specificity=0.9226|acc=0.9352|mcc=0.8707\n",
      "precision=0.9245|recall=0.9478|f1=0.9360|aupr=0.9804\n",
      "Idx97 - model_layer2_multihead10_fold2.pkl: # layer = 2 | # heads = 10 | Fold = 2\n"
     ]
    },
    {
     "name": "stderr",
     "output_type": "stream",
     "text": [
      "\r",
      "  0%|          | 0/141 [00:00<?, ?it/s]"
     ]
    },
    {
     "name": "stdout",
     "output_type": "stream",
     "text": [
      "VAL Label info: Counter({1: 71837, 0: 71837})\n"
     ]
    },
    {
     "name": "stderr",
     "output_type": "stream",
     "text": [
      "100%|██████████| 141/141 [00:37<00:00,  3.74it/s]\n"
     ]
    },
    {
     "name": "stdout",
     "output_type": "stream",
     "text": [
      "tn = 65936, fp = 5901, fn = 3536, tp = 68301\n",
      "y_pred: 0 = 69472 | 1 = 74202\n",
      "y_true: 0 = 71837 | 1 = 71837\n",
      "auc=0.9822|sensitivity=0.9508|specificity=0.9179|acc=0.9343|mcc=0.8691\n",
      "precision=0.9205|recall=0.9508|f1=0.9354|aupr=0.9809\n",
      "Idx98 - model_layer2_multihead10_fold3.pkl: # layer = 2 | # heads = 10 | Fold = 3\n"
     ]
    },
    {
     "name": "stderr",
     "output_type": "stream",
     "text": [
      "\r",
      "  0%|          | 0/141 [00:00<?, ?it/s]"
     ]
    },
    {
     "name": "stdout",
     "output_type": "stream",
     "text": [
      "VAL Label info: Counter({0: 71837, 1: 71837})\n"
     ]
    },
    {
     "name": "stderr",
     "output_type": "stream",
     "text": [
      "100%|██████████| 141/141 [00:37<00:00,  3.71it/s]\n"
     ]
    },
    {
     "name": "stdout",
     "output_type": "stream",
     "text": [
      "tn = 66542, fp = 5295, fn = 4306, tp = 67531\n",
      "y_pred: 0 = 70848 | 1 = 72826\n",
      "y_true: 0 = 71837 | 1 = 71837\n",
      "auc=0.9815|sensitivity=0.9401|specificity=0.9263|acc=0.9332|mcc=0.8664\n",
      "precision=0.9273|recall=0.9401|f1=0.9336|aupr=0.9799\n",
      "Idx99 - model_layer2_multihead10_fold4.pkl: # layer = 2 | # heads = 10 | Fold = 4\n"
     ]
    },
    {
     "name": "stderr",
     "output_type": "stream",
     "text": [
      "\r",
      "  0%|          | 0/141 [00:00<?, ?it/s]"
     ]
    },
    {
     "name": "stdout",
     "output_type": "stream",
     "text": [
      "VAL Label info: Counter({0: 71837, 1: 71837})\n"
     ]
    },
    {
     "name": "stderr",
     "output_type": "stream",
     "text": [
      "100%|██████████| 141/141 [00:37<00:00,  3.81it/s]\n"
     ]
    },
    {
     "name": "stdout",
     "output_type": "stream",
     "text": [
      "tn = 66275, fp = 5562, fn = 3757, tp = 68080\n",
      "y_pred: 0 = 70032 | 1 = 73642\n",
      "y_true: 0 = 71837 | 1 = 71837\n",
      "auc=0.9823|sensitivity=0.9477|specificity=0.9226|acc=0.9351|mcc=0.8706\n",
      "precision=0.9245|recall=0.9477|f1=0.9359|aupr=0.9805\n"
     ]
    }
   ],
   "source": [
    "type_ = 'val'\n",
    "save_ = False\n",
    "use_cuda = False\n",
    "device = torch.device(\"cuda\" if use_cuda else \"cpu\")\n",
    "\n",
    "val_metrics_dict, val_ys_dict, val_attns_dict = {}, {}, {}\n",
    "for idx, filename in enumerate(model_files):\n",
    "    n_layers, n_heads, fold = model_layers_heads[idx]\n",
    "    n_layers, n_heads, fold = int(n_layers), int(n_heads), int(fold)\n",
    "    temp =  str(n_layers) + '-' + str(n_heads) + '-' + str(fold)\n",
    "    print('Idx{} - {}: # layer = {} | # heads = {} | Fold = {}'.format(idx, filename, n_layers, n_heads, fold))\n",
    "    \n",
    "    model_eval = Transformer().to(device)\n",
    "    criterion = nn.CrossEntropyLoss()\n",
    "    model_pwd = '/home/chujunyi/5_ZY_MHC/model/pHLAIformer/'\n",
    "    model_eval.load_state_dict(torch.load(model_pwd + filename), strict = True)\n",
    "\n",
    "    if type_ == 'train' or type_ == 'val':\n",
    "        data, pep_inputs, hla_inputs, labels, loader = data_with_loader(type_, fold,  batch_size)\n",
    "    else:\n",
    "        data, pep_inputs, hla_inputs, labels, loader = data_with_loader(type_, None, batch_size)\n",
    "    print('{} Label info: {}'.format(str.upper(type_), Counter(data.label)))\n",
    "\n",
    "    model_eval.eval()\n",
    "    if save_:\n",
    "        val_metrics_res, val_ys_res, val_attn_res = eval_step(model_eval, loader, labels, fold, type_, use_cuda, save_)\n",
    "        val_metrics_dict[temp], val_ys_dict[temp], val_attns_dict[temp] = val_metrics_res, val_ys_res, val_attn_res\n",
    "    else:\n",
    "        val_metrics_res, _, _ = eval_step(model_eval, loader, labels, fold, type_, use_cuda, save_)\n",
    "        val_metrics_dict[temp] = val_metrics_res\n",
    "val_metrics_pd = performances_to_pd(val_metrics_dict)"
   ]
  },
  {
   "cell_type": "code",
   "execution_count": 33,
   "metadata": {
    "scrolled": true
   },
   "outputs": [
    {
     "data": {
      "text/html": [
       "<div>\n",
       "<style scoped>\n",
       "    .dataframe tbody tr th:only-of-type {\n",
       "        vertical-align: middle;\n",
       "    }\n",
       "\n",
       "    .dataframe tbody tr th {\n",
       "        vertical-align: top;\n",
       "    }\n",
       "\n",
       "    .dataframe thead th {\n",
       "        text-align: right;\n",
       "    }\n",
       "</style>\n",
       "<table border=\"1\" class=\"dataframe\">\n",
       "  <thead>\n",
       "    <tr style=\"text-align: right;\">\n",
       "      <th></th>\n",
       "      <th>roc_auc</th>\n",
       "      <th>accuracy</th>\n",
       "      <th>mcc</th>\n",
       "      <th>f1</th>\n",
       "      <th>sensitivity</th>\n",
       "      <th>specificity</th>\n",
       "      <th>precision</th>\n",
       "      <th>recall</th>\n",
       "      <th>aupr</th>\n",
       "    </tr>\n",
       "  </thead>\n",
       "  <tbody>\n",
       "    <tr>\n",
       "      <th>1-1-0</th>\n",
       "      <td>0.976315</td>\n",
       "      <td>0.925992</td>\n",
       "      <td>0.851986</td>\n",
       "      <td>0.926058</td>\n",
       "      <td>0.926876</td>\n",
       "      <td>0.925108</td>\n",
       "      <td>0.925240</td>\n",
       "      <td>0.926876</td>\n",
       "      <td>0.976251</td>\n",
       "    </tr>\n",
       "    <tr>\n",
       "      <th>1-1-1</th>\n",
       "      <td>0.978348</td>\n",
       "      <td>0.929159</td>\n",
       "      <td>0.858397</td>\n",
       "      <td>0.929635</td>\n",
       "      <td>0.935924</td>\n",
       "      <td>0.922394</td>\n",
       "      <td>0.923430</td>\n",
       "      <td>0.935924</td>\n",
       "      <td>0.977830</td>\n",
       "    </tr>\n",
       "    <tr>\n",
       "      <th>1-1-2</th>\n",
       "      <td>0.978418</td>\n",
       "      <td>0.927906</td>\n",
       "      <td>0.855912</td>\n",
       "      <td>0.928451</td>\n",
       "      <td>0.935521</td>\n",
       "      <td>0.920292</td>\n",
       "      <td>0.921487</td>\n",
       "      <td>0.935521</td>\n",
       "      <td>0.977886</td>\n",
       "    </tr>\n",
       "    <tr>\n",
       "      <th>1-1-3</th>\n",
       "      <td>0.978063</td>\n",
       "      <td>0.927266</td>\n",
       "      <td>0.854543</td>\n",
       "      <td>0.927450</td>\n",
       "      <td>0.929799</td>\n",
       "      <td>0.924732</td>\n",
       "      <td>0.925112</td>\n",
       "      <td>0.929799</td>\n",
       "      <td>0.977482</td>\n",
       "    </tr>\n",
       "    <tr>\n",
       "      <th>1-1-4</th>\n",
       "      <td>0.978182</td>\n",
       "      <td>0.928721</td>\n",
       "      <td>0.857450</td>\n",
       "      <td>0.928881</td>\n",
       "      <td>0.930983</td>\n",
       "      <td>0.926459</td>\n",
       "      <td>0.926790</td>\n",
       "      <td>0.930983</td>\n",
       "      <td>0.977465</td>\n",
       "    </tr>\n",
       "    <tr>\n",
       "      <th>1-2-0</th>\n",
       "      <td>0.976152</td>\n",
       "      <td>0.924517</td>\n",
       "      <td>0.849284</td>\n",
       "      <td>0.925423</td>\n",
       "      <td>0.936676</td>\n",
       "      <td>0.912357</td>\n",
       "      <td>0.914438</td>\n",
       "      <td>0.936676</td>\n",
       "      <td>0.976109</td>\n",
       "    </tr>\n",
       "    <tr>\n",
       "      <th>1-2-1</th>\n",
       "      <td>0.977653</td>\n",
       "      <td>0.926660</td>\n",
       "      <td>0.853403</td>\n",
       "      <td>0.927165</td>\n",
       "      <td>0.933586</td>\n",
       "      <td>0.919735</td>\n",
       "      <td>0.920832</td>\n",
       "      <td>0.933586</td>\n",
       "      <td>0.976971</td>\n",
       "    </tr>\n",
       "    <tr>\n",
       "      <th>1-2-2</th>\n",
       "      <td>0.978822</td>\n",
       "      <td>0.927753</td>\n",
       "      <td>0.855684</td>\n",
       "      <td>0.928482</td>\n",
       "      <td>0.937943</td>\n",
       "      <td>0.917563</td>\n",
       "      <td>0.919210</td>\n",
       "      <td>0.937943</td>\n",
       "      <td>0.977950</td>\n",
       "    </tr>\n",
       "    <tr>\n",
       "      <th>1-2-3</th>\n",
       "      <td>0.978650</td>\n",
       "      <td>0.928303</td>\n",
       "      <td>0.856716</td>\n",
       "      <td>0.928873</td>\n",
       "      <td>0.936314</td>\n",
       "      <td>0.920292</td>\n",
       "      <td>0.921549</td>\n",
       "      <td>0.936314</td>\n",
       "      <td>0.977943</td>\n",
       "    </tr>\n",
       "    <tr>\n",
       "      <th>1-2-4</th>\n",
       "      <td>0.979042</td>\n",
       "      <td>0.929813</td>\n",
       "      <td>0.859641</td>\n",
       "      <td>0.930017</td>\n",
       "      <td>0.932723</td>\n",
       "      <td>0.926904</td>\n",
       "      <td>0.927327</td>\n",
       "      <td>0.932723</td>\n",
       "      <td>0.977865</td>\n",
       "    </tr>\n",
       "    <tr>\n",
       "      <th>1-3-0</th>\n",
       "      <td>0.976625</td>\n",
       "      <td>0.926034</td>\n",
       "      <td>0.852109</td>\n",
       "      <td>0.926396</td>\n",
       "      <td>0.930955</td>\n",
       "      <td>0.921113</td>\n",
       "      <td>0.921882</td>\n",
       "      <td>0.930955</td>\n",
       "      <td>0.976443</td>\n",
       "    </tr>\n",
       "    <tr>\n",
       "      <th>1-3-1</th>\n",
       "      <td>0.979450</td>\n",
       "      <td>0.930628</td>\n",
       "      <td>0.861462</td>\n",
       "      <td>0.931379</td>\n",
       "      <td>0.941576</td>\n",
       "      <td>0.919679</td>\n",
       "      <td>0.921400</td>\n",
       "      <td>0.941576</td>\n",
       "      <td>0.978557</td>\n",
       "    </tr>\n",
       "    <tr>\n",
       "      <th>1-3-2</th>\n",
       "      <td>0.979504</td>\n",
       "      <td>0.928992</td>\n",
       "      <td>0.858383</td>\n",
       "      <td>0.930058</td>\n",
       "      <td>0.944235</td>\n",
       "      <td>0.913749</td>\n",
       "      <td>0.916301</td>\n",
       "      <td>0.944235</td>\n",
       "      <td>0.978577</td>\n",
       "    </tr>\n",
       "    <tr>\n",
       "      <th>1-3-3</th>\n",
       "      <td>0.979133</td>\n",
       "      <td>0.929472</td>\n",
       "      <td>0.859007</td>\n",
       "      <td>0.929893</td>\n",
       "      <td>0.935479</td>\n",
       "      <td>0.923466</td>\n",
       "      <td>0.924374</td>\n",
       "      <td>0.935479</td>\n",
       "      <td>0.978203</td>\n",
       "    </tr>\n",
       "    <tr>\n",
       "      <th>1-3-4</th>\n",
       "      <td>0.979685</td>\n",
       "      <td>0.930405</td>\n",
       "      <td>0.861228</td>\n",
       "      <td>0.931473</td>\n",
       "      <td>0.945989</td>\n",
       "      <td>0.914821</td>\n",
       "      <td>0.917396</td>\n",
       "      <td>0.945989</td>\n",
       "      <td>0.978710</td>\n",
       "    </tr>\n",
       "    <tr>\n",
       "      <th>1-4-0</th>\n",
       "      <td>0.976657</td>\n",
       "      <td>0.925442</td>\n",
       "      <td>0.851003</td>\n",
       "      <td>0.926060</td>\n",
       "      <td>0.933795</td>\n",
       "      <td>0.917090</td>\n",
       "      <td>0.918452</td>\n",
       "      <td>0.933795</td>\n",
       "      <td>0.976496</td>\n",
       "    </tr>\n",
       "    <tr>\n",
       "      <th>1-4-1</th>\n",
       "      <td>0.978974</td>\n",
       "      <td>0.929618</td>\n",
       "      <td>0.859422</td>\n",
       "      <td>0.930341</td>\n",
       "      <td>0.939989</td>\n",
       "      <td>0.919248</td>\n",
       "      <td>0.920889</td>\n",
       "      <td>0.939989</td>\n",
       "      <td>0.978076</td>\n",
       "    </tr>\n",
       "    <tr>\n",
       "      <th>1-4-2</th>\n",
       "      <td>0.979358</td>\n",
       "      <td>0.929131</td>\n",
       "      <td>0.858544</td>\n",
       "      <td>0.930026</td>\n",
       "      <td>0.941924</td>\n",
       "      <td>0.916338</td>\n",
       "      <td>0.918426</td>\n",
       "      <td>0.941924</td>\n",
       "      <td>0.978276</td>\n",
       "    </tr>\n",
       "    <tr>\n",
       "      <th>1-4-3</th>\n",
       "      <td>0.979091</td>\n",
       "      <td>0.928783</td>\n",
       "      <td>0.857830</td>\n",
       "      <td>0.929655</td>\n",
       "      <td>0.941172</td>\n",
       "      <td>0.916394</td>\n",
       "      <td>0.918416</td>\n",
       "      <td>0.941172</td>\n",
       "      <td>0.977925</td>\n",
       "    </tr>\n",
       "    <tr>\n",
       "      <th>1-4-4</th>\n",
       "      <td>0.978869</td>\n",
       "      <td>0.929041</td>\n",
       "      <td>0.858094</td>\n",
       "      <td>0.929232</td>\n",
       "      <td>0.931748</td>\n",
       "      <td>0.926333</td>\n",
       "      <td>0.926730</td>\n",
       "      <td>0.931748</td>\n",
       "      <td>0.977862</td>\n",
       "    </tr>\n",
       "    <tr>\n",
       "      <th>1-5-0</th>\n",
       "      <td>0.977201</td>\n",
       "      <td>0.925588</td>\n",
       "      <td>0.851301</td>\n",
       "      <td>0.926218</td>\n",
       "      <td>0.934115</td>\n",
       "      <td>0.917062</td>\n",
       "      <td>0.918453</td>\n",
       "      <td>0.934115</td>\n",
       "      <td>0.976981</td>\n",
       "    </tr>\n",
       "    <tr>\n",
       "      <th>1-5-1</th>\n",
       "      <td>0.979559</td>\n",
       "      <td>0.929535</td>\n",
       "      <td>0.859359</td>\n",
       "      <td>0.930437</td>\n",
       "      <td>0.942509</td>\n",
       "      <td>0.916561</td>\n",
       "      <td>0.918671</td>\n",
       "      <td>0.942509</td>\n",
       "      <td>0.978424</td>\n",
       "    </tr>\n",
       "    <tr>\n",
       "      <th>1-5-2</th>\n",
       "      <td>0.979859</td>\n",
       "      <td>0.929904</td>\n",
       "      <td>0.860145</td>\n",
       "      <td>0.930871</td>\n",
       "      <td>0.943901</td>\n",
       "      <td>0.915907</td>\n",
       "      <td>0.918197</td>\n",
       "      <td>0.943901</td>\n",
       "      <td>0.978768</td>\n",
       "    </tr>\n",
       "    <tr>\n",
       "      <th>1-5-3</th>\n",
       "      <td>0.978910</td>\n",
       "      <td>0.929361</td>\n",
       "      <td>0.858784</td>\n",
       "      <td>0.929783</td>\n",
       "      <td>0.935368</td>\n",
       "      <td>0.923354</td>\n",
       "      <td>0.924264</td>\n",
       "      <td>0.935368</td>\n",
       "      <td>0.977410</td>\n",
       "    </tr>\n",
       "    <tr>\n",
       "      <th>1-5-4</th>\n",
       "      <td>0.979974</td>\n",
       "      <td>0.930558</td>\n",
       "      <td>0.861659</td>\n",
       "      <td>0.931769</td>\n",
       "      <td>0.948300</td>\n",
       "      <td>0.912817</td>\n",
       "      <td>0.915804</td>\n",
       "      <td>0.948300</td>\n",
       "      <td>0.978669</td>\n",
       "    </tr>\n",
       "    <tr>\n",
       "      <th>1-6-0</th>\n",
       "      <td>0.977402</td>\n",
       "      <td>0.925220</td>\n",
       "      <td>0.850623</td>\n",
       "      <td>0.925989</td>\n",
       "      <td>0.935618</td>\n",
       "      <td>0.914821</td>\n",
       "      <td>0.916556</td>\n",
       "      <td>0.935618</td>\n",
       "      <td>0.977136</td>\n",
       "    </tr>\n",
       "    <tr>\n",
       "      <th>1-6-1</th>\n",
       "      <td>0.980617</td>\n",
       "      <td>0.930495</td>\n",
       "      <td>0.861794</td>\n",
       "      <td>0.931963</td>\n",
       "      <td>0.952072</td>\n",
       "      <td>0.908919</td>\n",
       "      <td>0.912687</td>\n",
       "      <td>0.952072</td>\n",
       "      <td>0.979614</td>\n",
       "    </tr>\n",
       "    <tr>\n",
       "      <th>1-6-2</th>\n",
       "      <td>0.980839</td>\n",
       "      <td>0.931421</td>\n",
       "      <td>0.863291</td>\n",
       "      <td>0.932510</td>\n",
       "      <td>0.947548</td>\n",
       "      <td>0.915294</td>\n",
       "      <td>0.917941</td>\n",
       "      <td>0.947548</td>\n",
       "      <td>0.979973</td>\n",
       "    </tr>\n",
       "    <tr>\n",
       "      <th>1-6-3</th>\n",
       "      <td>0.980328</td>\n",
       "      <td>0.931122</td>\n",
       "      <td>0.862296</td>\n",
       "      <td>0.931499</td>\n",
       "      <td>0.936634</td>\n",
       "      <td>0.925609</td>\n",
       "      <td>0.926421</td>\n",
       "      <td>0.936634</td>\n",
       "      <td>0.979286</td>\n",
       "    </tr>\n",
       "    <tr>\n",
       "      <th>1-6-4</th>\n",
       "      <td>0.980185</td>\n",
       "      <td>0.931150</td>\n",
       "      <td>0.862904</td>\n",
       "      <td>0.932414</td>\n",
       "      <td>0.949859</td>\n",
       "      <td>0.912441</td>\n",
       "      <td>0.915599</td>\n",
       "      <td>0.949859</td>\n",
       "      <td>0.978728</td>\n",
       "    </tr>\n",
       "    <tr>\n",
       "      <th>1-7-0</th>\n",
       "      <td>0.976915</td>\n",
       "      <td>0.925115</td>\n",
       "      <td>0.850488</td>\n",
       "      <td>0.926026</td>\n",
       "      <td>0.937428</td>\n",
       "      <td>0.912803</td>\n",
       "      <td>0.914898</td>\n",
       "      <td>0.937428</td>\n",
       "      <td>0.976677</td>\n",
       "    </tr>\n",
       "    <tr>\n",
       "      <th>1-7-1</th>\n",
       "      <td>0.980435</td>\n",
       "      <td>0.930920</td>\n",
       "      <td>0.861840</td>\n",
       "      <td>0.930945</td>\n",
       "      <td>0.931275</td>\n",
       "      <td>0.930565</td>\n",
       "      <td>0.930614</td>\n",
       "      <td>0.931275</td>\n",
       "      <td>0.979181</td>\n",
       "    </tr>\n",
       "    <tr>\n",
       "      <th>1-7-2</th>\n",
       "      <td>0.980130</td>\n",
       "      <td>0.930551</td>\n",
       "      <td>0.861473</td>\n",
       "      <td>0.931555</td>\n",
       "      <td>0.945223</td>\n",
       "      <td>0.915879</td>\n",
       "      <td>0.918277</td>\n",
       "      <td>0.945223</td>\n",
       "      <td>0.978950</td>\n",
       "    </tr>\n",
       "    <tr>\n",
       "      <th>1-7-3</th>\n",
       "      <td>0.980655</td>\n",
       "      <td>0.931338</td>\n",
       "      <td>0.862965</td>\n",
       "      <td>0.932217</td>\n",
       "      <td>0.944304</td>\n",
       "      <td>0.918371</td>\n",
       "      <td>0.920434</td>\n",
       "      <td>0.944304</td>\n",
       "      <td>0.979351</td>\n",
       "    </tr>\n",
       "    <tr>\n",
       "      <th>1-7-4</th>\n",
       "      <td>0.981004</td>\n",
       "      <td>0.931602</td>\n",
       "      <td>0.863698</td>\n",
       "      <td>0.932739</td>\n",
       "      <td>0.948508</td>\n",
       "      <td>0.914696</td>\n",
       "      <td>0.917486</td>\n",
       "      <td>0.948508</td>\n",
       "      <td>0.979773</td>\n",
       "    </tr>\n",
       "    <tr>\n",
       "      <th>1-8-0</th>\n",
       "      <td>0.976825</td>\n",
       "      <td>0.925756</td>\n",
       "      <td>0.851586</td>\n",
       "      <td>0.926244</td>\n",
       "      <td>0.932375</td>\n",
       "      <td>0.919136</td>\n",
       "      <td>0.920193</td>\n",
       "      <td>0.932375</td>\n",
       "      <td>0.976269</td>\n",
       "    </tr>\n",
       "    <tr>\n",
       "      <th>1-8-1</th>\n",
       "      <td>0.980034</td>\n",
       "      <td>0.930913</td>\n",
       "      <td>0.861893</td>\n",
       "      <td>0.931341</td>\n",
       "      <td>0.937149</td>\n",
       "      <td>0.924677</td>\n",
       "      <td>0.925605</td>\n",
       "      <td>0.937149</td>\n",
       "      <td>0.978642</td>\n",
       "    </tr>\n",
       "    <tr>\n",
       "      <th>1-8-2</th>\n",
       "      <td>0.980506</td>\n",
       "      <td>0.931539</td>\n",
       "      <td>0.863188</td>\n",
       "      <td>0.932079</td>\n",
       "      <td>0.939488</td>\n",
       "      <td>0.923591</td>\n",
       "      <td>0.924787</td>\n",
       "      <td>0.939488</td>\n",
       "      <td>0.979377</td>\n",
       "    </tr>\n",
       "    <tr>\n",
       "      <th>1-8-3</th>\n",
       "      <td>0.980508</td>\n",
       "      <td>0.930899</td>\n",
       "      <td>0.862533</td>\n",
       "      <td>0.932296</td>\n",
       "      <td>0.951529</td>\n",
       "      <td>0.910269</td>\n",
       "      <td>0.913825</td>\n",
       "      <td>0.951529</td>\n",
       "      <td>0.979174</td>\n",
       "    </tr>\n",
       "    <tr>\n",
       "      <th>1-8-4</th>\n",
       "      <td>0.980106</td>\n",
       "      <td>0.931261</td>\n",
       "      <td>0.862639</td>\n",
       "      <td>0.931822</td>\n",
       "      <td>0.939488</td>\n",
       "      <td>0.923034</td>\n",
       "      <td>0.924280</td>\n",
       "      <td>0.939488</td>\n",
       "      <td>0.978641</td>\n",
       "    </tr>\n",
       "    <tr>\n",
       "      <th>1-9-0</th>\n",
       "      <td>0.977124</td>\n",
       "      <td>0.925658</td>\n",
       "      <td>0.851513</td>\n",
       "      <td>0.926448</td>\n",
       "      <td>0.936398</td>\n",
       "      <td>0.914918</td>\n",
       "      <td>0.916708</td>\n",
       "      <td>0.936398</td>\n",
       "      <td>0.976682</td>\n",
       "    </tr>\n",
       "    <tr>\n",
       "      <th>1-9-1</th>\n",
       "      <td>0.980677</td>\n",
       "      <td>0.932458</td>\n",
       "      <td>0.865146</td>\n",
       "      <td>0.933227</td>\n",
       "      <td>0.943970</td>\n",
       "      <td>0.920946</td>\n",
       "      <td>0.922725</td>\n",
       "      <td>0.943970</td>\n",
       "      <td>0.979600</td>\n",
       "    </tr>\n",
       "    <tr>\n",
       "      <th>1-9-2</th>\n",
       "      <td>0.980916</td>\n",
       "      <td>0.930753</td>\n",
       "      <td>0.862600</td>\n",
       "      <td>0.932453</td>\n",
       "      <td>0.955928</td>\n",
       "      <td>0.905578</td>\n",
       "      <td>0.910104</td>\n",
       "      <td>0.955928</td>\n",
       "      <td>0.979700</td>\n",
       "    </tr>\n",
       "    <tr>\n",
       "      <th>1-9-3</th>\n",
       "      <td>0.980085</td>\n",
       "      <td>0.930273</td>\n",
       "      <td>0.860994</td>\n",
       "      <td>0.931380</td>\n",
       "      <td>0.946406</td>\n",
       "      <td>0.914139</td>\n",
       "      <td>0.916823</td>\n",
       "      <td>0.946406</td>\n",
       "      <td>0.978913</td>\n",
       "    </tr>\n",
       "    <tr>\n",
       "      <th>1-9-4</th>\n",
       "      <td>0.980968</td>\n",
       "      <td>0.933078</td>\n",
       "      <td>0.866190</td>\n",
       "      <td>0.933374</td>\n",
       "      <td>0.937525</td>\n",
       "      <td>0.928630</td>\n",
       "      <td>0.929259</td>\n",
       "      <td>0.937525</td>\n",
       "      <td>0.979490</td>\n",
       "    </tr>\n",
       "    <tr>\n",
       "      <th>1-10-0</th>\n",
       "      <td>0.976932</td>\n",
       "      <td>0.926431</td>\n",
       "      <td>0.852894</td>\n",
       "      <td>0.926749</td>\n",
       "      <td>0.930774</td>\n",
       "      <td>0.922088</td>\n",
       "      <td>0.922758</td>\n",
       "      <td>0.930774</td>\n",
       "      <td>0.976448</td>\n",
       "    </tr>\n",
       "    <tr>\n",
       "      <th>1-10-1</th>\n",
       "      <td>0.981228</td>\n",
       "      <td>0.931345</td>\n",
       "      <td>0.863872</td>\n",
       "      <td>0.933095</td>\n",
       "      <td>0.957501</td>\n",
       "      <td>0.905188</td>\n",
       "      <td>0.909901</td>\n",
       "      <td>0.957501</td>\n",
       "      <td>0.979996</td>\n",
       "    </tr>\n",
       "    <tr>\n",
       "      <th>1-10-2</th>\n",
       "      <td>0.980475</td>\n",
       "      <td>0.930509</td>\n",
       "      <td>0.861359</td>\n",
       "      <td>0.931473</td>\n",
       "      <td>0.944569</td>\n",
       "      <td>0.916450</td>\n",
       "      <td>0.918735</td>\n",
       "      <td>0.944569</td>\n",
       "      <td>0.979096</td>\n",
       "    </tr>\n",
       "    <tr>\n",
       "      <th>1-10-3</th>\n",
       "      <td>0.980168</td>\n",
       "      <td>0.930969</td>\n",
       "      <td>0.862048</td>\n",
       "      <td>0.931518</td>\n",
       "      <td>0.938987</td>\n",
       "      <td>0.922951</td>\n",
       "      <td>0.924167</td>\n",
       "      <td>0.938987</td>\n",
       "      <td>0.978773</td>\n",
       "    </tr>\n",
       "    <tr>\n",
       "      <th>1-10-4</th>\n",
       "      <td>0.981110</td>\n",
       "      <td>0.932159</td>\n",
       "      <td>0.864618</td>\n",
       "      <td>0.933041</td>\n",
       "      <td>0.945335</td>\n",
       "      <td>0.918983</td>\n",
       "      <td>0.921063</td>\n",
       "      <td>0.945335</td>\n",
       "      <td>0.979825</td>\n",
       "    </tr>\n",
       "    <tr>\n",
       "      <th>2-1-0</th>\n",
       "      <td>0.976985</td>\n",
       "      <td>0.926528</td>\n",
       "      <td>0.853089</td>\n",
       "      <td>0.926202</td>\n",
       "      <td>0.922115</td>\n",
       "      <td>0.930941</td>\n",
       "      <td>0.930326</td>\n",
       "      <td>0.922115</td>\n",
       "      <td>0.976922</td>\n",
       "    </tr>\n",
       "    <tr>\n",
       "      <th>2-1-1</th>\n",
       "      <td>0.979393</td>\n",
       "      <td>0.929973</td>\n",
       "      <td>0.860095</td>\n",
       "      <td>0.930618</td>\n",
       "      <td>0.939265</td>\n",
       "      <td>0.920682</td>\n",
       "      <td>0.922129</td>\n",
       "      <td>0.939265</td>\n",
       "      <td>0.978521</td>\n",
       "    </tr>\n",
       "    <tr>\n",
       "      <th>2-1-2</th>\n",
       "      <td>0.979801</td>\n",
       "      <td>0.930092</td>\n",
       "      <td>0.860184</td>\n",
       "      <td>0.930105</td>\n",
       "      <td>0.930287</td>\n",
       "      <td>0.929897</td>\n",
       "      <td>0.929924</td>\n",
       "      <td>0.930287</td>\n",
       "      <td>0.978861</td>\n",
       "    </tr>\n",
       "    <tr>\n",
       "      <th>2-1-3</th>\n",
       "      <td>0.980152</td>\n",
       "      <td>0.930628</td>\n",
       "      <td>0.861438</td>\n",
       "      <td>0.931335</td>\n",
       "      <td>0.940922</td>\n",
       "      <td>0.920334</td>\n",
       "      <td>0.921941</td>\n",
       "      <td>0.940922</td>\n",
       "      <td>0.979098</td>\n",
       "    </tr>\n",
       "    <tr>\n",
       "      <th>2-1-4</th>\n",
       "      <td>0.979299</td>\n",
       "      <td>0.929396</td>\n",
       "      <td>0.859204</td>\n",
       "      <td>0.930473</td>\n",
       "      <td>0.944889</td>\n",
       "      <td>0.913902</td>\n",
       "      <td>0.916490</td>\n",
       "      <td>0.944889</td>\n",
       "      <td>0.978097</td>\n",
       "    </tr>\n",
       "    <tr>\n",
       "      <th>2-2-0</th>\n",
       "      <td>0.977155</td>\n",
       "      <td>0.925902</td>\n",
       "      <td>0.851804</td>\n",
       "      <td>0.925939</td>\n",
       "      <td>0.926403</td>\n",
       "      <td>0.925401</td>\n",
       "      <td>0.925475</td>\n",
       "      <td>0.926403</td>\n",
       "      <td>0.976516</td>\n",
       "    </tr>\n",
       "    <tr>\n",
       "      <th>2-2-1</th>\n",
       "      <td>0.980823</td>\n",
       "      <td>0.932347</td>\n",
       "      <td>0.864695</td>\n",
       "      <td>0.932405</td>\n",
       "      <td>0.933210</td>\n",
       "      <td>0.931484</td>\n",
       "      <td>0.931602</td>\n",
       "      <td>0.933210</td>\n",
       "      <td>0.979880</td>\n",
       "    </tr>\n",
       "    <tr>\n",
       "      <th>2-2-2</th>\n",
       "      <td>0.980124</td>\n",
       "      <td>0.930029</td>\n",
       "      <td>0.860142</td>\n",
       "      <td>0.930515</td>\n",
       "      <td>0.937024</td>\n",
       "      <td>0.923034</td>\n",
       "      <td>0.924096</td>\n",
       "      <td>0.937024</td>\n",
       "      <td>0.979212</td>\n",
       "    </tr>\n",
       "    <tr>\n",
       "      <th>2-2-3</th>\n",
       "      <td>0.980116</td>\n",
       "      <td>0.929514</td>\n",
       "      <td>0.859493</td>\n",
       "      <td>0.930655</td>\n",
       "      <td>0.945961</td>\n",
       "      <td>0.913067</td>\n",
       "      <td>0.915836</td>\n",
       "      <td>0.945961</td>\n",
       "      <td>0.979127</td>\n",
       "    </tr>\n",
       "    <tr>\n",
       "      <th>2-2-4</th>\n",
       "      <td>0.979958</td>\n",
       "      <td>0.931143</td>\n",
       "      <td>0.862416</td>\n",
       "      <td>0.931737</td>\n",
       "      <td>0.939850</td>\n",
       "      <td>0.922436</td>\n",
       "      <td>0.923763</td>\n",
       "      <td>0.939850</td>\n",
       "      <td>0.978606</td>\n",
       "    </tr>\n",
       "    <tr>\n",
       "      <th>2-3-0</th>\n",
       "      <td>0.976836</td>\n",
       "      <td>0.927349</td>\n",
       "      <td>0.854744</td>\n",
       "      <td>0.927722</td>\n",
       "      <td>0.932500</td>\n",
       "      <td>0.922199</td>\n",
       "      <td>0.922992</td>\n",
       "      <td>0.932500</td>\n",
       "      <td>0.976260</td>\n",
       "    </tr>\n",
       "    <tr>\n",
       "      <th>2-3-1</th>\n",
       "      <td>0.980610</td>\n",
       "      <td>0.932347</td>\n",
       "      <td>0.864706</td>\n",
       "      <td>0.932526</td>\n",
       "      <td>0.935006</td>\n",
       "      <td>0.929688</td>\n",
       "      <td>0.930060</td>\n",
       "      <td>0.935006</td>\n",
       "      <td>0.979350</td>\n",
       "    </tr>\n",
       "    <tr>\n",
       "      <th>2-3-2</th>\n",
       "      <td>0.980658</td>\n",
       "      <td>0.931644</td>\n",
       "      <td>0.863390</td>\n",
       "      <td>0.932167</td>\n",
       "      <td>0.939349</td>\n",
       "      <td>0.923939</td>\n",
       "      <td>0.925093</td>\n",
       "      <td>0.939349</td>\n",
       "      <td>0.979357</td>\n",
       "    </tr>\n",
       "    <tr>\n",
       "      <th>2-3-3</th>\n",
       "      <td>0.980797</td>\n",
       "      <td>0.931672</td>\n",
       "      <td>0.863912</td>\n",
       "      <td>0.932889</td>\n",
       "      <td>0.949817</td>\n",
       "      <td>0.913526</td>\n",
       "      <td>0.916555</td>\n",
       "      <td>0.949817</td>\n",
       "      <td>0.979577</td>\n",
       "    </tr>\n",
       "    <tr>\n",
       "      <th>2-3-4</th>\n",
       "      <td>0.981220</td>\n",
       "      <td>0.932535</td>\n",
       "      <td>0.865654</td>\n",
       "      <td>0.933752</td>\n",
       "      <td>0.950903</td>\n",
       "      <td>0.914167</td>\n",
       "      <td>0.917208</td>\n",
       "      <td>0.950903</td>\n",
       "      <td>0.980002</td>\n",
       "    </tr>\n",
       "    <tr>\n",
       "      <th>2-4-0</th>\n",
       "      <td>0.978034</td>\n",
       "      <td>0.927739</td>\n",
       "      <td>0.855478</td>\n",
       "      <td>0.927755</td>\n",
       "      <td>0.927962</td>\n",
       "      <td>0.927516</td>\n",
       "      <td>0.927549</td>\n",
       "      <td>0.927962</td>\n",
       "      <td>0.977641</td>\n",
       "    </tr>\n",
       "    <tr>\n",
       "      <th>2-4-1</th>\n",
       "      <td>0.980780</td>\n",
       "      <td>0.932403</td>\n",
       "      <td>0.864819</td>\n",
       "      <td>0.932596</td>\n",
       "      <td>0.935270</td>\n",
       "      <td>0.929535</td>\n",
       "      <td>0.929937</td>\n",
       "      <td>0.935270</td>\n",
       "      <td>0.979396</td>\n",
       "    </tr>\n",
       "    <tr>\n",
       "      <th>2-4-2</th>\n",
       "      <td>0.980739</td>\n",
       "      <td>0.931254</td>\n",
       "      <td>0.862905</td>\n",
       "      <td>0.932281</td>\n",
       "      <td>0.946420</td>\n",
       "      <td>0.916088</td>\n",
       "      <td>0.918558</td>\n",
       "      <td>0.946420</td>\n",
       "      <td>0.979354</td>\n",
       "    </tr>\n",
       "    <tr>\n",
       "      <th>2-4-3</th>\n",
       "      <td>0.980277</td>\n",
       "      <td>0.928902</td>\n",
       "      <td>0.858883</td>\n",
       "      <td>0.930640</td>\n",
       "      <td>0.953965</td>\n",
       "      <td>0.903838</td>\n",
       "      <td>0.908428</td>\n",
       "      <td>0.953965</td>\n",
       "      <td>0.978758</td>\n",
       "    </tr>\n",
       "    <tr>\n",
       "      <th>2-4-4</th>\n",
       "      <td>0.980759</td>\n",
       "      <td>0.932528</td>\n",
       "      <td>0.865220</td>\n",
       "      <td>0.933179</td>\n",
       "      <td>0.942272</td>\n",
       "      <td>0.922784</td>\n",
       "      <td>0.924260</td>\n",
       "      <td>0.942272</td>\n",
       "      <td>0.979140</td>\n",
       "    </tr>\n",
       "    <tr>\n",
       "      <th>2-5-0</th>\n",
       "      <td>0.977138</td>\n",
       "      <td>0.925742</td>\n",
       "      <td>0.851943</td>\n",
       "      <td>0.926942</td>\n",
       "      <td>0.942175</td>\n",
       "      <td>0.909309</td>\n",
       "      <td>0.912194</td>\n",
       "      <td>0.942175</td>\n",
       "      <td>0.976445</td>\n",
       "    </tr>\n",
       "    <tr>\n",
       "      <th>2-5-1</th>\n",
       "      <td>0.980966</td>\n",
       "      <td>0.932416</td>\n",
       "      <td>0.865110</td>\n",
       "      <td>0.933261</td>\n",
       "      <td>0.945070</td>\n",
       "      <td>0.919763</td>\n",
       "      <td>0.921743</td>\n",
       "      <td>0.945070</td>\n",
       "      <td>0.979565</td>\n",
       "    </tr>\n",
       "    <tr>\n",
       "      <th>2-5-2</th>\n",
       "      <td>0.981378</td>\n",
       "      <td>0.932820</td>\n",
       "      <td>0.865879</td>\n",
       "      <td>0.933599</td>\n",
       "      <td>0.944555</td>\n",
       "      <td>0.921085</td>\n",
       "      <td>0.922895</td>\n",
       "      <td>0.944555</td>\n",
       "      <td>0.980189</td>\n",
       "    </tr>\n",
       "    <tr>\n",
       "      <th>2-5-3</th>\n",
       "      <td>0.980689</td>\n",
       "      <td>0.931379</td>\n",
       "      <td>0.863037</td>\n",
       "      <td>0.932239</td>\n",
       "      <td>0.944068</td>\n",
       "      <td>0.918691</td>\n",
       "      <td>0.920703</td>\n",
       "      <td>0.944068</td>\n",
       "      <td>0.979351</td>\n",
       "    </tr>\n",
       "    <tr>\n",
       "      <th>2-5-4</th>\n",
       "      <td>0.981649</td>\n",
       "      <td>0.934400</td>\n",
       "      <td>0.868843</td>\n",
       "      <td>0.934725</td>\n",
       "      <td>0.939377</td>\n",
       "      <td>0.929424</td>\n",
       "      <td>0.930119</td>\n",
       "      <td>0.939377</td>\n",
       "      <td>0.980366</td>\n",
       "    </tr>\n",
       "    <tr>\n",
       "      <th>2-6-0</th>\n",
       "      <td>0.977830</td>\n",
       "      <td>0.926813</td>\n",
       "      <td>0.853666</td>\n",
       "      <td>0.926464</td>\n",
       "      <td>0.922060</td>\n",
       "      <td>0.931567</td>\n",
       "      <td>0.930910</td>\n",
       "      <td>0.922060</td>\n",
       "      <td>0.977341</td>\n",
       "    </tr>\n",
       "    <tr>\n",
       "      <th>2-6-1</th>\n",
       "      <td>0.982050</td>\n",
       "      <td>0.934532</td>\n",
       "      <td>0.869197</td>\n",
       "      <td>0.935099</td>\n",
       "      <td>0.943260</td>\n",
       "      <td>0.925804</td>\n",
       "      <td>0.927077</td>\n",
       "      <td>0.943260</td>\n",
       "      <td>0.980772</td>\n",
       "    </tr>\n",
       "    <tr>\n",
       "      <th>2-6-2</th>\n",
       "      <td>0.981617</td>\n",
       "      <td>0.932597</td>\n",
       "      <td>0.865605</td>\n",
       "      <td>0.933618</td>\n",
       "      <td>0.947979</td>\n",
       "      <td>0.917215</td>\n",
       "      <td>0.919686</td>\n",
       "      <td>0.947979</td>\n",
       "      <td>0.980299</td>\n",
       "    </tr>\n",
       "    <tr>\n",
       "      <th>2-6-3</th>\n",
       "      <td>0.980957</td>\n",
       "      <td>0.933488</td>\n",
       "      <td>0.867182</td>\n",
       "      <td>0.934204</td>\n",
       "      <td>0.944360</td>\n",
       "      <td>0.922616</td>\n",
       "      <td>0.924263</td>\n",
       "      <td>0.944360</td>\n",
       "      <td>0.979244</td>\n",
       "    </tr>\n",
       "    <tr>\n",
       "      <th>2-6-4</th>\n",
       "      <td>0.982150</td>\n",
       "      <td>0.934839</td>\n",
       "      <td>0.869807</td>\n",
       "      <td>0.935397</td>\n",
       "      <td>0.943483</td>\n",
       "      <td>0.926194</td>\n",
       "      <td>0.927448</td>\n",
       "      <td>0.943483</td>\n",
       "      <td>0.980664</td>\n",
       "    </tr>\n",
       "    <tr>\n",
       "      <th>2-7-0</th>\n",
       "      <td>0.977664</td>\n",
       "      <td>0.927440</td>\n",
       "      <td>0.854971</td>\n",
       "      <td>0.927965</td>\n",
       "      <td>0.934727</td>\n",
       "      <td>0.920153</td>\n",
       "      <td>0.921300</td>\n",
       "      <td>0.934727</td>\n",
       "      <td>0.977313</td>\n",
       "    </tr>\n",
       "    <tr>\n",
       "      <th>2-7-1</th>\n",
       "      <td>0.981904</td>\n",
       "      <td>0.934282</td>\n",
       "      <td>0.868582</td>\n",
       "      <td>0.934496</td>\n",
       "      <td>0.937553</td>\n",
       "      <td>0.931010</td>\n",
       "      <td>0.931459</td>\n",
       "      <td>0.937553</td>\n",
       "      <td>0.980217</td>\n",
       "    </tr>\n",
       "    <tr>\n",
       "      <th>2-7-2</th>\n",
       "      <td>0.981278</td>\n",
       "      <td>0.931999</td>\n",
       "      <td>0.864798</td>\n",
       "      <td>0.933431</td>\n",
       "      <td>0.953506</td>\n",
       "      <td>0.910492</td>\n",
       "      <td>0.914183</td>\n",
       "      <td>0.953506</td>\n",
       "      <td>0.979839</td>\n",
       "    </tr>\n",
       "    <tr>\n",
       "      <th>2-7-3</th>\n",
       "      <td>0.981496</td>\n",
       "      <td>0.931950</td>\n",
       "      <td>0.864745</td>\n",
       "      <td>0.933421</td>\n",
       "      <td>0.954049</td>\n",
       "      <td>0.909851</td>\n",
       "      <td>0.913667</td>\n",
       "      <td>0.954049</td>\n",
       "      <td>0.980092</td>\n",
       "    </tr>\n",
       "    <tr>\n",
       "      <th>2-7-4</th>\n",
       "      <td>0.981962</td>\n",
       "      <td>0.934637</td>\n",
       "      <td>0.869334</td>\n",
       "      <td>0.935022</td>\n",
       "      <td>0.940560</td>\n",
       "      <td>0.928714</td>\n",
       "      <td>0.929548</td>\n",
       "      <td>0.940560</td>\n",
       "      <td>0.980398</td>\n",
       "    </tr>\n",
       "    <tr>\n",
       "      <th>2-8-0</th>\n",
       "      <td>0.978442</td>\n",
       "      <td>0.928533</td>\n",
       "      <td>0.857152</td>\n",
       "      <td>0.929037</td>\n",
       "      <td>0.935646</td>\n",
       "      <td>0.921419</td>\n",
       "      <td>0.922522</td>\n",
       "      <td>0.935646</td>\n",
       "      <td>0.978057</td>\n",
       "    </tr>\n",
       "    <tr>\n",
       "      <th>2-8-1</th>\n",
       "      <td>0.982228</td>\n",
       "      <td>0.935507</td>\n",
       "      <td>0.871025</td>\n",
       "      <td>0.935675</td>\n",
       "      <td>0.938124</td>\n",
       "      <td>0.932890</td>\n",
       "      <td>0.933239</td>\n",
       "      <td>0.938124</td>\n",
       "      <td>0.980821</td>\n",
       "    </tr>\n",
       "    <tr>\n",
       "      <th>2-8-2</th>\n",
       "      <td>0.981699</td>\n",
       "      <td>0.934379</td>\n",
       "      <td>0.868884</td>\n",
       "      <td>0.934932</td>\n",
       "      <td>0.942871</td>\n",
       "      <td>0.925888</td>\n",
       "      <td>0.927125</td>\n",
       "      <td>0.942871</td>\n",
       "      <td>0.979897</td>\n",
       "    </tr>\n",
       "    <tr>\n",
       "      <th>2-8-3</th>\n",
       "      <td>0.981535</td>\n",
       "      <td>0.932723</td>\n",
       "      <td>0.866045</td>\n",
       "      <td>0.933951</td>\n",
       "      <td>0.951320</td>\n",
       "      <td>0.914125</td>\n",
       "      <td>0.917205</td>\n",
       "      <td>0.951320</td>\n",
       "      <td>0.979905</td>\n",
       "    </tr>\n",
       "    <tr>\n",
       "      <th>2-8-4</th>\n",
       "      <td>0.982098</td>\n",
       "      <td>0.934873</td>\n",
       "      <td>0.869971</td>\n",
       "      <td>0.935604</td>\n",
       "      <td>0.946225</td>\n",
       "      <td>0.923521</td>\n",
       "      <td>0.925219</td>\n",
       "      <td>0.946225</td>\n",
       "      <td>0.980328</td>\n",
       "    </tr>\n",
       "    <tr>\n",
       "      <th>2-9-0</th>\n",
       "      <td>0.977846</td>\n",
       "      <td>0.927906</td>\n",
       "      <td>0.855842</td>\n",
       "      <td>0.928206</td>\n",
       "      <td>0.932082</td>\n",
       "      <td>0.923730</td>\n",
       "      <td>0.924362</td>\n",
       "      <td>0.932082</td>\n",
       "      <td>0.977323</td>\n",
       "    </tr>\n",
       "    <tr>\n",
       "      <th>2-9-1</th>\n",
       "      <td>0.982082</td>\n",
       "      <td>0.934623</td>\n",
       "      <td>0.869309</td>\n",
       "      <td>0.935014</td>\n",
       "      <td>0.940643</td>\n",
       "      <td>0.928602</td>\n",
       "      <td>0.929452</td>\n",
       "      <td>0.940643</td>\n",
       "      <td>0.980736</td>\n",
       "    </tr>\n",
       "    <tr>\n",
       "      <th>2-9-2</th>\n",
       "      <td>0.981751</td>\n",
       "      <td>0.932389</td>\n",
       "      <td>0.865645</td>\n",
       "      <td>0.933869</td>\n",
       "      <td>0.954773</td>\n",
       "      <td>0.910005</td>\n",
       "      <td>0.913861</td>\n",
       "      <td>0.954773</td>\n",
       "      <td>0.980192</td>\n",
       "    </tr>\n",
       "    <tr>\n",
       "      <th>2-9-3</th>\n",
       "      <td>0.982849</td>\n",
       "      <td>0.936606</td>\n",
       "      <td>0.873513</td>\n",
       "      <td>0.937426</td>\n",
       "      <td>0.949706</td>\n",
       "      <td>0.923507</td>\n",
       "      <td>0.925460</td>\n",
       "      <td>0.949706</td>\n",
       "      <td>0.981329</td>\n",
       "    </tr>\n",
       "    <tr>\n",
       "      <th>2-9-4</th>\n",
       "      <td>0.982205</td>\n",
       "      <td>0.934818</td>\n",
       "      <td>0.869966</td>\n",
       "      <td>0.935704</td>\n",
       "      <td>0.948606</td>\n",
       "      <td>0.921030</td>\n",
       "      <td>0.923149</td>\n",
       "      <td>0.948606</td>\n",
       "      <td>0.980485</td>\n",
       "    </tr>\n",
       "    <tr>\n",
       "      <th>2-10-0</th>\n",
       "      <td>0.977730</td>\n",
       "      <td>0.927962</td>\n",
       "      <td>0.855942</td>\n",
       "      <td>0.928195</td>\n",
       "      <td>0.931205</td>\n",
       "      <td>0.924718</td>\n",
       "      <td>0.925204</td>\n",
       "      <td>0.931205</td>\n",
       "      <td>0.977282</td>\n",
       "    </tr>\n",
       "    <tr>\n",
       "      <th>2-10-1</th>\n",
       "      <td>0.982071</td>\n",
       "      <td>0.935194</td>\n",
       "      <td>0.870664</td>\n",
       "      <td>0.936000</td>\n",
       "      <td>0.947798</td>\n",
       "      <td>0.922589</td>\n",
       "      <td>0.924492</td>\n",
       "      <td>0.947798</td>\n",
       "      <td>0.980368</td>\n",
       "    </tr>\n",
       "    <tr>\n",
       "      <th>2-10-2</th>\n",
       "      <td>0.982248</td>\n",
       "      <td>0.934317</td>\n",
       "      <td>0.869104</td>\n",
       "      <td>0.935380</td>\n",
       "      <td>0.950777</td>\n",
       "      <td>0.917856</td>\n",
       "      <td>0.920474</td>\n",
       "      <td>0.950777</td>\n",
       "      <td>0.980859</td>\n",
       "    </tr>\n",
       "    <tr>\n",
       "      <th>2-10-3</th>\n",
       "      <td>0.981486</td>\n",
       "      <td>0.933175</td>\n",
       "      <td>0.866432</td>\n",
       "      <td>0.933632</td>\n",
       "      <td>0.940059</td>\n",
       "      <td>0.926291</td>\n",
       "      <td>0.927292</td>\n",
       "      <td>0.940059</td>\n",
       "      <td>0.979947</td>\n",
       "    </tr>\n",
       "    <tr>\n",
       "      <th>2-10-4</th>\n",
       "      <td>0.982277</td>\n",
       "      <td>0.935138</td>\n",
       "      <td>0.870551</td>\n",
       "      <td>0.935943</td>\n",
       "      <td>0.947701</td>\n",
       "      <td>0.922575</td>\n",
       "      <td>0.924472</td>\n",
       "      <td>0.947701</td>\n",
       "      <td>0.980507</td>\n",
       "    </tr>\n",
       "  </tbody>\n",
       "</table>\n",
       "</div>"
      ],
      "text/plain": [
       "         roc_auc  accuracy       mcc        f1  sensitivity  specificity  \\\n",
       "1-1-0   0.976315  0.925992  0.851986  0.926058     0.926876     0.925108   \n",
       "1-1-1   0.978348  0.929159  0.858397  0.929635     0.935924     0.922394   \n",
       "1-1-2   0.978418  0.927906  0.855912  0.928451     0.935521     0.920292   \n",
       "1-1-3   0.978063  0.927266  0.854543  0.927450     0.929799     0.924732   \n",
       "1-1-4   0.978182  0.928721  0.857450  0.928881     0.930983     0.926459   \n",
       "1-2-0   0.976152  0.924517  0.849284  0.925423     0.936676     0.912357   \n",
       "1-2-1   0.977653  0.926660  0.853403  0.927165     0.933586     0.919735   \n",
       "1-2-2   0.978822  0.927753  0.855684  0.928482     0.937943     0.917563   \n",
       "1-2-3   0.978650  0.928303  0.856716  0.928873     0.936314     0.920292   \n",
       "1-2-4   0.979042  0.929813  0.859641  0.930017     0.932723     0.926904   \n",
       "1-3-0   0.976625  0.926034  0.852109  0.926396     0.930955     0.921113   \n",
       "1-3-1   0.979450  0.930628  0.861462  0.931379     0.941576     0.919679   \n",
       "1-3-2   0.979504  0.928992  0.858383  0.930058     0.944235     0.913749   \n",
       "1-3-3   0.979133  0.929472  0.859007  0.929893     0.935479     0.923466   \n",
       "1-3-4   0.979685  0.930405  0.861228  0.931473     0.945989     0.914821   \n",
       "1-4-0   0.976657  0.925442  0.851003  0.926060     0.933795     0.917090   \n",
       "1-4-1   0.978974  0.929618  0.859422  0.930341     0.939989     0.919248   \n",
       "1-4-2   0.979358  0.929131  0.858544  0.930026     0.941924     0.916338   \n",
       "1-4-3   0.979091  0.928783  0.857830  0.929655     0.941172     0.916394   \n",
       "1-4-4   0.978869  0.929041  0.858094  0.929232     0.931748     0.926333   \n",
       "1-5-0   0.977201  0.925588  0.851301  0.926218     0.934115     0.917062   \n",
       "1-5-1   0.979559  0.929535  0.859359  0.930437     0.942509     0.916561   \n",
       "1-5-2   0.979859  0.929904  0.860145  0.930871     0.943901     0.915907   \n",
       "1-5-3   0.978910  0.929361  0.858784  0.929783     0.935368     0.923354   \n",
       "1-5-4   0.979974  0.930558  0.861659  0.931769     0.948300     0.912817   \n",
       "1-6-0   0.977402  0.925220  0.850623  0.925989     0.935618     0.914821   \n",
       "1-6-1   0.980617  0.930495  0.861794  0.931963     0.952072     0.908919   \n",
       "1-6-2   0.980839  0.931421  0.863291  0.932510     0.947548     0.915294   \n",
       "1-6-3   0.980328  0.931122  0.862296  0.931499     0.936634     0.925609   \n",
       "1-6-4   0.980185  0.931150  0.862904  0.932414     0.949859     0.912441   \n",
       "1-7-0   0.976915  0.925115  0.850488  0.926026     0.937428     0.912803   \n",
       "1-7-1   0.980435  0.930920  0.861840  0.930945     0.931275     0.930565   \n",
       "1-7-2   0.980130  0.930551  0.861473  0.931555     0.945223     0.915879   \n",
       "1-7-3   0.980655  0.931338  0.862965  0.932217     0.944304     0.918371   \n",
       "1-7-4   0.981004  0.931602  0.863698  0.932739     0.948508     0.914696   \n",
       "1-8-0   0.976825  0.925756  0.851586  0.926244     0.932375     0.919136   \n",
       "1-8-1   0.980034  0.930913  0.861893  0.931341     0.937149     0.924677   \n",
       "1-8-2   0.980506  0.931539  0.863188  0.932079     0.939488     0.923591   \n",
       "1-8-3   0.980508  0.930899  0.862533  0.932296     0.951529     0.910269   \n",
       "1-8-4   0.980106  0.931261  0.862639  0.931822     0.939488     0.923034   \n",
       "1-9-0   0.977124  0.925658  0.851513  0.926448     0.936398     0.914918   \n",
       "1-9-1   0.980677  0.932458  0.865146  0.933227     0.943970     0.920946   \n",
       "1-9-2   0.980916  0.930753  0.862600  0.932453     0.955928     0.905578   \n",
       "1-9-3   0.980085  0.930273  0.860994  0.931380     0.946406     0.914139   \n",
       "1-9-4   0.980968  0.933078  0.866190  0.933374     0.937525     0.928630   \n",
       "1-10-0  0.976932  0.926431  0.852894  0.926749     0.930774     0.922088   \n",
       "1-10-1  0.981228  0.931345  0.863872  0.933095     0.957501     0.905188   \n",
       "1-10-2  0.980475  0.930509  0.861359  0.931473     0.944569     0.916450   \n",
       "1-10-3  0.980168  0.930969  0.862048  0.931518     0.938987     0.922951   \n",
       "1-10-4  0.981110  0.932159  0.864618  0.933041     0.945335     0.918983   \n",
       "2-1-0   0.976985  0.926528  0.853089  0.926202     0.922115     0.930941   \n",
       "2-1-1   0.979393  0.929973  0.860095  0.930618     0.939265     0.920682   \n",
       "2-1-2   0.979801  0.930092  0.860184  0.930105     0.930287     0.929897   \n",
       "2-1-3   0.980152  0.930628  0.861438  0.931335     0.940922     0.920334   \n",
       "2-1-4   0.979299  0.929396  0.859204  0.930473     0.944889     0.913902   \n",
       "2-2-0   0.977155  0.925902  0.851804  0.925939     0.926403     0.925401   \n",
       "2-2-1   0.980823  0.932347  0.864695  0.932405     0.933210     0.931484   \n",
       "2-2-2   0.980124  0.930029  0.860142  0.930515     0.937024     0.923034   \n",
       "2-2-3   0.980116  0.929514  0.859493  0.930655     0.945961     0.913067   \n",
       "2-2-4   0.979958  0.931143  0.862416  0.931737     0.939850     0.922436   \n",
       "2-3-0   0.976836  0.927349  0.854744  0.927722     0.932500     0.922199   \n",
       "2-3-1   0.980610  0.932347  0.864706  0.932526     0.935006     0.929688   \n",
       "2-3-2   0.980658  0.931644  0.863390  0.932167     0.939349     0.923939   \n",
       "2-3-3   0.980797  0.931672  0.863912  0.932889     0.949817     0.913526   \n",
       "2-3-4   0.981220  0.932535  0.865654  0.933752     0.950903     0.914167   \n",
       "2-4-0   0.978034  0.927739  0.855478  0.927755     0.927962     0.927516   \n",
       "2-4-1   0.980780  0.932403  0.864819  0.932596     0.935270     0.929535   \n",
       "2-4-2   0.980739  0.931254  0.862905  0.932281     0.946420     0.916088   \n",
       "2-4-3   0.980277  0.928902  0.858883  0.930640     0.953965     0.903838   \n",
       "2-4-4   0.980759  0.932528  0.865220  0.933179     0.942272     0.922784   \n",
       "2-5-0   0.977138  0.925742  0.851943  0.926942     0.942175     0.909309   \n",
       "2-5-1   0.980966  0.932416  0.865110  0.933261     0.945070     0.919763   \n",
       "2-5-2   0.981378  0.932820  0.865879  0.933599     0.944555     0.921085   \n",
       "2-5-3   0.980689  0.931379  0.863037  0.932239     0.944068     0.918691   \n",
       "2-5-4   0.981649  0.934400  0.868843  0.934725     0.939377     0.929424   \n",
       "2-6-0   0.977830  0.926813  0.853666  0.926464     0.922060     0.931567   \n",
       "2-6-1   0.982050  0.934532  0.869197  0.935099     0.943260     0.925804   \n",
       "2-6-2   0.981617  0.932597  0.865605  0.933618     0.947979     0.917215   \n",
       "2-6-3   0.980957  0.933488  0.867182  0.934204     0.944360     0.922616   \n",
       "2-6-4   0.982150  0.934839  0.869807  0.935397     0.943483     0.926194   \n",
       "2-7-0   0.977664  0.927440  0.854971  0.927965     0.934727     0.920153   \n",
       "2-7-1   0.981904  0.934282  0.868582  0.934496     0.937553     0.931010   \n",
       "2-7-2   0.981278  0.931999  0.864798  0.933431     0.953506     0.910492   \n",
       "2-7-3   0.981496  0.931950  0.864745  0.933421     0.954049     0.909851   \n",
       "2-7-4   0.981962  0.934637  0.869334  0.935022     0.940560     0.928714   \n",
       "2-8-0   0.978442  0.928533  0.857152  0.929037     0.935646     0.921419   \n",
       "2-8-1   0.982228  0.935507  0.871025  0.935675     0.938124     0.932890   \n",
       "2-8-2   0.981699  0.934379  0.868884  0.934932     0.942871     0.925888   \n",
       "2-8-3   0.981535  0.932723  0.866045  0.933951     0.951320     0.914125   \n",
       "2-8-4   0.982098  0.934873  0.869971  0.935604     0.946225     0.923521   \n",
       "2-9-0   0.977846  0.927906  0.855842  0.928206     0.932082     0.923730   \n",
       "2-9-1   0.982082  0.934623  0.869309  0.935014     0.940643     0.928602   \n",
       "2-9-2   0.981751  0.932389  0.865645  0.933869     0.954773     0.910005   \n",
       "2-9-3   0.982849  0.936606  0.873513  0.937426     0.949706     0.923507   \n",
       "2-9-4   0.982205  0.934818  0.869966  0.935704     0.948606     0.921030   \n",
       "2-10-0  0.977730  0.927962  0.855942  0.928195     0.931205     0.924718   \n",
       "2-10-1  0.982071  0.935194  0.870664  0.936000     0.947798     0.922589   \n",
       "2-10-2  0.982248  0.934317  0.869104  0.935380     0.950777     0.917856   \n",
       "2-10-3  0.981486  0.933175  0.866432  0.933632     0.940059     0.926291   \n",
       "2-10-4  0.982277  0.935138  0.870551  0.935943     0.947701     0.922575   \n",
       "\n",
       "        precision    recall      aupr  \n",
       "1-1-0    0.925240  0.926876  0.976251  \n",
       "1-1-1    0.923430  0.935924  0.977830  \n",
       "1-1-2    0.921487  0.935521  0.977886  \n",
       "1-1-3    0.925112  0.929799  0.977482  \n",
       "1-1-4    0.926790  0.930983  0.977465  \n",
       "1-2-0    0.914438  0.936676  0.976109  \n",
       "1-2-1    0.920832  0.933586  0.976971  \n",
       "1-2-2    0.919210  0.937943  0.977950  \n",
       "1-2-3    0.921549  0.936314  0.977943  \n",
       "1-2-4    0.927327  0.932723  0.977865  \n",
       "1-3-0    0.921882  0.930955  0.976443  \n",
       "1-3-1    0.921400  0.941576  0.978557  \n",
       "1-3-2    0.916301  0.944235  0.978577  \n",
       "1-3-3    0.924374  0.935479  0.978203  \n",
       "1-3-4    0.917396  0.945989  0.978710  \n",
       "1-4-0    0.918452  0.933795  0.976496  \n",
       "1-4-1    0.920889  0.939989  0.978076  \n",
       "1-4-2    0.918426  0.941924  0.978276  \n",
       "1-4-3    0.918416  0.941172  0.977925  \n",
       "1-4-4    0.926730  0.931748  0.977862  \n",
       "1-5-0    0.918453  0.934115  0.976981  \n",
       "1-5-1    0.918671  0.942509  0.978424  \n",
       "1-5-2    0.918197  0.943901  0.978768  \n",
       "1-5-3    0.924264  0.935368  0.977410  \n",
       "1-5-4    0.915804  0.948300  0.978669  \n",
       "1-6-0    0.916556  0.935618  0.977136  \n",
       "1-6-1    0.912687  0.952072  0.979614  \n",
       "1-6-2    0.917941  0.947548  0.979973  \n",
       "1-6-3    0.926421  0.936634  0.979286  \n",
       "1-6-4    0.915599  0.949859  0.978728  \n",
       "1-7-0    0.914898  0.937428  0.976677  \n",
       "1-7-1    0.930614  0.931275  0.979181  \n",
       "1-7-2    0.918277  0.945223  0.978950  \n",
       "1-7-3    0.920434  0.944304  0.979351  \n",
       "1-7-4    0.917486  0.948508  0.979773  \n",
       "1-8-0    0.920193  0.932375  0.976269  \n",
       "1-8-1    0.925605  0.937149  0.978642  \n",
       "1-8-2    0.924787  0.939488  0.979377  \n",
       "1-8-3    0.913825  0.951529  0.979174  \n",
       "1-8-4    0.924280  0.939488  0.978641  \n",
       "1-9-0    0.916708  0.936398  0.976682  \n",
       "1-9-1    0.922725  0.943970  0.979600  \n",
       "1-9-2    0.910104  0.955928  0.979700  \n",
       "1-9-3    0.916823  0.946406  0.978913  \n",
       "1-9-4    0.929259  0.937525  0.979490  \n",
       "1-10-0   0.922758  0.930774  0.976448  \n",
       "1-10-1   0.909901  0.957501  0.979996  \n",
       "1-10-2   0.918735  0.944569  0.979096  \n",
       "1-10-3   0.924167  0.938987  0.978773  \n",
       "1-10-4   0.921063  0.945335  0.979825  \n",
       "2-1-0    0.930326  0.922115  0.976922  \n",
       "2-1-1    0.922129  0.939265  0.978521  \n",
       "2-1-2    0.929924  0.930287  0.978861  \n",
       "2-1-3    0.921941  0.940922  0.979098  \n",
       "2-1-4    0.916490  0.944889  0.978097  \n",
       "2-2-0    0.925475  0.926403  0.976516  \n",
       "2-2-1    0.931602  0.933210  0.979880  \n",
       "2-2-2    0.924096  0.937024  0.979212  \n",
       "2-2-3    0.915836  0.945961  0.979127  \n",
       "2-2-4    0.923763  0.939850  0.978606  \n",
       "2-3-0    0.922992  0.932500  0.976260  \n",
       "2-3-1    0.930060  0.935006  0.979350  \n",
       "2-3-2    0.925093  0.939349  0.979357  \n",
       "2-3-3    0.916555  0.949817  0.979577  \n",
       "2-3-4    0.917208  0.950903  0.980002  \n",
       "2-4-0    0.927549  0.927962  0.977641  \n",
       "2-4-1    0.929937  0.935270  0.979396  \n",
       "2-4-2    0.918558  0.946420  0.979354  \n",
       "2-4-3    0.908428  0.953965  0.978758  \n",
       "2-4-4    0.924260  0.942272  0.979140  \n",
       "2-5-0    0.912194  0.942175  0.976445  \n",
       "2-5-1    0.921743  0.945070  0.979565  \n",
       "2-5-2    0.922895  0.944555  0.980189  \n",
       "2-5-3    0.920703  0.944068  0.979351  \n",
       "2-5-4    0.930119  0.939377  0.980366  \n",
       "2-6-0    0.930910  0.922060  0.977341  \n",
       "2-6-1    0.927077  0.943260  0.980772  \n",
       "2-6-2    0.919686  0.947979  0.980299  \n",
       "2-6-3    0.924263  0.944360  0.979244  \n",
       "2-6-4    0.927448  0.943483  0.980664  \n",
       "2-7-0    0.921300  0.934727  0.977313  \n",
       "2-7-1    0.931459  0.937553  0.980217  \n",
       "2-7-2    0.914183  0.953506  0.979839  \n",
       "2-7-3    0.913667  0.954049  0.980092  \n",
       "2-7-4    0.929548  0.940560  0.980398  \n",
       "2-8-0    0.922522  0.935646  0.978057  \n",
       "2-8-1    0.933239  0.938124  0.980821  \n",
       "2-8-2    0.927125  0.942871  0.979897  \n",
       "2-8-3    0.917205  0.951320  0.979905  \n",
       "2-8-4    0.925219  0.946225  0.980328  \n",
       "2-9-0    0.924362  0.932082  0.977323  \n",
       "2-9-1    0.929452  0.940643  0.980736  \n",
       "2-9-2    0.913861  0.954773  0.980192  \n",
       "2-9-3    0.925460  0.949706  0.981329  \n",
       "2-9-4    0.923149  0.948606  0.980485  \n",
       "2-10-0   0.925204  0.931205  0.977282  \n",
       "2-10-1   0.924492  0.947798  0.980368  \n",
       "2-10-2   0.920474  0.950777  0.980859  \n",
       "2-10-3   0.927292  0.940059  0.979947  \n",
       "2-10-4   0.924472  0.947701  0.980507  "
      ]
     },
     "execution_count": 33,
     "metadata": {},
     "output_type": "execute_result"
    }
   ],
   "source": [
    "val_metrics_pd"
   ]
  },
  {
   "cell_type": "code",
   "execution_count": 28,
   "metadata": {},
   "outputs": [
    {
     "name": "stdout",
     "output_type": "stream",
     "text": [
      "Idx0 - model_layer1_multihead1_fold0.pkl: # layer = 1 | # heads = 1 | Fold = 0\n"
     ]
    },
    {
     "name": "stderr",
     "output_type": "stream",
     "text": [
      "  0%|          | 2/562 [00:00<00:36, 15.51it/s]"
     ]
    },
    {
     "name": "stdout",
     "output_type": "stream",
     "text": [
      "TRAIN Label info: Counter({0: 287329, 1: 287329})\n"
     ]
    },
    {
     "name": "stderr",
     "output_type": "stream",
     "text": [
      "100%|██████████| 562/562 [00:30<00:00, 18.42it/s]\n"
     ]
    },
    {
     "name": "stdout",
     "output_type": "stream",
     "text": [
      "tn = 267869, fp = 19460, fn = 18472, tp = 268857\n",
      "y_pred: 0 = 286341 | 1 = 288317\n",
      "y_true: 0 = 287329 | 1 = 287329\n",
      "auc=0.9809|sensitivity=0.9357|specificity=0.9323|acc=0.9340|mcc=0.8680\n",
      "precision=0.9325|recall=0.9357|f1=0.9341|aupr=0.9808\n",
      "Idx1 - model_layer1_multihead1_fold1.pkl: # layer = 1 | # heads = 1 | Fold = 1\n"
     ]
    },
    {
     "name": "stderr",
     "output_type": "stream",
     "text": [
      "  0%|          | 2/562 [00:00<00:35, 15.75it/s]"
     ]
    },
    {
     "name": "stdout",
     "output_type": "stream",
     "text": [
      "TRAIN Label info: Counter({0: 287329, 1: 287329})\n"
     ]
    },
    {
     "name": "stderr",
     "output_type": "stream",
     "text": [
      "100%|██████████| 562/562 [00:29<00:00, 18.75it/s]\n"
     ]
    },
    {
     "name": "stdout",
     "output_type": "stream",
     "text": [
      "tn = 266726, fp = 20603, fn = 18460, tp = 268869\n",
      "y_pred: 0 = 285186 | 1 = 289472\n",
      "y_true: 0 = 287329 | 1 = 287329\n",
      "auc=0.9805|sensitivity=0.9358|specificity=0.9283|acc=0.9320|mcc=0.8641\n",
      "precision=0.9288|recall=0.9358|f1=0.9323|aupr=0.9803\n",
      "Idx2 - model_layer1_multihead1_fold2.pkl: # layer = 1 | # heads = 1 | Fold = 2\n"
     ]
    },
    {
     "name": "stderr",
     "output_type": "stream",
     "text": [
      "  0%|          | 2/562 [00:00<00:34, 16.24it/s]"
     ]
    },
    {
     "name": "stdout",
     "output_type": "stream",
     "text": [
      "TRAIN Label info: Counter({1: 287329, 0: 287329})\n"
     ]
    },
    {
     "name": "stderr",
     "output_type": "stream",
     "text": [
      "100%|██████████| 562/562 [00:30<00:00, 18.23it/s]\n"
     ]
    },
    {
     "name": "stdout",
     "output_type": "stream",
     "text": [
      "tn = 265865, fp = 21464, fn = 18287, tp = 269042\n",
      "y_pred: 0 = 284152 | 1 = 290506\n",
      "y_true: 0 = 287329 | 1 = 287329\n",
      "auc=0.9803|sensitivity=0.9364|specificity=0.9253|acc=0.9308|mcc=0.8617\n",
      "precision=0.9261|recall=0.9364|f1=0.9312|aupr=0.9802\n",
      "Idx3 - model_layer1_multihead1_fold3.pkl: # layer = 1 | # heads = 1 | Fold = 3\n"
     ]
    },
    {
     "name": "stderr",
     "output_type": "stream",
     "text": [
      "  0%|          | 2/562 [00:00<00:34, 16.45it/s]"
     ]
    },
    {
     "name": "stdout",
     "output_type": "stream",
     "text": [
      "TRAIN Label info: Counter({0: 287329, 1: 287329})\n"
     ]
    },
    {
     "name": "stderr",
     "output_type": "stream",
     "text": [
      "100%|██████████| 562/562 [00:29<00:00, 19.25it/s]\n"
     ]
    },
    {
     "name": "stdout",
     "output_type": "stream",
     "text": [
      "tn = 268141, fp = 19188, fn = 20033, tp = 267296\n",
      "y_pred: 0 = 288174 | 1 = 286484\n",
      "y_true: 0 = 287329 | 1 = 287329\n",
      "auc=0.9805|sensitivity=0.9303|specificity=0.9332|acc=0.9317|mcc=0.8635\n",
      "precision=0.9330|recall=0.9303|f1=0.9316|aupr=0.9804\n",
      "Idx4 - model_layer1_multihead1_fold4.pkl: # layer = 1 | # heads = 1 | Fold = 4\n"
     ]
    },
    {
     "name": "stderr",
     "output_type": "stream",
     "text": [
      "  0%|          | 2/562 [00:00<00:36, 15.49it/s]"
     ]
    },
    {
     "name": "stdout",
     "output_type": "stream",
     "text": [
      "TRAIN Label info: Counter({1: 287348, 0: 287348})\n"
     ]
    },
    {
     "name": "stderr",
     "output_type": "stream",
     "text": [
      "100%|██████████| 562/562 [00:28<00:00, 19.94it/s]\n"
     ]
    },
    {
     "name": "stdout",
     "output_type": "stream",
     "text": [
      "tn = 268450, fp = 18898, fn = 19769, tp = 267579\n",
      "y_pred: 0 = 288219 | 1 = 286477\n",
      "y_true: 0 = 287348 | 1 = 287348\n",
      "auc=0.9807|sensitivity=0.9312|specificity=0.9342|acc=0.9327|mcc=0.8654\n",
      "precision=0.9340|recall=0.9312|f1=0.9326|aupr=0.9805\n",
      "Idx5 - model_layer1_multihead2_fold0.pkl: # layer = 1 | # heads = 2 | Fold = 0\n"
     ]
    },
    {
     "name": "stderr",
     "output_type": "stream",
     "text": [
      "  0%|          | 2/562 [00:00<00:41, 13.40it/s]"
     ]
    },
    {
     "name": "stdout",
     "output_type": "stream",
     "text": [
      "TRAIN Label info: Counter({0: 287329, 1: 287329})\n"
     ]
    },
    {
     "name": "stderr",
     "output_type": "stream",
     "text": [
      "100%|██████████| 562/562 [00:33<00:00, 16.53it/s]\n"
     ]
    },
    {
     "name": "stdout",
     "output_type": "stream",
     "text": [
      "tn = 264832, fp = 22497, fn = 15934, tp = 271395\n",
      "y_pred: 0 = 280766 | 1 = 293892\n",
      "y_true: 0 = 287329 | 1 = 287329\n",
      "auc=0.9815|sensitivity=0.9445|specificity=0.9217|acc=0.9331|mcc=0.8665\n",
      "precision=0.9235|recall=0.9445|f1=0.9339|aupr=0.9813\n",
      "Idx6 - model_layer1_multihead2_fold1.pkl: # layer = 1 | # heads = 2 | Fold = 1\n"
     ]
    },
    {
     "name": "stderr",
     "output_type": "stream",
     "text": [
      "  0%|          | 2/562 [00:00<00:38, 14.50it/s]"
     ]
    },
    {
     "name": "stdout",
     "output_type": "stream",
     "text": [
      "TRAIN Label info: Counter({0: 287329, 1: 287329})\n"
     ]
    },
    {
     "name": "stderr",
     "output_type": "stream",
     "text": [
      "100%|██████████| 562/562 [00:34<00:00, 16.43it/s]\n"
     ]
    },
    {
     "name": "stdout",
     "output_type": "stream",
     "text": [
      "tn = 266457, fp = 20872, fn = 18923, tp = 268406\n",
      "y_pred: 0 = 285380 | 1 = 289278\n",
      "y_true: 0 = 287329 | 1 = 287329\n",
      "auc=0.9803|sensitivity=0.9341|specificity=0.9274|acc=0.9308|mcc=0.8615\n",
      "precision=0.9278|recall=0.9341|f1=0.9310|aupr=0.9802\n",
      "Idx7 - model_layer1_multihead2_fold2.pkl: # layer = 1 | # heads = 2 | Fold = 2\n"
     ]
    },
    {
     "name": "stderr",
     "output_type": "stream",
     "text": [
      "  0%|          | 2/562 [00:00<00:43, 12.83it/s]"
     ]
    },
    {
     "name": "stdout",
     "output_type": "stream",
     "text": [
      "TRAIN Label info: Counter({1: 287329, 0: 287329})\n"
     ]
    },
    {
     "name": "stderr",
     "output_type": "stream",
     "text": [
      "100%|██████████| 562/562 [00:37<00:00, 15.16it/s]\n"
     ]
    },
    {
     "name": "stdout",
     "output_type": "stream",
     "text": [
      "tn = 265994, fp = 21335, fn = 17834, tp = 269495\n",
      "y_pred: 0 = 283828 | 1 = 290830\n",
      "y_true: 0 = 287329 | 1 = 287329\n",
      "auc=0.9812|sensitivity=0.9379|specificity=0.9257|acc=0.9318|mcc=0.8637\n",
      "precision=0.9266|recall=0.9379|f1=0.9323|aupr=0.9810\n",
      "Idx8 - model_layer1_multihead2_fold3.pkl: # layer = 1 | # heads = 2 | Fold = 3\n"
     ]
    },
    {
     "name": "stderr",
     "output_type": "stream",
     "text": [
      "  0%|          | 2/562 [00:00<00:43, 13.02it/s]"
     ]
    },
    {
     "name": "stdout",
     "output_type": "stream",
     "text": [
      "TRAIN Label info: Counter({0: 287329, 1: 287329})\n"
     ]
    },
    {
     "name": "stderr",
     "output_type": "stream",
     "text": [
      "100%|██████████| 562/562 [00:35<00:00, 15.81it/s]\n"
     ]
    },
    {
     "name": "stdout",
     "output_type": "stream",
     "text": [
      "tn = 266671, fp = 20658, fn = 18102, tp = 269227\n",
      "y_pred: 0 = 284773 | 1 = 289885\n",
      "y_true: 0 = 287329 | 1 = 287329\n",
      "auc=0.9815|sensitivity=0.9370|specificity=0.9281|acc=0.9326|mcc=0.8651\n",
      "precision=0.9287|recall=0.9370|f1=0.9328|aupr=0.9813\n",
      "Idx9 - model_layer1_multihead2_fold4.pkl: # layer = 1 | # heads = 2 | Fold = 4\n"
     ]
    },
    {
     "name": "stderr",
     "output_type": "stream",
     "text": [
      "  0%|          | 2/562 [00:00<00:42, 13.14it/s]"
     ]
    },
    {
     "name": "stdout",
     "output_type": "stream",
     "text": [
      "TRAIN Label info: Counter({1: 287348, 0: 287348})\n"
     ]
    },
    {
     "name": "stderr",
     "output_type": "stream",
     "text": [
      "100%|██████████| 562/562 [00:34<00:00, 16.32it/s]\n"
     ]
    },
    {
     "name": "stdout",
     "output_type": "stream",
     "text": [
      "tn = 269107, fp = 18241, fn = 19294, tp = 268054\n",
      "y_pred: 0 = 288401 | 1 = 286295\n",
      "y_true: 0 = 287348 | 1 = 287348\n",
      "auc=0.9822|sensitivity=0.9329|specificity=0.9365|acc=0.9347|mcc=0.8694\n",
      "precision=0.9363|recall=0.9329|f1=0.9346|aupr=0.9818\n",
      "Idx10 - model_layer1_multihead3_fold0.pkl: # layer = 1 | # heads = 3 | Fold = 0\n"
     ]
    },
    {
     "name": "stderr",
     "output_type": "stream",
     "text": [
      "  0%|          | 2/562 [00:00<00:51, 10.96it/s]"
     ]
    },
    {
     "name": "stdout",
     "output_type": "stream",
     "text": [
      "TRAIN Label info: Counter({0: 287329, 1: 287329})\n"
     ]
    },
    {
     "name": "stderr",
     "output_type": "stream",
     "text": [
      "100%|██████████| 562/562 [00:40<00:00, 13.94it/s]\n"
     ]
    },
    {
     "name": "stdout",
     "output_type": "stream",
     "text": [
      "tn = 267012, fp = 20317, fn = 17521, tp = 269808\n",
      "y_pred: 0 = 284533 | 1 = 290125\n",
      "y_true: 0 = 287329 | 1 = 287329\n",
      "auc=0.9820|sensitivity=0.9390|specificity=0.9293|acc=0.9342|mcc=0.8684\n",
      "precision=0.9300|recall=0.9390|f1=0.9345|aupr=0.9818\n",
      "Idx11 - model_layer1_multihead3_fold1.pkl: # layer = 1 | # heads = 3 | Fold = 1\n"
     ]
    },
    {
     "name": "stderr",
     "output_type": "stream",
     "text": [
      "  0%|          | 1/562 [00:00<01:14,  7.54it/s]"
     ]
    },
    {
     "name": "stdout",
     "output_type": "stream",
     "text": [
      "TRAIN Label info: Counter({0: 287329, 1: 287329})\n"
     ]
    },
    {
     "name": "stderr",
     "output_type": "stream",
     "text": [
      "100%|██████████| 562/562 [00:39<00:00, 14.11it/s]\n"
     ]
    },
    {
     "name": "stdout",
     "output_type": "stream",
     "text": [
      "tn = 267198, fp = 20131, fn = 16980, tp = 270349\n",
      "y_pred: 0 = 284178 | 1 = 290480\n",
      "y_true: 0 = 287329 | 1 = 287329\n",
      "auc=0.9827|sensitivity=0.9409|specificity=0.9299|acc=0.9354|mcc=0.8709\n",
      "precision=0.9307|recall=0.9409|f1=0.9358|aupr=0.9826\n",
      "Idx12 - model_layer1_multihead3_fold2.pkl: # layer = 1 | # heads = 3 | Fold = 2\n"
     ]
    },
    {
     "name": "stderr",
     "output_type": "stream",
     "text": [
      "  0%|          | 1/562 [00:00<00:56,  9.96it/s]"
     ]
    },
    {
     "name": "stdout",
     "output_type": "stream",
     "text": [
      "TRAIN Label info: Counter({1: 287329, 0: 287329})\n"
     ]
    },
    {
     "name": "stderr",
     "output_type": "stream",
     "text": [
      "100%|██████████| 562/562 [00:38<00:00, 14.48it/s]\n"
     ]
    },
    {
     "name": "stdout",
     "output_type": "stream",
     "text": [
      "tn = 264639, fp = 22690, fn = 16143, tp = 271186\n",
      "y_pred: 0 = 280782 | 1 = 293876\n",
      "y_true: 0 = 287329 | 1 = 287329\n",
      "auc=0.9818|sensitivity=0.9438|specificity=0.9210|acc=0.9324|mcc=0.8651\n",
      "precision=0.9228|recall=0.9438|f1=0.9332|aupr=0.9816\n",
      "Idx13 - model_layer1_multihead3_fold3.pkl: # layer = 1 | # heads = 3 | Fold = 3\n"
     ]
    },
    {
     "name": "stderr",
     "output_type": "stream",
     "text": [
      "  0%|          | 2/562 [00:00<00:47, 11.85it/s]"
     ]
    },
    {
     "name": "stdout",
     "output_type": "stream",
     "text": [
      "TRAIN Label info: Counter({0: 287329, 1: 287329})\n"
     ]
    },
    {
     "name": "stderr",
     "output_type": "stream",
     "text": [
      "100%|██████████| 562/562 [00:39<00:00, 14.24it/s]\n"
     ]
    },
    {
     "name": "stdout",
     "output_type": "stream",
     "text": [
      "tn = 267985, fp = 19344, fn = 18559, tp = 268770\n",
      "y_pred: 0 = 286544 | 1 = 288114\n",
      "y_true: 0 = 287329 | 1 = 287329\n",
      "auc=0.9824|sensitivity=0.9354|specificity=0.9327|acc=0.9340|mcc=0.8681\n",
      "precision=0.9329|recall=0.9354|f1=0.9341|aupr=0.9823\n",
      "Idx14 - model_layer1_multihead3_fold4.pkl: # layer = 1 | # heads = 3 | Fold = 4\n"
     ]
    },
    {
     "name": "stderr",
     "output_type": "stream",
     "text": [
      "  0%|          | 1/562 [00:00<00:59,  9.43it/s]"
     ]
    },
    {
     "name": "stdout",
     "output_type": "stream",
     "text": [
      "TRAIN Label info: Counter({1: 287348, 0: 287348})\n"
     ]
    },
    {
     "name": "stderr",
     "output_type": "stream",
     "text": [
      "100%|██████████| 562/562 [00:38<00:00, 14.47it/s]\n"
     ]
    },
    {
     "name": "stdout",
     "output_type": "stream",
     "text": [
      "tn = 265655, fp = 21693, fn = 15492, tp = 271856\n",
      "y_pred: 0 = 281147 | 1 = 293549\n",
      "y_true: 0 = 287348 | 1 = 287348\n",
      "auc=0.9828|sensitivity=0.9461|specificity=0.9245|acc=0.9353|mcc=0.8708\n",
      "precision=0.9261|recall=0.9461|f1=0.9360|aupr=0.9827\n",
      "Idx15 - model_layer1_multihead4_fold0.pkl: # layer = 1 | # heads = 4 | Fold = 0\n"
     ]
    },
    {
     "name": "stderr",
     "output_type": "stream",
     "text": [
      "  0%|          | 1/562 [00:00<00:59,  9.39it/s]"
     ]
    },
    {
     "name": "stdout",
     "output_type": "stream",
     "text": [
      "TRAIN Label info: Counter({0: 287329, 1: 287329})\n"
     ]
    },
    {
     "name": "stderr",
     "output_type": "stream",
     "text": [
      "100%|██████████| 562/562 [00:49<00:00, 11.40it/s]\n"
     ]
    },
    {
     "name": "stdout",
     "output_type": "stream",
     "text": [
      "tn = 266546, fp = 20783, fn = 16376, tp = 270953\n",
      "y_pred: 0 = 282922 | 1 = 291736\n",
      "y_true: 0 = 287329 | 1 = 287329\n",
      "auc=0.9827|sensitivity=0.9430|specificity=0.9277|acc=0.9353|mcc=0.8708\n",
      "precision=0.9288|recall=0.9430|f1=0.9358|aupr=0.9825\n",
      "Idx16 - model_layer1_multihead4_fold1.pkl: # layer = 1 | # heads = 4 | Fold = 1\n"
     ]
    },
    {
     "name": "stderr",
     "output_type": "stream",
     "text": [
      "  0%|          | 1/562 [00:00<01:00,  9.28it/s]"
     ]
    },
    {
     "name": "stdout",
     "output_type": "stream",
     "text": [
      "TRAIN Label info: Counter({0: 287329, 1: 287329})\n"
     ]
    },
    {
     "name": "stderr",
     "output_type": "stream",
     "text": [
      "100%|██████████| 562/562 [00:45<00:00, 12.41it/s]\n"
     ]
    },
    {
     "name": "stdout",
     "output_type": "stream",
     "text": [
      "tn = 266793, fp = 20536, fn = 17485, tp = 269844\n",
      "y_pred: 0 = 284278 | 1 = 290380\n",
      "y_true: 0 = 287329 | 1 = 287329\n",
      "auc=0.9820|sensitivity=0.9391|specificity=0.9285|acc=0.9338|mcc=0.8677\n",
      "precision=0.9293|recall=0.9391|f1=0.9342|aupr=0.9818\n",
      "Idx17 - model_layer1_multihead4_fold2.pkl: # layer = 1 | # heads = 4 | Fold = 2\n"
     ]
    },
    {
     "name": "stderr",
     "output_type": "stream",
     "text": [
      "  0%|          | 1/562 [00:00<00:57,  9.67it/s]"
     ]
    },
    {
     "name": "stdout",
     "output_type": "stream",
     "text": [
      "TRAIN Label info: Counter({1: 287329, 0: 287329})\n"
     ]
    },
    {
     "name": "stderr",
     "output_type": "stream",
     "text": [
      "100%|██████████| 562/562 [00:45<00:00, 12.26it/s]\n"
     ]
    },
    {
     "name": "stdout",
     "output_type": "stream",
     "text": [
      "tn = 266372, fp = 20957, fn = 16664, tp = 270665\n",
      "y_pred: 0 = 283036 | 1 = 291622\n",
      "y_true: 0 = 287329 | 1 = 287329\n",
      "auc=0.9826|sensitivity=0.9420|specificity=0.9271|acc=0.9345|mcc=0.8692\n",
      "precision=0.9281|recall=0.9420|f1=0.9350|aupr=0.9824\n",
      "Idx18 - model_layer1_multihead4_fold3.pkl: # layer = 1 | # heads = 4 | Fold = 3\n"
     ]
    },
    {
     "name": "stderr",
     "output_type": "stream",
     "text": [
      "  0%|          | 1/562 [00:00<00:57,  9.79it/s]"
     ]
    },
    {
     "name": "stdout",
     "output_type": "stream",
     "text": [
      "TRAIN Label info: Counter({0: 287329, 1: 287329})\n"
     ]
    },
    {
     "name": "stderr",
     "output_type": "stream",
     "text": [
      "100%|██████████| 562/562 [00:47<00:00, 11.86it/s]\n"
     ]
    },
    {
     "name": "stdout",
     "output_type": "stream",
     "text": [
      "tn = 266050, fp = 21279, fn = 16891, tp = 270438\n",
      "y_pred: 0 = 282941 | 1 = 291717\n",
      "y_true: 0 = 287329 | 1 = 287329\n",
      "auc=0.9824|sensitivity=0.9412|specificity=0.9259|acc=0.9336|mcc=0.8673\n",
      "precision=0.9271|recall=0.9412|f1=0.9341|aupr=0.9822\n",
      "Idx19 - model_layer1_multihead4_fold4.pkl: # layer = 1 | # heads = 4 | Fold = 4\n"
     ]
    },
    {
     "name": "stderr",
     "output_type": "stream",
     "text": [
      "  0%|          | 1/562 [00:00<00:59,  9.42it/s]"
     ]
    },
    {
     "name": "stdout",
     "output_type": "stream",
     "text": [
      "TRAIN Label info: Counter({1: 287348, 0: 287348})\n"
     ]
    },
    {
     "name": "stderr",
     "output_type": "stream",
     "text": [
      "100%|██████████| 562/562 [00:46<00:00, 12.02it/s]\n"
     ]
    },
    {
     "name": "stdout",
     "output_type": "stream",
     "text": [
      "tn = 268755, fp = 18593, fn = 19791, tp = 267557\n",
      "y_pred: 0 = 288546 | 1 = 286150\n",
      "y_true: 0 = 287348 | 1 = 287348\n",
      "auc=0.9818|sensitivity=0.9311|specificity=0.9353|acc=0.9332|mcc=0.8664\n",
      "precision=0.9350|recall=0.9311|f1=0.9331|aupr=0.9817\n",
      "Idx20 - model_layer1_multihead5_fold0.pkl: # layer = 1 | # heads = 5 | Fold = 0\n"
     ]
    },
    {
     "name": "stderr",
     "output_type": "stream",
     "text": [
      "  0%|          | 1/562 [00:00<01:04,  8.64it/s]"
     ]
    },
    {
     "name": "stdout",
     "output_type": "stream",
     "text": [
      "TRAIN Label info: Counter({0: 287329, 1: 287329})\n"
     ]
    },
    {
     "name": "stderr",
     "output_type": "stream",
     "text": [
      "100%|██████████| 562/562 [00:52<00:00, 10.62it/s]\n"
     ]
    },
    {
     "name": "stdout",
     "output_type": "stream",
     "text": [
      "tn = 266589, fp = 20740, fn = 16309, tp = 271020\n",
      "y_pred: 0 = 282898 | 1 = 291760\n",
      "y_true: 0 = 287329 | 1 = 287329\n",
      "auc=0.9830|sensitivity=0.9432|specificity=0.9278|acc=0.9355|mcc=0.8712\n",
      "precision=0.9289|recall=0.9432|f1=0.9360|aupr=0.9828\n",
      "Idx21 - model_layer1_multihead5_fold1.pkl: # layer = 1 | # heads = 5 | Fold = 1\n"
     ]
    },
    {
     "name": "stderr",
     "output_type": "stream",
     "text": [
      "  0%|          | 1/562 [00:00<01:03,  8.89it/s]"
     ]
    },
    {
     "name": "stdout",
     "output_type": "stream",
     "text": [
      "TRAIN Label info: Counter({0: 287329, 1: 287329})\n"
     ]
    },
    {
     "name": "stderr",
     "output_type": "stream",
     "text": [
      "100%|██████████| 562/562 [00:52<00:00, 10.76it/s]\n"
     ]
    },
    {
     "name": "stdout",
     "output_type": "stream",
     "text": [
      "tn = 266396, fp = 20933, fn = 16533, tp = 270796\n",
      "y_pred: 0 = 282929 | 1 = 291729\n",
      "y_true: 0 = 287329 | 1 = 287329\n",
      "auc=0.9828|sensitivity=0.9425|specificity=0.9271|acc=0.9348|mcc=0.8697\n",
      "precision=0.9282|recall=0.9425|f1=0.9353|aupr=0.9826\n",
      "Idx22 - model_layer1_multihead5_fold2.pkl: # layer = 1 | # heads = 5 | Fold = 2\n"
     ]
    },
    {
     "name": "stderr",
     "output_type": "stream",
     "text": [
      "  0%|          | 1/562 [00:00<01:00,  9.24it/s]"
     ]
    },
    {
     "name": "stdout",
     "output_type": "stream",
     "text": [
      "TRAIN Label info: Counter({1: 287329, 0: 287329})\n"
     ]
    },
    {
     "name": "stderr",
     "output_type": "stream",
     "text": [
      "100%|██████████| 562/562 [00:48<00:00, 11.52it/s]\n"
     ]
    },
    {
     "name": "stdout",
     "output_type": "stream",
     "text": [
      "tn = 266199, fp = 21130, fn = 16119, tp = 271210\n",
      "y_pred: 0 = 282318 | 1 = 292340\n",
      "y_true: 0 = 287329 | 1 = 287329\n",
      "auc=0.9829|sensitivity=0.9439|specificity=0.9265|acc=0.9352|mcc=0.8705\n",
      "precision=0.9277|recall=0.9439|f1=0.9357|aupr=0.9828\n",
      "Idx23 - model_layer1_multihead5_fold3.pkl: # layer = 1 | # heads = 5 | Fold = 3\n"
     ]
    },
    {
     "name": "stderr",
     "output_type": "stream",
     "text": [
      "  0%|          | 1/562 [00:00<01:08,  8.21it/s]"
     ]
    },
    {
     "name": "stdout",
     "output_type": "stream",
     "text": [
      "TRAIN Label info: Counter({0: 287329, 1: 287329})\n"
     ]
    },
    {
     "name": "stderr",
     "output_type": "stream",
     "text": [
      "100%|██████████| 562/562 [00:52<00:00, 10.60it/s]\n"
     ]
    },
    {
     "name": "stdout",
     "output_type": "stream",
     "text": [
      "tn = 267928, fp = 19401, fn = 18486, tp = 268843\n",
      "y_pred: 0 = 286414 | 1 = 288244\n",
      "y_true: 0 = 287329 | 1 = 287329\n",
      "auc=0.9823|sensitivity=0.9357|specificity=0.9325|acc=0.9341|mcc=0.8681\n",
      "precision=0.9327|recall=0.9357|f1=0.9342|aupr=0.9820\n",
      "Idx24 - model_layer1_multihead5_fold4.pkl: # layer = 1 | # heads = 5 | Fold = 4\n"
     ]
    },
    {
     "name": "stderr",
     "output_type": "stream",
     "text": [
      "  0%|          | 1/562 [00:00<01:04,  8.66it/s]"
     ]
    },
    {
     "name": "stdout",
     "output_type": "stream",
     "text": [
      "TRAIN Label info: Counter({1: 287348, 0: 287348})\n"
     ]
    },
    {
     "name": "stderr",
     "output_type": "stream",
     "text": [
      "100%|██████████| 562/562 [00:49<00:00, 11.33it/s]\n"
     ]
    },
    {
     "name": "stdout",
     "output_type": "stream",
     "text": [
      "tn = 265490, fp = 21858, fn = 14834, tp = 272514\n",
      "y_pred: 0 = 280324 | 1 = 294372\n",
      "y_true: 0 = 287348 | 1 = 287348\n",
      "auc=0.9833|sensitivity=0.9484|specificity=0.9239|acc=0.9362|mcc=0.8726\n",
      "precision=0.9257|recall=0.9484|f1=0.9369|aupr=0.9829\n",
      "Idx25 - model_layer1_multihead6_fold0.pkl: # layer = 1 | # heads = 6 | Fold = 0\n"
     ]
    },
    {
     "name": "stderr",
     "output_type": "stream",
     "text": [
      "  0%|          | 1/562 [00:00<01:18,  7.14it/s]"
     ]
    },
    {
     "name": "stdout",
     "output_type": "stream",
     "text": [
      "TRAIN Label info: Counter({0: 287329, 1: 287329})\n"
     ]
    },
    {
     "name": "stderr",
     "output_type": "stream",
     "text": [
      "100%|██████████| 562/562 [00:58<00:00,  9.60it/s]\n"
     ]
    },
    {
     "name": "stdout",
     "output_type": "stream",
     "text": [
      "tn = 266015, fp = 21314, fn = 15382, tp = 271947\n",
      "y_pred: 0 = 281397 | 1 = 293261\n",
      "y_true: 0 = 287329 | 1 = 287329\n",
      "auc=0.9837|sensitivity=0.9465|specificity=0.9258|acc=0.9361|mcc=0.8725\n",
      "precision=0.9273|recall=0.9465|f1=0.9368|aupr=0.9836\n",
      "Idx26 - model_layer1_multihead6_fold1.pkl: # layer = 1 | # heads = 6 | Fold = 1\n"
     ]
    },
    {
     "name": "stderr",
     "output_type": "stream",
     "text": [
      "  0%|          | 1/562 [00:00<01:11,  7.90it/s]"
     ]
    },
    {
     "name": "stdout",
     "output_type": "stream",
     "text": [
      "TRAIN Label info: Counter({0: 287329, 1: 287329})\n"
     ]
    },
    {
     "name": "stderr",
     "output_type": "stream",
     "text": [
      "100%|██████████| 562/562 [00:59<00:00,  9.45it/s]\n"
     ]
    },
    {
     "name": "stdout",
     "output_type": "stream",
     "text": [
      "tn = 265089, fp = 22240, fn = 13842, tp = 273487\n",
      "y_pred: 0 = 278931 | 1 = 295727\n",
      "y_true: 0 = 287329 | 1 = 287329\n",
      "auc=0.9843|sensitivity=0.9518|specificity=0.9226|acc=0.9372|mcc=0.8748\n",
      "precision=0.9248|recall=0.9518|f1=0.9381|aupr=0.9841\n",
      "Idx27 - model_layer1_multihead6_fold2.pkl: # layer = 1 | # heads = 6 | Fold = 2\n"
     ]
    },
    {
     "name": "stderr",
     "output_type": "stream",
     "text": [
      "  0%|          | 1/562 [00:00<01:08,  8.15it/s]"
     ]
    },
    {
     "name": "stdout",
     "output_type": "stream",
     "text": [
      "TRAIN Label info: Counter({1: 287329, 0: 287329})\n"
     ]
    },
    {
     "name": "stderr",
     "output_type": "stream",
     "text": [
      "100%|██████████| 562/562 [00:58<00:00,  9.68it/s]\n"
     ]
    },
    {
     "name": "stdout",
     "output_type": "stream",
     "text": [
      "tn = 265926, fp = 21403, fn = 15147, tp = 272182\n",
      "y_pred: 0 = 281073 | 1 = 293585\n",
      "y_true: 0 = 287329 | 1 = 287329\n",
      "auc=0.9839|sensitivity=0.9473|specificity=0.9255|acc=0.9364|mcc=0.8730\n",
      "precision=0.9271|recall=0.9473|f1=0.9371|aupr=0.9838\n",
      "Idx28 - model_layer1_multihead6_fold3.pkl: # layer = 1 | # heads = 6 | Fold = 3\n"
     ]
    },
    {
     "name": "stderr",
     "output_type": "stream",
     "text": [
      "  0%|          | 1/562 [00:00<01:10,  7.91it/s]"
     ]
    },
    {
     "name": "stdout",
     "output_type": "stream",
     "text": [
      "TRAIN Label info: Counter({0: 287329, 1: 287329})\n"
     ]
    },
    {
     "name": "stderr",
     "output_type": "stream",
     "text": [
      "100%|██████████| 562/562 [00:54<00:00, 10.40it/s]\n"
     ]
    },
    {
     "name": "stdout",
     "output_type": "stream",
     "text": [
      "tn = 269017, fp = 18312, fn = 18157, tp = 269172\n",
      "y_pred: 0 = 287174 | 1 = 287484\n",
      "y_true: 0 = 287329 | 1 = 287329\n",
      "auc=0.9838|sensitivity=0.9368|specificity=0.9363|acc=0.9365|mcc=0.8731\n",
      "precision=0.9363|recall=0.9368|f1=0.9366|aupr=0.9837\n",
      "Idx29 - model_layer1_multihead6_fold4.pkl: # layer = 1 | # heads = 6 | Fold = 4\n"
     ]
    },
    {
     "name": "stderr",
     "output_type": "stream",
     "text": [
      "  0%|          | 1/562 [00:00<01:09,  8.11it/s]"
     ]
    },
    {
     "name": "stdout",
     "output_type": "stream",
     "text": [
      "TRAIN Label info: Counter({1: 287348, 0: 287348})\n"
     ]
    },
    {
     "name": "stderr",
     "output_type": "stream",
     "text": [
      "100%|██████████| 562/562 [00:56<00:00,  9.94it/s]\n"
     ]
    },
    {
     "name": "stdout",
     "output_type": "stream",
     "text": [
      "tn = 265484, fp = 21864, fn = 14258, tp = 273090\n",
      "y_pred: 0 = 279742 | 1 = 294954\n",
      "y_true: 0 = 287348 | 1 = 287348\n",
      "auc=0.9837|sensitivity=0.9504|specificity=0.9239|acc=0.9371|mcc=0.8746\n",
      "precision=0.9259|recall=0.9504|f1=0.9380|aupr=0.9833\n",
      "Idx30 - model_layer1_multihead7_fold0.pkl: # layer = 1 | # heads = 7 | Fold = 0\n"
     ]
    },
    {
     "name": "stderr",
     "output_type": "stream",
     "text": [
      "  0%|          | 1/562 [00:00<01:16,  7.33it/s]"
     ]
    },
    {
     "name": "stdout",
     "output_type": "stream",
     "text": [
      "TRAIN Label info: Counter({0: 287329, 1: 287329})\n"
     ]
    },
    {
     "name": "stderr",
     "output_type": "stream",
     "text": [
      "100%|██████████| 562/562 [01:04<00:00,  8.75it/s]\n"
     ]
    },
    {
     "name": "stdout",
     "output_type": "stream",
     "text": [
      "tn = 265715, fp = 21614, fn = 14646, tp = 272683\n",
      "y_pred: 0 = 280361 | 1 = 294297\n",
      "y_true: 0 = 287329 | 1 = 287329\n",
      "auc=0.9840|sensitivity=0.9490|specificity=0.9248|acc=0.9369|mcc=0.8741\n",
      "precision=0.9266|recall=0.9490|f1=0.9377|aupr=0.9839\n",
      "Idx31 - model_layer1_multihead7_fold1.pkl: # layer = 1 | # heads = 7 | Fold = 1\n"
     ]
    },
    {
     "name": "stderr",
     "output_type": "stream",
     "text": [
      "  0%|          | 1/562 [00:00<01:15,  7.43it/s]"
     ]
    },
    {
     "name": "stdout",
     "output_type": "stream",
     "text": [
      "TRAIN Label info: Counter({0: 287329, 1: 287329})\n"
     ]
    },
    {
     "name": "stderr",
     "output_type": "stream",
     "text": [
      "100%|██████████| 562/562 [01:02<00:00,  8.98it/s]\n"
     ]
    },
    {
     "name": "stdout",
     "output_type": "stream",
     "text": [
      "tn = 270965, fp = 16364, fn = 19626, tp = 267703\n",
      "y_pred: 0 = 290591 | 1 = 284067\n",
      "y_true: 0 = 287329 | 1 = 287329\n",
      "auc=0.9839|sensitivity=0.9317|specificity=0.9430|acc=0.9374|mcc=0.8748\n",
      "precision=0.9424|recall=0.9317|f1=0.9370|aupr=0.9837\n",
      "Idx32 - model_layer1_multihead7_fold2.pkl: # layer = 1 | # heads = 7 | Fold = 2\n"
     ]
    },
    {
     "name": "stderr",
     "output_type": "stream",
     "text": [
      "  0%|          | 1/562 [00:00<01:17,  7.24it/s]"
     ]
    },
    {
     "name": "stdout",
     "output_type": "stream",
     "text": [
      "TRAIN Label info: Counter({1: 287329, 0: 287329})\n"
     ]
    },
    {
     "name": "stderr",
     "output_type": "stream",
     "text": [
      "100%|██████████| 562/562 [01:04<00:00,  8.65it/s]\n"
     ]
    },
    {
     "name": "stdout",
     "output_type": "stream",
     "text": [
      "tn = 266423, fp = 20906, fn = 15896, tp = 271433\n",
      "y_pred: 0 = 282319 | 1 = 292339\n",
      "y_true: 0 = 287329 | 1 = 287329\n",
      "auc=0.9835|sensitivity=0.9447|specificity=0.9272|acc=0.9360|mcc=0.8720\n",
      "precision=0.9285|recall=0.9447|f1=0.9365|aupr=0.9834\n",
      "Idx33 - model_layer1_multihead7_fold3.pkl: # layer = 1 | # heads = 7 | Fold = 3\n"
     ]
    },
    {
     "name": "stderr",
     "output_type": "stream",
     "text": [
      "  0%|          | 1/562 [00:00<01:19,  7.02it/s]"
     ]
    },
    {
     "name": "stdout",
     "output_type": "stream",
     "text": [
      "TRAIN Label info: Counter({0: 287329, 1: 287329})\n"
     ]
    },
    {
     "name": "stderr",
     "output_type": "stream",
     "text": [
      "100%|██████████| 562/562 [01:00<00:00,  9.35it/s]\n"
     ]
    },
    {
     "name": "stdout",
     "output_type": "stream",
     "text": [
      "tn = 267702, fp = 19627, fn = 15912, tp = 271417\n",
      "y_pred: 0 = 283614 | 1 = 291044\n",
      "y_true: 0 = 287329 | 1 = 287329\n",
      "auc=0.9844|sensitivity=0.9446|specificity=0.9317|acc=0.9382|mcc=0.8764\n",
      "precision=0.9326|recall=0.9446|f1=0.9386|aupr=0.9842\n",
      "Idx34 - model_layer1_multihead7_fold4.pkl: # layer = 1 | # heads = 7 | Fold = 4\n"
     ]
    },
    {
     "name": "stderr",
     "output_type": "stream",
     "text": [
      "  0%|          | 1/562 [00:00<01:23,  6.73it/s]"
     ]
    },
    {
     "name": "stdout",
     "output_type": "stream",
     "text": [
      "TRAIN Label info: Counter({1: 287348, 0: 287348})\n"
     ]
    },
    {
     "name": "stderr",
     "output_type": "stream",
     "text": [
      "100%|██████████| 562/562 [01:05<00:00,  8.63it/s]\n"
     ]
    },
    {
     "name": "stdout",
     "output_type": "stream",
     "text": [
      "tn = 266385, fp = 20963, fn = 14620, tp = 272728\n",
      "y_pred: 0 = 281005 | 1 = 293691\n",
      "y_true: 0 = 287348 | 1 = 287348\n",
      "auc=0.9847|sensitivity=0.9491|specificity=0.9270|acc=0.9381|mcc=0.8764\n",
      "precision=0.9286|recall=0.9491|f1=0.9388|aupr=0.9845\n",
      "Idx35 - model_layer1_multihead8_fold0.pkl: # layer = 1 | # heads = 8 | Fold = 0\n"
     ]
    },
    {
     "name": "stderr",
     "output_type": "stream",
     "text": [
      "  0%|          | 1/562 [00:00<01:22,  6.82it/s]"
     ]
    },
    {
     "name": "stdout",
     "output_type": "stream",
     "text": [
      "TRAIN Label info: Counter({0: 287329, 1: 287329})\n"
     ]
    },
    {
     "name": "stderr",
     "output_type": "stream",
     "text": [
      "100%|██████████| 562/562 [01:11<00:00,  7.89it/s]\n"
     ]
    },
    {
     "name": "stdout",
     "output_type": "stream",
     "text": [
      "tn = 267860, fp = 19469, fn = 16081, tp = 271248\n",
      "y_pred: 0 = 283941 | 1 = 290717\n",
      "y_true: 0 = 287329 | 1 = 287329\n",
      "auc=0.9842|sensitivity=0.9440|specificity=0.9322|acc=0.9381|mcc=0.8763\n",
      "precision=0.9330|recall=0.9440|f1=0.9385|aupr=0.9840\n",
      "Idx36 - model_layer1_multihead8_fold1.pkl: # layer = 1 | # heads = 8 | Fold = 1\n"
     ]
    },
    {
     "name": "stderr",
     "output_type": "stream",
     "text": [
      "  0%|          | 1/562 [00:00<01:20,  6.99it/s]"
     ]
    },
    {
     "name": "stdout",
     "output_type": "stream",
     "text": [
      "TRAIN Label info: Counter({0: 287329, 1: 287329})\n"
     ]
    },
    {
     "name": "stderr",
     "output_type": "stream",
     "text": [
      "100%|██████████| 562/562 [01:06<00:00,  8.47it/s]\n"
     ]
    },
    {
     "name": "stdout",
     "output_type": "stream",
     "text": [
      "tn = 268834, fp = 18495, fn = 18063, tp = 269266\n",
      "y_pred: 0 = 286897 | 1 = 287761\n",
      "y_true: 0 = 287329 | 1 = 287329\n",
      "auc=0.9835|sensitivity=0.9371|specificity=0.9356|acc=0.9364|mcc=0.8728\n",
      "precision=0.9357|recall=0.9371|f1=0.9364|aupr=0.9832\n",
      "Idx37 - model_layer1_multihead8_fold2.pkl: # layer = 1 | # heads = 8 | Fold = 2\n"
     ]
    },
    {
     "name": "stderr",
     "output_type": "stream",
     "text": [
      "  0%|          | 1/562 [00:00<01:24,  6.64it/s]"
     ]
    },
    {
     "name": "stdout",
     "output_type": "stream",
     "text": [
      "TRAIN Label info: Counter({1: 287329, 0: 287329})\n"
     ]
    },
    {
     "name": "stderr",
     "output_type": "stream",
     "text": [
      "100%|██████████| 562/562 [01:13<00:00,  7.69it/s]\n"
     ]
    },
    {
     "name": "stdout",
     "output_type": "stream",
     "text": [
      "tn = 268340, fp = 18989, fn = 17573, tp = 269756\n",
      "y_pred: 0 = 285913 | 1 = 288745\n",
      "y_true: 0 = 287329 | 1 = 287329\n",
      "auc=0.9835|sensitivity=0.9388|specificity=0.9339|acc=0.9364|mcc=0.8728\n",
      "precision=0.9342|recall=0.9388|f1=0.9365|aupr=0.9833\n",
      "Idx38 - model_layer1_multihead8_fold3.pkl: # layer = 1 | # heads = 8 | Fold = 3\n"
     ]
    },
    {
     "name": "stderr",
     "output_type": "stream",
     "text": [
      "  0%|          | 1/562 [00:00<01:23,  6.69it/s]"
     ]
    },
    {
     "name": "stdout",
     "output_type": "stream",
     "text": [
      "TRAIN Label info: Counter({0: 287329, 1: 287329})\n"
     ]
    },
    {
     "name": "stderr",
     "output_type": "stream",
     "text": [
      "100%|██████████| 562/562 [01:10<00:00,  7.99it/s]\n"
     ]
    },
    {
     "name": "stdout",
     "output_type": "stream",
     "text": [
      "tn = 265017, fp = 22312, fn = 13855, tp = 273474\n",
      "y_pred: 0 = 278872 | 1 = 295786\n",
      "y_true: 0 = 287329 | 1 = 287329\n",
      "auc=0.9844|sensitivity=0.9518|specificity=0.9223|acc=0.9371|mcc=0.8745\n",
      "precision=0.9246|recall=0.9518|f1=0.9380|aupr=0.9842\n",
      "Idx39 - model_layer1_multihead8_fold4.pkl: # layer = 1 | # heads = 8 | Fold = 4\n"
     ]
    },
    {
     "name": "stderr",
     "output_type": "stream",
     "text": [
      "  0%|          | 1/562 [00:00<01:22,  6.81it/s]"
     ]
    },
    {
     "name": "stdout",
     "output_type": "stream",
     "text": [
      "TRAIN Label info: Counter({1: 287348, 0: 287348})\n"
     ]
    },
    {
     "name": "stderr",
     "output_type": "stream",
     "text": [
      "100%|██████████| 562/562 [01:10<00:00,  7.96it/s]\n"
     ]
    },
    {
     "name": "stdout",
     "output_type": "stream",
     "text": [
      "tn = 268413, fp = 18935, fn = 17422, tp = 269926\n",
      "y_pred: 0 = 285835 | 1 = 288861\n",
      "y_true: 0 = 287348 | 1 = 287348\n",
      "auc=0.9837|sensitivity=0.9394|specificity=0.9341|acc=0.9367|mcc=0.8735\n",
      "precision=0.9344|recall=0.9394|f1=0.9369|aupr=0.9834\n",
      "Idx40 - model_layer1_multihead9_fold0.pkl: # layer = 1 | # heads = 9 | Fold = 0\n"
     ]
    },
    {
     "name": "stderr",
     "output_type": "stream",
     "text": [
      "  0%|          | 1/562 [00:00<01:30,  6.21it/s]"
     ]
    },
    {
     "name": "stdout",
     "output_type": "stream",
     "text": [
      "TRAIN Label info: Counter({0: 287329, 1: 287329})\n"
     ]
    },
    {
     "name": "stderr",
     "output_type": "stream",
     "text": [
      "100%|██████████| 562/562 [01:16<00:00,  7.37it/s]\n"
     ]
    },
    {
     "name": "stdout",
     "output_type": "stream",
     "text": [
      "tn = 266571, fp = 20758, fn = 14723, tp = 272606\n",
      "y_pred: 0 = 281294 | 1 = 293364\n",
      "y_true: 0 = 287329 | 1 = 287329\n",
      "auc=0.9845|sensitivity=0.9488|specificity=0.9278|acc=0.9383|mcc=0.8767\n",
      "precision=0.9292|recall=0.9488|f1=0.9389|aupr=0.9843\n",
      "Idx41 - model_layer1_multihead9_fold1.pkl: # layer = 1 | # heads = 9 | Fold = 1\n"
     ]
    },
    {
     "name": "stderr",
     "output_type": "stream",
     "text": [
      "  0%|          | 1/562 [00:00<01:38,  5.72it/s]"
     ]
    },
    {
     "name": "stdout",
     "output_type": "stream",
     "text": [
      "TRAIN Label info: Counter({0: 287329, 1: 287329})\n"
     ]
    },
    {
     "name": "stderr",
     "output_type": "stream",
     "text": [
      "100%|██████████| 562/562 [01:15<00:00,  7.48it/s]\n"
     ]
    },
    {
     "name": "stdout",
     "output_type": "stream",
     "text": [
      "tn = 268289, fp = 19040, fn = 16283, tp = 271046\n",
      "y_pred: 0 = 284572 | 1 = 290086\n",
      "y_true: 0 = 287329 | 1 = 287329\n",
      "auc=0.9845|sensitivity=0.9433|specificity=0.9337|acc=0.9385|mcc=0.8771\n",
      "precision=0.9344|recall=0.9433|f1=0.9388|aupr=0.9844\n",
      "Idx42 - model_layer1_multihead9_fold2.pkl: # layer = 1 | # heads = 9 | Fold = 2\n"
     ]
    },
    {
     "name": "stderr",
     "output_type": "stream",
     "text": [
      "  0%|          | 1/562 [00:00<01:31,  6.16it/s]"
     ]
    },
    {
     "name": "stdout",
     "output_type": "stream",
     "text": [
      "TRAIN Label info: Counter({1: 287329, 0: 287329})\n"
     ]
    },
    {
     "name": "stderr",
     "output_type": "stream",
     "text": [
      "100%|██████████| 562/562 [01:16<00:00,  7.33it/s]\n"
     ]
    },
    {
     "name": "stdout",
     "output_type": "stream",
     "text": [
      "tn = 263854, fp = 23475, fn = 12920, tp = 274409\n",
      "y_pred: 0 = 276774 | 1 = 297884\n",
      "y_true: 0 = 287329 | 1 = 287329\n",
      "auc=0.9845|sensitivity=0.9550|specificity=0.9183|acc=0.9367|mcc=0.8739\n",
      "precision=0.9212|recall=0.9550|f1=0.9378|aupr=0.9842\n",
      "Idx43 - model_layer1_multihead9_fold3.pkl: # layer = 1 | # heads = 9 | Fold = 3\n"
     ]
    },
    {
     "name": "stderr",
     "output_type": "stream",
     "text": [
      "  0%|          | 1/562 [00:00<01:26,  6.52it/s]"
     ]
    },
    {
     "name": "stdout",
     "output_type": "stream",
     "text": [
      "TRAIN Label info: Counter({0: 287329, 1: 287329})\n"
     ]
    },
    {
     "name": "stderr",
     "output_type": "stream",
     "text": [
      "100%|██████████| 562/562 [01:16<00:00,  7.38it/s]\n"
     ]
    },
    {
     "name": "stdout",
     "output_type": "stream",
     "text": [
      "tn = 266413, fp = 20916, fn = 15236, tp = 272093\n",
      "y_pred: 0 = 281649 | 1 = 293009\n",
      "y_true: 0 = 287329 | 1 = 287329\n",
      "auc=0.9841|sensitivity=0.9470|specificity=0.9272|acc=0.9371|mcc=0.8743\n",
      "precision=0.9286|recall=0.9470|f1=0.9377|aupr=0.9839\n",
      "Idx44 - model_layer1_multihead9_fold4.pkl: # layer = 1 | # heads = 9 | Fold = 4\n"
     ]
    },
    {
     "name": "stderr",
     "output_type": "stream",
     "text": [
      "  0%|          | 1/562 [00:00<01:28,  6.31it/s]"
     ]
    },
    {
     "name": "stdout",
     "output_type": "stream",
     "text": [
      "TRAIN Label info: Counter({1: 287348, 0: 287348})\n"
     ]
    },
    {
     "name": "stderr",
     "output_type": "stream",
     "text": [
      "100%|██████████| 562/562 [01:13<00:00,  7.64it/s]\n"
     ]
    },
    {
     "name": "stdout",
     "output_type": "stream",
     "text": [
      "tn = 270582, fp = 16766, fn = 18073, tp = 269275\n",
      "y_pred: 0 = 288655 | 1 = 286041\n",
      "y_true: 0 = 287348 | 1 = 287348\n",
      "auc=0.9848|sensitivity=0.9371|specificity=0.9417|acc=0.9394|mcc=0.8788\n",
      "precision=0.9414|recall=0.9371|f1=0.9392|aupr=0.9846\n",
      "Idx45 - model_layer1_multihead10_fold0.pkl: # layer = 1 | # heads = 10 | Fold = 0\n"
     ]
    },
    {
     "name": "stderr",
     "output_type": "stream",
     "text": [
      "\r",
      "  0%|          | 0/562 [00:00<?, ?it/s]"
     ]
    },
    {
     "name": "stdout",
     "output_type": "stream",
     "text": [
      "TRAIN Label info: Counter({0: 287329, 1: 287329})\n"
     ]
    },
    {
     "name": "stderr",
     "output_type": "stream",
     "text": [
      "100%|██████████| 562/562 [01:21<00:00,  6.85it/s]\n"
     ]
    },
    {
     "name": "stdout",
     "output_type": "stream",
     "text": [
      "tn = 268893, fp = 18436, fn = 16823, tp = 270506\n",
      "y_pred: 0 = 285716 | 1 = 288942\n",
      "y_true: 0 = 287329 | 1 = 287329\n",
      "auc=0.9845|sensitivity=0.9415|specificity=0.9358|acc=0.9386|mcc=0.8773\n",
      "precision=0.9362|recall=0.9415|f1=0.9388|aupr=0.9843\n",
      "Idx46 - model_layer1_multihead10_fold1.pkl: # layer = 1 | # heads = 10 | Fold = 1\n"
     ]
    },
    {
     "name": "stderr",
     "output_type": "stream",
     "text": [
      "  0%|          | 1/562 [00:00<01:45,  5.34it/s]"
     ]
    },
    {
     "name": "stdout",
     "output_type": "stream",
     "text": [
      "TRAIN Label info: Counter({0: 287329, 1: 287329})\n"
     ]
    },
    {
     "name": "stderr",
     "output_type": "stream",
     "text": [
      "100%|██████████| 562/562 [01:22<00:00,  6.85it/s]\n"
     ]
    },
    {
     "name": "stdout",
     "output_type": "stream",
     "text": [
      "tn = 263702, fp = 23627, fn = 12095, tp = 275234\n",
      "y_pred: 0 = 275797 | 1 = 298861\n",
      "y_true: 0 = 287329 | 1 = 287329\n",
      "auc=0.9853|sensitivity=0.9579|specificity=0.9178|acc=0.9378|mcc=0.8764\n",
      "precision=0.9209|recall=0.9579|f1=0.9391|aupr=0.9852\n",
      "Idx47 - model_layer1_multihead10_fold2.pkl: # layer = 1 | # heads = 10 | Fold = 2\n"
     ]
    },
    {
     "name": "stderr",
     "output_type": "stream",
     "text": [
      "  0%|          | 1/562 [00:00<01:37,  5.74it/s]"
     ]
    },
    {
     "name": "stdout",
     "output_type": "stream",
     "text": [
      "TRAIN Label info: Counter({1: 287329, 0: 287329})\n"
     ]
    },
    {
     "name": "stderr",
     "output_type": "stream",
     "text": [
      "100%|██████████| 562/562 [01:17<00:00,  7.29it/s]\n"
     ]
    },
    {
     "name": "stdout",
     "output_type": "stream",
     "text": [
      "tn = 267206, fp = 20123, fn = 15923, tp = 271406\n",
      "y_pred: 0 = 283129 | 1 = 291529\n",
      "y_true: 0 = 287329 | 1 = 287329\n",
      "auc=0.9842|sensitivity=0.9446|specificity=0.9300|acc=0.9373|mcc=0.8746\n",
      "precision=0.9310|recall=0.9446|f1=0.9377|aupr=0.9841\n",
      "Idx48 - model_layer1_multihead10_fold3.pkl: # layer = 1 | # heads = 10 | Fold = 3\n"
     ]
    },
    {
     "name": "stderr",
     "output_type": "stream",
     "text": [
      "  0%|          | 1/562 [00:00<01:31,  6.15it/s]"
     ]
    },
    {
     "name": "stdout",
     "output_type": "stream",
     "text": [
      "TRAIN Label info: Counter({0: 287329, 1: 287329})\n"
     ]
    },
    {
     "name": "stderr",
     "output_type": "stream",
     "text": [
      "100%|██████████| 562/562 [01:22<00:00,  6.85it/s]\n"
     ]
    },
    {
     "name": "stdout",
     "output_type": "stream",
     "text": [
      "tn = 268932, fp = 18397, fn = 17485, tp = 269844\n",
      "y_pred: 0 = 286417 | 1 = 288241\n",
      "y_true: 0 = 287329 | 1 = 287329\n",
      "auc=0.9841|sensitivity=0.9391|specificity=0.9360|acc=0.9376|mcc=0.8751\n",
      "precision=0.9362|recall=0.9391|f1=0.9377|aupr=0.9839\n",
      "Idx49 - model_layer1_multihead10_fold4.pkl: # layer = 1 | # heads = 10 | Fold = 4\n"
     ]
    },
    {
     "name": "stderr",
     "output_type": "stream",
     "text": [
      "  0%|          | 1/562 [00:00<01:28,  6.37it/s]"
     ]
    },
    {
     "name": "stdout",
     "output_type": "stream",
     "text": [
      "TRAIN Label info: Counter({1: 287348, 0: 287348})\n"
     ]
    },
    {
     "name": "stderr",
     "output_type": "stream",
     "text": [
      "100%|██████████| 562/562 [01:17<00:00,  7.29it/s]\n"
     ]
    },
    {
     "name": "stdout",
     "output_type": "stream",
     "text": [
      "tn = 267546, fp = 19802, fn = 15549, tp = 271799\n",
      "y_pred: 0 = 283095 | 1 = 291601\n",
      "y_true: 0 = 287348 | 1 = 287348\n",
      "auc=0.9847|sensitivity=0.9459|specificity=0.9311|acc=0.9385|mcc=0.8771\n",
      "precision=0.9321|recall=0.9459|f1=0.9389|aupr=0.9845\n",
      "Idx50 - model_layer2_multihead1_fold0.pkl: # layer = 2 | # heads = 1 | Fold = 0\n"
     ]
    },
    {
     "name": "stderr",
     "output_type": "stream",
     "text": [
      "  0%|          | 2/562 [00:00<00:51, 10.80it/s]"
     ]
    },
    {
     "name": "stdout",
     "output_type": "stream",
     "text": [
      "TRAIN Label info: Counter({0: 287329, 1: 287329})\n"
     ]
    },
    {
     "name": "stderr",
     "output_type": "stream",
     "text": [
      "100%|██████████| 562/562 [00:45<00:00, 12.47it/s]\n"
     ]
    },
    {
     "name": "stdout",
     "output_type": "stream",
     "text": [
      "tn = 270296, fp = 17033, fn = 19773, tp = 267556\n",
      "y_pred: 0 = 290069 | 1 = 284589\n",
      "y_true: 0 = 287329 | 1 = 287329\n",
      "auc=0.9829|sensitivity=0.9312|specificity=0.9407|acc=0.9360|mcc=0.8719\n",
      "precision=0.9401|recall=0.9312|f1=0.9356|aupr=0.9827\n",
      "Idx51 - model_layer2_multihead1_fold1.pkl: # layer = 2 | # heads = 1 | Fold = 1\n"
     ]
    },
    {
     "name": "stderr",
     "output_type": "stream",
     "text": [
      "  0%|          | 2/562 [00:00<00:55, 10.08it/s]"
     ]
    },
    {
     "name": "stdout",
     "output_type": "stream",
     "text": [
      "TRAIN Label info: Counter({0: 287329, 1: 287329})\n"
     ]
    },
    {
     "name": "stderr",
     "output_type": "stream",
     "text": [
      "100%|██████████| 562/562 [00:43<00:00, 13.00it/s]\n"
     ]
    },
    {
     "name": "stdout",
     "output_type": "stream",
     "text": [
      "tn = 267426, fp = 19903, fn = 17055, tp = 270274\n",
      "y_pred: 0 = 284481 | 1 = 290177\n",
      "y_true: 0 = 287329 | 1 = 287329\n",
      "auc=0.9828|sensitivity=0.9406|specificity=0.9307|acc=0.9357|mcc=0.8714\n",
      "precision=0.9314|recall=0.9406|f1=0.9360|aupr=0.9827\n",
      "Idx52 - model_layer2_multihead1_fold2.pkl: # layer = 2 | # heads = 1 | Fold = 2\n"
     ]
    },
    {
     "name": "stderr",
     "output_type": "stream",
     "text": [
      "  0%|          | 2/562 [00:00<00:52, 10.68it/s]"
     ]
    },
    {
     "name": "stdout",
     "output_type": "stream",
     "text": [
      "TRAIN Label info: Counter({1: 287329, 0: 287329})\n"
     ]
    },
    {
     "name": "stderr",
     "output_type": "stream",
     "text": [
      "100%|██████████| 562/562 [00:45<00:00, 12.48it/s]\n"
     ]
    },
    {
     "name": "stdout",
     "output_type": "stream",
     "text": [
      "tn = 269838, fp = 17491, fn = 19902, tp = 267427\n",
      "y_pred: 0 = 289740 | 1 = 284918\n",
      "y_true: 0 = 287329 | 1 = 287329\n",
      "auc=0.9825|sensitivity=0.9307|specificity=0.9391|acc=0.9349|mcc=0.8699\n",
      "precision=0.9386|recall=0.9307|f1=0.9347|aupr=0.9823\n",
      "Idx53 - model_layer2_multihead1_fold3.pkl: # layer = 2 | # heads = 1 | Fold = 3\n"
     ]
    },
    {
     "name": "stderr",
     "output_type": "stream",
     "text": [
      "  0%|          | 2/562 [00:00<00:52, 10.57it/s]"
     ]
    },
    {
     "name": "stdout",
     "output_type": "stream",
     "text": [
      "TRAIN Label info: Counter({0: 287329, 1: 287329})\n"
     ]
    },
    {
     "name": "stderr",
     "output_type": "stream",
     "text": [
      "100%|██████████| 562/562 [00:43<00:00, 12.96it/s]\n"
     ]
    },
    {
     "name": "stdout",
     "output_type": "stream",
     "text": [
      "tn = 266964, fp = 20365, fn = 16775, tp = 270554\n",
      "y_pred: 0 = 283739 | 1 = 290919\n",
      "y_true: 0 = 287329 | 1 = 287329\n",
      "auc=0.9831|sensitivity=0.9416|specificity=0.9291|acc=0.9354|mcc=0.8708\n",
      "precision=0.9300|recall=0.9416|f1=0.9358|aupr=0.9829\n",
      "Idx54 - model_layer2_multihead1_fold4.pkl: # layer = 2 | # heads = 1 | Fold = 4\n"
     ]
    },
    {
     "name": "stderr",
     "output_type": "stream",
     "text": [
      "  0%|          | 2/562 [00:00<00:50, 11.05it/s]"
     ]
    },
    {
     "name": "stdout",
     "output_type": "stream",
     "text": [
      "TRAIN Label info: Counter({1: 287348, 0: 287348})\n"
     ]
    },
    {
     "name": "stderr",
     "output_type": "stream",
     "text": [
      "100%|██████████| 562/562 [00:44<00:00, 12.74it/s]\n"
     ]
    },
    {
     "name": "stdout",
     "output_type": "stream",
     "text": [
      "tn = 265667, fp = 21681, fn = 15926, tp = 271422\n",
      "y_pred: 0 = 281593 | 1 = 293103\n",
      "y_true: 0 = 287348 | 1 = 287348\n",
      "auc=0.9825|sensitivity=0.9446|specificity=0.9245|acc=0.9346|mcc=0.8693\n",
      "precision=0.9260|recall=0.9446|f1=0.9352|aupr=0.9821\n",
      "Idx55 - model_layer2_multihead2_fold0.pkl: # layer = 2 | # heads = 2 | Fold = 0\n"
     ]
    },
    {
     "name": "stderr",
     "output_type": "stream",
     "text": [
      "  0%|          | 1/562 [00:00<01:14,  7.57it/s]"
     ]
    },
    {
     "name": "stdout",
     "output_type": "stream",
     "text": [
      "TRAIN Label info: Counter({0: 287329, 1: 287329})\n"
     ]
    },
    {
     "name": "stderr",
     "output_type": "stream",
     "text": [
      "100%|██████████| 562/562 [00:52<00:00, 10.61it/s]\n"
     ]
    },
    {
     "name": "stdout",
     "output_type": "stream",
     "text": [
      "tn = 268756, fp = 18573, fn = 17879, tp = 269450\n",
      "y_pred: 0 = 286635 | 1 = 288023\n",
      "y_true: 0 = 287329 | 1 = 287329\n",
      "auc=0.9834|sensitivity=0.9378|specificity=0.9354|acc=0.9366|mcc=0.8731\n",
      "precision=0.9355|recall=0.9378|f1=0.9366|aupr=0.9831\n",
      "Idx56 - model_layer2_multihead2_fold1.pkl: # layer = 2 | # heads = 2 | Fold = 1\n"
     ]
    },
    {
     "name": "stderr",
     "output_type": "stream",
     "text": [
      "  0%|          | 1/562 [00:00<01:11,  7.89it/s]"
     ]
    },
    {
     "name": "stdout",
     "output_type": "stream",
     "text": [
      "TRAIN Label info: Counter({0: 287329, 1: 287329})\n"
     ]
    },
    {
     "name": "stderr",
     "output_type": "stream",
     "text": [
      "100%|██████████| 562/562 [00:53<00:00, 10.50it/s]\n"
     ]
    },
    {
     "name": "stdout",
     "output_type": "stream",
     "text": [
      "tn = 270274, fp = 17055, fn = 18997, tp = 268332\n",
      "y_pred: 0 = 289271 | 1 = 285387\n",
      "y_true: 0 = 287329 | 1 = 287329\n",
      "auc=0.9840|sensitivity=0.9339|specificity=0.9406|acc=0.9373|mcc=0.8745\n",
      "precision=0.9402|recall=0.9339|f1=0.9371|aupr=0.9838\n",
      "Idx57 - model_layer2_multihead2_fold2.pkl: # layer = 2 | # heads = 2 | Fold = 2\n"
     ]
    },
    {
     "name": "stderr",
     "output_type": "stream",
     "text": [
      "  0%|          | 1/562 [00:00<01:08,  8.24it/s]"
     ]
    },
    {
     "name": "stdout",
     "output_type": "stream",
     "text": [
      "TRAIN Label info: Counter({1: 287329, 0: 287329})\n"
     ]
    },
    {
     "name": "stderr",
     "output_type": "stream",
     "text": [
      "100%|██████████| 562/562 [00:55<00:00, 10.18it/s]\n"
     ]
    },
    {
     "name": "stdout",
     "output_type": "stream",
     "text": [
      "tn = 268159, fp = 19170, fn = 18039, tp = 269290\n",
      "y_pred: 0 = 286198 | 1 = 288460\n",
      "y_true: 0 = 287329 | 1 = 287329\n",
      "auc=0.9831|sensitivity=0.9372|specificity=0.9333|acc=0.9353|mcc=0.8705\n",
      "precision=0.9335|recall=0.9372|f1=0.9354|aupr=0.9830\n",
      "Idx58 - model_layer2_multihead2_fold3.pkl: # layer = 2 | # heads = 2 | Fold = 3\n"
     ]
    },
    {
     "name": "stderr",
     "output_type": "stream",
     "text": [
      "  0%|          | 1/562 [00:00<01:09,  8.13it/s]"
     ]
    },
    {
     "name": "stdout",
     "output_type": "stream",
     "text": [
      "TRAIN Label info: Counter({0: 287329, 1: 287329})\n"
     ]
    },
    {
     "name": "stderr",
     "output_type": "stream",
     "text": [
      "100%|██████████| 562/562 [00:55<00:00, 10.22it/s]\n"
     ]
    },
    {
     "name": "stdout",
     "output_type": "stream",
     "text": [
      "tn = 265535, fp = 21794, fn = 15368, tp = 271961\n",
      "y_pred: 0 = 280903 | 1 = 293755\n",
      "y_true: 0 = 287329 | 1 = 287329\n",
      "auc=0.9834|sensitivity=0.9465|specificity=0.9241|acc=0.9353|mcc=0.8709\n",
      "precision=0.9258|recall=0.9465|f1=0.9360|aupr=0.9833\n",
      "Idx59 - model_layer2_multihead2_fold4.pkl: # layer = 2 | # heads = 2 | Fold = 4\n"
     ]
    },
    {
     "name": "stderr",
     "output_type": "stream",
     "text": [
      "  0%|          | 1/562 [00:00<01:14,  7.56it/s]"
     ]
    },
    {
     "name": "stdout",
     "output_type": "stream",
     "text": [
      "TRAIN Label info: Counter({1: 287348, 0: 287348})\n"
     ]
    },
    {
     "name": "stderr",
     "output_type": "stream",
     "text": [
      "100%|██████████| 562/562 [00:54<00:00, 10.37it/s]\n"
     ]
    },
    {
     "name": "stdout",
     "output_type": "stream",
     "text": [
      "tn = 268200, fp = 19148, fn = 17196, tp = 270152\n",
      "y_pred: 0 = 285396 | 1 = 289300\n",
      "y_true: 0 = 287348 | 1 = 287348\n",
      "auc=0.9835|sensitivity=0.9402|specificity=0.9334|acc=0.9368|mcc=0.8735\n",
      "precision=0.9338|recall=0.9402|f1=0.9370|aupr=0.9833\n",
      "Idx60 - model_layer2_multihead3_fold0.pkl: # layer = 2 | # heads = 3 | Fold = 0\n"
     ]
    },
    {
     "name": "stderr",
     "output_type": "stream",
     "text": [
      "  0%|          | 1/562 [00:00<01:24,  6.68it/s]"
     ]
    },
    {
     "name": "stdout",
     "output_type": "stream",
     "text": [
      "TRAIN Label info: Counter({0: 287329, 1: 287329})\n"
     ]
    },
    {
     "name": "stderr",
     "output_type": "stream",
     "text": [
      "100%|██████████| 562/562 [01:04<00:00,  8.71it/s]\n"
     ]
    },
    {
     "name": "stdout",
     "output_type": "stream",
     "text": [
      "tn = 268336, fp = 18993, fn = 16163, tp = 271166\n",
      "y_pred: 0 = 284499 | 1 = 290159\n",
      "y_true: 0 = 287329 | 1 = 287329\n",
      "auc=0.9841|sensitivity=0.9437|specificity=0.9339|acc=0.9388|mcc=0.8777\n",
      "precision=0.9345|recall=0.9437|f1=0.9391|aupr=0.9837\n",
      "Idx61 - model_layer2_multihead3_fold1.pkl: # layer = 2 | # heads = 3 | Fold = 1\n"
     ]
    },
    {
     "name": "stderr",
     "output_type": "stream",
     "text": [
      "  0%|          | 1/562 [00:00<01:28,  6.37it/s]"
     ]
    },
    {
     "name": "stdout",
     "output_type": "stream",
     "text": [
      "TRAIN Label info: Counter({0: 287329, 1: 287329})\n"
     ]
    },
    {
     "name": "stderr",
     "output_type": "stream",
     "text": [
      "100%|██████████| 562/562 [01:02<00:00,  8.95it/s]\n"
     ]
    },
    {
     "name": "stdout",
     "output_type": "stream",
     "text": [
      "tn = 270519, fp = 16810, fn = 18884, tp = 268445\n",
      "y_pred: 0 = 289403 | 1 = 285255\n",
      "y_true: 0 = 287329 | 1 = 287329\n",
      "auc=0.9843|sensitivity=0.9343|specificity=0.9415|acc=0.9379|mcc=0.8758\n",
      "precision=0.9411|recall=0.9343|f1=0.9377|aupr=0.9842\n",
      "Idx62 - model_layer2_multihead3_fold2.pkl: # layer = 2 | # heads = 3 | Fold = 2\n"
     ]
    },
    {
     "name": "stderr",
     "output_type": "stream",
     "text": [
      "  0%|          | 1/562 [00:00<01:28,  6.32it/s]"
     ]
    },
    {
     "name": "stdout",
     "output_type": "stream",
     "text": [
      "TRAIN Label info: Counter({1: 287329, 0: 287329})\n"
     ]
    },
    {
     "name": "stderr",
     "output_type": "stream",
     "text": [
      "100%|██████████| 562/562 [01:03<00:00,  8.80it/s]\n"
     ]
    },
    {
     "name": "stdout",
     "output_type": "stream",
     "text": [
      "tn = 268751, fp = 18578, fn = 17221, tp = 270108\n",
      "y_pred: 0 = 285972 | 1 = 288686\n",
      "y_true: 0 = 287329 | 1 = 287329\n",
      "auc=0.9841|sensitivity=0.9401|specificity=0.9353|acc=0.9377|mcc=0.8754\n",
      "precision=0.9356|recall=0.9401|f1=0.9379|aupr=0.9839\n",
      "Idx63 - model_layer2_multihead3_fold3.pkl: # layer = 2 | # heads = 3 | Fold = 3\n"
     ]
    },
    {
     "name": "stderr",
     "output_type": "stream",
     "text": [
      "  0%|          | 1/562 [00:00<01:26,  6.46it/s]"
     ]
    },
    {
     "name": "stdout",
     "output_type": "stream",
     "text": [
      "TRAIN Label info: Counter({0: 287329, 1: 287329})\n"
     ]
    },
    {
     "name": "stderr",
     "output_type": "stream",
     "text": [
      "100%|██████████| 562/562 [01:03<00:00,  8.78it/s]\n"
     ]
    },
    {
     "name": "stdout",
     "output_type": "stream",
     "text": [
      "tn = 265499, fp = 21830, fn = 14591, tp = 272738\n",
      "y_pred: 0 = 280090 | 1 = 294568\n",
      "y_true: 0 = 287329 | 1 = 287329\n",
      "auc=0.9840|sensitivity=0.9492|specificity=0.9240|acc=0.9366|mcc=0.8735\n",
      "precision=0.9259|recall=0.9492|f1=0.9374|aupr=0.9838\n",
      "Idx64 - model_layer2_multihead3_fold4.pkl: # layer = 2 | # heads = 3 | Fold = 4\n"
     ]
    },
    {
     "name": "stderr",
     "output_type": "stream",
     "text": [
      "  0%|          | 1/562 [00:00<01:20,  6.99it/s]"
     ]
    },
    {
     "name": "stdout",
     "output_type": "stream",
     "text": [
      "TRAIN Label info: Counter({1: 287348, 0: 287348})\n"
     ]
    },
    {
     "name": "stderr",
     "output_type": "stream",
     "text": [
      "100%|██████████| 562/562 [01:06<00:00,  8.41it/s]\n"
     ]
    },
    {
     "name": "stdout",
     "output_type": "stream",
     "text": [
      "tn = 266531, fp = 20817, fn = 13937, tp = 273411\n",
      "y_pred: 0 = 280468 | 1 = 294228\n",
      "y_true: 0 = 287348 | 1 = 287348\n",
      "auc=0.9851|sensitivity=0.9515|specificity=0.9276|acc=0.9395|mcc=0.8793\n",
      "precision=0.9292|recall=0.9515|f1=0.9402|aupr=0.9849\n",
      "Idx65 - model_layer2_multihead4_fold0.pkl: # layer = 2 | # heads = 4 | Fold = 0\n"
     ]
    },
    {
     "name": "stderr",
     "output_type": "stream",
     "text": [
      "  0%|          | 1/562 [00:00<01:45,  5.32it/s]"
     ]
    },
    {
     "name": "stdout",
     "output_type": "stream",
     "text": [
      "TRAIN Label info: Counter({0: 287329, 1: 287329})\n"
     ]
    },
    {
     "name": "stderr",
     "output_type": "stream",
     "text": [
      "100%|██████████| 562/562 [01:21<00:00,  6.89it/s]\n"
     ]
    },
    {
     "name": "stdout",
     "output_type": "stream",
     "text": [
      "tn = 270635, fp = 16694, fn = 17220, tp = 270109\n",
      "y_pred: 0 = 287855 | 1 = 286803\n",
      "y_true: 0 = 287329 | 1 = 287329\n",
      "auc=0.9857|sensitivity=0.9401|specificity=0.9419|acc=0.9410|mcc=0.8820\n",
      "precision=0.9418|recall=0.9401|f1=0.9409|aupr=0.9856\n",
      "Idx66 - model_layer2_multihead4_fold1.pkl: # layer = 2 | # heads = 4 | Fold = 1\n"
     ]
    },
    {
     "name": "stderr",
     "output_type": "stream",
     "text": [
      "  0%|          | 1/562 [00:00<01:42,  5.48it/s]"
     ]
    },
    {
     "name": "stdout",
     "output_type": "stream",
     "text": [
      "TRAIN Label info: Counter({0: 287329, 1: 287329})\n"
     ]
    },
    {
     "name": "stderr",
     "output_type": "stream",
     "text": [
      "100%|██████████| 562/562 [01:19<00:00,  7.04it/s]\n"
     ]
    },
    {
     "name": "stdout",
     "output_type": "stream",
     "text": [
      "tn = 270503, fp = 16826, fn = 18456, tp = 268873\n",
      "y_pred: 0 = 288959 | 1 = 285699\n",
      "y_true: 0 = 287329 | 1 = 287329\n",
      "auc=0.9844|sensitivity=0.9358|specificity=0.9414|acc=0.9386|mcc=0.8772\n",
      "precision=0.9411|recall=0.9358|f1=0.9384|aupr=0.9842\n",
      "Idx67 - model_layer2_multihead4_fold2.pkl: # layer = 2 | # heads = 4 | Fold = 2\n"
     ]
    },
    {
     "name": "stderr",
     "output_type": "stream",
     "text": [
      "  0%|          | 1/562 [00:00<01:45,  5.34it/s]"
     ]
    },
    {
     "name": "stdout",
     "output_type": "stream",
     "text": [
      "TRAIN Label info: Counter({1: 287329, 0: 287329})\n"
     ]
    },
    {
     "name": "stderr",
     "output_type": "stream",
     "text": [
      "100%|██████████| 562/562 [01:23<00:00,  6.70it/s]\n"
     ]
    },
    {
     "name": "stdout",
     "output_type": "stream",
     "text": [
      "tn = 266661, fp = 20668, fn = 15458, tp = 271871\n",
      "y_pred: 0 = 282119 | 1 = 292539\n",
      "y_true: 0 = 287329 | 1 = 287329\n",
      "auc=0.9842|sensitivity=0.9462|specificity=0.9281|acc=0.9371|mcc=0.8744\n",
      "precision=0.9293|recall=0.9462|f1=0.9377|aupr=0.9840\n",
      "Idx68 - model_layer2_multihead4_fold3.pkl: # layer = 2 | # heads = 4 | Fold = 3\n"
     ]
    },
    {
     "name": "stderr",
     "output_type": "stream",
     "text": [
      "  0%|          | 1/562 [00:00<01:47,  5.22it/s]"
     ]
    },
    {
     "name": "stdout",
     "output_type": "stream",
     "text": [
      "TRAIN Label info: Counter({0: 287329, 1: 287329})\n"
     ]
    },
    {
     "name": "stderr",
     "output_type": "stream",
     "text": [
      "100%|██████████| 562/562 [01:20<00:00,  6.95it/s]\n"
     ]
    },
    {
     "name": "stdout",
     "output_type": "stream",
     "text": [
      "tn = 263256, fp = 24073, fn = 13399, tp = 273930\n",
      "y_pred: 0 = 276655 | 1 = 298003\n",
      "y_true: 0 = 287329 | 1 = 287329\n",
      "auc=0.9840|sensitivity=0.9534|specificity=0.9162|acc=0.9348|mcc=0.8702\n",
      "precision=0.9192|recall=0.9534|f1=0.9360|aupr=0.9838\n",
      "Idx69 - model_layer2_multihead4_fold4.pkl: # layer = 2 | # heads = 4 | Fold = 4\n"
     ]
    },
    {
     "name": "stderr",
     "output_type": "stream",
     "text": [
      "  0%|          | 1/562 [00:00<01:50,  5.10it/s]"
     ]
    },
    {
     "name": "stdout",
     "output_type": "stream",
     "text": [
      "TRAIN Label info: Counter({1: 287348, 0: 287348})\n"
     ]
    },
    {
     "name": "stderr",
     "output_type": "stream",
     "text": [
      "100%|██████████| 562/562 [01:24<00:00,  6.66it/s]\n"
     ]
    },
    {
     "name": "stdout",
     "output_type": "stream",
     "text": [
      "tn = 269318, fp = 18030, fn = 16407, tp = 270941\n",
      "y_pred: 0 = 285725 | 1 = 288971\n",
      "y_true: 0 = 287348 | 1 = 287348\n",
      "auc=0.9851|sensitivity=0.9429|specificity=0.9373|acc=0.9401|mcc=0.8802\n",
      "precision=0.9376|recall=0.9429|f1=0.9402|aupr=0.9849\n",
      "Idx70 - model_layer2_multihead5_fold0.pkl: # layer = 2 | # heads = 5 | Fold = 0\n"
     ]
    },
    {
     "name": "stderr",
     "output_type": "stream",
     "text": [
      "\r",
      "  0%|          | 0/562 [00:00<?, ?it/s]"
     ]
    },
    {
     "name": "stdout",
     "output_type": "stream",
     "text": [
      "TRAIN Label info: Counter({0: 287329, 1: 287329})\n"
     ]
    },
    {
     "name": "stderr",
     "output_type": "stream",
     "text": [
      "100%|██████████| 562/562 [01:31<00:00,  6.14it/s]\n"
     ]
    },
    {
     "name": "stdout",
     "output_type": "stream",
     "text": [
      "tn = 265525, fp = 21804, fn = 13564, tp = 273765\n",
      "y_pred: 0 = 279089 | 1 = 295569\n",
      "y_true: 0 = 287329 | 1 = 287329\n",
      "auc=0.9850|sensitivity=0.9528|specificity=0.9241|acc=0.9385|mcc=0.8773\n",
      "precision=0.9262|recall=0.9528|f1=0.9393|aupr=0.9848\n",
      "Idx71 - model_layer2_multihead5_fold1.pkl: # layer = 2 | # heads = 5 | Fold = 1\n"
     ]
    },
    {
     "name": "stderr",
     "output_type": "stream",
     "text": [
      "\r",
      "  0%|          | 0/562 [00:00<?, ?it/s]"
     ]
    },
    {
     "name": "stdout",
     "output_type": "stream",
     "text": [
      "TRAIN Label info: Counter({0: 287329, 1: 287329})\n"
     ]
    },
    {
     "name": "stderr",
     "output_type": "stream",
     "text": [
      "100%|██████████| 562/562 [01:30<00:00,  6.21it/s]\n"
     ]
    },
    {
     "name": "stdout",
     "output_type": "stream",
     "text": [
      "tn = 268476, fp = 18853, fn = 15879, tp = 271450\n",
      "y_pred: 0 = 284355 | 1 = 290303\n",
      "y_true: 0 = 287329 | 1 = 287329\n",
      "auc=0.9850|sensitivity=0.9447|specificity=0.9344|acc=0.9396|mcc=0.8792\n",
      "precision=0.9351|recall=0.9447|f1=0.9399|aupr=0.9848\n",
      "Idx72 - model_layer2_multihead5_fold2.pkl: # layer = 2 | # heads = 5 | Fold = 2\n"
     ]
    },
    {
     "name": "stderr",
     "output_type": "stream",
     "text": [
      "\r",
      "  0%|          | 0/562 [00:00<?, ?it/s]"
     ]
    },
    {
     "name": "stdout",
     "output_type": "stream",
     "text": [
      "TRAIN Label info: Counter({1: 287329, 0: 287329})\n"
     ]
    },
    {
     "name": "stderr",
     "output_type": "stream",
     "text": [
      "100%|██████████| 562/562 [01:28<00:00,  6.38it/s]\n"
     ]
    },
    {
     "name": "stdout",
     "output_type": "stream",
     "text": [
      "tn = 268604, fp = 18725, fn = 16188, tp = 271141\n",
      "y_pred: 0 = 284792 | 1 = 289866\n",
      "y_true: 0 = 287329 | 1 = 287329\n",
      "auc=0.9849|sensitivity=0.9437|specificity=0.9348|acc=0.9392|mcc=0.8785\n",
      "precision=0.9354|recall=0.9437|f1=0.9395|aupr=0.9847\n",
      "Idx73 - model_layer2_multihead5_fold3.pkl: # layer = 2 | # heads = 5 | Fold = 3\n"
     ]
    },
    {
     "name": "stderr",
     "output_type": "stream",
     "text": [
      "\r",
      "  0%|          | 0/562 [00:00<?, ?it/s]"
     ]
    },
    {
     "name": "stdout",
     "output_type": "stream",
     "text": [
      "TRAIN Label info: Counter({0: 287329, 1: 287329})\n"
     ]
    },
    {
     "name": "stderr",
     "output_type": "stream",
     "text": [
      "100%|██████████| 562/562 [01:28<00:00,  6.32it/s]\n"
     ]
    },
    {
     "name": "stdout",
     "output_type": "stream",
     "text": [
      "tn = 267837, fp = 19492, fn = 15963, tp = 271366\n",
      "y_pred: 0 = 283800 | 1 = 290858\n",
      "y_true: 0 = 287329 | 1 = 287329\n",
      "auc=0.9847|sensitivity=0.9444|specificity=0.9322|acc=0.9383|mcc=0.8767\n",
      "precision=0.9330|recall=0.9444|f1=0.9387|aupr=0.9845\n",
      "Idx74 - model_layer2_multihead5_fold4.pkl: # layer = 2 | # heads = 5 | Fold = 4\n"
     ]
    },
    {
     "name": "stderr",
     "output_type": "stream",
     "text": [
      "\r",
      "  0%|          | 0/562 [00:00<?, ?it/s]"
     ]
    },
    {
     "name": "stdout",
     "output_type": "stream",
     "text": [
      "TRAIN Label info: Counter({1: 287348, 0: 287348})\n"
     ]
    },
    {
     "name": "stderr",
     "output_type": "stream",
     "text": [
      "100%|██████████| 562/562 [01:28<00:00,  6.35it/s]\n"
     ]
    },
    {
     "name": "stdout",
     "output_type": "stream",
     "text": [
      "tn = 270772, fp = 16576, fn = 17548, tp = 269800\n",
      "y_pred: 0 = 288320 | 1 = 286376\n",
      "y_true: 0 = 287348 | 1 = 287348\n",
      "auc=0.9856|sensitivity=0.9389|specificity=0.9423|acc=0.9406|mcc=0.8813\n",
      "precision=0.9421|recall=0.9389|f1=0.9405|aupr=0.9854\n",
      "Idx75 - model_layer2_multihead6_fold0.pkl: # layer = 2 | # heads = 6 | Fold = 0\n"
     ]
    },
    {
     "name": "stderr",
     "output_type": "stream",
     "text": [
      "\r",
      "  0%|          | 0/562 [00:00<?, ?it/s]"
     ]
    },
    {
     "name": "stdout",
     "output_type": "stream",
     "text": [
      "TRAIN Label info: Counter({0: 287329, 1: 287329})\n"
     ]
    },
    {
     "name": "stderr",
     "output_type": "stream",
     "text": [
      "100%|██████████| 562/562 [01:39<00:00,  5.67it/s]\n"
     ]
    },
    {
     "name": "stdout",
     "output_type": "stream",
     "text": [
      "tn = 271156, fp = 16173, fn = 18441, tp = 268888\n",
      "y_pred: 0 = 289597 | 1 = 285061\n",
      "y_true: 0 = 287329 | 1 = 287329\n",
      "auc=0.9854|sensitivity=0.9358|specificity=0.9437|acc=0.9398|mcc=0.8796\n",
      "precision=0.9433|recall=0.9358|f1=0.9395|aupr=0.9853\n",
      "Idx76 - model_layer2_multihead6_fold1.pkl: # layer = 2 | # heads = 6 | Fold = 1\n"
     ]
    },
    {
     "name": "stderr",
     "output_type": "stream",
     "text": [
      "\r",
      "  0%|          | 0/562 [00:00<?, ?it/s]"
     ]
    },
    {
     "name": "stdout",
     "output_type": "stream",
     "text": [
      "TRAIN Label info: Counter({0: 287329, 1: 287329})\n"
     ]
    },
    {
     "name": "stderr",
     "output_type": "stream",
     "text": [
      "100%|██████████| 562/562 [01:37<00:00,  5.74it/s]\n"
     ]
    },
    {
     "name": "stdout",
     "output_type": "stream",
     "text": [
      "tn = 270244, fp = 17085, fn = 16277, tp = 271052\n",
      "y_pred: 0 = 286521 | 1 = 288137\n",
      "y_true: 0 = 287329 | 1 = 287329\n",
      "auc=0.9860|sensitivity=0.9434|specificity=0.9405|acc=0.9419|mcc=0.8839\n",
      "precision=0.9407|recall=0.9434|f1=0.9420|aupr=0.9859\n",
      "Idx77 - model_layer2_multihead6_fold2.pkl: # layer = 2 | # heads = 6 | Fold = 2\n"
     ]
    },
    {
     "name": "stderr",
     "output_type": "stream",
     "text": [
      "\r",
      "  0%|          | 0/562 [00:00<?, ?it/s]"
     ]
    },
    {
     "name": "stdout",
     "output_type": "stream",
     "text": [
      "TRAIN Label info: Counter({1: 287329, 0: 287329})\n"
     ]
    },
    {
     "name": "stderr",
     "output_type": "stream",
     "text": [
      "100%|██████████| 562/562 [01:36<00:00,  5.80it/s]\n"
     ]
    },
    {
     "name": "stdout",
     "output_type": "stream",
     "text": [
      "tn = 267856, fp = 19473, fn = 14882, tp = 272447\n",
      "y_pred: 0 = 282738 | 1 = 291920\n",
      "y_true: 0 = 287329 | 1 = 287329\n",
      "auc=0.9857|sensitivity=0.9482|specificity=0.9322|acc=0.9402|mcc=0.8805\n",
      "precision=0.9333|recall=0.9482|f1=0.9407|aupr=0.9855\n",
      "Idx78 - model_layer2_multihead6_fold3.pkl: # layer = 2 | # heads = 6 | Fold = 3\n"
     ]
    },
    {
     "name": "stderr",
     "output_type": "stream",
     "text": [
      "\r",
      "  0%|          | 0/562 [00:00<?, ?it/s]"
     ]
    },
    {
     "name": "stdout",
     "output_type": "stream",
     "text": [
      "TRAIN Label info: Counter({0: 287329, 1: 287329})\n"
     ]
    },
    {
     "name": "stderr",
     "output_type": "stream",
     "text": [
      "100%|██████████| 562/562 [01:38<00:00,  5.71it/s]\n"
     ]
    },
    {
     "name": "stdout",
     "output_type": "stream",
     "text": [
      "tn = 268445, fp = 18884, fn = 16011, tp = 271318\n",
      "y_pred: 0 = 284456 | 1 = 290202\n",
      "y_true: 0 = 287329 | 1 = 287329\n",
      "auc=0.9849|sensitivity=0.9443|specificity=0.9343|acc=0.9393|mcc=0.8786\n",
      "precision=0.9349|recall=0.9443|f1=0.9396|aupr=0.9847\n",
      "Idx79 - model_layer2_multihead6_fold4.pkl: # layer = 2 | # heads = 6 | Fold = 4\n"
     ]
    },
    {
     "name": "stderr",
     "output_type": "stream",
     "text": [
      "\r",
      "  0%|          | 0/562 [00:00<?, ?it/s]"
     ]
    },
    {
     "name": "stdout",
     "output_type": "stream",
     "text": [
      "TRAIN Label info: Counter({1: 287348, 0: 287348})\n"
     ]
    },
    {
     "name": "stderr",
     "output_type": "stream",
     "text": [
      "100%|██████████| 562/562 [01:38<00:00,  5.73it/s]\n"
     ]
    },
    {
     "name": "stdout",
     "output_type": "stream",
     "text": [
      "tn = 270411, fp = 16937, fn = 16402, tp = 270946\n",
      "y_pred: 0 = 286813 | 1 = 287883\n",
      "y_true: 0 = 287348 | 1 = 287348\n",
      "auc=0.9861|sensitivity=0.9429|specificity=0.9411|acc=0.9420|mcc=0.8840\n",
      "precision=0.9412|recall=0.9429|f1=0.9420|aupr=0.9860\n",
      "Idx80 - model_layer2_multihead7_fold0.pkl: # layer = 2 | # heads = 7 | Fold = 0\n"
     ]
    },
    {
     "name": "stderr",
     "output_type": "stream",
     "text": [
      "\r",
      "  0%|          | 0/562 [00:00<?, ?it/s]"
     ]
    },
    {
     "name": "stdout",
     "output_type": "stream",
     "text": [
      "TRAIN Label info: Counter({0: 287329, 1: 287329})\n"
     ]
    },
    {
     "name": "stderr",
     "output_type": "stream",
     "text": [
      "100%|██████████| 562/562 [01:52<00:00,  5.01it/s]\n"
     ]
    },
    {
     "name": "stdout",
     "output_type": "stream",
     "text": [
      "tn = 268606, fp = 18723, fn = 15014, tp = 272315\n",
      "y_pred: 0 = 283620 | 1 = 291038\n",
      "y_true: 0 = 287329 | 1 = 287329\n",
      "auc=0.9859|sensitivity=0.9477|specificity=0.9348|acc=0.9413|mcc=0.8827\n",
      "precision=0.9357|recall=0.9477|f1=0.9417|aupr=0.9858\n",
      "Idx81 - model_layer2_multihead7_fold1.pkl: # layer = 2 | # heads = 7 | Fold = 1\n"
     ]
    },
    {
     "name": "stderr",
     "output_type": "stream",
     "text": [
      "\r",
      "  0%|          | 0/562 [00:00<?, ?it/s]"
     ]
    },
    {
     "name": "stdout",
     "output_type": "stream",
     "text": [
      "TRAIN Label info: Counter({0: 287329, 1: 287329})\n"
     ]
    },
    {
     "name": "stderr",
     "output_type": "stream",
     "text": [
      "100%|██████████| 562/562 [01:51<00:00,  5.06it/s]\n"
     ]
    },
    {
     "name": "stdout",
     "output_type": "stream",
     "text": [
      "tn = 271076, fp = 16253, fn = 17741, tp = 269588\n",
      "y_pred: 0 = 288817 | 1 = 285841\n",
      "y_true: 0 = 287329 | 1 = 287329\n",
      "auc=0.9858|sensitivity=0.9383|specificity=0.9434|acc=0.9408|mcc=0.8817\n",
      "precision=0.9431|recall=0.9383|f1=0.9407|aupr=0.9855\n",
      "Idx82 - model_layer2_multihead7_fold2.pkl: # layer = 2 | # heads = 7 | Fold = 2\n"
     ]
    },
    {
     "name": "stderr",
     "output_type": "stream",
     "text": [
      "\r",
      "  0%|          | 0/562 [00:00<?, ?it/s]"
     ]
    },
    {
     "name": "stdout",
     "output_type": "stream",
     "text": [
      "TRAIN Label info: Counter({1: 287329, 0: 287329})\n"
     ]
    },
    {
     "name": "stderr",
     "output_type": "stream",
     "text": [
      "100%|██████████| 562/562 [01:48<00:00,  5.17it/s]\n"
     ]
    },
    {
     "name": "stdout",
     "output_type": "stream",
     "text": [
      "tn = 265902, fp = 21427, fn = 13503, tp = 273826\n",
      "y_pred: 0 = 279405 | 1 = 295253\n",
      "y_true: 0 = 287329 | 1 = 287329\n",
      "auc=0.9856|sensitivity=0.9530|specificity=0.9254|acc=0.9392|mcc=0.8788\n",
      "precision=0.9274|recall=0.9530|f1=0.9400|aupr=0.9855\n",
      "Idx83 - model_layer2_multihead7_fold3.pkl: # layer = 2 | # heads = 7 | Fold = 3\n"
     ]
    },
    {
     "name": "stderr",
     "output_type": "stream",
     "text": [
      "\r",
      "  0%|          | 0/562 [00:00<?, ?it/s]"
     ]
    },
    {
     "name": "stdout",
     "output_type": "stream",
     "text": [
      "TRAIN Label info: Counter({0: 287329, 1: 287329})\n"
     ]
    },
    {
     "name": "stderr",
     "output_type": "stream",
     "text": [
      "100%|██████████| 562/562 [01:54<00:00,  4.92it/s]\n"
     ]
    },
    {
     "name": "stdout",
     "output_type": "stream",
     "text": [
      "tn = 265499, fp = 21830, fn = 12927, tp = 274402\n",
      "y_pred: 0 = 278426 | 1 = 296232\n",
      "y_true: 0 = 287329 | 1 = 287329\n",
      "auc=0.9859|sensitivity=0.9550|specificity=0.9240|acc=0.9395|mcc=0.8795\n",
      "precision=0.9263|recall=0.9550|f1=0.9404|aupr=0.9858\n",
      "Idx84 - model_layer2_multihead7_fold4.pkl: # layer = 2 | # heads = 7 | Fold = 4\n"
     ]
    },
    {
     "name": "stderr",
     "output_type": "stream",
     "text": [
      "\r",
      "  0%|          | 0/562 [00:00<?, ?it/s]"
     ]
    },
    {
     "name": "stdout",
     "output_type": "stream",
     "text": [
      "TRAIN Label info: Counter({1: 287348, 0: 287348})\n"
     ]
    },
    {
     "name": "stderr",
     "output_type": "stream",
     "text": [
      "100%|██████████| 562/562 [01:49<00:00,  5.11it/s]\n"
     ]
    },
    {
     "name": "stdout",
     "output_type": "stream",
     "text": [
      "tn = 271265, fp = 16083, fn = 16931, tp = 270417\n",
      "y_pred: 0 = 288196 | 1 = 286500\n",
      "y_true: 0 = 287348 | 1 = 287348\n",
      "auc=0.9865|sensitivity=0.9411|specificity=0.9440|acc=0.9426|mcc=0.8851\n",
      "precision=0.9439|recall=0.9411|f1=0.9425|aupr=0.9864\n",
      "Idx85 - model_layer2_multihead8_fold0.pkl: # layer = 2 | # heads = 8 | Fold = 0\n"
     ]
    },
    {
     "name": "stderr",
     "output_type": "stream",
     "text": [
      "\r",
      "  0%|          | 0/562 [00:00<?, ?it/s]"
     ]
    },
    {
     "name": "stdout",
     "output_type": "stream",
     "text": [
      "TRAIN Label info: Counter({0: 287329, 1: 287329})\n"
     ]
    },
    {
     "name": "stderr",
     "output_type": "stream",
     "text": [
      "100%|██████████| 562/562 [02:09<00:00,  4.35it/s]\n"
     ]
    },
    {
     "name": "stdout",
     "output_type": "stream",
     "text": [
      "tn = 268868, fp = 18461, fn = 14102, tp = 273227\n",
      "y_pred: 0 = 282970 | 1 = 291688\n",
      "y_true: 0 = 287329 | 1 = 287329\n",
      "auc=0.9870|sensitivity=0.9509|specificity=0.9357|acc=0.9433|mcc=0.8868\n",
      "precision=0.9367|recall=0.9509|f1=0.9438|aupr=0.9869\n",
      "Idx86 - model_layer2_multihead8_fold1.pkl: # layer = 2 | # heads = 8 | Fold = 1\n"
     ]
    },
    {
     "name": "stderr",
     "output_type": "stream",
     "text": [
      "\r",
      "  0%|          | 0/562 [00:00<?, ?it/s]"
     ]
    },
    {
     "name": "stdout",
     "output_type": "stream",
     "text": [
      "TRAIN Label info: Counter({0: 287329, 1: 287329})\n"
     ]
    },
    {
     "name": "stderr",
     "output_type": "stream",
     "text": [
      "100%|██████████| 562/562 [02:04<00:00,  4.50it/s]\n"
     ]
    },
    {
     "name": "stdout",
     "output_type": "stream",
     "text": [
      "tn = 272254, fp = 15075, fn = 17961, tp = 269368\n",
      "y_pred: 0 = 290215 | 1 = 284443\n",
      "y_true: 0 = 287329 | 1 = 287329\n",
      "auc=0.9866|sensitivity=0.9375|specificity=0.9475|acc=0.9425|mcc=0.8851\n",
      "precision=0.9470|recall=0.9375|f1=0.9422|aupr=0.9866\n",
      "Idx87 - model_layer2_multihead8_fold2.pkl: # layer = 2 | # heads = 8 | Fold = 2\n"
     ]
    },
    {
     "name": "stderr",
     "output_type": "stream",
     "text": [
      "\r",
      "  0%|          | 0/562 [00:00<?, ?it/s]"
     ]
    },
    {
     "name": "stdout",
     "output_type": "stream",
     "text": [
      "TRAIN Label info: Counter({1: 287329, 0: 287329})\n"
     ]
    },
    {
     "name": "stderr",
     "output_type": "stream",
     "text": [
      "100%|██████████| 562/562 [02:06<00:00,  4.46it/s]\n"
     ]
    },
    {
     "name": "stdout",
     "output_type": "stream",
     "text": [
      "tn = 269970, fp = 17359, fn = 16427, tp = 270902\n",
      "y_pred: 0 = 286397 | 1 = 288261\n",
      "y_true: 0 = 287329 | 1 = 287329\n",
      "auc=0.9860|sensitivity=0.9428|specificity=0.9396|acc=0.9412|mcc=0.8824\n",
      "precision=0.9398|recall=0.9428|f1=0.9413|aupr=0.9858\n",
      "Idx88 - model_layer2_multihead8_fold3.pkl: # layer = 2 | # heads = 8 | Fold = 3\n"
     ]
    },
    {
     "name": "stderr",
     "output_type": "stream",
     "text": [
      "\r",
      "  0%|          | 0/562 [00:00<?, ?it/s]"
     ]
    },
    {
     "name": "stdout",
     "output_type": "stream",
     "text": [
      "TRAIN Label info: Counter({0: 287329, 1: 287329})\n"
     ]
    },
    {
     "name": "stderr",
     "output_type": "stream",
     "text": [
      "100%|██████████| 562/562 [02:04<00:00,  4.50it/s]\n"
     ]
    },
    {
     "name": "stdout",
     "output_type": "stream",
     "text": [
      "tn = 267224, fp = 20105, fn = 14137, tp = 273192\n",
      "y_pred: 0 = 281361 | 1 = 293297\n",
      "y_true: 0 = 287329 | 1 = 287329\n",
      "auc=0.9859|sensitivity=0.9508|specificity=0.9300|acc=0.9404|mcc=0.8810\n",
      "precision=0.9315|recall=0.9508|f1=0.9410|aupr=0.9857\n",
      "Idx89 - model_layer2_multihead8_fold4.pkl: # layer = 2 | # heads = 8 | Fold = 4\n"
     ]
    },
    {
     "name": "stderr",
     "output_type": "stream",
     "text": [
      "\r",
      "  0%|          | 0/562 [00:00<?, ?it/s]"
     ]
    },
    {
     "name": "stdout",
     "output_type": "stream",
     "text": [
      "TRAIN Label info: Counter({1: 287348, 0: 287348})\n"
     ]
    },
    {
     "name": "stderr",
     "output_type": "stream",
     "text": [
      "100%|██████████| 562/562 [02:08<00:00,  4.38it/s]\n"
     ]
    },
    {
     "name": "stdout",
     "output_type": "stream",
     "text": [
      "tn = 270145, fp = 17203, fn = 15495, tp = 271853\n",
      "y_pred: 0 = 285640 | 1 = 289056\n",
      "y_true: 0 = 287348 | 1 = 287348\n",
      "auc=0.9867|sensitivity=0.9461|specificity=0.9401|acc=0.9431|mcc=0.8862\n",
      "precision=0.9405|recall=0.9461|f1=0.9433|aupr=0.9866\n",
      "Idx90 - model_layer2_multihead9_fold0.pkl: # layer = 2 | # heads = 9 | Fold = 0\n"
     ]
    },
    {
     "name": "stderr",
     "output_type": "stream",
     "text": [
      "\r",
      "  0%|          | 0/562 [00:00<?, ?it/s]"
     ]
    },
    {
     "name": "stdout",
     "output_type": "stream",
     "text": [
      "TRAIN Label info: Counter({0: 287329, 1: 287329})\n"
     ]
    },
    {
     "name": "stderr",
     "output_type": "stream",
     "text": [
      "100%|██████████| 562/562 [02:15<00:00,  4.13it/s]\n"
     ]
    },
    {
     "name": "stdout",
     "output_type": "stream",
     "text": [
      "tn = 269838, fp = 17491, fn = 15473, tp = 271856\n",
      "y_pred: 0 = 285311 | 1 = 289347\n",
      "y_true: 0 = 287329 | 1 = 287329\n",
      "auc=0.9866|sensitivity=0.9461|specificity=0.9391|acc=0.9426|mcc=0.8853\n",
      "precision=0.9396|recall=0.9461|f1=0.9428|aupr=0.9864\n",
      "Idx91 - model_layer2_multihead9_fold1.pkl: # layer = 2 | # heads = 9 | Fold = 1\n"
     ]
    },
    {
     "name": "stderr",
     "output_type": "stream",
     "text": [
      "\r",
      "  0%|          | 0/562 [00:00<?, ?it/s]"
     ]
    },
    {
     "name": "stdout",
     "output_type": "stream",
     "text": [
      "TRAIN Label info: Counter({0: 287329, 1: 287329})\n"
     ]
    },
    {
     "name": "stderr",
     "output_type": "stream",
     "text": [
      "100%|██████████| 562/562 [02:14<00:00,  4.19it/s]\n"
     ]
    },
    {
     "name": "stdout",
     "output_type": "stream",
     "text": [
      "tn = 271312, fp = 16017, fn = 16997, tp = 270332\n",
      "y_pred: 0 = 288309 | 1 = 286349\n",
      "y_true: 0 = 287329 | 1 = 287329\n",
      "auc=0.9864|sensitivity=0.9408|specificity=0.9443|acc=0.9426|mcc=0.8851\n",
      "precision=0.9441|recall=0.9408|f1=0.9425|aupr=0.9863\n",
      "Idx92 - model_layer2_multihead9_fold2.pkl: # layer = 2 | # heads = 9 | Fold = 2\n"
     ]
    },
    {
     "name": "stderr",
     "output_type": "stream",
     "text": [
      "\r",
      "  0%|          | 0/562 [00:00<?, ?it/s]"
     ]
    },
    {
     "name": "stdout",
     "output_type": "stream",
     "text": [
      "TRAIN Label info: Counter({1: 287329, 0: 287329})\n"
     ]
    },
    {
     "name": "stderr",
     "output_type": "stream",
     "text": [
      "100%|██████████| 562/562 [02:18<00:00,  4.06it/s]\n"
     ]
    },
    {
     "name": "stdout",
     "output_type": "stream",
     "text": [
      "tn = 265581, fp = 21748, fn = 13086, tp = 274243\n",
      "y_pred: 0 = 278667 | 1 = 295991\n",
      "y_true: 0 = 287329 | 1 = 287329\n",
      "auc=0.9857|sensitivity=0.9545|specificity=0.9243|acc=0.9394|mcc=0.8792\n",
      "precision=0.9265|recall=0.9545|f1=0.9403|aupr=0.9856\n",
      "Idx93 - model_layer2_multihead9_fold3.pkl: # layer = 2 | # heads = 9 | Fold = 3\n"
     ]
    },
    {
     "name": "stderr",
     "output_type": "stream",
     "text": [
      "\r",
      "  0%|          | 0/562 [00:00<?, ?it/s]"
     ]
    },
    {
     "name": "stdout",
     "output_type": "stream",
     "text": [
      "TRAIN Label info: Counter({0: 287329, 1: 287329})\n"
     ]
    },
    {
     "name": "stderr",
     "output_type": "stream",
     "text": [
      "100%|██████████| 562/562 [02:14<00:00,  4.17it/s]\n"
     ]
    },
    {
     "name": "stdout",
     "output_type": "stream",
     "text": [
      "tn = 269677, fp = 17652, fn = 14557, tp = 272772\n",
      "y_pred: 0 = 284234 | 1 = 290424\n",
      "y_true: 0 = 287329 | 1 = 287329\n",
      "auc=0.9873|sensitivity=0.9493|specificity=0.9386|acc=0.9440|mcc=0.8880\n",
      "precision=0.9392|recall=0.9493|f1=0.9443|aupr=0.9873\n",
      "Idx94 - model_layer2_multihead9_fold4.pkl: # layer = 2 | # heads = 9 | Fold = 4\n"
     ]
    },
    {
     "name": "stderr",
     "output_type": "stream",
     "text": [
      "\r",
      "  0%|          | 0/562 [00:00<?, ?it/s]"
     ]
    },
    {
     "name": "stdout",
     "output_type": "stream",
     "text": [
      "TRAIN Label info: Counter({1: 287348, 0: 287348})\n"
     ]
    },
    {
     "name": "stderr",
     "output_type": "stream",
     "text": [
      "100%|██████████| 562/562 [02:20<00:00,  4.00it/s]\n"
     ]
    },
    {
     "name": "stdout",
     "output_type": "stream",
     "text": [
      "tn = 269448, fp = 17900, fn = 14676, tp = 272672\n",
      "y_pred: 0 = 284124 | 1 = 290572\n",
      "y_true: 0 = 287348 | 1 = 287348\n",
      "auc=0.9869|sensitivity=0.9489|specificity=0.9377|acc=0.9433|mcc=0.8867\n",
      "precision=0.9384|recall=0.9489|f1=0.9436|aupr=0.9868\n",
      "Idx95 - model_layer2_multihead10_fold0.pkl: # layer = 2 | # heads = 10 | Fold = 0\n"
     ]
    },
    {
     "name": "stderr",
     "output_type": "stream",
     "text": [
      "\r",
      "  0%|          | 0/562 [00:00<?, ?it/s]"
     ]
    },
    {
     "name": "stdout",
     "output_type": "stream",
     "text": [
      "TRAIN Label info: Counter({0: 287329, 1: 287329})\n"
     ]
    },
    {
     "name": "stderr",
     "output_type": "stream",
     "text": [
      "100%|██████████| 562/562 [02:26<00:00,  3.82it/s]\n"
     ]
    },
    {
     "name": "stdout",
     "output_type": "stream",
     "text": [
      "tn = 270233, fp = 17096, fn = 15669, tp = 271660\n",
      "y_pred: 0 = 285902 | 1 = 288756\n",
      "y_true: 0 = 287329 | 1 = 287329\n",
      "auc=0.9867|sensitivity=0.9455|specificity=0.9405|acc=0.9430|mcc=0.8860\n",
      "precision=0.9408|recall=0.9455|f1=0.9431|aupr=0.9865\n",
      "Idx96 - model_layer2_multihead10_fold1.pkl: # layer = 2 | # heads = 10 | Fold = 1\n"
     ]
    },
    {
     "name": "stderr",
     "output_type": "stream",
     "text": [
      "\r",
      "  0%|          | 0/562 [00:00<?, ?it/s]"
     ]
    },
    {
     "name": "stdout",
     "output_type": "stream",
     "text": [
      "TRAIN Label info: Counter({0: 287329, 1: 287329})\n"
     ]
    },
    {
     "name": "stderr",
     "output_type": "stream",
     "text": [
      "100%|██████████| 562/562 [02:24<00:00,  3.88it/s]\n"
     ]
    },
    {
     "name": "stdout",
     "output_type": "stream",
     "text": [
      "tn = 269666, fp = 17663, fn = 14973, tp = 272356\n",
      "y_pred: 0 = 284639 | 1 = 290019\n",
      "y_true: 0 = 287329 | 1 = 287329\n",
      "auc=0.9869|sensitivity=0.9479|specificity=0.9385|acc=0.9432|mcc=0.8865\n",
      "precision=0.9391|recall=0.9479|f1=0.9435|aupr=0.9867\n",
      "Idx97 - model_layer2_multihead10_fold2.pkl: # layer = 2 | # heads = 10 | Fold = 2\n"
     ]
    },
    {
     "name": "stderr",
     "output_type": "stream",
     "text": [
      "\r",
      "  0%|          | 0/562 [00:00<?, ?it/s]"
     ]
    },
    {
     "name": "stdout",
     "output_type": "stream",
     "text": [
      "TRAIN Label info: Counter({1: 287329, 0: 287329})\n"
     ]
    },
    {
     "name": "stderr",
     "output_type": "stream",
     "text": [
      "100%|██████████| 562/562 [02:25<00:00,  3.86it/s]\n"
     ]
    },
    {
     "name": "stdout",
     "output_type": "stream",
     "text": [
      "tn = 268540, fp = 18789, fn = 14322, tp = 273007\n",
      "y_pred: 0 = 282862 | 1 = 291796\n",
      "y_true: 0 = 287329 | 1 = 287329\n",
      "auc=0.9866|sensitivity=0.9502|specificity=0.9346|acc=0.9424|mcc=0.8849\n",
      "precision=0.9356|recall=0.9502|f1=0.9428|aupr=0.9866\n",
      "Idx98 - model_layer2_multihead10_fold3.pkl: # layer = 2 | # heads = 10 | Fold = 3\n"
     ]
    },
    {
     "name": "stderr",
     "output_type": "stream",
     "text": [
      "\r",
      "  0%|          | 0/562 [00:00<?, ?it/s]"
     ]
    },
    {
     "name": "stdout",
     "output_type": "stream",
     "text": [
      "TRAIN Label info: Counter({0: 287329, 1: 287329})\n"
     ]
    },
    {
     "name": "stderr",
     "output_type": "stream",
     "text": [
      "100%|██████████| 562/562 [02:23<00:00,  3.92it/s]\n"
     ]
    },
    {
     "name": "stdout",
     "output_type": "stream",
     "text": [
      "tn = 270455, fp = 16874, fn = 17161, tp = 270168\n",
      "y_pred: 0 = 287616 | 1 = 287042\n",
      "y_true: 0 = 287329 | 1 = 287329\n",
      "auc=0.9860|sensitivity=0.9403|specificity=0.9413|acc=0.9408|mcc=0.8815\n",
      "precision=0.9412|recall=0.9403|f1=0.9407|aupr=0.9860\n",
      "Idx99 - model_layer2_multihead10_fold4.pkl: # layer = 2 | # heads = 10 | Fold = 4\n"
     ]
    },
    {
     "name": "stderr",
     "output_type": "stream",
     "text": [
      "\r",
      "  0%|          | 0/562 [00:00<?, ?it/s]"
     ]
    },
    {
     "name": "stdout",
     "output_type": "stream",
     "text": [
      "TRAIN Label info: Counter({1: 287348, 0: 287348})\n"
     ]
    },
    {
     "name": "stderr",
     "output_type": "stream",
     "text": [
      "100%|██████████| 562/562 [02:24<00:00,  3.90it/s]\n"
     ]
    },
    {
     "name": "stdout",
     "output_type": "stream",
     "text": [
      "tn = 270069, fp = 17279, fn = 14986, tp = 272362\n",
      "y_pred: 0 = 285055 | 1 = 289641\n",
      "y_true: 0 = 287348 | 1 = 287348\n",
      "auc=0.9872|sensitivity=0.9478|specificity=0.9399|acc=0.9439|mcc=0.8877\n",
      "precision=0.9403|recall=0.9478|f1=0.9441|aupr=0.9870\n"
     ]
    }
   ],
   "source": [
    "type_ = 'train'\n",
    "save_ = False\n",
    "use_cuda = False\n",
    "device = torch.device(\"cuda\" if use_cuda else \"cpu\")\n",
    "\n",
    "train_metrics_dict, train_ys_dict, train_attns_dict = {}, {}, {}\n",
    "for idx, filename in enumerate(model_files):\n",
    "    n_layers, n_heads, fold = model_layers_heads[idx]\n",
    "    n_layers, n_heads, fold = int(n_layers), int(n_heads), int(fold)\n",
    "    temp =  str(n_layers) + '-' + str(n_heads) + '-' + str(fold)\n",
    "    print('Idx{} - {}: # layer = {} | # heads = {} | Fold = {}'.format(idx, filename, n_layers, n_heads, fold))\n",
    "    \n",
    "    model_eval = Transformer().to(device)\n",
    "    criterion = nn.CrossEntropyLoss()\n",
    "    model_pwd = '/home/chujunyi/5_ZY_MHC/model/pHLAIformer/'\n",
    "    model_eval.load_state_dict(torch.load(model_pwd + filename), strict = True)\n",
    "\n",
    "    if type_ == 'train' or type_ == 'val':\n",
    "        data, pep_inputs, hla_inputs, labels, loader = data_with_loader(type_, fold,  batch_size)\n",
    "    else:\n",
    "        data, pep_inputs, hla_inputs, labels, loader = data_with_loader(type_, None, batch_size)\n",
    "    print('{} Label info: {}'.format(str.upper(type_), Counter(data.label)))\n",
    "\n",
    "    model_eval.eval()\n",
    "    if save_:\n",
    "        train_metrics_res, train_ys_res, train_attn_res = eval_step(model_eval, loader, labels, fold, type_, use_cuda, save_)\n",
    "        train_metrics_dict[temp], train_ys_dict[temp], train_attns_dict[temp] = train_metrics_res, train_ys_res, train_attn_res\n",
    "    else:\n",
    "        train_metrics_res, _, _ = eval_step(model_eval, loader, labels, fold, type_, use_cuda, save_)\n",
    "        train_metrics_dict[temp] = train_metrics_res\n",
    "train_metrics_pd = performances_to_pd(train_metrics_dict)"
   ]
  },
  {
   "cell_type": "code",
   "execution_count": 34,
   "metadata": {
    "scrolled": true
   },
   "outputs": [
    {
     "data": {
      "text/html": [
       "<div>\n",
       "<style scoped>\n",
       "    .dataframe tbody tr th:only-of-type {\n",
       "        vertical-align: middle;\n",
       "    }\n",
       "\n",
       "    .dataframe tbody tr th {\n",
       "        vertical-align: top;\n",
       "    }\n",
       "\n",
       "    .dataframe thead th {\n",
       "        text-align: right;\n",
       "    }\n",
       "</style>\n",
       "<table border=\"1\" class=\"dataframe\">\n",
       "  <thead>\n",
       "    <tr style=\"text-align: right;\">\n",
       "      <th></th>\n",
       "      <th>roc_auc</th>\n",
       "      <th>accuracy</th>\n",
       "      <th>mcc</th>\n",
       "      <th>f1</th>\n",
       "      <th>sensitivity</th>\n",
       "      <th>specificity</th>\n",
       "      <th>precision</th>\n",
       "      <th>recall</th>\n",
       "      <th>aupr</th>\n",
       "    </tr>\n",
       "  </thead>\n",
       "  <tbody>\n",
       "    <tr>\n",
       "      <th>1-1-0</th>\n",
       "      <td>0.980921</td>\n",
       "      <td>0.933992</td>\n",
       "      <td>0.867989</td>\n",
       "      <td>0.934105</td>\n",
       "      <td>0.935711</td>\n",
       "      <td>0.932273</td>\n",
       "      <td>0.932505</td>\n",
       "      <td>0.935711</td>\n",
       "      <td>0.980809</td>\n",
       "    </tr>\n",
       "    <tr>\n",
       "      <th>1-1-1</th>\n",
       "      <td>0.980461</td>\n",
       "      <td>0.932024</td>\n",
       "      <td>0.864072</td>\n",
       "      <td>0.932276</td>\n",
       "      <td>0.935753</td>\n",
       "      <td>0.928295</td>\n",
       "      <td>0.928826</td>\n",
       "      <td>0.935753</td>\n",
       "      <td>0.980320</td>\n",
       "    </tr>\n",
       "    <tr>\n",
       "      <th>1-1-2</th>\n",
       "      <td>0.980316</td>\n",
       "      <td>0.930827</td>\n",
       "      <td>0.861706</td>\n",
       "      <td>0.931207</td>\n",
       "      <td>0.936355</td>\n",
       "      <td>0.925298</td>\n",
       "      <td>0.926115</td>\n",
       "      <td>0.936355</td>\n",
       "      <td>0.980211</td>\n",
       "    </tr>\n",
       "    <tr>\n",
       "      <th>1-1-3</th>\n",
       "      <td>0.980457</td>\n",
       "      <td>0.931749</td>\n",
       "      <td>0.863502</td>\n",
       "      <td>0.931648</td>\n",
       "      <td>0.930279</td>\n",
       "      <td>0.933219</td>\n",
       "      <td>0.933022</td>\n",
       "      <td>0.930279</td>\n",
       "      <td>0.980365</td>\n",
       "    </tr>\n",
       "    <tr>\n",
       "      <th>1-1-4</th>\n",
       "      <td>0.980689</td>\n",
       "      <td>0.932717</td>\n",
       "      <td>0.865439</td>\n",
       "      <td>0.932615</td>\n",
       "      <td>0.931202</td>\n",
       "      <td>0.934233</td>\n",
       "      <td>0.934033</td>\n",
       "      <td>0.931202</td>\n",
       "      <td>0.980482</td>\n",
       "    </tr>\n",
       "    <tr>\n",
       "      <th>1-2-0</th>\n",
       "      <td>0.981547</td>\n",
       "      <td>0.933124</td>\n",
       "      <td>0.866473</td>\n",
       "      <td>0.933879</td>\n",
       "      <td>0.944544</td>\n",
       "      <td>0.921703</td>\n",
       "      <td>0.923451</td>\n",
       "      <td>0.944544</td>\n",
       "      <td>0.981321</td>\n",
       "    </tr>\n",
       "    <tr>\n",
       "      <th>1-2-1</th>\n",
       "      <td>0.980263</td>\n",
       "      <td>0.930750</td>\n",
       "      <td>0.861520</td>\n",
       "      <td>0.930984</td>\n",
       "      <td>0.934142</td>\n",
       "      <td>0.927359</td>\n",
       "      <td>0.927848</td>\n",
       "      <td>0.934142</td>\n",
       "      <td>0.980192</td>\n",
       "    </tr>\n",
       "    <tr>\n",
       "      <th>1-2-2</th>\n",
       "      <td>0.981213</td>\n",
       "      <td>0.931839</td>\n",
       "      <td>0.863743</td>\n",
       "      <td>0.932252</td>\n",
       "      <td>0.937932</td>\n",
       "      <td>0.925747</td>\n",
       "      <td>0.926641</td>\n",
       "      <td>0.937932</td>\n",
       "      <td>0.981017</td>\n",
       "    </tr>\n",
       "    <tr>\n",
       "      <th>1-2-3</th>\n",
       "      <td>0.981469</td>\n",
       "      <td>0.932551</td>\n",
       "      <td>0.865137</td>\n",
       "      <td>0.932850</td>\n",
       "      <td>0.936999</td>\n",
       "      <td>0.928103</td>\n",
       "      <td>0.928737</td>\n",
       "      <td>0.936999</td>\n",
       "      <td>0.981324</td>\n",
       "    </tr>\n",
       "    <tr>\n",
       "      <th>1-2-4</th>\n",
       "      <td>0.982155</td>\n",
       "      <td>0.934687</td>\n",
       "      <td>0.869380</td>\n",
       "      <td>0.934567</td>\n",
       "      <td>0.932855</td>\n",
       "      <td>0.936519</td>\n",
       "      <td>0.936286</td>\n",
       "      <td>0.932855</td>\n",
       "      <td>0.981818</td>\n",
       "    </tr>\n",
       "    <tr>\n",
       "      <th>1-3-0</th>\n",
       "      <td>0.982012</td>\n",
       "      <td>0.934156</td>\n",
       "      <td>0.868352</td>\n",
       "      <td>0.934474</td>\n",
       "      <td>0.939021</td>\n",
       "      <td>0.929290</td>\n",
       "      <td>0.929972</td>\n",
       "      <td>0.939021</td>\n",
       "      <td>0.981806</td>\n",
       "    </tr>\n",
       "    <tr>\n",
       "      <th>1-3-1</th>\n",
       "      <td>0.982659</td>\n",
       "      <td>0.935421</td>\n",
       "      <td>0.870894</td>\n",
       "      <td>0.935773</td>\n",
       "      <td>0.940904</td>\n",
       "      <td>0.929937</td>\n",
       "      <td>0.930697</td>\n",
       "      <td>0.940904</td>\n",
       "      <td>0.982553</td>\n",
       "    </tr>\n",
       "    <tr>\n",
       "      <th>1-3-2</th>\n",
       "      <td>0.981820</td>\n",
       "      <td>0.932424</td>\n",
       "      <td>0.865073</td>\n",
       "      <td>0.933185</td>\n",
       "      <td>0.943817</td>\n",
       "      <td>0.921031</td>\n",
       "      <td>0.922791</td>\n",
       "      <td>0.943817</td>\n",
       "      <td>0.981604</td>\n",
       "    </tr>\n",
       "    <tr>\n",
       "      <th>1-3-3</th>\n",
       "      <td>0.982386</td>\n",
       "      <td>0.934043</td>\n",
       "      <td>0.868088</td>\n",
       "      <td>0.934132</td>\n",
       "      <td>0.935409</td>\n",
       "      <td>0.932676</td>\n",
       "      <td>0.932860</td>\n",
       "      <td>0.935409</td>\n",
       "      <td>0.982288</td>\n",
       "    </tr>\n",
       "    <tr>\n",
       "      <th>1-3-4</th>\n",
       "      <td>0.982834</td>\n",
       "      <td>0.935296</td>\n",
       "      <td>0.870795</td>\n",
       "      <td>0.935987</td>\n",
       "      <td>0.946086</td>\n",
       "      <td>0.924506</td>\n",
       "      <td>0.926101</td>\n",
       "      <td>0.946086</td>\n",
       "      <td>0.982670</td>\n",
       "    </tr>\n",
       "    <tr>\n",
       "      <th>1-4-0</th>\n",
       "      <td>0.982737</td>\n",
       "      <td>0.935337</td>\n",
       "      <td>0.870777</td>\n",
       "      <td>0.935829</td>\n",
       "      <td>0.943006</td>\n",
       "      <td>0.927668</td>\n",
       "      <td>0.928761</td>\n",
       "      <td>0.943006</td>\n",
       "      <td>0.982503</td>\n",
       "    </tr>\n",
       "    <tr>\n",
       "      <th>1-4-1</th>\n",
       "      <td>0.982020</td>\n",
       "      <td>0.933837</td>\n",
       "      <td>0.867723</td>\n",
       "      <td>0.934187</td>\n",
       "      <td>0.939146</td>\n",
       "      <td>0.928528</td>\n",
       "      <td>0.929279</td>\n",
       "      <td>0.939146</td>\n",
       "      <td>0.981826</td>\n",
       "    </tr>\n",
       "    <tr>\n",
       "      <th>1-4-2</th>\n",
       "      <td>0.982610</td>\n",
       "      <td>0.934533</td>\n",
       "      <td>0.869163</td>\n",
       "      <td>0.935019</td>\n",
       "      <td>0.942004</td>\n",
       "      <td>0.927063</td>\n",
       "      <td>0.928136</td>\n",
       "      <td>0.942004</td>\n",
       "      <td>0.982403</td>\n",
       "    </tr>\n",
       "    <tr>\n",
       "      <th>1-4-3</th>\n",
       "      <td>0.982374</td>\n",
       "      <td>0.933578</td>\n",
       "      <td>0.867257</td>\n",
       "      <td>0.934081</td>\n",
       "      <td>0.941214</td>\n",
       "      <td>0.925942</td>\n",
       "      <td>0.927056</td>\n",
       "      <td>0.941214</td>\n",
       "      <td>0.982245</td>\n",
       "    </tr>\n",
       "    <tr>\n",
       "      <th>1-4-4</th>\n",
       "      <td>0.981780</td>\n",
       "      <td>0.933210</td>\n",
       "      <td>0.866427</td>\n",
       "      <td>0.933070</td>\n",
       "      <td>0.931125</td>\n",
       "      <td>0.935294</td>\n",
       "      <td>0.935024</td>\n",
       "      <td>0.931125</td>\n",
       "      <td>0.981667</td>\n",
       "    </tr>\n",
       "    <tr>\n",
       "      <th>1-5-0</th>\n",
       "      <td>0.982972</td>\n",
       "      <td>0.935529</td>\n",
       "      <td>0.871161</td>\n",
       "      <td>0.936022</td>\n",
       "      <td>0.943239</td>\n",
       "      <td>0.927818</td>\n",
       "      <td>0.928914</td>\n",
       "      <td>0.943239</td>\n",
       "      <td>0.982817</td>\n",
       "    </tr>\n",
       "    <tr>\n",
       "      <th>1-5-1</th>\n",
       "      <td>0.982753</td>\n",
       "      <td>0.934803</td>\n",
       "      <td>0.869708</td>\n",
       "      <td>0.935298</td>\n",
       "      <td>0.942460</td>\n",
       "      <td>0.927146</td>\n",
       "      <td>0.928245</td>\n",
       "      <td>0.942460</td>\n",
       "      <td>0.982578</td>\n",
       "    </tr>\n",
       "    <tr>\n",
       "      <th>1-5-2</th>\n",
       "      <td>0.982946</td>\n",
       "      <td>0.935181</td>\n",
       "      <td>0.870494</td>\n",
       "      <td>0.935741</td>\n",
       "      <td>0.943901</td>\n",
       "      <td>0.926461</td>\n",
       "      <td>0.927721</td>\n",
       "      <td>0.943901</td>\n",
       "      <td>0.982769</td>\n",
       "    </tr>\n",
       "    <tr>\n",
       "      <th>1-5-3</th>\n",
       "      <td>0.982301</td>\n",
       "      <td>0.934070</td>\n",
       "      <td>0.868145</td>\n",
       "      <td>0.934175</td>\n",
       "      <td>0.935663</td>\n",
       "      <td>0.932478</td>\n",
       "      <td>0.932692</td>\n",
       "      <td>0.935663</td>\n",
       "      <td>0.982031</td>\n",
       "    </tr>\n",
       "    <tr>\n",
       "      <th>1-5-4</th>\n",
       "      <td>0.983298</td>\n",
       "      <td>0.936154</td>\n",
       "      <td>0.872569</td>\n",
       "      <td>0.936925</td>\n",
       "      <td>0.948376</td>\n",
       "      <td>0.923932</td>\n",
       "      <td>0.925747</td>\n",
       "      <td>0.948376</td>\n",
       "      <td>0.982939</td>\n",
       "    </tr>\n",
       "    <tr>\n",
       "      <th>1-6-0</th>\n",
       "      <td>0.983727</td>\n",
       "      <td>0.936143</td>\n",
       "      <td>0.872472</td>\n",
       "      <td>0.936795</td>\n",
       "      <td>0.946466</td>\n",
       "      <td>0.925820</td>\n",
       "      <td>0.927321</td>\n",
       "      <td>0.946466</td>\n",
       "      <td>0.983556</td>\n",
       "    </tr>\n",
       "    <tr>\n",
       "      <th>1-6-1</th>\n",
       "      <td>0.984254</td>\n",
       "      <td>0.937211</td>\n",
       "      <td>0.874796</td>\n",
       "      <td>0.938116</td>\n",
       "      <td>0.951825</td>\n",
       "      <td>0.922597</td>\n",
       "      <td>0.924796</td>\n",
       "      <td>0.951825</td>\n",
       "      <td>0.984116</td>\n",
       "    </tr>\n",
       "    <tr>\n",
       "      <th>1-6-2</th>\n",
       "      <td>0.983863</td>\n",
       "      <td>0.936397</td>\n",
       "      <td>0.873001</td>\n",
       "      <td>0.937082</td>\n",
       "      <td>0.947283</td>\n",
       "      <td>0.925510</td>\n",
       "      <td>0.927098</td>\n",
       "      <td>0.947283</td>\n",
       "      <td>0.983770</td>\n",
       "    </tr>\n",
       "    <tr>\n",
       "      <th>1-6-3</th>\n",
       "      <td>0.983775</td>\n",
       "      <td>0.936538</td>\n",
       "      <td>0.873076</td>\n",
       "      <td>0.936555</td>\n",
       "      <td>0.936808</td>\n",
       "      <td>0.936268</td>\n",
       "      <td>0.936303</td>\n",
       "      <td>0.936808</td>\n",
       "      <td>0.983682</td>\n",
       "    </tr>\n",
       "    <tr>\n",
       "      <th>1-6-4</th>\n",
       "      <td>0.983738</td>\n",
       "      <td>0.937146</td>\n",
       "      <td>0.874598</td>\n",
       "      <td>0.937967</td>\n",
       "      <td>0.950381</td>\n",
       "      <td>0.923911</td>\n",
       "      <td>0.925873</td>\n",
       "      <td>0.950381</td>\n",
       "      <td>0.983302</td>\n",
       "    </tr>\n",
       "    <tr>\n",
       "      <th>1-7-0</th>\n",
       "      <td>0.984003</td>\n",
       "      <td>0.936902</td>\n",
       "      <td>0.874060</td>\n",
       "      <td>0.937658</td>\n",
       "      <td>0.949027</td>\n",
       "      <td>0.924776</td>\n",
       "      <td>0.926557</td>\n",
       "      <td>0.949027</td>\n",
       "      <td>0.983907</td>\n",
       "    </tr>\n",
       "    <tr>\n",
       "      <th>1-7-1</th>\n",
       "      <td>0.983917</td>\n",
       "      <td>0.937371</td>\n",
       "      <td>0.874799</td>\n",
       "      <td>0.937014</td>\n",
       "      <td>0.931695</td>\n",
       "      <td>0.943048</td>\n",
       "      <td>0.942394</td>\n",
       "      <td>0.931695</td>\n",
       "      <td>0.983725</td>\n",
       "    </tr>\n",
       "    <tr>\n",
       "      <th>1-7-2</th>\n",
       "      <td>0.983542</td>\n",
       "      <td>0.935958</td>\n",
       "      <td>0.872049</td>\n",
       "      <td>0.936512</td>\n",
       "      <td>0.944677</td>\n",
       "      <td>0.927240</td>\n",
       "      <td>0.928487</td>\n",
       "      <td>0.944677</td>\n",
       "      <td>0.983352</td>\n",
       "    </tr>\n",
       "    <tr>\n",
       "      <th>1-7-3</th>\n",
       "      <td>0.984372</td>\n",
       "      <td>0.938156</td>\n",
       "      <td>0.876386</td>\n",
       "      <td>0.938553</td>\n",
       "      <td>0.944621</td>\n",
       "      <td>0.931692</td>\n",
       "      <td>0.932563</td>\n",
       "      <td>0.944621</td>\n",
       "      <td>0.984184</td>\n",
       "    </tr>\n",
       "    <tr>\n",
       "      <th>1-7-4</th>\n",
       "      <td>0.984678</td>\n",
       "      <td>0.938084</td>\n",
       "      <td>0.876381</td>\n",
       "      <td>0.938760</td>\n",
       "      <td>0.949121</td>\n",
       "      <td>0.927047</td>\n",
       "      <td>0.928622</td>\n",
       "      <td>0.949121</td>\n",
       "      <td>0.984467</td>\n",
       "    </tr>\n",
       "    <tr>\n",
       "      <th>1-8-0</th>\n",
       "      <td>0.984238</td>\n",
       "      <td>0.938137</td>\n",
       "      <td>0.876335</td>\n",
       "      <td>0.938500</td>\n",
       "      <td>0.944033</td>\n",
       "      <td>0.932241</td>\n",
       "      <td>0.933031</td>\n",
       "      <td>0.944033</td>\n",
       "      <td>0.983974</td>\n",
       "    </tr>\n",
       "    <tr>\n",
       "      <th>1-8-1</th>\n",
       "      <td>0.983475</td>\n",
       "      <td>0.936383</td>\n",
       "      <td>0.872767</td>\n",
       "      <td>0.936431</td>\n",
       "      <td>0.937135</td>\n",
       "      <td>0.935631</td>\n",
       "      <td>0.935728</td>\n",
       "      <td>0.937135</td>\n",
       "      <td>0.983228</td>\n",
       "    </tr>\n",
       "    <tr>\n",
       "      <th>1-8-2</th>\n",
       "      <td>0.983455</td>\n",
       "      <td>0.936376</td>\n",
       "      <td>0.872763</td>\n",
       "      <td>0.936532</td>\n",
       "      <td>0.938840</td>\n",
       "      <td>0.933912</td>\n",
       "      <td>0.934236</td>\n",
       "      <td>0.938840</td>\n",
       "      <td>0.983273</td>\n",
       "    </tr>\n",
       "    <tr>\n",
       "      <th>1-8-3</th>\n",
       "      <td>0.984380</td>\n",
       "      <td>0.937063</td>\n",
       "      <td>0.874506</td>\n",
       "      <td>0.937976</td>\n",
       "      <td>0.951780</td>\n",
       "      <td>0.922347</td>\n",
       "      <td>0.924567</td>\n",
       "      <td>0.951780</td>\n",
       "      <td>0.984219</td>\n",
       "    </tr>\n",
       "    <tr>\n",
       "      <th>1-8-4</th>\n",
       "      <td>0.983740</td>\n",
       "      <td>0.936737</td>\n",
       "      <td>0.873486</td>\n",
       "      <td>0.936903</td>\n",
       "      <td>0.939370</td>\n",
       "      <td>0.934104</td>\n",
       "      <td>0.934449</td>\n",
       "      <td>0.939370</td>\n",
       "      <td>0.983397</td>\n",
       "    </tr>\n",
       "    <tr>\n",
       "      <th>1-9-0</th>\n",
       "      <td>0.984513</td>\n",
       "      <td>0.938257</td>\n",
       "      <td>0.876708</td>\n",
       "      <td>0.938899</td>\n",
       "      <td>0.948759</td>\n",
       "      <td>0.927755</td>\n",
       "      <td>0.929241</td>\n",
       "      <td>0.948759</td>\n",
       "      <td>0.984301</td>\n",
       "    </tr>\n",
       "    <tr>\n",
       "      <th>1-9-1</th>\n",
       "      <td>0.984504</td>\n",
       "      <td>0.938532</td>\n",
       "      <td>0.877105</td>\n",
       "      <td>0.938826</td>\n",
       "      <td>0.943330</td>\n",
       "      <td>0.933734</td>\n",
       "      <td>0.934364</td>\n",
       "      <td>0.943330</td>\n",
       "      <td>0.984400</td>\n",
       "    </tr>\n",
       "    <tr>\n",
       "      <th>1-9-2</th>\n",
       "      <td>0.984476</td>\n",
       "      <td>0.936667</td>\n",
       "      <td>0.873923</td>\n",
       "      <td>0.937809</td>\n",
       "      <td>0.955034</td>\n",
       "      <td>0.918299</td>\n",
       "      <td>0.921194</td>\n",
       "      <td>0.955034</td>\n",
       "      <td>0.984213</td>\n",
       "    </tr>\n",
       "    <tr>\n",
       "      <th>1-9-3</th>\n",
       "      <td>0.984084</td>\n",
       "      <td>0.937090</td>\n",
       "      <td>0.874350</td>\n",
       "      <td>0.937705</td>\n",
       "      <td>0.946974</td>\n",
       "      <td>0.927205</td>\n",
       "      <td>0.928617</td>\n",
       "      <td>0.946974</td>\n",
       "      <td>0.983911</td>\n",
       "    </tr>\n",
       "    <tr>\n",
       "      <th>1-9-4</th>\n",
       "      <td>0.984848</td>\n",
       "      <td>0.939378</td>\n",
       "      <td>0.878766</td>\n",
       "      <td>0.939240</td>\n",
       "      <td>0.937104</td>\n",
       "      <td>0.941653</td>\n",
       "      <td>0.941386</td>\n",
       "      <td>0.937104</td>\n",
       "      <td>0.984597</td>\n",
       "    </tr>\n",
       "    <tr>\n",
       "      <th>1-10-0</th>\n",
       "      <td>0.984488</td>\n",
       "      <td>0.938644</td>\n",
       "      <td>0.877301</td>\n",
       "      <td>0.938815</td>\n",
       "      <td>0.941450</td>\n",
       "      <td>0.935837</td>\n",
       "      <td>0.936195</td>\n",
       "      <td>0.941450</td>\n",
       "      <td>0.984251</td>\n",
       "    </tr>\n",
       "    <tr>\n",
       "      <th>1-10-1</th>\n",
       "      <td>0.985333</td>\n",
       "      <td>0.937838</td>\n",
       "      <td>0.876382</td>\n",
       "      <td>0.939061</td>\n",
       "      <td>0.957905</td>\n",
       "      <td>0.917770</td>\n",
       "      <td>0.920943</td>\n",
       "      <td>0.957905</td>\n",
       "      <td>0.985172</td>\n",
       "    </tr>\n",
       "    <tr>\n",
       "      <th>1-10-2</th>\n",
       "      <td>0.984167</td>\n",
       "      <td>0.937274</td>\n",
       "      <td>0.874641</td>\n",
       "      <td>0.937729</td>\n",
       "      <td>0.944583</td>\n",
       "      <td>0.929965</td>\n",
       "      <td>0.930974</td>\n",
       "      <td>0.944583</td>\n",
       "      <td>0.984070</td>\n",
       "    </tr>\n",
       "    <tr>\n",
       "      <th>1-10-3</th>\n",
       "      <td>0.984131</td>\n",
       "      <td>0.937559</td>\n",
       "      <td>0.875123</td>\n",
       "      <td>0.937658</td>\n",
       "      <td>0.939146</td>\n",
       "      <td>0.935972</td>\n",
       "      <td>0.936175</td>\n",
       "      <td>0.939146</td>\n",
       "      <td>0.983852</td>\n",
       "    </tr>\n",
       "    <tr>\n",
       "      <th>1-10-4</th>\n",
       "      <td>0.984706</td>\n",
       "      <td>0.938487</td>\n",
       "      <td>0.877071</td>\n",
       "      <td>0.938939</td>\n",
       "      <td>0.945888</td>\n",
       "      <td>0.931087</td>\n",
       "      <td>0.932092</td>\n",
       "      <td>0.945888</td>\n",
       "      <td>0.984492</td>\n",
       "    </tr>\n",
       "    <tr>\n",
       "      <th>2-1-0</th>\n",
       "      <td>0.982859</td>\n",
       "      <td>0.935951</td>\n",
       "      <td>0.871943</td>\n",
       "      <td>0.935645</td>\n",
       "      <td>0.931183</td>\n",
       "      <td>0.940720</td>\n",
       "      <td>0.940149</td>\n",
       "      <td>0.931183</td>\n",
       "      <td>0.982711</td>\n",
       "    </tr>\n",
       "    <tr>\n",
       "      <th>2-1-1</th>\n",
       "      <td>0.982784</td>\n",
       "      <td>0.935687</td>\n",
       "      <td>0.871417</td>\n",
       "      <td>0.936004</td>\n",
       "      <td>0.940643</td>\n",
       "      <td>0.930731</td>\n",
       "      <td>0.931411</td>\n",
       "      <td>0.940643</td>\n",
       "      <td>0.982710</td>\n",
       "    </tr>\n",
       "    <tr>\n",
       "      <th>2-1-2</th>\n",
       "      <td>0.982503</td>\n",
       "      <td>0.934930</td>\n",
       "      <td>0.869891</td>\n",
       "      <td>0.934656</td>\n",
       "      <td>0.930734</td>\n",
       "      <td>0.939126</td>\n",
       "      <td>0.938610</td>\n",
       "      <td>0.930734</td>\n",
       "      <td>0.982335</td>\n",
       "    </tr>\n",
       "    <tr>\n",
       "      <th>2-1-3</th>\n",
       "      <td>0.983081</td>\n",
       "      <td>0.935370</td>\n",
       "      <td>0.870808</td>\n",
       "      <td>0.935772</td>\n",
       "      <td>0.941617</td>\n",
       "      <td>0.929123</td>\n",
       "      <td>0.929998</td>\n",
       "      <td>0.941617</td>\n",
       "      <td>0.982906</td>\n",
       "    </tr>\n",
       "    <tr>\n",
       "      <th>2-1-4</th>\n",
       "      <td>0.982456</td>\n",
       "      <td>0.934562</td>\n",
       "      <td>0.869298</td>\n",
       "      <td>0.935211</td>\n",
       "      <td>0.944576</td>\n",
       "      <td>0.924548</td>\n",
       "      <td>0.926029</td>\n",
       "      <td>0.944576</td>\n",
       "      <td>0.982127</td>\n",
       "    </tr>\n",
       "    <tr>\n",
       "      <th>2-2-0</th>\n",
       "      <td>0.983375</td>\n",
       "      <td>0.936567</td>\n",
       "      <td>0.873138</td>\n",
       "      <td>0.936644</td>\n",
       "      <td>0.937775</td>\n",
       "      <td>0.935360</td>\n",
       "      <td>0.935516</td>\n",
       "      <td>0.937775</td>\n",
       "      <td>0.983114</td>\n",
       "    </tr>\n",
       "    <tr>\n",
       "      <th>2-2-1</th>\n",
       "      <td>0.983966</td>\n",
       "      <td>0.937264</td>\n",
       "      <td>0.874547</td>\n",
       "      <td>0.937051</td>\n",
       "      <td>0.933884</td>\n",
       "      <td>0.940643</td>\n",
       "      <td>0.940239</td>\n",
       "      <td>0.933884</td>\n",
       "      <td>0.983845</td>\n",
       "    </tr>\n",
       "    <tr>\n",
       "      <th>2-2-2</th>\n",
       "      <td>0.983100</td>\n",
       "      <td>0.935250</td>\n",
       "      <td>0.870507</td>\n",
       "      <td>0.935377</td>\n",
       "      <td>0.937218</td>\n",
       "      <td>0.933282</td>\n",
       "      <td>0.933544</td>\n",
       "      <td>0.937218</td>\n",
       "      <td>0.983046</td>\n",
       "    </tr>\n",
       "    <tr>\n",
       "      <th>2-2-3</th>\n",
       "      <td>0.983405</td>\n",
       "      <td>0.935332</td>\n",
       "      <td>0.870882</td>\n",
       "      <td>0.936047</td>\n",
       "      <td>0.946514</td>\n",
       "      <td>0.924150</td>\n",
       "      <td>0.925809</td>\n",
       "      <td>0.946514</td>\n",
       "      <td>0.983278</td>\n",
       "    </tr>\n",
       "    <tr>\n",
       "      <th>2-2-4</th>\n",
       "      <td>0.983522</td>\n",
       "      <td>0.936760</td>\n",
       "      <td>0.873539</td>\n",
       "      <td>0.936974</td>\n",
       "      <td>0.940156</td>\n",
       "      <td>0.933363</td>\n",
       "      <td>0.933813</td>\n",
       "      <td>0.940156</td>\n",
       "      <td>0.983267</td>\n",
       "    </tr>\n",
       "    <tr>\n",
       "      <th>2-3-0</th>\n",
       "      <td>0.984083</td>\n",
       "      <td>0.938823</td>\n",
       "      <td>0.877688</td>\n",
       "      <td>0.939123</td>\n",
       "      <td>0.943747</td>\n",
       "      <td>0.933898</td>\n",
       "      <td>0.934543</td>\n",
       "      <td>0.943747</td>\n",
       "      <td>0.983722</td>\n",
       "    </tr>\n",
       "    <tr>\n",
       "      <th>2-3-1</th>\n",
       "      <td>0.984339</td>\n",
       "      <td>0.937887</td>\n",
       "      <td>0.875796</td>\n",
       "      <td>0.937662</td>\n",
       "      <td>0.934277</td>\n",
       "      <td>0.941496</td>\n",
       "      <td>0.941070</td>\n",
       "      <td>0.934277</td>\n",
       "      <td>0.984217</td>\n",
       "    </tr>\n",
       "    <tr>\n",
       "      <th>2-3-2</th>\n",
       "      <td>0.984129</td>\n",
       "      <td>0.937704</td>\n",
       "      <td>0.875417</td>\n",
       "      <td>0.937851</td>\n",
       "      <td>0.940065</td>\n",
       "      <td>0.935342</td>\n",
       "      <td>0.935646</td>\n",
       "      <td>0.940065</td>\n",
       "      <td>0.983943</td>\n",
       "    </tr>\n",
       "    <tr>\n",
       "      <th>2-3-3</th>\n",
       "      <td>0.983967</td>\n",
       "      <td>0.936621</td>\n",
       "      <td>0.873520</td>\n",
       "      <td>0.937410</td>\n",
       "      <td>0.949218</td>\n",
       "      <td>0.924024</td>\n",
       "      <td>0.925891</td>\n",
       "      <td>0.949218</td>\n",
       "      <td>0.983803</td>\n",
       "    </tr>\n",
       "    <tr>\n",
       "      <th>2-3-4</th>\n",
       "      <td>0.985077</td>\n",
       "      <td>0.939526</td>\n",
       "      <td>0.879305</td>\n",
       "      <td>0.940242</td>\n",
       "      <td>0.951498</td>\n",
       "      <td>0.927555</td>\n",
       "      <td>0.929249</td>\n",
       "      <td>0.951498</td>\n",
       "      <td>0.984867</td>\n",
       "    </tr>\n",
       "    <tr>\n",
       "      <th>2-4-0</th>\n",
       "      <td>0.985704</td>\n",
       "      <td>0.940984</td>\n",
       "      <td>0.881970</td>\n",
       "      <td>0.940930</td>\n",
       "      <td>0.940069</td>\n",
       "      <td>0.941899</td>\n",
       "      <td>0.941793</td>\n",
       "      <td>0.940069</td>\n",
       "      <td>0.985570</td>\n",
       "    </tr>\n",
       "    <tr>\n",
       "      <th>2-4-1</th>\n",
       "      <td>0.984412</td>\n",
       "      <td>0.938603</td>\n",
       "      <td>0.877221</td>\n",
       "      <td>0.938429</td>\n",
       "      <td>0.935767</td>\n",
       "      <td>0.941440</td>\n",
       "      <td>0.941106</td>\n",
       "      <td>0.935767</td>\n",
       "      <td>0.984199</td>\n",
       "    </tr>\n",
       "    <tr>\n",
       "      <th>2-4-2</th>\n",
       "      <td>0.984198</td>\n",
       "      <td>0.937135</td>\n",
       "      <td>0.874413</td>\n",
       "      <td>0.937700</td>\n",
       "      <td>0.946201</td>\n",
       "      <td>0.928069</td>\n",
       "      <td>0.929350</td>\n",
       "      <td>0.946201</td>\n",
       "      <td>0.984037</td>\n",
       "    </tr>\n",
       "    <tr>\n",
       "      <th>2-4-3</th>\n",
       "      <td>0.983962</td>\n",
       "      <td>0.934793</td>\n",
       "      <td>0.870186</td>\n",
       "      <td>0.935982</td>\n",
       "      <td>0.953367</td>\n",
       "      <td>0.916218</td>\n",
       "      <td>0.919219</td>\n",
       "      <td>0.953367</td>\n",
       "      <td>0.983780</td>\n",
       "    </tr>\n",
       "    <tr>\n",
       "      <th>2-4-4</th>\n",
       "      <td>0.985124</td>\n",
       "      <td>0.940078</td>\n",
       "      <td>0.880170</td>\n",
       "      <td>0.940247</td>\n",
       "      <td>0.942902</td>\n",
       "      <td>0.937254</td>\n",
       "      <td>0.937606</td>\n",
       "      <td>0.942902</td>\n",
       "      <td>0.984888</td>\n",
       "    </tr>\n",
       "    <tr>\n",
       "      <th>2-5-0</th>\n",
       "      <td>0.985021</td>\n",
       "      <td>0.938454</td>\n",
       "      <td>0.877268</td>\n",
       "      <td>0.939324</td>\n",
       "      <td>0.952793</td>\n",
       "      <td>0.924115</td>\n",
       "      <td>0.926230</td>\n",
       "      <td>0.952793</td>\n",
       "      <td>0.984794</td>\n",
       "    </tr>\n",
       "    <tr>\n",
       "      <th>2-5-1</th>\n",
       "      <td>0.984982</td>\n",
       "      <td>0.939561</td>\n",
       "      <td>0.879168</td>\n",
       "      <td>0.939872</td>\n",
       "      <td>0.944736</td>\n",
       "      <td>0.934385</td>\n",
       "      <td>0.935058</td>\n",
       "      <td>0.944736</td>\n",
       "      <td>0.984768</td>\n",
       "    </tr>\n",
       "    <tr>\n",
       "      <th>2-5-2</th>\n",
       "      <td>0.984882</td>\n",
       "      <td>0.939246</td>\n",
       "      <td>0.878525</td>\n",
       "      <td>0.939513</td>\n",
       "      <td>0.943660</td>\n",
       "      <td>0.934831</td>\n",
       "      <td>0.935401</td>\n",
       "      <td>0.943660</td>\n",
       "      <td>0.984742</td>\n",
       "    </tr>\n",
       "    <tr>\n",
       "      <th>2-5-3</th>\n",
       "      <td>0.984655</td>\n",
       "      <td>0.938302</td>\n",
       "      <td>0.876671</td>\n",
       "      <td>0.938679</td>\n",
       "      <td>0.944443</td>\n",
       "      <td>0.932161</td>\n",
       "      <td>0.932984</td>\n",
       "      <td>0.944443</td>\n",
       "      <td>0.984477</td>\n",
       "    </tr>\n",
       "    <tr>\n",
       "      <th>2-5-4</th>\n",
       "      <td>0.985592</td>\n",
       "      <td>0.940623</td>\n",
       "      <td>0.881250</td>\n",
       "      <td>0.940522</td>\n",
       "      <td>0.938931</td>\n",
       "      <td>0.942314</td>\n",
       "      <td>0.942118</td>\n",
       "      <td>0.938931</td>\n",
       "      <td>0.985422</td>\n",
       "    </tr>\n",
       "    <tr>\n",
       "      <th>2-6-0</th>\n",
       "      <td>0.985433</td>\n",
       "      <td>0.939766</td>\n",
       "      <td>0.879559</td>\n",
       "      <td>0.939527</td>\n",
       "      <td>0.935819</td>\n",
       "      <td>0.943713</td>\n",
       "      <td>0.943265</td>\n",
       "      <td>0.935819</td>\n",
       "      <td>0.985261</td>\n",
       "    </tr>\n",
       "    <tr>\n",
       "      <th>2-6-1</th>\n",
       "      <td>0.986047</td>\n",
       "      <td>0.941945</td>\n",
       "      <td>0.883893</td>\n",
       "      <td>0.942026</td>\n",
       "      <td>0.943351</td>\n",
       "      <td>0.940539</td>\n",
       "      <td>0.940705</td>\n",
       "      <td>0.943351</td>\n",
       "      <td>0.985921</td>\n",
       "    </tr>\n",
       "    <tr>\n",
       "      <th>2-6-2</th>\n",
       "      <td>0.985669</td>\n",
       "      <td>0.940217</td>\n",
       "      <td>0.880546</td>\n",
       "      <td>0.940690</td>\n",
       "      <td>0.948206</td>\n",
       "      <td>0.932228</td>\n",
       "      <td>0.933293</td>\n",
       "      <td>0.948206</td>\n",
       "      <td>0.985539</td>\n",
       "    </tr>\n",
       "    <tr>\n",
       "      <th>2-6-3</th>\n",
       "      <td>0.984889</td>\n",
       "      <td>0.939277</td>\n",
       "      <td>0.878598</td>\n",
       "      <td>0.939579</td>\n",
       "      <td>0.944276</td>\n",
       "      <td>0.934277</td>\n",
       "      <td>0.934928</td>\n",
       "      <td>0.944276</td>\n",
       "      <td>0.984664</td>\n",
       "    </tr>\n",
       "    <tr>\n",
       "      <th>2-6-4</th>\n",
       "      <td>0.986137</td>\n",
       "      <td>0.941988</td>\n",
       "      <td>0.883978</td>\n",
       "      <td>0.942042</td>\n",
       "      <td>0.942919</td>\n",
       "      <td>0.941058</td>\n",
       "      <td>0.941167</td>\n",
       "      <td>0.942919</td>\n",
       "      <td>0.986013</td>\n",
       "    </tr>\n",
       "    <tr>\n",
       "      <th>2-7-0</th>\n",
       "      <td>0.985913</td>\n",
       "      <td>0.941292</td>\n",
       "      <td>0.882658</td>\n",
       "      <td>0.941669</td>\n",
       "      <td>0.947746</td>\n",
       "      <td>0.934838</td>\n",
       "      <td>0.935668</td>\n",
       "      <td>0.947746</td>\n",
       "      <td>0.985796</td>\n",
       "    </tr>\n",
       "    <tr>\n",
       "      <th>2-7-1</th>\n",
       "      <td>0.985792</td>\n",
       "      <td>0.940845</td>\n",
       "      <td>0.881701</td>\n",
       "      <td>0.940691</td>\n",
       "      <td>0.938255</td>\n",
       "      <td>0.943434</td>\n",
       "      <td>0.943140</td>\n",
       "      <td>0.938255</td>\n",
       "      <td>0.985534</td>\n",
       "    </tr>\n",
       "    <tr>\n",
       "      <th>2-7-2</th>\n",
       "      <td>0.985583</td>\n",
       "      <td>0.939216</td>\n",
       "      <td>0.878766</td>\n",
       "      <td>0.940043</td>\n",
       "      <td>0.953005</td>\n",
       "      <td>0.925427</td>\n",
       "      <td>0.927428</td>\n",
       "      <td>0.953005</td>\n",
       "      <td>0.985479</td>\n",
       "    </tr>\n",
       "    <tr>\n",
       "      <th>2-7-3</th>\n",
       "      <td>0.985875</td>\n",
       "      <td>0.939517</td>\n",
       "      <td>0.879456</td>\n",
       "      <td>0.940440</td>\n",
       "      <td>0.955010</td>\n",
       "      <td>0.924024</td>\n",
       "      <td>0.926308</td>\n",
       "      <td>0.955010</td>\n",
       "      <td>0.985793</td>\n",
       "    </tr>\n",
       "    <tr>\n",
       "      <th>2-7-4</th>\n",
       "      <td>0.986494</td>\n",
       "      <td>0.942554</td>\n",
       "      <td>0.885112</td>\n",
       "      <td>0.942469</td>\n",
       "      <td>0.941078</td>\n",
       "      <td>0.944030</td>\n",
       "      <td>0.943864</td>\n",
       "      <td>0.941078</td>\n",
       "      <td>0.986420</td>\n",
       "    </tr>\n",
       "    <tr>\n",
       "      <th>2-8-0</th>\n",
       "      <td>0.987026</td>\n",
       "      <td>0.943335</td>\n",
       "      <td>0.886772</td>\n",
       "      <td>0.943762</td>\n",
       "      <td>0.950920</td>\n",
       "      <td>0.935750</td>\n",
       "      <td>0.936710</td>\n",
       "      <td>0.950920</td>\n",
       "      <td>0.986927</td>\n",
       "    </tr>\n",
       "    <tr>\n",
       "      <th>2-8-1</th>\n",
       "      <td>0.986611</td>\n",
       "      <td>0.942512</td>\n",
       "      <td>0.885068</td>\n",
       "      <td>0.942222</td>\n",
       "      <td>0.937490</td>\n",
       "      <td>0.947534</td>\n",
       "      <td>0.947002</td>\n",
       "      <td>0.937490</td>\n",
       "      <td>0.986561</td>\n",
       "    </tr>\n",
       "    <tr>\n",
       "      <th>2-8-2</th>\n",
       "      <td>0.986019</td>\n",
       "      <td>0.941207</td>\n",
       "      <td>0.882418</td>\n",
       "      <td>0.941302</td>\n",
       "      <td>0.942829</td>\n",
       "      <td>0.939585</td>\n",
       "      <td>0.939780</td>\n",
       "      <td>0.942829</td>\n",
       "      <td>0.985804</td>\n",
       "    </tr>\n",
       "    <tr>\n",
       "      <th>2-8-3</th>\n",
       "      <td>0.985852</td>\n",
       "      <td>0.940413</td>\n",
       "      <td>0.881017</td>\n",
       "      <td>0.941026</td>\n",
       "      <td>0.950799</td>\n",
       "      <td>0.930028</td>\n",
       "      <td>0.931452</td>\n",
       "      <td>0.950799</td>\n",
       "      <td>0.985705</td>\n",
       "    </tr>\n",
       "    <tr>\n",
       "      <th>2-8-4</th>\n",
       "      <td>0.986744</td>\n",
       "      <td>0.943104</td>\n",
       "      <td>0.886223</td>\n",
       "      <td>0.943272</td>\n",
       "      <td>0.946076</td>\n",
       "      <td>0.940132</td>\n",
       "      <td>0.940486</td>\n",
       "      <td>0.946076</td>\n",
       "      <td>0.986568</td>\n",
       "    </tr>\n",
       "    <tr>\n",
       "      <th>2-9-0</th>\n",
       "      <td>0.986559</td>\n",
       "      <td>0.942637</td>\n",
       "      <td>0.885296</td>\n",
       "      <td>0.942838</td>\n",
       "      <td>0.946149</td>\n",
       "      <td>0.939126</td>\n",
       "      <td>0.939550</td>\n",
       "      <td>0.946149</td>\n",
       "      <td>0.986377</td>\n",
       "    </tr>\n",
       "    <tr>\n",
       "      <th>2-9-1</th>\n",
       "      <td>0.986376</td>\n",
       "      <td>0.942550</td>\n",
       "      <td>0.885106</td>\n",
       "      <td>0.942452</td>\n",
       "      <td>0.940845</td>\n",
       "      <td>0.944256</td>\n",
       "      <td>0.944065</td>\n",
       "      <td>0.940845</td>\n",
       "      <td>0.986258</td>\n",
       "    </tr>\n",
       "    <tr>\n",
       "      <th>2-9-2</th>\n",
       "      <td>0.985734</td>\n",
       "      <td>0.939383</td>\n",
       "      <td>0.879166</td>\n",
       "      <td>0.940283</td>\n",
       "      <td>0.954456</td>\n",
       "      <td>0.924310</td>\n",
       "      <td>0.926525</td>\n",
       "      <td>0.954456</td>\n",
       "      <td>0.985561</td>\n",
       "    </tr>\n",
       "    <tr>\n",
       "      <th>2-9-3</th>\n",
       "      <td>0.987286</td>\n",
       "      <td>0.943951</td>\n",
       "      <td>0.887954</td>\n",
       "      <td>0.944251</td>\n",
       "      <td>0.949337</td>\n",
       "      <td>0.938565</td>\n",
       "      <td>0.939220</td>\n",
       "      <td>0.949337</td>\n",
       "      <td>0.987299</td>\n",
       "    </tr>\n",
       "    <tr>\n",
       "      <th>2-9-4</th>\n",
       "      <td>0.986941</td>\n",
       "      <td>0.943316</td>\n",
       "      <td>0.886688</td>\n",
       "      <td>0.943632</td>\n",
       "      <td>0.948926</td>\n",
       "      <td>0.937706</td>\n",
       "      <td>0.938397</td>\n",
       "      <td>0.948926</td>\n",
       "      <td>0.986757</td>\n",
       "    </tr>\n",
       "    <tr>\n",
       "      <th>2-10-0</th>\n",
       "      <td>0.986665</td>\n",
       "      <td>0.942983</td>\n",
       "      <td>0.885978</td>\n",
       "      <td>0.943125</td>\n",
       "      <td>0.945467</td>\n",
       "      <td>0.940500</td>\n",
       "      <td>0.940794</td>\n",
       "      <td>0.945467</td>\n",
       "      <td>0.986543</td>\n",
       "    </tr>\n",
       "    <tr>\n",
       "      <th>2-10-1</th>\n",
       "      <td>0.986906</td>\n",
       "      <td>0.943208</td>\n",
       "      <td>0.886455</td>\n",
       "      <td>0.943473</td>\n",
       "      <td>0.947889</td>\n",
       "      <td>0.938527</td>\n",
       "      <td>0.939097</td>\n",
       "      <td>0.947889</td>\n",
       "      <td>0.986738</td>\n",
       "    </tr>\n",
       "    <tr>\n",
       "      <th>2-10-2</th>\n",
       "      <td>0.986649</td>\n",
       "      <td>0.942381</td>\n",
       "      <td>0.884870</td>\n",
       "      <td>0.942826</td>\n",
       "      <td>0.950155</td>\n",
       "      <td>0.934608</td>\n",
       "      <td>0.935609</td>\n",
       "      <td>0.950155</td>\n",
       "      <td>0.986560</td>\n",
       "    </tr>\n",
       "    <tr>\n",
       "      <th>2-10-3</th>\n",
       "      <td>0.986002</td>\n",
       "      <td>0.940773</td>\n",
       "      <td>0.881547</td>\n",
       "      <td>0.940744</td>\n",
       "      <td>0.940274</td>\n",
       "      <td>0.941273</td>\n",
       "      <td>0.941214</td>\n",
       "      <td>0.940274</td>\n",
       "      <td>0.985954</td>\n",
       "    </tr>\n",
       "    <tr>\n",
       "      <th>2-10-4</th>\n",
       "      <td>0.987153</td>\n",
       "      <td>0.943857</td>\n",
       "      <td>0.887743</td>\n",
       "      <td>0.944080</td>\n",
       "      <td>0.947847</td>\n",
       "      <td>0.939867</td>\n",
       "      <td>0.940343</td>\n",
       "      <td>0.947847</td>\n",
       "      <td>0.987005</td>\n",
       "    </tr>\n",
       "  </tbody>\n",
       "</table>\n",
       "</div>"
      ],
      "text/plain": [
       "         roc_auc  accuracy       mcc        f1  sensitivity  specificity  \\\n",
       "1-1-0   0.980921  0.933992  0.867989  0.934105     0.935711     0.932273   \n",
       "1-1-1   0.980461  0.932024  0.864072  0.932276     0.935753     0.928295   \n",
       "1-1-2   0.980316  0.930827  0.861706  0.931207     0.936355     0.925298   \n",
       "1-1-3   0.980457  0.931749  0.863502  0.931648     0.930279     0.933219   \n",
       "1-1-4   0.980689  0.932717  0.865439  0.932615     0.931202     0.934233   \n",
       "1-2-0   0.981547  0.933124  0.866473  0.933879     0.944544     0.921703   \n",
       "1-2-1   0.980263  0.930750  0.861520  0.930984     0.934142     0.927359   \n",
       "1-2-2   0.981213  0.931839  0.863743  0.932252     0.937932     0.925747   \n",
       "1-2-3   0.981469  0.932551  0.865137  0.932850     0.936999     0.928103   \n",
       "1-2-4   0.982155  0.934687  0.869380  0.934567     0.932855     0.936519   \n",
       "1-3-0   0.982012  0.934156  0.868352  0.934474     0.939021     0.929290   \n",
       "1-3-1   0.982659  0.935421  0.870894  0.935773     0.940904     0.929937   \n",
       "1-3-2   0.981820  0.932424  0.865073  0.933185     0.943817     0.921031   \n",
       "1-3-3   0.982386  0.934043  0.868088  0.934132     0.935409     0.932676   \n",
       "1-3-4   0.982834  0.935296  0.870795  0.935987     0.946086     0.924506   \n",
       "1-4-0   0.982737  0.935337  0.870777  0.935829     0.943006     0.927668   \n",
       "1-4-1   0.982020  0.933837  0.867723  0.934187     0.939146     0.928528   \n",
       "1-4-2   0.982610  0.934533  0.869163  0.935019     0.942004     0.927063   \n",
       "1-4-3   0.982374  0.933578  0.867257  0.934081     0.941214     0.925942   \n",
       "1-4-4   0.981780  0.933210  0.866427  0.933070     0.931125     0.935294   \n",
       "1-5-0   0.982972  0.935529  0.871161  0.936022     0.943239     0.927818   \n",
       "1-5-1   0.982753  0.934803  0.869708  0.935298     0.942460     0.927146   \n",
       "1-5-2   0.982946  0.935181  0.870494  0.935741     0.943901     0.926461   \n",
       "1-5-3   0.982301  0.934070  0.868145  0.934175     0.935663     0.932478   \n",
       "1-5-4   0.983298  0.936154  0.872569  0.936925     0.948376     0.923932   \n",
       "1-6-0   0.983727  0.936143  0.872472  0.936795     0.946466     0.925820   \n",
       "1-6-1   0.984254  0.937211  0.874796  0.938116     0.951825     0.922597   \n",
       "1-6-2   0.983863  0.936397  0.873001  0.937082     0.947283     0.925510   \n",
       "1-6-3   0.983775  0.936538  0.873076  0.936555     0.936808     0.936268   \n",
       "1-6-4   0.983738  0.937146  0.874598  0.937967     0.950381     0.923911   \n",
       "1-7-0   0.984003  0.936902  0.874060  0.937658     0.949027     0.924776   \n",
       "1-7-1   0.983917  0.937371  0.874799  0.937014     0.931695     0.943048   \n",
       "1-7-2   0.983542  0.935958  0.872049  0.936512     0.944677     0.927240   \n",
       "1-7-3   0.984372  0.938156  0.876386  0.938553     0.944621     0.931692   \n",
       "1-7-4   0.984678  0.938084  0.876381  0.938760     0.949121     0.927047   \n",
       "1-8-0   0.984238  0.938137  0.876335  0.938500     0.944033     0.932241   \n",
       "1-8-1   0.983475  0.936383  0.872767  0.936431     0.937135     0.935631   \n",
       "1-8-2   0.983455  0.936376  0.872763  0.936532     0.938840     0.933912   \n",
       "1-8-3   0.984380  0.937063  0.874506  0.937976     0.951780     0.922347   \n",
       "1-8-4   0.983740  0.936737  0.873486  0.936903     0.939370     0.934104   \n",
       "1-9-0   0.984513  0.938257  0.876708  0.938899     0.948759     0.927755   \n",
       "1-9-1   0.984504  0.938532  0.877105  0.938826     0.943330     0.933734   \n",
       "1-9-2   0.984476  0.936667  0.873923  0.937809     0.955034     0.918299   \n",
       "1-9-3   0.984084  0.937090  0.874350  0.937705     0.946974     0.927205   \n",
       "1-9-4   0.984848  0.939378  0.878766  0.939240     0.937104     0.941653   \n",
       "1-10-0  0.984488  0.938644  0.877301  0.938815     0.941450     0.935837   \n",
       "1-10-1  0.985333  0.937838  0.876382  0.939061     0.957905     0.917770   \n",
       "1-10-2  0.984167  0.937274  0.874641  0.937729     0.944583     0.929965   \n",
       "1-10-3  0.984131  0.937559  0.875123  0.937658     0.939146     0.935972   \n",
       "1-10-4  0.984706  0.938487  0.877071  0.938939     0.945888     0.931087   \n",
       "2-1-0   0.982859  0.935951  0.871943  0.935645     0.931183     0.940720   \n",
       "2-1-1   0.982784  0.935687  0.871417  0.936004     0.940643     0.930731   \n",
       "2-1-2   0.982503  0.934930  0.869891  0.934656     0.930734     0.939126   \n",
       "2-1-3   0.983081  0.935370  0.870808  0.935772     0.941617     0.929123   \n",
       "2-1-4   0.982456  0.934562  0.869298  0.935211     0.944576     0.924548   \n",
       "2-2-0   0.983375  0.936567  0.873138  0.936644     0.937775     0.935360   \n",
       "2-2-1   0.983966  0.937264  0.874547  0.937051     0.933884     0.940643   \n",
       "2-2-2   0.983100  0.935250  0.870507  0.935377     0.937218     0.933282   \n",
       "2-2-3   0.983405  0.935332  0.870882  0.936047     0.946514     0.924150   \n",
       "2-2-4   0.983522  0.936760  0.873539  0.936974     0.940156     0.933363   \n",
       "2-3-0   0.984083  0.938823  0.877688  0.939123     0.943747     0.933898   \n",
       "2-3-1   0.984339  0.937887  0.875796  0.937662     0.934277     0.941496   \n",
       "2-3-2   0.984129  0.937704  0.875417  0.937851     0.940065     0.935342   \n",
       "2-3-3   0.983967  0.936621  0.873520  0.937410     0.949218     0.924024   \n",
       "2-3-4   0.985077  0.939526  0.879305  0.940242     0.951498     0.927555   \n",
       "2-4-0   0.985704  0.940984  0.881970  0.940930     0.940069     0.941899   \n",
       "2-4-1   0.984412  0.938603  0.877221  0.938429     0.935767     0.941440   \n",
       "2-4-2   0.984198  0.937135  0.874413  0.937700     0.946201     0.928069   \n",
       "2-4-3   0.983962  0.934793  0.870186  0.935982     0.953367     0.916218   \n",
       "2-4-4   0.985124  0.940078  0.880170  0.940247     0.942902     0.937254   \n",
       "2-5-0   0.985021  0.938454  0.877268  0.939324     0.952793     0.924115   \n",
       "2-5-1   0.984982  0.939561  0.879168  0.939872     0.944736     0.934385   \n",
       "2-5-2   0.984882  0.939246  0.878525  0.939513     0.943660     0.934831   \n",
       "2-5-3   0.984655  0.938302  0.876671  0.938679     0.944443     0.932161   \n",
       "2-5-4   0.985592  0.940623  0.881250  0.940522     0.938931     0.942314   \n",
       "2-6-0   0.985433  0.939766  0.879559  0.939527     0.935819     0.943713   \n",
       "2-6-1   0.986047  0.941945  0.883893  0.942026     0.943351     0.940539   \n",
       "2-6-2   0.985669  0.940217  0.880546  0.940690     0.948206     0.932228   \n",
       "2-6-3   0.984889  0.939277  0.878598  0.939579     0.944276     0.934277   \n",
       "2-6-4   0.986137  0.941988  0.883978  0.942042     0.942919     0.941058   \n",
       "2-7-0   0.985913  0.941292  0.882658  0.941669     0.947746     0.934838   \n",
       "2-7-1   0.985792  0.940845  0.881701  0.940691     0.938255     0.943434   \n",
       "2-7-2   0.985583  0.939216  0.878766  0.940043     0.953005     0.925427   \n",
       "2-7-3   0.985875  0.939517  0.879456  0.940440     0.955010     0.924024   \n",
       "2-7-4   0.986494  0.942554  0.885112  0.942469     0.941078     0.944030   \n",
       "2-8-0   0.987026  0.943335  0.886772  0.943762     0.950920     0.935750   \n",
       "2-8-1   0.986611  0.942512  0.885068  0.942222     0.937490     0.947534   \n",
       "2-8-2   0.986019  0.941207  0.882418  0.941302     0.942829     0.939585   \n",
       "2-8-3   0.985852  0.940413  0.881017  0.941026     0.950799     0.930028   \n",
       "2-8-4   0.986744  0.943104  0.886223  0.943272     0.946076     0.940132   \n",
       "2-9-0   0.986559  0.942637  0.885296  0.942838     0.946149     0.939126   \n",
       "2-9-1   0.986376  0.942550  0.885106  0.942452     0.940845     0.944256   \n",
       "2-9-2   0.985734  0.939383  0.879166  0.940283     0.954456     0.924310   \n",
       "2-9-3   0.987286  0.943951  0.887954  0.944251     0.949337     0.938565   \n",
       "2-9-4   0.986941  0.943316  0.886688  0.943632     0.948926     0.937706   \n",
       "2-10-0  0.986665  0.942983  0.885978  0.943125     0.945467     0.940500   \n",
       "2-10-1  0.986906  0.943208  0.886455  0.943473     0.947889     0.938527   \n",
       "2-10-2  0.986649  0.942381  0.884870  0.942826     0.950155     0.934608   \n",
       "2-10-3  0.986002  0.940773  0.881547  0.940744     0.940274     0.941273   \n",
       "2-10-4  0.987153  0.943857  0.887743  0.944080     0.947847     0.939867   \n",
       "\n",
       "        precision    recall      aupr  \n",
       "1-1-0    0.932505  0.935711  0.980809  \n",
       "1-1-1    0.928826  0.935753  0.980320  \n",
       "1-1-2    0.926115  0.936355  0.980211  \n",
       "1-1-3    0.933022  0.930279  0.980365  \n",
       "1-1-4    0.934033  0.931202  0.980482  \n",
       "1-2-0    0.923451  0.944544  0.981321  \n",
       "1-2-1    0.927848  0.934142  0.980192  \n",
       "1-2-2    0.926641  0.937932  0.981017  \n",
       "1-2-3    0.928737  0.936999  0.981324  \n",
       "1-2-4    0.936286  0.932855  0.981818  \n",
       "1-3-0    0.929972  0.939021  0.981806  \n",
       "1-3-1    0.930697  0.940904  0.982553  \n",
       "1-3-2    0.922791  0.943817  0.981604  \n",
       "1-3-3    0.932860  0.935409  0.982288  \n",
       "1-3-4    0.926101  0.946086  0.982670  \n",
       "1-4-0    0.928761  0.943006  0.982503  \n",
       "1-4-1    0.929279  0.939146  0.981826  \n",
       "1-4-2    0.928136  0.942004  0.982403  \n",
       "1-4-3    0.927056  0.941214  0.982245  \n",
       "1-4-4    0.935024  0.931125  0.981667  \n",
       "1-5-0    0.928914  0.943239  0.982817  \n",
       "1-5-1    0.928245  0.942460  0.982578  \n",
       "1-5-2    0.927721  0.943901  0.982769  \n",
       "1-5-3    0.932692  0.935663  0.982031  \n",
       "1-5-4    0.925747  0.948376  0.982939  \n",
       "1-6-0    0.927321  0.946466  0.983556  \n",
       "1-6-1    0.924796  0.951825  0.984116  \n",
       "1-6-2    0.927098  0.947283  0.983770  \n",
       "1-6-3    0.936303  0.936808  0.983682  \n",
       "1-6-4    0.925873  0.950381  0.983302  \n",
       "1-7-0    0.926557  0.949027  0.983907  \n",
       "1-7-1    0.942394  0.931695  0.983725  \n",
       "1-7-2    0.928487  0.944677  0.983352  \n",
       "1-7-3    0.932563  0.944621  0.984184  \n",
       "1-7-4    0.928622  0.949121  0.984467  \n",
       "1-8-0    0.933031  0.944033  0.983974  \n",
       "1-8-1    0.935728  0.937135  0.983228  \n",
       "1-8-2    0.934236  0.938840  0.983273  \n",
       "1-8-3    0.924567  0.951780  0.984219  \n",
       "1-8-4    0.934449  0.939370  0.983397  \n",
       "1-9-0    0.929241  0.948759  0.984301  \n",
       "1-9-1    0.934364  0.943330  0.984400  \n",
       "1-9-2    0.921194  0.955034  0.984213  \n",
       "1-9-3    0.928617  0.946974  0.983911  \n",
       "1-9-4    0.941386  0.937104  0.984597  \n",
       "1-10-0   0.936195  0.941450  0.984251  \n",
       "1-10-1   0.920943  0.957905  0.985172  \n",
       "1-10-2   0.930974  0.944583  0.984070  \n",
       "1-10-3   0.936175  0.939146  0.983852  \n",
       "1-10-4   0.932092  0.945888  0.984492  \n",
       "2-1-0    0.940149  0.931183  0.982711  \n",
       "2-1-1    0.931411  0.940643  0.982710  \n",
       "2-1-2    0.938610  0.930734  0.982335  \n",
       "2-1-3    0.929998  0.941617  0.982906  \n",
       "2-1-4    0.926029  0.944576  0.982127  \n",
       "2-2-0    0.935516  0.937775  0.983114  \n",
       "2-2-1    0.940239  0.933884  0.983845  \n",
       "2-2-2    0.933544  0.937218  0.983046  \n",
       "2-2-3    0.925809  0.946514  0.983278  \n",
       "2-2-4    0.933813  0.940156  0.983267  \n",
       "2-3-0    0.934543  0.943747  0.983722  \n",
       "2-3-1    0.941070  0.934277  0.984217  \n",
       "2-3-2    0.935646  0.940065  0.983943  \n",
       "2-3-3    0.925891  0.949218  0.983803  \n",
       "2-3-4    0.929249  0.951498  0.984867  \n",
       "2-4-0    0.941793  0.940069  0.985570  \n",
       "2-4-1    0.941106  0.935767  0.984199  \n",
       "2-4-2    0.929350  0.946201  0.984037  \n",
       "2-4-3    0.919219  0.953367  0.983780  \n",
       "2-4-4    0.937606  0.942902  0.984888  \n",
       "2-5-0    0.926230  0.952793  0.984794  \n",
       "2-5-1    0.935058  0.944736  0.984768  \n",
       "2-5-2    0.935401  0.943660  0.984742  \n",
       "2-5-3    0.932984  0.944443  0.984477  \n",
       "2-5-4    0.942118  0.938931  0.985422  \n",
       "2-6-0    0.943265  0.935819  0.985261  \n",
       "2-6-1    0.940705  0.943351  0.985921  \n",
       "2-6-2    0.933293  0.948206  0.985539  \n",
       "2-6-3    0.934928  0.944276  0.984664  \n",
       "2-6-4    0.941167  0.942919  0.986013  \n",
       "2-7-0    0.935668  0.947746  0.985796  \n",
       "2-7-1    0.943140  0.938255  0.985534  \n",
       "2-7-2    0.927428  0.953005  0.985479  \n",
       "2-7-3    0.926308  0.955010  0.985793  \n",
       "2-7-4    0.943864  0.941078  0.986420  \n",
       "2-8-0    0.936710  0.950920  0.986927  \n",
       "2-8-1    0.947002  0.937490  0.986561  \n",
       "2-8-2    0.939780  0.942829  0.985804  \n",
       "2-8-3    0.931452  0.950799  0.985705  \n",
       "2-8-4    0.940486  0.946076  0.986568  \n",
       "2-9-0    0.939550  0.946149  0.986377  \n",
       "2-9-1    0.944065  0.940845  0.986258  \n",
       "2-9-2    0.926525  0.954456  0.985561  \n",
       "2-9-3    0.939220  0.949337  0.987299  \n",
       "2-9-4    0.938397  0.948926  0.986757  \n",
       "2-10-0   0.940794  0.945467  0.986543  \n",
       "2-10-1   0.939097  0.947889  0.986738  \n",
       "2-10-2   0.935609  0.950155  0.986560  \n",
       "2-10-3   0.941214  0.940274  0.985954  \n",
       "2-10-4   0.940343  0.947847  0.987005  "
      ]
     },
     "execution_count": 34,
     "metadata": {},
     "output_type": "execute_result"
    }
   ],
   "source": [
    "train_metrics_pd"
   ]
  },
  {
   "cell_type": "code",
   "execution_count": 37,
   "metadata": {
    "collapsed": true
   },
   "outputs": [],
   "source": [
    "data_layer_head_metrics = dict()\n",
    "data_layer_head_metrics['train'] = train_metrics_pd\n",
    "data_layer_head_metrics['val'] = val_metrics_pd\n",
    "data_layer_head_metrics['independent'] = independent_metrics_pd\n",
    "data_layer_head_metrics['external'] = external_metrics_pd\n",
    "\n",
    "np.save('./results/pHLAIformer_data_layer_head_metrics_pd_dict.npy', data_layer_head_metrics)"
   ]
  },
  {
   "cell_type": "markdown",
   "metadata": {},
   "source": [
    "# 虽然layer=2效果更好，但是为了可解释性，还是选择1-9-4"
   ]
  },
  {
   "cell_type": "code",
   "execution_count": 31,
   "metadata": {
    "scrolled": true
   },
   "outputs": [
    {
     "name": "stdout",
     "output_type": "stream",
     "text": [
      "model_layer1_multihead9_fold4.pkl: # layer = 1 | # heads = 9 | Fold = 4\n"
     ]
    },
    {
     "name": "stderr",
     "output_type": "stream",
     "text": [
      "  0%|          | 1/562 [00:00<01:31,  6.13it/s]"
     ]
    },
    {
     "name": "stdout",
     "output_type": "stream",
     "text": [
      "TRAIN Label info: Counter({1: 287348, 0: 287348})\n"
     ]
    },
    {
     "name": "stderr",
     "output_type": "stream",
     "text": [
      "100%|██████████| 562/562 [02:32<00:00,  3.68it/s]\n"
     ]
    },
    {
     "name": "stdout",
     "output_type": "stream",
     "text": [
      "tn = 270582, fp = 16766, fn = 18073, tp = 269275\n",
      "y_pred: 0 = 288655 | 1 = 286041\n",
      "y_true: 0 = 287348 | 1 = 287348\n",
      "auc=0.9848|sensitivity=0.9371|specificity=0.9417|acc=0.9394|mcc=0.8788\n",
      "precision=0.9414|recall=0.9371|f1=0.9392|aupr=0.9846\n"
     ]
    },
    {
     "name": "stderr",
     "output_type": "stream",
     "text": [
      "\r",
      "  0%|          | 0/141 [00:00<?, ?it/s]"
     ]
    },
    {
     "name": "stdout",
     "output_type": "stream",
     "text": [
      "VAL Label info: Counter({0: 71837, 1: 71837})\n"
     ]
    },
    {
     "name": "stderr",
     "output_type": "stream",
     "text": [
      "100%|██████████| 141/141 [01:23<00:00,  1.68it/s]\n"
     ]
    },
    {
     "name": "stdout",
     "output_type": "stream",
     "text": [
      "tn = 66710, fp = 5127, fn = 4488, tp = 67349\n",
      "y_pred: 0 = 71198 | 1 = 72476\n",
      "y_true: 0 = 71837 | 1 = 71837\n",
      "auc=0.9810|sensitivity=0.9375|specificity=0.9286|acc=0.9331|mcc=0.8662\n",
      "precision=0.9293|recall=0.9375|f1=0.9334|aupr=0.9795\n"
     ]
    },
    {
     "name": "stderr",
     "output_type": "stream",
     "text": [
      "\r",
      "  0%|          | 0/168 [00:00<?, ?it/s]"
     ]
    },
    {
     "name": "stdout",
     "output_type": "stream",
     "text": [
      "INDEPENDENT Label info: Counter({1: 85876, 0: 85562})\n"
     ]
    },
    {
     "name": "stderr",
     "output_type": "stream",
     "text": [
      "100%|██████████| 168/168 [00:22<00:00,  7.35it/s]\n"
     ]
    },
    {
     "name": "stdout",
     "output_type": "stream",
     "text": [
      "tn = 79688, fp = 5874, fn = 5982, tp = 79894\n",
      "y_pred: 0 = 85670 | 1 = 85768\n",
      "y_true: 0 = 85562 | 1 = 85876\n",
      "auc=0.9789|sensitivity=0.9303|specificity=0.9313|acc=0.9308|mcc=0.8617\n",
      "precision=0.9315|recall=0.9303|f1=0.9309|aupr=0.9782\n"
     ]
    },
    {
     "name": "stderr",
     "output_type": "stream",
     "text": [
      "\r",
      "  0%|          | 0/102 [00:00<?, ?it/s]"
     ]
    },
    {
     "name": "stdout",
     "output_type": "stream",
     "text": [
      "EXTERNAL Label info: Counter({1: 51984, 0: 51881})\n"
     ]
    },
    {
     "name": "stderr",
     "output_type": "stream",
     "text": [
      "100%|██████████| 102/102 [00:14<00:00,  7.14it/s]\n"
     ]
    },
    {
     "name": "stdout",
     "output_type": "stream",
     "text": [
      "tn = 49362, fp = 2519, fn = 10108, tp = 41876\n",
      "y_pred: 0 = 59470 | 1 = 44395\n",
      "y_true: 0 = 51881 | 1 = 51984\n",
      "auc=0.9505|sensitivity=0.8056|specificity=0.9514|acc=0.8784|mcc=0.7651\n",
      "precision=0.9433|recall=0.8056|f1=0.8690|aupr=0.9552\n"
     ]
    },
    {
     "data": {
      "text/html": [
       "<div>\n",
       "<style scoped>\n",
       "    .dataframe tbody tr th:only-of-type {\n",
       "        vertical-align: middle;\n",
       "    }\n",
       "\n",
       "    .dataframe tbody tr th {\n",
       "        vertical-align: top;\n",
       "    }\n",
       "\n",
       "    .dataframe thead th {\n",
       "        text-align: right;\n",
       "    }\n",
       "</style>\n",
       "<table border=\"1\" class=\"dataframe\">\n",
       "  <thead>\n",
       "    <tr style=\"text-align: right;\">\n",
       "      <th></th>\n",
       "      <th>roc_auc</th>\n",
       "      <th>accuracy</th>\n",
       "      <th>mcc</th>\n",
       "      <th>f1</th>\n",
       "      <th>sensitivity</th>\n",
       "      <th>specificity</th>\n",
       "      <th>precision</th>\n",
       "      <th>recall</th>\n",
       "      <th>aupr</th>\n",
       "    </tr>\n",
       "  </thead>\n",
       "  <tbody>\n",
       "    <tr>\n",
       "      <th>train</th>\n",
       "      <td>0.984848</td>\n",
       "      <td>0.939378</td>\n",
       "      <td>0.878766</td>\n",
       "      <td>0.939240</td>\n",
       "      <td>0.937104</td>\n",
       "      <td>0.941653</td>\n",
       "      <td>0.941386</td>\n",
       "      <td>0.937104</td>\n",
       "      <td>0.984597</td>\n",
       "    </tr>\n",
       "    <tr>\n",
       "      <th>val</th>\n",
       "      <td>0.980968</td>\n",
       "      <td>0.933078</td>\n",
       "      <td>0.866190</td>\n",
       "      <td>0.933374</td>\n",
       "      <td>0.937525</td>\n",
       "      <td>0.928630</td>\n",
       "      <td>0.929259</td>\n",
       "      <td>0.937525</td>\n",
       "      <td>0.979490</td>\n",
       "    </tr>\n",
       "    <tr>\n",
       "      <th>independent</th>\n",
       "      <td>0.978880</td>\n",
       "      <td>0.930844</td>\n",
       "      <td>0.861688</td>\n",
       "      <td>0.930927</td>\n",
       "      <td>0.930341</td>\n",
       "      <td>0.931348</td>\n",
       "      <td>0.931513</td>\n",
       "      <td>0.930341</td>\n",
       "      <td>0.978183</td>\n",
       "    </tr>\n",
       "    <tr>\n",
       "      <th>external</th>\n",
       "      <td>0.950488</td>\n",
       "      <td>0.878429</td>\n",
       "      <td>0.765103</td>\n",
       "      <td>0.868986</td>\n",
       "      <td>0.805556</td>\n",
       "      <td>0.951447</td>\n",
       "      <td>0.943259</td>\n",
       "      <td>0.805556</td>\n",
       "      <td>0.955213</td>\n",
       "    </tr>\n",
       "  </tbody>\n",
       "</table>\n",
       "</div>"
      ],
      "text/plain": [
       "              roc_auc  accuracy       mcc        f1  sensitivity  specificity  \\\n",
       "train        0.984848  0.939378  0.878766  0.939240     0.937104     0.941653   \n",
       "val          0.980968  0.933078  0.866190  0.933374     0.937525     0.928630   \n",
       "independent  0.978880  0.930844  0.861688  0.930927     0.930341     0.931348   \n",
       "external     0.950488  0.878429  0.765103  0.868986     0.805556     0.951447   \n",
       "\n",
       "             precision    recall      aupr  \n",
       "train         0.941386  0.937104  0.984597  \n",
       "val           0.929259  0.937525  0.979490  \n",
       "independent   0.931513  0.930341  0.978183  \n",
       "external      0.943259  0.805556  0.955213  "
      ]
     },
     "execution_count": 31,
     "metadata": {},
     "output_type": "execute_result"
    }
   ],
   "source": [
    "types = ['train', 'val', 'independent', 'external']\n",
    "\n",
    "model_file = 'model_layer1_multihead9_fold4.pkl'\n",
    "model_layer_head = ['1', '9', '4']\n",
    "n_layers, n_heads, fold = 1, 9, 4\n",
    "temp =  str(n_layers) + '-' + str(n_heads) + '-' + str(fold)\n",
    "print('{}: # layer = {} | # heads = {} | Fold = {}'.format(model_file, n_layers, n_heads, fold))\n",
    "\n",
    "save_ = True\n",
    "use_cuda = False\n",
    "device = torch.device(\"cuda\" if use_cuda else \"cpu\")\n",
    "\n",
    "metrics_dict, ys_dict, attns_dict = {}, {}, {}\n",
    "for type_ in types:\n",
    "    \n",
    "    model_eval = Transformer().to(device)\n",
    "    criterion = nn.CrossEntropyLoss()\n",
    "    model_pwd = '/home/chujunyi/5_ZY_MHC/model/pHLAIformer/'\n",
    "    model_eval.load_state_dict(torch.load(model_pwd + model_file), strict = True)\n",
    "\n",
    "    if type_ == 'train' or type_ == 'val':\n",
    "        data, pep_inputs, hla_inputs, labels, loader = data_with_loader(type_, fold,  batch_size)\n",
    "    else:\n",
    "        data, pep_inputs, hla_inputs, labels, loader = data_with_loader(type_, None, batch_size)\n",
    "    print('{} Label info: {}'.format(str.upper(type_), Counter(data.label)))\n",
    "\n",
    "    model_eval.eval()\n",
    "\n",
    "    metrics_res, ys_res, attn_res = eval_step(model_eval, loader, labels, fold, use_cuda, save_)\n",
    "    torch.save(attn_res, './results/pHLAIformer_{}_data_attn.pt'.format(type_))\n",
    "    \n",
    "    data['y_true'], data['y_pred'], data['y_prob'] = ys_res[0], ys_res[1], ys_res[2]\n",
    "    metrics_dict[type_], ys_dict[type_] = metrics_res, data\n",
    "    # attns_dict[type_] = attn_res\n",
    "\n",
    "metrics_pd = performances_to_pd(metrics_dict)\n",
    "np.save('./results/pHLAIformer_data_metrics_pd_dict.npy', metrics_dict)\n",
    "np.save('./results/pHLAIformer_data_res_pd_dict.npy', ys_dict)\n",
    "metrics_pd"
   ]
  },
  {
   "cell_type": "code",
   "execution_count": 32,
   "metadata": {},
   "outputs": [
    {
     "data": {
      "text/plain": [
       "(103865, 9, torch.Size([9, 34, 15]))"
      ]
     },
     "execution_count": 32,
     "metadata": {},
     "output_type": "execute_result"
    }
   ],
   "source": [
    "len(attn_res), len(attn_res[0]), attn_res[0].shape"
   ]
  },
  {
   "cell_type": "markdown",
   "metadata": {},
   "source": [
    "# 把1-9-4数据都合并在一起来看attention"
   ]
  },
  {
   "cell_type": "code",
   "execution_count": 43,
   "metadata": {
    "collapsed": true
   },
   "outputs": [],
   "source": [
    "def eval_step_corrected(model, val_loader, labels, fold, use_cuda = False, save_ = False):\n",
    "    device = torch.device(\"cuda\" if use_cuda else \"cpu\")\n",
    "    \n",
    "    model.eval()\n",
    "    torch.manual_seed(19961231)\n",
    "    torch.cuda.manual_seed(19961231)\n",
    "    with torch.no_grad():\n",
    "        y_true_val_list, y_prob_val_list, dec_attns_val_list = [], [], []\n",
    "        for val_pep_inputs, val_hla_inputs, val_labels in tqdm(val_loader):\n",
    "            val_pep_inputs, val_hla_inputs, val_labels = val_pep_inputs.to(device), val_hla_inputs.to(device), val_labels.to(device)\n",
    "            val_outputs, _, _, val_dec_self_attns = model(val_pep_inputs, val_hla_inputs)\n",
    "            val_loss = criterion(val_outputs, val_labels)\n",
    "\n",
    "            y_true_val = val_labels.cpu().numpy()\n",
    "            y_prob_val = nn.Softmax(dim = 1)(val_outputs)[:, 1].cpu().detach().numpy()\n",
    "\n",
    "            y_true_val_list.extend(y_true_val)\n",
    "            y_prob_val_list.extend(y_prob_val)\n",
    "            \n",
    "            if save_:\n",
    "                dec_attns_val_list.extend(val_dec_self_attns[0][:, :, 15:, :15]) # 只要（34,15）行HLA，列peptide\n",
    "                \n",
    "        assert (labels.numpy() == y_true_val_list).all()    \n",
    "        y_pred_val_list = transfer(y_prob_val_list, threshold)\n",
    "        ys_val = (y_true_val_list, y_pred_val_list, y_prob_val_list)\n",
    "        metrics_val = performances(y_true_val_list, y_pred_val_list, y_prob_val_list, print_ = True)\n",
    "        \n",
    "        if save_: \n",
    "            return metrics_val, ys_val, dec_attns_val_list\n",
    "        else:\n",
    "            return metrics_val, ys_val, None"
   ]
  },
  {
   "cell_type": "code",
   "execution_count": 42,
   "metadata": {},
   "outputs": [
    {
     "name": "stdout",
     "output_type": "stream",
     "text": [
      "Label info: Counter({0: 496538, 1: 425208})\n"
     ]
    },
    {
     "data": {
      "text/html": [
       "<div>\n",
       "<style scoped>\n",
       "    .dataframe tbody tr th:only-of-type {\n",
       "        vertical-align: middle;\n",
       "    }\n",
       "\n",
       "    .dataframe tbody tr th {\n",
       "        vertical-align: top;\n",
       "    }\n",
       "\n",
       "    .dataframe thead th {\n",
       "        text-align: right;\n",
       "    }\n",
       "</style>\n",
       "<table border=\"1\" class=\"dataframe\">\n",
       "  <thead>\n",
       "    <tr style=\"text-align: right;\">\n",
       "      <th></th>\n",
       "      <th>peptide</th>\n",
       "      <th>length</th>\n",
       "      <th>HLA</th>\n",
       "      <th>label</th>\n",
       "      <th>HLA_sequence</th>\n",
       "    </tr>\n",
       "  </thead>\n",
       "  <tbody>\n",
       "    <tr>\n",
       "      <th>0</th>\n",
       "      <td>QRYLDELMKL</td>\n",
       "      <td>10</td>\n",
       "      <td>HLA-B*27:08</td>\n",
       "      <td>1</td>\n",
       "      <td>YHTEYREICAKTDESNLYLNYHDYTWAVLAYEWY</td>\n",
       "    </tr>\n",
       "    <tr>\n",
       "      <th>1</th>\n",
       "      <td>TEIPVAKI</td>\n",
       "      <td>8</td>\n",
       "      <td>HLA-B*49:01</td>\n",
       "      <td>1</td>\n",
       "      <td>YHTKYREISTNTYENIAYWRYNLYTWAELAYLWY</td>\n",
       "    </tr>\n",
       "    <tr>\n",
       "      <th>2</th>\n",
       "      <td>DNTPSEMPP</td>\n",
       "      <td>9</td>\n",
       "      <td>HLA-A*11:01</td>\n",
       "      <td>0</td>\n",
       "      <td>YYAMYQENVAQTDVDTLYIIYRDYTWAAQAYRWY</td>\n",
       "    </tr>\n",
       "    <tr>\n",
       "      <th>3</th>\n",
       "      <td>ARLPGVSRSGFS</td>\n",
       "      <td>12</td>\n",
       "      <td>HLA-B*27:05</td>\n",
       "      <td>1</td>\n",
       "      <td>YHTEYREICAKTDEDTLYLNYHDYTWAVLAYEWY</td>\n",
       "    </tr>\n",
       "    <tr>\n",
       "      <th>4</th>\n",
       "      <td>HLVDFQVTI</td>\n",
       "      <td>9</td>\n",
       "      <td>HLA-A*02:02</td>\n",
       "      <td>1</td>\n",
       "      <td>YFAMYGEKVAHTHVDTLYLRYHYYTWAVWAYTWY</td>\n",
       "    </tr>\n",
       "    <tr>\n",
       "      <th>...</th>\n",
       "      <td>...</td>\n",
       "      <td>...</td>\n",
       "      <td>...</td>\n",
       "      <td>...</td>\n",
       "      <td>...</td>\n",
       "    </tr>\n",
       "    <tr>\n",
       "      <th>921741</th>\n",
       "      <td>DAPTPGSNSTPGLR</td>\n",
       "      <td>14</td>\n",
       "      <td>HLA-B*18:01</td>\n",
       "      <td>0</td>\n",
       "      <td>YHSTYRNISTNTYESNLYLRYDSYTWAVLAYTWH</td>\n",
       "    </tr>\n",
       "    <tr>\n",
       "      <th>921742</th>\n",
       "      <td>PHLMPSNCGLEEKI</td>\n",
       "      <td>14</td>\n",
       "      <td>HLA-B*18:01</td>\n",
       "      <td>0</td>\n",
       "      <td>YHSTYRNISTNTYESNLYLRYDSYTWAVLAYTWH</td>\n",
       "    </tr>\n",
       "    <tr>\n",
       "      <th>921743</th>\n",
       "      <td>EYYRGLVPILFRNG</td>\n",
       "      <td>14</td>\n",
       "      <td>HLA-B*18:01</td>\n",
       "      <td>0</td>\n",
       "      <td>YHSTYRNISTNTYESNLYLRYDSYTWAVLAYTWH</td>\n",
       "    </tr>\n",
       "    <tr>\n",
       "      <th>921744</th>\n",
       "      <td>RSMLEVNYPMENGI</td>\n",
       "      <td>14</td>\n",
       "      <td>HLA-B*18:01</td>\n",
       "      <td>0</td>\n",
       "      <td>YHSTYRNISTNTYESNLYLRYDSYTWAVLAYTWH</td>\n",
       "    </tr>\n",
       "    <tr>\n",
       "      <th>921745</th>\n",
       "      <td>YLPDGYENENQLLN</td>\n",
       "      <td>14</td>\n",
       "      <td>HLA-B*18:01</td>\n",
       "      <td>0</td>\n",
       "      <td>YHSTYRNISTNTYESNLYLRYDSYTWAVLAYTWH</td>\n",
       "    </tr>\n",
       "  </tbody>\n",
       "</table>\n",
       "<p>921746 rows × 5 columns</p>\n",
       "</div>"
      ],
      "text/plain": [
       "               peptide  length          HLA  label  \\\n",
       "0           QRYLDELMKL      10  HLA-B*27:08      1   \n",
       "1             TEIPVAKI       8  HLA-B*49:01      1   \n",
       "2            DNTPSEMPP       9  HLA-A*11:01      0   \n",
       "3         ARLPGVSRSGFS      12  HLA-B*27:05      1   \n",
       "4            HLVDFQVTI       9  HLA-A*02:02      1   \n",
       "...                ...     ...          ...    ...   \n",
       "921741  DAPTPGSNSTPGLR      14  HLA-B*18:01      0   \n",
       "921742  PHLMPSNCGLEEKI      14  HLA-B*18:01      0   \n",
       "921743  EYYRGLVPILFRNG      14  HLA-B*18:01      0   \n",
       "921744  RSMLEVNYPMENGI      14  HLA-B*18:01      0   \n",
       "921745  YLPDGYENENQLLN      14  HLA-B*18:01      0   \n",
       "\n",
       "                              HLA_sequence  \n",
       "0       YHTEYREICAKTDESNLYLNYHDYTWAVLAYEWY  \n",
       "1       YHTKYREISTNTYENIAYWRYNLYTWAELAYLWY  \n",
       "2       YYAMYQENVAQTDVDTLYIIYRDYTWAAQAYRWY  \n",
       "3       YHTEYREICAKTDEDTLYLNYHDYTWAVLAYEWY  \n",
       "4       YFAMYGEKVAHTHVDTLYLRYHYYTWAVWAYTWY  \n",
       "...                                    ...  \n",
       "921741  YHSTYRNISTNTYESNLYLRYDSYTWAVLAYTWH  \n",
       "921742  YHSTYRNISTNTYESNLYLRYDSYTWAVLAYTWH  \n",
       "921743  YHSTYRNISTNTYESNLYLRYDSYTWAVLAYTWH  \n",
       "921744  YHSTYRNISTNTYESNLYLRYDSYTWAVLAYTWH  \n",
       "921745  YHSTYRNISTNTYESNLYLRYDSYTWAVLAYTWH  \n",
       "\n",
       "[921746 rows x 5 columns]"
      ]
     },
     "execution_count": 42,
     "metadata": {},
     "output_type": "execute_result"
    }
   ],
   "source": [
    "fold = 4\n",
    "train_data = pd.read_csv('/home/chujunyi/5_ZY_MHC/Anthem/Dataset/train_data_fold{}.csv'.format(fold), index_col = 0)\n",
    "val_data = pd.read_csv('/home/chujunyi/5_ZY_MHC/Anthem/Dataset/val_data_fold{}.csv'.format(fold), index_col = 0)\n",
    "independent_data = pd.read_csv('/home/chujunyi/5_ZY_MHC/Anthem/Dataset/independent_set.csv', index_col = 0)\n",
    "external_data = pd.read_csv('/home/chujunyi/5_ZY_MHC/Anthem/Dataset/external_set.csv', index_col = 0)\n",
    "\n",
    "all_data = pd.concat([train_data, val_data, independent_data, external_data], axis = 0).drop_duplicates().reset_index(drop = True)\n",
    "\n",
    "all_pep_inputs, all_hla_inputs, all_labels = make_data(all_data)\n",
    "all_loader = Data.DataLoader(MyDataSet(all_pep_inputs, all_hla_inputs, all_labels), batch_size, shuffle = False, num_workers = 0)\n",
    "print('Label info: {}'.format(Counter(all_data.label)))\n",
    "all_data"
   ]
  },
  {
   "cell_type": "code",
   "execution_count": 44,
   "metadata": {
    "scrolled": true
   },
   "outputs": [
    {
     "name": "stderr",
     "output_type": "stream",
     "text": [
      "\r",
      "  0%|          | 0/901 [00:00<?, ?it/s]"
     ]
    },
    {
     "name": "stdout",
     "output_type": "stream",
     "text": [
      "model_layer1_multihead9_fold4.pkl: # layer = 1 | # heads = 9 | Fold = 4\n"
     ]
    },
    {
     "name": "stderr",
     "output_type": "stream",
     "text": [
      "100%|██████████| 901/901 [02:02<00:00,  7.38it/s]\n"
     ]
    },
    {
     "name": "stdout",
     "output_type": "stream",
     "text": [
      "tn = 466254, fp = 30284, fn = 34163, tp = 391045\n",
      "y_pred: 0 = 500417 | 1 = 421329\n",
      "y_true: 0 = 496538 | 1 = 425208\n",
      "auc=0.9783|sensitivity=0.9197|specificity=0.9390|acc=0.9301|mcc=0.8593\n",
      "precision=0.9281|recall=0.9197|f1=0.9239|aupr=0.9757\n"
     ]
    },
    {
     "data": {
      "text/html": [
       "<div>\n",
       "<style scoped>\n",
       "    .dataframe tbody tr th:only-of-type {\n",
       "        vertical-align: middle;\n",
       "    }\n",
       "\n",
       "    .dataframe tbody tr th {\n",
       "        vertical-align: top;\n",
       "    }\n",
       "\n",
       "    .dataframe thead th {\n",
       "        text-align: right;\n",
       "    }\n",
       "</style>\n",
       "<table border=\"1\" class=\"dataframe\">\n",
       "  <thead>\n",
       "    <tr style=\"text-align: right;\">\n",
       "      <th></th>\n",
       "      <th>roc_auc</th>\n",
       "      <th>accuracy</th>\n",
       "      <th>mcc</th>\n",
       "      <th>f1</th>\n",
       "      <th>sensitivity</th>\n",
       "      <th>specificity</th>\n",
       "      <th>precision</th>\n",
       "      <th>recall</th>\n",
       "      <th>aupr</th>\n",
       "    </tr>\n",
       "  </thead>\n",
       "  <tbody>\n",
       "    <tr>\n",
       "      <th>0</th>\n",
       "      <td>0.978267</td>\n",
       "      <td>0.930082</td>\n",
       "      <td>0.859259</td>\n",
       "      <td>0.92387</td>\n",
       "      <td>0.919656</td>\n",
       "      <td>0.93901</td>\n",
       "      <td>0.928123</td>\n",
       "      <td>0.919656</td>\n",
       "      <td>0.975684</td>\n",
       "    </tr>\n",
       "  </tbody>\n",
       "</table>\n",
       "</div>"
      ],
      "text/plain": [
       "    roc_auc  accuracy       mcc       f1  sensitivity  specificity  precision  \\\n",
       "0  0.978267  0.930082  0.859259  0.92387     0.919656      0.93901   0.928123   \n",
       "\n",
       "     recall      aupr  \n",
       "0  0.919656  0.975684  "
      ]
     },
     "execution_count": 44,
     "metadata": {},
     "output_type": "execute_result"
    }
   ],
   "source": [
    "type_ = 'all'\n",
    "\n",
    "model_file = 'model_layer1_multihead9_fold4.pkl'\n",
    "model_layer_head = ['1', '9', '4']\n",
    "n_layers, n_heads, fold = 1, 9, 4\n",
    "temp =  str(n_layers) + '-' + str(n_heads) + '-' + str(fold)\n",
    "print('{}: # layer = {} | # heads = {} | Fold = {}'.format(model_file, n_layers, n_heads, fold))\n",
    "\n",
    "save_ = False\n",
    "use_cuda = False\n",
    "device = torch.device(\"cuda\" if use_cuda else \"cpu\")\n",
    "\n",
    "attns_dict = {}\n",
    "\n",
    "model_eval = Transformer().to(device)\n",
    "criterion = nn.CrossEntropyLoss()\n",
    "model_pwd = '/home/chujunyi/5_ZY_MHC/model/pHLAIformer/'\n",
    "model_eval.load_state_dict(torch.load(model_pwd + model_file), strict = True)\n",
    "\n",
    "model_eval.eval()\n",
    "metrics_res, ys_res, _ = eval_step_corrected(model_eval, all_loader, all_labels, fold, use_cuda, save_)\n",
    "# torch.save(attn_res, './results/pHLAIformer_{}_data_attn.pt'.format(type_))\n",
    "\n",
    "all_data['y_true'], all_data['y_pred'], all_data['y_prob'] = ys_res[0], ys_res[1], ys_res[2]\n",
    "performances_to_pd(metrics_res)"
   ]
  },
  {
   "cell_type": "code",
   "execution_count": 45,
   "metadata": {},
   "outputs": [
    {
     "name": "stdout",
     "output_type": "stream",
     "text": [
      "Label info: Counter({0: 466254, 1: 391045})\n"
     ]
    },
    {
     "data": {
      "text/plain": [
       "(857299, 921746)"
      ]
     },
     "execution_count": 45,
     "metadata": {},
     "output_type": "execute_result"
    }
   ],
   "source": [
    "all_corrected_data = all_data[all_data.y_pred == all_data.label].reset_index(drop = True)\n",
    "\n",
    "all_corrected_pep_inputs, all_corrected_hla_inputs, all_corrected_labels = make_data(all_corrected_data)\n",
    "all_corrected_loader = Data.DataLoader(MyDataSet(all_corrected_pep_inputs, all_corrected_hla_inputs, all_corrected_labels), batch_size, shuffle = False, num_workers = 0)\n",
    "print('Label info: {}'.format(Counter(all_corrected_data.label)))\n",
    "\n",
    "all_data_corrected.shape[0], all_data.shape[0]"
   ]
  },
  {
   "cell_type": "code",
   "execution_count": 46,
   "metadata": {
    "scrolled": true
   },
   "outputs": [
    {
     "name": "stderr",
     "output_type": "stream",
     "text": [
      "\r",
      "  0%|          | 0/838 [00:00<?, ?it/s]"
     ]
    },
    {
     "name": "stdout",
     "output_type": "stream",
     "text": [
      "model_layer1_multihead9_fold4.pkl: # layer = 1 | # heads = 9 | Fold = 4\n"
     ]
    },
    {
     "name": "stderr",
     "output_type": "stream",
     "text": [
      "100%|██████████| 838/838 [02:15<00:00,  6.18it/s]\n"
     ]
    },
    {
     "name": "stdout",
     "output_type": "stream",
     "text": [
      "tn = 466254, fp = 0, fn = 0, tp = 391045\n",
      "y_pred: 0 = 466254 | 1 = 391045\n",
      "y_true: 0 = 466254 | 1 = 391045\n",
      "auc=1.0000|sensitivity=1.0000|specificity=1.0000|acc=1.0000|mcc=1.0000\n",
      "precision=1.0000|recall=1.0000|f1=1.0000|aupr=1.0000\n"
     ]
    }
   ],
   "source": [
    "type_ = 'all_corrected'\n",
    "\n",
    "model_file = 'model_layer1_multihead9_fold4.pkl'\n",
    "model_layer_head = ['1', '9', '4']\n",
    "n_layers, n_heads, fold = 1, 9, 4\n",
    "temp =  str(n_layers) + '-' + str(n_heads) + '-' + str(fold)\n",
    "print('{}: # layer = {} | # heads = {} | Fold = {}'.format(model_file, n_layers, n_heads, fold))\n",
    "\n",
    "save_ = True\n",
    "use_cuda = False\n",
    "device = torch.device(\"cuda\" if use_cuda else \"cpu\")\n",
    "\n",
    "attns_dict = {}\n",
    "\n",
    "model_eval = Transformer().to(device)\n",
    "criterion = nn.CrossEntropyLoss()\n",
    "model_pwd = '/home/chujunyi/5_ZY_MHC/model/pHLAIformer/'\n",
    "model_eval.load_state_dict(torch.load(model_pwd + model_file), strict = True)\n",
    "\n",
    "model_eval.eval()\n",
    "_, _, attn_res = eval_step_corrected(model_eval, all_corrected_loader, all_corrected_labels, fold, use_cuda, save_)\n",
    "torch.save(attn_res, './results/pHLAIformer_{}_data_attn.pt'.format(type_))"
   ]
  },
  {
   "cell_type": "code",
   "execution_count": 47,
   "metadata": {
    "collapsed": true
   },
   "outputs": [],
   "source": [
    "all_corrected_data.to_csv('./results/pHLAIformer_all_corrected_data_res_pd.csv')"
   ]
  },
  {
   "cell_type": "markdown",
   "metadata": {},
   "source": [
    "##### 文件太大了，改成float16"
   ]
  },
  {
   "cell_type": "code",
   "execution_count": 56,
   "metadata": {},
   "outputs": [
    {
     "name": "stderr",
     "output_type": "stream",
     "text": [
      "100%|██████████| 857299/857299 [00:26<00:00, 32135.01it/s]\n"
     ]
    }
   ],
   "source": [
    "for i in trange(len(attn_res)):\n",
    "    attn_res[i] = attn_res[i].half()"
   ]
  },
  {
   "cell_type": "code",
   "execution_count": 57,
   "metadata": {},
   "outputs": [
    {
     "data": {
      "text/plain": [
       "torch.float16"
      ]
     },
     "execution_count": 57,
     "metadata": {},
     "output_type": "execute_result"
    }
   ],
   "source": [
    "attn_res[0].dtype"
   ]
  },
  {
   "cell_type": "code",
   "execution_count": 58,
   "metadata": {
    "collapsed": true
   },
   "outputs": [],
   "source": [
    "torch.save(attn_res, './results/pHLAIformer_all_corrected_data_attn_float16.pt')"
   ]
  },
  {
   "cell_type": "markdown",
   "metadata": {},
   "source": [
    "# 模型"
   ]
  },
  {
   "cell_type": "code",
   "execution_count": 59,
   "metadata": {
    "scrolled": true
   },
   "outputs": [
    {
     "data": {
      "text/plain": [
       "Transformer(\n",
       "  (pep_encoder): Encoder(\n",
       "    (src_emb): Embedding(21, 64)\n",
       "    (pos_emb): PositionalEncoding(\n",
       "      (dropout): Dropout(p=0.1, inplace=False)\n",
       "    )\n",
       "    (layers): ModuleList(\n",
       "      (0): EncoderLayer(\n",
       "        (enc_self_attn): MultiHeadAttention(\n",
       "          (W_Q): Linear(in_features=64, out_features=576, bias=False)\n",
       "          (W_K): Linear(in_features=64, out_features=576, bias=False)\n",
       "          (W_V): Linear(in_features=64, out_features=576, bias=False)\n",
       "          (fc): Linear(in_features=576, out_features=64, bias=False)\n",
       "        )\n",
       "        (pos_ffn): PoswiseFeedForwardNet(\n",
       "          (fc): Sequential(\n",
       "            (0): Linear(in_features=64, out_features=512, bias=False)\n",
       "            (1): ReLU()\n",
       "            (2): Linear(in_features=512, out_features=64, bias=False)\n",
       "          )\n",
       "        )\n",
       "      )\n",
       "    )\n",
       "  )\n",
       "  (hla_encoder): Encoder(\n",
       "    (src_emb): Embedding(21, 64)\n",
       "    (pos_emb): PositionalEncoding(\n",
       "      (dropout): Dropout(p=0.1, inplace=False)\n",
       "    )\n",
       "    (layers): ModuleList(\n",
       "      (0): EncoderLayer(\n",
       "        (enc_self_attn): MultiHeadAttention(\n",
       "          (W_Q): Linear(in_features=64, out_features=576, bias=False)\n",
       "          (W_K): Linear(in_features=64, out_features=576, bias=False)\n",
       "          (W_V): Linear(in_features=64, out_features=576, bias=False)\n",
       "          (fc): Linear(in_features=576, out_features=64, bias=False)\n",
       "        )\n",
       "        (pos_ffn): PoswiseFeedForwardNet(\n",
       "          (fc): Sequential(\n",
       "            (0): Linear(in_features=64, out_features=512, bias=False)\n",
       "            (1): ReLU()\n",
       "            (2): Linear(in_features=512, out_features=64, bias=False)\n",
       "          )\n",
       "        )\n",
       "      )\n",
       "    )\n",
       "  )\n",
       "  (decoder): Decoder(\n",
       "    (pos_emb): PositionalEncoding(\n",
       "      (dropout): Dropout(p=0.1, inplace=False)\n",
       "    )\n",
       "    (layers): ModuleList(\n",
       "      (0): DecoderLayer(\n",
       "        (dec_self_attn): MultiHeadAttention(\n",
       "          (W_Q): Linear(in_features=64, out_features=576, bias=False)\n",
       "          (W_K): Linear(in_features=64, out_features=576, bias=False)\n",
       "          (W_V): Linear(in_features=64, out_features=576, bias=False)\n",
       "          (fc): Linear(in_features=576, out_features=64, bias=False)\n",
       "        )\n",
       "        (pos_ffn): PoswiseFeedForwardNet(\n",
       "          (fc): Sequential(\n",
       "            (0): Linear(in_features=64, out_features=512, bias=False)\n",
       "            (1): ReLU()\n",
       "            (2): Linear(in_features=512, out_features=64, bias=False)\n",
       "          )\n",
       "        )\n",
       "      )\n",
       "    )\n",
       "  )\n",
       "  (projection): Sequential(\n",
       "    (0): Linear(in_features=3136, out_features=256, bias=True)\n",
       "    (1): ReLU(inplace=True)\n",
       "    (2): BatchNorm1d(256, eps=1e-05, momentum=0.1, affine=True, track_running_stats=True)\n",
       "    (3): Linear(in_features=256, out_features=64, bias=True)\n",
       "    (4): ReLU(inplace=True)\n",
       "    (5): Linear(in_features=64, out_features=2, bias=True)\n",
       "  )\n",
       ")"
      ]
     },
     "execution_count": 59,
     "metadata": {},
     "output_type": "execute_result"
    }
   ],
   "source": [
    "model_eval"
   ]
  },
  {
   "cell_type": "markdown",
   "metadata": {},
   "source": [
    "# 性能评估指标处理"
   ]
  },
  {
   "cell_type": "markdown",
   "metadata": {},
   "source": [
    "### length, hla Results"
   ]
  },
  {
   "cell_type": "code",
   "execution_count": 144,
   "metadata": {
    "collapsed": true
   },
   "outputs": [],
   "source": [
    "def eval_performances_to_pd(metrics_length_dict, length):\n",
    "    metrics_name = ['roc_auc', 'accuracy', 'mcc', 'f1', 'sensitivity', 'specificity', 'precision', 'recall', 'aupr', 'num']\n",
    "    \n",
    "    performances_pd = pd.DataFrame(metrics_length_dict[length], index = metrics_name).T\n",
    "    performances_pd.loc['mean'] = performances_pd.mean(axis = 0)\n",
    "    performances_pd.loc['median'] = performances_pd.median(axis = 0)\n",
    "    performances_pd.loc['std'] = performances_pd.std(axis = 0)\n",
    "    performances_pd.loc['sum', 'num'] = performances_pd['num'].sum(axis = 0)\n",
    "    performances_pd['num'] = performances_pd['num'].astype('int')\n",
    "    \n",
    "    return performances_pd"
   ]
  },
  {
   "cell_type": "code",
   "execution_count": 145,
   "metadata": {
    "collapsed": true
   },
   "outputs": [],
   "source": [
    "def metrics_all_length_hla_pd_dict(all_data_res_pd_dict, data_type, lengths):\n",
    "    data_eval = all_data_res_pd_dict[data_type]\n",
    "    \n",
    "    metrics_length_hla_dict, metrics_length_hla_pd_dict = {}, {}\n",
    "    \n",
    "    metrics_allsamples = performances(data_eval.y_true, data_eval.y_pred, data_eval.y_prob)\n",
    "    metrics_length_hla_pd_dict['all'] = performances_to_pd(metrics_allsamples)\n",
    "\n",
    "    for length in lengths:\n",
    "        data_length = data_eval[data_eval.length == length]\n",
    "        hlas_length = list(set(data_length.HLA))\n",
    "        metrics_length_hla_dict[length] = {}\n",
    "        for hla in tqdm(hlas_length):\n",
    "            data_length_hla = data_length[data_length.HLA == hla]\n",
    "            data_num = data_length_hla.shape[0]\n",
    "            metrics_length_hla = performances(data_length_hla.y_true, data_length_hla.y_pred, data_length_hla.y_prob, print_ = False)\n",
    "            metrics_length_hla_dict[length][hla] = list(metrics_length_hla) + [data_num]\n",
    "        \n",
    "    for length in lengths:\n",
    "        metrics_length_hla_pd_dict[length] = eval_performances_to_pd(metrics_length_hla_dict, length)\n",
    "    return metrics_length_hla_pd_dict"
   ]
  },
  {
   "cell_type": "code",
   "execution_count": 149,
   "metadata": {
    "scrolled": true
   },
   "outputs": [
    {
     "name": "stderr",
     "output_type": "stream",
     "text": [
      "\r",
      "  0%|          | 0/48 [00:00<?, ?it/s]"
     ]
    },
    {
     "name": "stdout",
     "output_type": "stream",
     "text": [
      "tn = 270582, fp = 16766, fn = 18073, tp = 269275\n",
      "y_pred: 0 = 288655 | 1 = 286041\n",
      "y_true: 0 = 287348 | 1 = 287348\n",
      "auc=0.9848|sensitivity=0.9371|specificity=0.9417|acc=0.9394|mcc=0.8788\n",
      "precision=0.9414|recall=0.9371|f1=0.9392|aupr=0.9846\n"
     ]
    },
    {
     "name": "stderr",
     "output_type": "stream",
     "text": [
      "100%|██████████| 48/48 [00:00<00:00, 263.82it/s]\n",
      "100%|██████████| 111/111 [00:02<00:00, 39.15it/s]\n",
      "100%|██████████| 74/74 [00:00<00:00, 124.32it/s]\n",
      "100%|██████████| 57/57 [00:00<00:00, 210.21it/s]\n",
      "100%|██████████| 33/33 [00:00<00:00, 310.10it/s]\n",
      "100%|██████████| 24/24 [00:00<00:00, 357.41it/s]\n",
      "100%|██████████| 13/13 [00:00<00:00, 354.92it/s]\n",
      "100%|██████████| 48/48 [00:00<00:00, 425.68it/s]\n",
      "  0%|          | 0/111 [00:00<?, ?it/s]"
     ]
    },
    {
     "name": "stdout",
     "output_type": "stream",
     "text": [
      "tn = 66710, fp = 5127, fn = 4488, tp = 67349\n",
      "y_pred: 0 = 71198 | 1 = 72476\n",
      "y_true: 0 = 71837 | 1 = 71837\n",
      "auc=0.9810|sensitivity=0.9375|specificity=0.9286|acc=0.9331|mcc=0.8662\n",
      "precision=0.9293|recall=0.9375|f1=0.9334|aupr=0.9795\n"
     ]
    },
    {
     "name": "stderr",
     "output_type": "stream",
     "text": [
      "100%|██████████| 111/111 [00:00<00:00, 126.91it/s]\n",
      "100%|██████████| 74/74 [00:00<00:00, 290.21it/s]\n",
      "100%|██████████| 57/57 [00:00<00:00, 379.98it/s]\n",
      "100%|██████████| 33/33 [00:00<00:00, 435.96it/s]\n",
      "100%|██████████| 24/24 [00:00<00:00, 440.29it/s]\n",
      "100%|██████████| 13/13 [00:00<00:00, 445.68it/s]\n",
      "100%|██████████| 48/48 [00:00<00:00, 409.69it/s]\n",
      "  0%|          | 0/111 [00:00<?, ?it/s]"
     ]
    },
    {
     "name": "stdout",
     "output_type": "stream",
     "text": [
      "tn = 79688, fp = 5874, fn = 5982, tp = 79894\n",
      "y_pred: 0 = 85670 | 1 = 85768\n",
      "y_true: 0 = 85562 | 1 = 85876\n",
      "auc=0.9789|sensitivity=0.9303|specificity=0.9313|acc=0.9308|mcc=0.8617\n",
      "precision=0.9315|recall=0.9303|f1=0.9309|aupr=0.9782\n"
     ]
    },
    {
     "name": "stderr",
     "output_type": "stream",
     "text": [
      "100%|██████████| 111/111 [00:00<00:00, 120.47it/s]\n",
      "100%|██████████| 74/74 [00:00<00:00, 286.13it/s]\n",
      "100%|██████████| 57/57 [00:00<00:00, 397.11it/s]\n",
      "100%|██████████| 33/33 [00:00<00:00, 451.85it/s]\n",
      "100%|██████████| 24/24 [00:00<00:00, 442.98it/s]\n",
      "100%|██████████| 13/13 [00:00<00:00, 438.86it/s]\n",
      "100%|██████████| 5/5 [00:00<00:00, 99.18it/s]\n",
      "100%|██████████| 5/5 [00:00<00:00, 85.54it/s]\n",
      "100%|██████████| 5/5 [00:00<00:00, 182.07it/s]\n",
      "  0%|          | 0/5 [00:00<?, ?it/s]"
     ]
    },
    {
     "name": "stdout",
     "output_type": "stream",
     "text": [
      "tn = 49362, fp = 2519, fn = 10108, tp = 41876\n",
      "y_pred: 0 = 59470 | 1 = 44395\n",
      "y_true: 0 = 51881 | 1 = 51984\n",
      "auc=0.9505|sensitivity=0.8056|specificity=0.9514|acc=0.8784|mcc=0.7651\n",
      "precision=0.9433|recall=0.8056|f1=0.8690|aupr=0.9552\n"
     ]
    },
    {
     "name": "stderr",
     "output_type": "stream",
     "text": [
      "100%|██████████| 5/5 [00:00<00:00, 207.20it/s]\n",
      "100%|██████████| 5/5 [00:00<00:00, 293.41it/s]\n",
      "100%|██████████| 5/5 [00:00<00:00, 307.20it/s]\n",
      "100%|██████████| 5/5 [00:00<00:00, 312.41it/s]\n"
     ]
    }
   ],
   "source": [
    "all_data_res_pd_dict = np.load('./results/pHLAIformer_data_res_pd_dict.npy', allow_pickle = True).item()\n",
    "\n",
    "train_metrics_length_hla_dict = metrics_all_length_hla_pd_dict(all_data_res_pd_dict, 'train', list(range(8, 15)))\n",
    "val_metrics_length_hla_dict = metrics_all_length_hla_pd_dict(all_data_res_pd_dict, 'val', list(range(8, 15)))\n",
    "independent_metrics_length_hla_dict = metrics_all_length_hla_pd_dict(all_data_res_pd_dict, 'independent', list(range(8, 15)))\n",
    "external_metrics_length_hla_dict = metrics_all_length_hla_pd_dict(all_data_res_pd_dict, 'external', list(range(8, 15)))"
   ]
  },
  {
   "cell_type": "code",
   "execution_count": 148,
   "metadata": {},
   "outputs": [
    {
     "data": {
      "text/html": [
       "<div>\n",
       "<style scoped>\n",
       "    .dataframe tbody tr th:only-of-type {\n",
       "        vertical-align: middle;\n",
       "    }\n",
       "\n",
       "    .dataframe tbody tr th {\n",
       "        vertical-align: top;\n",
       "    }\n",
       "\n",
       "    .dataframe thead th {\n",
       "        text-align: right;\n",
       "    }\n",
       "</style>\n",
       "<table border=\"1\" class=\"dataframe\">\n",
       "  <thead>\n",
       "    <tr style=\"text-align: right;\">\n",
       "      <th></th>\n",
       "      <th>roc_auc</th>\n",
       "      <th>accuracy</th>\n",
       "      <th>mcc</th>\n",
       "      <th>f1</th>\n",
       "      <th>sensitivity</th>\n",
       "      <th>specificity</th>\n",
       "      <th>precision</th>\n",
       "      <th>recall</th>\n",
       "      <th>aupr</th>\n",
       "      <th>num</th>\n",
       "    </tr>\n",
       "  </thead>\n",
       "  <tbody>\n",
       "    <tr>\n",
       "      <th>HLA-B*46:01</th>\n",
       "      <td>0.985868</td>\n",
       "      <td>0.945833</td>\n",
       "      <td>0.891791</td>\n",
       "      <td>0.945378</td>\n",
       "      <td>0.937500</td>\n",
       "      <td>0.954167</td>\n",
       "      <td>0.953390</td>\n",
       "      <td>0.937500</td>\n",
       "      <td>0.986822</td>\n",
       "      <td>480</td>\n",
       "    </tr>\n",
       "    <tr>\n",
       "      <th>HLA-A*02:07</th>\n",
       "      <td>0.987357</td>\n",
       "      <td>0.936644</td>\n",
       "      <td>0.873416</td>\n",
       "      <td>0.936097</td>\n",
       "      <td>0.928082</td>\n",
       "      <td>0.945205</td>\n",
       "      <td>0.944251</td>\n",
       "      <td>0.928082</td>\n",
       "      <td>0.988597</td>\n",
       "      <td>584</td>\n",
       "    </tr>\n",
       "    <tr>\n",
       "      <th>HLA-A*32:01</th>\n",
       "      <td>0.978150</td>\n",
       "      <td>0.917120</td>\n",
       "      <td>0.834242</td>\n",
       "      <td>0.917232</td>\n",
       "      <td>0.918478</td>\n",
       "      <td>0.915761</td>\n",
       "      <td>0.915989</td>\n",
       "      <td>0.918478</td>\n",
       "      <td>0.980591</td>\n",
       "      <td>736</td>\n",
       "    </tr>\n",
       "    <tr>\n",
       "      <th>HLA-A*26:01</th>\n",
       "      <td>0.988455</td>\n",
       "      <td>0.937500</td>\n",
       "      <td>0.876989</td>\n",
       "      <td>0.935323</td>\n",
       "      <td>0.903846</td>\n",
       "      <td>0.971154</td>\n",
       "      <td>0.969072</td>\n",
       "      <td>0.903846</td>\n",
       "      <td>0.984960</td>\n",
       "      <td>416</td>\n",
       "    </tr>\n",
       "    <tr>\n",
       "      <th>HLA-A*33:01</th>\n",
       "      <td>0.987386</td>\n",
       "      <td>0.935096</td>\n",
       "      <td>0.870686</td>\n",
       "      <td>0.936170</td>\n",
       "      <td>0.951923</td>\n",
       "      <td>0.918269</td>\n",
       "      <td>0.920930</td>\n",
       "      <td>0.951923</td>\n",
       "      <td>0.987276</td>\n",
       "      <td>832</td>\n",
       "    </tr>\n",
       "    <tr>\n",
       "      <th>HLA-B*18:01</th>\n",
       "      <td>0.980320</td>\n",
       "      <td>0.948529</td>\n",
       "      <td>0.898615</td>\n",
       "      <td>0.946970</td>\n",
       "      <td>0.919118</td>\n",
       "      <td>0.977941</td>\n",
       "      <td>0.976562</td>\n",
       "      <td>0.919118</td>\n",
       "      <td>0.985270</td>\n",
       "      <td>272</td>\n",
       "    </tr>\n",
       "    <tr>\n",
       "      <th>HLA-A*31:01</th>\n",
       "      <td>0.978880</td>\n",
       "      <td>0.929813</td>\n",
       "      <td>0.860463</td>\n",
       "      <td>0.931328</td>\n",
       "      <td>0.951872</td>\n",
       "      <td>0.907754</td>\n",
       "      <td>0.911652</td>\n",
       "      <td>0.951872</td>\n",
       "      <td>0.975219</td>\n",
       "      <td>1496</td>\n",
       "    </tr>\n",
       "    <tr>\n",
       "      <th>HLA-B*50:01</th>\n",
       "      <td>0.992836</td>\n",
       "      <td>0.963235</td>\n",
       "      <td>0.926872</td>\n",
       "      <td>0.962687</td>\n",
       "      <td>0.948529</td>\n",
       "      <td>0.977941</td>\n",
       "      <td>0.977273</td>\n",
       "      <td>0.948529</td>\n",
       "      <td>0.991865</td>\n",
       "      <td>272</td>\n",
       "    </tr>\n",
       "    <tr>\n",
       "      <th>HLA-C*07:02</th>\n",
       "      <td>0.977640</td>\n",
       "      <td>0.936047</td>\n",
       "      <td>0.872152</td>\n",
       "      <td>0.935673</td>\n",
       "      <td>0.930233</td>\n",
       "      <td>0.941860</td>\n",
       "      <td>0.941176</td>\n",
       "      <td>0.930233</td>\n",
       "      <td>0.973576</td>\n",
       "      <td>344</td>\n",
       "    </tr>\n",
       "    <tr>\n",
       "      <th>HLA-C*16:01</th>\n",
       "      <td>0.976374</td>\n",
       "      <td>0.908784</td>\n",
       "      <td>0.817736</td>\n",
       "      <td>0.907850</td>\n",
       "      <td>0.898649</td>\n",
       "      <td>0.918919</td>\n",
       "      <td>0.917241</td>\n",
       "      <td>0.898649</td>\n",
       "      <td>0.975128</td>\n",
       "      <td>296</td>\n",
       "    </tr>\n",
       "    <tr>\n",
       "      <th>HLA-C*07:01</th>\n",
       "      <td>0.965601</td>\n",
       "      <td>0.906746</td>\n",
       "      <td>0.813652</td>\n",
       "      <td>0.907662</td>\n",
       "      <td>0.916667</td>\n",
       "      <td>0.896825</td>\n",
       "      <td>0.898833</td>\n",
       "      <td>0.916667</td>\n",
       "      <td>0.961480</td>\n",
       "      <td>504</td>\n",
       "    </tr>\n",
       "    <tr>\n",
       "      <th>HLA-A*01:01</th>\n",
       "      <td>0.993429</td>\n",
       "      <td>0.962885</td>\n",
       "      <td>0.925774</td>\n",
       "      <td>0.962833</td>\n",
       "      <td>0.961485</td>\n",
       "      <td>0.964286</td>\n",
       "      <td>0.964185</td>\n",
       "      <td>0.961485</td>\n",
       "      <td>0.993203</td>\n",
       "      <td>2856</td>\n",
       "    </tr>\n",
       "    <tr>\n",
       "      <th>HLA-C*05:01</th>\n",
       "      <td>0.988987</td>\n",
       "      <td>0.957447</td>\n",
       "      <td>0.915528</td>\n",
       "      <td>0.956640</td>\n",
       "      <td>0.938830</td>\n",
       "      <td>0.976064</td>\n",
       "      <td>0.975138</td>\n",
       "      <td>0.938830</td>\n",
       "      <td>0.991091</td>\n",
       "      <td>752</td>\n",
       "    </tr>\n",
       "    <tr>\n",
       "      <th>HLA-A*24:02</th>\n",
       "      <td>0.987794</td>\n",
       "      <td>0.952555</td>\n",
       "      <td>0.905598</td>\n",
       "      <td>0.953321</td>\n",
       "      <td>0.968978</td>\n",
       "      <td>0.936131</td>\n",
       "      <td>0.938163</td>\n",
       "      <td>0.968978</td>\n",
       "      <td>0.986480</td>\n",
       "      <td>2192</td>\n",
       "    </tr>\n",
       "    <tr>\n",
       "      <th>HLA-A*69:01</th>\n",
       "      <td>0.987535</td>\n",
       "      <td>0.947368</td>\n",
       "      <td>0.895047</td>\n",
       "      <td>0.948052</td>\n",
       "      <td>0.960526</td>\n",
       "      <td>0.934211</td>\n",
       "      <td>0.935897</td>\n",
       "      <td>0.960526</td>\n",
       "      <td>0.986803</td>\n",
       "      <td>152</td>\n",
       "    </tr>\n",
       "    <tr>\n",
       "      <th>HLA-B*41:01</th>\n",
       "      <td>0.993056</td>\n",
       "      <td>0.968750</td>\n",
       "      <td>0.937704</td>\n",
       "      <td>0.968421</td>\n",
       "      <td>0.958333</td>\n",
       "      <td>0.979167</td>\n",
       "      <td>0.978723</td>\n",
       "      <td>0.958333</td>\n",
       "      <td>0.994260</td>\n",
       "      <td>96</td>\n",
       "    </tr>\n",
       "    <tr>\n",
       "      <th>HLA-C*01:02</th>\n",
       "      <td>0.972714</td>\n",
       "      <td>0.905769</td>\n",
       "      <td>0.812266</td>\n",
       "      <td>0.903733</td>\n",
       "      <td>0.884615</td>\n",
       "      <td>0.926923</td>\n",
       "      <td>0.923695</td>\n",
       "      <td>0.884615</td>\n",
       "      <td>0.969965</td>\n",
       "      <td>520</td>\n",
       "    </tr>\n",
       "    <tr>\n",
       "      <th>HLA-C*14:02</th>\n",
       "      <td>0.999736</td>\n",
       "      <td>0.985294</td>\n",
       "      <td>0.970775</td>\n",
       "      <td>0.985437</td>\n",
       "      <td>0.995098</td>\n",
       "      <td>0.975490</td>\n",
       "      <td>0.975962</td>\n",
       "      <td>0.995098</td>\n",
       "      <td>0.999741</td>\n",
       "      <td>408</td>\n",
       "    </tr>\n",
       "    <tr>\n",
       "      <th>HLA-B*44:02</th>\n",
       "      <td>0.995200</td>\n",
       "      <td>0.964286</td>\n",
       "      <td>0.928581</td>\n",
       "      <td>0.964204</td>\n",
       "      <td>0.962006</td>\n",
       "      <td>0.966565</td>\n",
       "      <td>0.966412</td>\n",
       "      <td>0.962006</td>\n",
       "      <td>0.995333</td>\n",
       "      <td>2632</td>\n",
       "    </tr>\n",
       "    <tr>\n",
       "      <th>HLA-B*13:02</th>\n",
       "      <td>0.993408</td>\n",
       "      <td>0.937500</td>\n",
       "      <td>0.881917</td>\n",
       "      <td>0.933333</td>\n",
       "      <td>0.875000</td>\n",
       "      <td>1.000000</td>\n",
       "      <td>1.000000</td>\n",
       "      <td>0.875000</td>\n",
       "      <td>0.993778</td>\n",
       "      <td>128</td>\n",
       "    </tr>\n",
       "    <tr>\n",
       "      <th>HLA-B*27:01</th>\n",
       "      <td>0.997264</td>\n",
       "      <td>0.978333</td>\n",
       "      <td>0.956800</td>\n",
       "      <td>0.978151</td>\n",
       "      <td>0.970000</td>\n",
       "      <td>0.986667</td>\n",
       "      <td>0.986441</td>\n",
       "      <td>0.970000</td>\n",
       "      <td>0.996887</td>\n",
       "      <td>1200</td>\n",
       "    </tr>\n",
       "    <tr>\n",
       "      <th>HLA-B*15:01</th>\n",
       "      <td>0.991086</td>\n",
       "      <td>0.958061</td>\n",
       "      <td>0.916318</td>\n",
       "      <td>0.958491</td>\n",
       "      <td>0.968410</td>\n",
       "      <td>0.947712</td>\n",
       "      <td>0.948773</td>\n",
       "      <td>0.968410</td>\n",
       "      <td>0.990769</td>\n",
       "      <td>3672</td>\n",
       "    </tr>\n",
       "    <tr>\n",
       "      <th>HLA-B*35:08</th>\n",
       "      <td>0.987445</td>\n",
       "      <td>0.952703</td>\n",
       "      <td>0.905736</td>\n",
       "      <td>0.952055</td>\n",
       "      <td>0.939189</td>\n",
       "      <td>0.966216</td>\n",
       "      <td>0.965278</td>\n",
       "      <td>0.939189</td>\n",
       "      <td>0.990744</td>\n",
       "      <td>296</td>\n",
       "    </tr>\n",
       "    <tr>\n",
       "      <th>HLA-C*04:01</th>\n",
       "      <td>0.968264</td>\n",
       "      <td>0.902703</td>\n",
       "      <td>0.805829</td>\n",
       "      <td>0.901099</td>\n",
       "      <td>0.886486</td>\n",
       "      <td>0.918919</td>\n",
       "      <td>0.916201</td>\n",
       "      <td>0.886486</td>\n",
       "      <td>0.973311</td>\n",
       "      <td>1480</td>\n",
       "    </tr>\n",
       "    <tr>\n",
       "      <th>HLA-B*57:03</th>\n",
       "      <td>0.989083</td>\n",
       "      <td>0.956897</td>\n",
       "      <td>0.913793</td>\n",
       "      <td>0.956897</td>\n",
       "      <td>0.956897</td>\n",
       "      <td>0.956897</td>\n",
       "      <td>0.956897</td>\n",
       "      <td>0.956897</td>\n",
       "      <td>0.990038</td>\n",
       "      <td>1392</td>\n",
       "    </tr>\n",
       "    <tr>\n",
       "      <th>HLA-B*54:01</th>\n",
       "      <td>0.977649</td>\n",
       "      <td>0.920673</td>\n",
       "      <td>0.841589</td>\n",
       "      <td>0.919708</td>\n",
       "      <td>0.908654</td>\n",
       "      <td>0.932692</td>\n",
       "      <td>0.931034</td>\n",
       "      <td>0.908654</td>\n",
       "      <td>0.977666</td>\n",
       "      <td>416</td>\n",
       "    </tr>\n",
       "    <tr>\n",
       "      <th>HLA-B*37:01</th>\n",
       "      <td>0.997169</td>\n",
       "      <td>0.980469</td>\n",
       "      <td>0.961055</td>\n",
       "      <td>0.980315</td>\n",
       "      <td>0.972656</td>\n",
       "      <td>0.988281</td>\n",
       "      <td>0.988095</td>\n",
       "      <td>0.972656</td>\n",
       "      <td>0.997032</td>\n",
       "      <td>512</td>\n",
       "    </tr>\n",
       "    <tr>\n",
       "      <th>HLA-A*68:01</th>\n",
       "      <td>0.987188</td>\n",
       "      <td>0.950784</td>\n",
       "      <td>0.901897</td>\n",
       "      <td>0.951440</td>\n",
       "      <td>0.964286</td>\n",
       "      <td>0.937282</td>\n",
       "      <td>0.938931</td>\n",
       "      <td>0.964286</td>\n",
       "      <td>0.985269</td>\n",
       "      <td>2296</td>\n",
       "    </tr>\n",
       "    <tr>\n",
       "      <th>HLA-B*58:01</th>\n",
       "      <td>0.981656</td>\n",
       "      <td>0.937500</td>\n",
       "      <td>0.875923</td>\n",
       "      <td>0.936032</td>\n",
       "      <td>0.914557</td>\n",
       "      <td>0.960443</td>\n",
       "      <td>0.958541</td>\n",
       "      <td>0.914557</td>\n",
       "      <td>0.983665</td>\n",
       "      <td>1264</td>\n",
       "    </tr>\n",
       "    <tr>\n",
       "      <th>HLA-A*02:02</th>\n",
       "      <td>0.965640</td>\n",
       "      <td>0.908019</td>\n",
       "      <td>0.816039</td>\n",
       "      <td>0.907946</td>\n",
       "      <td>0.907233</td>\n",
       "      <td>0.908805</td>\n",
       "      <td>0.908661</td>\n",
       "      <td>0.907233</td>\n",
       "      <td>0.957260</td>\n",
       "      <td>1272</td>\n",
       "    </tr>\n",
       "    <tr>\n",
       "      <th>HLA-C*07:04</th>\n",
       "      <td>0.991800</td>\n",
       "      <td>0.960000</td>\n",
       "      <td>0.920184</td>\n",
       "      <td>0.959596</td>\n",
       "      <td>0.950000</td>\n",
       "      <td>0.970000</td>\n",
       "      <td>0.969388</td>\n",
       "      <td>0.950000</td>\n",
       "      <td>0.991546</td>\n",
       "      <td>200</td>\n",
       "    </tr>\n",
       "    <tr>\n",
       "      <th>HLA-B*45:01</th>\n",
       "      <td>0.978434</td>\n",
       "      <td>0.925872</td>\n",
       "      <td>0.851921</td>\n",
       "      <td>0.925110</td>\n",
       "      <td>0.915698</td>\n",
       "      <td>0.936047</td>\n",
       "      <td>0.934718</td>\n",
       "      <td>0.915698</td>\n",
       "      <td>0.979024</td>\n",
       "      <td>688</td>\n",
       "    </tr>\n",
       "    <tr>\n",
       "      <th>HLA-B*27:03</th>\n",
       "      <td>0.999133</td>\n",
       "      <td>0.986486</td>\n",
       "      <td>0.972973</td>\n",
       "      <td>0.986486</td>\n",
       "      <td>0.986486</td>\n",
       "      <td>0.986486</td>\n",
       "      <td>0.986486</td>\n",
       "      <td>0.986486</td>\n",
       "      <td>0.999189</td>\n",
       "      <td>296</td>\n",
       "    </tr>\n",
       "    <tr>\n",
       "      <th>HLA-C*02:02</th>\n",
       "      <td>0.990014</td>\n",
       "      <td>0.943878</td>\n",
       "      <td>0.888913</td>\n",
       "      <td>0.945274</td>\n",
       "      <td>0.969388</td>\n",
       "      <td>0.918367</td>\n",
       "      <td>0.922330</td>\n",
       "      <td>0.969388</td>\n",
       "      <td>0.989401</td>\n",
       "      <td>784</td>\n",
       "    </tr>\n",
       "    <tr>\n",
       "      <th>HLA-A*02:05</th>\n",
       "      <td>0.987517</td>\n",
       "      <td>0.950000</td>\n",
       "      <td>0.900782</td>\n",
       "      <td>0.951020</td>\n",
       "      <td>0.970833</td>\n",
       "      <td>0.929167</td>\n",
       "      <td>0.932000</td>\n",
       "      <td>0.970833</td>\n",
       "      <td>0.986749</td>\n",
       "      <td>480</td>\n",
       "    </tr>\n",
       "    <tr>\n",
       "      <th>HLA-A*02:17</th>\n",
       "      <td>0.997613</td>\n",
       "      <td>0.963542</td>\n",
       "      <td>0.927134</td>\n",
       "      <td>0.963731</td>\n",
       "      <td>0.968750</td>\n",
       "      <td>0.958333</td>\n",
       "      <td>0.958763</td>\n",
       "      <td>0.968750</td>\n",
       "      <td>0.997724</td>\n",
       "      <td>192</td>\n",
       "    </tr>\n",
       "    <tr>\n",
       "      <th>HLA-B*53:01</th>\n",
       "      <td>0.992700</td>\n",
       "      <td>0.952128</td>\n",
       "      <td>0.904460</td>\n",
       "      <td>0.952632</td>\n",
       "      <td>0.962766</td>\n",
       "      <td>0.941489</td>\n",
       "      <td>0.942708</td>\n",
       "      <td>0.962766</td>\n",
       "      <td>0.993152</td>\n",
       "      <td>376</td>\n",
       "    </tr>\n",
       "    <tr>\n",
       "      <th>HLA-B*39:01</th>\n",
       "      <td>0.994414</td>\n",
       "      <td>0.959375</td>\n",
       "      <td>0.918912</td>\n",
       "      <td>0.958991</td>\n",
       "      <td>0.950000</td>\n",
       "      <td>0.968750</td>\n",
       "      <td>0.968153</td>\n",
       "      <td>0.950000</td>\n",
       "      <td>0.994621</td>\n",
       "      <td>320</td>\n",
       "    </tr>\n",
       "    <tr>\n",
       "      <th>HLA-C*08:02</th>\n",
       "      <td>0.996552</td>\n",
       "      <td>0.977528</td>\n",
       "      <td>0.955192</td>\n",
       "      <td>0.977716</td>\n",
       "      <td>0.985955</td>\n",
       "      <td>0.969101</td>\n",
       "      <td>0.969613</td>\n",
       "      <td>0.985955</td>\n",
       "      <td>0.996538</td>\n",
       "      <td>712</td>\n",
       "    </tr>\n",
       "    <tr>\n",
       "      <th>HLA-C*03:03</th>\n",
       "      <td>0.972586</td>\n",
       "      <td>0.930804</td>\n",
       "      <td>0.861822</td>\n",
       "      <td>0.931567</td>\n",
       "      <td>0.941964</td>\n",
       "      <td>0.919643</td>\n",
       "      <td>0.921397</td>\n",
       "      <td>0.941964</td>\n",
       "      <td>0.972140</td>\n",
       "      <td>448</td>\n",
       "    </tr>\n",
       "    <tr>\n",
       "      <th>HLA-B*27:07</th>\n",
       "      <td>0.999356</td>\n",
       "      <td>0.984940</td>\n",
       "      <td>0.969897</td>\n",
       "      <td>0.984894</td>\n",
       "      <td>0.981928</td>\n",
       "      <td>0.987952</td>\n",
       "      <td>0.987879</td>\n",
       "      <td>0.981928</td>\n",
       "      <td>0.999358</td>\n",
       "      <td>664</td>\n",
       "    </tr>\n",
       "    <tr>\n",
       "      <th>HLA-A*02:06</th>\n",
       "      <td>0.967689</td>\n",
       "      <td>0.915441</td>\n",
       "      <td>0.830905</td>\n",
       "      <td>0.915129</td>\n",
       "      <td>0.911765</td>\n",
       "      <td>0.919118</td>\n",
       "      <td>0.918519</td>\n",
       "      <td>0.911765</td>\n",
       "      <td>0.959776</td>\n",
       "      <td>1360</td>\n",
       "    </tr>\n",
       "    <tr>\n",
       "      <th>HLA-B*08:01</th>\n",
       "      <td>0.960248</td>\n",
       "      <td>0.888636</td>\n",
       "      <td>0.780188</td>\n",
       "      <td>0.883610</td>\n",
       "      <td>0.845455</td>\n",
       "      <td>0.931818</td>\n",
       "      <td>0.925373</td>\n",
       "      <td>0.845455</td>\n",
       "      <td>0.959939</td>\n",
       "      <td>440</td>\n",
       "    </tr>\n",
       "    <tr>\n",
       "      <th>HLA-B*35:03</th>\n",
       "      <td>0.991371</td>\n",
       "      <td>0.945513</td>\n",
       "      <td>0.891044</td>\n",
       "      <td>0.945338</td>\n",
       "      <td>0.942308</td>\n",
       "      <td>0.948718</td>\n",
       "      <td>0.948387</td>\n",
       "      <td>0.942308</td>\n",
       "      <td>0.991297</td>\n",
       "      <td>312</td>\n",
       "    </tr>\n",
       "    <tr>\n",
       "      <th>HLA-A*24:06</th>\n",
       "      <td>0.971944</td>\n",
       "      <td>0.941667</td>\n",
       "      <td>0.883456</td>\n",
       "      <td>0.942149</td>\n",
       "      <td>0.950000</td>\n",
       "      <td>0.933333</td>\n",
       "      <td>0.934426</td>\n",
       "      <td>0.950000</td>\n",
       "      <td>0.978565</td>\n",
       "      <td>120</td>\n",
       "    </tr>\n",
       "    <tr>\n",
       "      <th>HLA-A*02:03</th>\n",
       "      <td>0.980163</td>\n",
       "      <td>0.927941</td>\n",
       "      <td>0.856331</td>\n",
       "      <td>0.929088</td>\n",
       "      <td>0.944118</td>\n",
       "      <td>0.911765</td>\n",
       "      <td>0.914530</td>\n",
       "      <td>0.944118</td>\n",
       "      <td>0.977845</td>\n",
       "      <td>2040</td>\n",
       "    </tr>\n",
       "    <tr>\n",
       "      <th>HLA-B*57:01</th>\n",
       "      <td>0.985080</td>\n",
       "      <td>0.941701</td>\n",
       "      <td>0.884269</td>\n",
       "      <td>0.940380</td>\n",
       "      <td>0.919552</td>\n",
       "      <td>0.963849</td>\n",
       "      <td>0.962174</td>\n",
       "      <td>0.919552</td>\n",
       "      <td>0.987104</td>\n",
       "      <td>3928</td>\n",
       "    </tr>\n",
       "    <tr>\n",
       "      <th>HLA-B*56:01</th>\n",
       "      <td>0.988760</td>\n",
       "      <td>0.973214</td>\n",
       "      <td>0.946580</td>\n",
       "      <td>0.973451</td>\n",
       "      <td>0.982143</td>\n",
       "      <td>0.964286</td>\n",
       "      <td>0.964912</td>\n",
       "      <td>0.982143</td>\n",
       "      <td>0.986933</td>\n",
       "      <td>224</td>\n",
       "    </tr>\n",
       "    <tr>\n",
       "      <th>HLA-C*03:04</th>\n",
       "      <td>0.995385</td>\n",
       "      <td>0.961538</td>\n",
       "      <td>0.924418</td>\n",
       "      <td>0.962547</td>\n",
       "      <td>0.988462</td>\n",
       "      <td>0.934615</td>\n",
       "      <td>0.937956</td>\n",
       "      <td>0.988462</td>\n",
       "      <td>0.995556</td>\n",
       "      <td>520</td>\n",
       "    </tr>\n",
       "    <tr>\n",
       "      <th>HLA-B*44:27</th>\n",
       "      <td>0.998967</td>\n",
       "      <td>0.988636</td>\n",
       "      <td>0.977525</td>\n",
       "      <td>0.988764</td>\n",
       "      <td>1.000000</td>\n",
       "      <td>0.977273</td>\n",
       "      <td>0.977778</td>\n",
       "      <td>1.000000</td>\n",
       "      <td>0.998967</td>\n",
       "      <td>88</td>\n",
       "    </tr>\n",
       "    <tr>\n",
       "      <th>HLA-A*23:01</th>\n",
       "      <td>0.994808</td>\n",
       "      <td>0.962766</td>\n",
       "      <td>0.925584</td>\n",
       "      <td>0.962567</td>\n",
       "      <td>0.957447</td>\n",
       "      <td>0.968085</td>\n",
       "      <td>0.967742</td>\n",
       "      <td>0.957447</td>\n",
       "      <td>0.994810</td>\n",
       "      <td>752</td>\n",
       "    </tr>\n",
       "    <tr>\n",
       "      <th>HLA-A*02:04</th>\n",
       "      <td>0.993598</td>\n",
       "      <td>0.968750</td>\n",
       "      <td>0.937500</td>\n",
       "      <td>0.968750</td>\n",
       "      <td>0.968750</td>\n",
       "      <td>0.968750</td>\n",
       "      <td>0.968750</td>\n",
       "      <td>0.968750</td>\n",
       "      <td>0.993950</td>\n",
       "      <td>192</td>\n",
       "    </tr>\n",
       "    <tr>\n",
       "      <th>HLA-B*14:02</th>\n",
       "      <td>0.990537</td>\n",
       "      <td>0.967742</td>\n",
       "      <td>0.935606</td>\n",
       "      <td>0.968000</td>\n",
       "      <td>0.975806</td>\n",
       "      <td>0.959677</td>\n",
       "      <td>0.960317</td>\n",
       "      <td>0.975806</td>\n",
       "      <td>0.989205</td>\n",
       "      <td>248</td>\n",
       "    </tr>\n",
       "    <tr>\n",
       "      <th>HLA-A*68:02</th>\n",
       "      <td>0.963000</td>\n",
       "      <td>0.904959</td>\n",
       "      <td>0.810028</td>\n",
       "      <td>0.904167</td>\n",
       "      <td>0.896694</td>\n",
       "      <td>0.913223</td>\n",
       "      <td>0.911765</td>\n",
       "      <td>0.896694</td>\n",
       "      <td>0.963140</td>\n",
       "      <td>1936</td>\n",
       "    </tr>\n",
       "    <tr>\n",
       "      <th>HLA-B*40:02</th>\n",
       "      <td>0.994389</td>\n",
       "      <td>0.967672</td>\n",
       "      <td>0.935373</td>\n",
       "      <td>0.967547</td>\n",
       "      <td>0.963793</td>\n",
       "      <td>0.971552</td>\n",
       "      <td>0.971329</td>\n",
       "      <td>0.963793</td>\n",
       "      <td>0.994329</td>\n",
       "      <td>2320</td>\n",
       "    </tr>\n",
       "    <tr>\n",
       "      <th>HLA-B*40:01</th>\n",
       "      <td>0.994897</td>\n",
       "      <td>0.977083</td>\n",
       "      <td>0.954190</td>\n",
       "      <td>0.977163</td>\n",
       "      <td>0.980556</td>\n",
       "      <td>0.973611</td>\n",
       "      <td>0.973793</td>\n",
       "      <td>0.980556</td>\n",
       "      <td>0.993291</td>\n",
       "      <td>1440</td>\n",
       "    </tr>\n",
       "    <tr>\n",
       "      <th>HLA-B*27:09</th>\n",
       "      <td>0.982358</td>\n",
       "      <td>0.937500</td>\n",
       "      <td>0.875905</td>\n",
       "      <td>0.936047</td>\n",
       "      <td>0.914773</td>\n",
       "      <td>0.960227</td>\n",
       "      <td>0.958333</td>\n",
       "      <td>0.914773</td>\n",
       "      <td>0.985193</td>\n",
       "      <td>1408</td>\n",
       "    </tr>\n",
       "    <tr>\n",
       "      <th>HLA-A*11:01</th>\n",
       "      <td>0.987482</td>\n",
       "      <td>0.950798</td>\n",
       "      <td>0.901718</td>\n",
       "      <td>0.951200</td>\n",
       "      <td>0.959043</td>\n",
       "      <td>0.942553</td>\n",
       "      <td>0.943485</td>\n",
       "      <td>0.959043</td>\n",
       "      <td>0.986114</td>\n",
       "      <td>3760</td>\n",
       "    </tr>\n",
       "    <tr>\n",
       "      <th>HLA-B*07:02</th>\n",
       "      <td>0.992486</td>\n",
       "      <td>0.960864</td>\n",
       "      <td>0.921735</td>\n",
       "      <td>0.960796</td>\n",
       "      <td>0.959112</td>\n",
       "      <td>0.962617</td>\n",
       "      <td>0.962485</td>\n",
       "      <td>0.959112</td>\n",
       "      <td>0.992440</td>\n",
       "      <td>3424</td>\n",
       "    </tr>\n",
       "    <tr>\n",
       "      <th>HLA-A*03:01</th>\n",
       "      <td>0.987008</td>\n",
       "      <td>0.950882</td>\n",
       "      <td>0.901821</td>\n",
       "      <td>0.951158</td>\n",
       "      <td>0.956549</td>\n",
       "      <td>0.945214</td>\n",
       "      <td>0.945828</td>\n",
       "      <td>0.956549</td>\n",
       "      <td>0.984262</td>\n",
       "      <td>3176</td>\n",
       "    </tr>\n",
       "    <tr>\n",
       "      <th>HLA-B*35:01</th>\n",
       "      <td>0.984938</td>\n",
       "      <td>0.942265</td>\n",
       "      <td>0.884877</td>\n",
       "      <td>0.943062</td>\n",
       "      <td>0.956278</td>\n",
       "      <td>0.928251</td>\n",
       "      <td>0.930207</td>\n",
       "      <td>0.956278</td>\n",
       "      <td>0.985728</td>\n",
       "      <td>1784</td>\n",
       "    </tr>\n",
       "    <tr>\n",
       "      <th>HLA-B*44:03</th>\n",
       "      <td>0.995653</td>\n",
       "      <td>0.974656</td>\n",
       "      <td>0.949313</td>\n",
       "      <td>0.974667</td>\n",
       "      <td>0.975086</td>\n",
       "      <td>0.974227</td>\n",
       "      <td>0.974249</td>\n",
       "      <td>0.975086</td>\n",
       "      <td>0.995446</td>\n",
       "      <td>2328</td>\n",
       "    </tr>\n",
       "    <tr>\n",
       "      <th>HLA-C*06:02</th>\n",
       "      <td>0.975669</td>\n",
       "      <td>0.926282</td>\n",
       "      <td>0.853195</td>\n",
       "      <td>0.927673</td>\n",
       "      <td>0.945513</td>\n",
       "      <td>0.907051</td>\n",
       "      <td>0.910494</td>\n",
       "      <td>0.945513</td>\n",
       "      <td>0.977611</td>\n",
       "      <td>624</td>\n",
       "    </tr>\n",
       "    <tr>\n",
       "      <th>HLA-B*27:06</th>\n",
       "      <td>0.995313</td>\n",
       "      <td>0.975000</td>\n",
       "      <td>0.950074</td>\n",
       "      <td>0.974843</td>\n",
       "      <td>0.968750</td>\n",
       "      <td>0.981250</td>\n",
       "      <td>0.981013</td>\n",
       "      <td>0.968750</td>\n",
       "      <td>0.995343</td>\n",
       "      <td>320</td>\n",
       "    </tr>\n",
       "    <tr>\n",
       "      <th>HLA-A*29:02</th>\n",
       "      <td>0.982052</td>\n",
       "      <td>0.943240</td>\n",
       "      <td>0.886486</td>\n",
       "      <td>0.943131</td>\n",
       "      <td>0.941327</td>\n",
       "      <td>0.945153</td>\n",
       "      <td>0.944942</td>\n",
       "      <td>0.941327</td>\n",
       "      <td>0.984492</td>\n",
       "      <td>1568</td>\n",
       "    </tr>\n",
       "    <tr>\n",
       "      <th>HLA-B*49:01</th>\n",
       "      <td>0.996492</td>\n",
       "      <td>0.973529</td>\n",
       "      <td>0.947124</td>\n",
       "      <td>0.973373</td>\n",
       "      <td>0.967647</td>\n",
       "      <td>0.979412</td>\n",
       "      <td>0.979167</td>\n",
       "      <td>0.967647</td>\n",
       "      <td>0.996568</td>\n",
       "      <td>680</td>\n",
       "    </tr>\n",
       "    <tr>\n",
       "      <th>HLA-B*51:01</th>\n",
       "      <td>0.985006</td>\n",
       "      <td>0.932692</td>\n",
       "      <td>0.865904</td>\n",
       "      <td>0.931507</td>\n",
       "      <td>0.915385</td>\n",
       "      <td>0.950000</td>\n",
       "      <td>0.948207</td>\n",
       "      <td>0.915385</td>\n",
       "      <td>0.985584</td>\n",
       "      <td>1040</td>\n",
       "    </tr>\n",
       "    <tr>\n",
       "      <th>HLA-A*02:01</th>\n",
       "      <td>0.970741</td>\n",
       "      <td>0.911157</td>\n",
       "      <td>0.822732</td>\n",
       "      <td>0.909718</td>\n",
       "      <td>0.895218</td>\n",
       "      <td>0.927096</td>\n",
       "      <td>0.924695</td>\n",
       "      <td>0.895218</td>\n",
       "      <td>0.968966</td>\n",
       "      <td>6776</td>\n",
       "    </tr>\n",
       "    <tr>\n",
       "      <th>HLA-B*27:05</th>\n",
       "      <td>0.914094</td>\n",
       "      <td>0.830758</td>\n",
       "      <td>0.662511</td>\n",
       "      <td>0.825993</td>\n",
       "      <td>0.803371</td>\n",
       "      <td>0.858146</td>\n",
       "      <td>0.849926</td>\n",
       "      <td>0.803371</td>\n",
       "      <td>0.923166</td>\n",
       "      <td>12816</td>\n",
       "    </tr>\n",
       "    <tr>\n",
       "      <th>HLA-B*27:04</th>\n",
       "      <td>0.997397</td>\n",
       "      <td>0.984043</td>\n",
       "      <td>0.968140</td>\n",
       "      <td>0.983957</td>\n",
       "      <td>0.978723</td>\n",
       "      <td>0.989362</td>\n",
       "      <td>0.989247</td>\n",
       "      <td>0.978723</td>\n",
       "      <td>0.997743</td>\n",
       "      <td>376</td>\n",
       "    </tr>\n",
       "    <tr>\n",
       "      <th>HLA-A*30:02</th>\n",
       "      <td>0.980678</td>\n",
       "      <td>0.948661</td>\n",
       "      <td>0.897402</td>\n",
       "      <td>0.948315</td>\n",
       "      <td>0.941964</td>\n",
       "      <td>0.955357</td>\n",
       "      <td>0.954751</td>\n",
       "      <td>0.941964</td>\n",
       "      <td>0.978424</td>\n",
       "      <td>448</td>\n",
       "    </tr>\n",
       "    <tr>\n",
       "      <th>HLA-B*27:08</th>\n",
       "      <td>0.994916</td>\n",
       "      <td>0.968750</td>\n",
       "      <td>0.937836</td>\n",
       "      <td>0.968326</td>\n",
       "      <td>0.955357</td>\n",
       "      <td>0.982143</td>\n",
       "      <td>0.981651</td>\n",
       "      <td>0.955357</td>\n",
       "      <td>0.994586</td>\n",
       "      <td>672</td>\n",
       "    </tr>\n",
       "    <tr>\n",
       "      <th>HLA-B*27:02</th>\n",
       "      <td>0.996103</td>\n",
       "      <td>0.982639</td>\n",
       "      <td>0.965301</td>\n",
       "      <td>0.982699</td>\n",
       "      <td>0.986111</td>\n",
       "      <td>0.979167</td>\n",
       "      <td>0.979310</td>\n",
       "      <td>0.986111</td>\n",
       "      <td>0.995840</td>\n",
       "      <td>1152</td>\n",
       "    </tr>\n",
       "    <tr>\n",
       "      <th>HLA-A*30:01</th>\n",
       "      <td>0.893861</td>\n",
       "      <td>0.814516</td>\n",
       "      <td>0.630345</td>\n",
       "      <td>0.808333</td>\n",
       "      <td>0.782258</td>\n",
       "      <td>0.846774</td>\n",
       "      <td>0.836207</td>\n",
       "      <td>0.782258</td>\n",
       "      <td>0.875300</td>\n",
       "      <td>248</td>\n",
       "    </tr>\n",
       "    <tr>\n",
       "      <th>mean</th>\n",
       "      <td>0.984275</td>\n",
       "      <td>0.945532</td>\n",
       "      <td>0.891519</td>\n",
       "      <td>0.945148</td>\n",
       "      <td>0.942043</td>\n",
       "      <td>0.949021</td>\n",
       "      <td>0.948767</td>\n",
       "      <td>0.942043</td>\n",
       "      <td>0.983933</td>\n",
       "      <td>1262</td>\n",
       "    </tr>\n",
       "    <tr>\n",
       "      <th>median</th>\n",
       "      <td>0.987535</td>\n",
       "      <td>0.950000</td>\n",
       "      <td>0.900782</td>\n",
       "      <td>0.951020</td>\n",
       "      <td>0.951872</td>\n",
       "      <td>0.954167</td>\n",
       "      <td>0.953390</td>\n",
       "      <td>0.951872</td>\n",
       "      <td>0.987104</td>\n",
       "      <td>672</td>\n",
       "    </tr>\n",
       "    <tr>\n",
       "      <th>std</th>\n",
       "      <td>0.016480</td>\n",
       "      <td>0.030898</td>\n",
       "      <td>0.061561</td>\n",
       "      <td>0.031744</td>\n",
       "      <td>0.039362</td>\n",
       "      <td>0.029358</td>\n",
       "      <td>0.029905</td>\n",
       "      <td>0.039362</td>\n",
       "      <td>0.017781</td>\n",
       "      <td>1775</td>\n",
       "    </tr>\n",
       "    <tr>\n",
       "      <th>sum</th>\n",
       "      <td>NaN</td>\n",
       "      <td>NaN</td>\n",
       "      <td>NaN</td>\n",
       "      <td>NaN</td>\n",
       "      <td>NaN</td>\n",
       "      <td>NaN</td>\n",
       "      <td>NaN</td>\n",
       "      <td>NaN</td>\n",
       "      <td>NaN</td>\n",
       "      <td>97158</td>\n",
       "    </tr>\n",
       "  </tbody>\n",
       "</table>\n",
       "</div>"
      ],
      "text/plain": [
       "              roc_auc  accuracy       mcc        f1  sensitivity  specificity  \\\n",
       "HLA-B*46:01  0.985868  0.945833  0.891791  0.945378     0.937500     0.954167   \n",
       "HLA-A*02:07  0.987357  0.936644  0.873416  0.936097     0.928082     0.945205   \n",
       "HLA-A*32:01  0.978150  0.917120  0.834242  0.917232     0.918478     0.915761   \n",
       "HLA-A*26:01  0.988455  0.937500  0.876989  0.935323     0.903846     0.971154   \n",
       "HLA-A*33:01  0.987386  0.935096  0.870686  0.936170     0.951923     0.918269   \n",
       "HLA-B*18:01  0.980320  0.948529  0.898615  0.946970     0.919118     0.977941   \n",
       "HLA-A*31:01  0.978880  0.929813  0.860463  0.931328     0.951872     0.907754   \n",
       "HLA-B*50:01  0.992836  0.963235  0.926872  0.962687     0.948529     0.977941   \n",
       "HLA-C*07:02  0.977640  0.936047  0.872152  0.935673     0.930233     0.941860   \n",
       "HLA-C*16:01  0.976374  0.908784  0.817736  0.907850     0.898649     0.918919   \n",
       "HLA-C*07:01  0.965601  0.906746  0.813652  0.907662     0.916667     0.896825   \n",
       "HLA-A*01:01  0.993429  0.962885  0.925774  0.962833     0.961485     0.964286   \n",
       "HLA-C*05:01  0.988987  0.957447  0.915528  0.956640     0.938830     0.976064   \n",
       "HLA-A*24:02  0.987794  0.952555  0.905598  0.953321     0.968978     0.936131   \n",
       "HLA-A*69:01  0.987535  0.947368  0.895047  0.948052     0.960526     0.934211   \n",
       "HLA-B*41:01  0.993056  0.968750  0.937704  0.968421     0.958333     0.979167   \n",
       "HLA-C*01:02  0.972714  0.905769  0.812266  0.903733     0.884615     0.926923   \n",
       "HLA-C*14:02  0.999736  0.985294  0.970775  0.985437     0.995098     0.975490   \n",
       "HLA-B*44:02  0.995200  0.964286  0.928581  0.964204     0.962006     0.966565   \n",
       "HLA-B*13:02  0.993408  0.937500  0.881917  0.933333     0.875000     1.000000   \n",
       "HLA-B*27:01  0.997264  0.978333  0.956800  0.978151     0.970000     0.986667   \n",
       "HLA-B*15:01  0.991086  0.958061  0.916318  0.958491     0.968410     0.947712   \n",
       "HLA-B*35:08  0.987445  0.952703  0.905736  0.952055     0.939189     0.966216   \n",
       "HLA-C*04:01  0.968264  0.902703  0.805829  0.901099     0.886486     0.918919   \n",
       "HLA-B*57:03  0.989083  0.956897  0.913793  0.956897     0.956897     0.956897   \n",
       "HLA-B*54:01  0.977649  0.920673  0.841589  0.919708     0.908654     0.932692   \n",
       "HLA-B*37:01  0.997169  0.980469  0.961055  0.980315     0.972656     0.988281   \n",
       "HLA-A*68:01  0.987188  0.950784  0.901897  0.951440     0.964286     0.937282   \n",
       "HLA-B*58:01  0.981656  0.937500  0.875923  0.936032     0.914557     0.960443   \n",
       "HLA-A*02:02  0.965640  0.908019  0.816039  0.907946     0.907233     0.908805   \n",
       "HLA-C*07:04  0.991800  0.960000  0.920184  0.959596     0.950000     0.970000   \n",
       "HLA-B*45:01  0.978434  0.925872  0.851921  0.925110     0.915698     0.936047   \n",
       "HLA-B*27:03  0.999133  0.986486  0.972973  0.986486     0.986486     0.986486   \n",
       "HLA-C*02:02  0.990014  0.943878  0.888913  0.945274     0.969388     0.918367   \n",
       "HLA-A*02:05  0.987517  0.950000  0.900782  0.951020     0.970833     0.929167   \n",
       "HLA-A*02:17  0.997613  0.963542  0.927134  0.963731     0.968750     0.958333   \n",
       "HLA-B*53:01  0.992700  0.952128  0.904460  0.952632     0.962766     0.941489   \n",
       "HLA-B*39:01  0.994414  0.959375  0.918912  0.958991     0.950000     0.968750   \n",
       "HLA-C*08:02  0.996552  0.977528  0.955192  0.977716     0.985955     0.969101   \n",
       "HLA-C*03:03  0.972586  0.930804  0.861822  0.931567     0.941964     0.919643   \n",
       "HLA-B*27:07  0.999356  0.984940  0.969897  0.984894     0.981928     0.987952   \n",
       "HLA-A*02:06  0.967689  0.915441  0.830905  0.915129     0.911765     0.919118   \n",
       "HLA-B*08:01  0.960248  0.888636  0.780188  0.883610     0.845455     0.931818   \n",
       "HLA-B*35:03  0.991371  0.945513  0.891044  0.945338     0.942308     0.948718   \n",
       "HLA-A*24:06  0.971944  0.941667  0.883456  0.942149     0.950000     0.933333   \n",
       "HLA-A*02:03  0.980163  0.927941  0.856331  0.929088     0.944118     0.911765   \n",
       "HLA-B*57:01  0.985080  0.941701  0.884269  0.940380     0.919552     0.963849   \n",
       "HLA-B*56:01  0.988760  0.973214  0.946580  0.973451     0.982143     0.964286   \n",
       "HLA-C*03:04  0.995385  0.961538  0.924418  0.962547     0.988462     0.934615   \n",
       "HLA-B*44:27  0.998967  0.988636  0.977525  0.988764     1.000000     0.977273   \n",
       "HLA-A*23:01  0.994808  0.962766  0.925584  0.962567     0.957447     0.968085   \n",
       "HLA-A*02:04  0.993598  0.968750  0.937500  0.968750     0.968750     0.968750   \n",
       "HLA-B*14:02  0.990537  0.967742  0.935606  0.968000     0.975806     0.959677   \n",
       "HLA-A*68:02  0.963000  0.904959  0.810028  0.904167     0.896694     0.913223   \n",
       "HLA-B*40:02  0.994389  0.967672  0.935373  0.967547     0.963793     0.971552   \n",
       "HLA-B*40:01  0.994897  0.977083  0.954190  0.977163     0.980556     0.973611   \n",
       "HLA-B*27:09  0.982358  0.937500  0.875905  0.936047     0.914773     0.960227   \n",
       "HLA-A*11:01  0.987482  0.950798  0.901718  0.951200     0.959043     0.942553   \n",
       "HLA-B*07:02  0.992486  0.960864  0.921735  0.960796     0.959112     0.962617   \n",
       "HLA-A*03:01  0.987008  0.950882  0.901821  0.951158     0.956549     0.945214   \n",
       "HLA-B*35:01  0.984938  0.942265  0.884877  0.943062     0.956278     0.928251   \n",
       "HLA-B*44:03  0.995653  0.974656  0.949313  0.974667     0.975086     0.974227   \n",
       "HLA-C*06:02  0.975669  0.926282  0.853195  0.927673     0.945513     0.907051   \n",
       "HLA-B*27:06  0.995313  0.975000  0.950074  0.974843     0.968750     0.981250   \n",
       "HLA-A*29:02  0.982052  0.943240  0.886486  0.943131     0.941327     0.945153   \n",
       "HLA-B*49:01  0.996492  0.973529  0.947124  0.973373     0.967647     0.979412   \n",
       "HLA-B*51:01  0.985006  0.932692  0.865904  0.931507     0.915385     0.950000   \n",
       "HLA-A*02:01  0.970741  0.911157  0.822732  0.909718     0.895218     0.927096   \n",
       "HLA-B*27:05  0.914094  0.830758  0.662511  0.825993     0.803371     0.858146   \n",
       "HLA-B*27:04  0.997397  0.984043  0.968140  0.983957     0.978723     0.989362   \n",
       "HLA-A*30:02  0.980678  0.948661  0.897402  0.948315     0.941964     0.955357   \n",
       "HLA-B*27:08  0.994916  0.968750  0.937836  0.968326     0.955357     0.982143   \n",
       "HLA-B*27:02  0.996103  0.982639  0.965301  0.982699     0.986111     0.979167   \n",
       "HLA-A*30:01  0.893861  0.814516  0.630345  0.808333     0.782258     0.846774   \n",
       "mean         0.984275  0.945532  0.891519  0.945148     0.942043     0.949021   \n",
       "median       0.987535  0.950000  0.900782  0.951020     0.951872     0.954167   \n",
       "std          0.016480  0.030898  0.061561  0.031744     0.039362     0.029358   \n",
       "sum               NaN       NaN       NaN       NaN          NaN          NaN   \n",
       "\n",
       "             precision    recall      aupr    num  \n",
       "HLA-B*46:01   0.953390  0.937500  0.986822    480  \n",
       "HLA-A*02:07   0.944251  0.928082  0.988597    584  \n",
       "HLA-A*32:01   0.915989  0.918478  0.980591    736  \n",
       "HLA-A*26:01   0.969072  0.903846  0.984960    416  \n",
       "HLA-A*33:01   0.920930  0.951923  0.987276    832  \n",
       "HLA-B*18:01   0.976562  0.919118  0.985270    272  \n",
       "HLA-A*31:01   0.911652  0.951872  0.975219   1496  \n",
       "HLA-B*50:01   0.977273  0.948529  0.991865    272  \n",
       "HLA-C*07:02   0.941176  0.930233  0.973576    344  \n",
       "HLA-C*16:01   0.917241  0.898649  0.975128    296  \n",
       "HLA-C*07:01   0.898833  0.916667  0.961480    504  \n",
       "HLA-A*01:01   0.964185  0.961485  0.993203   2856  \n",
       "HLA-C*05:01   0.975138  0.938830  0.991091    752  \n",
       "HLA-A*24:02   0.938163  0.968978  0.986480   2192  \n",
       "HLA-A*69:01   0.935897  0.960526  0.986803    152  \n",
       "HLA-B*41:01   0.978723  0.958333  0.994260     96  \n",
       "HLA-C*01:02   0.923695  0.884615  0.969965    520  \n",
       "HLA-C*14:02   0.975962  0.995098  0.999741    408  \n",
       "HLA-B*44:02   0.966412  0.962006  0.995333   2632  \n",
       "HLA-B*13:02   1.000000  0.875000  0.993778    128  \n",
       "HLA-B*27:01   0.986441  0.970000  0.996887   1200  \n",
       "HLA-B*15:01   0.948773  0.968410  0.990769   3672  \n",
       "HLA-B*35:08   0.965278  0.939189  0.990744    296  \n",
       "HLA-C*04:01   0.916201  0.886486  0.973311   1480  \n",
       "HLA-B*57:03   0.956897  0.956897  0.990038   1392  \n",
       "HLA-B*54:01   0.931034  0.908654  0.977666    416  \n",
       "HLA-B*37:01   0.988095  0.972656  0.997032    512  \n",
       "HLA-A*68:01   0.938931  0.964286  0.985269   2296  \n",
       "HLA-B*58:01   0.958541  0.914557  0.983665   1264  \n",
       "HLA-A*02:02   0.908661  0.907233  0.957260   1272  \n",
       "HLA-C*07:04   0.969388  0.950000  0.991546    200  \n",
       "HLA-B*45:01   0.934718  0.915698  0.979024    688  \n",
       "HLA-B*27:03   0.986486  0.986486  0.999189    296  \n",
       "HLA-C*02:02   0.922330  0.969388  0.989401    784  \n",
       "HLA-A*02:05   0.932000  0.970833  0.986749    480  \n",
       "HLA-A*02:17   0.958763  0.968750  0.997724    192  \n",
       "HLA-B*53:01   0.942708  0.962766  0.993152    376  \n",
       "HLA-B*39:01   0.968153  0.950000  0.994621    320  \n",
       "HLA-C*08:02   0.969613  0.985955  0.996538    712  \n",
       "HLA-C*03:03   0.921397  0.941964  0.972140    448  \n",
       "HLA-B*27:07   0.987879  0.981928  0.999358    664  \n",
       "HLA-A*02:06   0.918519  0.911765  0.959776   1360  \n",
       "HLA-B*08:01   0.925373  0.845455  0.959939    440  \n",
       "HLA-B*35:03   0.948387  0.942308  0.991297    312  \n",
       "HLA-A*24:06   0.934426  0.950000  0.978565    120  \n",
       "HLA-A*02:03   0.914530  0.944118  0.977845   2040  \n",
       "HLA-B*57:01   0.962174  0.919552  0.987104   3928  \n",
       "HLA-B*56:01   0.964912  0.982143  0.986933    224  \n",
       "HLA-C*03:04   0.937956  0.988462  0.995556    520  \n",
       "HLA-B*44:27   0.977778  1.000000  0.998967     88  \n",
       "HLA-A*23:01   0.967742  0.957447  0.994810    752  \n",
       "HLA-A*02:04   0.968750  0.968750  0.993950    192  \n",
       "HLA-B*14:02   0.960317  0.975806  0.989205    248  \n",
       "HLA-A*68:02   0.911765  0.896694  0.963140   1936  \n",
       "HLA-B*40:02   0.971329  0.963793  0.994329   2320  \n",
       "HLA-B*40:01   0.973793  0.980556  0.993291   1440  \n",
       "HLA-B*27:09   0.958333  0.914773  0.985193   1408  \n",
       "HLA-A*11:01   0.943485  0.959043  0.986114   3760  \n",
       "HLA-B*07:02   0.962485  0.959112  0.992440   3424  \n",
       "HLA-A*03:01   0.945828  0.956549  0.984262   3176  \n",
       "HLA-B*35:01   0.930207  0.956278  0.985728   1784  \n",
       "HLA-B*44:03   0.974249  0.975086  0.995446   2328  \n",
       "HLA-C*06:02   0.910494  0.945513  0.977611    624  \n",
       "HLA-B*27:06   0.981013  0.968750  0.995343    320  \n",
       "HLA-A*29:02   0.944942  0.941327  0.984492   1568  \n",
       "HLA-B*49:01   0.979167  0.967647  0.996568    680  \n",
       "HLA-B*51:01   0.948207  0.915385  0.985584   1040  \n",
       "HLA-A*02:01   0.924695  0.895218  0.968966   6776  \n",
       "HLA-B*27:05   0.849926  0.803371  0.923166  12816  \n",
       "HLA-B*27:04   0.989247  0.978723  0.997743    376  \n",
       "HLA-A*30:02   0.954751  0.941964  0.978424    448  \n",
       "HLA-B*27:08   0.981651  0.955357  0.994586    672  \n",
       "HLA-B*27:02   0.979310  0.986111  0.995840   1152  \n",
       "HLA-A*30:01   0.836207  0.782258  0.875300    248  \n",
       "mean          0.948767  0.942043  0.983933   1262  \n",
       "median        0.953390  0.951872  0.987104    672  \n",
       "std           0.029905  0.039362  0.017781   1775  \n",
       "sum                NaN       NaN       NaN  97158  "
      ]
     },
     "execution_count": 148,
     "metadata": {},
     "output_type": "execute_result"
    }
   ],
   "source": [
    "train_metrics_length_hla_dict[10]"
   ]
  },
  {
   "cell_type": "markdown",
   "metadata": {},
   "source": [
    "##### 保存"
   ]
  },
  {
   "cell_type": "code",
   "execution_count": 150,
   "metadata": {
    "collapsed": true
   },
   "outputs": [],
   "source": [
    "metrics_data_length_hla_pd_dict = {}\n",
    "metrics_data_length_hla_pd_dict['train'] = train_metrics_length_hla_dict\n",
    "metrics_data_length_hla_pd_dict['val'] = val_metrics_length_hla_dict\n",
    "metrics_data_length_hla_pd_dict['independent'] = independent_metrics_length_hla_dict\n",
    "metrics_data_length_hla_pd_dict['external'] = external_metrics_length_hla_dict\n",
    "np.save('./results/pHLAIformer_metrics_length_hla_pd_dict.npy', metrics_data_length_hla_pd_dict)"
   ]
  },
  {
   "cell_type": "code",
   "execution_count": 151,
   "metadata": {},
   "outputs": [
    {
     "data": {
      "text/html": [
       "<div>\n",
       "<style scoped>\n",
       "    .dataframe tbody tr th:only-of-type {\n",
       "        vertical-align: middle;\n",
       "    }\n",
       "\n",
       "    .dataframe tbody tr th {\n",
       "        vertical-align: top;\n",
       "    }\n",
       "\n",
       "    .dataframe thead th {\n",
       "        text-align: right;\n",
       "    }\n",
       "</style>\n",
       "<table border=\"1\" class=\"dataframe\">\n",
       "  <thead>\n",
       "    <tr style=\"text-align: right;\">\n",
       "      <th></th>\n",
       "      <th>roc_auc</th>\n",
       "      <th>accuracy</th>\n",
       "      <th>mcc</th>\n",
       "      <th>f1</th>\n",
       "      <th>sensitivity</th>\n",
       "      <th>specificity</th>\n",
       "      <th>precision</th>\n",
       "      <th>recall</th>\n",
       "      <th>aupr</th>\n",
       "    </tr>\n",
       "  </thead>\n",
       "  <tbody>\n",
       "    <tr>\n",
       "      <th>0</th>\n",
       "      <td>0.950488</td>\n",
       "      <td>0.878429</td>\n",
       "      <td>0.765103</td>\n",
       "      <td>0.868986</td>\n",
       "      <td>0.805556</td>\n",
       "      <td>0.951447</td>\n",
       "      <td>0.943259</td>\n",
       "      <td>0.805556</td>\n",
       "      <td>0.955213</td>\n",
       "    </tr>\n",
       "  </tbody>\n",
       "</table>\n",
       "</div>"
      ],
      "text/plain": [
       "    roc_auc  accuracy       mcc        f1  sensitivity  specificity  \\\n",
       "0  0.950488  0.878429  0.765103  0.868986     0.805556     0.951447   \n",
       "\n",
       "   precision    recall      aupr  \n",
       "0   0.943259  0.805556  0.955213  "
      ]
     },
     "execution_count": 151,
     "metadata": {},
     "output_type": "execute_result"
    }
   ],
   "source": [
    "np.load('./results/pHLAIformer_metrics_length_hla_pd_dict.npy', allow_pickle = True).item()['external']['all']"
   ]
  },
  {
   "cell_type": "code",
   "execution_count": null,
   "metadata": {
    "collapsed": true
   },
   "outputs": [],
   "source": []
  }
 ],
 "metadata": {
  "kernelspec": {
   "display_name": "torch_gpu",
   "language": "python",
   "name": "torch_gpu"
  },
  "language_info": {
   "codemirror_mode": {
    "name": "ipython",
    "version": 3
   },
   "file_extension": ".py",
   "mimetype": "text/x-python",
   "name": "python",
   "nbconvert_exporter": "python",
   "pygments_lexer": "ipython3",
   "version": "3.7.8"
  }
 },
 "nbformat": 4,
 "nbformat_minor": 2
}
